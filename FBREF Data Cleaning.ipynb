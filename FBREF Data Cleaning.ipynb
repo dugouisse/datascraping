{
 "cells": [
  {
   "cell_type": "code",
   "execution_count": null,
   "metadata": {},
   "outputs": [],
   "source": [
    "import pandas as pd\n",
    "#import data\n",
    "fbref = pd.read_csv(\"Desktop/fbref.csv\")\n",
    "#fix header\n",
    "newHeader = fbref.iloc[0]\n",
    "fbref = fbref[1:]\n",
    "fbref.columns = newHeader\n",
    "# fix player names\n",
    "fbref[\"Player\"] = fbref['Player'].str.split(\"\\\\\").str[0]\n",
    "# fix nation names\n",
    "fbref[\"Nation\"] = fbref['Nation'].str.split(\" \").str[1]\n",
    "# fixed file back to desktop\n",
    "fbref.to_csv(\"Desktop/clean_fbref.csv\")"
   ]
  }
 ],
 "metadata": {
  "kernelspec": {
   "display_name": "Python 3",
   "language": "python",
   "name": "python3"
  },
  "language_info": {
   "codemirror_mode": {
    "name": "ipython",
    "version": 3
   },
   "file_extension": ".py",
   "mimetype": "text/x-python",
   "name": "python",
   "nbconvert_exporter": "python",
   "pygments_lexer": "ipython3",
   "version": "3.7.3"
  }
 },
 "nbformat": 4,
 "nbformat_minor": 2
}
