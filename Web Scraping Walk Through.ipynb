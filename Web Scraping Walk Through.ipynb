{
 "cells": [
  {
   "cell_type": "markdown",
   "metadata": {
    "slideshow": {
     "slide_type": "slide"
    }
   },
   "source": [
    "<center> <img src=\"https://github.ccs.neu.edu/caglar/DS3000/blob/master/img/ds3000.png?raw=true\"> </center>"
   ]
  },
  {
   "cell_type": "markdown",
   "metadata": {},
   "source": []
  },
  {
   "cell_type": "markdown",
   "metadata": {
    "slideshow": {
     "slide_type": "skip"
    }
   },
   "source": []
  },
  {
   "cell_type": "markdown",
   "metadata": {
    "slideshow": {
     "slide_type": "skip"
    }
   },
   "source": [
    "## Outline\n",
    "1. <a href='#1'>Reading Web Resources from URLs</a>\n",
    "2. <a href='#2'>Web Scraping using BeautifulSoup</a>\n",
    "3. <a href='#3'>Scraping Specific Tags from Webpages</a>\n",
    "4. <a href='#4'>Scraping Web Pages by Tags and Attributes</a>\n",
    "5. <a href='#5'>Scraping Child Tags under a Parent Tag</a>\n",
    "6. <a href='#6'>Storing the Scraped Data</a>\n",
    "7. <a href='#7'>Web Crawling</a>\n",
    "8. <a href='#8'>More on Web Scraping</a>\n"
   ]
  },
  {
   "cell_type": "markdown",
   "metadata": {},
   "source": [
    "## Web Scraping\n",
    "* Using programs or scripts to pretend to browse websites, examine the content on those websites, retrieve and extract data from those websites\n",
    "* Also called web spidering, web crawling, web harvesting, or web data extraction"
   ]
  },
  {
   "cell_type": "markdown",
   "metadata": {
    "slideshow": {
     "slide_type": "subslide"
    }
   },
   "source": [
    "## Why Scrape?\n",
    "* Pull your dataset from a website when your data is not readily available\n",
    "* Extract different pieces of information from online resources when working with non-traditional datasets (e.g., social media posts)"
   ]
  },
  {
   "cell_type": "markdown",
   "metadata": {
    "slideshow": {
     "slide_type": "skip"
    }
   },
   "source": []
  },
  {
   "cell_type": "markdown",
   "metadata": {
    "slideshow": {
     "slide_type": "skip"
    }
   },
   "source": [
    "<a id=\"1\"></a>"
   ]
  },
  {
   "cell_type": "markdown",
   "metadata": {
    "slideshow": {
     "slide_type": "slide"
    }
   },
   "source": [
    "## 1. Reading Web Resources from URLs\n",
    "* **`urllib`** module allows you to read data from URLs\n",
    "Open the URL url, which can be either a string "
   ]
  },
  {
   "cell_type": "code",
   "execution_count": 1,
   "metadata": {},
   "outputs": [
    {
     "name": "stdout",
     "output_type": "stream",
     "text": [
      "b'<!DOCTYPE html>\\n<!--[if (lte IE 9) ]><html lang=\"en\" class=\"no-js oldie\"><![endif]-->\\n<!--[if (gt IE 9)|!(IE)]><!--><html lang=\"en\" class=\"no-js\"><!--<![endif]-->\\n<head>\\n\\t<meta http-equiv=\"X-UA-Compatible\" content=\"IE=edge\">\\n\\t<meta name=\"viewport\" content=\"width=device-width, initial-scale=1\">\\n\\t<script src=\"https://www.khoury.northeastern.edu/wp-content/themes/ccis_theme/lib/modernizr.min.js\"></script>\\n\\t<link rel=\"shortcut icon\" href=\"https://www.khoury.northeastern.edu/wp-content/themes/ccis_theme/img/favicon.ico\" type=\"image/x-icon\" />\\n\\t<meta name=\"apple-mobile-web-app-title\" content=\"NU Khoury\">\\n\\t<link rel=\"apple-touch-icon\" href=\"https://www.khoury.northeastern.edu/wp-content/themes/ccis_theme/img/touchicon.png\" />\\n\\t<link rel=\"apple-touch-icon-precomposed\" href=\"https://www.khoury.northeastern.edu/wp-content/themes/ccis_theme/img/touchicon.png\" />\\n\\t<link rel=\"apple-touch-icon\" sizes=\"180x180\" href=\"https://www.khoury.northeastern.edu/wp-content/themes/ccis_theme/img/touchicon-180.png\" />\\n\\n\\t<link href=\"https://fast.fonts.com/cssapi/cac43e8c-6965-44df-b8ca-9784607a3b53.css\" rel=\"stylesheet\" type=\"text/css\"/>\\n\\t<link rel=\"stylesheet\" type=\"text/css\" media=\"all\" href=\"https://www.khoury.northeastern.edu/wp-content/themes/ccis_theme/prod/prod.min.css\" />\\n\\t<link rel=\"stylesheet\" type=\"text/css\" media=\"all\" href=\"https://www.khoury.northeastern.edu/wp-content/themes/ccis_theme/lib/ccis.css\" />\\n\\t\\n<!-- NU Google Tag Manager -->\\r\\n<script>(function(w,d,s,l,i){w[l]=w[l]||[];w[l].push({\\'gtm.start\\':\\r\\nnew Date().getTime(),event:\\'gtm.js\\'});var f=d.getElementsByTagName(s)[0],\\r\\nj=d.createElement(s),dl=l!=\\'dataLayer\\'?\\'&l=\\'+l:\\'\\';j.async=true;j.src=\\r\\n\\'https://www.googletagmanager.com/gtm.js?id=\\'+i+dl;f.parentNode.insertBefore(j,f);\\r\\n})(window,document,\\'script\\',\\'dataLayer\\',\\'GTM-WGQLLJ\\');</script>\\r\\n<!-- End Google Tag Manager -->\\r\\n<!-- Khoury Google Tag Manager -->\\r\\n<script>(function(w,d,s,l,i){w[l]=w[l]||[];w[l].push({\\'gtm.start\\':\\r\\nnew Date().getTime(),event:\\'gtm.js\\'});var f=d.getElementsByTagName(s)[0],\\r\\nj=d.createElement(s),dl=l!=\\'dataLayer\\'?\\'&l=\\'+l:\\'\\';j.async=true;j.src=\\r\\n\\'https://www.googletagmanager.com/gtm.js?id=\\'+i+dl;f.parentNode.insertBefore(j,f);\\r\\n})(window,document,\\'script\\',\\'dataLayer\\',\\'GTM-KN6KMJB\\');</script>\\r\\n<!-- End Google Tag Manager -->\\r\\n<!-- Google CSE code -->\\r\\n<script>\\r\\n(function() {\\r\\nvar cx = \\'004538069614616277034:sltf9o73gg0\\';\\r\\nvar gcse = document.createElement(\\'script\\');\\r\\ngcse.type = \\'text/javascript\\';\\r\\ngcse.async = true;\\r\\ngcse.src = \\'https://cse.google.com/cse.js?cx=\\' + cx;\\r\\nvar s = document.getElementsByTagName(\\'script\\')[0];\\r\\ns.parentNode.insertBefore(gcse, s);\\r\\n})();\\r\\n</script>\\r\\n<script type=\"text/javascript\" src=\"https://www.khoury.northeastern.edu/wp-content/themes/ccis_theme/lib/google-cse.js\"></script>\\n<!-- begin wp_head -->\\n<title>Tenured and Tenure Track Faculty | Khoury College of Computer Sciences</title>\\n\\n<!-- All in One SEO Pack 3.2.10 by Michael Torbert of Semper Fi Web Design[2787,2870] -->\\n<link rel=\"next\" href=\"https://www.khoury.northeastern.edu/role/tenured-and-tenure-track-faculty/page/2/\" />\\n\\n<script type=\"application/ld+json\" class=\"aioseop-schema\">{}</script>\\n<link rel=\"canonical\" href=\"https://www.khoury.northeastern.edu/role/tenured-and-tenure-track-faculty/\" />\\n<!-- All in One SEO Pack -->\\n<link rel=\\'dns-prefetch\\' href=\\'//s.w.org\\' />\\n<link rel=\\'stylesheet\\' id=\\'tribe-reset-style-css\\'  href=\\'https://www.khoury.northeastern.edu/wp-content/plugins/the-events-calendar/common/src/resources/css/reset.min.css?ver=4.9.16\\' type=\\'text/css\\' media=\\'all\\' />\\n<link rel=\\'stylesheet\\' id=\\'tribe-common-style-css\\'  href=\\'https://www.khoury.northeastern.edu/wp-content/plugins/the-events-calendar/common/src/resources/css/common.min.css?ver=4.9.16\\' type=\\'text/css\\' media=\\'all\\' />\\n<link rel=\\'stylesheet\\' id=\\'tribe-tooltip-css-css\\'  href=\\'https://www.khoury.northeastern.edu/wp-content/plugins/the-events-calendar/common/src/resources/css/tooltip.min.css?ver=4.9.16\\' type=\\'text/css\\' media=\\'all\\' />\\n<link rel=\\'stylesheet\\' id=\\'wp-block-library-css\\'  href=\\'https://www.khoury.northeastern.edu/wp-includes/css/dist/block-library/style.min.css?ver=5.2.4\\' type=\\'text/css\\' media=\\'all\\' />\\n<script type=\\'text/javascript\\' src=\\'https://www.khoury.northeastern.edu/wp-includes/js/jquery/jquery.js?ver=1.12.4-wp\\'></script>\\n<script type=\\'text/javascript\\' src=\\'https://www.khoury.northeastern.edu/wp-includes/js/jquery/jquery-migrate.min.js?ver=1.4.1\\'></script>\\n<link rel=\\'https://api.w.org/\\' href=\\'https://www.khoury.northeastern.edu/wp-json/\\' />\\n<link rel=\"EditURI\" type=\"application/rsd+xml\" title=\"RSD\" href=\"https://www.khoury.northeastern.edu/xmlrpc.php?rsd\" />\\n<link rel=\"wlwmanifest\" type=\"application/wlwmanifest+xml\" href=\"https://www.khoury.northeastern.edu/wp-includes/wlwmanifest.xml\" /> \\n<meta name=\"generator\" content=\"WordPress 5.2.4\" />\\n<meta name=\"tec-api-version\" content=\"v1\"><meta name=\"tec-api-origin\" content=\"https://www.khoury.northeastern.edu\"><link rel=\"https://theeventscalendar.com/\" href=\"https://www.khoury.northeastern.edu/wp-json/tribe/events/v1/\" /><!-- end wp_head -->\\n\\n</head>\\n\\n\\n\\n<body class=\"archive tax-role term-tenured-and-tenure-track-faculty term-23 tribe-no-js\">\\n<!-- NU Google Tag Manager (noscript) -->\\r\\n<noscript><iframe src=\"https://www.googletagmanager.com/ns.html?id=GTM-WGQLLJ\" height=\"0\" width=\"0\" style=\"display:none;visibility:hidden\"></iframe></noscript>\\r\\n<!-- End Google Tag Manager (noscript) -->\\r\\n<!-- Khoury Google Tag Manager (noscript) -->\\r\\n<noscript><iframe src=\"https://www.googletagmanager.com/ns.html?id=GTM-KN6KMJB\" height=\"0\" width=\"0\" style=\"display:none;visibility:hidden\"></iframe></noscript>\\r\\n<!-- End Google Tag Manager (noscript) -->\\t<a id=\"top\" class=\"sr-only\" href=\"#main-content\">Skip to main content</a>\\n\\n\\t<header id=\"site-header\" role=\"banner\">\\n\\n\\t\\t<div id=\"contact-region\">\\n\\t\\t\\t<div class=\"container\">\\n\\t\\t\\t\\t<div class=\"contact-contents expanded\">\\n\\n\\t\\t\\t\\t\\t\\n\\t\\t\\t\\t\\t<div class=\"contact-col\">\\n\\t\\t\\t\\t\\t\\t<h4>Main</h4>\\r\\n<a href=\"mailto:khoury@northeastern.edu\">khoury@northeastern.edu</a>\\r\\n<a href=\"tel:6173732462\">617.373.2462</a>\\r\\n<a href=\"http://www.northeastern.edu/nupd/campus-safety/\">Campus Safety</a>\\r\\n<a href=\"https://www.northeastern.edu/campusmap/map/index.html\">Campus Map</a>\\t\\t\\t\\t\\t</div>\\n\\n\\t\\t\\t\\t\\t<div class=\"contact-col\">\\n\\t\\t\\t\\t\\t\\t<h4>Undergraduate</h4>\\r\\n<a href=\"tel:6173736519\">617.373.6519</a>\\r\\n<a href=\"mailto:admissions@northeastern.edu\">admissions@northeastern.edu</a>\\r\\n<a href=\"mailto:khoury-advising@northeastern.edu\">khoury-advising@northeastern.edu</a>\\t\\t\\t\\t\\t</div>\\n\\n\\t\\t\\t\\t\\t<div class=\"contact-col\">\\n\\t\\t\\t\\t\\t\\t<h4>Graduate</h4>\\r\\n<a href=\"tel:6173738613\">617.373.5545</a>\\r\\n<a href=\"mailto:khoury-gradschool@northeastern.edu\">khoury-gradschool@northeastern.edu</a>\\t\\t\\t\\t\\t</div>\\n\\n\\t\\t\\t\\t\\t\\n\\t\\t\\t\\t\\t<nav id=\"menu-contact-header\" class=\"contact-col\">\\n\\t\\t\\t\\t\\t\\t<ul id=\"menu-contact-menu\" class=\"menu menu-contact menu-vertical\"><li id=\"menu-item-3010\" class=\"menu-item menu-item-type-custom menu-item-object-custom menu-item-has-children menu-item-3010\"><a rel=\"nofollow\" href=\"#\">Contact &#8211; Parent</a>\\n<ul class=\"sub-menu\">\\n\\t<li id=\"menu-item-4598\" class=\"menu-item menu-item-type-post_type menu-item-object-page menu-item-4598\"><a href=\"https://www.khoury.northeastern.edu/directions-and-parking/\">Directions &#038; Parking</a></li>\\n\\t<li id=\"menu-item-2530\" class=\"menu-item menu-item-type-post_type menu-item-object-page menu-item-2530\"><a href=\"https://www.khoury.northeastern.edu/facilities/\">Facilities</a></li>\\n\\t<li id=\"menu-item-5831\" class=\"menu-item menu-item-type-post_type menu-item-object-page menu-item-has-children menu-item-5831\"><a href=\"https://www.khoury.northeastern.edu/systems/\">Systems</a></li>\\n\\t<li id=\"menu-item-4627\" class=\"menu-item menu-item-type-post_type menu-item-object-page menu-item-has-children menu-item-4627\"><a href=\"https://www.khoury.northeastern.edu/about/\">About</a></li>\\n\\t<li id=\"menu-item-6161\" class=\"menu-item menu-item-type-custom menu-item-object-custom menu-item-6161\"><a href=\"https://www.ccis.northeastern.edu/events/\">Events</a></li>\\n\\t<li id=\"menu-item-4629\" class=\"menu-item menu-item-type-post_type menu-item-object-page current_page_parent menu-item-4629\"><a href=\"https://www.khoury.northeastern.edu/news/\">News</a></li>\\n</ul>\\n</li>\\n</ul>\\t\\t\\t\\t\\t</nav>\\n\\t\\t\\t\\t</div>\\n\\t\\t\\t</div>\\n\\t\\t</div>\\n\\n\\t\\t<div class=\"container\">\\n\\n\\t\\t\\t<div id=\"utilities-region\">\\n\\t\\t\\t\\t<div id=\"utilities\">\\n\\t\\t\\t\\t\\t<nav id=\"menu-utility\">\\n\\t\\t\\t\\t\\t\\t<ul id=\"menu-utility-menu\" class=\"menu menu-utility menu-horizontal\"><li id=\"menu-item-2766\" class=\"menu-item menu-item-type-custom menu-item-object-custom menu-item-has-children menu-item-2766\"><a rel=\"nofollow\" href=\"#\">Utility &#8211; Parent</a>\\n<ul class=\"sub-menu\">\\n\\t<li id=\"menu-item-2294\" class=\"menu-item menu-item-type-post_type menu-item-object-page menu-item-2294\"><a href=\"https://www.khoury.northeastern.edu/open-positions/\">We\\xe2\\x80\\x99re hiring</a></li>\\n\\t<li id=\"menu-item-13723\" class=\"menu-item menu-item-type-custom menu-item-object-custom menu-item-13723\"><a href=\"https://www.khoury.northeastern.edu/current-students/\">Current Students</a></li>\\n\\t<li id=\"menu-item-403\" class=\"menu-item menu-item-type-post_type menu-item-object-page menu-item-403\"><a href=\"https://www.khoury.northeastern.edu/industry/\">Industry</a></li>\\n\\t<li id=\"menu-item-7849\" class=\"menu-item menu-item-type-post_type menu-item-object-page menu-item-7849\"><a href=\"https://www.khoury.northeastern.edu/diversity/\">Diversity</a></li>\\n\\t<li id=\"menu-item-402\" class=\"toggle menu-item menu-item-type-post_type menu-item-object-page menu-item-402\"><a href=\"https://www.khoury.northeastern.edu/contact/\">Contact</a></li>\\n</ul>\\n</li>\\n</ul>\\t\\t\\t\\t\\t</nav>\\n\\t\\t\\t\\t\\t<form role=\"search\" id=\"searchform-q\" onsubmit=\"return submitQuery()\">\\n    <label class=\"screen-reader-text\" for=\"q\"></label>\\n    <input type=\"text\" placeholder=\"Search\" value=\"\" name=\"q\" id=\"q\" />\\n    <button type=\"submit\" id=\"searchsubmit\" value=\"Search\"></button>\\n</form>\\n<noscript>\\n    <form role=\"search\" method=\"get\" id=\"searchform\" action=\"https://www.khoury.northeastern.edu/\">\\n        <label class=\"screen-reader-text\" for=\"s\"></label>\\n        <input type=\"text\" placeholder=\"Search\" value=\"\" name=\"s\" id=\"s\" />\\n\\t<button type=\"submit\" id=\"searchsubmit\" value=\"Search\"></button>\\n    </form>\\n</noscript>\\n\\t\\t\\t\\t</div>\\n\\t\\t\\t</div><!-- /#utilities-region -->\\n\\n\\t\\t\\t<div id=\"branding-region\">\\n\\n\\t\\t\\t\\t<h1 id=\"site-logo\">\\n\\t\\t\\t\\t\\t<a href=\"https://www.khoury.northeastern.edu\">\\n\\t\\t\\t\\t\\t\\t<span>Khoury College of Computer Sciences</span>\\n\\t\\t\\t\\t\\t\\t<!-- main Khoury logo -->\\n\\t\\t\\t\\t\\t\\t<img src=\"/wp-content/uploads/2019/02/nu-khoury-lockup.png\" alt=\"college lockup\" />\\n\\t\\t\\t\\t\\t</a>\\n\\t\\t\\t\\t</h1>\\n\\t\\t\\t</div><!-- /#branding-region -->\\n\\n\\n\\t\\t\\t<nav role=\"navigation\" id=\"menu-primary\">\\n\\t\\t\\t\\t<!-- main nav here -->\\n\\t\\t\\t\\t<ul class=\"menu menu-primary menu-horizontal\">\\n\\t\\t\\t\\t\\t\\t\\t\\t\\t\\t<li class=\"bucket\">\\n\\t\\t\\t\\t\\t\\t<a class=\"toggle\" href=\"#menu-academics\">Academics</a><div class=\"expanded\"><div class=\"menu-description\"><p><strong>Computer science for everyone</strong><br />\\nNow more than ever, computer science is everywhere. Our innovative, interdisciplinary programs deliver the knowledge and perspective you need to succeed in a highly demanding job market.</p>\\n</div><ul id=\"menu-academics\" class=\"submenu menu-vertical\"><li id=\"menu-item-2222\" class=\"menu-item menu-item-type-post_type menu-item-object-page menu-item-has-children menu-item-2222\"><a rel=\"nofollow\" href=\"https://www.khoury.northeastern.edu/academics/\">Academics \\xe2\\x80\\x93 FLYOUT</a>\\n<ul class=\"sub-menu\">\\n\\t<li id=\"menu-item-980\" class=\"menu-item menu-item-type-post_type menu-item-object-page menu-item-has-children menu-item-980\"><a href=\"https://www.khoury.northeastern.edu/academics/undergraduate/\">Undergraduate</a></li>\\n\\t<li id=\"menu-item-978\" class=\"menu-item menu-item-type-post_type menu-item-object-page menu-item-has-children menu-item-978\"><a href=\"https://www.khoury.northeastern.edu/academics/masters/\">Masters</a></li>\\n\\t<li id=\"menu-item-979\" class=\"menu-item menu-item-type-post_type menu-item-object-page menu-item-has-children menu-item-979\"><a href=\"https://www.khoury.northeastern.edu/academics/phd/\">PhD</a></li>\\n\\t<li id=\"menu-item-973\" class=\"menu-item menu-item-type-post_type menu-item-object-page menu-item-has-children menu-item-973\"><a href=\"https://www.khoury.northeastern.edu/academics/certificate/\">Certificate</a></li>\\n\\t<li id=\"menu-item-3266\" class=\"menu-item menu-item-type-post_type menu-item-object-page menu-item-3266\"><a href=\"https://www.khoury.northeastern.edu/academics/courses/\">Courses</a></li>\\n</ul>\\n</li>\\n</ul></div>\\t\\t\\t\\t\\t</li>\\n\\t\\t\\t\\t\\t\\t\\t\\t\\t\\t\\t<li class=\"bucket\">\\n\\t\\t\\t\\t\\t\\t<a class=\"toggle\" href=\"#menu-research\">Research</a><div class=\"expanded\"><div class=\"menu-description\"><p><strong>Solving today\\xe2\\x80\\x99s challenges</strong><br />\\nBringing together students and faculty across disciplines, the Khoury research community finds impactful solutions to everyday problems.</p>\\n</div><ul id=\"menu-research\" class=\"submenu menu-vertical\"><li id=\"menu-item-2307\" class=\"menu-item menu-item-type-post_type menu-item-object-page menu-item-has-children menu-item-2307\"><a rel=\"nofollow\" href=\"https://www.khoury.northeastern.edu/research/\">Research</a>\\n<ul class=\"sub-menu\">\\n\\t<li id=\"menu-item-400\" class=\"menu-item menu-item-type-post_type menu-item-object-page menu-item-has-children menu-item-400\"><a href=\"https://www.khoury.northeastern.edu/research/research-areas/\">Research Areas</a></li>\\n\\t<li id=\"menu-item-1192\" class=\"menu-item menu-item-type-post_type menu-item-object-page menu-item-has-children menu-item-1192\"><a href=\"https://www.khoury.northeastern.edu/research/research-projects/\">Research Projects</a></li>\\n\\t<li id=\"menu-item-998\" class=\"menu-item menu-item-type-post_type menu-item-object-page menu-item-998\"><a href=\"https://www.khoury.northeastern.edu/research/labs-groups/\">Labs and Groups</a></li>\\n\\t<li id=\"menu-item-1021\" class=\"menu-item menu-item-type-post_type menu-item-object-page menu-item-1021\"><a href=\"https://www.khoury.northeastern.edu/research/institutes/\">Institutes and Centers</a></li>\\n\\t<li id=\"menu-item-1022\" class=\"menu-item menu-item-type-post_type menu-item-object-page menu-item-1022\"><a href=\"https://www.khoury.northeastern.edu/research/speaker-series/\">Speaker Series</a></li>\\n</ul>\\n</li>\\n</ul></div>\\t\\t\\t\\t\\t</li>\\n\\t\\t\\t\\t\\t\\t\\t\\t\\t\\t\\t<li class=\"bucket\">\\n\\t\\t\\t\\t\\t\\t<a class=\"toggle\" href=\"#menu-coop\">Experiential Learning & Co-op</a><div class=\"expanded\"><div class=\"menu-description\"><p><strong>A real-world education</strong><br />\\nKhoury experiential learning and co-op programs deliver a hands-on education to enhance your studies\\xe2\\x80\\x94and advance your career.</p>\\n</div><ul id=\"menu-experiential-learning-co-op\" class=\"submenu menu-vertical\"><li id=\"menu-item-399\" class=\"menu-item menu-item-type-post_type menu-item-object-page menu-item-has-children menu-item-399\"><a rel=\"nofollow\" href=\"https://www.khoury.northeastern.edu/experiential-learning/\">Experiential Learning &#038; Co-op \\xe2\\x80\\x93 FLYOUT</a>\\n<ul class=\"sub-menu\">\\n\\t<li id=\"menu-item-2256\" class=\"menu-item menu-item-type-post_type menu-item-object-page menu-item-has-children menu-item-2256\"><a href=\"https://www.khoury.northeastern.edu/experiential-learning/undergraduate/\">Undergraduate</a></li>\\n\\t<li id=\"menu-item-2262\" class=\"menu-item menu-item-type-post_type menu-item-object-page menu-item-has-children menu-item-2262\"><a href=\"https://www.khoury.northeastern.edu/experiential-learning/masters/\">Masters</a></li>\\n\\t<li id=\"menu-item-2264\" class=\"menu-item menu-item-type-post_type menu-item-object-page menu-item-2264\"><a href=\"https://www.khoury.northeastern.edu/experiential-learning/phd/\">PhD</a></li>\\n\\t<li id=\"menu-item-2265\" class=\"menu-item menu-item-type-post_type menu-item-object-page menu-item-has-children menu-item-2265\"><a href=\"https://www.khoury.northeastern.edu/experiential-learning/employers/\">Employers</a></li>\\n</ul>\\n</li>\\n</ul></div>\\t\\t\\t\\t\\t</li>\\n\\t\\t\\t\\t\\t\\t\\t\\t\\t\\t\\t<li class=\"bucket current-bucket\">\\n\\t\\t\\t\\t\\t\\t<a class=\"toggle\" href=\"#menu-people\">People</a><div class=\"expanded\"><div class=\"menu-description\"><p><strong>Experienced, engaged, inspiring</strong><br />\\nOur renowned faculty shape minds, spark innovation, and inspire ideas. Our dedicated advisors and coordinators build connections and confidence. Our committed staff provide support every step of the way.</p>\\n</div><ul id=\"menu-people\" class=\"submenu menu-vertical\"><li id=\"menu-item-2282\" class=\"menu-item menu-item-type-post_type menu-item-object-page current-menu-ancestor current-menu-parent current_page_parent current_page_ancestor menu-item-has-children menu-item-2282\"><a rel=\"nofollow\" href=\"https://www.khoury.northeastern.edu/people/\">People</a>\\n<ul class=\"sub-menu\">\\n\\t<li id=\"menu-item-727\" class=\"menu-item menu-item-type-taxonomy menu-item-object-role current-menu-item menu-item-727\"><a href=\"https://www.khoury.northeastern.edu/role/tenured-and-tenure-track-faculty/\" aria-current=\"page\">Tenured and Tenure Track Faculty</a></li>\\n\\t<li id=\"menu-item-8882\" class=\"menu-item menu-item-type-taxonomy menu-item-object-role menu-item-8882\"><a href=\"https://www.khoury.northeastern.edu/role/professors-practice/\">Professors of the Practice</a></li>\\n\\t<li id=\"menu-item-733\" class=\"menu-item menu-item-type-taxonomy menu-item-object-role menu-item-733\"><a href=\"https://www.khoury.northeastern.edu/role/teaching-faculty/\">Teaching Faculty</a></li>\\n\\t<li id=\"menu-item-728\" class=\"menu-item menu-item-type-taxonomy menu-item-object-role menu-item-728\"><a href=\"https://www.khoury.northeastern.edu/role/research-faculty/\">Research Faculty and Staff</a></li>\\n\\t<li id=\"menu-item-5778\" class=\"menu-item menu-item-type-taxonomy menu-item-object-role menu-item-5778\"><a href=\"https://www.khoury.northeastern.edu/role/courtesy-appointments/\">Courtesy Appointments</a></li>\\n\\t<li id=\"menu-item-725\" class=\"menu-item menu-item-type-taxonomy menu-item-object-role menu-item-725\"><a href=\"https://www.khoury.northeastern.edu/role/co-op-and-advising/\">Co-op and Advising</a></li>\\n\\t<li id=\"menu-item-726\" class=\"menu-item menu-item-type-taxonomy menu-item-object-role menu-item-726\"><a href=\"https://www.khoury.northeastern.edu/role/administrative-staff/\">Administrative Staff</a></li>\\n\\t<li id=\"menu-item-729\" class=\"menu-item menu-item-type-taxonomy menu-item-object-role menu-item-729\"><a href=\"https://www.khoury.northeastern.edu/role/systems-staff/\">Systems Staff</a></li>\\n\\t<li id=\"menu-item-730\" class=\"menu-item menu-item-type-taxonomy menu-item-object-role menu-item-730\"><a href=\"https://www.khoury.northeastern.edu/role/post-docs/\">Post Docs</a></li>\\n\\t<li id=\"menu-item-731\" class=\"menu-item menu-item-type-taxonomy menu-item-object-role menu-item-731\"><a href=\"https://www.khoury.northeastern.edu/role/phd-students/\">PhD Students</a></li>\\n\\t<li id=\"menu-item-413\" class=\"menu-item menu-item-type-post_type menu-item-object-page menu-item-413\"><a href=\"https://www.khoury.northeastern.edu/people-view-all/\">View All</a></li>\\n</ul>\\n</li>\\n</ul></div>\\t\\t\\t\\t\\t</li>\\n\\t\\t\\t\\t\\t\\t\\t\\t\\t\\t\\t<li class=\"bucket\">\\n\\t\\t\\t\\t\\t\\t<a class=\"toggle\" href=\"#menu-alumni\">Alumni & Friends</a><div class=\"expanded\"><div class=\"menu-description\"><p><strong>This is your community</strong><br />\\nIt\\xe2\\x80\\x99s time to get involved and give back. Engage and explore. Connect and keep in touch. Your Khoury community welcomes you!  </p>\\n</div><ul id=\"menu-alumni-friends\" class=\"submenu menu-vertical\"><li id=\"menu-item-2281\" class=\"menu-item menu-item-type-post_type menu-item-object-page menu-item-has-children menu-item-2281\"><a rel=\"nofollow\" href=\"https://www.khoury.northeastern.edu/alumni-and-friends/\">Alumni &amp; Friends \\xe2\\x80\\x93 FLYOUT</a>\\n<ul class=\"sub-menu\">\\n\\t<li id=\"menu-item-2283\" class=\"menu-item menu-item-type-post_type menu-item-object-page menu-item-2283\"><a href=\"https://www.khoury.northeastern.edu/alumni-and-friends/welcome-back/\">Welcome Back</a></li>\\n\\t<li id=\"menu-item-1140\" class=\"menu-item menu-item-type-post_type menu-item-object-page menu-item-1140\"><a href=\"https://www.khoury.northeastern.edu/alumni-and-friends/alumni-news-events/\">Alumni News &amp; Events</a></li>\\n\\t<li id=\"menu-item-7062\" class=\"menu-item menu-item-type-post_type menu-item-object-page menu-item-7062\"><a href=\"https://www.khoury.northeastern.edu/alumni-and-friends/class-notes/\">Alumni Class Notes</a></li>\\n\\t<li id=\"menu-item-1145\" class=\"menu-item menu-item-type-post_type menu-item-object-page menu-item-1145\"><a href=\"https://www.khoury.northeastern.edu/alumni-and-friends/parents/\">Parents</a></li>\\n\\t<li id=\"menu-item-1141\" class=\"menu-item menu-item-type-post_type menu-item-object-page menu-item-1141\"><a href=\"https://www.khoury.northeastern.edu/alumni-and-friends/connect/\">Connect</a></li>\\n\\t<li id=\"menu-item-2284\" class=\"menu-item menu-item-type-custom menu-item-object-custom menu-item-2284\"><a href=\"http://www.northeastern.edu/careers/\">Career Services</a></li>\\n\\t<li id=\"menu-item-1142\" class=\"menu-item menu-item-type-post_type menu-item-object-page menu-item-has-children menu-item-1142\"><a href=\"https://www.khoury.northeastern.edu/alumni-and-friends/give/\">Give</a></li>\\n</ul>\\n</li>\\n</ul></div>\\t\\t\\t\\t\\t</li>\\n\\t\\t\\t\\t\\t\\t\\t\\t\\t\\t</ul>\\n\\t\\t\\t</nav>\\n\\n\\n\\t\\t</div> <!-- /.container -->\\n\\n\\t</header>\\n\\t\\t<main class=\"container\" id=\"main-content\">\\n\\t\\t<div class=\"row\">\\n\\t\\t\\t<section id=\"primary-content\" class=\"with-subnav\">\\n\\t\\t\\t\\t<div class=\"page-header\">\\n\\t\\t\\t\\t\\t<h1 class=\"page-title\">Tenured and Tenure Track Faculty</h1>\\n\\t\\t\\t\\t</div>\\n\\t\\t\\t\\t<div class=\"row\">\\n\\t\\t\\t\\t\\t<nav id=\"people-subnav\" class=\"sidebar-subnav\">\\n\\t\\t\\t\\t\\t\\t<div class=\"menu-people-container\"><ul id=\"menu-people-1\" class=\"menu menu-vertical\"><li class=\"menu-item menu-item-type-post_type menu-item-object-page current-menu-ancestor current-menu-parent current_page_parent current_page_ancestor menu-item-has-children menu-item-2282\"><a rel=\"nofollow\" href=\"https://www.khoury.northeastern.edu/people/\">People</a>\\n<ul class=\"sub-menu\">\\n\\t<li class=\"menu-item menu-item-type-taxonomy menu-item-object-role current-menu-item menu-item-727\"><a href=\"https://www.khoury.northeastern.edu/role/tenured-and-tenure-track-faculty/\" aria-current=\"page\">Tenured and Tenure Track Faculty</a></li>\\n\\t<li class=\"menu-item menu-item-type-taxonomy menu-item-object-role menu-item-8882\"><a href=\"https://www.khoury.northeastern.edu/role/professors-practice/\">Professors of the Practice</a></li>\\n\\t<li class=\"menu-item menu-item-type-taxonomy menu-item-object-role menu-item-733\"><a href=\"https://www.khoury.northeastern.edu/role/teaching-faculty/\">Teaching Faculty</a></li>\\n\\t<li class=\"menu-item menu-item-type-taxonomy menu-item-object-role menu-item-728\"><a href=\"https://www.khoury.northeastern.edu/role/research-faculty/\">Research Faculty and Staff</a></li>\\n\\t<li class=\"menu-item menu-item-type-taxonomy menu-item-object-role menu-item-5778\"><a href=\"https://www.khoury.northeastern.edu/role/courtesy-appointments/\">Courtesy Appointments</a></li>\\n\\t<li class=\"menu-item menu-item-type-taxonomy menu-item-object-role menu-item-725\"><a href=\"https://www.khoury.northeastern.edu/role/co-op-and-advising/\">Co-op and Advising</a></li>\\n\\t<li class=\"menu-item menu-item-type-taxonomy menu-item-object-role menu-item-726\"><a href=\"https://www.khoury.northeastern.edu/role/administrative-staff/\">Administrative Staff</a></li>\\n\\t<li class=\"menu-item menu-item-type-taxonomy menu-item-object-role menu-item-729\"><a href=\"https://www.khoury.northeastern.edu/role/systems-staff/\">Systems Staff</a></li>\\n\\t<li class=\"menu-item menu-item-type-taxonomy menu-item-object-role menu-item-730\"><a href=\"https://www.khoury.northeastern.edu/role/post-docs/\">Post Docs</a></li>\\n\\t<li class=\"menu-item menu-item-type-taxonomy menu-item-object-role menu-item-731\"><a href=\"https://www.khoury.northeastern.edu/role/phd-students/\">PhD Students</a></li>\\n\\t<li class=\"menu-item menu-item-type-post_type menu-item-object-page menu-item-413\"><a href=\"https://www.khoury.northeastern.edu/people-view-all/\">View All</a></li>\\n</ul>\\n</li>\\n</ul></div><aside id=\"text-4\" class=\"widget widget_text\"><h2 class=\"section-title widget-title\">We&#8217;re Hiring</h2><div class=\"widget-body\">\\t\\t\\t<div class=\"textwidget\"><p><a href=\"https://www.ccis.northeastern.edu/open-positions\">View open positions</a></p>\\n</div>\\n\\t\\t</div></aside>\\t\\t\\t\\t\\t</nav>\\n\\t\\t\\t\\t\\t<div class=\"taxonomy-grid\">\\n\\t\\t\\t\\t\\t\\t<div class=\"row\">\\n\\t\\t\\t\\t\\t\\t\\t\\t\\t\\t<div class=\"grid-square grid-people\">\\n\\t\\t\\t\\t\\t\\t\\t\\t\\t\\t\\t<article class=\"people\">\\n\\t\\t\\t\\t\\t<div class=\"grid-item\">\\n\\t\\t\\t\\t\\t\\t<a href=\"https://www.khoury.northeastern.edu/people/amal-ahmed/\">\\n\\t\\t\\t\\t\\t\\t\\t\\t<div class=\"grid-image\"><img src=\"https://www.khoury.northeastern.edu/wp-content/uploads/2016/03/Amal-Ahmed-Index-Image.jpg\" alt=\"\" /></div>\\n\\t\\t\\t\\t\\t\\t\\t\\t\\t\\t\\t\\t\\t\\t\\t<p class=\"roles\"><span class=\"role-23\">Tenured and Tenure Track Faculty</span></p>\\n\\t\\t\\t\\t\\t\\t\\t\\t\\t\\t\\t\\t\\t\\t<h3 class=\"person-name\">\\n\\t\\t\\t\\t\\t\\t\\t\\t\\tAmal Ahmed\\t\\t\\t\\t\\t\\t\\t</h3>\\n\\t\\t\\t\\t\\t\\t</a>\\n\\t\\t\\t\\t\\t\\t\\t\\t\\t\\t\\t\\t<div class=\"position-list\">\\n\\t\\t\\t\\t\\t\\t\\t\\t\\t\\t\\t\\t\\t\\t\\t<p class=\"position\">Associate Professor</p>\\n\\t\\t\\t\\t\\t\\t\\t\\t\\t\\t\\t\\t\\t\\t\\t<p class=\"position\">Sy and Laurie Sternberg Interdisciplinary Associate Professor</p>\\n\\t\\t\\t\\t\\t\\t\\t\\t\\t\\t\\t\\t\\t</div>\\n\\t\\t\\t\\t\\t\\t\\t\\t\\t\\t\\t\\t\\t\\t\\t\\t\\t</div>\\n\\t\\t\\t\\t</article>\\n\\t\\t\\t\\t\\t\\t</div>\\n\\t\\t\\t\\t\\t\\t\\t\\t\\t\\t<div class=\"grid-square grid-people\">\\n\\t\\t\\t\\t\\t\\t\\t\\t\\t\\t\\t<article class=\"people\">\\n\\t\\t\\t\\t\\t<div class=\"grid-item\">\\n\\t\\t\\t\\t\\t\\t<a href=\"https://www.khoury.northeastern.edu/people/chris-amato/\">\\n\\t\\t\\t\\t\\t\\t\\t\\t<div class=\"grid-image\"><img src=\"https://www.khoury.northeastern.edu/wp-content/uploads/2016/08/Amato_Chris-index-image.jpg\" alt=\"\" /></div>\\n\\t\\t\\t\\t\\t\\t\\t\\t\\t\\t\\t\\t\\t\\t\\t<p class=\"roles\"><span class=\"role-23\">Tenured and Tenure Track Faculty</span></p>\\n\\t\\t\\t\\t\\t\\t\\t\\t\\t\\t\\t\\t\\t\\t<h3 class=\"person-name\">\\n\\t\\t\\t\\t\\t\\t\\t\\t\\tChristopher Amato\\t\\t\\t\\t\\t\\t\\t</h3>\\n\\t\\t\\t\\t\\t\\t</a>\\n\\t\\t\\t\\t\\t\\t\\t\\t\\t\\t\\t\\t<div class=\"position-list\">\\n\\t\\t\\t\\t\\t\\t\\t\\t\\t\\t\\t\\t\\t\\t\\t<p class=\"position\">Assistant Professor</p>\\n\\t\\t\\t\\t\\t\\t\\t\\t\\t\\t\\t\\t\\t</div>\\n\\t\\t\\t\\t\\t\\t\\t\\t\\t\\t\\t\\t\\t\\t\\t\\t\\t</div>\\n\\t\\t\\t\\t</article>\\n\\t\\t\\t\\t\\t\\t</div>\\n\\t\\t\\t\\t\\t\\t\\t\\t\\t\\t<div class=\"grid-square grid-people\">\\n\\t\\t\\t\\t\\t\\t\\t\\t\\t\\t\\t<article class=\"people\">\\n\\t\\t\\t\\t\\t<div class=\"grid-item\">\\n\\t\\t\\t\\t\\t\\t<a href=\"https://www.khoury.northeastern.edu/people/jay-javed-aslam/\">\\n\\t\\t\\t\\t\\t\\t\\t\\t<div class=\"grid-image\"><img src=\"https://www.khoury.northeastern.edu/wp-content/uploads/2016/02/Javed-Aslam-index-image-e1456779428335.jpg\" alt=\"\" /></div>\\n\\t\\t\\t\\t\\t\\t\\t\\t\\t\\t\\t\\t\\t\\t\\t<p class=\"roles\"><span class=\"role-29\">Administrative Staff</span> <span class=\"role-23\">Tenured and Tenure Track Faculty</span></p>\\n\\t\\t\\t\\t\\t\\t\\t\\t\\t\\t\\t\\t\\t\\t<h3 class=\"person-name\">\\n\\t\\t\\t\\t\\t\\t\\t\\t\\tJaved Aslam\\t\\t\\t\\t\\t\\t\\t</h3>\\n\\t\\t\\t\\t\\t\\t</a>\\n\\t\\t\\t\\t\\t\\t\\t\\t\\t\\t\\t\\t<div class=\"position-list\">\\n\\t\\t\\t\\t\\t\\t\\t\\t\\t\\t\\t\\t\\t\\t\\t<p class=\"position\">Professor</p>\\n\\t\\t\\t\\t\\t\\t\\t\\t\\t\\t\\t\\t\\t\\t\\t<p class=\"position\">Senior Associate Dean - Academic Affairs</p>\\n\\t\\t\\t\\t\\t\\t\\t\\t\\t\\t\\t\\t\\t</div>\\n\\t\\t\\t\\t\\t\\t\\t\\t\\t\\t\\t\\t\\t\\t\\t\\t\\t</div>\\n\\t\\t\\t\\t</article>\\n\\t\\t\\t\\t\\t\\t</div>\\n\\t\\t\\t\\t\\t\\t\\t\\t\\t\\t<div class=\"grid-square grid-people\">\\n\\t\\t\\t\\t\\t\\t\\t\\t\\t\\t\\t<article class=\"people\">\\n\\t\\t\\t\\t\\t<div class=\"grid-item\">\\n\\t\\t\\t\\t\\t\\t<a href=\"https://www.khoury.northeastern.edu/people/kenneth-baclawski/\">\\n\\t\\t\\t\\t\\t\\t\\t\\t<div class=\"grid-image\"><img src=\"https://www.khoury.northeastern.edu/wp-content/uploads/2016/02/Kenneth-Baclawski-index-image-e1456779323580.jpg\" alt=\"\" /></div>\\n\\t\\t\\t\\t\\t\\t\\t\\t\\t\\t\\t\\t\\t\\t\\t<p class=\"roles\"><span class=\"role-23\">Tenured and Tenure Track Faculty</span></p>\\n\\t\\t\\t\\t\\t\\t\\t\\t\\t\\t\\t\\t\\t\\t<h3 class=\"person-name\">\\n\\t\\t\\t\\t\\t\\t\\t\\t\\tKenneth Baclawski\\t\\t\\t\\t\\t\\t\\t</h3>\\n\\t\\t\\t\\t\\t\\t</a>\\n\\t\\t\\t\\t\\t\\t\\t\\t\\t\\t\\t\\t<div class=\"position-list\">\\n\\t\\t\\t\\t\\t\\t\\t\\t\\t\\t\\t\\t\\t\\t\\t<p class=\"position\">Associate Professor Emeritus</p>\\n\\t\\t\\t\\t\\t\\t\\t\\t\\t\\t\\t\\t\\t</div>\\n\\t\\t\\t\\t\\t\\t\\t\\t\\t\\t\\t\\t\\t\\t\\t\\t\\t</div>\\n\\t\\t\\t\\t</article>\\n\\t\\t\\t\\t\\t\\t</div>\\n\\t\\t\\t\\t\\t\\t\\t\\t\\t\\t<div class=\"grid-square grid-people\">\\n\\t\\t\\t\\t\\t\\t\\t\\t\\t\\t\\t<article class=\"people\">\\n\\t\\t\\t\\t\\t<div class=\"grid-item\">\\n\\t\\t\\t\\t\\t\\t<a href=\"https://www.khoury.northeastern.edu/people/albert-laszlo-barabasi/\">\\n\\t\\t\\t\\t\\t\\t\\t\\t<div class=\"grid-image\"><img src=\"https://www.khoury.northeastern.edu/wp-content/uploads/2015/12/barabasi-index.jpg\" alt=\"\" /></div>\\n\\t\\t\\t\\t\\t\\t\\t\\t\\t\\t\\t\\t\\t\\t\\t<p class=\"roles\"><span class=\"role-23\">Tenured and Tenure Track Faculty</span></p>\\n\\t\\t\\t\\t\\t\\t\\t\\t\\t\\t\\t\\t\\t\\t<h3 class=\"person-name\">\\n\\t\\t\\t\\t\\t\\t\\t\\t\\tAlbert-L\\xc3\\xa1szl\\xc3\\xb3 Barab\\xc3\\xa1si\\t\\t\\t\\t\\t\\t\\t</h3>\\n\\t\\t\\t\\t\\t\\t</a>\\n\\t\\t\\t\\t\\t\\t\\t\\t\\t\\t\\t\\t<div class=\"position-list\">\\n\\t\\t\\t\\t\\t\\t\\t\\t\\t\\t\\t\\t\\t\\t\\t<p class=\"position\">Robert Gray Dodge Professor of Network Science</p>\\n\\t\\t\\t\\t\\t\\t\\t\\t\\t\\t\\t\\t\\t\\t\\t<p class=\"position\">Distinguished University Professor</p>\\n\\t\\t\\t\\t\\t\\t\\t\\t\\t\\t\\t\\t\\t\\t\\t<p class=\"position\">Interdisciplinary with College of Science</p>\\n\\t\\t\\t\\t\\t\\t\\t\\t\\t\\t\\t\\t\\t</div>\\n\\t\\t\\t\\t\\t\\t\\t\\t\\t\\t\\t\\t\\t\\t\\t\\t\\t</div>\\n\\t\\t\\t\\t</article>\\n\\t\\t\\t\\t\\t\\t</div>\\n\\t\\t\\t\\t\\t\\t\\t\\t\\t\\t<div class=\"grid-square grid-people\">\\n\\t\\t\\t\\t\\t\\t\\t\\t\\t\\t\\t<article class=\"people\">\\n\\t\\t\\t\\t\\t<div class=\"grid-item\">\\n\\t\\t\\t\\t\\t\\t<a href=\"https://www.khoury.northeastern.edu/people/timothy-bickmore/\">\\n\\t\\t\\t\\t\\t\\t\\t\\t<div class=\"grid-image\"><img src=\"https://www.khoury.northeastern.edu/wp-content/uploads/2016/02/Timothy-Bickmore-index-image.jpg\" alt=\"\" /></div>\\n\\t\\t\\t\\t\\t\\t\\t\\t\\t\\t\\t\\t\\t\\t\\t<p class=\"roles\"><span class=\"role-23\">Tenured and Tenure Track Faculty</span></p>\\n\\t\\t\\t\\t\\t\\t\\t\\t\\t\\t\\t\\t\\t\\t<h3 class=\"person-name\">\\n\\t\\t\\t\\t\\t\\t\\t\\t\\tTimothy W. Bickmore\\t\\t\\t\\t\\t\\t\\t</h3>\\n\\t\\t\\t\\t\\t\\t</a>\\n\\t\\t\\t\\t\\t\\t\\t\\t\\t\\t\\t\\t<div class=\"position-list\">\\n\\t\\t\\t\\t\\t\\t\\t\\t\\t\\t\\t\\t\\t\\t\\t<p class=\"position\">Professor</p>\\n\\t\\t\\t\\t\\t\\t\\t\\t\\t\\t\\t\\t\\t</div>\\n\\t\\t\\t\\t\\t\\t\\t\\t\\t\\t\\t\\t\\t\\t\\t\\t\\t</div>\\n\\t\\t\\t\\t</article>\\n\\t\\t\\t\\t\\t\\t</div>\\n\\t\\t\\t\\t\\t\\t\\t\\t\\t\\t<div class=\"grid-square grid-people\">\\n\\t\\t\\t\\t\\t\\t\\t\\t\\t\\t\\t<article class=\"people\">\\n\\t\\t\\t\\t\\t<div class=\"grid-item\">\\n\\t\\t\\t\\t\\t\\t<a href=\"https://www.khoury.northeastern.edu/people/michelle-borkin/\">\\n\\t\\t\\t\\t\\t\\t\\t\\t<div class=\"grid-image\"><img src=\"https://www.khoury.northeastern.edu/wp-content/uploads/2016/02/Michelle-Borkin-index-image.jpg\" alt=\"\" /></div>\\n\\t\\t\\t\\t\\t\\t\\t\\t\\t\\t\\t\\t\\t\\t\\t<p class=\"roles\"><span class=\"role-23\">Tenured and Tenure Track Faculty</span></p>\\n\\t\\t\\t\\t\\t\\t\\t\\t\\t\\t\\t\\t\\t\\t<h3 class=\"person-name\">\\n\\t\\t\\t\\t\\t\\t\\t\\t\\tMichelle Borkin\\t\\t\\t\\t\\t\\t\\t</h3>\\n\\t\\t\\t\\t\\t\\t</a>\\n\\t\\t\\t\\t\\t\\t\\t\\t\\t\\t\\t\\t<div class=\"position-list\">\\n\\t\\t\\t\\t\\t\\t\\t\\t\\t\\t\\t\\t\\t\\t\\t<p class=\"position\">Assistant Professor</p>\\n\\t\\t\\t\\t\\t\\t\\t\\t\\t\\t\\t\\t\\t</div>\\n\\t\\t\\t\\t\\t\\t\\t\\t\\t\\t\\t\\t\\t\\t\\t\\t\\t</div>\\n\\t\\t\\t\\t</article>\\n\\t\\t\\t\\t\\t\\t</div>\\n\\t\\t\\t\\t\\t\\t\\t\\t\\t\\t<div class=\"grid-square grid-people\">\\n\\t\\t\\t\\t\\t\\t\\t\\t\\t\\t\\t<article class=\"people\">\\n\\t\\t\\t\\t\\t<div class=\"grid-item\">\\n\\t\\t\\t\\t\\t\\t<a href=\"https://www.khoury.northeastern.edu/people/carla-brodley/\">\\n\\t\\t\\t\\t\\t\\t\\t\\t<div class=\"grid-image\"><img src=\"https://www.khoury.northeastern.edu/wp-content/uploads/2016/02/Carla-Brodley-index-image-e1456779225742.jpg\" alt=\"\" /></div>\\n\\t\\t\\t\\t\\t\\t\\t\\t\\t\\t\\t\\t\\t\\t\\t<p class=\"roles\"><span class=\"role-29\">Administrative Staff</span> <span class=\"role-23\">Tenured and Tenure Track Faculty</span></p>\\n\\t\\t\\t\\t\\t\\t\\t\\t\\t\\t\\t\\t\\t\\t<h3 class=\"person-name\">\\n\\t\\t\\t\\t\\t\\t\\t\\t\\tCarla E. Brodley\\t\\t\\t\\t\\t\\t\\t</h3>\\n\\t\\t\\t\\t\\t\\t</a>\\n\\t\\t\\t\\t\\t\\t\\t\\t\\t\\t\\t\\t<div class=\"position-list\">\\n\\t\\t\\t\\t\\t\\t\\t\\t\\t\\t\\t\\t\\t\\t\\t<p class=\"position\">Dean - Khoury College of Computer Sciences</p>\\n\\t\\t\\t\\t\\t\\t\\t\\t\\t\\t\\t\\t\\t\\t\\t<p class=\"position\">Professor</p>\\n\\t\\t\\t\\t\\t\\t\\t\\t\\t\\t\\t\\t\\t\\t\\t<p class=\"position\">Executive Director of the Center for Inclusive Computing</p>\\n\\t\\t\\t\\t\\t\\t\\t\\t\\t\\t\\t\\t\\t</div>\\n\\t\\t\\t\\t\\t\\t\\t\\t\\t\\t\\t\\t\\t\\t\\t\\t\\t</div>\\n\\t\\t\\t\\t</article>\\n\\t\\t\\t\\t\\t\\t</div>\\n\\t\\t\\t\\t\\t\\t\\t\\t\\t\\t<div class=\"grid-square grid-people\">\\n\\t\\t\\t\\t\\t\\t\\t\\t\\t\\t\\t<article class=\"people\">\\n\\t\\t\\t\\t\\t<div class=\"grid-item\">\\n\\t\\t\\t\\t\\t\\t<a href=\"https://www.khoury.northeastern.edu/people/agnes-chan/\">\\n\\t\\t\\t\\t\\t\\t\\t\\t<div class=\"grid-image\"><img src=\"https://www.khoury.northeastern.edu/wp-content/uploads/2016/02/Agnes-Chan-index-image-e1456779295334.jpg\" alt=\"\" /></div>\\n\\t\\t\\t\\t\\t\\t\\t\\t\\t\\t\\t\\t\\t\\t\\t<p class=\"roles\"><span class=\"role-23\">Tenured and Tenure Track Faculty</span></p>\\n\\t\\t\\t\\t\\t\\t\\t\\t\\t\\t\\t\\t\\t\\t<h3 class=\"person-name\">\\n\\t\\t\\t\\t\\t\\t\\t\\t\\tAgnes H. Chan\\t\\t\\t\\t\\t\\t\\t</h3>\\n\\t\\t\\t\\t\\t\\t</a>\\n\\t\\t\\t\\t\\t\\t\\t\\t\\t\\t\\t\\t<div class=\"position-list\">\\n\\t\\t\\t\\t\\t\\t\\t\\t\\t\\t\\t\\t\\t\\t\\t<p class=\"position\">Professor Emeritus</p>\\n\\t\\t\\t\\t\\t\\t\\t\\t\\t\\t\\t\\t\\t</div>\\n\\t\\t\\t\\t\\t\\t\\t\\t\\t\\t\\t\\t\\t\\t\\t\\t\\t</div>\\n\\t\\t\\t\\t</article>\\n\\t\\t\\t\\t\\t\\t</div>\\n\\t\\t\\t\\t\\t\\t\\t\\t\\t\\t<div class=\"grid-square grid-people\">\\n\\t\\t\\t\\t\\t\\t\\t\\t\\t\\t\\t<article class=\"people\">\\n\\t\\t\\t\\t\\t<div class=\"grid-item\">\\n\\t\\t\\t\\t\\t\\t<a href=\"https://www.khoury.northeastern.edu/people/david-choffnes/\">\\n\\t\\t\\t\\t\\t\\t\\t\\t<div class=\"grid-image\"><img src=\"https://www.khoury.northeastern.edu/wp-content/uploads/2016/03/David-Choffnes-Index-Image.jpg\" alt=\"\" /></div>\\n\\t\\t\\t\\t\\t\\t\\t\\t\\t\\t\\t\\t\\t\\t\\t<p class=\"roles\"><span class=\"role-23\">Tenured and Tenure Track Faculty</span></p>\\n\\t\\t\\t\\t\\t\\t\\t\\t\\t\\t\\t\\t\\t\\t<h3 class=\"person-name\">\\n\\t\\t\\t\\t\\t\\t\\t\\t\\tDavid Choffnes\\t\\t\\t\\t\\t\\t\\t</h3>\\n\\t\\t\\t\\t\\t\\t</a>\\n\\t\\t\\t\\t\\t\\t\\t\\t\\t\\t\\t\\t<div class=\"position-list\">\\n\\t\\t\\t\\t\\t\\t\\t\\t\\t\\t\\t\\t\\t\\t\\t<p class=\"position\">Associate Professor</p>\\n\\t\\t\\t\\t\\t\\t\\t\\t\\t\\t\\t\\t\\t</div>\\n\\t\\t\\t\\t\\t\\t\\t\\t\\t\\t\\t\\t\\t\\t\\t\\t\\t</div>\\n\\t\\t\\t\\t</article>\\n\\t\\t\\t\\t\\t\\t</div>\\n\\t\\t\\t\\t\\t\\t\\t\\t\\t\\t<div class=\"grid-square grid-people\">\\n\\t\\t\\t\\t\\t\\t\\t\\t\\t\\t\\t<article class=\"people\">\\n\\t\\t\\t\\t\\t<div class=\"grid-item\">\\n\\t\\t\\t\\t\\t\\t<a href=\"https://www.khoury.northeastern.edu/people/william-d-clinger/\">\\n\\t\\t\\t\\t\\t\\t\\t\\t<div class=\"grid-image\"><img src=\"https://www.khoury.northeastern.edu/wp-content/uploads/2016/02/William-Clinger-index-image.jpg\" alt=\"\" /></div>\\n\\t\\t\\t\\t\\t\\t\\t\\t\\t\\t\\t\\t\\t\\t\\t<p class=\"roles\"><span class=\"role-23\">Tenured and Tenure Track Faculty</span></p>\\n\\t\\t\\t\\t\\t\\t\\t\\t\\t\\t\\t\\t\\t\\t<h3 class=\"person-name\">\\n\\t\\t\\t\\t\\t\\t\\t\\t\\tWilliam D. Clinger\\t\\t\\t\\t\\t\\t\\t</h3>\\n\\t\\t\\t\\t\\t\\t</a>\\n\\t\\t\\t\\t\\t\\t\\t\\t\\t\\t\\t\\t<div class=\"position-list\">\\n\\t\\t\\t\\t\\t\\t\\t\\t\\t\\t\\t\\t\\t\\t\\t<p class=\"position\">Professor Emeritus</p>\\n\\t\\t\\t\\t\\t\\t\\t\\t\\t\\t\\t\\t\\t</div>\\n\\t\\t\\t\\t\\t\\t\\t\\t\\t\\t\\t\\t\\t\\t\\t\\t\\t</div>\\n\\t\\t\\t\\t</article>\\n\\t\\t\\t\\t\\t\\t</div>\\n\\t\\t\\t\\t\\t\\t\\t\\t\\t\\t<div class=\"grid-square grid-people\">\\n\\t\\t\\t\\t\\t\\t\\t\\t\\t\\t\\t<article class=\"people\">\\n\\t\\t\\t\\t\\t<div class=\"grid-item\">\\n\\t\\t\\t\\t\\t\\t<a href=\"https://www.khoury.northeastern.edu/people/seth-cooper/\">\\n\\t\\t\\t\\t\\t\\t\\t\\t<div class=\"grid-image\"><img src=\"https://www.khoury.northeastern.edu/wp-content/uploads/2016/02/Seth-Cooper-index-image.jpg\" alt=\"\" /></div>\\n\\t\\t\\t\\t\\t\\t\\t\\t\\t\\t\\t\\t\\t\\t\\t<p class=\"roles\"><span class=\"role-23\">Tenured and Tenure Track Faculty</span></p>\\n\\t\\t\\t\\t\\t\\t\\t\\t\\t\\t\\t\\t\\t\\t<h3 class=\"person-name\">\\n\\t\\t\\t\\t\\t\\t\\t\\t\\tSeth Cooper\\t\\t\\t\\t\\t\\t\\t</h3>\\n\\t\\t\\t\\t\\t\\t</a>\\n\\t\\t\\t\\t\\t\\t\\t\\t\\t\\t\\t\\t<div class=\"position-list\">\\n\\t\\t\\t\\t\\t\\t\\t\\t\\t\\t\\t\\t\\t\\t\\t<p class=\"position\">Assistant Professor</p>\\n\\t\\t\\t\\t\\t\\t\\t\\t\\t\\t\\t\\t\\t</div>\\n\\t\\t\\t\\t\\t\\t\\t\\t\\t\\t\\t\\t\\t\\t\\t\\t\\t</div>\\n\\t\\t\\t\\t</article>\\n\\t\\t\\t\\t\\t\\t</div>\\n\\t\\t\\t\\t\\t\\t\\t\\t\\t\\t<div class=\"grid-square grid-people\">\\n\\t\\t\\t\\t\\t\\t\\t\\t\\t\\t\\t<article class=\"people\">\\n\\t\\t\\t\\t\\t<div class=\"grid-item\">\\n\\t\\t\\t\\t\\t\\t<a href=\"https://www.khoury.northeastern.edu/people/gene-cooperman/\">\\n\\t\\t\\t\\t\\t\\t\\t\\t<div class=\"grid-image\"><img src=\"https://www.khoury.northeastern.edu/wp-content/uploads/2016/02/Gene-Cooperman-index-image-e1456779126336.jpg\" alt=\"\" /></div>\\n\\t\\t\\t\\t\\t\\t\\t\\t\\t\\t\\t\\t\\t\\t\\t<p class=\"roles\"><span class=\"role-23\">Tenured and Tenure Track Faculty</span></p>\\n\\t\\t\\t\\t\\t\\t\\t\\t\\t\\t\\t\\t\\t\\t<h3 class=\"person-name\">\\n\\t\\t\\t\\t\\t\\t\\t\\t\\tGene Cooperman\\t\\t\\t\\t\\t\\t\\t</h3>\\n\\t\\t\\t\\t\\t\\t</a>\\n\\t\\t\\t\\t\\t\\t\\t\\t\\t\\t\\t\\t<div class=\"position-list\">\\n\\t\\t\\t\\t\\t\\t\\t\\t\\t\\t\\t\\t\\t\\t\\t<p class=\"position\">Professor</p>\\n\\t\\t\\t\\t\\t\\t\\t\\t\\t\\t\\t\\t\\t</div>\\n\\t\\t\\t\\t\\t\\t\\t\\t\\t\\t\\t\\t\\t\\t\\t\\t\\t</div>\\n\\t\\t\\t\\t</article>\\n\\t\\t\\t\\t\\t\\t</div>\\n\\t\\t\\t\\t\\t\\t\\t\\t\\t\\t<div class=\"grid-square grid-people\">\\n\\t\\t\\t\\t\\t\\t\\t\\t\\t\\t\\t<article class=\"people\">\\n\\t\\t\\t\\t\\t<div class=\"grid-item\">\\n\\t\\t\\t\\t\\t\\t<a href=\"https://www.khoury.northeastern.edu/people/peter-desnoyers/\">\\n\\t\\t\\t\\t\\t\\t\\t\\t<div class=\"grid-image\"><img src=\"https://www.khoury.northeastern.edu/wp-content/uploads/2016/02/Peter-Desnoyers-index-image-e1456759566934.jpg\" alt=\"\" /></div>\\n\\t\\t\\t\\t\\t\\t\\t\\t\\t\\t\\t\\t\\t\\t\\t<p class=\"roles\"><span class=\"role-23\">Tenured and Tenure Track Faculty</span></p>\\n\\t\\t\\t\\t\\t\\t\\t\\t\\t\\t\\t\\t\\t\\t<h3 class=\"person-name\">\\n\\t\\t\\t\\t\\t\\t\\t\\t\\tPeter Desnoyers\\t\\t\\t\\t\\t\\t\\t</h3>\\n\\t\\t\\t\\t\\t\\t</a>\\n\\t\\t\\t\\t\\t\\t\\t\\t\\t\\t\\t\\t<div class=\"position-list\">\\n\\t\\t\\t\\t\\t\\t\\t\\t\\t\\t\\t\\t\\t\\t\\t<p class=\"position\">Associate Professor</p>\\n\\t\\t\\t\\t\\t\\t\\t\\t\\t\\t\\t\\t\\t</div>\\n\\t\\t\\t\\t\\t\\t\\t\\t\\t\\t\\t\\t\\t\\t\\t\\t\\t</div>\\n\\t\\t\\t\\t</article>\\n\\t\\t\\t\\t\\t\\t</div>\\n\\t\\t\\t\\t\\t\\t\\t\\t\\t\\t<div class=\"grid-square grid-people\">\\n\\t\\t\\t\\t\\t\\t\\t\\t\\t\\t\\t<article class=\"people\">\\n\\t\\t\\t\\t\\t<div class=\"grid-item\">\\n\\t\\t\\t\\t\\t\\t<a href=\"https://www.khoury.northeastern.edu/people/cody-dunne/\">\\n\\t\\t\\t\\t\\t\\t\\t\\t<div class=\"grid-image\"><img src=\"https://www.khoury.northeastern.edu/wp-content/uploads/2016/09/Dunne_Cody-index-image.jpg\" alt=\"\" /></div>\\n\\t\\t\\t\\t\\t\\t\\t\\t\\t\\t\\t\\t\\t\\t\\t<p class=\"roles\"><span class=\"role-23\">Tenured and Tenure Track Faculty</span></p>\\n\\t\\t\\t\\t\\t\\t\\t\\t\\t\\t\\t\\t\\t\\t<h3 class=\"person-name\">\\n\\t\\t\\t\\t\\t\\t\\t\\t\\tCody Dunne\\t\\t\\t\\t\\t\\t\\t</h3>\\n\\t\\t\\t\\t\\t\\t</a>\\n\\t\\t\\t\\t\\t\\t\\t\\t\\t\\t\\t\\t<div class=\"position-list\">\\n\\t\\t\\t\\t\\t\\t\\t\\t\\t\\t\\t\\t\\t\\t\\t<p class=\"position\">Assistant Professor</p>\\n\\t\\t\\t\\t\\t\\t\\t\\t\\t\\t\\t\\t\\t</div>\\n\\t\\t\\t\\t\\t\\t\\t\\t\\t\\t\\t\\t\\t\\t\\t\\t\\t</div>\\n\\t\\t\\t\\t</article>\\n\\t\\t\\t\\t\\t\\t</div>\\n\\t\\t\\t\\t\\t\\t\\t\\t\\t\\t<div class=\"grid-square grid-people\">\\n\\t\\t\\t\\t\\t\\t\\t\\t\\t\\t\\t<article class=\"people\">\\n\\t\\t\\t\\t\\t<div class=\"grid-item\">\\n\\t\\t\\t\\t\\t\\t<a href=\"https://www.khoury.northeastern.edu/people/ehsan-elhamifar/\">\\n\\t\\t\\t\\t\\t\\t\\t\\t<div class=\"grid-image\"><img src=\"https://www.khoury.northeastern.edu/wp-content/uploads/2016/02/linderpix-NEU-5502-web-bio-photo.jpg\" alt=\"\" /></div>\\n\\t\\t\\t\\t\\t\\t\\t\\t\\t\\t\\t\\t\\t\\t\\t<p class=\"roles\"><span class=\"role-23\">Tenured and Tenure Track Faculty</span></p>\\n\\t\\t\\t\\t\\t\\t\\t\\t\\t\\t\\t\\t\\t\\t<h3 class=\"person-name\">\\n\\t\\t\\t\\t\\t\\t\\t\\t\\tEhsan Elhamifar\\t\\t\\t\\t\\t\\t\\t</h3>\\n\\t\\t\\t\\t\\t\\t</a>\\n\\t\\t\\t\\t\\t\\t\\t\\t\\t\\t\\t\\t<div class=\"position-list\">\\n\\t\\t\\t\\t\\t\\t\\t\\t\\t\\t\\t\\t\\t\\t\\t<p class=\"position\">Assistant Professor</p>\\n\\t\\t\\t\\t\\t\\t\\t\\t\\t\\t\\t\\t\\t\\t\\t<p class=\"position\">Interdisciplinary with College of Engineering</p>\\n\\t\\t\\t\\t\\t\\t\\t\\t\\t\\t\\t\\t\\t</div>\\n\\t\\t\\t\\t\\t\\t\\t\\t\\t\\t\\t\\t\\t\\t\\t\\t\\t</div>\\n\\t\\t\\t\\t</article>\\n\\t\\t\\t\\t\\t\\t</div>\\n\\t\\t\\t\\t\\t\\t\\t\\t\\t\\t<div class=\"grid-square grid-people\">\\n\\t\\t\\t\\t\\t\\t\\t\\t\\t\\t\\t<article class=\"people\">\\n\\t\\t\\t\\t\\t<div class=\"grid-item\">\\n\\t\\t\\t\\t\\t\\t<a href=\"https://www.khoury.northeastern.edu/people/tina-eliassi-rad/\">\\n\\t\\t\\t\\t\\t\\t\\t\\t<div class=\"grid-image\"><img src=\"https://www.khoury.northeastern.edu/wp-content/uploads/2016/02/Eliassi-Rad_Tina-index-image-1.jpg\" alt=\"\" /></div>\\n\\t\\t\\t\\t\\t\\t\\t\\t\\t\\t\\t\\t\\t\\t\\t<p class=\"roles\"><span class=\"role-23\">Tenured and Tenure Track Faculty</span></p>\\n\\t\\t\\t\\t\\t\\t\\t\\t\\t\\t\\t\\t\\t\\t<h3 class=\"person-name\">\\n\\t\\t\\t\\t\\t\\t\\t\\t\\tTina Eliassi-Rad\\t\\t\\t\\t\\t\\t\\t</h3>\\n\\t\\t\\t\\t\\t\\t</a>\\n\\t\\t\\t\\t\\t\\t\\t\\t\\t\\t\\t\\t<div class=\"position-list\">\\n\\t\\t\\t\\t\\t\\t\\t\\t\\t\\t\\t\\t\\t\\t\\t<p class=\"position\">Associate Professor</p>\\n\\t\\t\\t\\t\\t\\t\\t\\t\\t\\t\\t\\t\\t</div>\\n\\t\\t\\t\\t\\t\\t\\t\\t\\t\\t\\t\\t\\t\\t\\t\\t\\t</div>\\n\\t\\t\\t\\t</article>\\n\\t\\t\\t\\t\\t\\t</div>\\n\\t\\t\\t\\t\\t\\t\\t\\t\\t\\t<div class=\"grid-square grid-people\">\\n\\t\\t\\t\\t\\t\\t\\t\\t\\t\\t\\t<article class=\"people\">\\n\\t\\t\\t\\t\\t<div class=\"grid-item\">\\n\\t\\t\\t\\t\\t\\t<a href=\"https://www.khoury.northeastern.edu/people/don-fallis/\">\\n\\t\\t\\t\\t\\t\\t\\t\\t<div class=\"grid-image\"><img src=\"https://www.khoury.northeastern.edu/wp-content/uploads/2019/02/donf25-839x1024-e1556114115240.jpg\" alt=\"\" /></div>\\n\\t\\t\\t\\t\\t\\t\\t\\t\\t\\t\\t\\t\\t\\t\\t<p class=\"roles\"><span class=\"role-23\">Tenured and Tenure Track Faculty</span></p>\\n\\t\\t\\t\\t\\t\\t\\t\\t\\t\\t\\t\\t\\t\\t<h3 class=\"person-name\">\\n\\t\\t\\t\\t\\t\\t\\t\\t\\tDon Fallis\\t\\t\\t\\t\\t\\t\\t</h3>\\n\\t\\t\\t\\t\\t\\t</a>\\n\\t\\t\\t\\t\\t\\t\\t\\t\\t\\t\\t\\t<div class=\"position-list\">\\n\\t\\t\\t\\t\\t\\t\\t\\t\\t\\t\\t\\t\\t\\t\\t<p class=\"position\">Professor of Philosophy and Computer Sciences</p>\\n\\t\\t\\t\\t\\t\\t\\t\\t\\t\\t\\t\\t\\t\\t\\t<p class=\"position\">Interdisciplinary with College of Social Sciences and Humanities</p>\\n\\t\\t\\t\\t\\t\\t\\t\\t\\t\\t\\t\\t\\t</div>\\n\\t\\t\\t\\t\\t\\t\\t\\t\\t\\t\\t\\t\\t\\t\\t\\t\\t</div>\\n\\t\\t\\t\\t</article>\\n\\t\\t\\t\\t\\t\\t</div>\\n\\t\\t\\t\\t\\t\\t\\t\\t\\t\\t<div class=\"grid-square grid-people\">\\n\\t\\t\\t\\t\\t\\t\\t\\t\\t\\t\\t<article class=\"people\">\\n\\t\\t\\t\\t\\t<div class=\"grid-item\">\\n\\t\\t\\t\\t\\t\\t<a href=\"https://www.khoury.northeastern.edu/people/matthias-felleisen/\">\\n\\t\\t\\t\\t\\t\\t\\t\\t<div class=\"grid-image\"><img src=\"https://www.khoury.northeastern.edu/wp-content/uploads/2016/02/Matthias-Felleisen-index-image-e1456779017397.jpg\" alt=\"\" /></div>\\n\\t\\t\\t\\t\\t\\t\\t\\t\\t\\t\\t\\t\\t\\t\\t<p class=\"roles\"><span class=\"role-23\">Tenured and Tenure Track Faculty</span></p>\\n\\t\\t\\t\\t\\t\\t\\t\\t\\t\\t\\t\\t\\t\\t<h3 class=\"person-name\">\\n\\t\\t\\t\\t\\t\\t\\t\\t\\tMatthias Felleisen\\t\\t\\t\\t\\t\\t\\t</h3>\\n\\t\\t\\t\\t\\t\\t</a>\\n\\t\\t\\t\\t\\t\\t\\t\\t\\t\\t\\t\\t<div class=\"position-list\">\\n\\t\\t\\t\\t\\t\\t\\t\\t\\t\\t\\t\\t\\t\\t\\t<p class=\"position\">Trustee Professor</p>\\n\\t\\t\\t\\t\\t\\t\\t\\t\\t\\t\\t\\t\\t</div>\\n\\t\\t\\t\\t\\t\\t\\t\\t\\t\\t\\t\\t\\t\\t\\t\\t\\t</div>\\n\\t\\t\\t\\t</article>\\n\\t\\t\\t\\t\\t\\t</div>\\n\\t\\t\\t\\t\\t\\t\\t\\t\\t\\t<div class=\"grid-square grid-people\">\\n\\t\\t\\t\\t\\t\\t\\t\\t\\t\\t\\t<article class=\"people\">\\n\\t\\t\\t\\t\\t<div class=\"grid-item\">\\n\\t\\t\\t\\t\\t\\t<a href=\"https://www.khoury.northeastern.edu/people/larry-finkelstein/\">\\n\\t\\t\\t\\t\\t\\t\\t\\t<div class=\"grid-image\"><img src=\"https://www.khoury.northeastern.edu/wp-content/uploads/2016/02/Larry-Finkelstein-index-image-e1456759281894.jpg\" alt=\"\" /></div>\\n\\t\\t\\t\\t\\t\\t\\t\\t\\t\\t\\t\\t\\t\\t\\t<p class=\"roles\"><span class=\"role-23\">Tenured and Tenure Track Faculty</span></p>\\n\\t\\t\\t\\t\\t\\t\\t\\t\\t\\t\\t\\t\\t\\t<h3 class=\"person-name\">\\n\\t\\t\\t\\t\\t\\t\\t\\t\\tLarry Finkelstein\\t\\t\\t\\t\\t\\t\\t</h3>\\n\\t\\t\\t\\t\\t\\t</a>\\n\\t\\t\\t\\t\\t\\t\\t\\t\\t\\t\\t\\t<div class=\"position-list\">\\n\\t\\t\\t\\t\\t\\t\\t\\t\\t\\t\\t\\t\\t\\t\\t<p class=\"position\">Professor Emeritus</p>\\n\\t\\t\\t\\t\\t\\t\\t\\t\\t\\t\\t\\t\\t\\t\\t<p class=\"position\">Dean Emeritus</p>\\n\\t\\t\\t\\t\\t\\t\\t\\t\\t\\t\\t\\t\\t</div>\\n\\t\\t\\t\\t\\t\\t\\t\\t\\t\\t\\t\\t\\t\\t\\t\\t\\t</div>\\n\\t\\t\\t\\t</article>\\n\\t\\t\\t\\t\\t\\t</div>\\n\\t\\t\\t\\t\\t\\t\\t\\t\\t\\t<div class=\"grid-square grid-people\">\\n\\t\\t\\t\\t\\t\\t\\t\\t\\t\\t\\t<article class=\"people\">\\n\\t\\t\\t\\t\\t<div class=\"grid-item\">\\n\\t\\t\\t\\t\\t\\t<a href=\"https://www.khoury.northeastern.edu/people/raymond-yun-fu/\">\\n\\t\\t\\t\\t\\t\\t\\t\\t<div class=\"grid-image\"><img src=\"https://www.khoury.northeastern.edu/wp-content/uploads/2016/02/Raymond-Fu-index-image.jpg\" alt=\"\" /></div>\\n\\t\\t\\t\\t\\t\\t\\t\\t\\t\\t\\t\\t\\t\\t\\t<p class=\"roles\"><span class=\"role-23\">Tenured and Tenure Track Faculty</span></p>\\n\\t\\t\\t\\t\\t\\t\\t\\t\\t\\t\\t\\t\\t\\t<h3 class=\"person-name\">\\n\\t\\t\\t\\t\\t\\t\\t\\t\\tYun (Raymond) Fu\\t\\t\\t\\t\\t\\t\\t</h3>\\n\\t\\t\\t\\t\\t\\t</a>\\n\\t\\t\\t\\t\\t\\t\\t\\t\\t\\t\\t\\t<div class=\"position-list\">\\n\\t\\t\\t\\t\\t\\t\\t\\t\\t\\t\\t\\t\\t\\t\\t<p class=\"position\">Professor</p>\\n\\t\\t\\t\\t\\t\\t\\t\\t\\t\\t\\t\\t\\t\\t\\t<p class=\"position\">Interdisciplinary with College of Engineering</p>\\n\\t\\t\\t\\t\\t\\t\\t\\t\\t\\t\\t\\t\\t</div>\\n\\t\\t\\t\\t\\t\\t\\t\\t\\t\\t\\t\\t\\t\\t\\t\\t\\t</div>\\n\\t\\t\\t\\t</article>\\n\\t\\t\\t\\t\\t\\t</div>\\n\\t\\t\\t\\t\\t\\t\\t\\t\\t\\t<div class=\"grid-square grid-people\">\\n\\t\\t\\t\\t\\t\\t\\t\\t\\t\\t\\t<article class=\"people\">\\n\\t\\t\\t\\t\\t<div class=\"grid-item\">\\n\\t\\t\\t\\t\\t\\t<a href=\"https://www.khoury.northeastern.edu/people/wolfgang-gatterbauer/\">\\n\\t\\t\\t\\t\\t\\t\\t\\t<div class=\"grid-image\"><img src=\"https://www.khoury.northeastern.edu/wp-content/uploads/2017/08/linderpix-NEU-56875-index.jpg\" alt=\"\" /></div>\\n\\t\\t\\t\\t\\t\\t\\t\\t\\t\\t\\t\\t\\t\\t\\t<p class=\"roles\"><span class=\"role-23\">Tenured and Tenure Track Faculty</span></p>\\n\\t\\t\\t\\t\\t\\t\\t\\t\\t\\t\\t\\t\\t\\t<h3 class=\"person-name\">\\n\\t\\t\\t\\t\\t\\t\\t\\t\\tWolfgang Gatterbauer\\t\\t\\t\\t\\t\\t\\t</h3>\\n\\t\\t\\t\\t\\t\\t</a>\\n\\t\\t\\t\\t\\t\\t\\t\\t\\t\\t\\t\\t<div class=\"position-list\">\\n\\t\\t\\t\\t\\t\\t\\t\\t\\t\\t\\t\\t\\t\\t\\t<p class=\"position\">Associate Professor</p>\\n\\t\\t\\t\\t\\t\\t\\t\\t\\t\\t\\t\\t\\t</div>\\n\\t\\t\\t\\t\\t\\t\\t\\t\\t\\t\\t\\t\\t\\t\\t\\t\\t</div>\\n\\t\\t\\t\\t</article>\\n\\t\\t\\t\\t\\t\\t</div>\\n\\t\\t\\t\\t\\t\\t\\t\\t\\t\\t<div class=\"grid-square grid-people\">\\n\\t\\t\\t\\t\\t\\t\\t\\t\\t\\t\\t<article class=\"people\">\\n\\t\\t\\t\\t\\t<div class=\"grid-item\">\\n\\t\\t\\t\\t\\t\\t<a href=\"https://www.khoury.northeastern.edu/people/matthew-goodwin/\">\\n\\t\\t\\t\\t\\t\\t\\t\\t<div class=\"grid-image\"><img src=\"https://www.khoury.northeastern.edu/wp-content/uploads/2016/02/Matthew-Goodwin-index-image.jpg\" alt=\"\" /></div>\\n\\t\\t\\t\\t\\t\\t\\t\\t\\t\\t\\t\\t\\t\\t\\t<p class=\"roles\"><span class=\"role-23\">Tenured and Tenure Track Faculty</span></p>\\n\\t\\t\\t\\t\\t\\t\\t\\t\\t\\t\\t\\t\\t\\t<h3 class=\"person-name\">\\n\\t\\t\\t\\t\\t\\t\\t\\t\\tMatthew Goodwin\\t\\t\\t\\t\\t\\t\\t</h3>\\n\\t\\t\\t\\t\\t\\t</a>\\n\\t\\t\\t\\t\\t\\t\\t\\t\\t\\t\\t\\t<div class=\"position-list\">\\n\\t\\t\\t\\t\\t\\t\\t\\t\\t\\t\\t\\t\\t\\t\\t<p class=\"position\">Associate Professor</p>\\n\\t\\t\\t\\t\\t\\t\\t\\t\\t\\t\\t\\t\\t\\t\\t<p class=\"position\">Interdisciplinary with Bouv\\xc3\\xa9 College of Health Sciences</p>\\n\\t\\t\\t\\t\\t\\t\\t\\t\\t\\t\\t\\t\\t</div>\\n\\t\\t\\t\\t\\t\\t\\t\\t\\t\\t\\t\\t\\t\\t\\t\\t\\t</div>\\n\\t\\t\\t\\t</article>\\n\\t\\t\\t\\t\\t\\t</div>\\n\\t\\t\\t\\t\\t\\t\\t\\t\\t\\t<div class=\"grid-square grid-people\">\\n\\t\\t\\t\\t\\t\\t\\t\\t\\t\\t\\t<article class=\"people\">\\n\\t\\t\\t\\t\\t<div class=\"grid-item\">\\n\\t\\t\\t\\t\\t\\t<a href=\"https://www.khoury.northeastern.edu/people/paul-hand/\">\\n\\t\\t\\t\\t\\t\\t\\t\\t<div class=\"grid-image\"><img src=\"https://www.khoury.northeastern.edu/wp-content/uploads/2018/08/linderpix-NEU-8496-crop.jpg\" alt=\"\" /></div>\\n\\t\\t\\t\\t\\t\\t\\t\\t\\t\\t\\t\\t\\t\\t\\t<p class=\"roles\"><span class=\"role-23\">Tenured and Tenure Track Faculty</span></p>\\n\\t\\t\\t\\t\\t\\t\\t\\t\\t\\t\\t\\t\\t\\t<h3 class=\"person-name\">\\n\\t\\t\\t\\t\\t\\t\\t\\t\\tPaul Hand\\t\\t\\t\\t\\t\\t\\t</h3>\\n\\t\\t\\t\\t\\t\\t</a>\\n\\t\\t\\t\\t\\t\\t\\t\\t\\t\\t\\t\\t<div class=\"position-list\">\\n\\t\\t\\t\\t\\t\\t\\t\\t\\t\\t\\t\\t\\t\\t\\t<p class=\"position\">Assistant Professor </p>\\n\\t\\t\\t\\t\\t\\t\\t\\t\\t\\t\\t\\t\\t\\t\\t<p class=\"position\">Interdisciplinary with College of Science</p>\\n\\t\\t\\t\\t\\t\\t\\t\\t\\t\\t\\t\\t\\t</div>\\n\\t\\t\\t\\t\\t\\t\\t\\t\\t\\t\\t\\t\\t\\t\\t\\t\\t</div>\\n\\t\\t\\t\\t</article>\\n\\t\\t\\t\\t\\t\\t</div>\\n\\t\\t\\t\\t\\t\\t\\t\\t\\t\\t<div class=\"grid-square grid-people\">\\n\\t\\t\\t\\t\\t\\t\\t\\t\\t\\t\\t<article class=\"people\">\\n\\t\\t\\t\\t\\t<div class=\"grid-item\">\\n\\t\\t\\t\\t\\t\\t<a href=\"https://www.khoury.northeastern.edu/people/woodrow-hartzog/\">\\n\\t\\t\\t\\t\\t\\t\\t\\t<div class=\"grid-image\"><img src=\"https://www.khoury.northeastern.edu/wp-content/uploads/2017/08/linderpix-NEU-56973-crop.jpg\" alt=\"\" /></div>\\n\\t\\t\\t\\t\\t\\t\\t\\t\\t\\t\\t\\t\\t\\t\\t<p class=\"roles\"><span class=\"role-23\">Tenured and Tenure Track Faculty</span></p>\\n\\t\\t\\t\\t\\t\\t\\t\\t\\t\\t\\t\\t\\t\\t<h3 class=\"person-name\">\\n\\t\\t\\t\\t\\t\\t\\t\\t\\tWoodrow Hartzog\\t\\t\\t\\t\\t\\t\\t</h3>\\n\\t\\t\\t\\t\\t\\t</a>\\n\\t\\t\\t\\t\\t\\t\\t\\t\\t\\t\\t\\t<div class=\"position-list\">\\n\\t\\t\\t\\t\\t\\t\\t\\t\\t\\t\\t\\t\\t\\t\\t<p class=\"position\">Professor</p>\\n\\t\\t\\t\\t\\t\\t\\t\\t\\t\\t\\t\\t\\t\\t\\t<p class=\"position\">Interdisciplinary with the School of Law</p>\\n\\t\\t\\t\\t\\t\\t\\t\\t\\t\\t\\t\\t\\t</div>\\n\\t\\t\\t\\t\\t\\t\\t\\t\\t\\t\\t\\t\\t\\t\\t\\t\\t</div>\\n\\t\\t\\t\\t</article>\\n\\t\\t\\t\\t\\t\\t</div>\\n\\t\\t\\t\\t\\t\\t\\t\\t\\t\\t<div class=\"grid-square grid-people\">\\n\\t\\t\\t\\t\\t\\t\\t\\t\\t\\t\\t<article class=\"people\">\\n\\t\\t\\t\\t\\t<div class=\"grid-item\">\\n\\t\\t\\t\\t\\t\\t<a href=\"https://www.khoury.northeastern.edu/people/stephen-intille/\">\\n\\t\\t\\t\\t\\t\\t\\t\\t<div class=\"grid-image\"><img src=\"https://www.khoury.northeastern.edu/wp-content/uploads/2016/02/Stephen-Intille-index-image.jpg\" alt=\"\" /></div>\\n\\t\\t\\t\\t\\t\\t\\t\\t\\t\\t\\t\\t\\t\\t\\t<p class=\"roles\"><span class=\"role-23\">Tenured and Tenure Track Faculty</span></p>\\n\\t\\t\\t\\t\\t\\t\\t\\t\\t\\t\\t\\t\\t\\t<h3 class=\"person-name\">\\n\\t\\t\\t\\t\\t\\t\\t\\t\\tStephen Intille\\t\\t\\t\\t\\t\\t\\t</h3>\\n\\t\\t\\t\\t\\t\\t</a>\\n\\t\\t\\t\\t\\t\\t\\t\\t\\t\\t\\t\\t<div class=\"position-list\">\\n\\t\\t\\t\\t\\t\\t\\t\\t\\t\\t\\t\\t\\t\\t\\t<p class=\"position\">Associate Professor</p>\\n\\t\\t\\t\\t\\t\\t\\t\\t\\t\\t\\t\\t\\t\\t\\t<p class=\"position\">Interdisciplinary with Bouv\\xc3\\xa9 College of Health Sciences</p>\\n\\t\\t\\t\\t\\t\\t\\t\\t\\t\\t\\t\\t\\t</div>\\n\\t\\t\\t\\t\\t\\t\\t\\t\\t\\t\\t\\t\\t\\t\\t\\t\\t</div>\\n\\t\\t\\t\\t</article>\\n\\t\\t\\t\\t\\t\\t</div>\\n\\t\\t\\t\\t\\t\\t\\t\\t\\t\\t<div class=\"grid-square grid-people\">\\n\\t\\t\\t\\t\\t\\t\\t\\t\\t\\t\\t<article class=\"people\">\\n\\t\\t\\t\\t\\t<div class=\"grid-item\">\\n\\t\\t\\t\\t\\t\\t<a href=\"https://www.khoury.northeastern.edu/people/engin-kirda/\">\\n\\t\\t\\t\\t\\t\\t\\t\\t<div class=\"grid-image\"><img src=\"https://www.khoury.northeastern.edu/wp-content/uploads/2016/03/Engin-Kirda-Index-Image.jpg\" alt=\"\" /></div>\\n\\t\\t\\t\\t\\t\\t\\t\\t\\t\\t\\t\\t\\t\\t\\t<p class=\"roles\"><span class=\"role-23\">Tenured and Tenure Track Faculty</span></p>\\n\\t\\t\\t\\t\\t\\t\\t\\t\\t\\t\\t\\t\\t\\t<h3 class=\"person-name\">\\n\\t\\t\\t\\t\\t\\t\\t\\t\\tEngin Kirda\\t\\t\\t\\t\\t\\t\\t</h3>\\n\\t\\t\\t\\t\\t\\t</a>\\n\\t\\t\\t\\t\\t\\t\\t\\t\\t\\t\\t\\t<div class=\"position-list\">\\n\\t\\t\\t\\t\\t\\t\\t\\t\\t\\t\\t\\t\\t\\t\\t<p class=\"position\">Professor</p>\\n\\t\\t\\t\\t\\t\\t\\t\\t\\t\\t\\t\\t\\t\\t\\t<p class=\"position\">Executive Director - Cybersecurity and Privacy Institute</p>\\n\\t\\t\\t\\t\\t\\t\\t\\t\\t\\t\\t\\t\\t\\t\\t<p class=\"position\">Interdisciplinary with College of Engineering</p>\\n\\t\\t\\t\\t\\t\\t\\t\\t\\t\\t\\t\\t\\t</div>\\n\\t\\t\\t\\t\\t\\t\\t\\t\\t\\t\\t\\t\\t\\t\\t\\t\\t</div>\\n\\t\\t\\t\\t</article>\\n\\t\\t\\t\\t\\t\\t</div>\\n\\t\\t\\t\\t\\t\\t\\t\\t\\t\\t<div class=\"grid-square grid-people\">\\n\\t\\t\\t\\t\\t\\t\\t\\t\\t\\t\\t<article class=\"people\">\\n\\t\\t\\t\\t\\t<div class=\"grid-item\">\\n\\t\\t\\t\\t\\t\\t<a href=\"https://www.khoury.northeastern.edu/people/david-lazer/\">\\n\\t\\t\\t\\t\\t\\t\\t\\t<div class=\"grid-image\"><img src=\"https://www.khoury.northeastern.edu/wp-content/uploads/2016/03/David-Lazer-index-image.jpg\" alt=\"\" /></div>\\n\\t\\t\\t\\t\\t\\t\\t\\t\\t\\t\\t\\t\\t\\t\\t<p class=\"roles\"><span class=\"role-23\">Tenured and Tenure Track Faculty</span></p>\\n\\t\\t\\t\\t\\t\\t\\t\\t\\t\\t\\t\\t\\t\\t<h3 class=\"person-name\">\\n\\t\\t\\t\\t\\t\\t\\t\\t\\tDavid Lazer\\t\\t\\t\\t\\t\\t\\t</h3>\\n\\t\\t\\t\\t\\t\\t</a>\\n\\t\\t\\t\\t\\t\\t\\t\\t\\t\\t\\t\\t<div class=\"position-list\">\\n\\t\\t\\t\\t\\t\\t\\t\\t\\t\\t\\t\\t\\t\\t\\t<p class=\"position\">Distinguished Professor</p>\\n\\t\\t\\t\\t\\t\\t\\t\\t\\t\\t\\t\\t\\t\\t\\t<p class=\"position\">Interdisciplinary with College of Social Sciences and Humanities</p>\\n\\t\\t\\t\\t\\t\\t\\t\\t\\t\\t\\t\\t\\t</div>\\n\\t\\t\\t\\t\\t\\t\\t\\t\\t\\t\\t\\t\\t\\t\\t\\t\\t</div>\\n\\t\\t\\t\\t</article>\\n\\t\\t\\t\\t\\t\\t</div>\\n\\t\\t\\t\\t\\t\\t\\t\\t\\t\\t<div class=\"grid-square grid-people\">\\n\\t\\t\\t\\t\\t\\t\\t\\t\\t\\t\\t<article class=\"people\">\\n\\t\\t\\t\\t\\t<div class=\"grid-item\">\\n\\t\\t\\t\\t\\t\\t<a href=\"https://www.khoury.northeastern.edu/people/karl-lieberherr/\">\\n\\t\\t\\t\\t\\t\\t\\t\\t<div class=\"grid-image\"><img src=\"https://www.khoury.northeastern.edu/wp-content/uploads/2016/02/Kari-Lieberherr-headshot-image.jpg\" alt=\"\" /></div>\\n\\t\\t\\t\\t\\t\\t\\t\\t\\t\\t\\t\\t\\t\\t\\t<p class=\"roles\"><span class=\"role-23\">Tenured and Tenure Track Faculty</span></p>\\n\\t\\t\\t\\t\\t\\t\\t\\t\\t\\t\\t\\t\\t\\t<h3 class=\"person-name\">\\n\\t\\t\\t\\t\\t\\t\\t\\t\\tKarl Lieberherr\\t\\t\\t\\t\\t\\t\\t</h3>\\n\\t\\t\\t\\t\\t\\t</a>\\n\\t\\t\\t\\t\\t\\t\\t\\t\\t\\t\\t\\t<div class=\"position-list\">\\n\\t\\t\\t\\t\\t\\t\\t\\t\\t\\t\\t\\t\\t\\t\\t<p class=\"position\">Professor</p>\\n\\t\\t\\t\\t\\t\\t\\t\\t\\t\\t\\t\\t\\t</div>\\n\\t\\t\\t\\t\\t\\t\\t\\t\\t\\t\\t\\t\\t\\t\\t\\t\\t</div>\\n\\t\\t\\t\\t</article>\\n\\t\\t\\t\\t\\t\\t</div>\\n\\t\\t\\t\\t\\t\\t\\t\\t\\t\\t<div class=\"grid-square grid-people\">\\n\\t\\t\\t\\t\\t\\t\\t\\t\\t\\t\\t<article class=\"people\">\\n\\t\\t\\t\\t\\t<div class=\"grid-item\">\\n\\t\\t\\t\\t\\t\\t<a href=\"https://www.khoury.northeastern.edu/people/long-lu/\">\\n\\t\\t\\t\\t\\t\\t\\t\\t<div class=\"grid-image\"><img src=\"https://www.khoury.northeastern.edu/wp-content/uploads/2017/08/linderpix-NEU-57096-crop.jpg\" alt=\"\" /></div>\\n\\t\\t\\t\\t\\t\\t\\t\\t\\t\\t\\t\\t\\t\\t\\t<p class=\"roles\"><span class=\"role-23\">Tenured and Tenure Track Faculty</span></p>\\n\\t\\t\\t\\t\\t\\t\\t\\t\\t\\t\\t\\t\\t\\t<h3 class=\"person-name\">\\n\\t\\t\\t\\t\\t\\t\\t\\t\\tLong Lu\\t\\t\\t\\t\\t\\t\\t</h3>\\n\\t\\t\\t\\t\\t\\t</a>\\n\\t\\t\\t\\t\\t\\t\\t\\t\\t\\t\\t\\t<div class=\"position-list\">\\n\\t\\t\\t\\t\\t\\t\\t\\t\\t\\t\\t\\t\\t\\t\\t<p class=\"position\">Assistant Professor</p>\\n\\t\\t\\t\\t\\t\\t\\t\\t\\t\\t\\t\\t\\t</div>\\n\\t\\t\\t\\t\\t\\t\\t\\t\\t\\t\\t\\t\\t\\t\\t\\t\\t</div>\\n\\t\\t\\t\\t</article>\\n\\t\\t\\t\\t\\t\\t</div>\\n\\t\\t\\t\\t\\t\\t\\t\\t\\t\\t<div class=\"grid-square grid-people\">\\n\\t\\t\\t\\t\\t\\t\\t\\t\\t\\t\\t<article class=\"people\">\\n\\t\\t\\t\\t\\t<div class=\"grid-item\">\\n\\t\\t\\t\\t\\t\\t<a href=\"https://www.khoury.northeastern.edu/people/panagiotos-manolios/\">\\n\\t\\t\\t\\t\\t\\t\\t\\t<div class=\"grid-image\"><img src=\"https://www.khoury.northeastern.edu/wp-content/uploads/2016/02/Pete-Manolios-index-image-e1456759585514.jpg\" alt=\"\" /></div>\\n\\t\\t\\t\\t\\t\\t\\t\\t\\t\\t\\t\\t\\t\\t\\t<p class=\"roles\"><span class=\"role-23\">Tenured and Tenure Track Faculty</span></p>\\n\\t\\t\\t\\t\\t\\t\\t\\t\\t\\t\\t\\t\\t\\t<h3 class=\"person-name\">\\n\\t\\t\\t\\t\\t\\t\\t\\t\\tPanagiotos (Pete) Manolios\\t\\t\\t\\t\\t\\t\\t</h3>\\n\\t\\t\\t\\t\\t\\t</a>\\n\\t\\t\\t\\t\\t\\t\\t\\t\\t\\t\\t\\t<div class=\"position-list\">\\n\\t\\t\\t\\t\\t\\t\\t\\t\\t\\t\\t\\t\\t\\t\\t<p class=\"position\">Professor</p>\\n\\t\\t\\t\\t\\t\\t\\t\\t\\t\\t\\t\\t\\t</div>\\n\\t\\t\\t\\t\\t\\t\\t\\t\\t\\t\\t\\t\\t\\t\\t\\t\\t</div>\\n\\t\\t\\t\\t</article>\\n\\t\\t\\t\\t\\t\\t</div>\\n\\t\\t\\t\\t\\t\\t\\t\\t\\t\\t<div class=\"grid-square grid-people\">\\n\\t\\t\\t\\t\\t\\t\\t\\t\\t\\t\\t<article class=\"people\">\\n\\t\\t\\t\\t\\t<div class=\"grid-item\">\\n\\t\\t\\t\\t\\t\\t<a href=\"https://www.khoury.northeastern.edu/people/stacy-c-marsella/\">\\n\\t\\t\\t\\t\\t\\t\\t\\t<div class=\"grid-image\"><img src=\"https://www.khoury.northeastern.edu/wp-content/uploads/2016/03/Stacy-Marsella-Index-Image.jpg\" alt=\"\" /></div>\\n\\t\\t\\t\\t\\t\\t\\t\\t\\t\\t\\t\\t\\t\\t\\t<p class=\"roles\"><span class=\"role-23\">Tenured and Tenure Track Faculty</span></p>\\n\\t\\t\\t\\t\\t\\t\\t\\t\\t\\t\\t\\t\\t\\t<h3 class=\"person-name\">\\n\\t\\t\\t\\t\\t\\t\\t\\t\\tStacy C. Marsella\\t\\t\\t\\t\\t\\t\\t</h3>\\n\\t\\t\\t\\t\\t\\t</a>\\n\\t\\t\\t\\t\\t\\t\\t\\t\\t\\t\\t\\t<div class=\"position-list\">\\n\\t\\t\\t\\t\\t\\t\\t\\t\\t\\t\\t\\t\\t\\t\\t<p class=\"position\">Professor</p>\\n\\t\\t\\t\\t\\t\\t\\t\\t\\t\\t\\t\\t\\t\\t\\t<p class=\"position\">Interdisciplinary with College of Science</p>\\n\\t\\t\\t\\t\\t\\t\\t\\t\\t\\t\\t\\t\\t</div>\\n\\t\\t\\t\\t\\t\\t\\t\\t\\t\\t\\t\\t\\t\\t\\t\\t\\t</div>\\n\\t\\t\\t\\t</article>\\n\\t\\t\\t\\t\\t\\t</div>\\n\\t\\t\\t\\t\\t\\t\\t\\t\\t\\t<div class=\"grid-square grid-people\">\\n\\t\\t\\t\\t\\t\\t\\t\\t\\t\\t\\t<article class=\"people\">\\n\\t\\t\\t\\t\\t<div class=\"grid-item\">\\n\\t\\t\\t\\t\\t\\t<a href=\"https://www.khoury.northeastern.edu/people/renee-miller/\">\\n\\t\\t\\t\\t\\t\\t\\t\\t<div class=\"grid-image\"><img src=\"https://www.khoury.northeastern.edu/wp-content/uploads/2018/01/no-photo4.jpg\" alt=\"\" /></div>\\n\\t\\t\\t\\t\\t\\t\\t\\t\\t\\t\\t\\t\\t\\t\\t<p class=\"roles\"><span class=\"role-23\">Tenured and Tenure Track Faculty</span></p>\\n\\t\\t\\t\\t\\t\\t\\t\\t\\t\\t\\t\\t\\t\\t<h3 class=\"person-name\">\\n\\t\\t\\t\\t\\t\\t\\t\\t\\tRen\\xc3\\xa9e Miller\\t\\t\\t\\t\\t\\t\\t</h3>\\n\\t\\t\\t\\t\\t\\t</a>\\n\\t\\t\\t\\t\\t\\t\\t\\t\\t\\t\\t\\t<div class=\"position-list\">\\n\\t\\t\\t\\t\\t\\t\\t\\t\\t\\t\\t\\t\\t\\t\\t<p class=\"position\">University Distinguished Professor</p>\\n\\t\\t\\t\\t\\t\\t\\t\\t\\t\\t\\t\\t\\t</div>\\n\\t\\t\\t\\t\\t\\t\\t\\t\\t\\t\\t\\t\\t\\t\\t\\t\\t</div>\\n\\t\\t\\t\\t</article>\\n\\t\\t\\t\\t\\t\\t</div>\\n\\t\\t\\t\\t\\t\\t\\t\\t\\t\\t<div class=\"grid-square grid-people\">\\n\\t\\t\\t\\t\\t\\t\\t\\t\\t\\t\\t<article class=\"people\">\\n\\t\\t\\t\\t\\t<div class=\"grid-item\">\\n\\t\\t\\t\\t\\t\\t<a href=\"https://www.khoury.northeastern.edu/people/alan-mislove/\">\\n\\t\\t\\t\\t\\t\\t\\t\\t<div class=\"grid-image\"><img src=\"https://www.khoury.northeastern.edu/wp-content/uploads/2016/02/Alan-Mislove_cropped-headshot.jpg\" alt=\"\" /></div>\\n\\t\\t\\t\\t\\t\\t\\t\\t\\t\\t\\t\\t\\t\\t\\t<p class=\"roles\"><span class=\"role-29\">Administrative Staff</span> <span class=\"role-23\">Tenured and Tenure Track Faculty</span></p>\\n\\t\\t\\t\\t\\t\\t\\t\\t\\t\\t\\t\\t\\t\\t<h3 class=\"person-name\">\\n\\t\\t\\t\\t\\t\\t\\t\\t\\tAlan Mislove\\t\\t\\t\\t\\t\\t\\t</h3>\\n\\t\\t\\t\\t\\t\\t</a>\\n\\t\\t\\t\\t\\t\\t\\t\\t\\t\\t\\t\\t<div class=\"position-list\">\\n\\t\\t\\t\\t\\t\\t\\t\\t\\t\\t\\t\\t\\t\\t\\t<p class=\"position\">Professor</p>\\n\\t\\t\\t\\t\\t\\t\\t\\t\\t\\t\\t\\t\\t\\t\\t<p class=\"position\">Associate Dean & Director - Undergraduate Programs</p>\\n\\t\\t\\t\\t\\t\\t\\t\\t\\t\\t\\t\\t\\t</div>\\n\\t\\t\\t\\t\\t\\t\\t\\t\\t\\t\\t\\t\\t\\t\\t\\t\\t</div>\\n\\t\\t\\t\\t</article>\\n\\t\\t\\t\\t\\t\\t</div>\\n\\t\\t\\t\\t\\t\\t\\t\\t\\t\\t<div class=\"grid-square grid-people\">\\n\\t\\t\\t\\t\\t\\t\\t\\t\\t\\t\\t<article class=\"people\">\\n\\t\\t\\t\\t\\t<div class=\"grid-item\">\\n\\t\\t\\t\\t\\t\\t<a href=\"https://www.khoury.northeastern.edu/people/huy-le-nguyen/\">\\n\\t\\t\\t\\t\\t\\t\\t\\t<div class=\"grid-image\"><img src=\"https://www.khoury.northeastern.edu/wp-content/uploads/2016/08/Nguyen_Huy-index-image.jpg\" alt=\"\" /></div>\\n\\t\\t\\t\\t\\t\\t\\t\\t\\t\\t\\t\\t\\t\\t\\t<p class=\"roles\"><span class=\"role-23\">Tenured and Tenure Track Faculty</span></p>\\n\\t\\t\\t\\t\\t\\t\\t\\t\\t\\t\\t\\t\\t\\t<h3 class=\"person-name\">\\n\\t\\t\\t\\t\\t\\t\\t\\t\\tHuy L\\xc3\\xaa Nguyen\\t\\t\\t\\t\\t\\t\\t</h3>\\n\\t\\t\\t\\t\\t\\t</a>\\n\\t\\t\\t\\t\\t\\t\\t\\t\\t\\t\\t\\t<div class=\"position-list\">\\n\\t\\t\\t\\t\\t\\t\\t\\t\\t\\t\\t\\t\\t\\t\\t<p class=\"position\">Assistant Professor</p>\\n\\t\\t\\t\\t\\t\\t\\t\\t\\t\\t\\t\\t\\t</div>\\n\\t\\t\\t\\t\\t\\t\\t\\t\\t\\t\\t\\t\\t\\t\\t\\t\\t</div>\\n\\t\\t\\t\\t</article>\\n\\t\\t\\t\\t\\t\\t</div>\\n\\t\\t\\t\\t\\t\\t\\t\\t\\t\\t<div class=\"grid-square grid-people\">\\n\\t\\t\\t\\t\\t\\t\\t\\t\\t\\t\\t<article class=\"people\">\\n\\t\\t\\t\\t\\t<div class=\"grid-item\">\\n\\t\\t\\t\\t\\t\\t<a href=\"https://www.khoury.northeastern.edu/people/cristina-nita-rotaru/\">\\n\\t\\t\\t\\t\\t\\t\\t\\t<div class=\"grid-image\"><img src=\"https://www.khoury.northeastern.edu/wp-content/uploads/2016/02/Cristina-Nita-Rotaru-index-image-e1456779197640.jpg\" alt=\"\" /></div>\\n\\t\\t\\t\\t\\t\\t\\t\\t\\t\\t\\t\\t\\t\\t\\t<p class=\"roles\"><span class=\"role-29\">Administrative Staff</span> <span class=\"role-23\">Tenured and Tenure Track Faculty</span></p>\\n\\t\\t\\t\\t\\t\\t\\t\\t\\t\\t\\t\\t\\t\\t<h3 class=\"person-name\">\\n\\t\\t\\t\\t\\t\\t\\t\\t\\tCristina Nita-Rotaru\\t\\t\\t\\t\\t\\t\\t</h3>\\n\\t\\t\\t\\t\\t\\t</a>\\n\\t\\t\\t\\t\\t\\t\\t\\t\\t\\t\\t\\t<div class=\"position-list\">\\n\\t\\t\\t\\t\\t\\t\\t\\t\\t\\t\\t\\t\\t\\t\\t<p class=\"position\">Professor </p>\\n\\t\\t\\t\\t\\t\\t\\t\\t\\t\\t\\t\\t\\t\\t\\t<p class=\"position\">Associate Dean - Faculty</p>\\n\\t\\t\\t\\t\\t\\t\\t\\t\\t\\t\\t\\t\\t</div>\\n\\t\\t\\t\\t\\t\\t\\t\\t\\t\\t\\t\\t\\t\\t\\t\\t\\t</div>\\n\\t\\t\\t\\t</article>\\n\\t\\t\\t\\t\\t\\t</div>\\n\\t\\t\\t\\t\\t\\t\\t\\t\\t\\t<div class=\"grid-square grid-people\">\\n\\t\\t\\t\\t\\t\\t\\t\\t\\t\\t\\t<article class=\"people\">\\n\\t\\t\\t\\t\\t<div class=\"grid-item\">\\n\\t\\t\\t\\t\\t\\t<a href=\"https://www.khoury.northeastern.edu/people/guevara-noubir/\">\\n\\t\\t\\t\\t\\t\\t\\t\\t<div class=\"grid-image\"><img src=\"https://www.khoury.northeastern.edu/wp-content/uploads/2016/02/Guevara-Noubir-index-image-e1456779093303.jpg\" alt=\"\" /></div>\\n\\t\\t\\t\\t\\t\\t\\t\\t\\t\\t\\t\\t\\t\\t\\t<p class=\"roles\"><span class=\"role-29\">Administrative Staff</span> <span class=\"role-23\">Tenured and Tenure Track Faculty</span></p>\\n\\t\\t\\t\\t\\t\\t\\t\\t\\t\\t\\t\\t\\t\\t<h3 class=\"person-name\">\\n\\t\\t\\t\\t\\t\\t\\t\\t\\tGuevara Noubir\\t\\t\\t\\t\\t\\t\\t</h3>\\n\\t\\t\\t\\t\\t\\t</a>\\n\\t\\t\\t\\t\\t\\t\\t\\t\\t\\t\\t\\t<div class=\"position-list\">\\n\\t\\t\\t\\t\\t\\t\\t\\t\\t\\t\\t\\t\\t\\t\\t<p class=\"position\">Professor</p>\\n\\t\\t\\t\\t\\t\\t\\t\\t\\t\\t\\t\\t\\t\\t\\t<p class=\"position\">Director - Cybersecurity &amp; Information Assurance Graduate Program</p>\\n\\t\\t\\t\\t\\t\\t\\t\\t\\t\\t\\t\\t\\t</div>\\n\\t\\t\\t\\t\\t\\t\\t\\t\\t\\t\\t\\t\\t\\t\\t\\t\\t</div>\\n\\t\\t\\t\\t</article>\\n\\t\\t\\t\\t\\t\\t</div>\\n\\t\\t\\t\\t\\t\\t\\t\\t\\t\\t<div class=\"grid-square grid-people\">\\n\\t\\t\\t\\t\\t\\t\\t\\t\\t\\t\\t<article class=\"people\">\\n\\t\\t\\t\\t\\t<div class=\"grid-item\">\\n\\t\\t\\t\\t\\t\\t<a href=\"https://www.khoury.northeastern.edu/people/alina-oprea/\">\\n\\t\\t\\t\\t\\t\\t\\t\\t<div class=\"grid-image\"><img src=\"https://www.khoury.northeastern.edu/wp-content/uploads/2016/08/Oprea_Alina-index-image.jpg\" alt=\"\" /></div>\\n\\t\\t\\t\\t\\t\\t\\t\\t\\t\\t\\t\\t\\t\\t\\t<p class=\"roles\"><span class=\"role-23\">Tenured and Tenure Track Faculty</span></p>\\n\\t\\t\\t\\t\\t\\t\\t\\t\\t\\t\\t\\t\\t\\t<h3 class=\"person-name\">\\n\\t\\t\\t\\t\\t\\t\\t\\t\\tAlina Oprea\\t\\t\\t\\t\\t\\t\\t</h3>\\n\\t\\t\\t\\t\\t\\t</a>\\n\\t\\t\\t\\t\\t\\t\\t\\t\\t\\t\\t\\t<div class=\"position-list\">\\n\\t\\t\\t\\t\\t\\t\\t\\t\\t\\t\\t\\t\\t\\t\\t<p class=\"position\">Associate Professor</p>\\n\\t\\t\\t\\t\\t\\t\\t\\t\\t\\t\\t\\t\\t</div>\\n\\t\\t\\t\\t\\t\\t\\t\\t\\t\\t\\t\\t\\t\\t\\t\\t\\t</div>\\n\\t\\t\\t\\t</article>\\n\\t\\t\\t\\t\\t\\t</div>\\n\\t\\t\\t\\t\\t\\t\\t\\t\\t\\t<div class=\"grid-square grid-people\">\\n\\t\\t\\t\\t\\t\\t\\t\\t\\t\\t\\t<article class=\"people\">\\n\\t\\t\\t\\t\\t<div class=\"grid-item\">\\n\\t\\t\\t\\t\\t\\t<a href=\"https://www.khoury.northeastern.edu/people/andrea-grimes-parker/\">\\n\\t\\t\\t\\t\\t\\t\\t\\t<div class=\"grid-image\"><img src=\"https://www.khoury.northeastern.edu/wp-content/uploads/2016/02/Andrea-Parker-index-image-e1456779254698.jpg\" alt=\"\" /></div>\\n\\t\\t\\t\\t\\t\\t\\t\\t\\t\\t\\t\\t\\t\\t\\t<p class=\"roles\"><span class=\"role-23\">Tenured and Tenure Track Faculty</span></p>\\n\\t\\t\\t\\t\\t\\t\\t\\t\\t\\t\\t\\t\\t\\t<h3 class=\"person-name\">\\n\\t\\t\\t\\t\\t\\t\\t\\t\\tAndrea Grimes Parker\\t\\t\\t\\t\\t\\t\\t</h3>\\n\\t\\t\\t\\t\\t\\t</a>\\n\\t\\t\\t\\t\\t\\t\\t\\t\\t\\t\\t\\t<div class=\"position-list\">\\n\\t\\t\\t\\t\\t\\t\\t\\t\\t\\t\\t\\t\\t\\t\\t<p class=\"position\">Assistant Professor</p>\\n\\t\\t\\t\\t\\t\\t\\t\\t\\t\\t\\t\\t\\t\\t\\t<p class=\"position\">Interdisciplinary with Bouv\\xc3\\xa9 College of Health Sciences</p>\\n\\t\\t\\t\\t\\t\\t\\t\\t\\t\\t\\t\\t\\t</div>\\n\\t\\t\\t\\t\\t\\t\\t\\t\\t\\t\\t\\t\\t\\t\\t\\t\\t</div>\\n\\t\\t\\t\\t</article>\\n\\t\\t\\t\\t\\t\\t</div>\\n\\t\\t\\t\\t\\t\\t\\t\\t\\t\\t<div class=\"grid-square grid-people\">\\n\\t\\t\\t\\t\\t\\t\\t\\t\\t\\t\\t<article class=\"people\">\\n\\t\\t\\t\\t\\t<div class=\"grid-item\">\\n\\t\\t\\t\\t\\t\\t<a href=\"https://www.khoury.northeastern.edu/people/rupal-patel/\">\\n\\t\\t\\t\\t\\t\\t\\t\\t<div class=\"grid-image\"><img src=\"https://www.khoury.northeastern.edu/wp-content/uploads/2016/03/Rupal-Patel-index-image.jpg\" alt=\"\" /></div>\\n\\t\\t\\t\\t\\t\\t\\t\\t\\t\\t\\t\\t\\t\\t\\t<p class=\"roles\"><span class=\"role-23\">Tenured and Tenure Track Faculty</span></p>\\n\\t\\t\\t\\t\\t\\t\\t\\t\\t\\t\\t\\t\\t\\t<h3 class=\"person-name\">\\n\\t\\t\\t\\t\\t\\t\\t\\t\\tRupal Patel\\t\\t\\t\\t\\t\\t\\t</h3>\\n\\t\\t\\t\\t\\t\\t</a>\\n\\t\\t\\t\\t\\t\\t\\t\\t\\t\\t\\t\\t<div class=\"position-list\">\\n\\t\\t\\t\\t\\t\\t\\t\\t\\t\\t\\t\\t\\t\\t\\t<p class=\"position\">Professor</p>\\n\\t\\t\\t\\t\\t\\t\\t\\t\\t\\t\\t\\t\\t\\t\\t<p class=\"position\">Interdisciplinary with Bouv\\xc3\\xa9 College of Health Sciences</p>\\n\\t\\t\\t\\t\\t\\t\\t\\t\\t\\t\\t\\t\\t</div>\\n\\t\\t\\t\\t\\t\\t\\t\\t\\t\\t\\t\\t\\t\\t\\t\\t\\t</div>\\n\\t\\t\\t\\t</article>\\n\\t\\t\\t\\t\\t\\t</div>\\n\\t\\t\\t\\t\\t\\t\\t\\t\\t\\t<div class=\"grid-square grid-people\">\\n\\t\\t\\t\\t\\t\\t\\t\\t\\t\\t\\t<article class=\"people\">\\n\\t\\t\\t\\t\\t<div class=\"grid-item\">\\n\\t\\t\\t\\t\\t\\t<a href=\"https://www.khoury.northeastern.edu/people/robert-platt/\">\\n\\t\\t\\t\\t\\t\\t\\t\\t<div class=\"grid-image\"><img src=\"https://www.khoury.northeastern.edu/wp-content/uploads/2016/02/Rob-Platt-index-image-e1456759522529.jpg\" alt=\"\" /></div>\\n\\t\\t\\t\\t\\t\\t\\t\\t\\t\\t\\t\\t\\t\\t\\t<p class=\"roles\"><span class=\"role-23\">Tenured and Tenure Track Faculty</span></p>\\n\\t\\t\\t\\t\\t\\t\\t\\t\\t\\t\\t\\t\\t\\t<h3 class=\"person-name\">\\n\\t\\t\\t\\t\\t\\t\\t\\t\\tRobert Platt\\t\\t\\t\\t\\t\\t\\t</h3>\\n\\t\\t\\t\\t\\t\\t</a>\\n\\t\\t\\t\\t\\t\\t\\t\\t\\t\\t\\t\\t<div class=\"position-list\">\\n\\t\\t\\t\\t\\t\\t\\t\\t\\t\\t\\t\\t\\t\\t\\t<p class=\"position\">Associate Professor</p>\\n\\t\\t\\t\\t\\t\\t\\t\\t\\t\\t\\t\\t\\t\\t\\t<p class=\"position\">Interdisciplinary with College of Engineering</p>\\n\\t\\t\\t\\t\\t\\t\\t\\t\\t\\t\\t\\t\\t</div>\\n\\t\\t\\t\\t\\t\\t\\t\\t\\t\\t\\t\\t\\t\\t\\t\\t\\t</div>\\n\\t\\t\\t\\t</article>\\n\\t\\t\\t\\t\\t\\t</div>\\n\\t\\t\\t\\t\\t\\t\\t\\t\\t\\t<div class=\"grid-square grid-people\">\\n\\t\\t\\t\\t\\t\\t\\t\\t\\t\\t\\t<article class=\"people\">\\n\\t\\t\\t\\t\\t<div class=\"grid-item\">\\n\\t\\t\\t\\t\\t\\t<a href=\"https://www.khoury.northeastern.edu/people/predrag-radivojac/\">\\n\\t\\t\\t\\t\\t\\t\\t\\t<div class=\"grid-image\"><img src=\"https://www.khoury.northeastern.edu/wp-content/uploads/2018/08/linderpix-NEU-9299-crop.jpg\" alt=\"\" /></div>\\n\\t\\t\\t\\t\\t\\t\\t\\t\\t\\t\\t\\t\\t\\t\\t<p class=\"roles\"><span class=\"role-29\">Administrative Staff</span> <span class=\"role-23\">Tenured and Tenure Track Faculty</span></p>\\n\\t\\t\\t\\t\\t\\t\\t\\t\\t\\t\\t\\t\\t\\t<h3 class=\"person-name\">\\n\\t\\t\\t\\t\\t\\t\\t\\t\\tPredrag Radivojac\\t\\t\\t\\t\\t\\t\\t</h3>\\n\\t\\t\\t\\t\\t\\t</a>\\n\\t\\t\\t\\t\\t\\t\\t\\t\\t\\t\\t\\t<div class=\"position-list\">\\n\\t\\t\\t\\t\\t\\t\\t\\t\\t\\t\\t\\t\\t\\t\\t<p class=\"position\">Professor</p>\\n\\t\\t\\t\\t\\t\\t\\t\\t\\t\\t\\t\\t\\t\\t\\t<p class=\"position\">Associate Dean of Research</p>\\n\\t\\t\\t\\t\\t\\t\\t\\t\\t\\t\\t\\t\\t</div>\\n\\t\\t\\t\\t\\t\\t\\t\\t\\t\\t\\t\\t\\t\\t\\t\\t\\t</div>\\n\\t\\t\\t\\t</article>\\n\\t\\t\\t\\t\\t\\t</div>\\n\\t\\t\\t\\t\\t\\t\\t\\t\\t\\t<div class=\"grid-square grid-people\">\\n\\t\\t\\t\\t\\t\\t\\t\\t\\t\\t\\t<article class=\"people\">\\n\\t\\t\\t\\t\\t<div class=\"grid-item\">\\n\\t\\t\\t\\t\\t\\t<a href=\"https://www.khoury.northeastern.edu/people/rajmohan-rajaraman/\">\\n\\t\\t\\t\\t\\t\\t\\t\\t<div class=\"grid-image\"><img src=\"https://www.khoury.northeastern.edu/wp-content/uploads/2016/03/Rajmohan-Rajaraman-Index-Image.jpg\" alt=\"\" /></div>\\n\\t\\t\\t\\t\\t\\t\\t\\t\\t\\t\\t\\t\\t\\t\\t<p class=\"roles\"><span class=\"role-23\">Tenured and Tenure Track Faculty</span></p>\\n\\t\\t\\t\\t\\t\\t\\t\\t\\t\\t\\t\\t\\t\\t<h3 class=\"person-name\">\\n\\t\\t\\t\\t\\t\\t\\t\\t\\tRajmohan Rajaraman\\t\\t\\t\\t\\t\\t\\t</h3>\\n\\t\\t\\t\\t\\t\\t</a>\\n\\t\\t\\t\\t\\t\\t\\t\\t\\t\\t\\t\\t<div class=\"position-list\">\\n\\t\\t\\t\\t\\t\\t\\t\\t\\t\\t\\t\\t\\t\\t\\t<p class=\"position\">Professor</p>\\n\\t\\t\\t\\t\\t\\t\\t\\t\\t\\t\\t\\t\\t</div>\\n\\t\\t\\t\\t\\t\\t\\t\\t\\t\\t\\t\\t\\t\\t\\t\\t\\t</div>\\n\\t\\t\\t\\t</article>\\n\\t\\t\\t\\t\\t\\t</div>\\n\\t\\t\\t\\t\\t\\t\\t\\t\\t\\t<div class=\"grid-square grid-people\">\\n\\t\\t\\t\\t\\t\\t\\t\\t\\t\\t\\t<article class=\"people\">\\n\\t\\t\\t\\t\\t<div class=\"grid-item\">\\n\\t\\t\\t\\t\\t\\t<a href=\"https://www.khoury.northeastern.edu/people/aanjhan-ranganathan/\">\\n\\t\\t\\t\\t\\t\\t\\t\\t<div class=\"grid-image\"><img src=\"https://www.khoury.northeastern.edu/wp-content/uploads/2017/08/IMG_4378-2-index.jpg\" alt=\"\" /></div>\\n\\t\\t\\t\\t\\t\\t\\t\\t\\t\\t\\t\\t\\t\\t\\t<p class=\"roles\"><span class=\"role-23\">Tenured and Tenure Track Faculty</span></p>\\n\\t\\t\\t\\t\\t\\t\\t\\t\\t\\t\\t\\t\\t\\t<h3 class=\"person-name\">\\n\\t\\t\\t\\t\\t\\t\\t\\t\\tAanjhan Ranganathan\\t\\t\\t\\t\\t\\t\\t</h3>\\n\\t\\t\\t\\t\\t\\t</a>\\n\\t\\t\\t\\t\\t\\t\\t\\t\\t\\t\\t\\t<div class=\"position-list\">\\n\\t\\t\\t\\t\\t\\t\\t\\t\\t\\t\\t\\t\\t\\t\\t<p class=\"position\">Assistant Professor</p>\\n\\t\\t\\t\\t\\t\\t\\t\\t\\t\\t\\t\\t\\t</div>\\n\\t\\t\\t\\t\\t\\t\\t\\t\\t\\t\\t\\t\\t\\t\\t\\t\\t</div>\\n\\t\\t\\t\\t</article>\\n\\t\\t\\t\\t\\t\\t</div>\\n\\t\\t\\t\\t\\t\\t\\t\\t\\t\\t<div class=\"grid-square grid-people\">\\n\\t\\t\\t\\t\\t\\t\\t\\t\\t\\t\\t<article class=\"people\">\\n\\t\\t\\t\\t\\t<div class=\"grid-item\">\\n\\t\\t\\t\\t\\t\\t<a href=\"https://www.khoury.northeastern.edu/people/richard-rasala/\">\\n\\t\\t\\t\\t\\t\\t\\t\\t<div class=\"grid-image\"><img src=\"https://www.khoury.northeastern.edu/wp-content/uploads/2016/02/Richard-Rasala-index-image-e1456759549135.jpg\" alt=\"\" /></div>\\n\\t\\t\\t\\t\\t\\t\\t\\t\\t\\t\\t\\t\\t\\t\\t<p class=\"roles\"><span class=\"role-23\">Tenured and Tenure Track Faculty</span></p>\\n\\t\\t\\t\\t\\t\\t\\t\\t\\t\\t\\t\\t\\t\\t<h3 class=\"person-name\">\\n\\t\\t\\t\\t\\t\\t\\t\\t\\tRichard Rasala\\t\\t\\t\\t\\t\\t\\t</h3>\\n\\t\\t\\t\\t\\t\\t</a>\\n\\t\\t\\t\\t\\t\\t\\t\\t\\t\\t\\t\\t<div class=\"position-list\">\\n\\t\\t\\t\\t\\t\\t\\t\\t\\t\\t\\t\\t\\t\\t\\t<p class=\"position\">Professor Emeritus</p>\\n\\t\\t\\t\\t\\t\\t\\t\\t\\t\\t\\t\\t\\t</div>\\n\\t\\t\\t\\t\\t\\t\\t\\t\\t\\t\\t\\t\\t\\t\\t\\t\\t</div>\\n\\t\\t\\t\\t</article>\\n\\t\\t\\t\\t\\t\\t</div>\\n\\t\\t\\t\\t\\t\\t\\t\\t\\t\\t<div class=\"grid-square grid-people\">\\n\\t\\t\\t\\t\\t\\t\\t\\t\\t\\t\\t<article class=\"people\">\\n\\t\\t\\t\\t\\t<div class=\"grid-item\">\\n\\t\\t\\t\\t\\t\\t<a href=\"https://www.khoury.northeastern.edu/people/mirek-riedewald/\">\\n\\t\\t\\t\\t\\t\\t\\t\\t<div class=\"grid-image\"><img src=\"https://www.khoury.northeastern.edu/wp-content/uploads/2016/02/linderpix-NEU-55350-crop.jpg\" alt=\"\" /></div>\\n\\t\\t\\t\\t\\t\\t\\t\\t\\t\\t\\t\\t\\t\\t\\t<p class=\"roles\"><span class=\"role-23\">Tenured and Tenure Track Faculty</span></p>\\n\\t\\t\\t\\t\\t\\t\\t\\t\\t\\t\\t\\t\\t\\t<h3 class=\"person-name\">\\n\\t\\t\\t\\t\\t\\t\\t\\t\\tMirek Riedewald\\t\\t\\t\\t\\t\\t\\t</h3>\\n\\t\\t\\t\\t\\t\\t</a>\\n\\t\\t\\t\\t\\t\\t\\t\\t\\t\\t\\t\\t<div class=\"position-list\">\\n\\t\\t\\t\\t\\t\\t\\t\\t\\t\\t\\t\\t\\t\\t\\t<p class=\"position\">Associate Professor</p>\\n\\t\\t\\t\\t\\t\\t\\t\\t\\t\\t\\t\\t\\t</div>\\n\\t\\t\\t\\t\\t\\t\\t\\t\\t\\t\\t\\t\\t\\t\\t\\t\\t</div>\\n\\t\\t\\t\\t</article>\\n\\t\\t\\t\\t\\t\\t</div>\\n\\t\\t\\t\\t\\t\\t\\t\\t\\t\\t<div class=\"grid-square grid-people\">\\n\\t\\t\\t\\t\\t\\t\\t\\t\\t\\t\\t<article class=\"people\">\\n\\t\\t\\t\\t\\t<div class=\"grid-item\">\\n\\t\\t\\t\\t\\t\\t<a href=\"https://www.khoury.northeastern.edu/people/christoph-riedl/\">\\n\\t\\t\\t\\t\\t\\t\\t\\t<div class=\"grid-image\"><img src=\"https://www.khoury.northeastern.edu/wp-content/uploads/2016/02/Christoph-Riedl-index-image.jpg\" alt=\"\" /></div>\\n\\t\\t\\t\\t\\t\\t\\t\\t\\t\\t\\t\\t\\t\\t\\t<p class=\"roles\"><span class=\"role-23\">Tenured and Tenure Track Faculty</span></p>\\n\\t\\t\\t\\t\\t\\t\\t\\t\\t\\t\\t\\t\\t\\t<h3 class=\"person-name\">\\n\\t\\t\\t\\t\\t\\t\\t\\t\\tChristoph Riedl\\t\\t\\t\\t\\t\\t\\t</h3>\\n\\t\\t\\t\\t\\t\\t</a>\\n\\t\\t\\t\\t\\t\\t\\t\\t\\t\\t\\t\\t<div class=\"position-list\">\\n\\t\\t\\t\\t\\t\\t\\t\\t\\t\\t\\t\\t\\t\\t\\t<p class=\"position\">Associate Professor</p>\\n\\t\\t\\t\\t\\t\\t\\t\\t\\t\\t\\t\\t\\t\\t\\t<p class=\"position\">Interdisciplinary with D\\'Amore-McKim School of Business</p>\\n\\t\\t\\t\\t\\t\\t\\t\\t\\t\\t\\t\\t\\t</div>\\n\\t\\t\\t\\t\\t\\t\\t\\t\\t\\t\\t\\t\\t\\t\\t\\t\\t</div>\\n\\t\\t\\t\\t</article>\\n\\t\\t\\t\\t\\t\\t</div>\\n\\t\\t\\t\\t\\t\\t\\t\\t\\t\\t<div class=\"grid-square grid-people\">\\n\\t\\t\\t\\t\\t\\t\\t\\t\\t\\t\\t<article class=\"people\">\\n\\t\\t\\t\\t\\t<div class=\"grid-item\">\\n\\t\\t\\t\\t\\t\\t<a href=\"https://www.khoury.northeastern.edu/people/william-robertson/\">\\n\\t\\t\\t\\t\\t\\t\\t\\t<div class=\"grid-image\"><img src=\"https://www.khoury.northeastern.edu/wp-content/uploads/2016/02/William-Robertson-index-image.jpg\" alt=\"\" /></div>\\n\\t\\t\\t\\t\\t\\t\\t\\t\\t\\t\\t\\t\\t\\t\\t<p class=\"roles\"><span class=\"role-23\">Tenured and Tenure Track Faculty</span></p>\\n\\t\\t\\t\\t\\t\\t\\t\\t\\t\\t\\t\\t\\t\\t<h3 class=\"person-name\">\\n\\t\\t\\t\\t\\t\\t\\t\\t\\tWilliam Robertson\\t\\t\\t\\t\\t\\t\\t</h3>\\n\\t\\t\\t\\t\\t\\t</a>\\n\\t\\t\\t\\t\\t\\t\\t\\t\\t\\t\\t\\t<div class=\"position-list\">\\n\\t\\t\\t\\t\\t\\t\\t\\t\\t\\t\\t\\t\\t\\t\\t<p class=\"position\">Associate Professor</p>\\n\\t\\t\\t\\t\\t\\t\\t\\t\\t\\t\\t\\t\\t\\t\\t<p class=\"position\">Interdisciplinary with College of Engineering</p>\\n\\t\\t\\t\\t\\t\\t\\t\\t\\t\\t\\t\\t\\t</div>\\n\\t\\t\\t\\t\\t\\t\\t\\t\\t\\t\\t\\t\\t\\t\\t\\t\\t</div>\\n\\t\\t\\t\\t</article>\\n\\t\\t\\t\\t\\t\\t</div>\\n\\t\\t\\t\\t\\t\\t\\t\\t\\t\\t<div class=\"grid-square grid-people\">\\n\\t\\t\\t\\t\\t\\t\\t\\t\\t\\t\\t<article class=\"people\">\\n\\t\\t\\t\\t\\t<div class=\"grid-item\">\\n\\t\\t\\t\\t\\t\\t<a href=\"https://www.khoury.northeastern.edu/people/magy-seif-el-nasr/\">\\n\\t\\t\\t\\t\\t\\t\\t\\t<div class=\"grid-image\"><img src=\"https://www.khoury.northeastern.edu/wp-content/uploads/2016/02/Magy-Seif-ElNasr-index-image.jpg\" alt=\"\" /></div>\\n\\t\\t\\t\\t\\t\\t\\t\\t\\t\\t\\t\\t\\t\\t\\t<p class=\"roles\"><span class=\"role-23\">Tenured and Tenure Track Faculty</span></p>\\n\\t\\t\\t\\t\\t\\t\\t\\t\\t\\t\\t\\t\\t\\t<h3 class=\"person-name\">\\n\\t\\t\\t\\t\\t\\t\\t\\t\\tMagy Seif El-Nasr\\t\\t\\t\\t\\t\\t\\t</h3>\\n\\t\\t\\t\\t\\t\\t</a>\\n\\t\\t\\t\\t\\t\\t\\t\\t\\t\\t\\t\\t<div class=\"position-list\">\\n\\t\\t\\t\\t\\t\\t\\t\\t\\t\\t\\t\\t\\t\\t\\t<p class=\"position\">Associate Professor</p>\\n\\t\\t\\t\\t\\t\\t\\t\\t\\t\\t\\t\\t\\t\\t\\t<p class=\"position\">Interdisciplinary with College of Arts, Media and Design</p>\\n\\t\\t\\t\\t\\t\\t\\t\\t\\t\\t\\t\\t\\t</div>\\n\\t\\t\\t\\t\\t\\t\\t\\t\\t\\t\\t\\t\\t\\t\\t\\t\\t</div>\\n\\t\\t\\t\\t</article>\\n\\t\\t\\t\\t\\t\\t</div>\\n\\t\\t\\t\\t\\t\\t\\t\\t\\t\\t<div class=\"grid-square grid-people\">\\n\\t\\t\\t\\t\\t\\t\\t\\t\\t\\t\\t<article class=\"people\">\\n\\t\\t\\t\\t\\t<div class=\"grid-item\">\\n\\t\\t\\t\\t\\t\\t<a href=\"https://www.khoury.northeastern.edu/people/abhi-shelat/\">\\n\\t\\t\\t\\t\\t\\t\\t\\t<div class=\"grid-image\"><img src=\"https://www.khoury.northeastern.edu/wp-content/uploads/2016/08/Shelat_Abhi-index-image.jpg\" alt=\"\" /></div>\\n\\t\\t\\t\\t\\t\\t\\t\\t\\t\\t\\t\\t\\t\\t\\t<p class=\"roles\"><span class=\"role-23\">Tenured and Tenure Track Faculty</span></p>\\n\\t\\t\\t\\t\\t\\t\\t\\t\\t\\t\\t\\t\\t\\t<h3 class=\"person-name\">\\n\\t\\t\\t\\t\\t\\t\\t\\t\\tAbhi Shelat\\t\\t\\t\\t\\t\\t\\t</h3>\\n\\t\\t\\t\\t\\t\\t</a>\\n\\t\\t\\t\\t\\t\\t\\t\\t\\t\\t\\t\\t<div class=\"position-list\">\\n\\t\\t\\t\\t\\t\\t\\t\\t\\t\\t\\t\\t\\t\\t\\t<p class=\"position\">Associate Professor</p>\\n\\t\\t\\t\\t\\t\\t\\t\\t\\t\\t\\t\\t\\t</div>\\n\\t\\t\\t\\t\\t\\t\\t\\t\\t\\t\\t\\t\\t\\t\\t\\t\\t</div>\\n\\t\\t\\t\\t</article>\\n\\t\\t\\t\\t\\t\\t</div>\\n\\t\\t\\t\\t\\t\\t\\t\\t\\t\\t<div class=\"grid-square grid-people\">\\n\\t\\t\\t\\t\\t\\t\\t\\t\\t\\t\\t<article class=\"people\">\\n\\t\\t\\t\\t\\t<div class=\"grid-item\">\\n\\t\\t\\t\\t\\t\\t<a href=\"https://www.khoury.northeastern.edu/people/olin-shivers/\">\\n\\t\\t\\t\\t\\t\\t\\t\\t<div class=\"grid-image\"><img src=\"https://www.khoury.northeastern.edu/wp-content/uploads/2016/02/Olin-Shivers-index-image-e1456778933241.jpg\" alt=\"\" /></div>\\n\\t\\t\\t\\t\\t\\t\\t\\t\\t\\t\\t\\t\\t\\t\\t<p class=\"roles\"><span class=\"role-23\">Tenured and Tenure Track Faculty</span></p>\\n\\t\\t\\t\\t\\t\\t\\t\\t\\t\\t\\t\\t\\t\\t<h3 class=\"person-name\">\\n\\t\\t\\t\\t\\t\\t\\t\\t\\tOlin Shivers\\t\\t\\t\\t\\t\\t\\t</h3>\\n\\t\\t\\t\\t\\t\\t</a>\\n\\t\\t\\t\\t\\t\\t\\t\\t\\t\\t\\t\\t<div class=\"position-list\">\\n\\t\\t\\t\\t\\t\\t\\t\\t\\t\\t\\t\\t\\t\\t\\t<p class=\"position\">Professor</p>\\n\\t\\t\\t\\t\\t\\t\\t\\t\\t\\t\\t\\t\\t</div>\\n\\t\\t\\t\\t\\t\\t\\t\\t\\t\\t\\t\\t\\t\\t\\t\\t\\t</div>\\n\\t\\t\\t\\t</article>\\n\\t\\t\\t\\t\\t\\t</div>\\n\\t\\t\\t\\t\\t\\t\\t\\t\\t\\t<div class=\"grid-square grid-people\">\\n\\t\\t\\t\\t\\t\\t\\t\\t\\t\\t\\t<article class=\"people\">\\n\\t\\t\\t\\t\\t<div class=\"grid-item\">\\n\\t\\t\\t\\t\\t\\t<a href=\"https://www.khoury.northeastern.edu/people/david-smith/\">\\n\\t\\t\\t\\t\\t\\t\\t\\t<div class=\"grid-image\"><img src=\"https://www.khoury.northeastern.edu/wp-content/uploads/2016/02/David-Smith-index-image-e1456779166749.jpg\" alt=\"\" /></div>\\n\\t\\t\\t\\t\\t\\t\\t\\t\\t\\t\\t\\t\\t\\t\\t<p class=\"roles\"><span class=\"role-23\">Tenured and Tenure Track Faculty</span></p>\\n\\t\\t\\t\\t\\t\\t\\t\\t\\t\\t\\t\\t\\t\\t<h3 class=\"person-name\">\\n\\t\\t\\t\\t\\t\\t\\t\\t\\tDavid Smith\\t\\t\\t\\t\\t\\t\\t</h3>\\n\\t\\t\\t\\t\\t\\t</a>\\n\\t\\t\\t\\t\\t\\t\\t\\t\\t\\t\\t\\t<div class=\"position-list\">\\n\\t\\t\\t\\t\\t\\t\\t\\t\\t\\t\\t\\t\\t\\t\\t<p class=\"position\">Associate Professor </p>\\n\\t\\t\\t\\t\\t\\t\\t\\t\\t\\t\\t\\t\\t</div>\\n\\t\\t\\t\\t\\t\\t\\t\\t\\t\\t\\t\\t\\t\\t\\t\\t\\t</div>\\n\\t\\t\\t\\t</article>\\n\\t\\t\\t\\t\\t\\t</div>\\n\\t\\t\\t\\t\\t\\t\\t\\t\\t\\t<div class=\"grid-square grid-people\">\\n\\t\\t\\t\\t\\t\\t\\t\\t\\t\\t\\t<article class=\"people\">\\n\\t\\t\\t\\t\\t<div class=\"grid-item\">\\n\\t\\t\\t\\t\\t\\t<a href=\"https://www.khoury.northeastern.edu/people/ravi-sundaram/\">\\n\\t\\t\\t\\t\\t\\t\\t\\t<div class=\"grid-image\"><img src=\"https://www.khoury.northeastern.edu/wp-content/uploads/2016/03/Ravi-Sundaram-Index-Image.jpg\" alt=\"\" /></div>\\n\\t\\t\\t\\t\\t\\t\\t\\t\\t\\t\\t\\t\\t\\t\\t<p class=\"roles\"><span class=\"role-23\">Tenured and Tenure Track Faculty</span></p>\\n\\t\\t\\t\\t\\t\\t\\t\\t\\t\\t\\t\\t\\t\\t<h3 class=\"person-name\">\\n\\t\\t\\t\\t\\t\\t\\t\\t\\tRavi Sundaram\\t\\t\\t\\t\\t\\t\\t</h3>\\n\\t\\t\\t\\t\\t\\t</a>\\n\\t\\t\\t\\t\\t\\t\\t\\t\\t\\t\\t\\t<div class=\"position-list\">\\n\\t\\t\\t\\t\\t\\t\\t\\t\\t\\t\\t\\t\\t\\t\\t<p class=\"position\">Professor</p>\\n\\t\\t\\t\\t\\t\\t\\t\\t\\t\\t\\t\\t\\t</div>\\n\\t\\t\\t\\t\\t\\t\\t\\t\\t\\t\\t\\t\\t\\t\\t\\t\\t</div>\\n\\t\\t\\t\\t</article>\\n\\t\\t\\t\\t\\t\\t</div>\\n\\t\\t\\t\\t\\t\\t\\t\\t\\t\\t<div class=\"grid-square grid-people\">\\n\\t\\t\\t\\t\\t\\t\\t\\t\\t\\t\\t<article class=\"people\">\\n\\t\\t\\t\\t\\t<div class=\"grid-item\">\\n\\t\\t\\t\\t\\t\\t<a href=\"https://www.khoury.northeastern.edu/people/frank-tip/\">\\n\\t\\t\\t\\t\\t\\t\\t\\t<div class=\"grid-image\"><img src=\"https://www.khoury.northeastern.edu/wp-content/uploads/2016/08/Tip_Frank_linderpix-NEU-55674-crop.jpg\" alt=\"\" /></div>\\n\\t\\t\\t\\t\\t\\t\\t\\t\\t\\t\\t\\t\\t\\t\\t<p class=\"roles\"><span class=\"role-29\">Administrative Staff</span> <span class=\"role-23\">Tenured and Tenure Track Faculty</span></p>\\n\\t\\t\\t\\t\\t\\t\\t\\t\\t\\t\\t\\t\\t\\t<h3 class=\"person-name\">\\n\\t\\t\\t\\t\\t\\t\\t\\t\\tFrank Tip\\t\\t\\t\\t\\t\\t\\t</h3>\\n\\t\\t\\t\\t\\t\\t</a>\\n\\t\\t\\t\\t\\t\\t\\t\\t\\t\\t\\t\\t<div class=\"position-list\">\\n\\t\\t\\t\\t\\t\\t\\t\\t\\t\\t\\t\\t\\t\\t\\t<p class=\"position\">Professor</p>\\n\\t\\t\\t\\t\\t\\t\\t\\t\\t\\t\\t\\t\\t\\t\\t<p class=\"position\">Associate Dean for Graduate Programs</p>\\n\\t\\t\\t\\t\\t\\t\\t\\t\\t\\t\\t\\t\\t</div>\\n\\t\\t\\t\\t\\t\\t\\t\\t\\t\\t\\t\\t\\t\\t\\t\\t\\t</div>\\n\\t\\t\\t\\t</article>\\n\\t\\t\\t\\t\\t\\t</div>\\n\\t\\t\\t\\t\\t\\t\\t\\t\\t\\t<div class=\"grid-square grid-people\">\\n\\t\\t\\t\\t\\t\\t\\t\\t\\t\\t\\t<article class=\"people\">\\n\\t\\t\\t\\t\\t<div class=\"grid-item\">\\n\\t\\t\\t\\t\\t\\t<a href=\"https://www.khoury.northeastern.edu/people/stavros-tripakis/\">\\n\\t\\t\\t\\t\\t\\t\\t\\t<div class=\"grid-image\"><img src=\"https://www.khoury.northeastern.edu/wp-content/uploads/2017/08/linderpix-NEU-9206-crop.jpg\" alt=\"\" /></div>\\n\\t\\t\\t\\t\\t\\t\\t\\t\\t\\t\\t\\t\\t\\t\\t<p class=\"roles\"><span class=\"role-23\">Tenured and Tenure Track Faculty</span></p>\\n\\t\\t\\t\\t\\t\\t\\t\\t\\t\\t\\t\\t\\t\\t<h3 class=\"person-name\">\\n\\t\\t\\t\\t\\t\\t\\t\\t\\tStavros Tripakis\\t\\t\\t\\t\\t\\t\\t</h3>\\n\\t\\t\\t\\t\\t\\t</a>\\n\\t\\t\\t\\t\\t\\t\\t\\t\\t\\t\\t\\t<div class=\"position-list\">\\n\\t\\t\\t\\t\\t\\t\\t\\t\\t\\t\\t\\t\\t\\t\\t<p class=\"position\">Associate Professor</p>\\n\\t\\t\\t\\t\\t\\t\\t\\t\\t\\t\\t\\t\\t</div>\\n\\t\\t\\t\\t\\t\\t\\t\\t\\t\\t\\t\\t\\t\\t\\t\\t\\t</div>\\n\\t\\t\\t\\t</article>\\n\\t\\t\\t\\t\\t\\t</div>\\n\\t\\t\\t\\t\\t\\t\\t\\t\\t\\t<div class=\"grid-square grid-people\">\\n\\t\\t\\t\\t\\t\\t\\t\\t\\t\\t\\t<article class=\"people\">\\n\\t\\t\\t\\t\\t<div class=\"grid-item\">\\n\\t\\t\\t\\t\\t\\t<a href=\"https://www.khoury.northeastern.edu/people/jonathan-ullman/\">\\n\\t\\t\\t\\t\\t\\t\\t\\t<div class=\"grid-image\"><img src=\"https://www.khoury.northeastern.edu/wp-content/uploads/2016/02/Jonathan-Ullman-index-image-e1456779392351.jpg\" alt=\"\" /></div>\\n\\t\\t\\t\\t\\t\\t\\t\\t\\t\\t\\t\\t\\t\\t\\t<p class=\"roles\"><span class=\"role-23\">Tenured and Tenure Track Faculty</span></p>\\n\\t\\t\\t\\t\\t\\t\\t\\t\\t\\t\\t\\t\\t\\t<h3 class=\"person-name\">\\n\\t\\t\\t\\t\\t\\t\\t\\t\\tJonathan Ullman\\t\\t\\t\\t\\t\\t\\t</h3>\\n\\t\\t\\t\\t\\t\\t</a>\\n\\t\\t\\t\\t\\t\\t\\t\\t\\t\\t\\t\\t<div class=\"position-list\">\\n\\t\\t\\t\\t\\t\\t\\t\\t\\t\\t\\t\\t\\t\\t\\t<p class=\"position\">Assistant Professor</p>\\n\\t\\t\\t\\t\\t\\t\\t\\t\\t\\t\\t\\t\\t</div>\\n\\t\\t\\t\\t\\t\\t\\t\\t\\t\\t\\t\\t\\t\\t\\t\\t\\t</div>\\n\\t\\t\\t\\t</article>\\n\\t\\t\\t\\t\\t\\t</div>\\n\\t\\t\\t\\t\\t\\t\\t\\t\\t\\t<div class=\"grid-square grid-people\">\\n\\t\\t\\t\\t\\t\\t\\t\\t\\t\\t\\t<article class=\"people\">\\n\\t\\t\\t\\t\\t<div class=\"grid-item\">\\n\\t\\t\\t\\t\\t\\t<a href=\"https://www.khoury.northeastern.edu/people/jan-willem-van-de-meent/\">\\n\\t\\t\\t\\t\\t\\t\\t\\t<div class=\"grid-image\"><img src=\"https://www.khoury.northeastern.edu/wp-content/uploads/2016/09/van-de-Meent_Jan-Willem-index-image.jpg\" alt=\"\" /></div>\\n\\t\\t\\t\\t\\t\\t\\t\\t\\t\\t\\t\\t\\t\\t\\t<p class=\"roles\"><span class=\"role-23\">Tenured and Tenure Track Faculty</span></p>\\n\\t\\t\\t\\t\\t\\t\\t\\t\\t\\t\\t\\t\\t\\t<h3 class=\"person-name\">\\n\\t\\t\\t\\t\\t\\t\\t\\t\\tJan-Willem van de Meent\\t\\t\\t\\t\\t\\t\\t</h3>\\n\\t\\t\\t\\t\\t\\t</a>\\n\\t\\t\\t\\t\\t\\t\\t\\t\\t\\t\\t\\t<div class=\"position-list\">\\n\\t\\t\\t\\t\\t\\t\\t\\t\\t\\t\\t\\t\\t\\t\\t<p class=\"position\">Assistant Professor</p>\\n\\t\\t\\t\\t\\t\\t\\t\\t\\t\\t\\t\\t\\t</div>\\n\\t\\t\\t\\t\\t\\t\\t\\t\\t\\t\\t\\t\\t\\t\\t\\t\\t</div>\\n\\t\\t\\t\\t</article>\\n\\t\\t\\t\\t\\t\\t</div>\\n\\t\\t\\t\\t\\t\\t\\t\\t\\t\\t<div class=\"grid-square grid-people\">\\n\\t\\t\\t\\t\\t\\t\\t\\t\\t\\t\\t<article class=\"people\">\\n\\t\\t\\t\\t\\t<div class=\"grid-item\">\\n\\t\\t\\t\\t\\t\\t<a href=\"https://www.khoury.northeastern.edu/people/alessandrovespignani/\">\\n\\t\\t\\t\\t\\t\\t\\t\\t<div class=\"grid-image\"><img src=\"https://www.khoury.northeastern.edu/wp-content/uploads/2016/04/linderpix111915-avespignani-9987-crop.jpg\" alt=\"\" /></div>\\n\\t\\t\\t\\t\\t\\t\\t\\t\\t\\t\\t\\t\\t\\t\\t<p class=\"roles\"><span class=\"role-23\">Tenured and Tenure Track Faculty</span></p>\\n\\t\\t\\t\\t\\t\\t\\t\\t\\t\\t\\t\\t\\t\\t<h3 class=\"person-name\">\\n\\t\\t\\t\\t\\t\\t\\t\\t\\tAlessandro Vespignani\\t\\t\\t\\t\\t\\t\\t</h3>\\n\\t\\t\\t\\t\\t\\t</a>\\n\\t\\t\\t\\t\\t\\t\\t\\t\\t\\t\\t\\t<div class=\"position-list\">\\n\\t\\t\\t\\t\\t\\t\\t\\t\\t\\t\\t\\t\\t\\t\\t<p class=\"position\">Sternberg Family Distinguished Professor</p>\\n\\t\\t\\t\\t\\t\\t\\t\\t\\t\\t\\t\\t\\t\\t\\t<p class=\"position\">Director - Network Science Institute</p>\\n\\t\\t\\t\\t\\t\\t\\t\\t\\t\\t\\t\\t\\t\\t\\t<p class=\"position\">Interdisciplinary with College of Science and Bouv\\xc3\\xa9 College of Health Sciences</p>\\n\\t\\t\\t\\t\\t\\t\\t\\t\\t\\t\\t\\t\\t</div>\\n\\t\\t\\t\\t\\t\\t\\t\\t\\t\\t\\t\\t\\t\\t\\t\\t\\t</div>\\n\\t\\t\\t\\t</article>\\n\\t\\t\\t\\t\\t\\t</div>\\n\\t\\t\\t\\t\\t\\t\\t\\t\\t\\t<div class=\"grid-square grid-people\">\\n\\t\\t\\t\\t\\t\\t\\t\\t\\t\\t\\t<article class=\"people\">\\n\\t\\t\\t\\t\\t<div class=\"grid-item\">\\n\\t\\t\\t\\t\\t\\t<a href=\"https://www.khoury.northeastern.edu/people/emanuele-viola/\">\\n\\t\\t\\t\\t\\t\\t\\t\\t<div class=\"grid-image\"><img src=\"https://www.khoury.northeastern.edu/wp-content/uploads/2016/03/Emanuele-Viola-Index-Image.jpg\" alt=\"\" /></div>\\n\\t\\t\\t\\t\\t\\t\\t\\t\\t\\t\\t\\t\\t\\t\\t<p class=\"roles\"><span class=\"role-23\">Tenured and Tenure Track Faculty</span></p>\\n\\t\\t\\t\\t\\t\\t\\t\\t\\t\\t\\t\\t\\t\\t<h3 class=\"person-name\">\\n\\t\\t\\t\\t\\t\\t\\t\\t\\tEmanuele Viola\\t\\t\\t\\t\\t\\t\\t</h3>\\n\\t\\t\\t\\t\\t\\t</a>\\n\\t\\t\\t\\t\\t\\t\\t\\t\\t\\t\\t\\t<div class=\"position-list\">\\n\\t\\t\\t\\t\\t\\t\\t\\t\\t\\t\\t\\t\\t\\t\\t<p class=\"position\">Associate Professor</p>\\n\\t\\t\\t\\t\\t\\t\\t\\t\\t\\t\\t\\t\\t</div>\\n\\t\\t\\t\\t\\t\\t\\t\\t\\t\\t\\t\\t\\t\\t\\t\\t\\t</div>\\n\\t\\t\\t\\t</article>\\n\\t\\t\\t\\t\\t\\t</div>\\n\\t\\t\\t\\t\\t\\t\\t\\t\\t\\t<div class=\"grid-square grid-people\">\\n\\t\\t\\t\\t\\t\\t\\t\\t\\t\\t\\t<article class=\"people\">\\n\\t\\t\\t\\t\\t<div class=\"grid-item\">\\n\\t\\t\\t\\t\\t\\t<a href=\"https://www.khoury.northeastern.edu/people/jan-vitek/\">\\n\\t\\t\\t\\t\\t\\t\\t\\t<div class=\"grid-image\"><img src=\"https://www.khoury.northeastern.edu/wp-content/uploads/2016/02/Jan-Vitek-index-image.jpg\" alt=\"\" /></div>\\n\\t\\t\\t\\t\\t\\t\\t\\t\\t\\t\\t\\t\\t\\t\\t<p class=\"roles\"><span class=\"role-23\">Tenured and Tenure Track Faculty</span></p>\\n\\t\\t\\t\\t\\t\\t\\t\\t\\t\\t\\t\\t\\t\\t<h3 class=\"person-name\">\\n\\t\\t\\t\\t\\t\\t\\t\\t\\tJan Vitek\\t\\t\\t\\t\\t\\t\\t</h3>\\n\\t\\t\\t\\t\\t\\t</a>\\n\\t\\t\\t\\t\\t\\t\\t\\t\\t\\t\\t\\t<div class=\"position-list\">\\n\\t\\t\\t\\t\\t\\t\\t\\t\\t\\t\\t\\t\\t\\t\\t<p class=\"position\">Professor</p>\\n\\t\\t\\t\\t\\t\\t\\t\\t\\t\\t\\t\\t\\t</div>\\n\\t\\t\\t\\t\\t\\t\\t\\t\\t\\t\\t\\t\\t\\t\\t\\t\\t</div>\\n\\t\\t\\t\\t</article>\\n\\t\\t\\t\\t\\t\\t</div>\\n\\t\\t\\t\\t\\t\\t\\t\\t\\t\\t<div class=\"grid-square grid-people\">\\n\\t\\t\\t\\t\\t\\t\\t\\t\\t\\t\\t<article class=\"people\">\\n\\t\\t\\t\\t\\t<div class=\"grid-item\">\\n\\t\\t\\t\\t\\t\\t<a href=\"https://www.khoury.northeastern.edu/people/olga-vitek/\">\\n\\t\\t\\t\\t\\t\\t\\t\\t<div class=\"grid-image\"><img src=\"https://www.khoury.northeastern.edu/wp-content/uploads/2016/02/Olga-Vitek-index-image-e1456778947471.jpg\" alt=\"\" /></div>\\n\\t\\t\\t\\t\\t\\t\\t\\t\\t\\t\\t\\t\\t\\t\\t<p class=\"roles\"><span class=\"role-23\">Tenured and Tenure Track Faculty</span></p>\\n\\t\\t\\t\\t\\t\\t\\t\\t\\t\\t\\t\\t\\t\\t<h3 class=\"person-name\">\\n\\t\\t\\t\\t\\t\\t\\t\\t\\tOlga Vitek\\t\\t\\t\\t\\t\\t\\t</h3>\\n\\t\\t\\t\\t\\t\\t</a>\\n\\t\\t\\t\\t\\t\\t\\t\\t\\t\\t\\t\\t<div class=\"position-list\">\\n\\t\\t\\t\\t\\t\\t\\t\\t\\t\\t\\t\\t\\t\\t\\t<p class=\"position\">Professor</p>\\n\\t\\t\\t\\t\\t\\t\\t\\t\\t\\t\\t\\t\\t\\t\\t<p class=\"position\">Director - MS in Data Science Program</p>\\n\\t\\t\\t\\t\\t\\t\\t\\t\\t\\t\\t\\t\\t</div>\\n\\t\\t\\t\\t\\t\\t\\t\\t\\t\\t\\t\\t\\t\\t\\t\\t\\t</div>\\n\\t\\t\\t\\t</article>\\n\\t\\t\\t\\t\\t\\t</div>\\n\\t\\t\\t\\t\\t\\t\\t\\t\\t\\t<div class=\"grid-square grid-people\">\\n\\t\\t\\t\\t\\t\\t\\t\\t\\t\\t\\t<article class=\"people\">\\n\\t\\t\\t\\t\\t<div class=\"grid-item\">\\n\\t\\t\\t\\t\\t\\t<a href=\"https://www.khoury.northeastern.edu/people/thomas-wahl/\">\\n\\t\\t\\t\\t\\t\\t\\t\\t<div class=\"grid-image\"><img src=\"https://www.khoury.northeastern.edu/wp-content/uploads/2016/02/Thomas-Wahl-index-image.jpg\" alt=\"\" /></div>\\n\\t\\t\\t\\t\\t\\t\\t\\t\\t\\t\\t\\t\\t\\t\\t<p class=\"roles\"><span class=\"role-23\">Tenured and Tenure Track Faculty</span></p>\\n\\t\\t\\t\\t\\t\\t\\t\\t\\t\\t\\t\\t\\t\\t<h3 class=\"person-name\">\\n\\t\\t\\t\\t\\t\\t\\t\\t\\tThomas Wahl\\t\\t\\t\\t\\t\\t\\t</h3>\\n\\t\\t\\t\\t\\t\\t</a>\\n\\t\\t\\t\\t\\t\\t\\t\\t\\t\\t\\t\\t<div class=\"position-list\">\\n\\t\\t\\t\\t\\t\\t\\t\\t\\t\\t\\t\\t\\t\\t\\t<p class=\"position\">Associate Professor</p>\\n\\t\\t\\t\\t\\t\\t\\t\\t\\t\\t\\t\\t\\t</div>\\n\\t\\t\\t\\t\\t\\t\\t\\t\\t\\t\\t\\t\\t\\t\\t\\t\\t</div>\\n\\t\\t\\t\\t</article>\\n\\t\\t\\t\\t\\t\\t</div>\\n\\t\\t\\t\\t\\t\\t\\t\\t\\t\\t<div class=\"grid-square grid-people\">\\n\\t\\t\\t\\t\\t\\t\\t\\t\\t\\t\\t<article class=\"people\">\\n\\t\\t\\t\\t\\t<div class=\"grid-item\">\\n\\t\\t\\t\\t\\t\\t<a href=\"https://www.khoury.northeastern.edu/people/byron-wallace/\">\\n\\t\\t\\t\\t\\t\\t\\t\\t<div class=\"grid-image\"><img src=\"https://www.khoury.northeastern.edu/wp-content/uploads/2016/08/Wallace_Byron-index-image.jpg\" alt=\"\" /></div>\\n\\t\\t\\t\\t\\t\\t\\t\\t\\t\\t\\t\\t\\t\\t\\t<p class=\"roles\"><span class=\"role-23\">Tenured and Tenure Track Faculty</span></p>\\n\\t\\t\\t\\t\\t\\t\\t\\t\\t\\t\\t\\t\\t\\t<h3 class=\"person-name\">\\n\\t\\t\\t\\t\\t\\t\\t\\t\\tByron Wallace\\t\\t\\t\\t\\t\\t\\t</h3>\\n\\t\\t\\t\\t\\t\\t</a>\\n\\t\\t\\t\\t\\t\\t\\t\\t\\t\\t\\t\\t<div class=\"position-list\">\\n\\t\\t\\t\\t\\t\\t\\t\\t\\t\\t\\t\\t\\t\\t\\t<p class=\"position\">Assistant Professor</p>\\n\\t\\t\\t\\t\\t\\t\\t\\t\\t\\t\\t\\t\\t\\t\\t<p class=\"position\">Director - BS in Data Science Program</p>\\n\\t\\t\\t\\t\\t\\t\\t\\t\\t\\t\\t\\t\\t</div>\\n\\t\\t\\t\\t\\t\\t\\t\\t\\t\\t\\t\\t\\t\\t\\t\\t\\t</div>\\n\\t\\t\\t\\t</article>\\n\\t\\t\\t\\t\\t\\t</div>\\n\\t\\t\\t\\t\\t\\t\\t\\t\\t\\t<div class=\"grid-square grid-people\">\\n\\t\\t\\t\\t\\t\\t\\t\\t\\t\\t\\t<article class=\"people\">\\n\\t\\t\\t\\t\\t<div class=\"grid-item\">\\n\\t\\t\\t\\t\\t\\t<a href=\"https://www.khoury.northeastern.edu/people/mitchell-wand/\">\\n\\t\\t\\t\\t\\t\\t\\t\\t<div class=\"grid-image\"><img src=\"https://www.khoury.northeastern.edu/wp-content/uploads/2016/02/Mitch-Wand-index-image.jpg\" alt=\"\" /></div>\\n\\t\\t\\t\\t\\t\\t\\t\\t\\t\\t\\t\\t\\t\\t\\t<p class=\"roles\"><span class=\"role-23\">Tenured and Tenure Track Faculty</span></p>\\n\\t\\t\\t\\t\\t\\t\\t\\t\\t\\t\\t\\t\\t\\t<h3 class=\"person-name\">\\n\\t\\t\\t\\t\\t\\t\\t\\t\\tMitchell Wand\\t\\t\\t\\t\\t\\t\\t</h3>\\n\\t\\t\\t\\t\\t\\t</a>\\n\\t\\t\\t\\t\\t\\t\\t\\t\\t\\t\\t\\t<div class=\"position-list\">\\n\\t\\t\\t\\t\\t\\t\\t\\t\\t\\t\\t\\t\\t\\t\\t<p class=\"position\">Part-Time Lecturer</p>\\n\\t\\t\\t\\t\\t\\t\\t\\t\\t\\t\\t\\t\\t\\t\\t<p class=\"position\">Professor Emeritus</p>\\n\\t\\t\\t\\t\\t\\t\\t\\t\\t\\t\\t\\t\\t</div>\\n\\t\\t\\t\\t\\t\\t\\t\\t\\t\\t\\t\\t\\t\\t\\t\\t\\t</div>\\n\\t\\t\\t\\t</article>\\n\\t\\t\\t\\t\\t\\t</div>\\n\\t\\t\\t\\t\\t\\t\\t\\t\\t\\t<div class=\"grid-square grid-people\">\\n\\t\\t\\t\\t\\t\\t\\t\\t\\t\\t\\t<article class=\"people\">\\n\\t\\t\\t\\t\\t<div class=\"grid-item\">\\n\\t\\t\\t\\t\\t\\t<a href=\"https://www.khoury.northeastern.edu/people/lu-wang/\">\\n\\t\\t\\t\\t\\t\\t\\t\\t<div class=\"grid-image\"><img src=\"https://www.khoury.northeastern.edu/wp-content/uploads/2016/02/Lu-Wang-index-image.jpg\" alt=\"\" /></div>\\n\\t\\t\\t\\t\\t\\t\\t\\t\\t\\t\\t\\t\\t\\t\\t<p class=\"roles\"><span class=\"role-23\">Tenured and Tenure Track Faculty</span></p>\\n\\t\\t\\t\\t\\t\\t\\t\\t\\t\\t\\t\\t\\t\\t<h3 class=\"person-name\">\\n\\t\\t\\t\\t\\t\\t\\t\\t\\tLu Wang\\t\\t\\t\\t\\t\\t\\t</h3>\\n\\t\\t\\t\\t\\t\\t</a>\\n\\t\\t\\t\\t\\t\\t\\t\\t\\t\\t\\t\\t<div class=\"position-list\">\\n\\t\\t\\t\\t\\t\\t\\t\\t\\t\\t\\t\\t\\t\\t\\t<p class=\"position\">Assistant Professor</p>\\n\\t\\t\\t\\t\\t\\t\\t\\t\\t\\t\\t\\t\\t</div>\\n\\t\\t\\t\\t\\t\\t\\t\\t\\t\\t\\t\\t\\t\\t\\t\\t\\t</div>\\n\\t\\t\\t\\t</article>\\n\\t\\t\\t\\t\\t\\t</div>\\n\\t\\t\\t\\t\\t\\t\\t\\t\\t\\t<div class=\"grid-square grid-people\">\\n\\t\\t\\t\\t\\t\\t\\t\\t\\t\\t\\t<article class=\"people\">\\n\\t\\t\\t\\t\\t<div class=\"grid-item\">\\n\\t\\t\\t\\t\\t\\t<a href=\"https://www.khoury.northeastern.edu/people/daniel-wichs/\">\\n\\t\\t\\t\\t\\t\\t\\t\\t<div class=\"grid-image\"><img src=\"https://www.khoury.northeastern.edu/wp-content/uploads/2016/02/Daniel-Wichs-index-image.jpg\" alt=\"\" /></div>\\n\\t\\t\\t\\t\\t\\t\\t\\t\\t\\t\\t\\t\\t\\t\\t<p class=\"roles\"><span class=\"role-23\">Tenured and Tenure Track Faculty</span></p>\\n\\t\\t\\t\\t\\t\\t\\t\\t\\t\\t\\t\\t\\t\\t<h3 class=\"person-name\">\\n\\t\\t\\t\\t\\t\\t\\t\\t\\tDaniel Wichs\\t\\t\\t\\t\\t\\t\\t</h3>\\n\\t\\t\\t\\t\\t\\t</a>\\n\\t\\t\\t\\t\\t\\t\\t\\t\\t\\t\\t\\t<div class=\"position-list\">\\n\\t\\t\\t\\t\\t\\t\\t\\t\\t\\t\\t\\t\\t\\t\\t<p class=\"position\">Associate Professor</p>\\n\\t\\t\\t\\t\\t\\t\\t\\t\\t\\t\\t\\t\\t</div>\\n\\t\\t\\t\\t\\t\\t\\t\\t\\t\\t\\t\\t\\t\\t\\t\\t\\t</div>\\n\\t\\t\\t\\t</article>\\n\\t\\t\\t\\t\\t\\t</div>\\n\\t\\t\\t\\t\\t\\t\\t\\t\\t\\t<div class=\"grid-square grid-people\">\\n\\t\\t\\t\\t\\t\\t\\t\\t\\t\\t\\t<article class=\"people\">\\n\\t\\t\\t\\t\\t<div class=\"grid-item\">\\n\\t\\t\\t\\t\\t\\t<a href=\"https://www.khoury.northeastern.edu/people/christo-wilson/\">\\n\\t\\t\\t\\t\\t\\t\\t\\t<div class=\"grid-image\"><img src=\"https://www.khoury.northeastern.edu/wp-content/uploads/2016/02/Christo-Wilson-index-image.jpg\" alt=\"\" /></div>\\n\\t\\t\\t\\t\\t\\t\\t\\t\\t\\t\\t\\t\\t\\t\\t<p class=\"roles\"><span class=\"role-29\">Administrative Staff</span> <span class=\"role-23\">Tenured and Tenure Track Faculty</span></p>\\n\\t\\t\\t\\t\\t\\t\\t\\t\\t\\t\\t\\t\\t\\t<h3 class=\"person-name\">\\n\\t\\t\\t\\t\\t\\t\\t\\t\\tChristo Wilson\\t\\t\\t\\t\\t\\t\\t</h3>\\n\\t\\t\\t\\t\\t\\t</a>\\n\\t\\t\\t\\t\\t\\t\\t\\t\\t\\t\\t\\t<div class=\"position-list\">\\n\\t\\t\\t\\t\\t\\t\\t\\t\\t\\t\\t\\t\\t\\t\\t<p class=\"position\">Associate Professor</p>\\n\\t\\t\\t\\t\\t\\t\\t\\t\\t\\t\\t\\t\\t\\t\\t<p class=\"position\">Director of the BS in Cybersecurity Program</p>\\n\\t\\t\\t\\t\\t\\t\\t\\t\\t\\t\\t\\t\\t</div>\\n\\t\\t\\t\\t\\t\\t\\t\\t\\t\\t\\t\\t\\t\\t\\t\\t\\t</div>\\n\\t\\t\\t\\t</article>\\n\\t\\t\\t\\t\\t\\t</div>\\n\\t\\t\\t\\t\\t\\t\\t\\t\\t\\t<div class=\"grid-square grid-people\">\\n\\t\\t\\t\\t\\t\\t\\t\\t\\t\\t\\t<article class=\"people\">\\n\\t\\t\\t\\t\\t<div class=\"grid-item\">\\n\\t\\t\\t\\t\\t\\t<a href=\"https://www.khoury.northeastern.edu/people/lawson-wong/\">\\n\\t\\t\\t\\t\\t\\t\\t\\t<div class=\"grid-image\"><img src=\"https://www.khoury.northeastern.edu/wp-content/uploads/2018/08/linderpix-NEU-9067-crop-index-new.jpg\" alt=\"\" /></div>\\n\\t\\t\\t\\t\\t\\t\\t\\t\\t\\t\\t\\t\\t\\t\\t<p class=\"roles\"><span class=\"role-23\">Tenured and Tenure Track Faculty</span></p>\\n\\t\\t\\t\\t\\t\\t\\t\\t\\t\\t\\t\\t\\t\\t<h3 class=\"person-name\">\\n\\t\\t\\t\\t\\t\\t\\t\\t\\tLawson Wong\\t\\t\\t\\t\\t\\t\\t</h3>\\n\\t\\t\\t\\t\\t\\t</a>\\n\\t\\t\\t\\t\\t\\t\\t\\t\\t\\t\\t\\t<div class=\"position-list\">\\n\\t\\t\\t\\t\\t\\t\\t\\t\\t\\t\\t\\t\\t\\t\\t<p class=\"position\">Assistant Professor</p>\\n\\t\\t\\t\\t\\t\\t\\t\\t\\t\\t\\t\\t\\t</div>\\n\\t\\t\\t\\t\\t\\t\\t\\t\\t\\t\\t\\t\\t\\t\\t\\t\\t</div>\\n\\t\\t\\t\\t</article>\\n\\t\\t\\t\\t\\t\\t</div>\\n\\t\\t\\t\\t\\t\\t\\t\\t\\t\\t<div class=\"grid-square grid-people\">\\n\\t\\t\\t\\t\\t\\t\\t\\t\\t\\t\\t<article class=\"people\">\\n\\t\\t\\t\\t\\t<div class=\"grid-item\">\\n\\t\\t\\t\\t\\t\\t<a href=\"https://www.khoury.northeastern.edu/people/rose-yu/\">\\n\\t\\t\\t\\t\\t\\t\\t\\t<div class=\"grid-image\"><img src=\"https://www.khoury.northeastern.edu/wp-content/uploads/2017/08/linderpix-NEU-4233-crop.jpg\" alt=\"\" /></div>\\n\\t\\t\\t\\t\\t\\t\\t\\t\\t\\t\\t\\t\\t\\t\\t<p class=\"roles\"><span class=\"role-23\">Tenured and Tenure Track Faculty</span></p>\\n\\t\\t\\t\\t\\t\\t\\t\\t\\t\\t\\t\\t\\t\\t<h3 class=\"person-name\">\\n\\t\\t\\t\\t\\t\\t\\t\\t\\tRose Yu\\t\\t\\t\\t\\t\\t\\t</h3>\\n\\t\\t\\t\\t\\t\\t</a>\\n\\t\\t\\t\\t\\t\\t\\t\\t\\t\\t\\t\\t<div class=\"position-list\">\\n\\t\\t\\t\\t\\t\\t\\t\\t\\t\\t\\t\\t\\t\\t\\t<p class=\"position\">Assistant Professor</p>\\n\\t\\t\\t\\t\\t\\t\\t\\t\\t\\t\\t\\t\\t</div>\\n\\t\\t\\t\\t\\t\\t\\t\\t\\t\\t\\t\\t\\t\\t\\t\\t\\t</div>\\n\\t\\t\\t\\t</article>\\n\\t\\t\\t\\t\\t\\t</div>\\n\\t\\t\\t\\t\\t\\t\\t\\t\\t\\t</div>\\n\\t\\t\\t\\t\\t</div>\\n\\t\\t\\t\\t</div>\\n\\t\\t\\t</section>\\n\\t\\t</div><!-- / .row -->\\n\\t</main>\\n<footer role=\"contentinfo\" id=\"site-footer\">\\n\\t<div class=\"container\">\\n\\t\\t<div id=\"menu-prefooter\" class=\"row\">\\n\\t\\t\\t<div class=\"footer-logo\">\\n\\t\\t\\t\\t<!-- CCIS wordmark only -->\\n\\t\\t\\t\\t<svg version=\"1.1\" xmlns=\"http://www.w3.org/2000/svg\" xmlns:xlink=\"http://www.w3.org/1999/xlink\" x=\"0px\" y=\"0px\"\\n\\t\\t\\t\\t\\t viewBox=\"0 0 323 20.5\" style=\"enable-background:new 0 0 323 20.5;\" xml:space=\"preserve\">\\n\\t\\t\\t\\t<style type=\"text/css\">\\n\\t\\t\\t\\t\\t.st0{fill:#625445;}\\n\\t\\t\\t\\t</style>\\n\\t\\t\\t\\t<g>\\n\\t\\t\\t\\t\\t<path class=\"st0\" d=\"M0,0.3h2.6v7h0l4.9-7h2.8L5.7,7.1l5.1,9.3H7.9L4,9.2l-1.4,2v5.2H0V0.3z\"/>\\n\\t\\t\\t\\t\\t<path class=\"st0\" d=\"M11.5,0.3h2.4v5.3l0.1,0c0.6-1,1.8-1.7,3-1.7c1.8,0,3,0.8,3,3.3v9.1h-2.4V8.1c0-1.6-0.5-2.2-1.7-2.2\\n\\t\\t\\t\\t\\t\\tc-1,0-1.9,0.8-1.9,2.4v8.1h-2.4L11.5,0.3z\"/>\\n\\t\\t\\t\\t\\t<path class=\"st0\" d=\"M26.4,4c3.5,0,4.5,2.6,4.5,6.4s-1.1,6.4-4.5,6.4s-4.5-2.6-4.5-6.4S22.9,4,26.4,4z M26.4,14.9\\n\\t\\t\\t\\t\\t\\tc1.8,0,2.1-1.5,2.1-4.6c0-2.7-0.3-4.6-2.1-4.6c-1.8,0-2.1,1.9-2.1,4.6C24.3,13.4,24.6,14.9,26.4,14.9z\"/>\\n\\t\\t\\t\\t\\t<path class=\"st0\" d=\"M39,15L39,15c-0.7,1.1-1.9,1.8-3.2,1.7c-1.8,0-3-0.8-3-4V4.3h2.4V13c0,1.3,0.6,1.8,1.6,1.8c1,0,2-0.7,2-2V4.3\\n\\t\\t\\t\\t\\t\\th2.4v12.1h-2.3L39,15z\"/>\\n\\t\\t\\t\\t\\t<path class=\"st0\" d=\"M43.6,4.3H46v1.9h0C46.6,4.8,47.5,4,48.9,4c0.2,0,0.4,0,0.6,0.1v2.5c-0.3-0.1-0.7-0.1-1-0.1\\n\\t\\t\\t\\t\\t\\tc-1.1,0-2.4,0.5-2.4,2.7v7.3h-2.4L43.6,4.3z\"/>\\n\\t\\t\\t\\t\\t<path class=\"st0\" d=\"M52.7,4.3l2.1,9.1h0l1.9-9.1h2.5L56,16.8c-0.9,3.3-1.7,3.7-4.2,3.7c-0.3,0-0.6,0-1-0.1v-1.9\\n\\t\\t\\t\\t\\t\\tc0.3,0.1,0.5,0.1,0.8,0.1c0.8,0,1.4-0.2,1.6-0.9l0.3-1L50.1,4.3L52.7,4.3z\"/>\\n\\t\\t\\t\\t\\t<path class=\"st0\" d=\"M76.1,10.6V11c0,2.9-1.2,5.7-4.9,5.7c-4,0-5.3-2.6-5.3-8.3S67.1,0,71.2,0C75.8,0,76,3.4,76,5v0.3h-2.6V5.1\\n\\t\\t\\t\\t\\t\\tc0-1.5-0.4-3.2-2.3-3.1c-1.9,0-2.7,1.2-2.7,6.3s0.9,6.5,2.7,6.5c2.1,0,2.4-2.4,2.4-3.9v-0.3L76.1,10.6z\"/>\\n\\t\\t\\t\\t\\t<path class=\"st0\" d=\"M81.8,4c3.5,0,4.5,2.6,4.5,6.4s-1.1,6.4-4.5,6.4s-4.5-2.6-4.5-6.4S78.3,4,81.8,4z M81.8,14.9\\n\\t\\t\\t\\t\\t\\tc1.8,0,2.1-1.5,2.1-4.6c0-2.7-0.3-4.6-2.1-4.6s-2.1,1.9-2.1,4.6C79.7,13.4,80,14.9,81.8,14.9z\"/>\\n\\t\\t\\t\\t\\t<path class=\"st0\" d=\"M88.3,0.3h2.4v16.1h-2.4V0.3z\"/>\\n\\t\\t\\t\\t\\t<path class=\"st0\" d=\"M93.3,0.3h2.4v16.1h-2.4V0.3z\"/>\\n\\t\\t\\t\\t\\t<path class=\"st0\" d=\"M100.3,10.6v0.7c0,1.6,0.2,3.7,2,3.7c1.7,0,1.9-2,1.9-2.7h2.3c0,2.7-1.6,4.4-4.3,4.4c-2,0-4.4-0.6-4.4-6.2\\n\\t\\t\\t\\t\\t\\tc0-3.2,0.7-6.5,4.5-6.5c3.4,0,4.3,2,4.3,5.4v1.3L100.3,10.6z M104.2,9V8.3c0-1.5-0.5-2.7-1.9-2.7c-1.6,0-2,1.5-2,3.1V9L104.2,9z\"/>\\n\\t\\t\\t\\t\\t<path class=\"st0\" d=\"M111,17.4c0,0.7,0.7,1.4,1.8,1.4c1.3,0,2-0.9,2-2.3v-2h0c-0.5,1.1-1.6,1.7-2.7,1.7c-2.8,0-3.6-2.8-3.6-6.1\\n\\t\\t\\t\\t\\t\\tc0-2.7,0.4-6.2,3.8-6.2c1.4,0,2.4,0.9,2.7,1.8h0V4.3h2.3v11.5c0,2.9-1.3,4.7-4.5,4.7c-3.6,0-4-2.1-4-3.1L111,17.4z M112.7,14.4\\n\\t\\t\\t\\t\\t\\tc1.9,0,2.1-2.4,2.1-4.3c0-2-0.2-4.2-1.9-4.2c-1.8,0-2,1.8-2,4C110.8,12,110.9,14.4,112.7,14.4z\"/>\\n\\t\\t\\t\\t\\t<path class=\"st0\" d=\"M121.5,10.6v0.7c0,1.6,0.2,3.7,2,3.7c1.7,0,1.9-2,1.9-2.7h2.3c0,2.7-1.6,4.4-4.3,4.4c-2,0-4.4-0.6-4.4-6.2\\n\\t\\t\\t\\t\\t\\tc0-3.2,0.7-6.5,4.5-6.5c3.4,0,4.3,2,4.3,5.4v1.3L121.5,10.6z M125.4,9V8.3c0-1.5-0.5-2.7-1.9-2.7c-1.6,0-2,1.5-2,3.1V9L125.4,9z\"/>\\n\\t\\t\\t\\t\\t<path class=\"st0\" d=\"M139.3,4c3.5,0,4.5,2.6,4.5,6.4s-1.1,6.4-4.5,6.4s-4.5-2.6-4.5-6.4S135.8,4,139.3,4z M139.3,14.9\\n\\t\\t\\t\\t\\t\\tc1.8,0,2.1-1.5,2.1-4.6c0-2.7-0.3-4.6-2.1-4.6s-2.1,1.9-2.1,4.6C137.2,13.4,137.5,14.9,139.3,14.9z\"/>\\n\\t\\t\\t\\t\\t<path class=\"st0\" d=\"M146.4,6.1h-1.7V4.3h1.7V3.2c0-2.3,1.1-3,3.1-3c0.4,0,0.9,0,1.3,0.1v1.9h-0.7c-0.9,0-1.3,0.3-1.3,1.1v1.1h2\\n\\t\\t\\t\\t\\t\\tv1.8h-2v10.3h-2.4L146.4,6.1z\"/>\\n\\t\\t\\t\\t\\t<path class=\"st0\" d=\"M167.3,10.6V11c0,2.9-1.2,5.7-4.9,5.7c-4,0-5.3-2.6-5.3-8.3s1.3-8.3,5.3-8.3c4.6,0,4.8,3.4,4.8,5v0.3h-2.6V5.1\\n\\t\\t\\t\\t\\t\\tc0-1.5-0.5-3.2-2.3-3.1c-1.9,0-2.7,1.2-2.7,6.3s0.9,6.5,2.7,6.5c2.1,0,2.4-2.4,2.4-3.9v-0.3L167.3,10.6z\"/>\\n\\t\\t\\t\\t\\t<path class=\"st0\" d=\"M173,4c3.5,0,4.5,2.6,4.5,6.4s-1.1,6.4-4.5,6.4c-3.4,0-4.5-2.6-4.5-6.4S169.5,4,173,4z M173,14.9\\n\\t\\t\\t\\t\\t\\tc1.8,0,2.1-1.5,2.1-4.6c0-2.7-0.3-4.6-2.1-4.6s-2.1,1.9-2.1,4.6C171,13.4,171.3,14.9,173,14.9z\"/>\\n\\t\\t\\t\\t\\t<path class=\"st0\" d=\"M179.5,4.3h2.3v1.4h0.1c0.6-1.1,1.7-1.7,2.9-1.7c1.7,0,2.5,0.8,2.8,1.8c0.7-1.2,1.6-1.8,3.1-1.8\\n\\t\\t\\t\\t\\t\\tc1.7,0,2.9,0.9,2.9,3.2v9.2h-2.4V8.1c0-1.6-0.5-2.2-1.5-2.2c-1,0-1.9,0.8-1.9,2.4v8.1h-2.4V8.1c0-1.6-0.5-2.2-1.5-2.2\\n\\t\\t\\t\\t\\t\\tc-1,0-1.9,0.8-1.9,2.4v8.1h-2.4L179.5,4.3z\"/>\\n\\t\\t\\t\\t\\t<path class=\"st0\" d=\"M196.1,4.3h2.3v1.5h0c0.5-1.1,1.4-1.8,2.7-1.8c2.8,0,3.9,2.4,3.9,6.5c0,5.1-2.1,6.2-3.7,6.2\\n\\t\\t\\t\\t\\t\\tc-1.3,0-2.3-0.7-2.7-1.7h0v5.4h-2.4L196.1,4.3z M200.4,14.8c1.4,0,2-1,2-4.4c0-2.7-0.4-4.5-2-4.5c-1.7,0-2,1.7-2,4.3\\n\\t\\t\\t\\t\\t\\tC198.4,13.1,198.7,14.8,200.4,14.8L200.4,14.8z\"/>\\n\\t\\t\\t\\t\\t<path class=\"st0\" d=\"M213.1,15L213.1,15c-0.7,1.1-1.9,1.8-3.2,1.7c-1.8,0-3-0.8-3-4V4.3h2.4V13c0,1.3,0.6,1.8,1.6,1.8\\n\\t\\t\\t\\t\\t\\tc1,0,2-0.7,2-2V4.3h2.4v12.1h-2.3L213.1,15z\"/>\\n\\t\\t\\t\\t\\t<path class=\"st0\" d=\"M216.6,4.3h1.7V0.8h2.4v3.4h2v1.8h-2v7.2c0,0.9,0.3,1.3,1.1,1.3c0.3,0,0.6,0,0.9-0.1v1.8\\n\\t\\t\\t\\t\\t\\tc-0.6,0.1-1.3,0.2-2,0.2c-1.6,0-2.5-0.4-2.5-2.9V6.1h-1.7L216.6,4.3z\"/>\\n\\t\\t\\t\\t\\t<path class=\"st0\" d=\"M226.1,10.6v0.7c0,1.6,0.2,3.7,2,3.7c1.7,0,1.9-2,1.9-2.7h2.3c0,2.7-1.6,4.4-4.3,4.4c-2,0-4.4-0.6-4.4-6.2\\n\\t\\t\\t\\t\\t\\tc0-3.2,0.7-6.5,4.5-6.5c3.4,0,4.3,2,4.3,5.4v1.3L226.1,10.6z M230,9V8.3c0-1.5-0.5-2.7-1.9-2.7c-1.6,0-2,1.5-2,3.1V9L230,9z\"/>\\n\\t\\t\\t\\t\\t<path class=\"st0\" d=\"M234.4,4.3h2.4v1.9h0c0.5-1.3,1.4-2.2,2.8-2.2c0.2,0,0.4,0,0.6,0.1v2.5c-0.3-0.1-0.7-0.1-1-0.1\\n\\t\\t\\t\\t\\t\\tc-1.1,0-2.4,0.5-2.4,2.7v7.3h-2.4L234.4,4.3z\"/>\\n\\t\\t\\t\\t\\t<path class=\"st0\" d=\"M249,11.4v0.4c0,2,0.9,2.9,2.6,2.9c1.6,0,2.4-1.1,2.4-2.3c0-1.7-0.9-2.4-2.3-2.9L250,9\\n\\t\\t\\t\\t\\t\\tc-2.3-0.9-3.4-2.1-3.4-4.4c0-2.9,2-4.5,5-4.5c4.1,0,4.5,2.6,4.5,4.2v0.4h-2.6V4.3c0-1.5-0.7-2.3-2.3-2.3c-1.1,0-2.2,0.6-2.2,2.3\\n\\t\\t\\t\\t\\t\\tc0,1.4,0.7,2.1,2.4,2.7l1.7,0.6c2.3,0.8,3.3,2,3.3,4.3c0,3.4-2.1,4.8-5.3,4.8c-4,0-4.9-2.7-4.9-4.9v-0.4H249z\"/>\\n\\t\\t\\t\\t\\t<path class=\"st0\" d=\"M266.7,12c-0.2,2.9-1.2,4.7-4.1,4.7c-3.5,0-4.5-2.6-4.5-6.4s1-6.4,4.5-6.4c3.6,0,4.2,2.8,4.2,4.3h-2.4\\n\\t\\t\\t\\t\\t\\tc0-1.1-0.3-2.6-1.7-2.5c-1.8,0-2.1,1.9-2.1,4.6s0.3,4.6,2.1,4.6c1.3,0,1.8-1.1,1.8-2.9L266.7,12z\"/>\\n\\t\\t\\t\\t\\t<path class=\"st0\" d=\"M268.7,0.1h2.4v2.4h-2.4V0.1z M268.7,4.3h2.4v12.1h-2.4V4.3z\"/>\\n\\t\\t\\t\\t\\t<path class=\"st0\" d=\"M275.6,10.6v0.7c0,1.6,0.2,3.7,2,3.7c1.7,0,1.9-2,1.9-2.7h2.3c0,2.7-1.6,4.4-4.3,4.4c-2,0-4.4-0.6-4.4-6.2\\n\\t\\t\\t\\t\\t\\tc0-3.2,0.7-6.5,4.5-6.5c3.4,0,4.3,2,4.3,5.4v1.3L275.6,10.6z M279.5,9V8.3c0-1.5-0.5-2.7-1.9-2.7c-1.6,0-2,1.5-2,3.1V9L279.5,9z\"/>\\n\\t\\t\\t\\t\\t<path class=\"st0\" d=\"M284,4.3h2.3v1.4h0.1c0.6-1.1,1.8-1.8,3.1-1.7c1.8,0,3,0.8,3,3.3v9.1H290V8.1c0-1.6-0.5-2.2-1.7-2.2\\n\\t\\t\\t\\t\\t\\tc-1,0-1.9,0.8-1.9,2.4v8.1H284L284,4.3z\"/>\\n\\t\\t\\t\\t\\t<path class=\"st0\" d=\"M303,12c-0.2,2.9-1.1,4.7-4.1,4.7c-3.5,0-4.5-2.6-4.5-6.4s1-6.4,4.5-6.4c3.6,0,4.2,2.8,4.2,4.3h-2.4\\n\\t\\t\\t\\t\\t\\tc0-1.1-0.3-2.6-1.7-2.5c-1.8,0-2.1,1.9-2.1,4.6s0.3,4.6,2.1,4.6c1.3,0,1.8-1.1,1.8-2.9L303,12z\"/>\\n\\t\\t\\t\\t\\t<path class=\"st0\" d=\"M306.9,10.6v0.7c0,1.6,0.2,3.7,2,3.7c1.7,0,1.9-2,1.9-2.7h2.3c0,2.7-1.6,4.4-4.3,4.4c-2,0-4.4-0.6-4.4-6.2\\n\\t\\t\\t\\t\\t\\tc0-3.2,0.7-6.5,4.5-6.5c3.4,0,4.3,2,4.3,5.4v1.3L306.9,10.6z M310.8,9V8.3c0-1.5-0.5-2.7-1.9-2.7c-1.6,0-2,1.5-2,3.1V9L310.8,9z\"/>\\n\\t\\t\\t\\t\\t<path class=\"st0\" d=\"M320.4,7.8V7.5c0-1-0.3-1.9-1.6-1.9c-1,0-1.7,0.4-1.7,1.6c0,0.9,0.4,1.3,1.7,1.8l1.6,0.5\\n\\t\\t\\t\\t\\t\\tc1.8,0.6,2.6,1.6,2.6,3.5c0,2.6-1.9,3.7-4.3,3.7c-3.1,0-4-1.4-4-3.8v-0.4h2.2v0.4c0,1.4,0.5,2.2,1.9,2.2c1.3,0,2-0.7,2-1.8\\n\\t\\t\\t\\t\\t\\tc0-0.9-0.5-1.5-1.3-1.8l-2-0.7c-1.8-0.6-2.6-1.6-2.6-3.5c0-2.3,1.6-3.3,4.1-3.3c3.1,0,3.8,1.8,3.8,3.3v0.5L320.4,7.8z\"/>\\n\\t\\t\\t\\t</g>\\n\\t\\t\\t\\t</svg>\\n        <span>Northeastern University</span>\\n\\t\\t\\t</div>\\n\\t\\t\\t<nav class=\"footer-nav\">\\n\\t\\t\\t\\t<ul id=\"menu-action\" class=\"menu menu-horizontal menu-action\"><li id=\"menu-item-412\" class=\"menu-item menu-item-type-post_type menu-item-object-page menu-item-has-children menu-item-412\"><a href=\"https://www.khoury.northeastern.edu/apply/\">Apply</a></li>\\n<li id=\"menu-item-411\" class=\"menu-item menu-item-type-post_type menu-item-object-page menu-item-411\"><a href=\"https://www.khoury.northeastern.edu/inquire/\">Inquire</a></li>\\n<li id=\"menu-item-410\" class=\"menu-item menu-item-type-post_type menu-item-object-page menu-item-410\"><a href=\"https://www.khoury.northeastern.edu/alumni-and-friends/give/\">Give</a></li>\\n</ul><ul id=\"menu-contact\" class=\"menu menu-horizontal\"><li class=\"menu-item menu-item-type-custom menu-item-object-custom menu-item-has-children menu-item-3010\"><a rel=\"nofollow\" href=\"#\">Contact &#8211; Parent</a>\\n<ul class=\"sub-menu\">\\n\\t<li class=\"menu-item menu-item-type-post_type menu-item-object-page menu-item-4598\"><a href=\"https://www.khoury.northeastern.edu/directions-and-parking/\">Directions &#038; Parking</a></li>\\n\\t<li class=\"menu-item menu-item-type-post_type menu-item-object-page menu-item-2530\"><a href=\"https://www.khoury.northeastern.edu/facilities/\">Facilities</a></li>\\n\\t<li class=\"menu-item menu-item-type-post_type menu-item-object-page menu-item-has-children menu-item-5831\"><a href=\"https://www.khoury.northeastern.edu/systems/\">Systems</a></li>\\n\\t<li class=\"menu-item menu-item-type-post_type menu-item-object-page menu-item-has-children menu-item-4627\"><a href=\"https://www.khoury.northeastern.edu/about/\">About</a></li>\\n\\t<li class=\"menu-item menu-item-type-custom menu-item-object-custom menu-item-6161\"><a href=\"https://www.ccis.northeastern.edu/events/\">Events</a></li>\\n\\t<li class=\"menu-item menu-item-type-post_type menu-item-object-page current_page_parent menu-item-4629\"><a href=\"https://www.khoury.northeastern.edu/news/\">News</a></li>\\n</ul>\\n</li>\\n</ul><ul id=\"menu-social\" class=\"menu menu-horizontal\"><li id=\"menu-item-379\" class=\"menu-item menu-item-type-custom menu-item-object-custom menu-item-379\"><a href=\"https://www.youtube.com/channel/UChz4r4VXwPxTqx083Am0IeQ\">Youtube</a></li>\\n<li id=\"menu-item-380\" class=\"menu-item menu-item-type-custom menu-item-object-custom menu-item-380\"><a href=\"http://www.twitter.com/khourycollege\">Twitter</a></li>\\n<li id=\"menu-item-381\" class=\"menu-item menu-item-type-custom menu-item-object-custom menu-item-381\"><a href=\"https://www.linkedin.com/groups/1943637\">LinkedIn</a></li>\\n<li id=\"menu-item-383\" class=\"menu-item menu-item-type-custom menu-item-object-custom menu-item-383\"><a href=\"http://www.instagram.com/khourycollege\">Instagram</a></li>\\n<li id=\"menu-item-382\" class=\"menu-item menu-item-type-custom menu-item-object-custom menu-item-382\"><a href=\"http://www.facebook.com/khourycollege\">Facebook</a></li>\\n</ul>\\t\\t\\t</nav>\\n\\t\\t</div><!-- / #menu-prefooter -->\\n\\t</div><!-- / .container -->\\n\\t<div id=\"menu-footer-area\">\\n\\t\\t<div class=\"container\">\\n\\t\\t\\t<div class=\"row\">\\n\\t\\t\\t\\t<div class=\"footer-logo\">\\n\\t\\t\\t\\t\\t<a href=\"http://www.northeastern.edu\" target=\"_blank\">\\n\\t\\t\\t\\t\\t<!-- northeastern wordmark only -->\\n\\t\\t\\t\\t\\t<svg version=\"1.1\" id=\"nu_logo\" xmlns=\"http://www.w3.org/2000/svg\" xmlns:xlink=\"http://www.w3.org/1999/xlink\" x=\"0px\" y=\"0px\"  viewBox=\"0 0 500 50\" style=\"enable-background:new 0 0 500 50;\" xml:space=\"preserve\">\\n\\t\\t\\t\\t\\t\\t<style type=\"text/css\"> .st2{fill:#FFFFFF;}</style>\\n\\t\\t\\t\\t\\t\\t<g class=\"st2\">\\n\\t\\t\\t\\t\\t\\t\\t<path d=\"M321.472,1.443v1.151c-5.079,0.367-5.079,3.037-5.079,7.328v9.788c0,4.554,0,6.805-1.36,9.318 c-1.833,3.348-5.968,5.967-12.196,5.967c-7.171,0-10.364-3.089-11.726-5.078c-1.727-2.565-1.727-4.973-1.727-10.835v-8.899 c0-7.014-0.052-7.59-4.658-7.59h-0.786V1.443h14.97v1.151c-5.181,0-5.338,0-5.338,7.486v9.159c0,4.973,0,7.747,1.308,9.945 c1.204,2.042,4.082,4.084,9.055,4.084c3.35,0,7.486-1.204,9.737-4.711c1.464-2.25,1.464-4.658,1.464-9.055V9.452 c0-4.188,0-6.491-5.285-6.858V1.443H321.472z\"/>\\n\\t\\t\\t\\t\\t\\t\\t<path d=\"M327.174,12.592c0.417,1.204,0.626,3.245,0.68,4.344c2.668-2.931,5.025-4.344,8.06-4.344 c4.816,0,6.543,3.349,6.543,6.856v7.747c0,5.705,0,6.018,3.454,6.018v1.152h-10.731v-1.152c3.613,0,3.613-0.313,3.613-6.018v-6.752 c0-4.763-1.675-6.282-4.24-6.282c-2.985,0-4.921,2.513-6.7,4.502v8.532c0,5.653,0,6.018,3.454,6.018v1.152h-10.573v-1.152 c3.454,0,3.454-0.313,3.454-6.018v-6.23c0-5.705,0-6.019-3.454-6.019v-1.152c2.146-0.314,4.868-0.838,5.757-1.204H327.174z\"/>\\n\\t\\t\\t\\t\\t\\t\\t<path d=\"M355.591,29.236c0,3.352,0.315,3.978,2.879,3.978h0.786v1.152h-11.149v-1.152h0.889 c2.67,0,3.193-0.418,3.193-3.978v-8.374c0-5.705-0.313-5.757-4.082-5.757v-1.152c1.57-0.052,4.764-0.732,6.962-1.36h0.523V29.236z\" />\\n\\t\\t\\t\\t\\t\\t\\t<circle cx=\"353.371\" cy=\"5.968\" r=\"2.261\"/>\\n\\t\\t\\t\\t\\t\\t\\t<path d=\"M371.136,35.204l-7.432-16.75c-1.362-3.036-1.884-3.769-3.821-3.874v-1.152h9.422v1.152 c-1.362,0-2.67,0-2.67,1.256c0,0.209,0.052,0.576,0.575,1.78l6.072,13.661l5.079-11.358c0.732-1.675,1.203-2.827,1.203-3.507 c0-1.57-1.623-1.781-2.565-1.833v-1.152h7.065v1.152c-2.198,0.157-3.035,2.094-4.658,5.653l-6.804,14.97H371.136z\"/>\\n\\t\\t\\t\\t\\t\\t\\t<path d=\"M388.669,21.438c-0.054,0.472-0.105,1.204-0.105,1.57c0,6.647,2.094,10.836,7.171,10.836 c2.931,0,5.287-1.309,6.752-4.189h1.204c-1.308,3.455-4.397,5.549-8.637,5.549c-5.863,0-10.731-4.397-10.731-11.149 c0-6.491,4.24-11.463,10.521-11.463c5.915,0,8.9,3.873,9.055,8.845H388.669z M388.775,20.392h11.201 c-0.054-2.461-0.734-6.648-5.235-6.648C390.606,13.743,389.036,17.512,388.775,20.392z\"/>\\n\\t\\t\\t\\t\\t\\t\\t<path d=\"M414.107,27.196c0,5.339,0,6.018,3.087,6.018h0.734v1.152H406.83v-1.152c3.612,0,3.612-0.208,3.612-6.018 v-5.915c0-5.811,0-6.019-3.612-6.019V14.11c2.355-0.314,5.077-1.152,5.915-1.414l0.367-0.104c0.261,0.837,0.734,2.513,0.734,5.495 c1.621-3.873,5.39-5.495,8.059-5.495c2.724,0,4.032,1.936,4.032,3.193c0,0.941-0.682,1.884-1.781,1.884 c-1.151,0-1.727-0.785-2.04-1.674c-0.211-0.576-0.628-1.57-1.833-1.57c-2.094,0-6.176,2.513-6.176,7.851V27.196z\"/>\\n\\t\\t\\t\\t\\t\\t\\t<path d=\"M427.871,28.138h0.993c0.524,2.513,2.355,5.914,7.173,5.914c4.344,0,4.868-2.668,4.868-3.715 c0-2.565-2.722-3.769-6.02-4.973c-4.816-1.779-6.962-3.297-6.962-6.962c0-2.668,1.99-5.809,6.7-5.809 c2.459,0,4.24,0.994,5.444,2.198c0.417-0.471,0.941-1.727,0.993-1.833h0.943v6.491h-0.943c-0.471-2.407-2.565-5.705-6.28-5.705 c-3.404,0-4.555,1.675-4.555,3.194c0,2.46,1.988,3.349,5.811,4.71c4.186,1.467,7.379,3.194,7.379,7.381 c0,3.56-2.565,6.176-7.327,6.176c-3.089,0-4.921-1.204-6.124-2.356c-0.524,0.577-0.995,1.675-1.1,2.147h-0.993V28.138z\"/>\\n\\t\\t\\t\\t\\t\\t\\t<path d=\"M454.25,29.236c0,3.352,0.313,3.978,2.878,3.978h0.786v1.152h-11.149v-1.152h0.889 c2.67,0,3.194-0.418,3.194-3.978v-8.374c0-5.705-0.315-5.757-4.084-5.757v-1.152c1.57-0.052,4.764-0.732,6.962-1.36h0.524V29.236z\" />\\n\\t\\t\\t\\t\\t\\t\\t<circle cx=\"452.055\" cy=\"5.968\" r=\"2.261\"/>\\n\\t\\t\\t\\t\\t\\t\\t<path d=\"M466.601,14.581v12.667c0,2.879,0,6.178,3.141,6.178c1.779,0,2.722-1.415,3.193-2.095l0.786,0.472 c-1.623,3.402-4.973,3.402-5.34,3.402c-1.464,0-2.616-0.315-3.454-0.994c-1.362-1.048-1.988-2.984-1.988-6.072V14.581H459.9v-1.152 c2.303-0.105,5.077-1.622,5.863-6.543h0.837v6.543h6.333v1.152H466.601z\"/>\\n\\t\\t\\t\\t\\t\\t\\t<path d=\"M493.765,17.983c0.365-0.838,0.732-1.622,0.732-2.041c0-1.099-1.884-1.361-2.826-1.361v-1.152H499v1.152 c-2.618,0.157-3.142,1.466-4.449,4.606l-9.319,22.508c-1.362,3.245-2.616,5.548-4.658,5.548c-0.838,0-1.621-0.524-1.621-1.518 c0-1.727,1.727-2.513,2.668-2.931c1.781-0.786,2.357-1.099,3.089-2.931l1.988-4.973l-7.851-16.854 c-1.204-2.565-1.621-3.403-4.082-3.455v-1.152h9.63v1.152c-1.308,0.105-2.565,0.157-2.565,1.047c0,0.419,0.628,1.728,0.995,2.565 l5.757,12.248L493.765,17.983z\"/>\\n\\t\\t\\t\\t\\t\\t\\t<path d=\"M7.857,4.245v23.449c0,3.455,0.732,5.392,6.071,5.549v1.151H1v-1.151c5.705-0.261,5.601-2.616,5.601-5.549 V9.741c0-6.648-0.366-7.119-5.129-7.119V1.472h9.421l19.629,26.066V7.595c0-2.775-0.366-4.921-5.915-4.973V1.472h12.562v1.151 c-5.077,0.471-5.391,2.251-5.391,5.338v27.218h-0.732L7.857,4.245z\"/>\\n\\t\\t\\t\\t\\t\\t\\t<path d=\"M47.843,12.62c6.176,0,11.202,4.658,11.202,11.306c0,7.432-5.6,11.305-11.202,11.305 c-5.391,0-11.148-3.611-11.148-11.358C36.695,17.383,41.615,12.62,47.843,12.62z M47.843,33.976c4.816,0,6.962-3.297,6.962-9.892 c0-5.654-1.518-10.208-6.962-10.208c-5.286,0-6.909,4.45-6.909,10.155C40.934,30.73,43.081,33.976,47.843,33.976z\"/>\\n\\t\\t\\t\\t\\t\\t\\t<path d=\"M68.36,27.223c0,5.338,0,6.019,3.088,6.019h0.732v1.151H61.084v-1.151c3.612,0,3.612-0.209,3.612-6.019v-5.915 c0-5.81,0-6.019-3.612-6.019v-1.152c2.356-0.314,5.078-1.152,5.915-1.413l0.366-0.105c0.262,0.837,0.733,2.512,0.733,5.495 c1.623-3.873,5.391-5.495,8.061-5.495c2.721,0,4.03,1.936,4.03,3.193c0,0.942-0.68,1.884-1.779,1.884 c-1.152,0-1.727-0.785-2.042-1.674c-0.209-0.575-0.628-1.57-1.832-1.57c-2.094,0-6.176,2.513-6.176,7.851V27.223z\"/>\\n\\t\\t\\t\\t\\t\\t\\t<path d=\"M88.668,14.609v12.667c0,2.879,0,6.176,3.14,6.176c1.779,0,2.722-1.414,3.192-2.094l0.786,0.471 c-1.622,3.402-4.973,3.402-5.338,3.402c-1.466,0-2.618-0.315-3.455-0.994c-1.361-1.046-1.989-2.984-1.989-6.072V14.609h-3.036 v-1.152c2.303-0.104,5.077-1.621,5.862-6.543h0.838v6.543H95v1.152H88.668z\"/>\\n\\t\\t\\t\\t\\t\\t\\t<path d=\"M119.548,27.223c0,5.758,0,6.019,3.558,6.019v1.151h-10.834v-1.151c3.611,0,3.611-0.261,3.611-6.019v-6.752 c0-4.869-1.465-6.281-4.554-6.281c-2.408,0-4.71,2.46-6.385,4.606v8.426c0,5.6,0,6.019,3.298,6.019v1.151H97.617v-1.151 c3.664,0,3.664-0.209,3.664-6.019V8.118c0-3.664,0-4.868-3.454-4.868V2.1c2.145,0,5.025-0.472,6.699-1.1h0.366v15.964 c2.617-2.774,4.92-4.344,7.642-4.344c4.658,0,7.014,2.46,7.014,7.223V27.223z\"/>\\n\\t\\t\\t\\t\\t\\t\\t<path d=\"M128.287,21.465c-0.053,0.472-0.105,1.205-0.105,1.57c0,6.648,2.094,10.835,7.171,10.835 c2.931,0,5.287-1.309,6.753-4.188h1.203c-1.308,3.454-4.396,5.548-8.635,5.548c-5.863,0-10.731-4.397-10.731-11.148 c0-6.491,4.24-11.463,10.521-11.463c5.914,0,8.899,3.873,9.055,8.845H128.287z M128.392,20.418h11.2 c-0.052-2.46-0.732-6.647-5.234-6.647C130.224,13.772,128.654,17.54,128.392,20.418z\"/>\\n\\t\\t\\t\\t\\t\\t\\t<path d=\"M167.367,30.573c-0.42,2.457-1.491,2.606-2.118,2.606c-1.623,0-1.651-1.15-1.651-4.752v-8.479 c0-3.089-0.399-7.328-7.623-7.328c-5.234,0-8.427,2.669-8.427,4.763c0,0.942,0.576,1.518,1.413,1.518 c1.361,0,1.885-0.995,2.199-2.146c0.365-1.414,1.151-2.983,4.501-2.983c3.925,0,4.396,2.513,4.396,5.6v1.308l-3.978,1.362 c-7.38,2.513-9.63,5.443-9.63,8.427c0,2.983,2.354,4.447,5.391,4.447c2.51,0,5.128-1.045,8.217-3.663 c0.262,1.256,0.942,3.663,4.011,3.663c2.879,0,4.136-1.987,4.24-4.343H167.367z M160.057,30.089 c-2.107,1.822-4.954,3.271-6.89,3.271c-2.221,0-3.302-1.609-3.302-3.54c0-2.895,2.733-5.523,7.174-6.971l3.018-0.963V30.089z\"/>\\n\\t\\t\\t\\t\\t\\t\\t<path d=\"M170.439,28.165h0.994c0.523,2.513,2.355,5.914,7.171,5.914c4.345,0,4.867-2.668,4.867-3.715 c0-2.565-2.721-3.768-6.019-4.972c-4.815-1.779-6.962-3.297-6.962-6.962c0-2.668,1.99-5.809,6.7-5.809 c2.46,0,4.24,0.994,5.443,2.199c0.42-0.472,0.943-1.728,0.995-1.833h0.941v6.49h-0.941c-0.471-2.407-2.566-5.705-6.281-5.705 c-3.402,0-4.553,1.675-4.553,3.193c0,2.46,1.989,3.349,5.81,4.71c4.187,1.466,7.38,3.194,7.38,7.381c0,3.559-2.566,6.175-7.33,6.175 c-3.088,0-4.919-1.204-6.123-2.356c-0.523,0.577-0.993,1.675-1.098,2.147h-0.994V28.165z\"/>\\n\\t\\t\\t\\t\\t\\t\\t<path d=\"M195.561,14.609v12.667c0,2.879,0,6.176,3.141,6.176c1.779,0,2.72-1.414,3.193-2.094l0.786,0.471 c-1.623,3.402-4.973,3.402-5.34,3.402c-1.466,0-2.616-0.315-3.454-0.994c-1.362-1.046-1.99-2.984-1.99-6.072V14.609h-3.035v-1.152 c2.303-0.104,5.077-1.621,5.863-6.543h0.837v6.543h6.334v1.152H195.561z\"/>\\n\\t\\t\\t\\t\\t\\t\\t<path d=\"M208.226,21.465c-0.052,0.472-0.105,1.205-0.105,1.57c0,6.648,2.094,10.835,7.173,10.835 c2.93,0,5.285-1.309,6.751-4.188h1.204c-1.308,3.454-4.397,5.548-8.637,5.548c-5.861,0-10.731-4.397-10.731-11.148 c0-6.491,4.24-11.463,10.521-11.463c5.915,0,8.898,3.873,9.055,8.845H208.226z M208.332,20.418h11.201 c-0.054-2.46-0.734-6.647-5.235-6.647C210.163,13.772,208.593,17.54,208.332,20.418z\"/>\\n\\t\\t\\t\\t\\t\\t\\t<path d=\"M233.034,27.223c0,5.338,0,6.019,3.089,6.019h0.734v1.151h-11.097v-1.151c3.613,0,3.613-0.209,3.613-6.019 v-5.915c0-5.81,0-6.019-3.613-6.019v-1.152c2.355-0.314,5.077-1.152,5.915-1.413l0.367-0.105c0.261,0.837,0.732,2.512,0.732,5.495 c1.623-3.873,5.39-5.495,8.06-5.495c2.722,0,4.03,1.936,4.03,3.193c0,0.942-0.678,1.884-1.779,1.884 c-1.151,0-1.727-0.785-2.04-1.674c-0.211-0.575-0.63-1.57-1.834-1.57c-2.092,0-6.176,2.513-6.176,7.851V27.223z\"/>\\n\\t\\t\\t\\t\\t\\t\\t<path d=\"M253.133,12.62c0.417,1.204,0.628,3.245,0.68,4.344c2.668-2.931,5.024-4.344,8.06-4.344 c4.814,0,6.543,3.349,6.543,6.856v7.747c0,5.706,0,6.019,3.454,6.019v1.151H261.14v-1.151c3.611,0,3.611-0.313,3.611-6.019v-6.752 c0-4.763-1.675-6.281-4.238-6.281c-2.985,0-4.921,2.513-6.7,4.501v8.532c0,5.652,0,6.019,3.454,6.019v1.151h-10.573v-1.151 c3.454,0,3.454-0.313,3.454-6.019v-6.229c0-5.705,0-6.019-3.454-6.019v-1.152c2.147-0.314,4.868-0.838,5.757-1.204H253.133z\"/>\\n\\t\\t\\t\\t\\t\\t</g>\\n\\t\\t\\t\\t\\t</svg>\\n\\n\\t\\t\\t\\t\\t<span>Khoury College of Computer and Information Sciences</span>\\n\\t\\t\\t\\t\\t</a>\\n\\t\\t\\t\\t</div><!-- / .footer-logo -->\\n\\t\\t\\t\\t<div class=\"footer-nav\">\\n\\t\\t\\t\\t\\t<nav id=\"menu-footer\" class=\"menu-links-menu-container\"><ul id=\"menu-links-menu\" class=\"menu menu-horizontal\"><li id=\"menu-item-377\" class=\"menu-item menu-item-type-custom menu-item-object-custom menu-item-377\"><a href=\"http://my.northeastern.edu/\">myNortheastern</a></li>\\n<li id=\"menu-item-2809\" class=\"menu-item menu-item-type-custom menu-item-object-custom menu-item-2809\"><a href=\"https://prod-web.neu.edu/wasapp/employeelookup/public/main.action#_ga=1.152250297.1229401008.1453998512\">Find Faculty &#038; Staff</a></li>\\n<li id=\"menu-item-2810\" class=\"menu-item menu-item-type-custom menu-item-object-custom menu-item-2810\"><a href=\"http://www.northeastern.edu/neuhome/adminlinks/findaz.html\">Find A-Z</a></li>\\n<li id=\"menu-item-2811\" class=\"menu-item menu-item-type-custom menu-item-object-custom menu-item-2811\"><a href=\"http://www.northeastern.edu/emergency/index.html\">Emergency Information</a></li>\\n<li id=\"menu-item-11292\" class=\"menu-item menu-item-type-custom menu-item-object-custom menu-item-11292\"><a href=\"https://www.northeastern.edu/privacy-information/\">Privacy</a></li>\\n<li id=\"menu-item-378\" class=\"menu-item menu-item-type-custom menu-item-object-custom menu-item-378\"><a href=\"http://www.northeastern.edu/search/index.html\">Search</a></li>\\n</ul></nav>\\t\\t\\t\\t\\t<div class=\"copy\">\\n\\t\\t\\t\\t\\t\\t\\t\\t\\t\\t\\t<address><p>\\n\\t\\t\\t\\t\\t\\t\\t360 Huntington Ave. Boston, Massachusetts 02115\\t\\t\\t\\t\\t\\t\\t<a class=\"tel\" href=\"tel:6173732000\">617.373.2000</a>\\n\\t\\t\\t\\t\\t\\t\\t<a class=\"tel\" href=\"tel:6173733768\">TTY: 617.373.3768</a>\\n\\t\\t\\t\\t\\t\\t</p></address>\\n\\t\\t\\t\\t\\t\\t<p>\\xc2\\xa9 2019 Northeastern University\\t\\t\\t\\t\\t\\t\\t\\t\\t\\t</div><!-- / .copy -->\\n\\t\\t\\t\\t</div><!-- / .footer-nav -->\\n\\t\\t\\t</div><!-- / .row -->\\n\\t\\t</div><!-- / .container -->\\n\\t</div><!-- / #menu-footer -->\\n</footer>\\n<!-- as purely supplemental info, flyout is at the end. -->\\n<aside id=\"flyout\">\\n\\n\\t<h2 class=\"flyout-label\">Look<br />\\r\\nInside:<br />\\r\\nPeople</h2>\\n\\t<div class=\"flyout-content\">\\n\\n\\t\\t<h3 class=\"flyout-title\">People</h3>\\n\\t\\t<div class=\"main-content\">\\n\\t\\t\\t<h2>Scaling to meet growing demands</h2>\\n<p>The rise of computer science begets the need for more\\xe2\\x80\\x94and more diverse\\xe2\\x80\\x94expertise. Khoury College answers the call with highly talented faculty and dedicated advisors, coordinators, and staff.</p>\\n\\t\\t</div>\\n\\n\\t\\t\\t<div class=\"row\">\\n\\t\\t\\t<div class=\"stripe-stat\">\\n\\t\\t\\t\\t<div class=\"stat-item\"><h4>65%</h4><p>increase in tenure-track faculty over the past five years</p>\\n</div><div class=\"stat-item\"><h4>27%</h4><p>of current tenure-track faculty are interdisciplinary with other colleges</p>\\n</div>\\t\\t\\t</div>\\n\\t\\t</div>\\n\\t\\t\\t<div class=\"row\">\\n\\t\\t\\t<div class=\"stripe-image\">\\n\\t\\t\\t\\t<img src=\"https://www.khoury.northeastern.edu/wp-content/uploads/2018/11/CCIS_interdisciplinary_faculty_2018.png\" alt=\"\" />\\t\\t\\t</div>\\n\\t\\t</div>\\n\\t\\t\\t<div class=\"row\">\\n\\t\\t\\t<div class=\"stripe-text\">\\n\\t\\t\\t\\t<p>\\xe2\\x80\\x9cI joined CCIS to be at a place on the rise. There is an enormous opportunity for collaboration with highly motivated, smart faculty looking to do interesting, relevant work\\xe2\\x80\\x94and not caring about individual credit or traditional boundaries. We all want to be part of making something great.\\xe2\\x80\\x9d<br />\\n<em>-David Choffnes, Assistant Professor</em></p>\\n\\t\\t\\t</div>\\n\\t\\t</div>\\n\\t\\n\\t</div>\\n</aside>\\n\\t<script type=\"text/javascript\">\\n\\t_linkedin_data_partner_id = \"8239\";\\n\\t</script><script type=\"text/javascript\">\\n\\t(function(){var s = document.getElementsByTagName(\"script\")[0];\\n\\tvar b = document.createElement(\"script\");\\n\\tb.type = \"text/javascript\";b.async = true;\\n\\tb.src = \"https://snap.licdn.com/li.lms-analytics/insight.min.js\";\\n\\ts.parentNode.insertBefore(b, s);})();\\n\\t</script>\\n\\t<noscript>\\n\\t\\t<img height=\"1\" width=\"1\" style=\"display:none;\" alt=\"\" src=\"https://dc.ads.linkedin.com/collect/?pid=8239&fmt=gif\" />\\n\\t</noscript>\\n\\t\\t\\t<script>\\n\\t\\t( function ( body ) {\\n\\t\\t\\t\\'use strict\\';\\n\\t\\t\\tbody.className = body.className.replace( /\\\\btribe-no-js\\\\b/, \\'tribe-js\\' );\\n\\t\\t} )( document.body );\\n\\t\\t</script>\\n\\t\\t<script> /* <![CDATA[ */var tribe_l10n_datatables = {\"aria\":{\"sort_ascending\":\": activate to sort column ascending\",\"sort_descending\":\": activate to sort column descending\"},\"length_menu\":\"Show _MENU_ entries\",\"empty_table\":\"No data available in table\",\"info\":\"Showing _START_ to _END_ of _TOTAL_ entries\",\"info_empty\":\"Showing 0 to 0 of 0 entries\",\"info_filtered\":\"(filtered from _MAX_ total entries)\",\"zero_records\":\"No matching records found\",\"search\":\"Search:\",\"all_selected_text\":\"All items on this page were selected. \",\"select_all_link\":\"Select all pages\",\"clear_selection\":\"Clear Selection.\",\"pagination\":{\"all\":\"All\",\"next\":\"Next\",\"previous\":\"Previous\"},\"select\":{\"rows\":{\"0\":\"\",\"_\":\": Selected %d rows\",\"1\":\": Selected 1 row\"}},\"datepicker\":{\"dayNames\":[\"Sunday\",\"Monday\",\"Tuesday\",\"Wednesday\",\"Thursday\",\"Friday\",\"Saturday\"],\"dayNamesShort\":[\"Sun\",\"Mon\",\"Tue\",\"Wed\",\"Thu\",\"Fri\",\"Sat\"],\"dayNamesMin\":[\"S\",\"M\",\"T\",\"W\",\"T\",\"F\",\"S\"],\"monthNames\":[\"January\",\"February\",\"March\",\"April\",\"May\",\"June\",\"July\",\"August\",\"September\",\"October\",\"November\",\"December\"],\"monthNamesShort\":[\"January\",\"February\",\"March\",\"April\",\"May\",\"June\",\"July\",\"August\",\"September\",\"October\",\"November\",\"December\"],\"monthNamesMin\":[\"Jan\",\"Feb\",\"Mar\",\"Apr\",\"May\",\"Jun\",\"Jul\",\"Aug\",\"Sep\",\"Oct\",\"Nov\",\"Dec\"],\"nextText\":\"Next\",\"prevText\":\"Prev\",\"currentText\":\"Today\",\"closeText\":\"Done\",\"today\":\"Today\",\"clear\":\"Clear\"}};/* ]]> */ </script><script type=\\'text/javascript\\' src=\\'https://www.khoury.northeastern.edu/wp-content/plugins/the-events-calendar/common/src/resources/js/tribe-common.min.js?ver=4.9.16\\'></script>\\n<script type=\\'text/javascript\\' src=\\'https://www.khoury.northeastern.edu/wp-content/plugins/the-events-calendar/common/src/resources/js/tooltip.min.js?ver=4.9.16\\'></script>\\n<script type=\\'text/javascript\\' src=\\'https://www.khoury.northeastern.edu/wp-content/themes/ccis_theme/prod/prod.js?ver=5.2.4\\'></script>\\n<script type=\\'text/javascript\\' src=\\'https://www.khoury.northeastern.edu/wp-includes/js/wp-embed.min.js?ver=5.2.4\\'></script>\\n</body>\\n</html>\\n'\n"
     ]
    }
   ],
   "source": [
    "import urllib.request as urllib\n",
    "html = urllib.urlopen(\"https://www.khoury.northeastern.edu/role/tenured-and-tenure-track-faculty/\")\n",
    "print(html.read())"
   ]
  },
  {
   "cell_type": "markdown",
   "metadata": {
    "slideshow": {
     "slide_type": "subslide"
    }
   },
   "source": [
    "### 1.1. urlopen() function\n",
    "* Opens a URL, which can be a string or Request object\n",
    "* Returns a file-like object containing the contents of the URL"
   ]
  },
  {
   "cell_type": "code",
   "execution_count": 2,
   "metadata": {},
   "outputs": [
    {
     "name": "stdout",
     "output_type": "stream",
     "text": [
      "b'<!DOCTYPE html>\\n<!--[if (lte IE 9) ]><html lang=\"en\" class=\"no-js oldie\"><![endif]-->\\n<!--[if (gt IE 9)|!(IE)]><!--><html lang=\"en\" class=\"no-js\"><!--<![endif]-->\\n<head>\\n\\t<meta http-equiv=\"X-UA-Compatible\" content=\"IE=edge\">\\n\\t<meta name=\"viewport\" content=\"width=device-width, initial-scale=1\">\\n\\t<script src=\"https://www.khoury.northeastern.edu/wp-content/themes/ccis_theme/lib/modernizr.min.js\"></script>\\n\\t<link rel=\"shortcut icon\" href=\"https://www.khoury.northeastern.edu/wp-content/themes/ccis_theme/img/favicon.ico\" type=\"image/x-icon\" />\\n\\t<meta name=\"apple-mobile-web-app-title\" content=\"NU Khoury\">\\n\\t<link rel=\"apple-touch-icon\" href=\"https://www.khoury.northeastern.edu/wp-content/themes/ccis_theme/img/touchicon.png\" />\\n\\t<link rel=\"apple-touch-icon-precomposed\" href=\"https://www.khoury.northeastern.edu/wp-content/themes/ccis_theme/img/touchicon.png\" />\\n\\t<link rel=\"apple-touch-icon\" sizes=\"180x180\" href=\"https://www.khoury.northeastern.edu/wp-content/themes/ccis_theme/img/touchicon-180.png\" />\\n\\n\\t<link href=\"https://fast.fonts.com/cssapi/cac43e8c-6965-44df-b8ca-9784607a3b53.css\" rel=\"stylesheet\" type=\"text/css\"/>\\n\\t<link rel=\"stylesheet\" type=\"text/css\" media=\"all\" href=\"https://www.khoury.northeastern.edu/wp-content/themes/ccis_theme/prod/prod.min.css\" />\\n\\t<link rel=\"stylesheet\" type=\"text/css\" media=\"all\" href=\"https://www.khoury.northeastern.edu/wp-content/themes/ccis_theme/lib/ccis.css\" />\\n\\t\\n<!-- NU Google Tag Manager -->\\r\\n<script>(function(w,d,s,l,i){w[l]=w[l]||[];w[l].push({\\'gtm.start\\':\\r\\nnew Date().getTime(),event:\\'gtm.js\\'});var f=d.getElementsByTagName(s)[0],\\r\\nj=d.createElement(s),dl=l!=\\'dataLayer\\'?\\'&l=\\'+l:\\'\\';j.async=true;j.src=\\r\\n\\'https://www.googletagmanager.com/gtm.js?id=\\'+i+dl;f.parentNode.insertBefore(j,f);\\r\\n})(window,document,\\'script\\',\\'dataLayer\\',\\'GTM-WGQLLJ\\');</script>\\r\\n<!-- End Google Tag Manager -->\\r\\n<!-- Khoury Google Tag Manager -->\\r\\n<script>(function(w,d,s,l,i){w[l]=w[l]||[];w[l].push({\\'gtm.start\\':\\r\\nnew Date().getTime(),event:\\'gtm.js\\'});var f=d.getElementsByTagName(s)[0],\\r\\nj=d.createElement(s),dl=l!=\\'dataLayer\\'?\\'&l=\\'+l:\\'\\';j.async=true;j.src=\\r\\n\\'https://www.googletagmanager.com/gtm.js?id=\\'+i+dl;f.parentNode.insertBefore(j,f);\\r\\n})(window,document,\\'script\\',\\'dataLayer\\',\\'GTM-KN6KMJB\\');</script>\\r\\n<!-- End Google Tag Manager -->\\r\\n<!-- Google CSE code -->\\r\\n<script>\\r\\n(function() {\\r\\nvar cx = \\'004538069614616277034:sltf9o73gg0\\';\\r\\nvar gcse = document.createElement(\\'script\\');\\r\\ngcse.type = \\'text/javascript\\';\\r\\ngcse.async = true;\\r\\ngcse.src = \\'https://cse.google.com/cse.js?cx=\\' + cx;\\r\\nvar s = document.getElementsByTagName(\\'script\\')[0];\\r\\ns.parentNode.insertBefore(gcse, s);\\r\\n})();\\r\\n</script>\\r\\n<script type=\"text/javascript\" src=\"https://www.khoury.northeastern.edu/wp-content/themes/ccis_theme/lib/google-cse.js\"></script>\\n<!-- begin wp_head -->\\n<title>Tenured and Tenure Track Faculty | Khoury College of Computer Sciences</title>\\n\\n<!-- All in One SEO Pack 3.2.10 by Michael Torbert of Semper Fi Web Design[2787,2870] -->\\n<link rel=\"next\" href=\"https://www.khoury.northeastern.edu/role/tenured-and-tenure-track-faculty/page/2/\" />\\n\\n<script type=\"application/ld+json\" class=\"aioseop-schema\">{}</script>\\n<link rel=\"canonical\" href=\"https://www.khoury.northeastern.edu/role/tenured-and-tenure-track-faculty/\" />\\n<!-- All in One SEO Pack -->\\n<link rel=\\'dns-prefetch\\' href=\\'//s.w.org\\' />\\n<link rel=\\'stylesheet\\' id=\\'tribe-reset-style-css\\'  href=\\'https://www.khoury.northeastern.edu/wp-content/plugins/the-events-calendar/common/src/resources/css/reset.min.css?ver=4.9.16\\' type=\\'text/css\\' media=\\'all\\' />\\n<link rel=\\'stylesheet\\' id=\\'tribe-common-style-css\\'  href=\\'https://www.khoury.northeastern.edu/wp-content/plugins/the-events-calendar/common/src/resources/css/common.min.css?ver=4.9.16\\' type=\\'text/css\\' media=\\'all\\' />\\n<link rel=\\'stylesheet\\' id=\\'tribe-tooltip-css-css\\'  href=\\'https://www.khoury.northeastern.edu/wp-content/plugins/the-events-calendar/common/src/resources/css/tooltip.min.css?ver=4.9.16\\' type=\\'text/css\\' media=\\'all\\' />\\n<link rel=\\'stylesheet\\' id=\\'wp-block-library-css\\'  href=\\'https://www.khoury.northeastern.edu/wp-includes/css/dist/block-library/style.min.css?ver=5.2.4\\' type=\\'text/css\\' media=\\'all\\' />\\n<script type=\\'text/javascript\\' src=\\'https://www.khoury.northeastern.edu/wp-includes/js/jquery/jquery.js?ver=1.12.4-wp\\'></script>\\n<script type=\\'text/javascript\\' src=\\'https://www.khoury.northeastern.edu/wp-includes/js/jquery/jquery-migrate.min.js?ver=1.4.1\\'></script>\\n<link rel=\\'https://api.w.org/\\' href=\\'https://www.khoury.northeastern.edu/wp-json/\\' />\\n<link rel=\"EditURI\" type=\"application/rsd+xml\" title=\"RSD\" href=\"https://www.khoury.northeastern.edu/xmlrpc.php?rsd\" />\\n<link rel=\"wlwmanifest\" type=\"application/wlwmanifest+xml\" href=\"https://www.khoury.northeastern.edu/wp-includes/wlwmanifest.xml\" /> \\n<meta name=\"generator\" content=\"WordPress 5.2.4\" />\\n<meta name=\"tec-api-version\" content=\"v1\"><meta name=\"tec-api-origin\" content=\"https://www.khoury.northeastern.edu\"><link rel=\"https://theeventscalendar.com/\" href=\"https://www.khoury.northeastern.edu/wp-json/tribe/events/v1/\" /><!-- end wp_head -->\\n\\n</head>\\n\\n\\n\\n<body class=\"archive tax-role term-tenured-and-tenure-track-faculty term-23 tribe-no-js\">\\n<!-- NU Google Tag Manager (noscript) -->\\r\\n<noscript><iframe src=\"https://www.googletagmanager.com/ns.html?id=GTM-WGQLLJ\" height=\"0\" width=\"0\" style=\"display:none;visibility:hidden\"></iframe></noscript>\\r\\n<!-- End Google Tag Manager (noscript) -->\\r\\n<!-- Khoury Google Tag Manager (noscript) -->\\r\\n<noscript><iframe src=\"https://www.googletagmanager.com/ns.html?id=GTM-KN6KMJB\" height=\"0\" width=\"0\" style=\"display:none;visibility:hidden\"></iframe></noscript>\\r\\n<!-- End Google Tag Manager (noscript) -->\\t<a id=\"top\" class=\"sr-only\" href=\"#main-content\">Skip to main content</a>\\n\\n\\t<header id=\"site-header\" role=\"banner\">\\n\\n\\t\\t<div id=\"contact-region\">\\n\\t\\t\\t<div class=\"container\">\\n\\t\\t\\t\\t<div class=\"contact-contents expanded\">\\n\\n\\t\\t\\t\\t\\t\\n\\t\\t\\t\\t\\t<div class=\"contact-col\">\\n\\t\\t\\t\\t\\t\\t<h4>Main</h4>\\r\\n<a href=\"mailto:khoury@northeastern.edu\">khoury@northeastern.edu</a>\\r\\n<a href=\"tel:6173732462\">617.373.2462</a>\\r\\n<a href=\"http://www.northeastern.edu/nupd/campus-safety/\">Campus Safety</a>\\r\\n<a href=\"https://www.northeastern.edu/campusmap/map/index.html\">Campus Map</a>\\t\\t\\t\\t\\t</div>\\n\\n\\t\\t\\t\\t\\t<div class=\"contact-col\">\\n\\t\\t\\t\\t\\t\\t<h4>Undergraduate</h4>\\r\\n<a href=\"tel:6173736519\">617.373.6519</a>\\r\\n<a href=\"mailto:admissions@northeastern.edu\">admissions@northeastern.edu</a>\\r\\n<a href=\"mailto:khoury-advising@northeastern.edu\">khoury-advising@northeastern.edu</a>\\t\\t\\t\\t\\t</div>\\n\\n\\t\\t\\t\\t\\t<div class=\"contact-col\">\\n\\t\\t\\t\\t\\t\\t<h4>Graduate</h4>\\r\\n<a href=\"tel:6173738613\">617.373.5545</a>\\r\\n<a href=\"mailto:khoury-gradschool@northeastern.edu\">khoury-gradschool@northeastern.edu</a>\\t\\t\\t\\t\\t</div>\\n\\n\\t\\t\\t\\t\\t\\n\\t\\t\\t\\t\\t<nav id=\"menu-contact-header\" class=\"contact-col\">\\n\\t\\t\\t\\t\\t\\t<ul id=\"menu-contact-menu\" class=\"menu menu-contact menu-vertical\"><li id=\"menu-item-3010\" class=\"menu-item menu-item-type-custom menu-item-object-custom menu-item-has-children menu-item-3010\"><a rel=\"nofollow\" href=\"#\">Contact &#8211; Parent</a>\\n<ul class=\"sub-menu\">\\n\\t<li id=\"menu-item-4598\" class=\"menu-item menu-item-type-post_type menu-item-object-page menu-item-4598\"><a href=\"https://www.khoury.northeastern.edu/directions-and-parking/\">Directions &#038; Parking</a></li>\\n\\t<li id=\"menu-item-2530\" class=\"menu-item menu-item-type-post_type menu-item-object-page menu-item-2530\"><a href=\"https://www.khoury.northeastern.edu/facilities/\">Facilities</a></li>\\n\\t<li id=\"menu-item-5831\" class=\"menu-item menu-item-type-post_type menu-item-object-page menu-item-has-children menu-item-5831\"><a href=\"https://www.khoury.northeastern.edu/systems/\">Systems</a></li>\\n\\t<li id=\"menu-item-4627\" class=\"menu-item menu-item-type-post_type menu-item-object-page menu-item-has-children menu-item-4627\"><a href=\"https://www.khoury.northeastern.edu/about/\">About</a></li>\\n\\t<li id=\"menu-item-6161\" class=\"menu-item menu-item-type-custom menu-item-object-custom menu-item-6161\"><a href=\"https://www.ccis.northeastern.edu/events/\">Events</a></li>\\n\\t<li id=\"menu-item-4629\" class=\"menu-item menu-item-type-post_type menu-item-object-page current_page_parent menu-item-4629\"><a href=\"https://www.khoury.northeastern.edu/news/\">News</a></li>\\n</ul>\\n</li>\\n</ul>\\t\\t\\t\\t\\t</nav>\\n\\t\\t\\t\\t</div>\\n\\t\\t\\t</div>\\n\\t\\t</div>\\n\\n\\t\\t<div class=\"container\">\\n\\n\\t\\t\\t<div id=\"utilities-region\">\\n\\t\\t\\t\\t<div id=\"utilities\">\\n\\t\\t\\t\\t\\t<nav id=\"menu-utility\">\\n\\t\\t\\t\\t\\t\\t<ul id=\"menu-utility-menu\" class=\"menu menu-utility menu-horizontal\"><li id=\"menu-item-2766\" class=\"menu-item menu-item-type-custom menu-item-object-custom menu-item-has-children menu-item-2766\"><a rel=\"nofollow\" href=\"#\">Utility &#8211; Parent</a>\\n<ul class=\"sub-menu\">\\n\\t<li id=\"menu-item-2294\" class=\"menu-item menu-item-type-post_type menu-item-object-page menu-item-2294\"><a href=\"https://www.khoury.northeastern.edu/open-positions/\">We\\xe2\\x80\\x99re hiring</a></li>\\n\\t<li id=\"menu-item-13723\" class=\"menu-item menu-item-type-custom menu-item-object-custom menu-item-13723\"><a href=\"https://www.khoury.northeastern.edu/current-students/\">Current Students</a></li>\\n\\t<li id=\"menu-item-403\" class=\"menu-item menu-item-type-post_type menu-item-object-page menu-item-403\"><a href=\"https://www.khoury.northeastern.edu/industry/\">Industry</a></li>\\n\\t<li id=\"menu-item-7849\" class=\"menu-item menu-item-type-post_type menu-item-object-page menu-item-7849\"><a href=\"https://www.khoury.northeastern.edu/diversity/\">Diversity</a></li>\\n\\t<li id=\"menu-item-402\" class=\"toggle menu-item menu-item-type-post_type menu-item-object-page menu-item-402\"><a href=\"https://www.khoury.northeastern.edu/contact/\">Contact</a></li>\\n</ul>\\n</li>\\n</ul>\\t\\t\\t\\t\\t</nav>\\n\\t\\t\\t\\t\\t<form role=\"search\" id=\"searchform-q\" onsubmit=\"return submitQuery()\">\\n    <label class=\"screen-reader-text\" for=\"q\"></label>\\n    <input type=\"text\" placeholder=\"Search\" value=\"\" name=\"q\" id=\"q\" />\\n    <button type=\"submit\" id=\"searchsubmit\" value=\"Search\"></button>\\n</form>\\n<noscript>\\n    <form role=\"search\" method=\"get\" id=\"searchform\" action=\"https://www.khoury.northeastern.edu/\">\\n        <label class=\"screen-reader-text\" for=\"s\"></label>\\n        <input type=\"text\" placeholder=\"Search\" value=\"\" name=\"s\" id=\"s\" />\\n\\t<button type=\"submit\" id=\"searchsubmit\" value=\"Search\"></button>\\n    </form>\\n</noscript>\\n\\t\\t\\t\\t</div>\\n\\t\\t\\t</div><!-- /#utilities-region -->\\n\\n\\t\\t\\t<div id=\"branding-region\">\\n\\n\\t\\t\\t\\t<h1 id=\"site-logo\">\\n\\t\\t\\t\\t\\t<a href=\"https://www.khoury.northeastern.edu\">\\n\\t\\t\\t\\t\\t\\t<span>Khoury College of Computer Sciences</span>\\n\\t\\t\\t\\t\\t\\t<!-- main Khoury logo -->\\n\\t\\t\\t\\t\\t\\t<img src=\"/wp-content/uploads/2019/02/nu-khoury-lockup.png\" alt=\"college lockup\" />\\n\\t\\t\\t\\t\\t</a>\\n\\t\\t\\t\\t</h1>\\n\\t\\t\\t</div><!-- /#branding-region -->\\n\\n\\n\\t\\t\\t<nav role=\"navigation\" id=\"menu-primary\">\\n\\t\\t\\t\\t<!-- main nav here -->\\n\\t\\t\\t\\t<ul class=\"menu menu-primary menu-horizontal\">\\n\\t\\t\\t\\t\\t\\t\\t\\t\\t\\t<li class=\"bucket\">\\n\\t\\t\\t\\t\\t\\t<a class=\"toggle\" href=\"#menu-academics\">Academics</a><div class=\"expanded\"><div class=\"menu-description\"><p><strong>Computer science for everyone</strong><br />\\nNow more than ever, computer science is everywhere. Our innovative, interdisciplinary programs deliver the knowledge and perspective you need to succeed in a highly demanding job market.</p>\\n</div><ul id=\"menu-academics\" class=\"submenu menu-vertical\"><li id=\"menu-item-2222\" class=\"menu-item menu-item-type-post_type menu-item-object-page menu-item-has-children menu-item-2222\"><a rel=\"nofollow\" href=\"https://www.khoury.northeastern.edu/academics/\">Academics \\xe2\\x80\\x93 FLYOUT</a>\\n<ul class=\"sub-menu\">\\n\\t<li id=\"menu-item-980\" class=\"menu-item menu-item-type-post_type menu-item-object-page menu-item-has-children menu-item-980\"><a href=\"https://www.khoury.northeastern.edu/academics/undergraduate/\">Undergraduate</a></li>\\n\\t<li id=\"menu-item-978\" class=\"menu-item menu-item-type-post_type menu-item-object-page menu-item-has-children menu-item-978\"><a href=\"https://www.khoury.northeastern.edu/academics/masters/\">Masters</a></li>\\n\\t<li id=\"menu-item-979\" class=\"menu-item menu-item-type-post_type menu-item-object-page menu-item-has-children menu-item-979\"><a href=\"https://www.khoury.northeastern.edu/academics/phd/\">PhD</a></li>\\n\\t<li id=\"menu-item-973\" class=\"menu-item menu-item-type-post_type menu-item-object-page menu-item-has-children menu-item-973\"><a href=\"https://www.khoury.northeastern.edu/academics/certificate/\">Certificate</a></li>\\n\\t<li id=\"menu-item-3266\" class=\"menu-item menu-item-type-post_type menu-item-object-page menu-item-3266\"><a href=\"https://www.khoury.northeastern.edu/academics/courses/\">Courses</a></li>\\n</ul>\\n</li>\\n</ul></div>\\t\\t\\t\\t\\t</li>\\n\\t\\t\\t\\t\\t\\t\\t\\t\\t\\t\\t<li class=\"bucket\">\\n\\t\\t\\t\\t\\t\\t<a class=\"toggle\" href=\"#menu-research\">Research</a><div class=\"expanded\"><div class=\"menu-description\"><p><strong>Solving today\\xe2\\x80\\x99s challenges</strong><br />\\nBringing together students and faculty across disciplines, the Khoury research community finds impactful solutions to everyday problems.</p>\\n</div><ul id=\"menu-research\" class=\"submenu menu-vertical\"><li id=\"menu-item-2307\" class=\"menu-item menu-item-type-post_type menu-item-object-page menu-item-has-children menu-item-2307\"><a rel=\"nofollow\" href=\"https://www.khoury.northeastern.edu/research/\">Research</a>\\n<ul class=\"sub-menu\">\\n\\t<li id=\"menu-item-400\" class=\"menu-item menu-item-type-post_type menu-item-object-page menu-item-has-children menu-item-400\"><a href=\"https://www.khoury.northeastern.edu/research/research-areas/\">Research Areas</a></li>\\n\\t<li id=\"menu-item-1192\" class=\"menu-item menu-item-type-post_type menu-item-object-page menu-item-has-children menu-item-1192\"><a href=\"https://www.khoury.northeastern.edu/research/research-projects/\">Research Projects</a></li>\\n\\t<li id=\"menu-item-998\" class=\"menu-item menu-item-type-post_type menu-item-object-page menu-item-998\"><a href=\"https://www.khoury.northeastern.edu/research/labs-groups/\">Labs and Groups</a></li>\\n\\t<li id=\"menu-item-1021\" class=\"menu-item menu-item-type-post_type menu-item-object-page menu-item-1021\"><a href=\"https://www.khoury.northeastern.edu/research/institutes/\">Institutes and Centers</a></li>\\n\\t<li id=\"menu-item-1022\" class=\"menu-item menu-item-type-post_type menu-item-object-page menu-item-1022\"><a href=\"https://www.khoury.northeastern.edu/research/speaker-series/\">Speaker Series</a></li>\\n</ul>\\n</li>\\n</ul></div>\\t\\t\\t\\t\\t</li>\\n\\t\\t\\t\\t\\t\\t\\t\\t\\t\\t\\t<li class=\"bucket\">\\n\\t\\t\\t\\t\\t\\t<a class=\"toggle\" href=\"#menu-coop\">Experiential Learning & Co-op</a><div class=\"expanded\"><div class=\"menu-description\"><p><strong>A real-world education</strong><br />\\nKhoury experiential learning and co-op programs deliver a hands-on education to enhance your studies\\xe2\\x80\\x94and advance your career.</p>\\n</div><ul id=\"menu-experiential-learning-co-op\" class=\"submenu menu-vertical\"><li id=\"menu-item-399\" class=\"menu-item menu-item-type-post_type menu-item-object-page menu-item-has-children menu-item-399\"><a rel=\"nofollow\" href=\"https://www.khoury.northeastern.edu/experiential-learning/\">Experiential Learning &#038; Co-op \\xe2\\x80\\x93 FLYOUT</a>\\n<ul class=\"sub-menu\">\\n\\t<li id=\"menu-item-2256\" class=\"menu-item menu-item-type-post_type menu-item-object-page menu-item-has-children menu-item-2256\"><a href=\"https://www.khoury.northeastern.edu/experiential-learning/undergraduate/\">Undergraduate</a></li>\\n\\t<li id=\"menu-item-2262\" class=\"menu-item menu-item-type-post_type menu-item-object-page menu-item-has-children menu-item-2262\"><a href=\"https://www.khoury.northeastern.edu/experiential-learning/masters/\">Masters</a></li>\\n\\t<li id=\"menu-item-2264\" class=\"menu-item menu-item-type-post_type menu-item-object-page menu-item-2264\"><a href=\"https://www.khoury.northeastern.edu/experiential-learning/phd/\">PhD</a></li>\\n\\t<li id=\"menu-item-2265\" class=\"menu-item menu-item-type-post_type menu-item-object-page menu-item-has-children menu-item-2265\"><a href=\"https://www.khoury.northeastern.edu/experiential-learning/employers/\">Employers</a></li>\\n</ul>\\n</li>\\n</ul></div>\\t\\t\\t\\t\\t</li>\\n\\t\\t\\t\\t\\t\\t\\t\\t\\t\\t\\t<li class=\"bucket current-bucket\">\\n\\t\\t\\t\\t\\t\\t<a class=\"toggle\" href=\"#menu-people\">People</a><div class=\"expanded\"><div class=\"menu-description\"><p><strong>Experienced, engaged, inspiring</strong><br />\\nOur renowned faculty shape minds, spark innovation, and inspire ideas. Our dedicated advisors and coordinators build connections and confidence. Our committed staff provide support every step of the way.</p>\\n</div><ul id=\"menu-people\" class=\"submenu menu-vertical\"><li id=\"menu-item-2282\" class=\"menu-item menu-item-type-post_type menu-item-object-page current-menu-ancestor current-menu-parent current_page_parent current_page_ancestor menu-item-has-children menu-item-2282\"><a rel=\"nofollow\" href=\"https://www.khoury.northeastern.edu/people/\">People</a>\\n<ul class=\"sub-menu\">\\n\\t<li id=\"menu-item-727\" class=\"menu-item menu-item-type-taxonomy menu-item-object-role current-menu-item menu-item-727\"><a href=\"https://www.khoury.northeastern.edu/role/tenured-and-tenure-track-faculty/\" aria-current=\"page\">Tenured and Tenure Track Faculty</a></li>\\n\\t<li id=\"menu-item-8882\" class=\"menu-item menu-item-type-taxonomy menu-item-object-role menu-item-8882\"><a href=\"https://www.khoury.northeastern.edu/role/professors-practice/\">Professors of the Practice</a></li>\\n\\t<li id=\"menu-item-733\" class=\"menu-item menu-item-type-taxonomy menu-item-object-role menu-item-733\"><a href=\"https://www.khoury.northeastern.edu/role/teaching-faculty/\">Teaching Faculty</a></li>\\n\\t<li id=\"menu-item-728\" class=\"menu-item menu-item-type-taxonomy menu-item-object-role menu-item-728\"><a href=\"https://www.khoury.northeastern.edu/role/research-faculty/\">Research Faculty and Staff</a></li>\\n\\t<li id=\"menu-item-5778\" class=\"menu-item menu-item-type-taxonomy menu-item-object-role menu-item-5778\"><a href=\"https://www.khoury.northeastern.edu/role/courtesy-appointments/\">Courtesy Appointments</a></li>\\n\\t<li id=\"menu-item-725\" class=\"menu-item menu-item-type-taxonomy menu-item-object-role menu-item-725\"><a href=\"https://www.khoury.northeastern.edu/role/co-op-and-advising/\">Co-op and Advising</a></li>\\n\\t<li id=\"menu-item-726\" class=\"menu-item menu-item-type-taxonomy menu-item-object-role menu-item-726\"><a href=\"https://www.khoury.northeastern.edu/role/administrative-staff/\">Administrative Staff</a></li>\\n\\t<li id=\"menu-item-729\" class=\"menu-item menu-item-type-taxonomy menu-item-object-role menu-item-729\"><a href=\"https://www.khoury.northeastern.edu/role/systems-staff/\">Systems Staff</a></li>\\n\\t<li id=\"menu-item-730\" class=\"menu-item menu-item-type-taxonomy menu-item-object-role menu-item-730\"><a href=\"https://www.khoury.northeastern.edu/role/post-docs/\">Post Docs</a></li>\\n\\t<li id=\"menu-item-731\" class=\"menu-item menu-item-type-taxonomy menu-item-object-role menu-item-731\"><a href=\"https://www.khoury.northeastern.edu/role/phd-students/\">PhD Students</a></li>\\n\\t<li id=\"menu-item-413\" class=\"menu-item menu-item-type-post_type menu-item-object-page menu-item-413\"><a href=\"https://www.khoury.northeastern.edu/people-view-all/\">View All</a></li>\\n</ul>\\n</li>\\n</ul></div>\\t\\t\\t\\t\\t</li>\\n\\t\\t\\t\\t\\t\\t\\t\\t\\t\\t\\t<li class=\"bucket\">\\n\\t\\t\\t\\t\\t\\t<a class=\"toggle\" href=\"#menu-alumni\">Alumni & Friends</a><div class=\"expanded\"><div class=\"menu-description\"><p><strong>This is your community</strong><br />\\nIt\\xe2\\x80\\x99s time to get involved and give back. Engage and explore. Connect and keep in touch. Your Khoury community welcomes you!  </p>\\n</div><ul id=\"menu-alumni-friends\" class=\"submenu menu-vertical\"><li id=\"menu-item-2281\" class=\"menu-item menu-item-type-post_type menu-item-object-page menu-item-has-children menu-item-2281\"><a rel=\"nofollow\" href=\"https://www.khoury.northeastern.edu/alumni-and-friends/\">Alumni &amp; Friends \\xe2\\x80\\x93 FLYOUT</a>\\n<ul class=\"sub-menu\">\\n\\t<li id=\"menu-item-2283\" class=\"menu-item menu-item-type-post_type menu-item-object-page menu-item-2283\"><a href=\"https://www.khoury.northeastern.edu/alumni-and-friends/welcome-back/\">Welcome Back</a></li>\\n\\t<li id=\"menu-item-1140\" class=\"menu-item menu-item-type-post_type menu-item-object-page menu-item-1140\"><a href=\"https://www.khoury.northeastern.edu/alumni-and-friends/alumni-news-events/\">Alumni News &amp; Events</a></li>\\n\\t<li id=\"menu-item-7062\" class=\"menu-item menu-item-type-post_type menu-item-object-page menu-item-7062\"><a href=\"https://www.khoury.northeastern.edu/alumni-and-friends/class-notes/\">Alumni Class Notes</a></li>\\n\\t<li id=\"menu-item-1145\" class=\"menu-item menu-item-type-post_type menu-item-object-page menu-item-1145\"><a href=\"https://www.khoury.northeastern.edu/alumni-and-friends/parents/\">Parents</a></li>\\n\\t<li id=\"menu-item-1141\" class=\"menu-item menu-item-type-post_type menu-item-object-page menu-item-1141\"><a href=\"https://www.khoury.northeastern.edu/alumni-and-friends/connect/\">Connect</a></li>\\n\\t<li id=\"menu-item-2284\" class=\"menu-item menu-item-type-custom menu-item-object-custom menu-item-2284\"><a href=\"http://www.northeastern.edu/careers/\">Career Services</a></li>\\n\\t<li id=\"menu-item-1142\" class=\"menu-item menu-item-type-post_type menu-item-object-page menu-item-has-children menu-item-1142\"><a href=\"https://www.khoury.northeastern.edu/alumni-and-friends/give/\">Give</a></li>\\n</ul>\\n</li>\\n</ul></div>\\t\\t\\t\\t\\t</li>\\n\\t\\t\\t\\t\\t\\t\\t\\t\\t\\t</ul>\\n\\t\\t\\t</nav>\\n\\n\\n\\t\\t</div> <!-- /.container -->\\n\\n\\t</header>\\n\\t\\t<main class=\"container\" id=\"main-content\">\\n\\t\\t<div class=\"row\">\\n\\t\\t\\t<section id=\"primary-content\" class=\"with-subnav\">\\n\\t\\t\\t\\t<div class=\"page-header\">\\n\\t\\t\\t\\t\\t<h1 class=\"page-title\">Tenured and Tenure Track Faculty</h1>\\n\\t\\t\\t\\t</div>\\n\\t\\t\\t\\t<div class=\"row\">\\n\\t\\t\\t\\t\\t<nav id=\"people-subnav\" class=\"sidebar-subnav\">\\n\\t\\t\\t\\t\\t\\t<div class=\"menu-people-container\"><ul id=\"menu-people-1\" class=\"menu menu-vertical\"><li class=\"menu-item menu-item-type-post_type menu-item-object-page current-menu-ancestor current-menu-parent current_page_parent current_page_ancestor menu-item-has-children menu-item-2282\"><a rel=\"nofollow\" href=\"https://www.khoury.northeastern.edu/people/\">People</a>\\n<ul class=\"sub-menu\">\\n\\t<li class=\"menu-item menu-item-type-taxonomy menu-item-object-role current-menu-item menu-item-727\"><a href=\"https://www.khoury.northeastern.edu/role/tenured-and-tenure-track-faculty/\" aria-current=\"page\">Tenured and Tenure Track Faculty</a></li>\\n\\t<li class=\"menu-item menu-item-type-taxonomy menu-item-object-role menu-item-8882\"><a href=\"https://www.khoury.northeastern.edu/role/professors-practice/\">Professors of the Practice</a></li>\\n\\t<li class=\"menu-item menu-item-type-taxonomy menu-item-object-role menu-item-733\"><a href=\"https://www.khoury.northeastern.edu/role/teaching-faculty/\">Teaching Faculty</a></li>\\n\\t<li class=\"menu-item menu-item-type-taxonomy menu-item-object-role menu-item-728\"><a href=\"https://www.khoury.northeastern.edu/role/research-faculty/\">Research Faculty and Staff</a></li>\\n\\t<li class=\"menu-item menu-item-type-taxonomy menu-item-object-role menu-item-5778\"><a href=\"https://www.khoury.northeastern.edu/role/courtesy-appointments/\">Courtesy Appointments</a></li>\\n\\t<li class=\"menu-item menu-item-type-taxonomy menu-item-object-role menu-item-725\"><a href=\"https://www.khoury.northeastern.edu/role/co-op-and-advising/\">Co-op and Advising</a></li>\\n\\t<li class=\"menu-item menu-item-type-taxonomy menu-item-object-role menu-item-726\"><a href=\"https://www.khoury.northeastern.edu/role/administrative-staff/\">Administrative Staff</a></li>\\n\\t<li class=\"menu-item menu-item-type-taxonomy menu-item-object-role menu-item-729\"><a href=\"https://www.khoury.northeastern.edu/role/systems-staff/\">Systems Staff</a></li>\\n\\t<li class=\"menu-item menu-item-type-taxonomy menu-item-object-role menu-item-730\"><a href=\"https://www.khoury.northeastern.edu/role/post-docs/\">Post Docs</a></li>\\n\\t<li class=\"menu-item menu-item-type-taxonomy menu-item-object-role menu-item-731\"><a href=\"https://www.khoury.northeastern.edu/role/phd-students/\">PhD Students</a></li>\\n\\t<li class=\"menu-item menu-item-type-post_type menu-item-object-page menu-item-413\"><a href=\"https://www.khoury.northeastern.edu/people-view-all/\">View All</a></li>\\n</ul>\\n</li>\\n</ul></div><aside id=\"text-4\" class=\"widget widget_text\"><h2 class=\"section-title widget-title\">We&#8217;re Hiring</h2><div class=\"widget-body\">\\t\\t\\t<div class=\"textwidget\"><p><a href=\"https://www.ccis.northeastern.edu/open-positions\">View open positions</a></p>\\n</div>\\n\\t\\t</div></aside>\\t\\t\\t\\t\\t</nav>\\n\\t\\t\\t\\t\\t<div class=\"taxonomy-grid\">\\n\\t\\t\\t\\t\\t\\t<div class=\"row\">\\n\\t\\t\\t\\t\\t\\t\\t\\t\\t\\t<div class=\"grid-square grid-people\">\\n\\t\\t\\t\\t\\t\\t\\t\\t\\t\\t\\t<article class=\"people\">\\n\\t\\t\\t\\t\\t<div class=\"grid-item\">\\n\\t\\t\\t\\t\\t\\t<a href=\"https://www.khoury.northeastern.edu/people/amal-ahmed/\">\\n\\t\\t\\t\\t\\t\\t\\t\\t<div class=\"grid-image\"><img src=\"https://www.khoury.northeastern.edu/wp-content/uploads/2016/03/Amal-Ahmed-Index-Image.jpg\" alt=\"\" /></div>\\n\\t\\t\\t\\t\\t\\t\\t\\t\\t\\t\\t\\t\\t\\t\\t<p class=\"roles\"><span class=\"role-23\">Tenured and Tenure Track Faculty</span></p>\\n\\t\\t\\t\\t\\t\\t\\t\\t\\t\\t\\t\\t\\t\\t<h3 class=\"person-name\">\\n\\t\\t\\t\\t\\t\\t\\t\\t\\tAmal Ahmed\\t\\t\\t\\t\\t\\t\\t</h3>\\n\\t\\t\\t\\t\\t\\t</a>\\n\\t\\t\\t\\t\\t\\t\\t\\t\\t\\t\\t\\t<div class=\"position-list\">\\n\\t\\t\\t\\t\\t\\t\\t\\t\\t\\t\\t\\t\\t\\t\\t<p class=\"position\">Associate Professor</p>\\n\\t\\t\\t\\t\\t\\t\\t\\t\\t\\t\\t\\t\\t\\t\\t<p class=\"position\">Sy and Laurie Sternberg Interdisciplinary Associate Professor</p>\\n\\t\\t\\t\\t\\t\\t\\t\\t\\t\\t\\t\\t\\t</div>\\n\\t\\t\\t\\t\\t\\t\\t\\t\\t\\t\\t\\t\\t\\t\\t\\t\\t</div>\\n\\t\\t\\t\\t</article>\\n\\t\\t\\t\\t\\t\\t</div>\\n\\t\\t\\t\\t\\t\\t\\t\\t\\t\\t<div class=\"grid-square grid-people\">\\n\\t\\t\\t\\t\\t\\t\\t\\t\\t\\t\\t<article class=\"people\">\\n\\t\\t\\t\\t\\t<div class=\"grid-item\">\\n\\t\\t\\t\\t\\t\\t<a href=\"https://www.khoury.northeastern.edu/people/chris-amato/\">\\n\\t\\t\\t\\t\\t\\t\\t\\t<div class=\"grid-image\"><img src=\"https://www.khoury.northeastern.edu/wp-content/uploads/2016/08/Amato_Chris-index-image.jpg\" alt=\"\" /></div>\\n\\t\\t\\t\\t\\t\\t\\t\\t\\t\\t\\t\\t\\t\\t\\t<p class=\"roles\"><span class=\"role-23\">Tenured and Tenure Track Faculty</span></p>\\n\\t\\t\\t\\t\\t\\t\\t\\t\\t\\t\\t\\t\\t\\t<h3 class=\"person-name\">\\n\\t\\t\\t\\t\\t\\t\\t\\t\\tChristopher Amato\\t\\t\\t\\t\\t\\t\\t</h3>\\n\\t\\t\\t\\t\\t\\t</a>\\n\\t\\t\\t\\t\\t\\t\\t\\t\\t\\t\\t\\t<div class=\"position-list\">\\n\\t\\t\\t\\t\\t\\t\\t\\t\\t\\t\\t\\t\\t\\t\\t<p class=\"position\">Assistant Professor</p>\\n\\t\\t\\t\\t\\t\\t\\t\\t\\t\\t\\t\\t\\t</div>\\n\\t\\t\\t\\t\\t\\t\\t\\t\\t\\t\\t\\t\\t\\t\\t\\t\\t</div>\\n\\t\\t\\t\\t</article>\\n\\t\\t\\t\\t\\t\\t</div>\\n\\t\\t\\t\\t\\t\\t\\t\\t\\t\\t<div class=\"grid-square grid-people\">\\n\\t\\t\\t\\t\\t\\t\\t\\t\\t\\t\\t<article class=\"people\">\\n\\t\\t\\t\\t\\t<div class=\"grid-item\">\\n\\t\\t\\t\\t\\t\\t<a href=\"https://www.khoury.northeastern.edu/people/jay-javed-aslam/\">\\n\\t\\t\\t\\t\\t\\t\\t\\t<div class=\"grid-image\"><img src=\"https://www.khoury.northeastern.edu/wp-content/uploads/2016/02/Javed-Aslam-index-image-e1456779428335.jpg\" alt=\"\" /></div>\\n\\t\\t\\t\\t\\t\\t\\t\\t\\t\\t\\t\\t\\t\\t\\t<p class=\"roles\"><span class=\"role-29\">Administrative Staff</span> <span class=\"role-23\">Tenured and Tenure Track Faculty</span></p>\\n\\t\\t\\t\\t\\t\\t\\t\\t\\t\\t\\t\\t\\t\\t<h3 class=\"person-name\">\\n\\t\\t\\t\\t\\t\\t\\t\\t\\tJaved Aslam\\t\\t\\t\\t\\t\\t\\t</h3>\\n\\t\\t\\t\\t\\t\\t</a>\\n\\t\\t\\t\\t\\t\\t\\t\\t\\t\\t\\t\\t<div class=\"position-list\">\\n\\t\\t\\t\\t\\t\\t\\t\\t\\t\\t\\t\\t\\t\\t\\t<p class=\"position\">Professor</p>\\n\\t\\t\\t\\t\\t\\t\\t\\t\\t\\t\\t\\t\\t\\t\\t<p class=\"position\">Senior Associate Dean - Academic Affairs</p>\\n\\t\\t\\t\\t\\t\\t\\t\\t\\t\\t\\t\\t\\t</div>\\n\\t\\t\\t\\t\\t\\t\\t\\t\\t\\t\\t\\t\\t\\t\\t\\t\\t</div>\\n\\t\\t\\t\\t</article>\\n\\t\\t\\t\\t\\t\\t</div>\\n\\t\\t\\t\\t\\t\\t\\t\\t\\t\\t<div class=\"grid-square grid-people\">\\n\\t\\t\\t\\t\\t\\t\\t\\t\\t\\t\\t<article class=\"people\">\\n\\t\\t\\t\\t\\t<div class=\"grid-item\">\\n\\t\\t\\t\\t\\t\\t<a href=\"https://www.khoury.northeastern.edu/people/kenneth-baclawski/\">\\n\\t\\t\\t\\t\\t\\t\\t\\t<div class=\"grid-image\"><img src=\"https://www.khoury.northeastern.edu/wp-content/uploads/2016/02/Kenneth-Baclawski-index-image-e1456779323580.jpg\" alt=\"\" /></div>\\n\\t\\t\\t\\t\\t\\t\\t\\t\\t\\t\\t\\t\\t\\t\\t<p class=\"roles\"><span class=\"role-23\">Tenured and Tenure Track Faculty</span></p>\\n\\t\\t\\t\\t\\t\\t\\t\\t\\t\\t\\t\\t\\t\\t<h3 class=\"person-name\">\\n\\t\\t\\t\\t\\t\\t\\t\\t\\tKenneth Baclawski\\t\\t\\t\\t\\t\\t\\t</h3>\\n\\t\\t\\t\\t\\t\\t</a>\\n\\t\\t\\t\\t\\t\\t\\t\\t\\t\\t\\t\\t<div class=\"position-list\">\\n\\t\\t\\t\\t\\t\\t\\t\\t\\t\\t\\t\\t\\t\\t\\t<p class=\"position\">Associate Professor Emeritus</p>\\n\\t\\t\\t\\t\\t\\t\\t\\t\\t\\t\\t\\t\\t</div>\\n\\t\\t\\t\\t\\t\\t\\t\\t\\t\\t\\t\\t\\t\\t\\t\\t\\t</div>\\n\\t\\t\\t\\t</article>\\n\\t\\t\\t\\t\\t\\t</div>\\n\\t\\t\\t\\t\\t\\t\\t\\t\\t\\t<div class=\"grid-square grid-people\">\\n\\t\\t\\t\\t\\t\\t\\t\\t\\t\\t\\t<article class=\"people\">\\n\\t\\t\\t\\t\\t<div class=\"grid-item\">\\n\\t\\t\\t\\t\\t\\t<a href=\"https://www.khoury.northeastern.edu/people/albert-laszlo-barabasi/\">\\n\\t\\t\\t\\t\\t\\t\\t\\t<div class=\"grid-image\"><img src=\"https://www.khoury.northeastern.edu/wp-content/uploads/2015/12/barabasi-index.jpg\" alt=\"\" /></div>\\n\\t\\t\\t\\t\\t\\t\\t\\t\\t\\t\\t\\t\\t\\t\\t<p class=\"roles\"><span class=\"role-23\">Tenured and Tenure Track Faculty</span></p>\\n\\t\\t\\t\\t\\t\\t\\t\\t\\t\\t\\t\\t\\t\\t<h3 class=\"person-name\">\\n\\t\\t\\t\\t\\t\\t\\t\\t\\tAlbert-L\\xc3\\xa1szl\\xc3\\xb3 Barab\\xc3\\xa1si\\t\\t\\t\\t\\t\\t\\t</h3>\\n\\t\\t\\t\\t\\t\\t</a>\\n\\t\\t\\t\\t\\t\\t\\t\\t\\t\\t\\t\\t<div class=\"position-list\">\\n\\t\\t\\t\\t\\t\\t\\t\\t\\t\\t\\t\\t\\t\\t\\t<p class=\"position\">Robert Gray Dodge Professor of Network Science</p>\\n\\t\\t\\t\\t\\t\\t\\t\\t\\t\\t\\t\\t\\t\\t\\t<p class=\"position\">Distinguished University Professor</p>\\n\\t\\t\\t\\t\\t\\t\\t\\t\\t\\t\\t\\t\\t\\t\\t<p class=\"position\">Interdisciplinary with College of Science</p>\\n\\t\\t\\t\\t\\t\\t\\t\\t\\t\\t\\t\\t\\t</div>\\n\\t\\t\\t\\t\\t\\t\\t\\t\\t\\t\\t\\t\\t\\t\\t\\t\\t</div>\\n\\t\\t\\t\\t</article>\\n\\t\\t\\t\\t\\t\\t</div>\\n\\t\\t\\t\\t\\t\\t\\t\\t\\t\\t<div class=\"grid-square grid-people\">\\n\\t\\t\\t\\t\\t\\t\\t\\t\\t\\t\\t<article class=\"people\">\\n\\t\\t\\t\\t\\t<div class=\"grid-item\">\\n\\t\\t\\t\\t\\t\\t<a href=\"https://www.khoury.northeastern.edu/people/timothy-bickmore/\">\\n\\t\\t\\t\\t\\t\\t\\t\\t<div class=\"grid-image\"><img src=\"https://www.khoury.northeastern.edu/wp-content/uploads/2016/02/Timothy-Bickmore-index-image.jpg\" alt=\"\" /></div>\\n\\t\\t\\t\\t\\t\\t\\t\\t\\t\\t\\t\\t\\t\\t\\t<p class=\"roles\"><span class=\"role-23\">Tenured and Tenure Track Faculty</span></p>\\n\\t\\t\\t\\t\\t\\t\\t\\t\\t\\t\\t\\t\\t\\t<h3 class=\"person-name\">\\n\\t\\t\\t\\t\\t\\t\\t\\t\\tTimothy W. Bickmore\\t\\t\\t\\t\\t\\t\\t</h3>\\n\\t\\t\\t\\t\\t\\t</a>\\n\\t\\t\\t\\t\\t\\t\\t\\t\\t\\t\\t\\t<div class=\"position-list\">\\n\\t\\t\\t\\t\\t\\t\\t\\t\\t\\t\\t\\t\\t\\t\\t<p class=\"position\">Professor</p>\\n\\t\\t\\t\\t\\t\\t\\t\\t\\t\\t\\t\\t\\t</div>\\n\\t\\t\\t\\t\\t\\t\\t\\t\\t\\t\\t\\t\\t\\t\\t\\t\\t</div>\\n\\t\\t\\t\\t</article>\\n\\t\\t\\t\\t\\t\\t</div>\\n\\t\\t\\t\\t\\t\\t\\t\\t\\t\\t<div class=\"grid-square grid-people\">\\n\\t\\t\\t\\t\\t\\t\\t\\t\\t\\t\\t<article class=\"people\">\\n\\t\\t\\t\\t\\t<div class=\"grid-item\">\\n\\t\\t\\t\\t\\t\\t<a href=\"https://www.khoury.northeastern.edu/people/michelle-borkin/\">\\n\\t\\t\\t\\t\\t\\t\\t\\t<div class=\"grid-image\"><img src=\"https://www.khoury.northeastern.edu/wp-content/uploads/2016/02/Michelle-Borkin-index-image.jpg\" alt=\"\" /></div>\\n\\t\\t\\t\\t\\t\\t\\t\\t\\t\\t\\t\\t\\t\\t\\t<p class=\"roles\"><span class=\"role-23\">Tenured and Tenure Track Faculty</span></p>\\n\\t\\t\\t\\t\\t\\t\\t\\t\\t\\t\\t\\t\\t\\t<h3 class=\"person-name\">\\n\\t\\t\\t\\t\\t\\t\\t\\t\\tMichelle Borkin\\t\\t\\t\\t\\t\\t\\t</h3>\\n\\t\\t\\t\\t\\t\\t</a>\\n\\t\\t\\t\\t\\t\\t\\t\\t\\t\\t\\t\\t<div class=\"position-list\">\\n\\t\\t\\t\\t\\t\\t\\t\\t\\t\\t\\t\\t\\t\\t\\t<p class=\"position\">Assistant Professor</p>\\n\\t\\t\\t\\t\\t\\t\\t\\t\\t\\t\\t\\t\\t</div>\\n\\t\\t\\t\\t\\t\\t\\t\\t\\t\\t\\t\\t\\t\\t\\t\\t\\t</div>\\n\\t\\t\\t\\t</article>\\n\\t\\t\\t\\t\\t\\t</div>\\n\\t\\t\\t\\t\\t\\t\\t\\t\\t\\t<div class=\"grid-square grid-people\">\\n\\t\\t\\t\\t\\t\\t\\t\\t\\t\\t\\t<article class=\"people\">\\n\\t\\t\\t\\t\\t<div class=\"grid-item\">\\n\\t\\t\\t\\t\\t\\t<a href=\"https://www.khoury.northeastern.edu/people/carla-brodley/\">\\n\\t\\t\\t\\t\\t\\t\\t\\t<div class=\"grid-image\"><img src=\"https://www.khoury.northeastern.edu/wp-content/uploads/2016/02/Carla-Brodley-index-image-e1456779225742.jpg\" alt=\"\" /></div>\\n\\t\\t\\t\\t\\t\\t\\t\\t\\t\\t\\t\\t\\t\\t\\t<p class=\"roles\"><span class=\"role-29\">Administrative Staff</span> <span class=\"role-23\">Tenured and Tenure Track Faculty</span></p>\\n\\t\\t\\t\\t\\t\\t\\t\\t\\t\\t\\t\\t\\t\\t<h3 class=\"person-name\">\\n\\t\\t\\t\\t\\t\\t\\t\\t\\tCarla E. Brodley\\t\\t\\t\\t\\t\\t\\t</h3>\\n\\t\\t\\t\\t\\t\\t</a>\\n\\t\\t\\t\\t\\t\\t\\t\\t\\t\\t\\t\\t<div class=\"position-list\">\\n\\t\\t\\t\\t\\t\\t\\t\\t\\t\\t\\t\\t\\t\\t\\t<p class=\"position\">Dean - Khoury College of Computer Sciences</p>\\n\\t\\t\\t\\t\\t\\t\\t\\t\\t\\t\\t\\t\\t\\t\\t<p class=\"position\">Professor</p>\\n\\t\\t\\t\\t\\t\\t\\t\\t\\t\\t\\t\\t\\t\\t\\t<p class=\"position\">Executive Director of the Center for Inclusive Computing</p>\\n\\t\\t\\t\\t\\t\\t\\t\\t\\t\\t\\t\\t\\t</div>\\n\\t\\t\\t\\t\\t\\t\\t\\t\\t\\t\\t\\t\\t\\t\\t\\t\\t</div>\\n\\t\\t\\t\\t</article>\\n\\t\\t\\t\\t\\t\\t</div>\\n\\t\\t\\t\\t\\t\\t\\t\\t\\t\\t<div class=\"grid-square grid-people\">\\n\\t\\t\\t\\t\\t\\t\\t\\t\\t\\t\\t<article class=\"people\">\\n\\t\\t\\t\\t\\t<div class=\"grid-item\">\\n\\t\\t\\t\\t\\t\\t<a href=\"https://www.khoury.northeastern.edu/people/agnes-chan/\">\\n\\t\\t\\t\\t\\t\\t\\t\\t<div class=\"grid-image\"><img src=\"https://www.khoury.northeastern.edu/wp-content/uploads/2016/02/Agnes-Chan-index-image-e1456779295334.jpg\" alt=\"\" /></div>\\n\\t\\t\\t\\t\\t\\t\\t\\t\\t\\t\\t\\t\\t\\t\\t<p class=\"roles\"><span class=\"role-23\">Tenured and Tenure Track Faculty</span></p>\\n\\t\\t\\t\\t\\t\\t\\t\\t\\t\\t\\t\\t\\t\\t<h3 class=\"person-name\">\\n\\t\\t\\t\\t\\t\\t\\t\\t\\tAgnes H. Chan\\t\\t\\t\\t\\t\\t\\t</h3>\\n\\t\\t\\t\\t\\t\\t</a>\\n\\t\\t\\t\\t\\t\\t\\t\\t\\t\\t\\t\\t<div class=\"position-list\">\\n\\t\\t\\t\\t\\t\\t\\t\\t\\t\\t\\t\\t\\t\\t\\t<p class=\"position\">Professor Emeritus</p>\\n\\t\\t\\t\\t\\t\\t\\t\\t\\t\\t\\t\\t\\t</div>\\n\\t\\t\\t\\t\\t\\t\\t\\t\\t\\t\\t\\t\\t\\t\\t\\t\\t</div>\\n\\t\\t\\t\\t</article>\\n\\t\\t\\t\\t\\t\\t</div>\\n\\t\\t\\t\\t\\t\\t\\t\\t\\t\\t<div class=\"grid-square grid-people\">\\n\\t\\t\\t\\t\\t\\t\\t\\t\\t\\t\\t<article class=\"people\">\\n\\t\\t\\t\\t\\t<div class=\"grid-item\">\\n\\t\\t\\t\\t\\t\\t<a href=\"https://www.khoury.northeastern.edu/people/david-choffnes/\">\\n\\t\\t\\t\\t\\t\\t\\t\\t<div class=\"grid-image\"><img src=\"https://www.khoury.northeastern.edu/wp-content/uploads/2016/03/David-Choffnes-Index-Image.jpg\" alt=\"\" /></div>\\n\\t\\t\\t\\t\\t\\t\\t\\t\\t\\t\\t\\t\\t\\t\\t<p class=\"roles\"><span class=\"role-23\">Tenured and Tenure Track Faculty</span></p>\\n\\t\\t\\t\\t\\t\\t\\t\\t\\t\\t\\t\\t\\t\\t<h3 class=\"person-name\">\\n\\t\\t\\t\\t\\t\\t\\t\\t\\tDavid Choffnes\\t\\t\\t\\t\\t\\t\\t</h3>\\n\\t\\t\\t\\t\\t\\t</a>\\n\\t\\t\\t\\t\\t\\t\\t\\t\\t\\t\\t\\t<div class=\"position-list\">\\n\\t\\t\\t\\t\\t\\t\\t\\t\\t\\t\\t\\t\\t\\t\\t<p class=\"position\">Associate Professor</p>\\n\\t\\t\\t\\t\\t\\t\\t\\t\\t\\t\\t\\t\\t</div>\\n\\t\\t\\t\\t\\t\\t\\t\\t\\t\\t\\t\\t\\t\\t\\t\\t\\t</div>\\n\\t\\t\\t\\t</article>\\n\\t\\t\\t\\t\\t\\t</div>\\n\\t\\t\\t\\t\\t\\t\\t\\t\\t\\t<div class=\"grid-square grid-people\">\\n\\t\\t\\t\\t\\t\\t\\t\\t\\t\\t\\t<article class=\"people\">\\n\\t\\t\\t\\t\\t<div class=\"grid-item\">\\n\\t\\t\\t\\t\\t\\t<a href=\"https://www.khoury.northeastern.edu/people/william-d-clinger/\">\\n\\t\\t\\t\\t\\t\\t\\t\\t<div class=\"grid-image\"><img src=\"https://www.khoury.northeastern.edu/wp-content/uploads/2016/02/William-Clinger-index-image.jpg\" alt=\"\" /></div>\\n\\t\\t\\t\\t\\t\\t\\t\\t\\t\\t\\t\\t\\t\\t\\t<p class=\"roles\"><span class=\"role-23\">Tenured and Tenure Track Faculty</span></p>\\n\\t\\t\\t\\t\\t\\t\\t\\t\\t\\t\\t\\t\\t\\t<h3 class=\"person-name\">\\n\\t\\t\\t\\t\\t\\t\\t\\t\\tWilliam D. Clinger\\t\\t\\t\\t\\t\\t\\t</h3>\\n\\t\\t\\t\\t\\t\\t</a>\\n\\t\\t\\t\\t\\t\\t\\t\\t\\t\\t\\t\\t<div class=\"position-list\">\\n\\t\\t\\t\\t\\t\\t\\t\\t\\t\\t\\t\\t\\t\\t\\t<p class=\"position\">Professor Emeritus</p>\\n\\t\\t\\t\\t\\t\\t\\t\\t\\t\\t\\t\\t\\t</div>\\n\\t\\t\\t\\t\\t\\t\\t\\t\\t\\t\\t\\t\\t\\t\\t\\t\\t</div>\\n\\t\\t\\t\\t</article>\\n\\t\\t\\t\\t\\t\\t</div>\\n\\t\\t\\t\\t\\t\\t\\t\\t\\t\\t<div class=\"grid-square grid-people\">\\n\\t\\t\\t\\t\\t\\t\\t\\t\\t\\t\\t<article class=\"people\">\\n\\t\\t\\t\\t\\t<div class=\"grid-item\">\\n\\t\\t\\t\\t\\t\\t<a href=\"https://www.khoury.northeastern.edu/people/seth-cooper/\">\\n\\t\\t\\t\\t\\t\\t\\t\\t<div class=\"grid-image\"><img src=\"https://www.khoury.northeastern.edu/wp-content/uploads/2016/02/Seth-Cooper-index-image.jpg\" alt=\"\" /></div>\\n\\t\\t\\t\\t\\t\\t\\t\\t\\t\\t\\t\\t\\t\\t\\t<p class=\"roles\"><span class=\"role-23\">Tenured and Tenure Track Faculty</span></p>\\n\\t\\t\\t\\t\\t\\t\\t\\t\\t\\t\\t\\t\\t\\t<h3 class=\"person-name\">\\n\\t\\t\\t\\t\\t\\t\\t\\t\\tSeth Cooper\\t\\t\\t\\t\\t\\t\\t</h3>\\n\\t\\t\\t\\t\\t\\t</a>\\n\\t\\t\\t\\t\\t\\t\\t\\t\\t\\t\\t\\t<div class=\"position-list\">\\n\\t\\t\\t\\t\\t\\t\\t\\t\\t\\t\\t\\t\\t\\t\\t<p class=\"position\">Assistant Professor</p>\\n\\t\\t\\t\\t\\t\\t\\t\\t\\t\\t\\t\\t\\t</div>\\n\\t\\t\\t\\t\\t\\t\\t\\t\\t\\t\\t\\t\\t\\t\\t\\t\\t</div>\\n\\t\\t\\t\\t</article>\\n\\t\\t\\t\\t\\t\\t</div>\\n\\t\\t\\t\\t\\t\\t\\t\\t\\t\\t<div class=\"grid-square grid-people\">\\n\\t\\t\\t\\t\\t\\t\\t\\t\\t\\t\\t<article class=\"people\">\\n\\t\\t\\t\\t\\t<div class=\"grid-item\">\\n\\t\\t\\t\\t\\t\\t<a href=\"https://www.khoury.northeastern.edu/people/gene-cooperman/\">\\n\\t\\t\\t\\t\\t\\t\\t\\t<div class=\"grid-image\"><img src=\"https://www.khoury.northeastern.edu/wp-content/uploads/2016/02/Gene-Cooperman-index-image-e1456779126336.jpg\" alt=\"\" /></div>\\n\\t\\t\\t\\t\\t\\t\\t\\t\\t\\t\\t\\t\\t\\t\\t<p class=\"roles\"><span class=\"role-23\">Tenured and Tenure Track Faculty</span></p>\\n\\t\\t\\t\\t\\t\\t\\t\\t\\t\\t\\t\\t\\t\\t<h3 class=\"person-name\">\\n\\t\\t\\t\\t\\t\\t\\t\\t\\tGene Cooperman\\t\\t\\t\\t\\t\\t\\t</h3>\\n\\t\\t\\t\\t\\t\\t</a>\\n\\t\\t\\t\\t\\t\\t\\t\\t\\t\\t\\t\\t<div class=\"position-list\">\\n\\t\\t\\t\\t\\t\\t\\t\\t\\t\\t\\t\\t\\t\\t\\t<p class=\"position\">Professor</p>\\n\\t\\t\\t\\t\\t\\t\\t\\t\\t\\t\\t\\t\\t</div>\\n\\t\\t\\t\\t\\t\\t\\t\\t\\t\\t\\t\\t\\t\\t\\t\\t\\t</div>\\n\\t\\t\\t\\t</article>\\n\\t\\t\\t\\t\\t\\t</div>\\n\\t\\t\\t\\t\\t\\t\\t\\t\\t\\t<div class=\"grid-square grid-people\">\\n\\t\\t\\t\\t\\t\\t\\t\\t\\t\\t\\t<article class=\"people\">\\n\\t\\t\\t\\t\\t<div class=\"grid-item\">\\n\\t\\t\\t\\t\\t\\t<a href=\"https://www.khoury.northeastern.edu/people/peter-desnoyers/\">\\n\\t\\t\\t\\t\\t\\t\\t\\t<div class=\"grid-image\"><img src=\"https://www.khoury.northeastern.edu/wp-content/uploads/2016/02/Peter-Desnoyers-index-image-e1456759566934.jpg\" alt=\"\" /></div>\\n\\t\\t\\t\\t\\t\\t\\t\\t\\t\\t\\t\\t\\t\\t\\t<p class=\"roles\"><span class=\"role-23\">Tenured and Tenure Track Faculty</span></p>\\n\\t\\t\\t\\t\\t\\t\\t\\t\\t\\t\\t\\t\\t\\t<h3 class=\"person-name\">\\n\\t\\t\\t\\t\\t\\t\\t\\t\\tPeter Desnoyers\\t\\t\\t\\t\\t\\t\\t</h3>\\n\\t\\t\\t\\t\\t\\t</a>\\n\\t\\t\\t\\t\\t\\t\\t\\t\\t\\t\\t\\t<div class=\"position-list\">\\n\\t\\t\\t\\t\\t\\t\\t\\t\\t\\t\\t\\t\\t\\t\\t<p class=\"position\">Associate Professor</p>\\n\\t\\t\\t\\t\\t\\t\\t\\t\\t\\t\\t\\t\\t</div>\\n\\t\\t\\t\\t\\t\\t\\t\\t\\t\\t\\t\\t\\t\\t\\t\\t\\t</div>\\n\\t\\t\\t\\t</article>\\n\\t\\t\\t\\t\\t\\t</div>\\n\\t\\t\\t\\t\\t\\t\\t\\t\\t\\t<div class=\"grid-square grid-people\">\\n\\t\\t\\t\\t\\t\\t\\t\\t\\t\\t\\t<article class=\"people\">\\n\\t\\t\\t\\t\\t<div class=\"grid-item\">\\n\\t\\t\\t\\t\\t\\t<a href=\"https://www.khoury.northeastern.edu/people/cody-dunne/\">\\n\\t\\t\\t\\t\\t\\t\\t\\t<div class=\"grid-image\"><img src=\"https://www.khoury.northeastern.edu/wp-content/uploads/2016/09/Dunne_Cody-index-image.jpg\" alt=\"\" /></div>\\n\\t\\t\\t\\t\\t\\t\\t\\t\\t\\t\\t\\t\\t\\t\\t<p class=\"roles\"><span class=\"role-23\">Tenured and Tenure Track Faculty</span></p>\\n\\t\\t\\t\\t\\t\\t\\t\\t\\t\\t\\t\\t\\t\\t<h3 class=\"person-name\">\\n\\t\\t\\t\\t\\t\\t\\t\\t\\tCody Dunne\\t\\t\\t\\t\\t\\t\\t</h3>\\n\\t\\t\\t\\t\\t\\t</a>\\n\\t\\t\\t\\t\\t\\t\\t\\t\\t\\t\\t\\t<div class=\"position-list\">\\n\\t\\t\\t\\t\\t\\t\\t\\t\\t\\t\\t\\t\\t\\t\\t<p class=\"position\">Assistant Professor</p>\\n\\t\\t\\t\\t\\t\\t\\t\\t\\t\\t\\t\\t\\t</div>\\n\\t\\t\\t\\t\\t\\t\\t\\t\\t\\t\\t\\t\\t\\t\\t\\t\\t</div>\\n\\t\\t\\t\\t</article>\\n\\t\\t\\t\\t\\t\\t</div>\\n\\t\\t\\t\\t\\t\\t\\t\\t\\t\\t<div class=\"grid-square grid-people\">\\n\\t\\t\\t\\t\\t\\t\\t\\t\\t\\t\\t<article class=\"people\">\\n\\t\\t\\t\\t\\t<div class=\"grid-item\">\\n\\t\\t\\t\\t\\t\\t<a href=\"https://www.khoury.northeastern.edu/people/ehsan-elhamifar/\">\\n\\t\\t\\t\\t\\t\\t\\t\\t<div class=\"grid-image\"><img src=\"https://www.khoury.northeastern.edu/wp-content/uploads/2016/02/linderpix-NEU-5502-web-bio-photo.jpg\" alt=\"\" /></div>\\n\\t\\t\\t\\t\\t\\t\\t\\t\\t\\t\\t\\t\\t\\t\\t<p class=\"roles\"><span class=\"role-23\">Tenured and Tenure Track Faculty</span></p>\\n\\t\\t\\t\\t\\t\\t\\t\\t\\t\\t\\t\\t\\t\\t<h3 class=\"person-name\">\\n\\t\\t\\t\\t\\t\\t\\t\\t\\tEhsan Elhamifar\\t\\t\\t\\t\\t\\t\\t</h3>\\n\\t\\t\\t\\t\\t\\t</a>\\n\\t\\t\\t\\t\\t\\t\\t\\t\\t\\t\\t\\t<div class=\"position-list\">\\n\\t\\t\\t\\t\\t\\t\\t\\t\\t\\t\\t\\t\\t\\t\\t<p class=\"position\">Assistant Professor</p>\\n\\t\\t\\t\\t\\t\\t\\t\\t\\t\\t\\t\\t\\t\\t\\t<p class=\"position\">Interdisciplinary with College of Engineering</p>\\n\\t\\t\\t\\t\\t\\t\\t\\t\\t\\t\\t\\t\\t</div>\\n\\t\\t\\t\\t\\t\\t\\t\\t\\t\\t\\t\\t\\t\\t\\t\\t\\t</div>\\n\\t\\t\\t\\t</article>\\n\\t\\t\\t\\t\\t\\t</div>\\n\\t\\t\\t\\t\\t\\t\\t\\t\\t\\t<div class=\"grid-square grid-people\">\\n\\t\\t\\t\\t\\t\\t\\t\\t\\t\\t\\t<article class=\"people\">\\n\\t\\t\\t\\t\\t<div class=\"grid-item\">\\n\\t\\t\\t\\t\\t\\t<a href=\"https://www.khoury.northeastern.edu/people/tina-eliassi-rad/\">\\n\\t\\t\\t\\t\\t\\t\\t\\t<div class=\"grid-image\"><img src=\"https://www.khoury.northeastern.edu/wp-content/uploads/2016/02/Eliassi-Rad_Tina-index-image-1.jpg\" alt=\"\" /></div>\\n\\t\\t\\t\\t\\t\\t\\t\\t\\t\\t\\t\\t\\t\\t\\t<p class=\"roles\"><span class=\"role-23\">Tenured and Tenure Track Faculty</span></p>\\n\\t\\t\\t\\t\\t\\t\\t\\t\\t\\t\\t\\t\\t\\t<h3 class=\"person-name\">\\n\\t\\t\\t\\t\\t\\t\\t\\t\\tTina Eliassi-Rad\\t\\t\\t\\t\\t\\t\\t</h3>\\n\\t\\t\\t\\t\\t\\t</a>\\n\\t\\t\\t\\t\\t\\t\\t\\t\\t\\t\\t\\t<div class=\"position-list\">\\n\\t\\t\\t\\t\\t\\t\\t\\t\\t\\t\\t\\t\\t\\t\\t<p class=\"position\">Associate Professor</p>\\n\\t\\t\\t\\t\\t\\t\\t\\t\\t\\t\\t\\t\\t</div>\\n\\t\\t\\t\\t\\t\\t\\t\\t\\t\\t\\t\\t\\t\\t\\t\\t\\t</div>\\n\\t\\t\\t\\t</article>\\n\\t\\t\\t\\t\\t\\t</div>\\n\\t\\t\\t\\t\\t\\t\\t\\t\\t\\t<div class=\"grid-square grid-people\">\\n\\t\\t\\t\\t\\t\\t\\t\\t\\t\\t\\t<article class=\"people\">\\n\\t\\t\\t\\t\\t<div class=\"grid-item\">\\n\\t\\t\\t\\t\\t\\t<a href=\"https://www.khoury.northeastern.edu/people/don-fallis/\">\\n\\t\\t\\t\\t\\t\\t\\t\\t<div class=\"grid-image\"><img src=\"https://www.khoury.northeastern.edu/wp-content/uploads/2019/02/donf25-839x1024-e1556114115240.jpg\" alt=\"\" /></div>\\n\\t\\t\\t\\t\\t\\t\\t\\t\\t\\t\\t\\t\\t\\t\\t<p class=\"roles\"><span class=\"role-23\">Tenured and Tenure Track Faculty</span></p>\\n\\t\\t\\t\\t\\t\\t\\t\\t\\t\\t\\t\\t\\t\\t<h3 class=\"person-name\">\\n\\t\\t\\t\\t\\t\\t\\t\\t\\tDon Fallis\\t\\t\\t\\t\\t\\t\\t</h3>\\n\\t\\t\\t\\t\\t\\t</a>\\n\\t\\t\\t\\t\\t\\t\\t\\t\\t\\t\\t\\t<div class=\"position-list\">\\n\\t\\t\\t\\t\\t\\t\\t\\t\\t\\t\\t\\t\\t\\t\\t<p class=\"position\">Professor of Philosophy and Computer Sciences</p>\\n\\t\\t\\t\\t\\t\\t\\t\\t\\t\\t\\t\\t\\t\\t\\t<p class=\"position\">Interdisciplinary with College of Social Sciences and Humanities</p>\\n\\t\\t\\t\\t\\t\\t\\t\\t\\t\\t\\t\\t\\t</div>\\n\\t\\t\\t\\t\\t\\t\\t\\t\\t\\t\\t\\t\\t\\t\\t\\t\\t</div>\\n\\t\\t\\t\\t</article>\\n\\t\\t\\t\\t\\t\\t</div>\\n\\t\\t\\t\\t\\t\\t\\t\\t\\t\\t<div class=\"grid-square grid-people\">\\n\\t\\t\\t\\t\\t\\t\\t\\t\\t\\t\\t<article class=\"people\">\\n\\t\\t\\t\\t\\t<div class=\"grid-item\">\\n\\t\\t\\t\\t\\t\\t<a href=\"https://www.khoury.northeastern.edu/people/matthias-felleisen/\">\\n\\t\\t\\t\\t\\t\\t\\t\\t<div class=\"grid-image\"><img src=\"https://www.khoury.northeastern.edu/wp-content/uploads/2016/02/Matthias-Felleisen-index-image-e1456779017397.jpg\" alt=\"\" /></div>\\n\\t\\t\\t\\t\\t\\t\\t\\t\\t\\t\\t\\t\\t\\t\\t<p class=\"roles\"><span class=\"role-23\">Tenured and Tenure Track Faculty</span></p>\\n\\t\\t\\t\\t\\t\\t\\t\\t\\t\\t\\t\\t\\t\\t<h3 class=\"person-name\">\\n\\t\\t\\t\\t\\t\\t\\t\\t\\tMatthias Felleisen\\t\\t\\t\\t\\t\\t\\t</h3>\\n\\t\\t\\t\\t\\t\\t</a>\\n\\t\\t\\t\\t\\t\\t\\t\\t\\t\\t\\t\\t<div class=\"position-list\">\\n\\t\\t\\t\\t\\t\\t\\t\\t\\t\\t\\t\\t\\t\\t\\t<p class=\"position\">Trustee Professor</p>\\n\\t\\t\\t\\t\\t\\t\\t\\t\\t\\t\\t\\t\\t</div>\\n\\t\\t\\t\\t\\t\\t\\t\\t\\t\\t\\t\\t\\t\\t\\t\\t\\t</div>\\n\\t\\t\\t\\t</article>\\n\\t\\t\\t\\t\\t\\t</div>\\n\\t\\t\\t\\t\\t\\t\\t\\t\\t\\t<div class=\"grid-square grid-people\">\\n\\t\\t\\t\\t\\t\\t\\t\\t\\t\\t\\t<article class=\"people\">\\n\\t\\t\\t\\t\\t<div class=\"grid-item\">\\n\\t\\t\\t\\t\\t\\t<a href=\"https://www.khoury.northeastern.edu/people/larry-finkelstein/\">\\n\\t\\t\\t\\t\\t\\t\\t\\t<div class=\"grid-image\"><img src=\"https://www.khoury.northeastern.edu/wp-content/uploads/2016/02/Larry-Finkelstein-index-image-e1456759281894.jpg\" alt=\"\" /></div>\\n\\t\\t\\t\\t\\t\\t\\t\\t\\t\\t\\t\\t\\t\\t\\t<p class=\"roles\"><span class=\"role-23\">Tenured and Tenure Track Faculty</span></p>\\n\\t\\t\\t\\t\\t\\t\\t\\t\\t\\t\\t\\t\\t\\t<h3 class=\"person-name\">\\n\\t\\t\\t\\t\\t\\t\\t\\t\\tLarry Finkelstein\\t\\t\\t\\t\\t\\t\\t</h3>\\n\\t\\t\\t\\t\\t\\t</a>\\n\\t\\t\\t\\t\\t\\t\\t\\t\\t\\t\\t\\t<div class=\"position-list\">\\n\\t\\t\\t\\t\\t\\t\\t\\t\\t\\t\\t\\t\\t\\t\\t<p class=\"position\">Professor Emeritus</p>\\n\\t\\t\\t\\t\\t\\t\\t\\t\\t\\t\\t\\t\\t\\t\\t<p class=\"position\">Dean Emeritus</p>\\n\\t\\t\\t\\t\\t\\t\\t\\t\\t\\t\\t\\t\\t</div>\\n\\t\\t\\t\\t\\t\\t\\t\\t\\t\\t\\t\\t\\t\\t\\t\\t\\t</div>\\n\\t\\t\\t\\t</article>\\n\\t\\t\\t\\t\\t\\t</div>\\n\\t\\t\\t\\t\\t\\t\\t\\t\\t\\t<div class=\"grid-square grid-people\">\\n\\t\\t\\t\\t\\t\\t\\t\\t\\t\\t\\t<article class=\"people\">\\n\\t\\t\\t\\t\\t<div class=\"grid-item\">\\n\\t\\t\\t\\t\\t\\t<a href=\"https://www.khoury.northeastern.edu/people/raymond-yun-fu/\">\\n\\t\\t\\t\\t\\t\\t\\t\\t<div class=\"grid-image\"><img src=\"https://www.khoury.northeastern.edu/wp-content/uploads/2016/02/Raymond-Fu-index-image.jpg\" alt=\"\" /></div>\\n\\t\\t\\t\\t\\t\\t\\t\\t\\t\\t\\t\\t\\t\\t\\t<p class=\"roles\"><span class=\"role-23\">Tenured and Tenure Track Faculty</span></p>\\n\\t\\t\\t\\t\\t\\t\\t\\t\\t\\t\\t\\t\\t\\t<h3 class=\"person-name\">\\n\\t\\t\\t\\t\\t\\t\\t\\t\\tYun (Raymond) Fu\\t\\t\\t\\t\\t\\t\\t</h3>\\n\\t\\t\\t\\t\\t\\t</a>\\n\\t\\t\\t\\t\\t\\t\\t\\t\\t\\t\\t\\t<div class=\"position-list\">\\n\\t\\t\\t\\t\\t\\t\\t\\t\\t\\t\\t\\t\\t\\t\\t<p class=\"position\">Professor</p>\\n\\t\\t\\t\\t\\t\\t\\t\\t\\t\\t\\t\\t\\t\\t\\t<p class=\"position\">Interdisciplinary with College of Engineering</p>\\n\\t\\t\\t\\t\\t\\t\\t\\t\\t\\t\\t\\t\\t</div>\\n\\t\\t\\t\\t\\t\\t\\t\\t\\t\\t\\t\\t\\t\\t\\t\\t\\t</div>\\n\\t\\t\\t\\t</article>\\n\\t\\t\\t\\t\\t\\t</div>\\n\\t\\t\\t\\t\\t\\t\\t\\t\\t\\t<div class=\"grid-square grid-people\">\\n\\t\\t\\t\\t\\t\\t\\t\\t\\t\\t\\t<article class=\"people\">\\n\\t\\t\\t\\t\\t<div class=\"grid-item\">\\n\\t\\t\\t\\t\\t\\t<a href=\"https://www.khoury.northeastern.edu/people/wolfgang-gatterbauer/\">\\n\\t\\t\\t\\t\\t\\t\\t\\t<div class=\"grid-image\"><img src=\"https://www.khoury.northeastern.edu/wp-content/uploads/2017/08/linderpix-NEU-56875-index.jpg\" alt=\"\" /></div>\\n\\t\\t\\t\\t\\t\\t\\t\\t\\t\\t\\t\\t\\t\\t\\t<p class=\"roles\"><span class=\"role-23\">Tenured and Tenure Track Faculty</span></p>\\n\\t\\t\\t\\t\\t\\t\\t\\t\\t\\t\\t\\t\\t\\t<h3 class=\"person-name\">\\n\\t\\t\\t\\t\\t\\t\\t\\t\\tWolfgang Gatterbauer\\t\\t\\t\\t\\t\\t\\t</h3>\\n\\t\\t\\t\\t\\t\\t</a>\\n\\t\\t\\t\\t\\t\\t\\t\\t\\t\\t\\t\\t<div class=\"position-list\">\\n\\t\\t\\t\\t\\t\\t\\t\\t\\t\\t\\t\\t\\t\\t\\t<p class=\"position\">Associate Professor</p>\\n\\t\\t\\t\\t\\t\\t\\t\\t\\t\\t\\t\\t\\t</div>\\n\\t\\t\\t\\t\\t\\t\\t\\t\\t\\t\\t\\t\\t\\t\\t\\t\\t</div>\\n\\t\\t\\t\\t</article>\\n\\t\\t\\t\\t\\t\\t</div>\\n\\t\\t\\t\\t\\t\\t\\t\\t\\t\\t<div class=\"grid-square grid-people\">\\n\\t\\t\\t\\t\\t\\t\\t\\t\\t\\t\\t<article class=\"people\">\\n\\t\\t\\t\\t\\t<div class=\"grid-item\">\\n\\t\\t\\t\\t\\t\\t<a href=\"https://www.khoury.northeastern.edu/people/matthew-goodwin/\">\\n\\t\\t\\t\\t\\t\\t\\t\\t<div class=\"grid-image\"><img src=\"https://www.khoury.northeastern.edu/wp-content/uploads/2016/02/Matthew-Goodwin-index-image.jpg\" alt=\"\" /></div>\\n\\t\\t\\t\\t\\t\\t\\t\\t\\t\\t\\t\\t\\t\\t\\t<p class=\"roles\"><span class=\"role-23\">Tenured and Tenure Track Faculty</span></p>\\n\\t\\t\\t\\t\\t\\t\\t\\t\\t\\t\\t\\t\\t\\t<h3 class=\"person-name\">\\n\\t\\t\\t\\t\\t\\t\\t\\t\\tMatthew Goodwin\\t\\t\\t\\t\\t\\t\\t</h3>\\n\\t\\t\\t\\t\\t\\t</a>\\n\\t\\t\\t\\t\\t\\t\\t\\t\\t\\t\\t\\t<div class=\"position-list\">\\n\\t\\t\\t\\t\\t\\t\\t\\t\\t\\t\\t\\t\\t\\t\\t<p class=\"position\">Associate Professor</p>\\n\\t\\t\\t\\t\\t\\t\\t\\t\\t\\t\\t\\t\\t\\t\\t<p class=\"position\">Interdisciplinary with Bouv\\xc3\\xa9 College of Health Sciences</p>\\n\\t\\t\\t\\t\\t\\t\\t\\t\\t\\t\\t\\t\\t</div>\\n\\t\\t\\t\\t\\t\\t\\t\\t\\t\\t\\t\\t\\t\\t\\t\\t\\t</div>\\n\\t\\t\\t\\t</article>\\n\\t\\t\\t\\t\\t\\t</div>\\n\\t\\t\\t\\t\\t\\t\\t\\t\\t\\t<div class=\"grid-square grid-people\">\\n\\t\\t\\t\\t\\t\\t\\t\\t\\t\\t\\t<article class=\"people\">\\n\\t\\t\\t\\t\\t<div class=\"grid-item\">\\n\\t\\t\\t\\t\\t\\t<a href=\"https://www.khoury.northeastern.edu/people/paul-hand/\">\\n\\t\\t\\t\\t\\t\\t\\t\\t<div class=\"grid-image\"><img src=\"https://www.khoury.northeastern.edu/wp-content/uploads/2018/08/linderpix-NEU-8496-crop.jpg\" alt=\"\" /></div>\\n\\t\\t\\t\\t\\t\\t\\t\\t\\t\\t\\t\\t\\t\\t\\t<p class=\"roles\"><span class=\"role-23\">Tenured and Tenure Track Faculty</span></p>\\n\\t\\t\\t\\t\\t\\t\\t\\t\\t\\t\\t\\t\\t\\t<h3 class=\"person-name\">\\n\\t\\t\\t\\t\\t\\t\\t\\t\\tPaul Hand\\t\\t\\t\\t\\t\\t\\t</h3>\\n\\t\\t\\t\\t\\t\\t</a>\\n\\t\\t\\t\\t\\t\\t\\t\\t\\t\\t\\t\\t<div class=\"position-list\">\\n\\t\\t\\t\\t\\t\\t\\t\\t\\t\\t\\t\\t\\t\\t\\t<p class=\"position\">Assistant Professor </p>\\n\\t\\t\\t\\t\\t\\t\\t\\t\\t\\t\\t\\t\\t\\t\\t<p class=\"position\">Interdisciplinary with College of Science</p>\\n\\t\\t\\t\\t\\t\\t\\t\\t\\t\\t\\t\\t\\t</div>\\n\\t\\t\\t\\t\\t\\t\\t\\t\\t\\t\\t\\t\\t\\t\\t\\t\\t</div>\\n\\t\\t\\t\\t</article>\\n\\t\\t\\t\\t\\t\\t</div>\\n\\t\\t\\t\\t\\t\\t\\t\\t\\t\\t<div class=\"grid-square grid-people\">\\n\\t\\t\\t\\t\\t\\t\\t\\t\\t\\t\\t<article class=\"people\">\\n\\t\\t\\t\\t\\t<div class=\"grid-item\">\\n\\t\\t\\t\\t\\t\\t<a href=\"https://www.khoury.northeastern.edu/people/woodrow-hartzog/\">\\n\\t\\t\\t\\t\\t\\t\\t\\t<div class=\"grid-image\"><img src=\"https://www.khoury.northeastern.edu/wp-content/uploads/2017/08/linderpix-NEU-56973-crop.jpg\" alt=\"\" /></div>\\n\\t\\t\\t\\t\\t\\t\\t\\t\\t\\t\\t\\t\\t\\t\\t<p class=\"roles\"><span class=\"role-23\">Tenured and Tenure Track Faculty</span></p>\\n\\t\\t\\t\\t\\t\\t\\t\\t\\t\\t\\t\\t\\t\\t<h3 class=\"person-name\">\\n\\t\\t\\t\\t\\t\\t\\t\\t\\tWoodrow Hartzog\\t\\t\\t\\t\\t\\t\\t</h3>\\n\\t\\t\\t\\t\\t\\t</a>\\n\\t\\t\\t\\t\\t\\t\\t\\t\\t\\t\\t\\t<div class=\"position-list\">\\n\\t\\t\\t\\t\\t\\t\\t\\t\\t\\t\\t\\t\\t\\t\\t<p class=\"position\">Professor</p>\\n\\t\\t\\t\\t\\t\\t\\t\\t\\t\\t\\t\\t\\t\\t\\t<p class=\"position\">Interdisciplinary with the School of Law</p>\\n\\t\\t\\t\\t\\t\\t\\t\\t\\t\\t\\t\\t\\t</div>\\n\\t\\t\\t\\t\\t\\t\\t\\t\\t\\t\\t\\t\\t\\t\\t\\t\\t</div>\\n\\t\\t\\t\\t</article>\\n\\t\\t\\t\\t\\t\\t</div>\\n\\t\\t\\t\\t\\t\\t\\t\\t\\t\\t<div class=\"grid-square grid-people\">\\n\\t\\t\\t\\t\\t\\t\\t\\t\\t\\t\\t<article class=\"people\">\\n\\t\\t\\t\\t\\t<div class=\"grid-item\">\\n\\t\\t\\t\\t\\t\\t<a href=\"https://www.khoury.northeastern.edu/people/stephen-intille/\">\\n\\t\\t\\t\\t\\t\\t\\t\\t<div class=\"grid-image\"><img src=\"https://www.khoury.northeastern.edu/wp-content/uploads/2016/02/Stephen-Intille-index-image.jpg\" alt=\"\" /></div>\\n\\t\\t\\t\\t\\t\\t\\t\\t\\t\\t\\t\\t\\t\\t\\t<p class=\"roles\"><span class=\"role-23\">Tenured and Tenure Track Faculty</span></p>\\n\\t\\t\\t\\t\\t\\t\\t\\t\\t\\t\\t\\t\\t\\t<h3 class=\"person-name\">\\n\\t\\t\\t\\t\\t\\t\\t\\t\\tStephen Intille\\t\\t\\t\\t\\t\\t\\t</h3>\\n\\t\\t\\t\\t\\t\\t</a>\\n\\t\\t\\t\\t\\t\\t\\t\\t\\t\\t\\t\\t<div class=\"position-list\">\\n\\t\\t\\t\\t\\t\\t\\t\\t\\t\\t\\t\\t\\t\\t\\t<p class=\"position\">Associate Professor</p>\\n\\t\\t\\t\\t\\t\\t\\t\\t\\t\\t\\t\\t\\t\\t\\t<p class=\"position\">Interdisciplinary with Bouv\\xc3\\xa9 College of Health Sciences</p>\\n\\t\\t\\t\\t\\t\\t\\t\\t\\t\\t\\t\\t\\t</div>\\n\\t\\t\\t\\t\\t\\t\\t\\t\\t\\t\\t\\t\\t\\t\\t\\t\\t</div>\\n\\t\\t\\t\\t</article>\\n\\t\\t\\t\\t\\t\\t</div>\\n\\t\\t\\t\\t\\t\\t\\t\\t\\t\\t<div class=\"grid-square grid-people\">\\n\\t\\t\\t\\t\\t\\t\\t\\t\\t\\t\\t<article class=\"people\">\\n\\t\\t\\t\\t\\t<div class=\"grid-item\">\\n\\t\\t\\t\\t\\t\\t<a href=\"https://www.khoury.northeastern.edu/people/engin-kirda/\">\\n\\t\\t\\t\\t\\t\\t\\t\\t<div class=\"grid-image\"><img src=\"https://www.khoury.northeastern.edu/wp-content/uploads/2016/03/Engin-Kirda-Index-Image.jpg\" alt=\"\" /></div>\\n\\t\\t\\t\\t\\t\\t\\t\\t\\t\\t\\t\\t\\t\\t\\t<p class=\"roles\"><span class=\"role-23\">Tenured and Tenure Track Faculty</span></p>\\n\\t\\t\\t\\t\\t\\t\\t\\t\\t\\t\\t\\t\\t\\t<h3 class=\"person-name\">\\n\\t\\t\\t\\t\\t\\t\\t\\t\\tEngin Kirda\\t\\t\\t\\t\\t\\t\\t</h3>\\n\\t\\t\\t\\t\\t\\t</a>\\n\\t\\t\\t\\t\\t\\t\\t\\t\\t\\t\\t\\t<div class=\"position-list\">\\n\\t\\t\\t\\t\\t\\t\\t\\t\\t\\t\\t\\t\\t\\t\\t<p class=\"position\">Professor</p>\\n\\t\\t\\t\\t\\t\\t\\t\\t\\t\\t\\t\\t\\t\\t\\t<p class=\"position\">Executive Director - Cybersecurity and Privacy Institute</p>\\n\\t\\t\\t\\t\\t\\t\\t\\t\\t\\t\\t\\t\\t\\t\\t<p class=\"position\">Interdisciplinary with College of Engineering</p>\\n\\t\\t\\t\\t\\t\\t\\t\\t\\t\\t\\t\\t\\t</div>\\n\\t\\t\\t\\t\\t\\t\\t\\t\\t\\t\\t\\t\\t\\t\\t\\t\\t</div>\\n\\t\\t\\t\\t</article>\\n\\t\\t\\t\\t\\t\\t</div>\\n\\t\\t\\t\\t\\t\\t\\t\\t\\t\\t<div class=\"grid-square grid-people\">\\n\\t\\t\\t\\t\\t\\t\\t\\t\\t\\t\\t<article class=\"people\">\\n\\t\\t\\t\\t\\t<div class=\"grid-item\">\\n\\t\\t\\t\\t\\t\\t<a href=\"https://www.khoury.northeastern.edu/people/david-lazer/\">\\n\\t\\t\\t\\t\\t\\t\\t\\t<div class=\"grid-image\"><img src=\"https://www.khoury.northeastern.edu/wp-content/uploads/2016/03/David-Lazer-index-image.jpg\" alt=\"\" /></div>\\n\\t\\t\\t\\t\\t\\t\\t\\t\\t\\t\\t\\t\\t\\t\\t<p class=\"roles\"><span class=\"role-23\">Tenured and Tenure Track Faculty</span></p>\\n\\t\\t\\t\\t\\t\\t\\t\\t\\t\\t\\t\\t\\t\\t<h3 class=\"person-name\">\\n\\t\\t\\t\\t\\t\\t\\t\\t\\tDavid Lazer\\t\\t\\t\\t\\t\\t\\t</h3>\\n\\t\\t\\t\\t\\t\\t</a>\\n\\t\\t\\t\\t\\t\\t\\t\\t\\t\\t\\t\\t<div class=\"position-list\">\\n\\t\\t\\t\\t\\t\\t\\t\\t\\t\\t\\t\\t\\t\\t\\t<p class=\"position\">Distinguished Professor</p>\\n\\t\\t\\t\\t\\t\\t\\t\\t\\t\\t\\t\\t\\t\\t\\t<p class=\"position\">Interdisciplinary with College of Social Sciences and Humanities</p>\\n\\t\\t\\t\\t\\t\\t\\t\\t\\t\\t\\t\\t\\t</div>\\n\\t\\t\\t\\t\\t\\t\\t\\t\\t\\t\\t\\t\\t\\t\\t\\t\\t</div>\\n\\t\\t\\t\\t</article>\\n\\t\\t\\t\\t\\t\\t</div>\\n\\t\\t\\t\\t\\t\\t\\t\\t\\t\\t<div class=\"grid-square grid-people\">\\n\\t\\t\\t\\t\\t\\t\\t\\t\\t\\t\\t<article class=\"people\">\\n\\t\\t\\t\\t\\t<div class=\"grid-item\">\\n\\t\\t\\t\\t\\t\\t<a href=\"https://www.khoury.northeastern.edu/people/karl-lieberherr/\">\\n\\t\\t\\t\\t\\t\\t\\t\\t<div class=\"grid-image\"><img src=\"https://www.khoury.northeastern.edu/wp-content/uploads/2016/02/Kari-Lieberherr-headshot-image.jpg\" alt=\"\" /></div>\\n\\t\\t\\t\\t\\t\\t\\t\\t\\t\\t\\t\\t\\t\\t\\t<p class=\"roles\"><span class=\"role-23\">Tenured and Tenure Track Faculty</span></p>\\n\\t\\t\\t\\t\\t\\t\\t\\t\\t\\t\\t\\t\\t\\t<h3 class=\"person-name\">\\n\\t\\t\\t\\t\\t\\t\\t\\t\\tKarl Lieberherr\\t\\t\\t\\t\\t\\t\\t</h3>\\n\\t\\t\\t\\t\\t\\t</a>\\n\\t\\t\\t\\t\\t\\t\\t\\t\\t\\t\\t\\t<div class=\"position-list\">\\n\\t\\t\\t\\t\\t\\t\\t\\t\\t\\t\\t\\t\\t\\t\\t<p class=\"position\">Professor</p>\\n\\t\\t\\t\\t\\t\\t\\t\\t\\t\\t\\t\\t\\t</div>\\n\\t\\t\\t\\t\\t\\t\\t\\t\\t\\t\\t\\t\\t\\t\\t\\t\\t</div>\\n\\t\\t\\t\\t</article>\\n\\t\\t\\t\\t\\t\\t</div>\\n\\t\\t\\t\\t\\t\\t\\t\\t\\t\\t<div class=\"grid-square grid-people\">\\n\\t\\t\\t\\t\\t\\t\\t\\t\\t\\t\\t<article class=\"people\">\\n\\t\\t\\t\\t\\t<div class=\"grid-item\">\\n\\t\\t\\t\\t\\t\\t<a href=\"https://www.khoury.northeastern.edu/people/long-lu/\">\\n\\t\\t\\t\\t\\t\\t\\t\\t<div class=\"grid-image\"><img src=\"https://www.khoury.northeastern.edu/wp-content/uploads/2017/08/linderpix-NEU-57096-crop.jpg\" alt=\"\" /></div>\\n\\t\\t\\t\\t\\t\\t\\t\\t\\t\\t\\t\\t\\t\\t\\t<p class=\"roles\"><span class=\"role-23\">Tenured and Tenure Track Faculty</span></p>\\n\\t\\t\\t\\t\\t\\t\\t\\t\\t\\t\\t\\t\\t\\t<h3 class=\"person-name\">\\n\\t\\t\\t\\t\\t\\t\\t\\t\\tLong Lu\\t\\t\\t\\t\\t\\t\\t</h3>\\n\\t\\t\\t\\t\\t\\t</a>\\n\\t\\t\\t\\t\\t\\t\\t\\t\\t\\t\\t\\t<div class=\"position-list\">\\n\\t\\t\\t\\t\\t\\t\\t\\t\\t\\t\\t\\t\\t\\t\\t<p class=\"position\">Assistant Professor</p>\\n\\t\\t\\t\\t\\t\\t\\t\\t\\t\\t\\t\\t\\t</div>\\n\\t\\t\\t\\t\\t\\t\\t\\t\\t\\t\\t\\t\\t\\t\\t\\t\\t</div>\\n\\t\\t\\t\\t</article>\\n\\t\\t\\t\\t\\t\\t</div>\\n\\t\\t\\t\\t\\t\\t\\t\\t\\t\\t<div class=\"grid-square grid-people\">\\n\\t\\t\\t\\t\\t\\t\\t\\t\\t\\t\\t<article class=\"people\">\\n\\t\\t\\t\\t\\t<div class=\"grid-item\">\\n\\t\\t\\t\\t\\t\\t<a href=\"https://www.khoury.northeastern.edu/people/panagiotos-manolios/\">\\n\\t\\t\\t\\t\\t\\t\\t\\t<div class=\"grid-image\"><img src=\"https://www.khoury.northeastern.edu/wp-content/uploads/2016/02/Pete-Manolios-index-image-e1456759585514.jpg\" alt=\"\" /></div>\\n\\t\\t\\t\\t\\t\\t\\t\\t\\t\\t\\t\\t\\t\\t\\t<p class=\"roles\"><span class=\"role-23\">Tenured and Tenure Track Faculty</span></p>\\n\\t\\t\\t\\t\\t\\t\\t\\t\\t\\t\\t\\t\\t\\t<h3 class=\"person-name\">\\n\\t\\t\\t\\t\\t\\t\\t\\t\\tPanagiotos (Pete) Manolios\\t\\t\\t\\t\\t\\t\\t</h3>\\n\\t\\t\\t\\t\\t\\t</a>\\n\\t\\t\\t\\t\\t\\t\\t\\t\\t\\t\\t\\t<div class=\"position-list\">\\n\\t\\t\\t\\t\\t\\t\\t\\t\\t\\t\\t\\t\\t\\t\\t<p class=\"position\">Professor</p>\\n\\t\\t\\t\\t\\t\\t\\t\\t\\t\\t\\t\\t\\t</div>\\n\\t\\t\\t\\t\\t\\t\\t\\t\\t\\t\\t\\t\\t\\t\\t\\t\\t</div>\\n\\t\\t\\t\\t</article>\\n\\t\\t\\t\\t\\t\\t</div>\\n\\t\\t\\t\\t\\t\\t\\t\\t\\t\\t<div class=\"grid-square grid-people\">\\n\\t\\t\\t\\t\\t\\t\\t\\t\\t\\t\\t<article class=\"people\">\\n\\t\\t\\t\\t\\t<div class=\"grid-item\">\\n\\t\\t\\t\\t\\t\\t<a href=\"https://www.khoury.northeastern.edu/people/stacy-c-marsella/\">\\n\\t\\t\\t\\t\\t\\t\\t\\t<div class=\"grid-image\"><img src=\"https://www.khoury.northeastern.edu/wp-content/uploads/2016/03/Stacy-Marsella-Index-Image.jpg\" alt=\"\" /></div>\\n\\t\\t\\t\\t\\t\\t\\t\\t\\t\\t\\t\\t\\t\\t\\t<p class=\"roles\"><span class=\"role-23\">Tenured and Tenure Track Faculty</span></p>\\n\\t\\t\\t\\t\\t\\t\\t\\t\\t\\t\\t\\t\\t\\t<h3 class=\"person-name\">\\n\\t\\t\\t\\t\\t\\t\\t\\t\\tStacy C. Marsella\\t\\t\\t\\t\\t\\t\\t</h3>\\n\\t\\t\\t\\t\\t\\t</a>\\n\\t\\t\\t\\t\\t\\t\\t\\t\\t\\t\\t\\t<div class=\"position-list\">\\n\\t\\t\\t\\t\\t\\t\\t\\t\\t\\t\\t\\t\\t\\t\\t<p class=\"position\">Professor</p>\\n\\t\\t\\t\\t\\t\\t\\t\\t\\t\\t\\t\\t\\t\\t\\t<p class=\"position\">Interdisciplinary with College of Science</p>\\n\\t\\t\\t\\t\\t\\t\\t\\t\\t\\t\\t\\t\\t</div>\\n\\t\\t\\t\\t\\t\\t\\t\\t\\t\\t\\t\\t\\t\\t\\t\\t\\t</div>\\n\\t\\t\\t\\t</article>\\n\\t\\t\\t\\t\\t\\t</div>\\n\\t\\t\\t\\t\\t\\t\\t\\t\\t\\t<div class=\"grid-square grid-people\">\\n\\t\\t\\t\\t\\t\\t\\t\\t\\t\\t\\t<article class=\"people\">\\n\\t\\t\\t\\t\\t<div class=\"grid-item\">\\n\\t\\t\\t\\t\\t\\t<a href=\"https://www.khoury.northeastern.edu/people/renee-miller/\">\\n\\t\\t\\t\\t\\t\\t\\t\\t<div class=\"grid-image\"><img src=\"https://www.khoury.northeastern.edu/wp-content/uploads/2018/01/no-photo4.jpg\" alt=\"\" /></div>\\n\\t\\t\\t\\t\\t\\t\\t\\t\\t\\t\\t\\t\\t\\t\\t<p class=\"roles\"><span class=\"role-23\">Tenured and Tenure Track Faculty</span></p>\\n\\t\\t\\t\\t\\t\\t\\t\\t\\t\\t\\t\\t\\t\\t<h3 class=\"person-name\">\\n\\t\\t\\t\\t\\t\\t\\t\\t\\tRen\\xc3\\xa9e Miller\\t\\t\\t\\t\\t\\t\\t</h3>\\n\\t\\t\\t\\t\\t\\t</a>\\n\\t\\t\\t\\t\\t\\t\\t\\t\\t\\t\\t\\t<div class=\"position-list\">\\n\\t\\t\\t\\t\\t\\t\\t\\t\\t\\t\\t\\t\\t\\t\\t<p class=\"position\">University Distinguished Professor</p>\\n\\t\\t\\t\\t\\t\\t\\t\\t\\t\\t\\t\\t\\t</div>\\n\\t\\t\\t\\t\\t\\t\\t\\t\\t\\t\\t\\t\\t\\t\\t\\t\\t</div>\\n\\t\\t\\t\\t</article>\\n\\t\\t\\t\\t\\t\\t</div>\\n\\t\\t\\t\\t\\t\\t\\t\\t\\t\\t<div class=\"grid-square grid-people\">\\n\\t\\t\\t\\t\\t\\t\\t\\t\\t\\t\\t<article class=\"people\">\\n\\t\\t\\t\\t\\t<div class=\"grid-item\">\\n\\t\\t\\t\\t\\t\\t<a href=\"https://www.khoury.northeastern.edu/people/alan-mislove/\">\\n\\t\\t\\t\\t\\t\\t\\t\\t<div class=\"grid-image\"><img src=\"https://www.khoury.northeastern.edu/wp-content/uploads/2016/02/Alan-Mislove_cropped-headshot.jpg\" alt=\"\" /></div>\\n\\t\\t\\t\\t\\t\\t\\t\\t\\t\\t\\t\\t\\t\\t\\t<p class=\"roles\"><span class=\"role-29\">Administrative Staff</span> <span class=\"role-23\">Tenured and Tenure Track Faculty</span></p>\\n\\t\\t\\t\\t\\t\\t\\t\\t\\t\\t\\t\\t\\t\\t<h3 class=\"person-name\">\\n\\t\\t\\t\\t\\t\\t\\t\\t\\tAlan Mislove\\t\\t\\t\\t\\t\\t\\t</h3>\\n\\t\\t\\t\\t\\t\\t</a>\\n\\t\\t\\t\\t\\t\\t\\t\\t\\t\\t\\t\\t<div class=\"position-list\">\\n\\t\\t\\t\\t\\t\\t\\t\\t\\t\\t\\t\\t\\t\\t\\t<p class=\"position\">Professor</p>\\n\\t\\t\\t\\t\\t\\t\\t\\t\\t\\t\\t\\t\\t\\t\\t<p class=\"position\">Associate Dean & Director - Undergraduate Programs</p>\\n\\t\\t\\t\\t\\t\\t\\t\\t\\t\\t\\t\\t\\t</div>\\n\\t\\t\\t\\t\\t\\t\\t\\t\\t\\t\\t\\t\\t\\t\\t\\t\\t</div>\\n\\t\\t\\t\\t</article>\\n\\t\\t\\t\\t\\t\\t</div>\\n\\t\\t\\t\\t\\t\\t\\t\\t\\t\\t<div class=\"grid-square grid-people\">\\n\\t\\t\\t\\t\\t\\t\\t\\t\\t\\t\\t<article class=\"people\">\\n\\t\\t\\t\\t\\t<div class=\"grid-item\">\\n\\t\\t\\t\\t\\t\\t<a href=\"https://www.khoury.northeastern.edu/people/huy-le-nguyen/\">\\n\\t\\t\\t\\t\\t\\t\\t\\t<div class=\"grid-image\"><img src=\"https://www.khoury.northeastern.edu/wp-content/uploads/2016/08/Nguyen_Huy-index-image.jpg\" alt=\"\" /></div>\\n\\t\\t\\t\\t\\t\\t\\t\\t\\t\\t\\t\\t\\t\\t\\t<p class=\"roles\"><span class=\"role-23\">Tenured and Tenure Track Faculty</span></p>\\n\\t\\t\\t\\t\\t\\t\\t\\t\\t\\t\\t\\t\\t\\t<h3 class=\"person-name\">\\n\\t\\t\\t\\t\\t\\t\\t\\t\\tHuy L\\xc3\\xaa Nguyen\\t\\t\\t\\t\\t\\t\\t</h3>\\n\\t\\t\\t\\t\\t\\t</a>\\n\\t\\t\\t\\t\\t\\t\\t\\t\\t\\t\\t\\t<div class=\"position-list\">\\n\\t\\t\\t\\t\\t\\t\\t\\t\\t\\t\\t\\t\\t\\t\\t<p class=\"position\">Assistant Professor</p>\\n\\t\\t\\t\\t\\t\\t\\t\\t\\t\\t\\t\\t\\t</div>\\n\\t\\t\\t\\t\\t\\t\\t\\t\\t\\t\\t\\t\\t\\t\\t\\t\\t</div>\\n\\t\\t\\t\\t</article>\\n\\t\\t\\t\\t\\t\\t</div>\\n\\t\\t\\t\\t\\t\\t\\t\\t\\t\\t<div class=\"grid-square grid-people\">\\n\\t\\t\\t\\t\\t\\t\\t\\t\\t\\t\\t<article class=\"people\">\\n\\t\\t\\t\\t\\t<div class=\"grid-item\">\\n\\t\\t\\t\\t\\t\\t<a href=\"https://www.khoury.northeastern.edu/people/cristina-nita-rotaru/\">\\n\\t\\t\\t\\t\\t\\t\\t\\t<div class=\"grid-image\"><img src=\"https://www.khoury.northeastern.edu/wp-content/uploads/2016/02/Cristina-Nita-Rotaru-index-image-e1456779197640.jpg\" alt=\"\" /></div>\\n\\t\\t\\t\\t\\t\\t\\t\\t\\t\\t\\t\\t\\t\\t\\t<p class=\"roles\"><span class=\"role-29\">Administrative Staff</span> <span class=\"role-23\">Tenured and Tenure Track Faculty</span></p>\\n\\t\\t\\t\\t\\t\\t\\t\\t\\t\\t\\t\\t\\t\\t<h3 class=\"person-name\">\\n\\t\\t\\t\\t\\t\\t\\t\\t\\tCristina Nita-Rotaru\\t\\t\\t\\t\\t\\t\\t</h3>\\n\\t\\t\\t\\t\\t\\t</a>\\n\\t\\t\\t\\t\\t\\t\\t\\t\\t\\t\\t\\t<div class=\"position-list\">\\n\\t\\t\\t\\t\\t\\t\\t\\t\\t\\t\\t\\t\\t\\t\\t<p class=\"position\">Professor </p>\\n\\t\\t\\t\\t\\t\\t\\t\\t\\t\\t\\t\\t\\t\\t\\t<p class=\"position\">Associate Dean - Faculty</p>\\n\\t\\t\\t\\t\\t\\t\\t\\t\\t\\t\\t\\t\\t</div>\\n\\t\\t\\t\\t\\t\\t\\t\\t\\t\\t\\t\\t\\t\\t\\t\\t\\t</div>\\n\\t\\t\\t\\t</article>\\n\\t\\t\\t\\t\\t\\t</div>\\n\\t\\t\\t\\t\\t\\t\\t\\t\\t\\t<div class=\"grid-square grid-people\">\\n\\t\\t\\t\\t\\t\\t\\t\\t\\t\\t\\t<article class=\"people\">\\n\\t\\t\\t\\t\\t<div class=\"grid-item\">\\n\\t\\t\\t\\t\\t\\t<a href=\"https://www.khoury.northeastern.edu/people/guevara-noubir/\">\\n\\t\\t\\t\\t\\t\\t\\t\\t<div class=\"grid-image\"><img src=\"https://www.khoury.northeastern.edu/wp-content/uploads/2016/02/Guevara-Noubir-index-image-e1456779093303.jpg\" alt=\"\" /></div>\\n\\t\\t\\t\\t\\t\\t\\t\\t\\t\\t\\t\\t\\t\\t\\t<p class=\"roles\"><span class=\"role-29\">Administrative Staff</span> <span class=\"role-23\">Tenured and Tenure Track Faculty</span></p>\\n\\t\\t\\t\\t\\t\\t\\t\\t\\t\\t\\t\\t\\t\\t<h3 class=\"person-name\">\\n\\t\\t\\t\\t\\t\\t\\t\\t\\tGuevara Noubir\\t\\t\\t\\t\\t\\t\\t</h3>\\n\\t\\t\\t\\t\\t\\t</a>\\n\\t\\t\\t\\t\\t\\t\\t\\t\\t\\t\\t\\t<div class=\"position-list\">\\n\\t\\t\\t\\t\\t\\t\\t\\t\\t\\t\\t\\t\\t\\t\\t<p class=\"position\">Professor</p>\\n\\t\\t\\t\\t\\t\\t\\t\\t\\t\\t\\t\\t\\t\\t\\t<p class=\"position\">Director - Cybersecurity &amp; Information Assurance Graduate Program</p>\\n\\t\\t\\t\\t\\t\\t\\t\\t\\t\\t\\t\\t\\t</div>\\n\\t\\t\\t\\t\\t\\t\\t\\t\\t\\t\\t\\t\\t\\t\\t\\t\\t</div>\\n\\t\\t\\t\\t</article>\\n\\t\\t\\t\\t\\t\\t</div>\\n\\t\\t\\t\\t\\t\\t\\t\\t\\t\\t<div class=\"grid-square grid-people\">\\n\\t\\t\\t\\t\\t\\t\\t\\t\\t\\t\\t<article class=\"people\">\\n\\t\\t\\t\\t\\t<div class=\"grid-item\">\\n\\t\\t\\t\\t\\t\\t<a href=\"https://www.khoury.northeastern.edu/people/alina-oprea/\">\\n\\t\\t\\t\\t\\t\\t\\t\\t<div class=\"grid-image\"><img src=\"https://www.khoury.northeastern.edu/wp-content/uploads/2016/08/Oprea_Alina-index-image.jpg\" alt=\"\" /></div>\\n\\t\\t\\t\\t\\t\\t\\t\\t\\t\\t\\t\\t\\t\\t\\t<p class=\"roles\"><span class=\"role-23\">Tenured and Tenure Track Faculty</span></p>\\n\\t\\t\\t\\t\\t\\t\\t\\t\\t\\t\\t\\t\\t\\t<h3 class=\"person-name\">\\n\\t\\t\\t\\t\\t\\t\\t\\t\\tAlina Oprea\\t\\t\\t\\t\\t\\t\\t</h3>\\n\\t\\t\\t\\t\\t\\t</a>\\n\\t\\t\\t\\t\\t\\t\\t\\t\\t\\t\\t\\t<div class=\"position-list\">\\n\\t\\t\\t\\t\\t\\t\\t\\t\\t\\t\\t\\t\\t\\t\\t<p class=\"position\">Associate Professor</p>\\n\\t\\t\\t\\t\\t\\t\\t\\t\\t\\t\\t\\t\\t</div>\\n\\t\\t\\t\\t\\t\\t\\t\\t\\t\\t\\t\\t\\t\\t\\t\\t\\t</div>\\n\\t\\t\\t\\t</article>\\n\\t\\t\\t\\t\\t\\t</div>\\n\\t\\t\\t\\t\\t\\t\\t\\t\\t\\t<div class=\"grid-square grid-people\">\\n\\t\\t\\t\\t\\t\\t\\t\\t\\t\\t\\t<article class=\"people\">\\n\\t\\t\\t\\t\\t<div class=\"grid-item\">\\n\\t\\t\\t\\t\\t\\t<a href=\"https://www.khoury.northeastern.edu/people/andrea-grimes-parker/\">\\n\\t\\t\\t\\t\\t\\t\\t\\t<div class=\"grid-image\"><img src=\"https://www.khoury.northeastern.edu/wp-content/uploads/2016/02/Andrea-Parker-index-image-e1456779254698.jpg\" alt=\"\" /></div>\\n\\t\\t\\t\\t\\t\\t\\t\\t\\t\\t\\t\\t\\t\\t\\t<p class=\"roles\"><span class=\"role-23\">Tenured and Tenure Track Faculty</span></p>\\n\\t\\t\\t\\t\\t\\t\\t\\t\\t\\t\\t\\t\\t\\t<h3 class=\"person-name\">\\n\\t\\t\\t\\t\\t\\t\\t\\t\\tAndrea Grimes Parker\\t\\t\\t\\t\\t\\t\\t</h3>\\n\\t\\t\\t\\t\\t\\t</a>\\n\\t\\t\\t\\t\\t\\t\\t\\t\\t\\t\\t\\t<div class=\"position-list\">\\n\\t\\t\\t\\t\\t\\t\\t\\t\\t\\t\\t\\t\\t\\t\\t<p class=\"position\">Assistant Professor</p>\\n\\t\\t\\t\\t\\t\\t\\t\\t\\t\\t\\t\\t\\t\\t\\t<p class=\"position\">Interdisciplinary with Bouv\\xc3\\xa9 College of Health Sciences</p>\\n\\t\\t\\t\\t\\t\\t\\t\\t\\t\\t\\t\\t\\t</div>\\n\\t\\t\\t\\t\\t\\t\\t\\t\\t\\t\\t\\t\\t\\t\\t\\t\\t</div>\\n\\t\\t\\t\\t</article>\\n\\t\\t\\t\\t\\t\\t</div>\\n\\t\\t\\t\\t\\t\\t\\t\\t\\t\\t<div class=\"grid-square grid-people\">\\n\\t\\t\\t\\t\\t\\t\\t\\t\\t\\t\\t<article class=\"people\">\\n\\t\\t\\t\\t\\t<div class=\"grid-item\">\\n\\t\\t\\t\\t\\t\\t<a href=\"https://www.khoury.northeastern.edu/people/rupal-patel/\">\\n\\t\\t\\t\\t\\t\\t\\t\\t<div class=\"grid-image\"><img src=\"https://www.khoury.northeastern.edu/wp-content/uploads/2016/03/Rupal-Patel-index-image.jpg\" alt=\"\" /></div>\\n\\t\\t\\t\\t\\t\\t\\t\\t\\t\\t\\t\\t\\t\\t\\t<p class=\"roles\"><span class=\"role-23\">Tenured and Tenure Track Faculty</span></p>\\n\\t\\t\\t\\t\\t\\t\\t\\t\\t\\t\\t\\t\\t\\t<h3 class=\"person-name\">\\n\\t\\t\\t\\t\\t\\t\\t\\t\\tRupal Patel\\t\\t\\t\\t\\t\\t\\t</h3>\\n\\t\\t\\t\\t\\t\\t</a>\\n\\t\\t\\t\\t\\t\\t\\t\\t\\t\\t\\t\\t<div class=\"position-list\">\\n\\t\\t\\t\\t\\t\\t\\t\\t\\t\\t\\t\\t\\t\\t\\t<p class=\"position\">Professor</p>\\n\\t\\t\\t\\t\\t\\t\\t\\t\\t\\t\\t\\t\\t\\t\\t<p class=\"position\">Interdisciplinary with Bouv\\xc3\\xa9 College of Health Sciences</p>\\n\\t\\t\\t\\t\\t\\t\\t\\t\\t\\t\\t\\t\\t</div>\\n\\t\\t\\t\\t\\t\\t\\t\\t\\t\\t\\t\\t\\t\\t\\t\\t\\t</div>\\n\\t\\t\\t\\t</article>\\n\\t\\t\\t\\t\\t\\t</div>\\n\\t\\t\\t\\t\\t\\t\\t\\t\\t\\t<div class=\"grid-square grid-people\">\\n\\t\\t\\t\\t\\t\\t\\t\\t\\t\\t\\t<article class=\"people\">\\n\\t\\t\\t\\t\\t<div class=\"grid-item\">\\n\\t\\t\\t\\t\\t\\t<a href=\"https://www.khoury.northeastern.edu/people/robert-platt/\">\\n\\t\\t\\t\\t\\t\\t\\t\\t<div class=\"grid-image\"><img src=\"https://www.khoury.northeastern.edu/wp-content/uploads/2016/02/Rob-Platt-index-image-e1456759522529.jpg\" alt=\"\" /></div>\\n\\t\\t\\t\\t\\t\\t\\t\\t\\t\\t\\t\\t\\t\\t\\t<p class=\"roles\"><span class=\"role-23\">Tenured and Tenure Track Faculty</span></p>\\n\\t\\t\\t\\t\\t\\t\\t\\t\\t\\t\\t\\t\\t\\t<h3 class=\"person-name\">\\n\\t\\t\\t\\t\\t\\t\\t\\t\\tRobert Platt\\t\\t\\t\\t\\t\\t\\t</h3>\\n\\t\\t\\t\\t\\t\\t</a>\\n\\t\\t\\t\\t\\t\\t\\t\\t\\t\\t\\t\\t<div class=\"position-list\">\\n\\t\\t\\t\\t\\t\\t\\t\\t\\t\\t\\t\\t\\t\\t\\t<p class=\"position\">Associate Professor</p>\\n\\t\\t\\t\\t\\t\\t\\t\\t\\t\\t\\t\\t\\t\\t\\t<p class=\"position\">Interdisciplinary with College of Engineering</p>\\n\\t\\t\\t\\t\\t\\t\\t\\t\\t\\t\\t\\t\\t</div>\\n\\t\\t\\t\\t\\t\\t\\t\\t\\t\\t\\t\\t\\t\\t\\t\\t\\t</div>\\n\\t\\t\\t\\t</article>\\n\\t\\t\\t\\t\\t\\t</div>\\n\\t\\t\\t\\t\\t\\t\\t\\t\\t\\t<div class=\"grid-square grid-people\">\\n\\t\\t\\t\\t\\t\\t\\t\\t\\t\\t\\t<article class=\"people\">\\n\\t\\t\\t\\t\\t<div class=\"grid-item\">\\n\\t\\t\\t\\t\\t\\t<a href=\"https://www.khoury.northeastern.edu/people/predrag-radivojac/\">\\n\\t\\t\\t\\t\\t\\t\\t\\t<div class=\"grid-image\"><img src=\"https://www.khoury.northeastern.edu/wp-content/uploads/2018/08/linderpix-NEU-9299-crop.jpg\" alt=\"\" /></div>\\n\\t\\t\\t\\t\\t\\t\\t\\t\\t\\t\\t\\t\\t\\t\\t<p class=\"roles\"><span class=\"role-29\">Administrative Staff</span> <span class=\"role-23\">Tenured and Tenure Track Faculty</span></p>\\n\\t\\t\\t\\t\\t\\t\\t\\t\\t\\t\\t\\t\\t\\t<h3 class=\"person-name\">\\n\\t\\t\\t\\t\\t\\t\\t\\t\\tPredrag Radivojac\\t\\t\\t\\t\\t\\t\\t</h3>\\n\\t\\t\\t\\t\\t\\t</a>\\n\\t\\t\\t\\t\\t\\t\\t\\t\\t\\t\\t\\t<div class=\"position-list\">\\n\\t\\t\\t\\t\\t\\t\\t\\t\\t\\t\\t\\t\\t\\t\\t<p class=\"position\">Professor</p>\\n\\t\\t\\t\\t\\t\\t\\t\\t\\t\\t\\t\\t\\t\\t\\t<p class=\"position\">Associate Dean of Research</p>\\n\\t\\t\\t\\t\\t\\t\\t\\t\\t\\t\\t\\t\\t</div>\\n\\t\\t\\t\\t\\t\\t\\t\\t\\t\\t\\t\\t\\t\\t\\t\\t\\t</div>\\n\\t\\t\\t\\t</article>\\n\\t\\t\\t\\t\\t\\t</div>\\n\\t\\t\\t\\t\\t\\t\\t\\t\\t\\t<div class=\"grid-square grid-people\">\\n\\t\\t\\t\\t\\t\\t\\t\\t\\t\\t\\t<article class=\"people\">\\n\\t\\t\\t\\t\\t<div class=\"grid-item\">\\n\\t\\t\\t\\t\\t\\t<a href=\"https://www.khoury.northeastern.edu/people/rajmohan-rajaraman/\">\\n\\t\\t\\t\\t\\t\\t\\t\\t<div class=\"grid-image\"><img src=\"https://www.khoury.northeastern.edu/wp-content/uploads/2016/03/Rajmohan-Rajaraman-Index-Image.jpg\" alt=\"\" /></div>\\n\\t\\t\\t\\t\\t\\t\\t\\t\\t\\t\\t\\t\\t\\t\\t<p class=\"roles\"><span class=\"role-23\">Tenured and Tenure Track Faculty</span></p>\\n\\t\\t\\t\\t\\t\\t\\t\\t\\t\\t\\t\\t\\t\\t<h3 class=\"person-name\">\\n\\t\\t\\t\\t\\t\\t\\t\\t\\tRajmohan Rajaraman\\t\\t\\t\\t\\t\\t\\t</h3>\\n\\t\\t\\t\\t\\t\\t</a>\\n\\t\\t\\t\\t\\t\\t\\t\\t\\t\\t\\t\\t<div class=\"position-list\">\\n\\t\\t\\t\\t\\t\\t\\t\\t\\t\\t\\t\\t\\t\\t\\t<p class=\"position\">Professor</p>\\n\\t\\t\\t\\t\\t\\t\\t\\t\\t\\t\\t\\t\\t</div>\\n\\t\\t\\t\\t\\t\\t\\t\\t\\t\\t\\t\\t\\t\\t\\t\\t\\t</div>\\n\\t\\t\\t\\t</article>\\n\\t\\t\\t\\t\\t\\t</div>\\n\\t\\t\\t\\t\\t\\t\\t\\t\\t\\t<div class=\"grid-square grid-people\">\\n\\t\\t\\t\\t\\t\\t\\t\\t\\t\\t\\t<article class=\"people\">\\n\\t\\t\\t\\t\\t<div class=\"grid-item\">\\n\\t\\t\\t\\t\\t\\t<a href=\"https://www.khoury.northeastern.edu/people/aanjhan-ranganathan/\">\\n\\t\\t\\t\\t\\t\\t\\t\\t<div class=\"grid-image\"><img src=\"https://www.khoury.northeastern.edu/wp-content/uploads/2017/08/IMG_4378-2-index.jpg\" alt=\"\" /></div>\\n\\t\\t\\t\\t\\t\\t\\t\\t\\t\\t\\t\\t\\t\\t\\t<p class=\"roles\"><span class=\"role-23\">Tenured and Tenure Track Faculty</span></p>\\n\\t\\t\\t\\t\\t\\t\\t\\t\\t\\t\\t\\t\\t\\t<h3 class=\"person-name\">\\n\\t\\t\\t\\t\\t\\t\\t\\t\\tAanjhan Ranganathan\\t\\t\\t\\t\\t\\t\\t</h3>\\n\\t\\t\\t\\t\\t\\t</a>\\n\\t\\t\\t\\t\\t\\t\\t\\t\\t\\t\\t\\t<div class=\"position-list\">\\n\\t\\t\\t\\t\\t\\t\\t\\t\\t\\t\\t\\t\\t\\t\\t<p class=\"position\">Assistant Professor</p>\\n\\t\\t\\t\\t\\t\\t\\t\\t\\t\\t\\t\\t\\t</div>\\n\\t\\t\\t\\t\\t\\t\\t\\t\\t\\t\\t\\t\\t\\t\\t\\t\\t</div>\\n\\t\\t\\t\\t</article>\\n\\t\\t\\t\\t\\t\\t</div>\\n\\t\\t\\t\\t\\t\\t\\t\\t\\t\\t<div class=\"grid-square grid-people\">\\n\\t\\t\\t\\t\\t\\t\\t\\t\\t\\t\\t<article class=\"people\">\\n\\t\\t\\t\\t\\t<div class=\"grid-item\">\\n\\t\\t\\t\\t\\t\\t<a href=\"https://www.khoury.northeastern.edu/people/richard-rasala/\">\\n\\t\\t\\t\\t\\t\\t\\t\\t<div class=\"grid-image\"><img src=\"https://www.khoury.northeastern.edu/wp-content/uploads/2016/02/Richard-Rasala-index-image-e1456759549135.jpg\" alt=\"\" /></div>\\n\\t\\t\\t\\t\\t\\t\\t\\t\\t\\t\\t\\t\\t\\t\\t<p class=\"roles\"><span class=\"role-23\">Tenured and Tenure Track Faculty</span></p>\\n\\t\\t\\t\\t\\t\\t\\t\\t\\t\\t\\t\\t\\t\\t<h3 class=\"person-name\">\\n\\t\\t\\t\\t\\t\\t\\t\\t\\tRichard Rasala\\t\\t\\t\\t\\t\\t\\t</h3>\\n\\t\\t\\t\\t\\t\\t</a>\\n\\t\\t\\t\\t\\t\\t\\t\\t\\t\\t\\t\\t<div class=\"position-list\">\\n\\t\\t\\t\\t\\t\\t\\t\\t\\t\\t\\t\\t\\t\\t\\t<p class=\"position\">Professor Emeritus</p>\\n\\t\\t\\t\\t\\t\\t\\t\\t\\t\\t\\t\\t\\t</div>\\n\\t\\t\\t\\t\\t\\t\\t\\t\\t\\t\\t\\t\\t\\t\\t\\t\\t</div>\\n\\t\\t\\t\\t</article>\\n\\t\\t\\t\\t\\t\\t</div>\\n\\t\\t\\t\\t\\t\\t\\t\\t\\t\\t<div class=\"grid-square grid-people\">\\n\\t\\t\\t\\t\\t\\t\\t\\t\\t\\t\\t<article class=\"people\">\\n\\t\\t\\t\\t\\t<div class=\"grid-item\">\\n\\t\\t\\t\\t\\t\\t<a href=\"https://www.khoury.northeastern.edu/people/mirek-riedewald/\">\\n\\t\\t\\t\\t\\t\\t\\t\\t<div class=\"grid-image\"><img src=\"https://www.khoury.northeastern.edu/wp-content/uploads/2016/02/linderpix-NEU-55350-crop.jpg\" alt=\"\" /></div>\\n\\t\\t\\t\\t\\t\\t\\t\\t\\t\\t\\t\\t\\t\\t\\t<p class=\"roles\"><span class=\"role-23\">Tenured and Tenure Track Faculty</span></p>\\n\\t\\t\\t\\t\\t\\t\\t\\t\\t\\t\\t\\t\\t\\t<h3 class=\"person-name\">\\n\\t\\t\\t\\t\\t\\t\\t\\t\\tMirek Riedewald\\t\\t\\t\\t\\t\\t\\t</h3>\\n\\t\\t\\t\\t\\t\\t</a>\\n\\t\\t\\t\\t\\t\\t\\t\\t\\t\\t\\t\\t<div class=\"position-list\">\\n\\t\\t\\t\\t\\t\\t\\t\\t\\t\\t\\t\\t\\t\\t\\t<p class=\"position\">Associate Professor</p>\\n\\t\\t\\t\\t\\t\\t\\t\\t\\t\\t\\t\\t\\t</div>\\n\\t\\t\\t\\t\\t\\t\\t\\t\\t\\t\\t\\t\\t\\t\\t\\t\\t</div>\\n\\t\\t\\t\\t</article>\\n\\t\\t\\t\\t\\t\\t</div>\\n\\t\\t\\t\\t\\t\\t\\t\\t\\t\\t<div class=\"grid-square grid-people\">\\n\\t\\t\\t\\t\\t\\t\\t\\t\\t\\t\\t<article class=\"people\">\\n\\t\\t\\t\\t\\t<div class=\"grid-item\">\\n\\t\\t\\t\\t\\t\\t<a href=\"https://www.khoury.northeastern.edu/people/christoph-riedl/\">\\n\\t\\t\\t\\t\\t\\t\\t\\t<div class=\"grid-image\"><img src=\"https://www.khoury.northeastern.edu/wp-content/uploads/2016/02/Christoph-Riedl-index-image.jpg\" alt=\"\" /></div>\\n\\t\\t\\t\\t\\t\\t\\t\\t\\t\\t\\t\\t\\t\\t\\t<p class=\"roles\"><span class=\"role-23\">Tenured and Tenure Track Faculty</span></p>\\n\\t\\t\\t\\t\\t\\t\\t\\t\\t\\t\\t\\t\\t\\t<h3 class=\"person-name\">\\n\\t\\t\\t\\t\\t\\t\\t\\t\\tChristoph Riedl\\t\\t\\t\\t\\t\\t\\t</h3>\\n\\t\\t\\t\\t\\t\\t</a>\\n\\t\\t\\t\\t\\t\\t\\t\\t\\t\\t\\t\\t<div class=\"position-list\">\\n\\t\\t\\t\\t\\t\\t\\t\\t\\t\\t\\t\\t\\t\\t\\t<p class=\"position\">Associate Professor</p>\\n\\t\\t\\t\\t\\t\\t\\t\\t\\t\\t\\t\\t\\t\\t\\t<p class=\"position\">Interdisciplinary with D\\'Amore-McKim School of Business</p>\\n\\t\\t\\t\\t\\t\\t\\t\\t\\t\\t\\t\\t\\t</div>\\n\\t\\t\\t\\t\\t\\t\\t\\t\\t\\t\\t\\t\\t\\t\\t\\t\\t</div>\\n\\t\\t\\t\\t</article>\\n\\t\\t\\t\\t\\t\\t</div>\\n\\t\\t\\t\\t\\t\\t\\t\\t\\t\\t<div class=\"grid-square grid-people\">\\n\\t\\t\\t\\t\\t\\t\\t\\t\\t\\t\\t<article class=\"people\">\\n\\t\\t\\t\\t\\t<div class=\"grid-item\">\\n\\t\\t\\t\\t\\t\\t<a href=\"https://www.khoury.northeastern.edu/people/william-robertson/\">\\n\\t\\t\\t\\t\\t\\t\\t\\t<div class=\"grid-image\"><img src=\"https://www.khoury.northeastern.edu/wp-content/uploads/2016/02/William-Robertson-index-image.jpg\" alt=\"\" /></div>\\n\\t\\t\\t\\t\\t\\t\\t\\t\\t\\t\\t\\t\\t\\t\\t<p class=\"roles\"><span class=\"role-23\">Tenured and Tenure Track Faculty</span></p>\\n\\t\\t\\t\\t\\t\\t\\t\\t\\t\\t\\t\\t\\t\\t<h3 class=\"person-name\">\\n\\t\\t\\t\\t\\t\\t\\t\\t\\tWilliam Robertson\\t\\t\\t\\t\\t\\t\\t</h3>\\n\\t\\t\\t\\t\\t\\t</a>\\n\\t\\t\\t\\t\\t\\t\\t\\t\\t\\t\\t\\t<div class=\"position-list\">\\n\\t\\t\\t\\t\\t\\t\\t\\t\\t\\t\\t\\t\\t\\t\\t<p class=\"position\">Associate Professor</p>\\n\\t\\t\\t\\t\\t\\t\\t\\t\\t\\t\\t\\t\\t\\t\\t<p class=\"position\">Interdisciplinary with College of Engineering</p>\\n\\t\\t\\t\\t\\t\\t\\t\\t\\t\\t\\t\\t\\t</div>\\n\\t\\t\\t\\t\\t\\t\\t\\t\\t\\t\\t\\t\\t\\t\\t\\t\\t</div>\\n\\t\\t\\t\\t</article>\\n\\t\\t\\t\\t\\t\\t</div>\\n\\t\\t\\t\\t\\t\\t\\t\\t\\t\\t<div class=\"grid-square grid-people\">\\n\\t\\t\\t\\t\\t\\t\\t\\t\\t\\t\\t<article class=\"people\">\\n\\t\\t\\t\\t\\t<div class=\"grid-item\">\\n\\t\\t\\t\\t\\t\\t<a href=\"https://www.khoury.northeastern.edu/people/magy-seif-el-nasr/\">\\n\\t\\t\\t\\t\\t\\t\\t\\t<div class=\"grid-image\"><img src=\"https://www.khoury.northeastern.edu/wp-content/uploads/2016/02/Magy-Seif-ElNasr-index-image.jpg\" alt=\"\" /></div>\\n\\t\\t\\t\\t\\t\\t\\t\\t\\t\\t\\t\\t\\t\\t\\t<p class=\"roles\"><span class=\"role-23\">Tenured and Tenure Track Faculty</span></p>\\n\\t\\t\\t\\t\\t\\t\\t\\t\\t\\t\\t\\t\\t\\t<h3 class=\"person-name\">\\n\\t\\t\\t\\t\\t\\t\\t\\t\\tMagy Seif El-Nasr\\t\\t\\t\\t\\t\\t\\t</h3>\\n\\t\\t\\t\\t\\t\\t</a>\\n\\t\\t\\t\\t\\t\\t\\t\\t\\t\\t\\t\\t<div class=\"position-list\">\\n\\t\\t\\t\\t\\t\\t\\t\\t\\t\\t\\t\\t\\t\\t\\t<p class=\"position\">Associate Professor</p>\\n\\t\\t\\t\\t\\t\\t\\t\\t\\t\\t\\t\\t\\t\\t\\t<p class=\"position\">Interdisciplinary with College of Arts, Media and Design</p>\\n\\t\\t\\t\\t\\t\\t\\t\\t\\t\\t\\t\\t\\t</div>\\n\\t\\t\\t\\t\\t\\t\\t\\t\\t\\t\\t\\t\\t\\t\\t\\t\\t</div>\\n\\t\\t\\t\\t</article>\\n\\t\\t\\t\\t\\t\\t</div>\\n\\t\\t\\t\\t\\t\\t\\t\\t\\t\\t<div class=\"grid-square grid-people\">\\n\\t\\t\\t\\t\\t\\t\\t\\t\\t\\t\\t<article class=\"people\">\\n\\t\\t\\t\\t\\t<div class=\"grid-item\">\\n\\t\\t\\t\\t\\t\\t<a href=\"https://www.khoury.northeastern.edu/people/abhi-shelat/\">\\n\\t\\t\\t\\t\\t\\t\\t\\t<div class=\"grid-image\"><img src=\"https://www.khoury.northeastern.edu/wp-content/uploads/2016/08/Shelat_Abhi-index-image.jpg\" alt=\"\" /></div>\\n\\t\\t\\t\\t\\t\\t\\t\\t\\t\\t\\t\\t\\t\\t\\t<p class=\"roles\"><span class=\"role-23\">Tenured and Tenure Track Faculty</span></p>\\n\\t\\t\\t\\t\\t\\t\\t\\t\\t\\t\\t\\t\\t\\t<h3 class=\"person-name\">\\n\\t\\t\\t\\t\\t\\t\\t\\t\\tAbhi Shelat\\t\\t\\t\\t\\t\\t\\t</h3>\\n\\t\\t\\t\\t\\t\\t</a>\\n\\t\\t\\t\\t\\t\\t\\t\\t\\t\\t\\t\\t<div class=\"position-list\">\\n\\t\\t\\t\\t\\t\\t\\t\\t\\t\\t\\t\\t\\t\\t\\t<p class=\"position\">Associate Professor</p>\\n\\t\\t\\t\\t\\t\\t\\t\\t\\t\\t\\t\\t\\t</div>\\n\\t\\t\\t\\t\\t\\t\\t\\t\\t\\t\\t\\t\\t\\t\\t\\t\\t</div>\\n\\t\\t\\t\\t</article>\\n\\t\\t\\t\\t\\t\\t</div>\\n\\t\\t\\t\\t\\t\\t\\t\\t\\t\\t<div class=\"grid-square grid-people\">\\n\\t\\t\\t\\t\\t\\t\\t\\t\\t\\t\\t<article class=\"people\">\\n\\t\\t\\t\\t\\t<div class=\"grid-item\">\\n\\t\\t\\t\\t\\t\\t<a href=\"https://www.khoury.northeastern.edu/people/olin-shivers/\">\\n\\t\\t\\t\\t\\t\\t\\t\\t<div class=\"grid-image\"><img src=\"https://www.khoury.northeastern.edu/wp-content/uploads/2016/02/Olin-Shivers-index-image-e1456778933241.jpg\" alt=\"\" /></div>\\n\\t\\t\\t\\t\\t\\t\\t\\t\\t\\t\\t\\t\\t\\t\\t<p class=\"roles\"><span class=\"role-23\">Tenured and Tenure Track Faculty</span></p>\\n\\t\\t\\t\\t\\t\\t\\t\\t\\t\\t\\t\\t\\t\\t<h3 class=\"person-name\">\\n\\t\\t\\t\\t\\t\\t\\t\\t\\tOlin Shivers\\t\\t\\t\\t\\t\\t\\t</h3>\\n\\t\\t\\t\\t\\t\\t</a>\\n\\t\\t\\t\\t\\t\\t\\t\\t\\t\\t\\t\\t<div class=\"position-list\">\\n\\t\\t\\t\\t\\t\\t\\t\\t\\t\\t\\t\\t\\t\\t\\t<p class=\"position\">Professor</p>\\n\\t\\t\\t\\t\\t\\t\\t\\t\\t\\t\\t\\t\\t</div>\\n\\t\\t\\t\\t\\t\\t\\t\\t\\t\\t\\t\\t\\t\\t\\t\\t\\t</div>\\n\\t\\t\\t\\t</article>\\n\\t\\t\\t\\t\\t\\t</div>\\n\\t\\t\\t\\t\\t\\t\\t\\t\\t\\t<div class=\"grid-square grid-people\">\\n\\t\\t\\t\\t\\t\\t\\t\\t\\t\\t\\t<article class=\"people\">\\n\\t\\t\\t\\t\\t<div class=\"grid-item\">\\n\\t\\t\\t\\t\\t\\t<a href=\"https://www.khoury.northeastern.edu/people/david-smith/\">\\n\\t\\t\\t\\t\\t\\t\\t\\t<div class=\"grid-image\"><img src=\"https://www.khoury.northeastern.edu/wp-content/uploads/2016/02/David-Smith-index-image-e1456779166749.jpg\" alt=\"\" /></div>\\n\\t\\t\\t\\t\\t\\t\\t\\t\\t\\t\\t\\t\\t\\t\\t<p class=\"roles\"><span class=\"role-23\">Tenured and Tenure Track Faculty</span></p>\\n\\t\\t\\t\\t\\t\\t\\t\\t\\t\\t\\t\\t\\t\\t<h3 class=\"person-name\">\\n\\t\\t\\t\\t\\t\\t\\t\\t\\tDavid Smith\\t\\t\\t\\t\\t\\t\\t</h3>\\n\\t\\t\\t\\t\\t\\t</a>\\n\\t\\t\\t\\t\\t\\t\\t\\t\\t\\t\\t\\t<div class=\"position-list\">\\n\\t\\t\\t\\t\\t\\t\\t\\t\\t\\t\\t\\t\\t\\t\\t<p class=\"position\">Associate Professor </p>\\n\\t\\t\\t\\t\\t\\t\\t\\t\\t\\t\\t\\t\\t</div>\\n\\t\\t\\t\\t\\t\\t\\t\\t\\t\\t\\t\\t\\t\\t\\t\\t\\t</div>\\n\\t\\t\\t\\t</article>\\n\\t\\t\\t\\t\\t\\t</div>\\n\\t\\t\\t\\t\\t\\t\\t\\t\\t\\t<div class=\"grid-square grid-people\">\\n\\t\\t\\t\\t\\t\\t\\t\\t\\t\\t\\t<article class=\"people\">\\n\\t\\t\\t\\t\\t<div class=\"grid-item\">\\n\\t\\t\\t\\t\\t\\t<a href=\"https://www.khoury.northeastern.edu/people/ravi-sundaram/\">\\n\\t\\t\\t\\t\\t\\t\\t\\t<div class=\"grid-image\"><img src=\"https://www.khoury.northeastern.edu/wp-content/uploads/2016/03/Ravi-Sundaram-Index-Image.jpg\" alt=\"\" /></div>\\n\\t\\t\\t\\t\\t\\t\\t\\t\\t\\t\\t\\t\\t\\t\\t<p class=\"roles\"><span class=\"role-23\">Tenured and Tenure Track Faculty</span></p>\\n\\t\\t\\t\\t\\t\\t\\t\\t\\t\\t\\t\\t\\t\\t<h3 class=\"person-name\">\\n\\t\\t\\t\\t\\t\\t\\t\\t\\tRavi Sundaram\\t\\t\\t\\t\\t\\t\\t</h3>\\n\\t\\t\\t\\t\\t\\t</a>\\n\\t\\t\\t\\t\\t\\t\\t\\t\\t\\t\\t\\t<div class=\"position-list\">\\n\\t\\t\\t\\t\\t\\t\\t\\t\\t\\t\\t\\t\\t\\t\\t<p class=\"position\">Professor</p>\\n\\t\\t\\t\\t\\t\\t\\t\\t\\t\\t\\t\\t\\t</div>\\n\\t\\t\\t\\t\\t\\t\\t\\t\\t\\t\\t\\t\\t\\t\\t\\t\\t</div>\\n\\t\\t\\t\\t</article>\\n\\t\\t\\t\\t\\t\\t</div>\\n\\t\\t\\t\\t\\t\\t\\t\\t\\t\\t<div class=\"grid-square grid-people\">\\n\\t\\t\\t\\t\\t\\t\\t\\t\\t\\t\\t<article class=\"people\">\\n\\t\\t\\t\\t\\t<div class=\"grid-item\">\\n\\t\\t\\t\\t\\t\\t<a href=\"https://www.khoury.northeastern.edu/people/frank-tip/\">\\n\\t\\t\\t\\t\\t\\t\\t\\t<div class=\"grid-image\"><img src=\"https://www.khoury.northeastern.edu/wp-content/uploads/2016/08/Tip_Frank_linderpix-NEU-55674-crop.jpg\" alt=\"\" /></div>\\n\\t\\t\\t\\t\\t\\t\\t\\t\\t\\t\\t\\t\\t\\t\\t<p class=\"roles\"><span class=\"role-29\">Administrative Staff</span> <span class=\"role-23\">Tenured and Tenure Track Faculty</span></p>\\n\\t\\t\\t\\t\\t\\t\\t\\t\\t\\t\\t\\t\\t\\t<h3 class=\"person-name\">\\n\\t\\t\\t\\t\\t\\t\\t\\t\\tFrank Tip\\t\\t\\t\\t\\t\\t\\t</h3>\\n\\t\\t\\t\\t\\t\\t</a>\\n\\t\\t\\t\\t\\t\\t\\t\\t\\t\\t\\t\\t<div class=\"position-list\">\\n\\t\\t\\t\\t\\t\\t\\t\\t\\t\\t\\t\\t\\t\\t\\t<p class=\"position\">Professor</p>\\n\\t\\t\\t\\t\\t\\t\\t\\t\\t\\t\\t\\t\\t\\t\\t<p class=\"position\">Associate Dean for Graduate Programs</p>\\n\\t\\t\\t\\t\\t\\t\\t\\t\\t\\t\\t\\t\\t</div>\\n\\t\\t\\t\\t\\t\\t\\t\\t\\t\\t\\t\\t\\t\\t\\t\\t\\t</div>\\n\\t\\t\\t\\t</article>\\n\\t\\t\\t\\t\\t\\t</div>\\n\\t\\t\\t\\t\\t\\t\\t\\t\\t\\t<div class=\"grid-square grid-people\">\\n\\t\\t\\t\\t\\t\\t\\t\\t\\t\\t\\t<article class=\"people\">\\n\\t\\t\\t\\t\\t<div class=\"grid-item\">\\n\\t\\t\\t\\t\\t\\t<a href=\"https://www.khoury.northeastern.edu/people/stavros-tripakis/\">\\n\\t\\t\\t\\t\\t\\t\\t\\t<div class=\"grid-image\"><img src=\"https://www.khoury.northeastern.edu/wp-content/uploads/2017/08/linderpix-NEU-9206-crop.jpg\" alt=\"\" /></div>\\n\\t\\t\\t\\t\\t\\t\\t\\t\\t\\t\\t\\t\\t\\t\\t<p class=\"roles\"><span class=\"role-23\">Tenured and Tenure Track Faculty</span></p>\\n\\t\\t\\t\\t\\t\\t\\t\\t\\t\\t\\t\\t\\t\\t<h3 class=\"person-name\">\\n\\t\\t\\t\\t\\t\\t\\t\\t\\tStavros Tripakis\\t\\t\\t\\t\\t\\t\\t</h3>\\n\\t\\t\\t\\t\\t\\t</a>\\n\\t\\t\\t\\t\\t\\t\\t\\t\\t\\t\\t\\t<div class=\"position-list\">\\n\\t\\t\\t\\t\\t\\t\\t\\t\\t\\t\\t\\t\\t\\t\\t<p class=\"position\">Associate Professor</p>\\n\\t\\t\\t\\t\\t\\t\\t\\t\\t\\t\\t\\t\\t</div>\\n\\t\\t\\t\\t\\t\\t\\t\\t\\t\\t\\t\\t\\t\\t\\t\\t\\t</div>\\n\\t\\t\\t\\t</article>\\n\\t\\t\\t\\t\\t\\t</div>\\n\\t\\t\\t\\t\\t\\t\\t\\t\\t\\t<div class=\"grid-square grid-people\">\\n\\t\\t\\t\\t\\t\\t\\t\\t\\t\\t\\t<article class=\"people\">\\n\\t\\t\\t\\t\\t<div class=\"grid-item\">\\n\\t\\t\\t\\t\\t\\t<a href=\"https://www.khoury.northeastern.edu/people/jonathan-ullman/\">\\n\\t\\t\\t\\t\\t\\t\\t\\t<div class=\"grid-image\"><img src=\"https://www.khoury.northeastern.edu/wp-content/uploads/2016/02/Jonathan-Ullman-index-image-e1456779392351.jpg\" alt=\"\" /></div>\\n\\t\\t\\t\\t\\t\\t\\t\\t\\t\\t\\t\\t\\t\\t\\t<p class=\"roles\"><span class=\"role-23\">Tenured and Tenure Track Faculty</span></p>\\n\\t\\t\\t\\t\\t\\t\\t\\t\\t\\t\\t\\t\\t\\t<h3 class=\"person-name\">\\n\\t\\t\\t\\t\\t\\t\\t\\t\\tJonathan Ullman\\t\\t\\t\\t\\t\\t\\t</h3>\\n\\t\\t\\t\\t\\t\\t</a>\\n\\t\\t\\t\\t\\t\\t\\t\\t\\t\\t\\t\\t<div class=\"position-list\">\\n\\t\\t\\t\\t\\t\\t\\t\\t\\t\\t\\t\\t\\t\\t\\t<p class=\"position\">Assistant Professor</p>\\n\\t\\t\\t\\t\\t\\t\\t\\t\\t\\t\\t\\t\\t</div>\\n\\t\\t\\t\\t\\t\\t\\t\\t\\t\\t\\t\\t\\t\\t\\t\\t\\t</div>\\n\\t\\t\\t\\t</article>\\n\\t\\t\\t\\t\\t\\t</div>\\n\\t\\t\\t\\t\\t\\t\\t\\t\\t\\t<div class=\"grid-square grid-people\">\\n\\t\\t\\t\\t\\t\\t\\t\\t\\t\\t\\t<article class=\"people\">\\n\\t\\t\\t\\t\\t<div class=\"grid-item\">\\n\\t\\t\\t\\t\\t\\t<a href=\"https://www.khoury.northeastern.edu/people/jan-willem-van-de-meent/\">\\n\\t\\t\\t\\t\\t\\t\\t\\t<div class=\"grid-image\"><img src=\"https://www.khoury.northeastern.edu/wp-content/uploads/2016/09/van-de-Meent_Jan-Willem-index-image.jpg\" alt=\"\" /></div>\\n\\t\\t\\t\\t\\t\\t\\t\\t\\t\\t\\t\\t\\t\\t\\t<p class=\"roles\"><span class=\"role-23\">Tenured and Tenure Track Faculty</span></p>\\n\\t\\t\\t\\t\\t\\t\\t\\t\\t\\t\\t\\t\\t\\t<h3 class=\"person-name\">\\n\\t\\t\\t\\t\\t\\t\\t\\t\\tJan-Willem van de Meent\\t\\t\\t\\t\\t\\t\\t</h3>\\n\\t\\t\\t\\t\\t\\t</a>\\n\\t\\t\\t\\t\\t\\t\\t\\t\\t\\t\\t\\t<div class=\"position-list\">\\n\\t\\t\\t\\t\\t\\t\\t\\t\\t\\t\\t\\t\\t\\t\\t<p class=\"position\">Assistant Professor</p>\\n\\t\\t\\t\\t\\t\\t\\t\\t\\t\\t\\t\\t\\t</div>\\n\\t\\t\\t\\t\\t\\t\\t\\t\\t\\t\\t\\t\\t\\t\\t\\t\\t</div>\\n\\t\\t\\t\\t</article>\\n\\t\\t\\t\\t\\t\\t</div>\\n\\t\\t\\t\\t\\t\\t\\t\\t\\t\\t<div class=\"grid-square grid-people\">\\n\\t\\t\\t\\t\\t\\t\\t\\t\\t\\t\\t<article class=\"people\">\\n\\t\\t\\t\\t\\t<div class=\"grid-item\">\\n\\t\\t\\t\\t\\t\\t<a href=\"https://www.khoury.northeastern.edu/people/alessandrovespignani/\">\\n\\t\\t\\t\\t\\t\\t\\t\\t<div class=\"grid-image\"><img src=\"https://www.khoury.northeastern.edu/wp-content/uploads/2016/04/linderpix111915-avespignani-9987-crop.jpg\" alt=\"\" /></div>\\n\\t\\t\\t\\t\\t\\t\\t\\t\\t\\t\\t\\t\\t\\t\\t<p class=\"roles\"><span class=\"role-23\">Tenured and Tenure Track Faculty</span></p>\\n\\t\\t\\t\\t\\t\\t\\t\\t\\t\\t\\t\\t\\t\\t<h3 class=\"person-name\">\\n\\t\\t\\t\\t\\t\\t\\t\\t\\tAlessandro Vespignani\\t\\t\\t\\t\\t\\t\\t</h3>\\n\\t\\t\\t\\t\\t\\t</a>\\n\\t\\t\\t\\t\\t\\t\\t\\t\\t\\t\\t\\t<div class=\"position-list\">\\n\\t\\t\\t\\t\\t\\t\\t\\t\\t\\t\\t\\t\\t\\t\\t<p class=\"position\">Sternberg Family Distinguished Professor</p>\\n\\t\\t\\t\\t\\t\\t\\t\\t\\t\\t\\t\\t\\t\\t\\t<p class=\"position\">Director - Network Science Institute</p>\\n\\t\\t\\t\\t\\t\\t\\t\\t\\t\\t\\t\\t\\t\\t\\t<p class=\"position\">Interdisciplinary with College of Science and Bouv\\xc3\\xa9 College of Health Sciences</p>\\n\\t\\t\\t\\t\\t\\t\\t\\t\\t\\t\\t\\t\\t</div>\\n\\t\\t\\t\\t\\t\\t\\t\\t\\t\\t\\t\\t\\t\\t\\t\\t\\t</div>\\n\\t\\t\\t\\t</article>\\n\\t\\t\\t\\t\\t\\t</div>\\n\\t\\t\\t\\t\\t\\t\\t\\t\\t\\t<div class=\"grid-square grid-people\">\\n\\t\\t\\t\\t\\t\\t\\t\\t\\t\\t\\t<article class=\"people\">\\n\\t\\t\\t\\t\\t<div class=\"grid-item\">\\n\\t\\t\\t\\t\\t\\t<a href=\"https://www.khoury.northeastern.edu/people/emanuele-viola/\">\\n\\t\\t\\t\\t\\t\\t\\t\\t<div class=\"grid-image\"><img src=\"https://www.khoury.northeastern.edu/wp-content/uploads/2016/03/Emanuele-Viola-Index-Image.jpg\" alt=\"\" /></div>\\n\\t\\t\\t\\t\\t\\t\\t\\t\\t\\t\\t\\t\\t\\t\\t<p class=\"roles\"><span class=\"role-23\">Tenured and Tenure Track Faculty</span></p>\\n\\t\\t\\t\\t\\t\\t\\t\\t\\t\\t\\t\\t\\t\\t<h3 class=\"person-name\">\\n\\t\\t\\t\\t\\t\\t\\t\\t\\tEmanuele Viola\\t\\t\\t\\t\\t\\t\\t</h3>\\n\\t\\t\\t\\t\\t\\t</a>\\n\\t\\t\\t\\t\\t\\t\\t\\t\\t\\t\\t\\t<div class=\"position-list\">\\n\\t\\t\\t\\t\\t\\t\\t\\t\\t\\t\\t\\t\\t\\t\\t<p class=\"position\">Associate Professor</p>\\n\\t\\t\\t\\t\\t\\t\\t\\t\\t\\t\\t\\t\\t</div>\\n\\t\\t\\t\\t\\t\\t\\t\\t\\t\\t\\t\\t\\t\\t\\t\\t\\t</div>\\n\\t\\t\\t\\t</article>\\n\\t\\t\\t\\t\\t\\t</div>\\n\\t\\t\\t\\t\\t\\t\\t\\t\\t\\t<div class=\"grid-square grid-people\">\\n\\t\\t\\t\\t\\t\\t\\t\\t\\t\\t\\t<article class=\"people\">\\n\\t\\t\\t\\t\\t<div class=\"grid-item\">\\n\\t\\t\\t\\t\\t\\t<a href=\"https://www.khoury.northeastern.edu/people/jan-vitek/\">\\n\\t\\t\\t\\t\\t\\t\\t\\t<div class=\"grid-image\"><img src=\"https://www.khoury.northeastern.edu/wp-content/uploads/2016/02/Jan-Vitek-index-image.jpg\" alt=\"\" /></div>\\n\\t\\t\\t\\t\\t\\t\\t\\t\\t\\t\\t\\t\\t\\t\\t<p class=\"roles\"><span class=\"role-23\">Tenured and Tenure Track Faculty</span></p>\\n\\t\\t\\t\\t\\t\\t\\t\\t\\t\\t\\t\\t\\t\\t<h3 class=\"person-name\">\\n\\t\\t\\t\\t\\t\\t\\t\\t\\tJan Vitek\\t\\t\\t\\t\\t\\t\\t</h3>\\n\\t\\t\\t\\t\\t\\t</a>\\n\\t\\t\\t\\t\\t\\t\\t\\t\\t\\t\\t\\t<div class=\"position-list\">\\n\\t\\t\\t\\t\\t\\t\\t\\t\\t\\t\\t\\t\\t\\t\\t<p class=\"position\">Professor</p>\\n\\t\\t\\t\\t\\t\\t\\t\\t\\t\\t\\t\\t\\t</div>\\n\\t\\t\\t\\t\\t\\t\\t\\t\\t\\t\\t\\t\\t\\t\\t\\t\\t</div>\\n\\t\\t\\t\\t</article>\\n\\t\\t\\t\\t\\t\\t</div>\\n\\t\\t\\t\\t\\t\\t\\t\\t\\t\\t<div class=\"grid-square grid-people\">\\n\\t\\t\\t\\t\\t\\t\\t\\t\\t\\t\\t<article class=\"people\">\\n\\t\\t\\t\\t\\t<div class=\"grid-item\">\\n\\t\\t\\t\\t\\t\\t<a href=\"https://www.khoury.northeastern.edu/people/olga-vitek/\">\\n\\t\\t\\t\\t\\t\\t\\t\\t<div class=\"grid-image\"><img src=\"https://www.khoury.northeastern.edu/wp-content/uploads/2016/02/Olga-Vitek-index-image-e1456778947471.jpg\" alt=\"\" /></div>\\n\\t\\t\\t\\t\\t\\t\\t\\t\\t\\t\\t\\t\\t\\t\\t<p class=\"roles\"><span class=\"role-23\">Tenured and Tenure Track Faculty</span></p>\\n\\t\\t\\t\\t\\t\\t\\t\\t\\t\\t\\t\\t\\t\\t<h3 class=\"person-name\">\\n\\t\\t\\t\\t\\t\\t\\t\\t\\tOlga Vitek\\t\\t\\t\\t\\t\\t\\t</h3>\\n\\t\\t\\t\\t\\t\\t</a>\\n\\t\\t\\t\\t\\t\\t\\t\\t\\t\\t\\t\\t<div class=\"position-list\">\\n\\t\\t\\t\\t\\t\\t\\t\\t\\t\\t\\t\\t\\t\\t\\t<p class=\"position\">Professor</p>\\n\\t\\t\\t\\t\\t\\t\\t\\t\\t\\t\\t\\t\\t\\t\\t<p class=\"position\">Director - MS in Data Science Program</p>\\n\\t\\t\\t\\t\\t\\t\\t\\t\\t\\t\\t\\t\\t</div>\\n\\t\\t\\t\\t\\t\\t\\t\\t\\t\\t\\t\\t\\t\\t\\t\\t\\t</div>\\n\\t\\t\\t\\t</article>\\n\\t\\t\\t\\t\\t\\t</div>\\n\\t\\t\\t\\t\\t\\t\\t\\t\\t\\t<div class=\"grid-square grid-people\">\\n\\t\\t\\t\\t\\t\\t\\t\\t\\t\\t\\t<article class=\"people\">\\n\\t\\t\\t\\t\\t<div class=\"grid-item\">\\n\\t\\t\\t\\t\\t\\t<a href=\"https://www.khoury.northeastern.edu/people/thomas-wahl/\">\\n\\t\\t\\t\\t\\t\\t\\t\\t<div class=\"grid-image\"><img src=\"https://www.khoury.northeastern.edu/wp-content/uploads/2016/02/Thomas-Wahl-index-image.jpg\" alt=\"\" /></div>\\n\\t\\t\\t\\t\\t\\t\\t\\t\\t\\t\\t\\t\\t\\t\\t<p class=\"roles\"><span class=\"role-23\">Tenured and Tenure Track Faculty</span></p>\\n\\t\\t\\t\\t\\t\\t\\t\\t\\t\\t\\t\\t\\t\\t<h3 class=\"person-name\">\\n\\t\\t\\t\\t\\t\\t\\t\\t\\tThomas Wahl\\t\\t\\t\\t\\t\\t\\t</h3>\\n\\t\\t\\t\\t\\t\\t</a>\\n\\t\\t\\t\\t\\t\\t\\t\\t\\t\\t\\t\\t<div class=\"position-list\">\\n\\t\\t\\t\\t\\t\\t\\t\\t\\t\\t\\t\\t\\t\\t\\t<p class=\"position\">Associate Professor</p>\\n\\t\\t\\t\\t\\t\\t\\t\\t\\t\\t\\t\\t\\t</div>\\n\\t\\t\\t\\t\\t\\t\\t\\t\\t\\t\\t\\t\\t\\t\\t\\t\\t</div>\\n\\t\\t\\t\\t</article>\\n\\t\\t\\t\\t\\t\\t</div>\\n\\t\\t\\t\\t\\t\\t\\t\\t\\t\\t<div class=\"grid-square grid-people\">\\n\\t\\t\\t\\t\\t\\t\\t\\t\\t\\t\\t<article class=\"people\">\\n\\t\\t\\t\\t\\t<div class=\"grid-item\">\\n\\t\\t\\t\\t\\t\\t<a href=\"https://www.khoury.northeastern.edu/people/byron-wallace/\">\\n\\t\\t\\t\\t\\t\\t\\t\\t<div class=\"grid-image\"><img src=\"https://www.khoury.northeastern.edu/wp-content/uploads/2016/08/Wallace_Byron-index-image.jpg\" alt=\"\" /></div>\\n\\t\\t\\t\\t\\t\\t\\t\\t\\t\\t\\t\\t\\t\\t\\t<p class=\"roles\"><span class=\"role-23\">Tenured and Tenure Track Faculty</span></p>\\n\\t\\t\\t\\t\\t\\t\\t\\t\\t\\t\\t\\t\\t\\t<h3 class=\"person-name\">\\n\\t\\t\\t\\t\\t\\t\\t\\t\\tByron Wallace\\t\\t\\t\\t\\t\\t\\t</h3>\\n\\t\\t\\t\\t\\t\\t</a>\\n\\t\\t\\t\\t\\t\\t\\t\\t\\t\\t\\t\\t<div class=\"position-list\">\\n\\t\\t\\t\\t\\t\\t\\t\\t\\t\\t\\t\\t\\t\\t\\t<p class=\"position\">Assistant Professor</p>\\n\\t\\t\\t\\t\\t\\t\\t\\t\\t\\t\\t\\t\\t\\t\\t<p class=\"position\">Director - BS in Data Science Program</p>\\n\\t\\t\\t\\t\\t\\t\\t\\t\\t\\t\\t\\t\\t</div>\\n\\t\\t\\t\\t\\t\\t\\t\\t\\t\\t\\t\\t\\t\\t\\t\\t\\t</div>\\n\\t\\t\\t\\t</article>\\n\\t\\t\\t\\t\\t\\t</div>\\n\\t\\t\\t\\t\\t\\t\\t\\t\\t\\t<div class=\"grid-square grid-people\">\\n\\t\\t\\t\\t\\t\\t\\t\\t\\t\\t\\t<article class=\"people\">\\n\\t\\t\\t\\t\\t<div class=\"grid-item\">\\n\\t\\t\\t\\t\\t\\t<a href=\"https://www.khoury.northeastern.edu/people/mitchell-wand/\">\\n\\t\\t\\t\\t\\t\\t\\t\\t<div class=\"grid-image\"><img src=\"https://www.khoury.northeastern.edu/wp-content/uploads/2016/02/Mitch-Wand-index-image.jpg\" alt=\"\" /></div>\\n\\t\\t\\t\\t\\t\\t\\t\\t\\t\\t\\t\\t\\t\\t\\t<p class=\"roles\"><span class=\"role-23\">Tenured and Tenure Track Faculty</span></p>\\n\\t\\t\\t\\t\\t\\t\\t\\t\\t\\t\\t\\t\\t\\t<h3 class=\"person-name\">\\n\\t\\t\\t\\t\\t\\t\\t\\t\\tMitchell Wand\\t\\t\\t\\t\\t\\t\\t</h3>\\n\\t\\t\\t\\t\\t\\t</a>\\n\\t\\t\\t\\t\\t\\t\\t\\t\\t\\t\\t\\t<div class=\"position-list\">\\n\\t\\t\\t\\t\\t\\t\\t\\t\\t\\t\\t\\t\\t\\t\\t<p class=\"position\">Part-Time Lecturer</p>\\n\\t\\t\\t\\t\\t\\t\\t\\t\\t\\t\\t\\t\\t\\t\\t<p class=\"position\">Professor Emeritus</p>\\n\\t\\t\\t\\t\\t\\t\\t\\t\\t\\t\\t\\t\\t</div>\\n\\t\\t\\t\\t\\t\\t\\t\\t\\t\\t\\t\\t\\t\\t\\t\\t\\t</div>\\n\\t\\t\\t\\t</article>\\n\\t\\t\\t\\t\\t\\t</div>\\n\\t\\t\\t\\t\\t\\t\\t\\t\\t\\t<div class=\"grid-square grid-people\">\\n\\t\\t\\t\\t\\t\\t\\t\\t\\t\\t\\t<article class=\"people\">\\n\\t\\t\\t\\t\\t<div class=\"grid-item\">\\n\\t\\t\\t\\t\\t\\t<a href=\"https://www.khoury.northeastern.edu/people/lu-wang/\">\\n\\t\\t\\t\\t\\t\\t\\t\\t<div class=\"grid-image\"><img src=\"https://www.khoury.northeastern.edu/wp-content/uploads/2016/02/Lu-Wang-index-image.jpg\" alt=\"\" /></div>\\n\\t\\t\\t\\t\\t\\t\\t\\t\\t\\t\\t\\t\\t\\t\\t<p class=\"roles\"><span class=\"role-23\">Tenured and Tenure Track Faculty</span></p>\\n\\t\\t\\t\\t\\t\\t\\t\\t\\t\\t\\t\\t\\t\\t<h3 class=\"person-name\">\\n\\t\\t\\t\\t\\t\\t\\t\\t\\tLu Wang\\t\\t\\t\\t\\t\\t\\t</h3>\\n\\t\\t\\t\\t\\t\\t</a>\\n\\t\\t\\t\\t\\t\\t\\t\\t\\t\\t\\t\\t<div class=\"position-list\">\\n\\t\\t\\t\\t\\t\\t\\t\\t\\t\\t\\t\\t\\t\\t\\t<p class=\"position\">Assistant Professor</p>\\n\\t\\t\\t\\t\\t\\t\\t\\t\\t\\t\\t\\t\\t</div>\\n\\t\\t\\t\\t\\t\\t\\t\\t\\t\\t\\t\\t\\t\\t\\t\\t\\t</div>\\n\\t\\t\\t\\t</article>\\n\\t\\t\\t\\t\\t\\t</div>\\n\\t\\t\\t\\t\\t\\t\\t\\t\\t\\t<div class=\"grid-square grid-people\">\\n\\t\\t\\t\\t\\t\\t\\t\\t\\t\\t\\t<article class=\"people\">\\n\\t\\t\\t\\t\\t<div class=\"grid-item\">\\n\\t\\t\\t\\t\\t\\t<a href=\"https://www.khoury.northeastern.edu/people/daniel-wichs/\">\\n\\t\\t\\t\\t\\t\\t\\t\\t<div class=\"grid-image\"><img src=\"https://www.khoury.northeastern.edu/wp-content/uploads/2016/02/Daniel-Wichs-index-image.jpg\" alt=\"\" /></div>\\n\\t\\t\\t\\t\\t\\t\\t\\t\\t\\t\\t\\t\\t\\t\\t<p class=\"roles\"><span class=\"role-23\">Tenured and Tenure Track Faculty</span></p>\\n\\t\\t\\t\\t\\t\\t\\t\\t\\t\\t\\t\\t\\t\\t<h3 class=\"person-name\">\\n\\t\\t\\t\\t\\t\\t\\t\\t\\tDaniel Wichs\\t\\t\\t\\t\\t\\t\\t</h3>\\n\\t\\t\\t\\t\\t\\t</a>\\n\\t\\t\\t\\t\\t\\t\\t\\t\\t\\t\\t\\t<div class=\"position-list\">\\n\\t\\t\\t\\t\\t\\t\\t\\t\\t\\t\\t\\t\\t\\t\\t<p class=\"position\">Associate Professor</p>\\n\\t\\t\\t\\t\\t\\t\\t\\t\\t\\t\\t\\t\\t</div>\\n\\t\\t\\t\\t\\t\\t\\t\\t\\t\\t\\t\\t\\t\\t\\t\\t\\t</div>\\n\\t\\t\\t\\t</article>\\n\\t\\t\\t\\t\\t\\t</div>\\n\\t\\t\\t\\t\\t\\t\\t\\t\\t\\t<div class=\"grid-square grid-people\">\\n\\t\\t\\t\\t\\t\\t\\t\\t\\t\\t\\t<article class=\"people\">\\n\\t\\t\\t\\t\\t<div class=\"grid-item\">\\n\\t\\t\\t\\t\\t\\t<a href=\"https://www.khoury.northeastern.edu/people/christo-wilson/\">\\n\\t\\t\\t\\t\\t\\t\\t\\t<div class=\"grid-image\"><img src=\"https://www.khoury.northeastern.edu/wp-content/uploads/2016/02/Christo-Wilson-index-image.jpg\" alt=\"\" /></div>\\n\\t\\t\\t\\t\\t\\t\\t\\t\\t\\t\\t\\t\\t\\t\\t<p class=\"roles\"><span class=\"role-29\">Administrative Staff</span> <span class=\"role-23\">Tenured and Tenure Track Faculty</span></p>\\n\\t\\t\\t\\t\\t\\t\\t\\t\\t\\t\\t\\t\\t\\t<h3 class=\"person-name\">\\n\\t\\t\\t\\t\\t\\t\\t\\t\\tChristo Wilson\\t\\t\\t\\t\\t\\t\\t</h3>\\n\\t\\t\\t\\t\\t\\t</a>\\n\\t\\t\\t\\t\\t\\t\\t\\t\\t\\t\\t\\t<div class=\"position-list\">\\n\\t\\t\\t\\t\\t\\t\\t\\t\\t\\t\\t\\t\\t\\t\\t<p class=\"position\">Associate Professor</p>\\n\\t\\t\\t\\t\\t\\t\\t\\t\\t\\t\\t\\t\\t\\t\\t<p class=\"position\">Director of the BS in Cybersecurity Program</p>\\n\\t\\t\\t\\t\\t\\t\\t\\t\\t\\t\\t\\t\\t</div>\\n\\t\\t\\t\\t\\t\\t\\t\\t\\t\\t\\t\\t\\t\\t\\t\\t\\t</div>\\n\\t\\t\\t\\t</article>\\n\\t\\t\\t\\t\\t\\t</div>\\n\\t\\t\\t\\t\\t\\t\\t\\t\\t\\t<div class=\"grid-square grid-people\">\\n\\t\\t\\t\\t\\t\\t\\t\\t\\t\\t\\t<article class=\"people\">\\n\\t\\t\\t\\t\\t<div class=\"grid-item\">\\n\\t\\t\\t\\t\\t\\t<a href=\"https://www.khoury.northeastern.edu/people/lawson-wong/\">\\n\\t\\t\\t\\t\\t\\t\\t\\t<div class=\"grid-image\"><img src=\"https://www.khoury.northeastern.edu/wp-content/uploads/2018/08/linderpix-NEU-9067-crop-index-new.jpg\" alt=\"\" /></div>\\n\\t\\t\\t\\t\\t\\t\\t\\t\\t\\t\\t\\t\\t\\t\\t<p class=\"roles\"><span class=\"role-23\">Tenured and Tenure Track Faculty</span></p>\\n\\t\\t\\t\\t\\t\\t\\t\\t\\t\\t\\t\\t\\t\\t<h3 class=\"person-name\">\\n\\t\\t\\t\\t\\t\\t\\t\\t\\tLawson Wong\\t\\t\\t\\t\\t\\t\\t</h3>\\n\\t\\t\\t\\t\\t\\t</a>\\n\\t\\t\\t\\t\\t\\t\\t\\t\\t\\t\\t\\t<div class=\"position-list\">\\n\\t\\t\\t\\t\\t\\t\\t\\t\\t\\t\\t\\t\\t\\t\\t<p class=\"position\">Assistant Professor</p>\\n\\t\\t\\t\\t\\t\\t\\t\\t\\t\\t\\t\\t\\t</div>\\n\\t\\t\\t\\t\\t\\t\\t\\t\\t\\t\\t\\t\\t\\t\\t\\t\\t</div>\\n\\t\\t\\t\\t</article>\\n\\t\\t\\t\\t\\t\\t</div>\\n\\t\\t\\t\\t\\t\\t\\t\\t\\t\\t<div class=\"grid-square grid-people\">\\n\\t\\t\\t\\t\\t\\t\\t\\t\\t\\t\\t<article class=\"people\">\\n\\t\\t\\t\\t\\t<div class=\"grid-item\">\\n\\t\\t\\t\\t\\t\\t<a href=\"https://www.khoury.northeastern.edu/people/rose-yu/\">\\n\\t\\t\\t\\t\\t\\t\\t\\t<div class=\"grid-image\"><img src=\"https://www.khoury.northeastern.edu/wp-content/uploads/2017/08/linderpix-NEU-4233-crop.jpg\" alt=\"\" /></div>\\n\\t\\t\\t\\t\\t\\t\\t\\t\\t\\t\\t\\t\\t\\t\\t<p class=\"roles\"><span class=\"role-23\">Tenured and Tenure Track Faculty</span></p>\\n\\t\\t\\t\\t\\t\\t\\t\\t\\t\\t\\t\\t\\t\\t<h3 class=\"person-name\">\\n\\t\\t\\t\\t\\t\\t\\t\\t\\tRose Yu\\t\\t\\t\\t\\t\\t\\t</h3>\\n\\t\\t\\t\\t\\t\\t</a>\\n\\t\\t\\t\\t\\t\\t\\t\\t\\t\\t\\t\\t<div class=\"position-list\">\\n\\t\\t\\t\\t\\t\\t\\t\\t\\t\\t\\t\\t\\t\\t\\t<p class=\"position\">Assistant Professor</p>\\n\\t\\t\\t\\t\\t\\t\\t\\t\\t\\t\\t\\t\\t</div>\\n\\t\\t\\t\\t\\t\\t\\t\\t\\t\\t\\t\\t\\t\\t\\t\\t\\t</div>\\n\\t\\t\\t\\t</article>\\n\\t\\t\\t\\t\\t\\t</div>\\n\\t\\t\\t\\t\\t\\t\\t\\t\\t\\t</div>\\n\\t\\t\\t\\t\\t</div>\\n\\t\\t\\t\\t</div>\\n\\t\\t\\t</section>\\n\\t\\t</div><!-- / .row -->\\n\\t</main>\\n<footer role=\"contentinfo\" id=\"site-footer\">\\n\\t<div class=\"container\">\\n\\t\\t<div id=\"menu-prefooter\" class=\"row\">\\n\\t\\t\\t<div class=\"footer-logo\">\\n\\t\\t\\t\\t<!-- CCIS wordmark only -->\\n\\t\\t\\t\\t<svg version=\"1.1\" xmlns=\"http://www.w3.org/2000/svg\" xmlns:xlink=\"http://www.w3.org/1999/xlink\" x=\"0px\" y=\"0px\"\\n\\t\\t\\t\\t\\t viewBox=\"0 0 323 20.5\" style=\"enable-background:new 0 0 323 20.5;\" xml:space=\"preserve\">\\n\\t\\t\\t\\t<style type=\"text/css\">\\n\\t\\t\\t\\t\\t.st0{fill:#625445;}\\n\\t\\t\\t\\t</style>\\n\\t\\t\\t\\t<g>\\n\\t\\t\\t\\t\\t<path class=\"st0\" d=\"M0,0.3h2.6v7h0l4.9-7h2.8L5.7,7.1l5.1,9.3H7.9L4,9.2l-1.4,2v5.2H0V0.3z\"/>\\n\\t\\t\\t\\t\\t<path class=\"st0\" d=\"M11.5,0.3h2.4v5.3l0.1,0c0.6-1,1.8-1.7,3-1.7c1.8,0,3,0.8,3,3.3v9.1h-2.4V8.1c0-1.6-0.5-2.2-1.7-2.2\\n\\t\\t\\t\\t\\t\\tc-1,0-1.9,0.8-1.9,2.4v8.1h-2.4L11.5,0.3z\"/>\\n\\t\\t\\t\\t\\t<path class=\"st0\" d=\"M26.4,4c3.5,0,4.5,2.6,4.5,6.4s-1.1,6.4-4.5,6.4s-4.5-2.6-4.5-6.4S22.9,4,26.4,4z M26.4,14.9\\n\\t\\t\\t\\t\\t\\tc1.8,0,2.1-1.5,2.1-4.6c0-2.7-0.3-4.6-2.1-4.6c-1.8,0-2.1,1.9-2.1,4.6C24.3,13.4,24.6,14.9,26.4,14.9z\"/>\\n\\t\\t\\t\\t\\t<path class=\"st0\" d=\"M39,15L39,15c-0.7,1.1-1.9,1.8-3.2,1.7c-1.8,0-3-0.8-3-4V4.3h2.4V13c0,1.3,0.6,1.8,1.6,1.8c1,0,2-0.7,2-2V4.3\\n\\t\\t\\t\\t\\t\\th2.4v12.1h-2.3L39,15z\"/>\\n\\t\\t\\t\\t\\t<path class=\"st0\" d=\"M43.6,4.3H46v1.9h0C46.6,4.8,47.5,4,48.9,4c0.2,0,0.4,0,0.6,0.1v2.5c-0.3-0.1-0.7-0.1-1-0.1\\n\\t\\t\\t\\t\\t\\tc-1.1,0-2.4,0.5-2.4,2.7v7.3h-2.4L43.6,4.3z\"/>\\n\\t\\t\\t\\t\\t<path class=\"st0\" d=\"M52.7,4.3l2.1,9.1h0l1.9-9.1h2.5L56,16.8c-0.9,3.3-1.7,3.7-4.2,3.7c-0.3,0-0.6,0-1-0.1v-1.9\\n\\t\\t\\t\\t\\t\\tc0.3,0.1,0.5,0.1,0.8,0.1c0.8,0,1.4-0.2,1.6-0.9l0.3-1L50.1,4.3L52.7,4.3z\"/>\\n\\t\\t\\t\\t\\t<path class=\"st0\" d=\"M76.1,10.6V11c0,2.9-1.2,5.7-4.9,5.7c-4,0-5.3-2.6-5.3-8.3S67.1,0,71.2,0C75.8,0,76,3.4,76,5v0.3h-2.6V5.1\\n\\t\\t\\t\\t\\t\\tc0-1.5-0.4-3.2-2.3-3.1c-1.9,0-2.7,1.2-2.7,6.3s0.9,6.5,2.7,6.5c2.1,0,2.4-2.4,2.4-3.9v-0.3L76.1,10.6z\"/>\\n\\t\\t\\t\\t\\t<path class=\"st0\" d=\"M81.8,4c3.5,0,4.5,2.6,4.5,6.4s-1.1,6.4-4.5,6.4s-4.5-2.6-4.5-6.4S78.3,4,81.8,4z M81.8,14.9\\n\\t\\t\\t\\t\\t\\tc1.8,0,2.1-1.5,2.1-4.6c0-2.7-0.3-4.6-2.1-4.6s-2.1,1.9-2.1,4.6C79.7,13.4,80,14.9,81.8,14.9z\"/>\\n\\t\\t\\t\\t\\t<path class=\"st0\" d=\"M88.3,0.3h2.4v16.1h-2.4V0.3z\"/>\\n\\t\\t\\t\\t\\t<path class=\"st0\" d=\"M93.3,0.3h2.4v16.1h-2.4V0.3z\"/>\\n\\t\\t\\t\\t\\t<path class=\"st0\" d=\"M100.3,10.6v0.7c0,1.6,0.2,3.7,2,3.7c1.7,0,1.9-2,1.9-2.7h2.3c0,2.7-1.6,4.4-4.3,4.4c-2,0-4.4-0.6-4.4-6.2\\n\\t\\t\\t\\t\\t\\tc0-3.2,0.7-6.5,4.5-6.5c3.4,0,4.3,2,4.3,5.4v1.3L100.3,10.6z M104.2,9V8.3c0-1.5-0.5-2.7-1.9-2.7c-1.6,0-2,1.5-2,3.1V9L104.2,9z\"/>\\n\\t\\t\\t\\t\\t<path class=\"st0\" d=\"M111,17.4c0,0.7,0.7,1.4,1.8,1.4c1.3,0,2-0.9,2-2.3v-2h0c-0.5,1.1-1.6,1.7-2.7,1.7c-2.8,0-3.6-2.8-3.6-6.1\\n\\t\\t\\t\\t\\t\\tc0-2.7,0.4-6.2,3.8-6.2c1.4,0,2.4,0.9,2.7,1.8h0V4.3h2.3v11.5c0,2.9-1.3,4.7-4.5,4.7c-3.6,0-4-2.1-4-3.1L111,17.4z M112.7,14.4\\n\\t\\t\\t\\t\\t\\tc1.9,0,2.1-2.4,2.1-4.3c0-2-0.2-4.2-1.9-4.2c-1.8,0-2,1.8-2,4C110.8,12,110.9,14.4,112.7,14.4z\"/>\\n\\t\\t\\t\\t\\t<path class=\"st0\" d=\"M121.5,10.6v0.7c0,1.6,0.2,3.7,2,3.7c1.7,0,1.9-2,1.9-2.7h2.3c0,2.7-1.6,4.4-4.3,4.4c-2,0-4.4-0.6-4.4-6.2\\n\\t\\t\\t\\t\\t\\tc0-3.2,0.7-6.5,4.5-6.5c3.4,0,4.3,2,4.3,5.4v1.3L121.5,10.6z M125.4,9V8.3c0-1.5-0.5-2.7-1.9-2.7c-1.6,0-2,1.5-2,3.1V9L125.4,9z\"/>\\n\\t\\t\\t\\t\\t<path class=\"st0\" d=\"M139.3,4c3.5,0,4.5,2.6,4.5,6.4s-1.1,6.4-4.5,6.4s-4.5-2.6-4.5-6.4S135.8,4,139.3,4z M139.3,14.9\\n\\t\\t\\t\\t\\t\\tc1.8,0,2.1-1.5,2.1-4.6c0-2.7-0.3-4.6-2.1-4.6s-2.1,1.9-2.1,4.6C137.2,13.4,137.5,14.9,139.3,14.9z\"/>\\n\\t\\t\\t\\t\\t<path class=\"st0\" d=\"M146.4,6.1h-1.7V4.3h1.7V3.2c0-2.3,1.1-3,3.1-3c0.4,0,0.9,0,1.3,0.1v1.9h-0.7c-0.9,0-1.3,0.3-1.3,1.1v1.1h2\\n\\t\\t\\t\\t\\t\\tv1.8h-2v10.3h-2.4L146.4,6.1z\"/>\\n\\t\\t\\t\\t\\t<path class=\"st0\" d=\"M167.3,10.6V11c0,2.9-1.2,5.7-4.9,5.7c-4,0-5.3-2.6-5.3-8.3s1.3-8.3,5.3-8.3c4.6,0,4.8,3.4,4.8,5v0.3h-2.6V5.1\\n\\t\\t\\t\\t\\t\\tc0-1.5-0.5-3.2-2.3-3.1c-1.9,0-2.7,1.2-2.7,6.3s0.9,6.5,2.7,6.5c2.1,0,2.4-2.4,2.4-3.9v-0.3L167.3,10.6z\"/>\\n\\t\\t\\t\\t\\t<path class=\"st0\" d=\"M173,4c3.5,0,4.5,2.6,4.5,6.4s-1.1,6.4-4.5,6.4c-3.4,0-4.5-2.6-4.5-6.4S169.5,4,173,4z M173,14.9\\n\\t\\t\\t\\t\\t\\tc1.8,0,2.1-1.5,2.1-4.6c0-2.7-0.3-4.6-2.1-4.6s-2.1,1.9-2.1,4.6C171,13.4,171.3,14.9,173,14.9z\"/>\\n\\t\\t\\t\\t\\t<path class=\"st0\" d=\"M179.5,4.3h2.3v1.4h0.1c0.6-1.1,1.7-1.7,2.9-1.7c1.7,0,2.5,0.8,2.8,1.8c0.7-1.2,1.6-1.8,3.1-1.8\\n\\t\\t\\t\\t\\t\\tc1.7,0,2.9,0.9,2.9,3.2v9.2h-2.4V8.1c0-1.6-0.5-2.2-1.5-2.2c-1,0-1.9,0.8-1.9,2.4v8.1h-2.4V8.1c0-1.6-0.5-2.2-1.5-2.2\\n\\t\\t\\t\\t\\t\\tc-1,0-1.9,0.8-1.9,2.4v8.1h-2.4L179.5,4.3z\"/>\\n\\t\\t\\t\\t\\t<path class=\"st0\" d=\"M196.1,4.3h2.3v1.5h0c0.5-1.1,1.4-1.8,2.7-1.8c2.8,0,3.9,2.4,3.9,6.5c0,5.1-2.1,6.2-3.7,6.2\\n\\t\\t\\t\\t\\t\\tc-1.3,0-2.3-0.7-2.7-1.7h0v5.4h-2.4L196.1,4.3z M200.4,14.8c1.4,0,2-1,2-4.4c0-2.7-0.4-4.5-2-4.5c-1.7,0-2,1.7-2,4.3\\n\\t\\t\\t\\t\\t\\tC198.4,13.1,198.7,14.8,200.4,14.8L200.4,14.8z\"/>\\n\\t\\t\\t\\t\\t<path class=\"st0\" d=\"M213.1,15L213.1,15c-0.7,1.1-1.9,1.8-3.2,1.7c-1.8,0-3-0.8-3-4V4.3h2.4V13c0,1.3,0.6,1.8,1.6,1.8\\n\\t\\t\\t\\t\\t\\tc1,0,2-0.7,2-2V4.3h2.4v12.1h-2.3L213.1,15z\"/>\\n\\t\\t\\t\\t\\t<path class=\"st0\" d=\"M216.6,4.3h1.7V0.8h2.4v3.4h2v1.8h-2v7.2c0,0.9,0.3,1.3,1.1,1.3c0.3,0,0.6,0,0.9-0.1v1.8\\n\\t\\t\\t\\t\\t\\tc-0.6,0.1-1.3,0.2-2,0.2c-1.6,0-2.5-0.4-2.5-2.9V6.1h-1.7L216.6,4.3z\"/>\\n\\t\\t\\t\\t\\t<path class=\"st0\" d=\"M226.1,10.6v0.7c0,1.6,0.2,3.7,2,3.7c1.7,0,1.9-2,1.9-2.7h2.3c0,2.7-1.6,4.4-4.3,4.4c-2,0-4.4-0.6-4.4-6.2\\n\\t\\t\\t\\t\\t\\tc0-3.2,0.7-6.5,4.5-6.5c3.4,0,4.3,2,4.3,5.4v1.3L226.1,10.6z M230,9V8.3c0-1.5-0.5-2.7-1.9-2.7c-1.6,0-2,1.5-2,3.1V9L230,9z\"/>\\n\\t\\t\\t\\t\\t<path class=\"st0\" d=\"M234.4,4.3h2.4v1.9h0c0.5-1.3,1.4-2.2,2.8-2.2c0.2,0,0.4,0,0.6,0.1v2.5c-0.3-0.1-0.7-0.1-1-0.1\\n\\t\\t\\t\\t\\t\\tc-1.1,0-2.4,0.5-2.4,2.7v7.3h-2.4L234.4,4.3z\"/>\\n\\t\\t\\t\\t\\t<path class=\"st0\" d=\"M249,11.4v0.4c0,2,0.9,2.9,2.6,2.9c1.6,0,2.4-1.1,2.4-2.3c0-1.7-0.9-2.4-2.3-2.9L250,9\\n\\t\\t\\t\\t\\t\\tc-2.3-0.9-3.4-2.1-3.4-4.4c0-2.9,2-4.5,5-4.5c4.1,0,4.5,2.6,4.5,4.2v0.4h-2.6V4.3c0-1.5-0.7-2.3-2.3-2.3c-1.1,0-2.2,0.6-2.2,2.3\\n\\t\\t\\t\\t\\t\\tc0,1.4,0.7,2.1,2.4,2.7l1.7,0.6c2.3,0.8,3.3,2,3.3,4.3c0,3.4-2.1,4.8-5.3,4.8c-4,0-4.9-2.7-4.9-4.9v-0.4H249z\"/>\\n\\t\\t\\t\\t\\t<path class=\"st0\" d=\"M266.7,12c-0.2,2.9-1.2,4.7-4.1,4.7c-3.5,0-4.5-2.6-4.5-6.4s1-6.4,4.5-6.4c3.6,0,4.2,2.8,4.2,4.3h-2.4\\n\\t\\t\\t\\t\\t\\tc0-1.1-0.3-2.6-1.7-2.5c-1.8,0-2.1,1.9-2.1,4.6s0.3,4.6,2.1,4.6c1.3,0,1.8-1.1,1.8-2.9L266.7,12z\"/>\\n\\t\\t\\t\\t\\t<path class=\"st0\" d=\"M268.7,0.1h2.4v2.4h-2.4V0.1z M268.7,4.3h2.4v12.1h-2.4V4.3z\"/>\\n\\t\\t\\t\\t\\t<path class=\"st0\" d=\"M275.6,10.6v0.7c0,1.6,0.2,3.7,2,3.7c1.7,0,1.9-2,1.9-2.7h2.3c0,2.7-1.6,4.4-4.3,4.4c-2,0-4.4-0.6-4.4-6.2\\n\\t\\t\\t\\t\\t\\tc0-3.2,0.7-6.5,4.5-6.5c3.4,0,4.3,2,4.3,5.4v1.3L275.6,10.6z M279.5,9V8.3c0-1.5-0.5-2.7-1.9-2.7c-1.6,0-2,1.5-2,3.1V9L279.5,9z\"/>\\n\\t\\t\\t\\t\\t<path class=\"st0\" d=\"M284,4.3h2.3v1.4h0.1c0.6-1.1,1.8-1.8,3.1-1.7c1.8,0,3,0.8,3,3.3v9.1H290V8.1c0-1.6-0.5-2.2-1.7-2.2\\n\\t\\t\\t\\t\\t\\tc-1,0-1.9,0.8-1.9,2.4v8.1H284L284,4.3z\"/>\\n\\t\\t\\t\\t\\t<path class=\"st0\" d=\"M303,12c-0.2,2.9-1.1,4.7-4.1,4.7c-3.5,0-4.5-2.6-4.5-6.4s1-6.4,4.5-6.4c3.6,0,4.2,2.8,4.2,4.3h-2.4\\n\\t\\t\\t\\t\\t\\tc0-1.1-0.3-2.6-1.7-2.5c-1.8,0-2.1,1.9-2.1,4.6s0.3,4.6,2.1,4.6c1.3,0,1.8-1.1,1.8-2.9L303,12z\"/>\\n\\t\\t\\t\\t\\t<path class=\"st0\" d=\"M306.9,10.6v0.7c0,1.6,0.2,3.7,2,3.7c1.7,0,1.9-2,1.9-2.7h2.3c0,2.7-1.6,4.4-4.3,4.4c-2,0-4.4-0.6-4.4-6.2\\n\\t\\t\\t\\t\\t\\tc0-3.2,0.7-6.5,4.5-6.5c3.4,0,4.3,2,4.3,5.4v1.3L306.9,10.6z M310.8,9V8.3c0-1.5-0.5-2.7-1.9-2.7c-1.6,0-2,1.5-2,3.1V9L310.8,9z\"/>\\n\\t\\t\\t\\t\\t<path class=\"st0\" d=\"M320.4,7.8V7.5c0-1-0.3-1.9-1.6-1.9c-1,0-1.7,0.4-1.7,1.6c0,0.9,0.4,1.3,1.7,1.8l1.6,0.5\\n\\t\\t\\t\\t\\t\\tc1.8,0.6,2.6,1.6,2.6,3.5c0,2.6-1.9,3.7-4.3,3.7c-3.1,0-4-1.4-4-3.8v-0.4h2.2v0.4c0,1.4,0.5,2.2,1.9,2.2c1.3,0,2-0.7,2-1.8\\n\\t\\t\\t\\t\\t\\tc0-0.9-0.5-1.5-1.3-1.8l-2-0.7c-1.8-0.6-2.6-1.6-2.6-3.5c0-2.3,1.6-3.3,4.1-3.3c3.1,0,3.8,1.8,3.8,3.3v0.5L320.4,7.8z\"/>\\n\\t\\t\\t\\t</g>\\n\\t\\t\\t\\t</svg>\\n        <span>Northeastern University</span>\\n\\t\\t\\t</div>\\n\\t\\t\\t<nav class=\"footer-nav\">\\n\\t\\t\\t\\t<ul id=\"menu-action\" class=\"menu menu-horizontal menu-action\"><li id=\"menu-item-412\" class=\"menu-item menu-item-type-post_type menu-item-object-page menu-item-has-children menu-item-412\"><a href=\"https://www.khoury.northeastern.edu/apply/\">Apply</a></li>\\n<li id=\"menu-item-411\" class=\"menu-item menu-item-type-post_type menu-item-object-page menu-item-411\"><a href=\"https://www.khoury.northeastern.edu/inquire/\">Inquire</a></li>\\n<li id=\"menu-item-410\" class=\"menu-item menu-item-type-post_type menu-item-object-page menu-item-410\"><a href=\"https://www.khoury.northeastern.edu/alumni-and-friends/give/\">Give</a></li>\\n</ul><ul id=\"menu-contact\" class=\"menu menu-horizontal\"><li class=\"menu-item menu-item-type-custom menu-item-object-custom menu-item-has-children menu-item-3010\"><a rel=\"nofollow\" href=\"#\">Contact &#8211; Parent</a>\\n<ul class=\"sub-menu\">\\n\\t<li class=\"menu-item menu-item-type-post_type menu-item-object-page menu-item-4598\"><a href=\"https://www.khoury.northeastern.edu/directions-and-parking/\">Directions &#038; Parking</a></li>\\n\\t<li class=\"menu-item menu-item-type-post_type menu-item-object-page menu-item-2530\"><a href=\"https://www.khoury.northeastern.edu/facilities/\">Facilities</a></li>\\n\\t<li class=\"menu-item menu-item-type-post_type menu-item-object-page menu-item-has-children menu-item-5831\"><a href=\"https://www.khoury.northeastern.edu/systems/\">Systems</a></li>\\n\\t<li class=\"menu-item menu-item-type-post_type menu-item-object-page menu-item-has-children menu-item-4627\"><a href=\"https://www.khoury.northeastern.edu/about/\">About</a></li>\\n\\t<li class=\"menu-item menu-item-type-custom menu-item-object-custom menu-item-6161\"><a href=\"https://www.ccis.northeastern.edu/events/\">Events</a></li>\\n\\t<li class=\"menu-item menu-item-type-post_type menu-item-object-page current_page_parent menu-item-4629\"><a href=\"https://www.khoury.northeastern.edu/news/\">News</a></li>\\n</ul>\\n</li>\\n</ul><ul id=\"menu-social\" class=\"menu menu-horizontal\"><li id=\"menu-item-379\" class=\"menu-item menu-item-type-custom menu-item-object-custom menu-item-379\"><a href=\"https://www.youtube.com/channel/UChz4r4VXwPxTqx083Am0IeQ\">Youtube</a></li>\\n<li id=\"menu-item-380\" class=\"menu-item menu-item-type-custom menu-item-object-custom menu-item-380\"><a href=\"http://www.twitter.com/khourycollege\">Twitter</a></li>\\n<li id=\"menu-item-381\" class=\"menu-item menu-item-type-custom menu-item-object-custom menu-item-381\"><a href=\"https://www.linkedin.com/groups/1943637\">LinkedIn</a></li>\\n<li id=\"menu-item-383\" class=\"menu-item menu-item-type-custom menu-item-object-custom menu-item-383\"><a href=\"http://www.instagram.com/khourycollege\">Instagram</a></li>\\n<li id=\"menu-item-382\" class=\"menu-item menu-item-type-custom menu-item-object-custom menu-item-382\"><a href=\"http://www.facebook.com/khourycollege\">Facebook</a></li>\\n</ul>\\t\\t\\t</nav>\\n\\t\\t</div><!-- / #menu-prefooter -->\\n\\t</div><!-- / .container -->\\n\\t<div id=\"menu-footer-area\">\\n\\t\\t<div class=\"container\">\\n\\t\\t\\t<div class=\"row\">\\n\\t\\t\\t\\t<div class=\"footer-logo\">\\n\\t\\t\\t\\t\\t<a href=\"http://www.northeastern.edu\" target=\"_blank\">\\n\\t\\t\\t\\t\\t<!-- northeastern wordmark only -->\\n\\t\\t\\t\\t\\t<svg version=\"1.1\" id=\"nu_logo\" xmlns=\"http://www.w3.org/2000/svg\" xmlns:xlink=\"http://www.w3.org/1999/xlink\" x=\"0px\" y=\"0px\"  viewBox=\"0 0 500 50\" style=\"enable-background:new 0 0 500 50;\" xml:space=\"preserve\">\\n\\t\\t\\t\\t\\t\\t<style type=\"text/css\"> .st2{fill:#FFFFFF;}</style>\\n\\t\\t\\t\\t\\t\\t<g class=\"st2\">\\n\\t\\t\\t\\t\\t\\t\\t<path d=\"M321.472,1.443v1.151c-5.079,0.367-5.079,3.037-5.079,7.328v9.788c0,4.554,0,6.805-1.36,9.318 c-1.833,3.348-5.968,5.967-12.196,5.967c-7.171,0-10.364-3.089-11.726-5.078c-1.727-2.565-1.727-4.973-1.727-10.835v-8.899 c0-7.014-0.052-7.59-4.658-7.59h-0.786V1.443h14.97v1.151c-5.181,0-5.338,0-5.338,7.486v9.159c0,4.973,0,7.747,1.308,9.945 c1.204,2.042,4.082,4.084,9.055,4.084c3.35,0,7.486-1.204,9.737-4.711c1.464-2.25,1.464-4.658,1.464-9.055V9.452 c0-4.188,0-6.491-5.285-6.858V1.443H321.472z\"/>\\n\\t\\t\\t\\t\\t\\t\\t<path d=\"M327.174,12.592c0.417,1.204,0.626,3.245,0.68,4.344c2.668-2.931,5.025-4.344,8.06-4.344 c4.816,0,6.543,3.349,6.543,6.856v7.747c0,5.705,0,6.018,3.454,6.018v1.152h-10.731v-1.152c3.613,0,3.613-0.313,3.613-6.018v-6.752 c0-4.763-1.675-6.282-4.24-6.282c-2.985,0-4.921,2.513-6.7,4.502v8.532c0,5.653,0,6.018,3.454,6.018v1.152h-10.573v-1.152 c3.454,0,3.454-0.313,3.454-6.018v-6.23c0-5.705,0-6.019-3.454-6.019v-1.152c2.146-0.314,4.868-0.838,5.757-1.204H327.174z\"/>\\n\\t\\t\\t\\t\\t\\t\\t<path d=\"M355.591,29.236c0,3.352,0.315,3.978,2.879,3.978h0.786v1.152h-11.149v-1.152h0.889 c2.67,0,3.193-0.418,3.193-3.978v-8.374c0-5.705-0.313-5.757-4.082-5.757v-1.152c1.57-0.052,4.764-0.732,6.962-1.36h0.523V29.236z\" />\\n\\t\\t\\t\\t\\t\\t\\t<circle cx=\"353.371\" cy=\"5.968\" r=\"2.261\"/>\\n\\t\\t\\t\\t\\t\\t\\t<path d=\"M371.136,35.204l-7.432-16.75c-1.362-3.036-1.884-3.769-3.821-3.874v-1.152h9.422v1.152 c-1.362,0-2.67,0-2.67,1.256c0,0.209,0.052,0.576,0.575,1.78l6.072,13.661l5.079-11.358c0.732-1.675,1.203-2.827,1.203-3.507 c0-1.57-1.623-1.781-2.565-1.833v-1.152h7.065v1.152c-2.198,0.157-3.035,2.094-4.658,5.653l-6.804,14.97H371.136z\"/>\\n\\t\\t\\t\\t\\t\\t\\t<path d=\"M388.669,21.438c-0.054,0.472-0.105,1.204-0.105,1.57c0,6.647,2.094,10.836,7.171,10.836 c2.931,0,5.287-1.309,6.752-4.189h1.204c-1.308,3.455-4.397,5.549-8.637,5.549c-5.863,0-10.731-4.397-10.731-11.149 c0-6.491,4.24-11.463,10.521-11.463c5.915,0,8.9,3.873,9.055,8.845H388.669z M388.775,20.392h11.201 c-0.054-2.461-0.734-6.648-5.235-6.648C390.606,13.743,389.036,17.512,388.775,20.392z\"/>\\n\\t\\t\\t\\t\\t\\t\\t<path d=\"M414.107,27.196c0,5.339,0,6.018,3.087,6.018h0.734v1.152H406.83v-1.152c3.612,0,3.612-0.208,3.612-6.018 v-5.915c0-5.811,0-6.019-3.612-6.019V14.11c2.355-0.314,5.077-1.152,5.915-1.414l0.367-0.104c0.261,0.837,0.734,2.513,0.734,5.495 c1.621-3.873,5.39-5.495,8.059-5.495c2.724,0,4.032,1.936,4.032,3.193c0,0.941-0.682,1.884-1.781,1.884 c-1.151,0-1.727-0.785-2.04-1.674c-0.211-0.576-0.628-1.57-1.833-1.57c-2.094,0-6.176,2.513-6.176,7.851V27.196z\"/>\\n\\t\\t\\t\\t\\t\\t\\t<path d=\"M427.871,28.138h0.993c0.524,2.513,2.355,5.914,7.173,5.914c4.344,0,4.868-2.668,4.868-3.715 c0-2.565-2.722-3.769-6.02-4.973c-4.816-1.779-6.962-3.297-6.962-6.962c0-2.668,1.99-5.809,6.7-5.809 c2.459,0,4.24,0.994,5.444,2.198c0.417-0.471,0.941-1.727,0.993-1.833h0.943v6.491h-0.943c-0.471-2.407-2.565-5.705-6.28-5.705 c-3.404,0-4.555,1.675-4.555,3.194c0,2.46,1.988,3.349,5.811,4.71c4.186,1.467,7.379,3.194,7.379,7.381 c0,3.56-2.565,6.176-7.327,6.176c-3.089,0-4.921-1.204-6.124-2.356c-0.524,0.577-0.995,1.675-1.1,2.147h-0.993V28.138z\"/>\\n\\t\\t\\t\\t\\t\\t\\t<path d=\"M454.25,29.236c0,3.352,0.313,3.978,2.878,3.978h0.786v1.152h-11.149v-1.152h0.889 c2.67,0,3.194-0.418,3.194-3.978v-8.374c0-5.705-0.315-5.757-4.084-5.757v-1.152c1.57-0.052,4.764-0.732,6.962-1.36h0.524V29.236z\" />\\n\\t\\t\\t\\t\\t\\t\\t<circle cx=\"452.055\" cy=\"5.968\" r=\"2.261\"/>\\n\\t\\t\\t\\t\\t\\t\\t<path d=\"M466.601,14.581v12.667c0,2.879,0,6.178,3.141,6.178c1.779,0,2.722-1.415,3.193-2.095l0.786,0.472 c-1.623,3.402-4.973,3.402-5.34,3.402c-1.464,0-2.616-0.315-3.454-0.994c-1.362-1.048-1.988-2.984-1.988-6.072V14.581H459.9v-1.152 c2.303-0.105,5.077-1.622,5.863-6.543h0.837v6.543h6.333v1.152H466.601z\"/>\\n\\t\\t\\t\\t\\t\\t\\t<path d=\"M493.765,17.983c0.365-0.838,0.732-1.622,0.732-2.041c0-1.099-1.884-1.361-2.826-1.361v-1.152H499v1.152 c-2.618,0.157-3.142,1.466-4.449,4.606l-9.319,22.508c-1.362,3.245-2.616,5.548-4.658,5.548c-0.838,0-1.621-0.524-1.621-1.518 c0-1.727,1.727-2.513,2.668-2.931c1.781-0.786,2.357-1.099,3.089-2.931l1.988-4.973l-7.851-16.854 c-1.204-2.565-1.621-3.403-4.082-3.455v-1.152h9.63v1.152c-1.308,0.105-2.565,0.157-2.565,1.047c0,0.419,0.628,1.728,0.995,2.565 l5.757,12.248L493.765,17.983z\"/>\\n\\t\\t\\t\\t\\t\\t\\t<path d=\"M7.857,4.245v23.449c0,3.455,0.732,5.392,6.071,5.549v1.151H1v-1.151c5.705-0.261,5.601-2.616,5.601-5.549 V9.741c0-6.648-0.366-7.119-5.129-7.119V1.472h9.421l19.629,26.066V7.595c0-2.775-0.366-4.921-5.915-4.973V1.472h12.562v1.151 c-5.077,0.471-5.391,2.251-5.391,5.338v27.218h-0.732L7.857,4.245z\"/>\\n\\t\\t\\t\\t\\t\\t\\t<path d=\"M47.843,12.62c6.176,0,11.202,4.658,11.202,11.306c0,7.432-5.6,11.305-11.202,11.305 c-5.391,0-11.148-3.611-11.148-11.358C36.695,17.383,41.615,12.62,47.843,12.62z M47.843,33.976c4.816,0,6.962-3.297,6.962-9.892 c0-5.654-1.518-10.208-6.962-10.208c-5.286,0-6.909,4.45-6.909,10.155C40.934,30.73,43.081,33.976,47.843,33.976z\"/>\\n\\t\\t\\t\\t\\t\\t\\t<path d=\"M68.36,27.223c0,5.338,0,6.019,3.088,6.019h0.732v1.151H61.084v-1.151c3.612,0,3.612-0.209,3.612-6.019v-5.915 c0-5.81,0-6.019-3.612-6.019v-1.152c2.356-0.314,5.078-1.152,5.915-1.413l0.366-0.105c0.262,0.837,0.733,2.512,0.733,5.495 c1.623-3.873,5.391-5.495,8.061-5.495c2.721,0,4.03,1.936,4.03,3.193c0,0.942-0.68,1.884-1.779,1.884 c-1.152,0-1.727-0.785-2.042-1.674c-0.209-0.575-0.628-1.57-1.832-1.57c-2.094,0-6.176,2.513-6.176,7.851V27.223z\"/>\\n\\t\\t\\t\\t\\t\\t\\t<path d=\"M88.668,14.609v12.667c0,2.879,0,6.176,3.14,6.176c1.779,0,2.722-1.414,3.192-2.094l0.786,0.471 c-1.622,3.402-4.973,3.402-5.338,3.402c-1.466,0-2.618-0.315-3.455-0.994c-1.361-1.046-1.989-2.984-1.989-6.072V14.609h-3.036 v-1.152c2.303-0.104,5.077-1.621,5.862-6.543h0.838v6.543H95v1.152H88.668z\"/>\\n\\t\\t\\t\\t\\t\\t\\t<path d=\"M119.548,27.223c0,5.758,0,6.019,3.558,6.019v1.151h-10.834v-1.151c3.611,0,3.611-0.261,3.611-6.019v-6.752 c0-4.869-1.465-6.281-4.554-6.281c-2.408,0-4.71,2.46-6.385,4.606v8.426c0,5.6,0,6.019,3.298,6.019v1.151H97.617v-1.151 c3.664,0,3.664-0.209,3.664-6.019V8.118c0-3.664,0-4.868-3.454-4.868V2.1c2.145,0,5.025-0.472,6.699-1.1h0.366v15.964 c2.617-2.774,4.92-4.344,7.642-4.344c4.658,0,7.014,2.46,7.014,7.223V27.223z\"/>\\n\\t\\t\\t\\t\\t\\t\\t<path d=\"M128.287,21.465c-0.053,0.472-0.105,1.205-0.105,1.57c0,6.648,2.094,10.835,7.171,10.835 c2.931,0,5.287-1.309,6.753-4.188h1.203c-1.308,3.454-4.396,5.548-8.635,5.548c-5.863,0-10.731-4.397-10.731-11.148 c0-6.491,4.24-11.463,10.521-11.463c5.914,0,8.899,3.873,9.055,8.845H128.287z M128.392,20.418h11.2 c-0.052-2.46-0.732-6.647-5.234-6.647C130.224,13.772,128.654,17.54,128.392,20.418z\"/>\\n\\t\\t\\t\\t\\t\\t\\t<path d=\"M167.367,30.573c-0.42,2.457-1.491,2.606-2.118,2.606c-1.623,0-1.651-1.15-1.651-4.752v-8.479 c0-3.089-0.399-7.328-7.623-7.328c-5.234,0-8.427,2.669-8.427,4.763c0,0.942,0.576,1.518,1.413,1.518 c1.361,0,1.885-0.995,2.199-2.146c0.365-1.414,1.151-2.983,4.501-2.983c3.925,0,4.396,2.513,4.396,5.6v1.308l-3.978,1.362 c-7.38,2.513-9.63,5.443-9.63,8.427c0,2.983,2.354,4.447,5.391,4.447c2.51,0,5.128-1.045,8.217-3.663 c0.262,1.256,0.942,3.663,4.011,3.663c2.879,0,4.136-1.987,4.24-4.343H167.367z M160.057,30.089 c-2.107,1.822-4.954,3.271-6.89,3.271c-2.221,0-3.302-1.609-3.302-3.54c0-2.895,2.733-5.523,7.174-6.971l3.018-0.963V30.089z\"/>\\n\\t\\t\\t\\t\\t\\t\\t<path d=\"M170.439,28.165h0.994c0.523,2.513,2.355,5.914,7.171,5.914c4.345,0,4.867-2.668,4.867-3.715 c0-2.565-2.721-3.768-6.019-4.972c-4.815-1.779-6.962-3.297-6.962-6.962c0-2.668,1.99-5.809,6.7-5.809 c2.46,0,4.24,0.994,5.443,2.199c0.42-0.472,0.943-1.728,0.995-1.833h0.941v6.49h-0.941c-0.471-2.407-2.566-5.705-6.281-5.705 c-3.402,0-4.553,1.675-4.553,3.193c0,2.46,1.989,3.349,5.81,4.71c4.187,1.466,7.38,3.194,7.38,7.381c0,3.559-2.566,6.175-7.33,6.175 c-3.088,0-4.919-1.204-6.123-2.356c-0.523,0.577-0.993,1.675-1.098,2.147h-0.994V28.165z\"/>\\n\\t\\t\\t\\t\\t\\t\\t<path d=\"M195.561,14.609v12.667c0,2.879,0,6.176,3.141,6.176c1.779,0,2.72-1.414,3.193-2.094l0.786,0.471 c-1.623,3.402-4.973,3.402-5.34,3.402c-1.466,0-2.616-0.315-3.454-0.994c-1.362-1.046-1.99-2.984-1.99-6.072V14.609h-3.035v-1.152 c2.303-0.104,5.077-1.621,5.863-6.543h0.837v6.543h6.334v1.152H195.561z\"/>\\n\\t\\t\\t\\t\\t\\t\\t<path d=\"M208.226,21.465c-0.052,0.472-0.105,1.205-0.105,1.57c0,6.648,2.094,10.835,7.173,10.835 c2.93,0,5.285-1.309,6.751-4.188h1.204c-1.308,3.454-4.397,5.548-8.637,5.548c-5.861,0-10.731-4.397-10.731-11.148 c0-6.491,4.24-11.463,10.521-11.463c5.915,0,8.898,3.873,9.055,8.845H208.226z M208.332,20.418h11.201 c-0.054-2.46-0.734-6.647-5.235-6.647C210.163,13.772,208.593,17.54,208.332,20.418z\"/>\\n\\t\\t\\t\\t\\t\\t\\t<path d=\"M233.034,27.223c0,5.338,0,6.019,3.089,6.019h0.734v1.151h-11.097v-1.151c3.613,0,3.613-0.209,3.613-6.019 v-5.915c0-5.81,0-6.019-3.613-6.019v-1.152c2.355-0.314,5.077-1.152,5.915-1.413l0.367-0.105c0.261,0.837,0.732,2.512,0.732,5.495 c1.623-3.873,5.39-5.495,8.06-5.495c2.722,0,4.03,1.936,4.03,3.193c0,0.942-0.678,1.884-1.779,1.884 c-1.151,0-1.727-0.785-2.04-1.674c-0.211-0.575-0.63-1.57-1.834-1.57c-2.092,0-6.176,2.513-6.176,7.851V27.223z\"/>\\n\\t\\t\\t\\t\\t\\t\\t<path d=\"M253.133,12.62c0.417,1.204,0.628,3.245,0.68,4.344c2.668-2.931,5.024-4.344,8.06-4.344 c4.814,0,6.543,3.349,6.543,6.856v7.747c0,5.706,0,6.019,3.454,6.019v1.151H261.14v-1.151c3.611,0,3.611-0.313,3.611-6.019v-6.752 c0-4.763-1.675-6.281-4.238-6.281c-2.985,0-4.921,2.513-6.7,4.501v8.532c0,5.652,0,6.019,3.454,6.019v1.151h-10.573v-1.151 c3.454,0,3.454-0.313,3.454-6.019v-6.229c0-5.705,0-6.019-3.454-6.019v-1.152c2.147-0.314,4.868-0.838,5.757-1.204H253.133z\"/>\\n\\t\\t\\t\\t\\t\\t</g>\\n\\t\\t\\t\\t\\t</svg>\\n\\n\\t\\t\\t\\t\\t<span>Khoury College of Computer and Information Sciences</span>\\n\\t\\t\\t\\t\\t</a>\\n\\t\\t\\t\\t</div><!-- / .footer-logo -->\\n\\t\\t\\t\\t<div class=\"footer-nav\">\\n\\t\\t\\t\\t\\t<nav id=\"menu-footer\" class=\"menu-links-menu-container\"><ul id=\"menu-links-menu\" class=\"menu menu-horizontal\"><li id=\"menu-item-377\" class=\"menu-item menu-item-type-custom menu-item-object-custom menu-item-377\"><a href=\"http://my.northeastern.edu/\">myNortheastern</a></li>\\n<li id=\"menu-item-2809\" class=\"menu-item menu-item-type-custom menu-item-object-custom menu-item-2809\"><a href=\"https://prod-web.neu.edu/wasapp/employeelookup/public/main.action#_ga=1.152250297.1229401008.1453998512\">Find Faculty &#038; Staff</a></li>\\n<li id=\"menu-item-2810\" class=\"menu-item menu-item-type-custom menu-item-object-custom menu-item-2810\"><a href=\"http://www.northeastern.edu/neuhome/adminlinks/findaz.html\">Find A-Z</a></li>\\n<li id=\"menu-item-2811\" class=\"menu-item menu-item-type-custom menu-item-object-custom menu-item-2811\"><a href=\"http://www.northeastern.edu/emergency/index.html\">Emergency Information</a></li>\\n<li id=\"menu-item-11292\" class=\"menu-item menu-item-type-custom menu-item-object-custom menu-item-11292\"><a href=\"https://www.northeastern.edu/privacy-information/\">Privacy</a></li>\\n<li id=\"menu-item-378\" class=\"menu-item menu-item-type-custom menu-item-object-custom menu-item-378\"><a href=\"http://www.northeastern.edu/search/index.html\">Search</a></li>\\n</ul></nav>\\t\\t\\t\\t\\t<div class=\"copy\">\\n\\t\\t\\t\\t\\t\\t\\t\\t\\t\\t\\t<address><p>\\n\\t\\t\\t\\t\\t\\t\\t360 Huntington Ave. Boston, Massachusetts 02115\\t\\t\\t\\t\\t\\t\\t<a class=\"tel\" href=\"tel:6173732000\">617.373.2000</a>\\n\\t\\t\\t\\t\\t\\t\\t<a class=\"tel\" href=\"tel:6173733768\">TTY: 617.373.3768</a>\\n\\t\\t\\t\\t\\t\\t</p></address>\\n\\t\\t\\t\\t\\t\\t<p>\\xc2\\xa9 2019 Northeastern University\\t\\t\\t\\t\\t\\t\\t\\t\\t\\t</div><!-- / .copy -->\\n\\t\\t\\t\\t</div><!-- / .footer-nav -->\\n\\t\\t\\t</div><!-- / .row -->\\n\\t\\t</div><!-- / .container -->\\n\\t</div><!-- / #menu-footer -->\\n</footer>\\n<!-- as purely supplemental info, flyout is at the end. -->\\n<aside id=\"flyout\">\\n\\n\\t<h2 class=\"flyout-label\">Look<br />\\r\\nInside:<br />\\r\\nPeople</h2>\\n\\t<div class=\"flyout-content\">\\n\\n\\t\\t<h3 class=\"flyout-title\">People</h3>\\n\\t\\t<div class=\"main-content\">\\n\\t\\t\\t<h2>Scaling to meet growing demands</h2>\\n<p>The rise of computer science begets the need for more\\xe2\\x80\\x94and more diverse\\xe2\\x80\\x94expertise. Khoury College answers the call with highly talented faculty and dedicated advisors, coordinators, and staff.</p>\\n\\t\\t</div>\\n\\n\\t\\t\\t<div class=\"row\">\\n\\t\\t\\t<div class=\"stripe-stat\">\\n\\t\\t\\t\\t<div class=\"stat-item\"><h4>65%</h4><p>increase in tenure-track faculty over the past five years</p>\\n</div><div class=\"stat-item\"><h4>27%</h4><p>of current tenure-track faculty are interdisciplinary with other colleges</p>\\n</div>\\t\\t\\t</div>\\n\\t\\t</div>\\n\\t\\t\\t<div class=\"row\">\\n\\t\\t\\t<div class=\"stripe-image\">\\n\\t\\t\\t\\t<img src=\"https://www.khoury.northeastern.edu/wp-content/uploads/2018/11/CCIS_interdisciplinary_faculty_2018.png\" alt=\"\" />\\t\\t\\t</div>\\n\\t\\t</div>\\n\\t\\t\\t<div class=\"row\">\\n\\t\\t\\t<div class=\"stripe-text\">\\n\\t\\t\\t\\t<p>\\xe2\\x80\\x9cI joined CCIS to be at a place on the rise. There is an enormous opportunity for collaboration with highly motivated, smart faculty looking to do interesting, relevant work\\xe2\\x80\\x94and not caring about individual credit or traditional boundaries. We all want to be part of making something great.\\xe2\\x80\\x9d<br />\\n<em>-David Choffnes, Assistant Professor</em></p>\\n\\t\\t\\t</div>\\n\\t\\t</div>\\n\\t\\n\\t</div>\\n</aside>\\n\\t<script type=\"text/javascript\">\\n\\t_linkedin_data_partner_id = \"8239\";\\n\\t</script><script type=\"text/javascript\">\\n\\t(function(){var s = document.getElementsByTagName(\"script\")[0];\\n\\tvar b = document.createElement(\"script\");\\n\\tb.type = \"text/javascript\";b.async = true;\\n\\tb.src = \"https://snap.licdn.com/li.lms-analytics/insight.min.js\";\\n\\ts.parentNode.insertBefore(b, s);})();\\n\\t</script>\\n\\t<noscript>\\n\\t\\t<img height=\"1\" width=\"1\" style=\"display:none;\" alt=\"\" src=\"https://dc.ads.linkedin.com/collect/?pid=8239&fmt=gif\" />\\n\\t</noscript>\\n\\t\\t\\t<script>\\n\\t\\t( function ( body ) {\\n\\t\\t\\t\\'use strict\\';\\n\\t\\t\\tbody.className = body.className.replace( /\\\\btribe-no-js\\\\b/, \\'tribe-js\\' );\\n\\t\\t} )( document.body );\\n\\t\\t</script>\\n\\t\\t<script> /* <![CDATA[ */var tribe_l10n_datatables = {\"aria\":{\"sort_ascending\":\": activate to sort column ascending\",\"sort_descending\":\": activate to sort column descending\"},\"length_menu\":\"Show _MENU_ entries\",\"empty_table\":\"No data available in table\",\"info\":\"Showing _START_ to _END_ of _TOTAL_ entries\",\"info_empty\":\"Showing 0 to 0 of 0 entries\",\"info_filtered\":\"(filtered from _MAX_ total entries)\",\"zero_records\":\"No matching records found\",\"search\":\"Search:\",\"all_selected_text\":\"All items on this page were selected. \",\"select_all_link\":\"Select all pages\",\"clear_selection\":\"Clear Selection.\",\"pagination\":{\"all\":\"All\",\"next\":\"Next\",\"previous\":\"Previous\"},\"select\":{\"rows\":{\"0\":\"\",\"_\":\": Selected %d rows\",\"1\":\": Selected 1 row\"}},\"datepicker\":{\"dayNames\":[\"Sunday\",\"Monday\",\"Tuesday\",\"Wednesday\",\"Thursday\",\"Friday\",\"Saturday\"],\"dayNamesShort\":[\"Sun\",\"Mon\",\"Tue\",\"Wed\",\"Thu\",\"Fri\",\"Sat\"],\"dayNamesMin\":[\"S\",\"M\",\"T\",\"W\",\"T\",\"F\",\"S\"],\"monthNames\":[\"January\",\"February\",\"March\",\"April\",\"May\",\"June\",\"July\",\"August\",\"September\",\"October\",\"November\",\"December\"],\"monthNamesShort\":[\"January\",\"February\",\"March\",\"April\",\"May\",\"June\",\"July\",\"August\",\"September\",\"October\",\"November\",\"December\"],\"monthNamesMin\":[\"Jan\",\"Feb\",\"Mar\",\"Apr\",\"May\",\"Jun\",\"Jul\",\"Aug\",\"Sep\",\"Oct\",\"Nov\",\"Dec\"],\"nextText\":\"Next\",\"prevText\":\"Prev\",\"currentText\":\"Today\",\"closeText\":\"Done\",\"today\":\"Today\",\"clear\":\"Clear\"}};/* ]]> */ </script><script type=\\'text/javascript\\' src=\\'https://www.khoury.northeastern.edu/wp-content/plugins/the-events-calendar/common/src/resources/js/tribe-common.min.js?ver=4.9.16\\'></script>\\n<script type=\\'text/javascript\\' src=\\'https://www.khoury.northeastern.edu/wp-content/plugins/the-events-calendar/common/src/resources/js/tooltip.min.js?ver=4.9.16\\'></script>\\n<script type=\\'text/javascript\\' src=\\'https://www.khoury.northeastern.edu/wp-content/themes/ccis_theme/prod/prod.js?ver=5.2.4\\'></script>\\n<script type=\\'text/javascript\\' src=\\'https://www.khoury.northeastern.edu/wp-includes/js/wp-embed.min.js?ver=5.2.4\\'></script>\\n</body>\\n</html>\\n'\n"
     ]
    }
   ],
   "source": [
    "import urllib.request as urllib\n",
    "html = urllib.urlopen(\"https://www.khoury.northeastern.edu/role/tenured-and-tenure-track-faculty/\")\n",
    "print(html.read())"
   ]
  },
  {
   "cell_type": "markdown",
   "metadata": {
    "slideshow": {
     "slide_type": "subslide"
    }
   },
   "source": [
    "### 1.2. read() method\n",
    "* Reads the entire page of the Request object"
   ]
  },
  {
   "cell_type": "code",
   "execution_count": 3,
   "metadata": {},
   "outputs": [
    {
     "name": "stdout",
     "output_type": "stream",
     "text": [
      "b'<!DOCTYPE html>\\n<!--[if (lte IE 9) ]><html lang=\"en\" class=\"no-js oldie\"><![endif]-->\\n<!--[if (gt IE 9)|!(IE)]><!--><html lang=\"en\" class=\"no-js\"><!--<![endif]-->\\n<head>\\n\\t<meta http-equiv=\"X-UA-Compatible\" content=\"IE=edge\">\\n\\t<meta name=\"viewport\" content=\"width=device-width, initial-scale=1\">\\n\\t<script src=\"https://www.khoury.northeastern.edu/wp-content/themes/ccis_theme/lib/modernizr.min.js\"></script>\\n\\t<link rel=\"shortcut icon\" href=\"https://www.khoury.northeastern.edu/wp-content/themes/ccis_theme/img/favicon.ico\" type=\"image/x-icon\" />\\n\\t<meta name=\"apple-mobile-web-app-title\" content=\"NU Khoury\">\\n\\t<link rel=\"apple-touch-icon\" href=\"https://www.khoury.northeastern.edu/wp-content/themes/ccis_theme/img/touchicon.png\" />\\n\\t<link rel=\"apple-touch-icon-precomposed\" href=\"https://www.khoury.northeastern.edu/wp-content/themes/ccis_theme/img/touchicon.png\" />\\n\\t<link rel=\"apple-touch-icon\" sizes=\"180x180\" href=\"https://www.khoury.northeastern.edu/wp-content/themes/ccis_theme/img/touchicon-180.png\" />\\n\\n\\t<link href=\"https://fast.fonts.com/cssapi/cac43e8c-6965-44df-b8ca-9784607a3b53.css\" rel=\"stylesheet\" type=\"text/css\"/>\\n\\t<link rel=\"stylesheet\" type=\"text/css\" media=\"all\" href=\"https://www.khoury.northeastern.edu/wp-content/themes/ccis_theme/prod/prod.min.css\" />\\n\\t<link rel=\"stylesheet\" type=\"text/css\" media=\"all\" href=\"https://www.khoury.northeastern.edu/wp-content/themes/ccis_theme/lib/ccis.css\" />\\n\\t\\n<!-- NU Google Tag Manager -->\\r\\n<script>(function(w,d,s,l,i){w[l]=w[l]||[];w[l].push({\\'gtm.start\\':\\r\\nnew Date().getTime(),event:\\'gtm.js\\'});var f=d.getElementsByTagName(s)[0],\\r\\nj=d.createElement(s),dl=l!=\\'dataLayer\\'?\\'&l=\\'+l:\\'\\';j.async=true;j.src=\\r\\n\\'https://www.googletagmanager.com/gtm.js?id=\\'+i+dl;f.parentNode.insertBefore(j,f);\\r\\n})(window,document,\\'script\\',\\'dataLayer\\',\\'GTM-WGQLLJ\\');</script>\\r\\n<!-- End Google Tag Manager -->\\r\\n<!-- Khoury Google Tag Manager -->\\r\\n<script>(function(w,d,s,l,i){w[l]=w[l]||[];w[l].push({\\'gtm.start\\':\\r\\nnew Date().getTime(),event:\\'gtm.js\\'});var f=d.getElementsByTagName(s)[0],\\r\\nj=d.createElement(s),dl=l!=\\'dataLayer\\'?\\'&l=\\'+l:\\'\\';j.async=true;j.src=\\r\\n\\'https://www.googletagmanager.com/gtm.js?id=\\'+i+dl;f.parentNode.insertBefore(j,f);\\r\\n})(window,document,\\'script\\',\\'dataLayer\\',\\'GTM-KN6KMJB\\');</script>\\r\\n<!-- End Google Tag Manager -->\\r\\n<!-- Google CSE code -->\\r\\n<script>\\r\\n(function() {\\r\\nvar cx = \\'004538069614616277034:sltf9o73gg0\\';\\r\\nvar gcse = document.createElement(\\'script\\');\\r\\ngcse.type = \\'text/javascript\\';\\r\\ngcse.async = true;\\r\\ngcse.src = \\'https://cse.google.com/cse.js?cx=\\' + cx;\\r\\nvar s = document.getElementsByTagName(\\'script\\')[0];\\r\\ns.parentNode.insertBefore(gcse, s);\\r\\n})();\\r\\n</script>\\r\\n<script type=\"text/javascript\" src=\"https://www.khoury.northeastern.edu/wp-content/themes/ccis_theme/lib/google-cse.js\"></script>\\n<!-- begin wp_head -->\\n<title>Tenured and Tenure Track Faculty | Khoury College of Computer Sciences</title>\\n\\n<!-- All in One SEO Pack 3.2.10 by Michael Torbert of Semper Fi Web Design[2787,2870] -->\\n<link rel=\"next\" href=\"https://www.khoury.northeastern.edu/role/tenured-and-tenure-track-faculty/page/2/\" />\\n\\n<script type=\"application/ld+json\" class=\"aioseop-schema\">{}</script>\\n<link rel=\"canonical\" href=\"https://www.khoury.northeastern.edu/role/tenured-and-tenure-track-faculty/\" />\\n<!-- All in One SEO Pack -->\\n<link rel=\\'dns-prefetch\\' href=\\'//s.w.org\\' />\\n<link rel=\\'stylesheet\\' id=\\'tribe-reset-style-css\\'  href=\\'https://www.khoury.northeastern.edu/wp-content/plugins/the-events-calendar/common/src/resources/css/reset.min.css?ver=4.9.16\\' type=\\'text/css\\' media=\\'all\\' />\\n<link rel=\\'stylesheet\\' id=\\'tribe-common-style-css\\'  href=\\'https://www.khoury.northeastern.edu/wp-content/plugins/the-events-calendar/common/src/resources/css/common.min.css?ver=4.9.16\\' type=\\'text/css\\' media=\\'all\\' />\\n<link rel=\\'stylesheet\\' id=\\'tribe-tooltip-css-css\\'  href=\\'https://www.khoury.northeastern.edu/wp-content/plugins/the-events-calendar/common/src/resources/css/tooltip.min.css?ver=4.9.16\\' type=\\'text/css\\' media=\\'all\\' />\\n<link rel=\\'stylesheet\\' id=\\'wp-block-library-css\\'  href=\\'https://www.khoury.northeastern.edu/wp-includes/css/dist/block-library/style.min.css?ver=5.2.4\\' type=\\'text/css\\' media=\\'all\\' />\\n<script type=\\'text/javascript\\' src=\\'https://www.khoury.northeastern.edu/wp-includes/js/jquery/jquery.js?ver=1.12.4-wp\\'></script>\\n<script type=\\'text/javascript\\' src=\\'https://www.khoury.northeastern.edu/wp-includes/js/jquery/jquery-migrate.min.js?ver=1.4.1\\'></script>\\n<link rel=\\'https://api.w.org/\\' href=\\'https://www.khoury.northeastern.edu/wp-json/\\' />\\n<link rel=\"EditURI\" type=\"application/rsd+xml\" title=\"RSD\" href=\"https://www.khoury.northeastern.edu/xmlrpc.php?rsd\" />\\n<link rel=\"wlwmanifest\" type=\"application/wlwmanifest+xml\" href=\"https://www.khoury.northeastern.edu/wp-includes/wlwmanifest.xml\" /> \\n<meta name=\"generator\" content=\"WordPress 5.2.4\" />\\n<meta name=\"tec-api-version\" content=\"v1\"><meta name=\"tec-api-origin\" content=\"https://www.khoury.northeastern.edu\"><link rel=\"https://theeventscalendar.com/\" href=\"https://www.khoury.northeastern.edu/wp-json/tribe/events/v1/\" /><!-- end wp_head -->\\n\\n</head>\\n\\n\\n\\n<body class=\"archive tax-role term-tenured-and-tenure-track-faculty term-23 tribe-no-js\">\\n<!-- NU Google Tag Manager (noscript) -->\\r\\n<noscript><iframe src=\"https://www.googletagmanager.com/ns.html?id=GTM-WGQLLJ\" height=\"0\" width=\"0\" style=\"display:none;visibility:hidden\"></iframe></noscript>\\r\\n<!-- End Google Tag Manager (noscript) -->\\r\\n<!-- Khoury Google Tag Manager (noscript) -->\\r\\n<noscript><iframe src=\"https://www.googletagmanager.com/ns.html?id=GTM-KN6KMJB\" height=\"0\" width=\"0\" style=\"display:none;visibility:hidden\"></iframe></noscript>\\r\\n<!-- End Google Tag Manager (noscript) -->\\t<a id=\"top\" class=\"sr-only\" href=\"#main-content\">Skip to main content</a>\\n\\n\\t<header id=\"site-header\" role=\"banner\">\\n\\n\\t\\t<div id=\"contact-region\">\\n\\t\\t\\t<div class=\"container\">\\n\\t\\t\\t\\t<div class=\"contact-contents expanded\">\\n\\n\\t\\t\\t\\t\\t\\n\\t\\t\\t\\t\\t<div class=\"contact-col\">\\n\\t\\t\\t\\t\\t\\t<h4>Main</h4>\\r\\n<a href=\"mailto:khoury@northeastern.edu\">khoury@northeastern.edu</a>\\r\\n<a href=\"tel:6173732462\">617.373.2462</a>\\r\\n<a href=\"http://www.northeastern.edu/nupd/campus-safety/\">Campus Safety</a>\\r\\n<a href=\"https://www.northeastern.edu/campusmap/map/index.html\">Campus Map</a>\\t\\t\\t\\t\\t</div>\\n\\n\\t\\t\\t\\t\\t<div class=\"contact-col\">\\n\\t\\t\\t\\t\\t\\t<h4>Undergraduate</h4>\\r\\n<a href=\"tel:6173736519\">617.373.6519</a>\\r\\n<a href=\"mailto:admissions@northeastern.edu\">admissions@northeastern.edu</a>\\r\\n<a href=\"mailto:khoury-advising@northeastern.edu\">khoury-advising@northeastern.edu</a>\\t\\t\\t\\t\\t</div>\\n\\n\\t\\t\\t\\t\\t<div class=\"contact-col\">\\n\\t\\t\\t\\t\\t\\t<h4>Graduate</h4>\\r\\n<a href=\"tel:6173738613\">617.373.5545</a>\\r\\n<a href=\"mailto:khoury-gradschool@northeastern.edu\">khoury-gradschool@northeastern.edu</a>\\t\\t\\t\\t\\t</div>\\n\\n\\t\\t\\t\\t\\t\\n\\t\\t\\t\\t\\t<nav id=\"menu-contact-header\" class=\"contact-col\">\\n\\t\\t\\t\\t\\t\\t<ul id=\"menu-contact-menu\" class=\"menu menu-contact menu-vertical\"><li id=\"menu-item-3010\" class=\"menu-item menu-item-type-custom menu-item-object-custom menu-item-has-children menu-item-3010\"><a rel=\"nofollow\" href=\"#\">Contact &#8211; Parent</a>\\n<ul class=\"sub-menu\">\\n\\t<li id=\"menu-item-4598\" class=\"menu-item menu-item-type-post_type menu-item-object-page menu-item-4598\"><a href=\"https://www.khoury.northeastern.edu/directions-and-parking/\">Directions &#038; Parking</a></li>\\n\\t<li id=\"menu-item-2530\" class=\"menu-item menu-item-type-post_type menu-item-object-page menu-item-2530\"><a href=\"https://www.khoury.northeastern.edu/facilities/\">Facilities</a></li>\\n\\t<li id=\"menu-item-5831\" class=\"menu-item menu-item-type-post_type menu-item-object-page menu-item-has-children menu-item-5831\"><a href=\"https://www.khoury.northeastern.edu/systems/\">Systems</a></li>\\n\\t<li id=\"menu-item-4627\" class=\"menu-item menu-item-type-post_type menu-item-object-page menu-item-has-children menu-item-4627\"><a href=\"https://www.khoury.northeastern.edu/about/\">About</a></li>\\n\\t<li id=\"menu-item-6161\" class=\"menu-item menu-item-type-custom menu-item-object-custom menu-item-6161\"><a href=\"https://www.ccis.northeastern.edu/events/\">Events</a></li>\\n\\t<li id=\"menu-item-4629\" class=\"menu-item menu-item-type-post_type menu-item-object-page current_page_parent menu-item-4629\"><a href=\"https://www.khoury.northeastern.edu/news/\">News</a></li>\\n</ul>\\n</li>\\n</ul>\\t\\t\\t\\t\\t</nav>\\n\\t\\t\\t\\t</div>\\n\\t\\t\\t</div>\\n\\t\\t</div>\\n\\n\\t\\t<div class=\"container\">\\n\\n\\t\\t\\t<div id=\"utilities-region\">\\n\\t\\t\\t\\t<div id=\"utilities\">\\n\\t\\t\\t\\t\\t<nav id=\"menu-utility\">\\n\\t\\t\\t\\t\\t\\t<ul id=\"menu-utility-menu\" class=\"menu menu-utility menu-horizontal\"><li id=\"menu-item-2766\" class=\"menu-item menu-item-type-custom menu-item-object-custom menu-item-has-children menu-item-2766\"><a rel=\"nofollow\" href=\"#\">Utility &#8211; Parent</a>\\n<ul class=\"sub-menu\">\\n\\t<li id=\"menu-item-2294\" class=\"menu-item menu-item-type-post_type menu-item-object-page menu-item-2294\"><a href=\"https://www.khoury.northeastern.edu/open-positions/\">We\\xe2\\x80\\x99re hiring</a></li>\\n\\t<li id=\"menu-item-13723\" class=\"menu-item menu-item-type-custom menu-item-object-custom menu-item-13723\"><a href=\"https://www.khoury.northeastern.edu/current-students/\">Current Students</a></li>\\n\\t<li id=\"menu-item-403\" class=\"menu-item menu-item-type-post_type menu-item-object-page menu-item-403\"><a href=\"https://www.khoury.northeastern.edu/industry/\">Industry</a></li>\\n\\t<li id=\"menu-item-7849\" class=\"menu-item menu-item-type-post_type menu-item-object-page menu-item-7849\"><a href=\"https://www.khoury.northeastern.edu/diversity/\">Diversity</a></li>\\n\\t<li id=\"menu-item-402\" class=\"toggle menu-item menu-item-type-post_type menu-item-object-page menu-item-402\"><a href=\"https://www.khoury.northeastern.edu/contact/\">Contact</a></li>\\n</ul>\\n</li>\\n</ul>\\t\\t\\t\\t\\t</nav>\\n\\t\\t\\t\\t\\t<form role=\"search\" id=\"searchform-q\" onsubmit=\"return submitQuery()\">\\n    <label class=\"screen-reader-text\" for=\"q\"></label>\\n    <input type=\"text\" placeholder=\"Search\" value=\"\" name=\"q\" id=\"q\" />\\n    <button type=\"submit\" id=\"searchsubmit\" value=\"Search\"></button>\\n</form>\\n<noscript>\\n    <form role=\"search\" method=\"get\" id=\"searchform\" action=\"https://www.khoury.northeastern.edu/\">\\n        <label class=\"screen-reader-text\" for=\"s\"></label>\\n        <input type=\"text\" placeholder=\"Search\" value=\"\" name=\"s\" id=\"s\" />\\n\\t<button type=\"submit\" id=\"searchsubmit\" value=\"Search\"></button>\\n    </form>\\n</noscript>\\n\\t\\t\\t\\t</div>\\n\\t\\t\\t</div><!-- /#utilities-region -->\\n\\n\\t\\t\\t<div id=\"branding-region\">\\n\\n\\t\\t\\t\\t<h1 id=\"site-logo\">\\n\\t\\t\\t\\t\\t<a href=\"https://www.khoury.northeastern.edu\">\\n\\t\\t\\t\\t\\t\\t<span>Khoury College of Computer Sciences</span>\\n\\t\\t\\t\\t\\t\\t<!-- main Khoury logo -->\\n\\t\\t\\t\\t\\t\\t<img src=\"/wp-content/uploads/2019/02/nu-khoury-lockup.png\" alt=\"college lockup\" />\\n\\t\\t\\t\\t\\t</a>\\n\\t\\t\\t\\t</h1>\\n\\t\\t\\t</div><!-- /#branding-region -->\\n\\n\\n\\t\\t\\t<nav role=\"navigation\" id=\"menu-primary\">\\n\\t\\t\\t\\t<!-- main nav here -->\\n\\t\\t\\t\\t<ul class=\"menu menu-primary menu-horizontal\">\\n\\t\\t\\t\\t\\t\\t\\t\\t\\t\\t<li class=\"bucket\">\\n\\t\\t\\t\\t\\t\\t<a class=\"toggle\" href=\"#menu-academics\">Academics</a><div class=\"expanded\"><div class=\"menu-description\"><p><strong>Computer science for everyone</strong><br />\\nNow more than ever, computer science is everywhere. Our innovative, interdisciplinary programs deliver the knowledge and perspective you need to succeed in a highly demanding job market.</p>\\n</div><ul id=\"menu-academics\" class=\"submenu menu-vertical\"><li id=\"menu-item-2222\" class=\"menu-item menu-item-type-post_type menu-item-object-page menu-item-has-children menu-item-2222\"><a rel=\"nofollow\" href=\"https://www.khoury.northeastern.edu/academics/\">Academics \\xe2\\x80\\x93 FLYOUT</a>\\n<ul class=\"sub-menu\">\\n\\t<li id=\"menu-item-980\" class=\"menu-item menu-item-type-post_type menu-item-object-page menu-item-has-children menu-item-980\"><a href=\"https://www.khoury.northeastern.edu/academics/undergraduate/\">Undergraduate</a></li>\\n\\t<li id=\"menu-item-978\" class=\"menu-item menu-item-type-post_type menu-item-object-page menu-item-has-children menu-item-978\"><a href=\"https://www.khoury.northeastern.edu/academics/masters/\">Masters</a></li>\\n\\t<li id=\"menu-item-979\" class=\"menu-item menu-item-type-post_type menu-item-object-page menu-item-has-children menu-item-979\"><a href=\"https://www.khoury.northeastern.edu/academics/phd/\">PhD</a></li>\\n\\t<li id=\"menu-item-973\" class=\"menu-item menu-item-type-post_type menu-item-object-page menu-item-has-children menu-item-973\"><a href=\"https://www.khoury.northeastern.edu/academics/certificate/\">Certificate</a></li>\\n\\t<li id=\"menu-item-3266\" class=\"menu-item menu-item-type-post_type menu-item-object-page menu-item-3266\"><a href=\"https://www.khoury.northeastern.edu/academics/courses/\">Courses</a></li>\\n</ul>\\n</li>\\n</ul></div>\\t\\t\\t\\t\\t</li>\\n\\t\\t\\t\\t\\t\\t\\t\\t\\t\\t\\t<li class=\"bucket\">\\n\\t\\t\\t\\t\\t\\t<a class=\"toggle\" href=\"#menu-research\">Research</a><div class=\"expanded\"><div class=\"menu-description\"><p><strong>Solving today\\xe2\\x80\\x99s challenges</strong><br />\\nBringing together students and faculty across disciplines, the Khoury research community finds impactful solutions to everyday problems.</p>\\n</div><ul id=\"menu-research\" class=\"submenu menu-vertical\"><li id=\"menu-item-2307\" class=\"menu-item menu-item-type-post_type menu-item-object-page menu-item-has-children menu-item-2307\"><a rel=\"nofollow\" href=\"https://www.khoury.northeastern.edu/research/\">Research</a>\\n<ul class=\"sub-menu\">\\n\\t<li id=\"menu-item-400\" class=\"menu-item menu-item-type-post_type menu-item-object-page menu-item-has-children menu-item-400\"><a href=\"https://www.khoury.northeastern.edu/research/research-areas/\">Research Areas</a></li>\\n\\t<li id=\"menu-item-1192\" class=\"menu-item menu-item-type-post_type menu-item-object-page menu-item-has-children menu-item-1192\"><a href=\"https://www.khoury.northeastern.edu/research/research-projects/\">Research Projects</a></li>\\n\\t<li id=\"menu-item-998\" class=\"menu-item menu-item-type-post_type menu-item-object-page menu-item-998\"><a href=\"https://www.khoury.northeastern.edu/research/labs-groups/\">Labs and Groups</a></li>\\n\\t<li id=\"menu-item-1021\" class=\"menu-item menu-item-type-post_type menu-item-object-page menu-item-1021\"><a href=\"https://www.khoury.northeastern.edu/research/institutes/\">Institutes and Centers</a></li>\\n\\t<li id=\"menu-item-1022\" class=\"menu-item menu-item-type-post_type menu-item-object-page menu-item-1022\"><a href=\"https://www.khoury.northeastern.edu/research/speaker-series/\">Speaker Series</a></li>\\n</ul>\\n</li>\\n</ul></div>\\t\\t\\t\\t\\t</li>\\n\\t\\t\\t\\t\\t\\t\\t\\t\\t\\t\\t<li class=\"bucket\">\\n\\t\\t\\t\\t\\t\\t<a class=\"toggle\" href=\"#menu-coop\">Experiential Learning & Co-op</a><div class=\"expanded\"><div class=\"menu-description\"><p><strong>A real-world education</strong><br />\\nKhoury experiential learning and co-op programs deliver a hands-on education to enhance your studies\\xe2\\x80\\x94and advance your career.</p>\\n</div><ul id=\"menu-experiential-learning-co-op\" class=\"submenu menu-vertical\"><li id=\"menu-item-399\" class=\"menu-item menu-item-type-post_type menu-item-object-page menu-item-has-children menu-item-399\"><a rel=\"nofollow\" href=\"https://www.khoury.northeastern.edu/experiential-learning/\">Experiential Learning &#038; Co-op \\xe2\\x80\\x93 FLYOUT</a>\\n<ul class=\"sub-menu\">\\n\\t<li id=\"menu-item-2256\" class=\"menu-item menu-item-type-post_type menu-item-object-page menu-item-has-children menu-item-2256\"><a href=\"https://www.khoury.northeastern.edu/experiential-learning/undergraduate/\">Undergraduate</a></li>\\n\\t<li id=\"menu-item-2262\" class=\"menu-item menu-item-type-post_type menu-item-object-page menu-item-has-children menu-item-2262\"><a href=\"https://www.khoury.northeastern.edu/experiential-learning/masters/\">Masters</a></li>\\n\\t<li id=\"menu-item-2264\" class=\"menu-item menu-item-type-post_type menu-item-object-page menu-item-2264\"><a href=\"https://www.khoury.northeastern.edu/experiential-learning/phd/\">PhD</a></li>\\n\\t<li id=\"menu-item-2265\" class=\"menu-item menu-item-type-post_type menu-item-object-page menu-item-has-children menu-item-2265\"><a href=\"https://www.khoury.northeastern.edu/experiential-learning/employers/\">Employers</a></li>\\n</ul>\\n</li>\\n</ul></div>\\t\\t\\t\\t\\t</li>\\n\\t\\t\\t\\t\\t\\t\\t\\t\\t\\t\\t<li class=\"bucket current-bucket\">\\n\\t\\t\\t\\t\\t\\t<a class=\"toggle\" href=\"#menu-people\">People</a><div class=\"expanded\"><div class=\"menu-description\"><p><strong>Experienced, engaged, inspiring</strong><br />\\nOur renowned faculty shape minds, spark innovation, and inspire ideas. Our dedicated advisors and coordinators build connections and confidence. Our committed staff provide support every step of the way.</p>\\n</div><ul id=\"menu-people\" class=\"submenu menu-vertical\"><li id=\"menu-item-2282\" class=\"menu-item menu-item-type-post_type menu-item-object-page current-menu-ancestor current-menu-parent current_page_parent current_page_ancestor menu-item-has-children menu-item-2282\"><a rel=\"nofollow\" href=\"https://www.khoury.northeastern.edu/people/\">People</a>\\n<ul class=\"sub-menu\">\\n\\t<li id=\"menu-item-727\" class=\"menu-item menu-item-type-taxonomy menu-item-object-role current-menu-item menu-item-727\"><a href=\"https://www.khoury.northeastern.edu/role/tenured-and-tenure-track-faculty/\" aria-current=\"page\">Tenured and Tenure Track Faculty</a></li>\\n\\t<li id=\"menu-item-8882\" class=\"menu-item menu-item-type-taxonomy menu-item-object-role menu-item-8882\"><a href=\"https://www.khoury.northeastern.edu/role/professors-practice/\">Professors of the Practice</a></li>\\n\\t<li id=\"menu-item-733\" class=\"menu-item menu-item-type-taxonomy menu-item-object-role menu-item-733\"><a href=\"https://www.khoury.northeastern.edu/role/teaching-faculty/\">Teaching Faculty</a></li>\\n\\t<li id=\"menu-item-728\" class=\"menu-item menu-item-type-taxonomy menu-item-object-role menu-item-728\"><a href=\"https://www.khoury.northeastern.edu/role/research-faculty/\">Research Faculty and Staff</a></li>\\n\\t<li id=\"menu-item-5778\" class=\"menu-item menu-item-type-taxonomy menu-item-object-role menu-item-5778\"><a href=\"https://www.khoury.northeastern.edu/role/courtesy-appointments/\">Courtesy Appointments</a></li>\\n\\t<li id=\"menu-item-725\" class=\"menu-item menu-item-type-taxonomy menu-item-object-role menu-item-725\"><a href=\"https://www.khoury.northeastern.edu/role/co-op-and-advising/\">Co-op and Advising</a></li>\\n\\t<li id=\"menu-item-726\" class=\"menu-item menu-item-type-taxonomy menu-item-object-role menu-item-726\"><a href=\"https://www.khoury.northeastern.edu/role/administrative-staff/\">Administrative Staff</a></li>\\n\\t<li id=\"menu-item-729\" class=\"menu-item menu-item-type-taxonomy menu-item-object-role menu-item-729\"><a href=\"https://www.khoury.northeastern.edu/role/systems-staff/\">Systems Staff</a></li>\\n\\t<li id=\"menu-item-730\" class=\"menu-item menu-item-type-taxonomy menu-item-object-role menu-item-730\"><a href=\"https://www.khoury.northeastern.edu/role/post-docs/\">Post Docs</a></li>\\n\\t<li id=\"menu-item-731\" class=\"menu-item menu-item-type-taxonomy menu-item-object-role menu-item-731\"><a href=\"https://www.khoury.northeastern.edu/role/phd-students/\">PhD Students</a></li>\\n\\t<li id=\"menu-item-413\" class=\"menu-item menu-item-type-post_type menu-item-object-page menu-item-413\"><a href=\"https://www.khoury.northeastern.edu/people-view-all/\">View All</a></li>\\n</ul>\\n</li>\\n</ul></div>\\t\\t\\t\\t\\t</li>\\n\\t\\t\\t\\t\\t\\t\\t\\t\\t\\t\\t<li class=\"bucket\">\\n\\t\\t\\t\\t\\t\\t<a class=\"toggle\" href=\"#menu-alumni\">Alumni & Friends</a><div class=\"expanded\"><div class=\"menu-description\"><p><strong>This is your community</strong><br />\\nIt\\xe2\\x80\\x99s time to get involved and give back. Engage and explore. Connect and keep in touch. Your Khoury community welcomes you!  </p>\\n</div><ul id=\"menu-alumni-friends\" class=\"submenu menu-vertical\"><li id=\"menu-item-2281\" class=\"menu-item menu-item-type-post_type menu-item-object-page menu-item-has-children menu-item-2281\"><a rel=\"nofollow\" href=\"https://www.khoury.northeastern.edu/alumni-and-friends/\">Alumni &amp; Friends \\xe2\\x80\\x93 FLYOUT</a>\\n<ul class=\"sub-menu\">\\n\\t<li id=\"menu-item-2283\" class=\"menu-item menu-item-type-post_type menu-item-object-page menu-item-2283\"><a href=\"https://www.khoury.northeastern.edu/alumni-and-friends/welcome-back/\">Welcome Back</a></li>\\n\\t<li id=\"menu-item-1140\" class=\"menu-item menu-item-type-post_type menu-item-object-page menu-item-1140\"><a href=\"https://www.khoury.northeastern.edu/alumni-and-friends/alumni-news-events/\">Alumni News &amp; Events</a></li>\\n\\t<li id=\"menu-item-7062\" class=\"menu-item menu-item-type-post_type menu-item-object-page menu-item-7062\"><a href=\"https://www.khoury.northeastern.edu/alumni-and-friends/class-notes/\">Alumni Class Notes</a></li>\\n\\t<li id=\"menu-item-1145\" class=\"menu-item menu-item-type-post_type menu-item-object-page menu-item-1145\"><a href=\"https://www.khoury.northeastern.edu/alumni-and-friends/parents/\">Parents</a></li>\\n\\t<li id=\"menu-item-1141\" class=\"menu-item menu-item-type-post_type menu-item-object-page menu-item-1141\"><a href=\"https://www.khoury.northeastern.edu/alumni-and-friends/connect/\">Connect</a></li>\\n\\t<li id=\"menu-item-2284\" class=\"menu-item menu-item-type-custom menu-item-object-custom menu-item-2284\"><a href=\"http://www.northeastern.edu/careers/\">Career Services</a></li>\\n\\t<li id=\"menu-item-1142\" class=\"menu-item menu-item-type-post_type menu-item-object-page menu-item-has-children menu-item-1142\"><a href=\"https://www.khoury.northeastern.edu/alumni-and-friends/give/\">Give</a></li>\\n</ul>\\n</li>\\n</ul></div>\\t\\t\\t\\t\\t</li>\\n\\t\\t\\t\\t\\t\\t\\t\\t\\t\\t</ul>\\n\\t\\t\\t</nav>\\n\\n\\n\\t\\t</div> <!-- /.container -->\\n\\n\\t</header>\\n\\t\\t<main class=\"container\" id=\"main-content\">\\n\\t\\t<div class=\"row\">\\n\\t\\t\\t<section id=\"primary-content\" class=\"with-subnav\">\\n\\t\\t\\t\\t<div class=\"page-header\">\\n\\t\\t\\t\\t\\t<h1 class=\"page-title\">Tenured and Tenure Track Faculty</h1>\\n\\t\\t\\t\\t</div>\\n\\t\\t\\t\\t<div class=\"row\">\\n\\t\\t\\t\\t\\t<nav id=\"people-subnav\" class=\"sidebar-subnav\">\\n\\t\\t\\t\\t\\t\\t<div class=\"menu-people-container\"><ul id=\"menu-people-1\" class=\"menu menu-vertical\"><li class=\"menu-item menu-item-type-post_type menu-item-object-page current-menu-ancestor current-menu-parent current_page_parent current_page_ancestor menu-item-has-children menu-item-2282\"><a rel=\"nofollow\" href=\"https://www.khoury.northeastern.edu/people/\">People</a>\\n<ul class=\"sub-menu\">\\n\\t<li class=\"menu-item menu-item-type-taxonomy menu-item-object-role current-menu-item menu-item-727\"><a href=\"https://www.khoury.northeastern.edu/role/tenured-and-tenure-track-faculty/\" aria-current=\"page\">Tenured and Tenure Track Faculty</a></li>\\n\\t<li class=\"menu-item menu-item-type-taxonomy menu-item-object-role menu-item-8882\"><a href=\"https://www.khoury.northeastern.edu/role/professors-practice/\">Professors of the Practice</a></li>\\n\\t<li class=\"menu-item menu-item-type-taxonomy menu-item-object-role menu-item-733\"><a href=\"https://www.khoury.northeastern.edu/role/teaching-faculty/\">Teaching Faculty</a></li>\\n\\t<li class=\"menu-item menu-item-type-taxonomy menu-item-object-role menu-item-728\"><a href=\"https://www.khoury.northeastern.edu/role/research-faculty/\">Research Faculty and Staff</a></li>\\n\\t<li class=\"menu-item menu-item-type-taxonomy menu-item-object-role menu-item-5778\"><a href=\"https://www.khoury.northeastern.edu/role/courtesy-appointments/\">Courtesy Appointments</a></li>\\n\\t<li class=\"menu-item menu-item-type-taxonomy menu-item-object-role menu-item-725\"><a href=\"https://www.khoury.northeastern.edu/role/co-op-and-advising/\">Co-op and Advising</a></li>\\n\\t<li class=\"menu-item menu-item-type-taxonomy menu-item-object-role menu-item-726\"><a href=\"https://www.khoury.northeastern.edu/role/administrative-staff/\">Administrative Staff</a></li>\\n\\t<li class=\"menu-item menu-item-type-taxonomy menu-item-object-role menu-item-729\"><a href=\"https://www.khoury.northeastern.edu/role/systems-staff/\">Systems Staff</a></li>\\n\\t<li class=\"menu-item menu-item-type-taxonomy menu-item-object-role menu-item-730\"><a href=\"https://www.khoury.northeastern.edu/role/post-docs/\">Post Docs</a></li>\\n\\t<li class=\"menu-item menu-item-type-taxonomy menu-item-object-role menu-item-731\"><a href=\"https://www.khoury.northeastern.edu/role/phd-students/\">PhD Students</a></li>\\n\\t<li class=\"menu-item menu-item-type-post_type menu-item-object-page menu-item-413\"><a href=\"https://www.khoury.northeastern.edu/people-view-all/\">View All</a></li>\\n</ul>\\n</li>\\n</ul></div><aside id=\"text-4\" class=\"widget widget_text\"><h2 class=\"section-title widget-title\">We&#8217;re Hiring</h2><div class=\"widget-body\">\\t\\t\\t<div class=\"textwidget\"><p><a href=\"https://www.ccis.northeastern.edu/open-positions\">View open positions</a></p>\\n</div>\\n\\t\\t</div></aside>\\t\\t\\t\\t\\t</nav>\\n\\t\\t\\t\\t\\t<div class=\"taxonomy-grid\">\\n\\t\\t\\t\\t\\t\\t<div class=\"row\">\\n\\t\\t\\t\\t\\t\\t\\t\\t\\t\\t<div class=\"grid-square grid-people\">\\n\\t\\t\\t\\t\\t\\t\\t\\t\\t\\t\\t<article class=\"people\">\\n\\t\\t\\t\\t\\t<div class=\"grid-item\">\\n\\t\\t\\t\\t\\t\\t<a href=\"https://www.khoury.northeastern.edu/people/amal-ahmed/\">\\n\\t\\t\\t\\t\\t\\t\\t\\t<div class=\"grid-image\"><img src=\"https://www.khoury.northeastern.edu/wp-content/uploads/2016/03/Amal-Ahmed-Index-Image.jpg\" alt=\"\" /></div>\\n\\t\\t\\t\\t\\t\\t\\t\\t\\t\\t\\t\\t\\t\\t\\t<p class=\"roles\"><span class=\"role-23\">Tenured and Tenure Track Faculty</span></p>\\n\\t\\t\\t\\t\\t\\t\\t\\t\\t\\t\\t\\t\\t\\t<h3 class=\"person-name\">\\n\\t\\t\\t\\t\\t\\t\\t\\t\\tAmal Ahmed\\t\\t\\t\\t\\t\\t\\t</h3>\\n\\t\\t\\t\\t\\t\\t</a>\\n\\t\\t\\t\\t\\t\\t\\t\\t\\t\\t\\t\\t<div class=\"position-list\">\\n\\t\\t\\t\\t\\t\\t\\t\\t\\t\\t\\t\\t\\t\\t\\t<p class=\"position\">Associate Professor</p>\\n\\t\\t\\t\\t\\t\\t\\t\\t\\t\\t\\t\\t\\t\\t\\t<p class=\"position\">Sy and Laurie Sternberg Interdisciplinary Associate Professor</p>\\n\\t\\t\\t\\t\\t\\t\\t\\t\\t\\t\\t\\t\\t</div>\\n\\t\\t\\t\\t\\t\\t\\t\\t\\t\\t\\t\\t\\t\\t\\t\\t\\t</div>\\n\\t\\t\\t\\t</article>\\n\\t\\t\\t\\t\\t\\t</div>\\n\\t\\t\\t\\t\\t\\t\\t\\t\\t\\t<div class=\"grid-square grid-people\">\\n\\t\\t\\t\\t\\t\\t\\t\\t\\t\\t\\t<article class=\"people\">\\n\\t\\t\\t\\t\\t<div class=\"grid-item\">\\n\\t\\t\\t\\t\\t\\t<a href=\"https://www.khoury.northeastern.edu/people/chris-amato/\">\\n\\t\\t\\t\\t\\t\\t\\t\\t<div class=\"grid-image\"><img src=\"https://www.khoury.northeastern.edu/wp-content/uploads/2016/08/Amato_Chris-index-image.jpg\" alt=\"\" /></div>\\n\\t\\t\\t\\t\\t\\t\\t\\t\\t\\t\\t\\t\\t\\t\\t<p class=\"roles\"><span class=\"role-23\">Tenured and Tenure Track Faculty</span></p>\\n\\t\\t\\t\\t\\t\\t\\t\\t\\t\\t\\t\\t\\t\\t<h3 class=\"person-name\">\\n\\t\\t\\t\\t\\t\\t\\t\\t\\tChristopher Amato\\t\\t\\t\\t\\t\\t\\t</h3>\\n\\t\\t\\t\\t\\t\\t</a>\\n\\t\\t\\t\\t\\t\\t\\t\\t\\t\\t\\t\\t<div class=\"position-list\">\\n\\t\\t\\t\\t\\t\\t\\t\\t\\t\\t\\t\\t\\t\\t\\t<p class=\"position\">Assistant Professor</p>\\n\\t\\t\\t\\t\\t\\t\\t\\t\\t\\t\\t\\t\\t</div>\\n\\t\\t\\t\\t\\t\\t\\t\\t\\t\\t\\t\\t\\t\\t\\t\\t\\t</div>\\n\\t\\t\\t\\t</article>\\n\\t\\t\\t\\t\\t\\t</div>\\n\\t\\t\\t\\t\\t\\t\\t\\t\\t\\t<div class=\"grid-square grid-people\">\\n\\t\\t\\t\\t\\t\\t\\t\\t\\t\\t\\t<article class=\"people\">\\n\\t\\t\\t\\t\\t<div class=\"grid-item\">\\n\\t\\t\\t\\t\\t\\t<a href=\"https://www.khoury.northeastern.edu/people/jay-javed-aslam/\">\\n\\t\\t\\t\\t\\t\\t\\t\\t<div class=\"grid-image\"><img src=\"https://www.khoury.northeastern.edu/wp-content/uploads/2016/02/Javed-Aslam-index-image-e1456779428335.jpg\" alt=\"\" /></div>\\n\\t\\t\\t\\t\\t\\t\\t\\t\\t\\t\\t\\t\\t\\t\\t<p class=\"roles\"><span class=\"role-29\">Administrative Staff</span> <span class=\"role-23\">Tenured and Tenure Track Faculty</span></p>\\n\\t\\t\\t\\t\\t\\t\\t\\t\\t\\t\\t\\t\\t\\t<h3 class=\"person-name\">\\n\\t\\t\\t\\t\\t\\t\\t\\t\\tJaved Aslam\\t\\t\\t\\t\\t\\t\\t</h3>\\n\\t\\t\\t\\t\\t\\t</a>\\n\\t\\t\\t\\t\\t\\t\\t\\t\\t\\t\\t\\t<div class=\"position-list\">\\n\\t\\t\\t\\t\\t\\t\\t\\t\\t\\t\\t\\t\\t\\t\\t<p class=\"position\">Professor</p>\\n\\t\\t\\t\\t\\t\\t\\t\\t\\t\\t\\t\\t\\t\\t\\t<p class=\"position\">Senior Associate Dean - Academic Affairs</p>\\n\\t\\t\\t\\t\\t\\t\\t\\t\\t\\t\\t\\t\\t</div>\\n\\t\\t\\t\\t\\t\\t\\t\\t\\t\\t\\t\\t\\t\\t\\t\\t\\t</div>\\n\\t\\t\\t\\t</article>\\n\\t\\t\\t\\t\\t\\t</div>\\n\\t\\t\\t\\t\\t\\t\\t\\t\\t\\t<div class=\"grid-square grid-people\">\\n\\t\\t\\t\\t\\t\\t\\t\\t\\t\\t\\t<article class=\"people\">\\n\\t\\t\\t\\t\\t<div class=\"grid-item\">\\n\\t\\t\\t\\t\\t\\t<a href=\"https://www.khoury.northeastern.edu/people/kenneth-baclawski/\">\\n\\t\\t\\t\\t\\t\\t\\t\\t<div class=\"grid-image\"><img src=\"https://www.khoury.northeastern.edu/wp-content/uploads/2016/02/Kenneth-Baclawski-index-image-e1456779323580.jpg\" alt=\"\" /></div>\\n\\t\\t\\t\\t\\t\\t\\t\\t\\t\\t\\t\\t\\t\\t\\t<p class=\"roles\"><span class=\"role-23\">Tenured and Tenure Track Faculty</span></p>\\n\\t\\t\\t\\t\\t\\t\\t\\t\\t\\t\\t\\t\\t\\t<h3 class=\"person-name\">\\n\\t\\t\\t\\t\\t\\t\\t\\t\\tKenneth Baclawski\\t\\t\\t\\t\\t\\t\\t</h3>\\n\\t\\t\\t\\t\\t\\t</a>\\n\\t\\t\\t\\t\\t\\t\\t\\t\\t\\t\\t\\t<div class=\"position-list\">\\n\\t\\t\\t\\t\\t\\t\\t\\t\\t\\t\\t\\t\\t\\t\\t<p class=\"position\">Associate Professor Emeritus</p>\\n\\t\\t\\t\\t\\t\\t\\t\\t\\t\\t\\t\\t\\t</div>\\n\\t\\t\\t\\t\\t\\t\\t\\t\\t\\t\\t\\t\\t\\t\\t\\t\\t</div>\\n\\t\\t\\t\\t</article>\\n\\t\\t\\t\\t\\t\\t</div>\\n\\t\\t\\t\\t\\t\\t\\t\\t\\t\\t<div class=\"grid-square grid-people\">\\n\\t\\t\\t\\t\\t\\t\\t\\t\\t\\t\\t<article class=\"people\">\\n\\t\\t\\t\\t\\t<div class=\"grid-item\">\\n\\t\\t\\t\\t\\t\\t<a href=\"https://www.khoury.northeastern.edu/people/albert-laszlo-barabasi/\">\\n\\t\\t\\t\\t\\t\\t\\t\\t<div class=\"grid-image\"><img src=\"https://www.khoury.northeastern.edu/wp-content/uploads/2015/12/barabasi-index.jpg\" alt=\"\" /></div>\\n\\t\\t\\t\\t\\t\\t\\t\\t\\t\\t\\t\\t\\t\\t\\t<p class=\"roles\"><span class=\"role-23\">Tenured and Tenure Track Faculty</span></p>\\n\\t\\t\\t\\t\\t\\t\\t\\t\\t\\t\\t\\t\\t\\t<h3 class=\"person-name\">\\n\\t\\t\\t\\t\\t\\t\\t\\t\\tAlbert-L\\xc3\\xa1szl\\xc3\\xb3 Barab\\xc3\\xa1si\\t\\t\\t\\t\\t\\t\\t</h3>\\n\\t\\t\\t\\t\\t\\t</a>\\n\\t\\t\\t\\t\\t\\t\\t\\t\\t\\t\\t\\t<div class=\"position-list\">\\n\\t\\t\\t\\t\\t\\t\\t\\t\\t\\t\\t\\t\\t\\t\\t<p class=\"position\">Robert Gray Dodge Professor of Network Science</p>\\n\\t\\t\\t\\t\\t\\t\\t\\t\\t\\t\\t\\t\\t\\t\\t<p class=\"position\">Distinguished University Professor</p>\\n\\t\\t\\t\\t\\t\\t\\t\\t\\t\\t\\t\\t\\t\\t\\t<p class=\"position\">Interdisciplinary with College of Science</p>\\n\\t\\t\\t\\t\\t\\t\\t\\t\\t\\t\\t\\t\\t</div>\\n\\t\\t\\t\\t\\t\\t\\t\\t\\t\\t\\t\\t\\t\\t\\t\\t\\t</div>\\n\\t\\t\\t\\t</article>\\n\\t\\t\\t\\t\\t\\t</div>\\n\\t\\t\\t\\t\\t\\t\\t\\t\\t\\t<div class=\"grid-square grid-people\">\\n\\t\\t\\t\\t\\t\\t\\t\\t\\t\\t\\t<article class=\"people\">\\n\\t\\t\\t\\t\\t<div class=\"grid-item\">\\n\\t\\t\\t\\t\\t\\t<a href=\"https://www.khoury.northeastern.edu/people/timothy-bickmore/\">\\n\\t\\t\\t\\t\\t\\t\\t\\t<div class=\"grid-image\"><img src=\"https://www.khoury.northeastern.edu/wp-content/uploads/2016/02/Timothy-Bickmore-index-image.jpg\" alt=\"\" /></div>\\n\\t\\t\\t\\t\\t\\t\\t\\t\\t\\t\\t\\t\\t\\t\\t<p class=\"roles\"><span class=\"role-23\">Tenured and Tenure Track Faculty</span></p>\\n\\t\\t\\t\\t\\t\\t\\t\\t\\t\\t\\t\\t\\t\\t<h3 class=\"person-name\">\\n\\t\\t\\t\\t\\t\\t\\t\\t\\tTimothy W. Bickmore\\t\\t\\t\\t\\t\\t\\t</h3>\\n\\t\\t\\t\\t\\t\\t</a>\\n\\t\\t\\t\\t\\t\\t\\t\\t\\t\\t\\t\\t<div class=\"position-list\">\\n\\t\\t\\t\\t\\t\\t\\t\\t\\t\\t\\t\\t\\t\\t\\t<p class=\"position\">Professor</p>\\n\\t\\t\\t\\t\\t\\t\\t\\t\\t\\t\\t\\t\\t</div>\\n\\t\\t\\t\\t\\t\\t\\t\\t\\t\\t\\t\\t\\t\\t\\t\\t\\t</div>\\n\\t\\t\\t\\t</article>\\n\\t\\t\\t\\t\\t\\t</div>\\n\\t\\t\\t\\t\\t\\t\\t\\t\\t\\t<div class=\"grid-square grid-people\">\\n\\t\\t\\t\\t\\t\\t\\t\\t\\t\\t\\t<article class=\"people\">\\n\\t\\t\\t\\t\\t<div class=\"grid-item\">\\n\\t\\t\\t\\t\\t\\t<a href=\"https://www.khoury.northeastern.edu/people/michelle-borkin/\">\\n\\t\\t\\t\\t\\t\\t\\t\\t<div class=\"grid-image\"><img src=\"https://www.khoury.northeastern.edu/wp-content/uploads/2016/02/Michelle-Borkin-index-image.jpg\" alt=\"\" /></div>\\n\\t\\t\\t\\t\\t\\t\\t\\t\\t\\t\\t\\t\\t\\t\\t<p class=\"roles\"><span class=\"role-23\">Tenured and Tenure Track Faculty</span></p>\\n\\t\\t\\t\\t\\t\\t\\t\\t\\t\\t\\t\\t\\t\\t<h3 class=\"person-name\">\\n\\t\\t\\t\\t\\t\\t\\t\\t\\tMichelle Borkin\\t\\t\\t\\t\\t\\t\\t</h3>\\n\\t\\t\\t\\t\\t\\t</a>\\n\\t\\t\\t\\t\\t\\t\\t\\t\\t\\t\\t\\t<div class=\"position-list\">\\n\\t\\t\\t\\t\\t\\t\\t\\t\\t\\t\\t\\t\\t\\t\\t<p class=\"position\">Assistant Professor</p>\\n\\t\\t\\t\\t\\t\\t\\t\\t\\t\\t\\t\\t\\t</div>\\n\\t\\t\\t\\t\\t\\t\\t\\t\\t\\t\\t\\t\\t\\t\\t\\t\\t</div>\\n\\t\\t\\t\\t</article>\\n\\t\\t\\t\\t\\t\\t</div>\\n\\t\\t\\t\\t\\t\\t\\t\\t\\t\\t<div class=\"grid-square grid-people\">\\n\\t\\t\\t\\t\\t\\t\\t\\t\\t\\t\\t<article class=\"people\">\\n\\t\\t\\t\\t\\t<div class=\"grid-item\">\\n\\t\\t\\t\\t\\t\\t<a href=\"https://www.khoury.northeastern.edu/people/carla-brodley/\">\\n\\t\\t\\t\\t\\t\\t\\t\\t<div class=\"grid-image\"><img src=\"https://www.khoury.northeastern.edu/wp-content/uploads/2016/02/Carla-Brodley-index-image-e1456779225742.jpg\" alt=\"\" /></div>\\n\\t\\t\\t\\t\\t\\t\\t\\t\\t\\t\\t\\t\\t\\t\\t<p class=\"roles\"><span class=\"role-29\">Administrative Staff</span> <span class=\"role-23\">Tenured and Tenure Track Faculty</span></p>\\n\\t\\t\\t\\t\\t\\t\\t\\t\\t\\t\\t\\t\\t\\t<h3 class=\"person-name\">\\n\\t\\t\\t\\t\\t\\t\\t\\t\\tCarla E. Brodley\\t\\t\\t\\t\\t\\t\\t</h3>\\n\\t\\t\\t\\t\\t\\t</a>\\n\\t\\t\\t\\t\\t\\t\\t\\t\\t\\t\\t\\t<div class=\"position-list\">\\n\\t\\t\\t\\t\\t\\t\\t\\t\\t\\t\\t\\t\\t\\t\\t<p class=\"position\">Dean - Khoury College of Computer Sciences</p>\\n\\t\\t\\t\\t\\t\\t\\t\\t\\t\\t\\t\\t\\t\\t\\t<p class=\"position\">Professor</p>\\n\\t\\t\\t\\t\\t\\t\\t\\t\\t\\t\\t\\t\\t\\t\\t<p class=\"position\">Executive Director of the Center for Inclusive Computing</p>\\n\\t\\t\\t\\t\\t\\t\\t\\t\\t\\t\\t\\t\\t</div>\\n\\t\\t\\t\\t\\t\\t\\t\\t\\t\\t\\t\\t\\t\\t\\t\\t\\t</div>\\n\\t\\t\\t\\t</article>\\n\\t\\t\\t\\t\\t\\t</div>\\n\\t\\t\\t\\t\\t\\t\\t\\t\\t\\t<div class=\"grid-square grid-people\">\\n\\t\\t\\t\\t\\t\\t\\t\\t\\t\\t\\t<article class=\"people\">\\n\\t\\t\\t\\t\\t<div class=\"grid-item\">\\n\\t\\t\\t\\t\\t\\t<a href=\"https://www.khoury.northeastern.edu/people/agnes-chan/\">\\n\\t\\t\\t\\t\\t\\t\\t\\t<div class=\"grid-image\"><img src=\"https://www.khoury.northeastern.edu/wp-content/uploads/2016/02/Agnes-Chan-index-image-e1456779295334.jpg\" alt=\"\" /></div>\\n\\t\\t\\t\\t\\t\\t\\t\\t\\t\\t\\t\\t\\t\\t\\t<p class=\"roles\"><span class=\"role-23\">Tenured and Tenure Track Faculty</span></p>\\n\\t\\t\\t\\t\\t\\t\\t\\t\\t\\t\\t\\t\\t\\t<h3 class=\"person-name\">\\n\\t\\t\\t\\t\\t\\t\\t\\t\\tAgnes H. Chan\\t\\t\\t\\t\\t\\t\\t</h3>\\n\\t\\t\\t\\t\\t\\t</a>\\n\\t\\t\\t\\t\\t\\t\\t\\t\\t\\t\\t\\t<div class=\"position-list\">\\n\\t\\t\\t\\t\\t\\t\\t\\t\\t\\t\\t\\t\\t\\t\\t<p class=\"position\">Professor Emeritus</p>\\n\\t\\t\\t\\t\\t\\t\\t\\t\\t\\t\\t\\t\\t</div>\\n\\t\\t\\t\\t\\t\\t\\t\\t\\t\\t\\t\\t\\t\\t\\t\\t\\t</div>\\n\\t\\t\\t\\t</article>\\n\\t\\t\\t\\t\\t\\t</div>\\n\\t\\t\\t\\t\\t\\t\\t\\t\\t\\t<div class=\"grid-square grid-people\">\\n\\t\\t\\t\\t\\t\\t\\t\\t\\t\\t\\t<article class=\"people\">\\n\\t\\t\\t\\t\\t<div class=\"grid-item\">\\n\\t\\t\\t\\t\\t\\t<a href=\"https://www.khoury.northeastern.edu/people/david-choffnes/\">\\n\\t\\t\\t\\t\\t\\t\\t\\t<div class=\"grid-image\"><img src=\"https://www.khoury.northeastern.edu/wp-content/uploads/2016/03/David-Choffnes-Index-Image.jpg\" alt=\"\" /></div>\\n\\t\\t\\t\\t\\t\\t\\t\\t\\t\\t\\t\\t\\t\\t\\t<p class=\"roles\"><span class=\"role-23\">Tenured and Tenure Track Faculty</span></p>\\n\\t\\t\\t\\t\\t\\t\\t\\t\\t\\t\\t\\t\\t\\t<h3 class=\"person-name\">\\n\\t\\t\\t\\t\\t\\t\\t\\t\\tDavid Choffnes\\t\\t\\t\\t\\t\\t\\t</h3>\\n\\t\\t\\t\\t\\t\\t</a>\\n\\t\\t\\t\\t\\t\\t\\t\\t\\t\\t\\t\\t<div class=\"position-list\">\\n\\t\\t\\t\\t\\t\\t\\t\\t\\t\\t\\t\\t\\t\\t\\t<p class=\"position\">Associate Professor</p>\\n\\t\\t\\t\\t\\t\\t\\t\\t\\t\\t\\t\\t\\t</div>\\n\\t\\t\\t\\t\\t\\t\\t\\t\\t\\t\\t\\t\\t\\t\\t\\t\\t</div>\\n\\t\\t\\t\\t</article>\\n\\t\\t\\t\\t\\t\\t</div>\\n\\t\\t\\t\\t\\t\\t\\t\\t\\t\\t<div class=\"grid-square grid-people\">\\n\\t\\t\\t\\t\\t\\t\\t\\t\\t\\t\\t<article class=\"people\">\\n\\t\\t\\t\\t\\t<div class=\"grid-item\">\\n\\t\\t\\t\\t\\t\\t<a href=\"https://www.khoury.northeastern.edu/people/william-d-clinger/\">\\n\\t\\t\\t\\t\\t\\t\\t\\t<div class=\"grid-image\"><img src=\"https://www.khoury.northeastern.edu/wp-content/uploads/2016/02/William-Clinger-index-image.jpg\" alt=\"\" /></div>\\n\\t\\t\\t\\t\\t\\t\\t\\t\\t\\t\\t\\t\\t\\t\\t<p class=\"roles\"><span class=\"role-23\">Tenured and Tenure Track Faculty</span></p>\\n\\t\\t\\t\\t\\t\\t\\t\\t\\t\\t\\t\\t\\t\\t<h3 class=\"person-name\">\\n\\t\\t\\t\\t\\t\\t\\t\\t\\tWilliam D. Clinger\\t\\t\\t\\t\\t\\t\\t</h3>\\n\\t\\t\\t\\t\\t\\t</a>\\n\\t\\t\\t\\t\\t\\t\\t\\t\\t\\t\\t\\t<div class=\"position-list\">\\n\\t\\t\\t\\t\\t\\t\\t\\t\\t\\t\\t\\t\\t\\t\\t<p class=\"position\">Professor Emeritus</p>\\n\\t\\t\\t\\t\\t\\t\\t\\t\\t\\t\\t\\t\\t</div>\\n\\t\\t\\t\\t\\t\\t\\t\\t\\t\\t\\t\\t\\t\\t\\t\\t\\t</div>\\n\\t\\t\\t\\t</article>\\n\\t\\t\\t\\t\\t\\t</div>\\n\\t\\t\\t\\t\\t\\t\\t\\t\\t\\t<div class=\"grid-square grid-people\">\\n\\t\\t\\t\\t\\t\\t\\t\\t\\t\\t\\t<article class=\"people\">\\n\\t\\t\\t\\t\\t<div class=\"grid-item\">\\n\\t\\t\\t\\t\\t\\t<a href=\"https://www.khoury.northeastern.edu/people/seth-cooper/\">\\n\\t\\t\\t\\t\\t\\t\\t\\t<div class=\"grid-image\"><img src=\"https://www.khoury.northeastern.edu/wp-content/uploads/2016/02/Seth-Cooper-index-image.jpg\" alt=\"\" /></div>\\n\\t\\t\\t\\t\\t\\t\\t\\t\\t\\t\\t\\t\\t\\t\\t<p class=\"roles\"><span class=\"role-23\">Tenured and Tenure Track Faculty</span></p>\\n\\t\\t\\t\\t\\t\\t\\t\\t\\t\\t\\t\\t\\t\\t<h3 class=\"person-name\">\\n\\t\\t\\t\\t\\t\\t\\t\\t\\tSeth Cooper\\t\\t\\t\\t\\t\\t\\t</h3>\\n\\t\\t\\t\\t\\t\\t</a>\\n\\t\\t\\t\\t\\t\\t\\t\\t\\t\\t\\t\\t<div class=\"position-list\">\\n\\t\\t\\t\\t\\t\\t\\t\\t\\t\\t\\t\\t\\t\\t\\t<p class=\"position\">Assistant Professor</p>\\n\\t\\t\\t\\t\\t\\t\\t\\t\\t\\t\\t\\t\\t</div>\\n\\t\\t\\t\\t\\t\\t\\t\\t\\t\\t\\t\\t\\t\\t\\t\\t\\t</div>\\n\\t\\t\\t\\t</article>\\n\\t\\t\\t\\t\\t\\t</div>\\n\\t\\t\\t\\t\\t\\t\\t\\t\\t\\t<div class=\"grid-square grid-people\">\\n\\t\\t\\t\\t\\t\\t\\t\\t\\t\\t\\t<article class=\"people\">\\n\\t\\t\\t\\t\\t<div class=\"grid-item\">\\n\\t\\t\\t\\t\\t\\t<a href=\"https://www.khoury.northeastern.edu/people/gene-cooperman/\">\\n\\t\\t\\t\\t\\t\\t\\t\\t<div class=\"grid-image\"><img src=\"https://www.khoury.northeastern.edu/wp-content/uploads/2016/02/Gene-Cooperman-index-image-e1456779126336.jpg\" alt=\"\" /></div>\\n\\t\\t\\t\\t\\t\\t\\t\\t\\t\\t\\t\\t\\t\\t\\t<p class=\"roles\"><span class=\"role-23\">Tenured and Tenure Track Faculty</span></p>\\n\\t\\t\\t\\t\\t\\t\\t\\t\\t\\t\\t\\t\\t\\t<h3 class=\"person-name\">\\n\\t\\t\\t\\t\\t\\t\\t\\t\\tGene Cooperman\\t\\t\\t\\t\\t\\t\\t</h3>\\n\\t\\t\\t\\t\\t\\t</a>\\n\\t\\t\\t\\t\\t\\t\\t\\t\\t\\t\\t\\t<div class=\"position-list\">\\n\\t\\t\\t\\t\\t\\t\\t\\t\\t\\t\\t\\t\\t\\t\\t<p class=\"position\">Professor</p>\\n\\t\\t\\t\\t\\t\\t\\t\\t\\t\\t\\t\\t\\t</div>\\n\\t\\t\\t\\t\\t\\t\\t\\t\\t\\t\\t\\t\\t\\t\\t\\t\\t</div>\\n\\t\\t\\t\\t</article>\\n\\t\\t\\t\\t\\t\\t</div>\\n\\t\\t\\t\\t\\t\\t\\t\\t\\t\\t<div class=\"grid-square grid-people\">\\n\\t\\t\\t\\t\\t\\t\\t\\t\\t\\t\\t<article class=\"people\">\\n\\t\\t\\t\\t\\t<div class=\"grid-item\">\\n\\t\\t\\t\\t\\t\\t<a href=\"https://www.khoury.northeastern.edu/people/peter-desnoyers/\">\\n\\t\\t\\t\\t\\t\\t\\t\\t<div class=\"grid-image\"><img src=\"https://www.khoury.northeastern.edu/wp-content/uploads/2016/02/Peter-Desnoyers-index-image-e1456759566934.jpg\" alt=\"\" /></div>\\n\\t\\t\\t\\t\\t\\t\\t\\t\\t\\t\\t\\t\\t\\t\\t<p class=\"roles\"><span class=\"role-23\">Tenured and Tenure Track Faculty</span></p>\\n\\t\\t\\t\\t\\t\\t\\t\\t\\t\\t\\t\\t\\t\\t<h3 class=\"person-name\">\\n\\t\\t\\t\\t\\t\\t\\t\\t\\tPeter Desnoyers\\t\\t\\t\\t\\t\\t\\t</h3>\\n\\t\\t\\t\\t\\t\\t</a>\\n\\t\\t\\t\\t\\t\\t\\t\\t\\t\\t\\t\\t<div class=\"position-list\">\\n\\t\\t\\t\\t\\t\\t\\t\\t\\t\\t\\t\\t\\t\\t\\t<p class=\"position\">Associate Professor</p>\\n\\t\\t\\t\\t\\t\\t\\t\\t\\t\\t\\t\\t\\t</div>\\n\\t\\t\\t\\t\\t\\t\\t\\t\\t\\t\\t\\t\\t\\t\\t\\t\\t</div>\\n\\t\\t\\t\\t</article>\\n\\t\\t\\t\\t\\t\\t</div>\\n\\t\\t\\t\\t\\t\\t\\t\\t\\t\\t<div class=\"grid-square grid-people\">\\n\\t\\t\\t\\t\\t\\t\\t\\t\\t\\t\\t<article class=\"people\">\\n\\t\\t\\t\\t\\t<div class=\"grid-item\">\\n\\t\\t\\t\\t\\t\\t<a href=\"https://www.khoury.northeastern.edu/people/cody-dunne/\">\\n\\t\\t\\t\\t\\t\\t\\t\\t<div class=\"grid-image\"><img src=\"https://www.khoury.northeastern.edu/wp-content/uploads/2016/09/Dunne_Cody-index-image.jpg\" alt=\"\" /></div>\\n\\t\\t\\t\\t\\t\\t\\t\\t\\t\\t\\t\\t\\t\\t\\t<p class=\"roles\"><span class=\"role-23\">Tenured and Tenure Track Faculty</span></p>\\n\\t\\t\\t\\t\\t\\t\\t\\t\\t\\t\\t\\t\\t\\t<h3 class=\"person-name\">\\n\\t\\t\\t\\t\\t\\t\\t\\t\\tCody Dunne\\t\\t\\t\\t\\t\\t\\t</h3>\\n\\t\\t\\t\\t\\t\\t</a>\\n\\t\\t\\t\\t\\t\\t\\t\\t\\t\\t\\t\\t<div class=\"position-list\">\\n\\t\\t\\t\\t\\t\\t\\t\\t\\t\\t\\t\\t\\t\\t\\t<p class=\"position\">Assistant Professor</p>\\n\\t\\t\\t\\t\\t\\t\\t\\t\\t\\t\\t\\t\\t</div>\\n\\t\\t\\t\\t\\t\\t\\t\\t\\t\\t\\t\\t\\t\\t\\t\\t\\t</div>\\n\\t\\t\\t\\t</article>\\n\\t\\t\\t\\t\\t\\t</div>\\n\\t\\t\\t\\t\\t\\t\\t\\t\\t\\t<div class=\"grid-square grid-people\">\\n\\t\\t\\t\\t\\t\\t\\t\\t\\t\\t\\t<article class=\"people\">\\n\\t\\t\\t\\t\\t<div class=\"grid-item\">\\n\\t\\t\\t\\t\\t\\t<a href=\"https://www.khoury.northeastern.edu/people/ehsan-elhamifar/\">\\n\\t\\t\\t\\t\\t\\t\\t\\t<div class=\"grid-image\"><img src=\"https://www.khoury.northeastern.edu/wp-content/uploads/2016/02/linderpix-NEU-5502-web-bio-photo.jpg\" alt=\"\" /></div>\\n\\t\\t\\t\\t\\t\\t\\t\\t\\t\\t\\t\\t\\t\\t\\t<p class=\"roles\"><span class=\"role-23\">Tenured and Tenure Track Faculty</span></p>\\n\\t\\t\\t\\t\\t\\t\\t\\t\\t\\t\\t\\t\\t\\t<h3 class=\"person-name\">\\n\\t\\t\\t\\t\\t\\t\\t\\t\\tEhsan Elhamifar\\t\\t\\t\\t\\t\\t\\t</h3>\\n\\t\\t\\t\\t\\t\\t</a>\\n\\t\\t\\t\\t\\t\\t\\t\\t\\t\\t\\t\\t<div class=\"position-list\">\\n\\t\\t\\t\\t\\t\\t\\t\\t\\t\\t\\t\\t\\t\\t\\t<p class=\"position\">Assistant Professor</p>\\n\\t\\t\\t\\t\\t\\t\\t\\t\\t\\t\\t\\t\\t\\t\\t<p class=\"position\">Interdisciplinary with College of Engineering</p>\\n\\t\\t\\t\\t\\t\\t\\t\\t\\t\\t\\t\\t\\t</div>\\n\\t\\t\\t\\t\\t\\t\\t\\t\\t\\t\\t\\t\\t\\t\\t\\t\\t</div>\\n\\t\\t\\t\\t</article>\\n\\t\\t\\t\\t\\t\\t</div>\\n\\t\\t\\t\\t\\t\\t\\t\\t\\t\\t<div class=\"grid-square grid-people\">\\n\\t\\t\\t\\t\\t\\t\\t\\t\\t\\t\\t<article class=\"people\">\\n\\t\\t\\t\\t\\t<div class=\"grid-item\">\\n\\t\\t\\t\\t\\t\\t<a href=\"https://www.khoury.northeastern.edu/people/tina-eliassi-rad/\">\\n\\t\\t\\t\\t\\t\\t\\t\\t<div class=\"grid-image\"><img src=\"https://www.khoury.northeastern.edu/wp-content/uploads/2016/02/Eliassi-Rad_Tina-index-image-1.jpg\" alt=\"\" /></div>\\n\\t\\t\\t\\t\\t\\t\\t\\t\\t\\t\\t\\t\\t\\t\\t<p class=\"roles\"><span class=\"role-23\">Tenured and Tenure Track Faculty</span></p>\\n\\t\\t\\t\\t\\t\\t\\t\\t\\t\\t\\t\\t\\t\\t<h3 class=\"person-name\">\\n\\t\\t\\t\\t\\t\\t\\t\\t\\tTina Eliassi-Rad\\t\\t\\t\\t\\t\\t\\t</h3>\\n\\t\\t\\t\\t\\t\\t</a>\\n\\t\\t\\t\\t\\t\\t\\t\\t\\t\\t\\t\\t<div class=\"position-list\">\\n\\t\\t\\t\\t\\t\\t\\t\\t\\t\\t\\t\\t\\t\\t\\t<p class=\"position\">Associate Professor</p>\\n\\t\\t\\t\\t\\t\\t\\t\\t\\t\\t\\t\\t\\t</div>\\n\\t\\t\\t\\t\\t\\t\\t\\t\\t\\t\\t\\t\\t\\t\\t\\t\\t</div>\\n\\t\\t\\t\\t</article>\\n\\t\\t\\t\\t\\t\\t</div>\\n\\t\\t\\t\\t\\t\\t\\t\\t\\t\\t<div class=\"grid-square grid-people\">\\n\\t\\t\\t\\t\\t\\t\\t\\t\\t\\t\\t<article class=\"people\">\\n\\t\\t\\t\\t\\t<div class=\"grid-item\">\\n\\t\\t\\t\\t\\t\\t<a href=\"https://www.khoury.northeastern.edu/people/don-fallis/\">\\n\\t\\t\\t\\t\\t\\t\\t\\t<div class=\"grid-image\"><img src=\"https://www.khoury.northeastern.edu/wp-content/uploads/2019/02/donf25-839x1024-e1556114115240.jpg\" alt=\"\" /></div>\\n\\t\\t\\t\\t\\t\\t\\t\\t\\t\\t\\t\\t\\t\\t\\t<p class=\"roles\"><span class=\"role-23\">Tenured and Tenure Track Faculty</span></p>\\n\\t\\t\\t\\t\\t\\t\\t\\t\\t\\t\\t\\t\\t\\t<h3 class=\"person-name\">\\n\\t\\t\\t\\t\\t\\t\\t\\t\\tDon Fallis\\t\\t\\t\\t\\t\\t\\t</h3>\\n\\t\\t\\t\\t\\t\\t</a>\\n\\t\\t\\t\\t\\t\\t\\t\\t\\t\\t\\t\\t<div class=\"position-list\">\\n\\t\\t\\t\\t\\t\\t\\t\\t\\t\\t\\t\\t\\t\\t\\t<p class=\"position\">Professor of Philosophy and Computer Sciences</p>\\n\\t\\t\\t\\t\\t\\t\\t\\t\\t\\t\\t\\t\\t\\t\\t<p class=\"position\">Interdisciplinary with College of Social Sciences and Humanities</p>\\n\\t\\t\\t\\t\\t\\t\\t\\t\\t\\t\\t\\t\\t</div>\\n\\t\\t\\t\\t\\t\\t\\t\\t\\t\\t\\t\\t\\t\\t\\t\\t\\t</div>\\n\\t\\t\\t\\t</article>\\n\\t\\t\\t\\t\\t\\t</div>\\n\\t\\t\\t\\t\\t\\t\\t\\t\\t\\t<div class=\"grid-square grid-people\">\\n\\t\\t\\t\\t\\t\\t\\t\\t\\t\\t\\t<article class=\"people\">\\n\\t\\t\\t\\t\\t<div class=\"grid-item\">\\n\\t\\t\\t\\t\\t\\t<a href=\"https://www.khoury.northeastern.edu/people/matthias-felleisen/\">\\n\\t\\t\\t\\t\\t\\t\\t\\t<div class=\"grid-image\"><img src=\"https://www.khoury.northeastern.edu/wp-content/uploads/2016/02/Matthias-Felleisen-index-image-e1456779017397.jpg\" alt=\"\" /></div>\\n\\t\\t\\t\\t\\t\\t\\t\\t\\t\\t\\t\\t\\t\\t\\t<p class=\"roles\"><span class=\"role-23\">Tenured and Tenure Track Faculty</span></p>\\n\\t\\t\\t\\t\\t\\t\\t\\t\\t\\t\\t\\t\\t\\t<h3 class=\"person-name\">\\n\\t\\t\\t\\t\\t\\t\\t\\t\\tMatthias Felleisen\\t\\t\\t\\t\\t\\t\\t</h3>\\n\\t\\t\\t\\t\\t\\t</a>\\n\\t\\t\\t\\t\\t\\t\\t\\t\\t\\t\\t\\t<div class=\"position-list\">\\n\\t\\t\\t\\t\\t\\t\\t\\t\\t\\t\\t\\t\\t\\t\\t<p class=\"position\">Trustee Professor</p>\\n\\t\\t\\t\\t\\t\\t\\t\\t\\t\\t\\t\\t\\t</div>\\n\\t\\t\\t\\t\\t\\t\\t\\t\\t\\t\\t\\t\\t\\t\\t\\t\\t</div>\\n\\t\\t\\t\\t</article>\\n\\t\\t\\t\\t\\t\\t</div>\\n\\t\\t\\t\\t\\t\\t\\t\\t\\t\\t<div class=\"grid-square grid-people\">\\n\\t\\t\\t\\t\\t\\t\\t\\t\\t\\t\\t<article class=\"people\">\\n\\t\\t\\t\\t\\t<div class=\"grid-item\">\\n\\t\\t\\t\\t\\t\\t<a href=\"https://www.khoury.northeastern.edu/people/larry-finkelstein/\">\\n\\t\\t\\t\\t\\t\\t\\t\\t<div class=\"grid-image\"><img src=\"https://www.khoury.northeastern.edu/wp-content/uploads/2016/02/Larry-Finkelstein-index-image-e1456759281894.jpg\" alt=\"\" /></div>\\n\\t\\t\\t\\t\\t\\t\\t\\t\\t\\t\\t\\t\\t\\t\\t<p class=\"roles\"><span class=\"role-23\">Tenured and Tenure Track Faculty</span></p>\\n\\t\\t\\t\\t\\t\\t\\t\\t\\t\\t\\t\\t\\t\\t<h3 class=\"person-name\">\\n\\t\\t\\t\\t\\t\\t\\t\\t\\tLarry Finkelstein\\t\\t\\t\\t\\t\\t\\t</h3>\\n\\t\\t\\t\\t\\t\\t</a>\\n\\t\\t\\t\\t\\t\\t\\t\\t\\t\\t\\t\\t<div class=\"position-list\">\\n\\t\\t\\t\\t\\t\\t\\t\\t\\t\\t\\t\\t\\t\\t\\t<p class=\"position\">Professor Emeritus</p>\\n\\t\\t\\t\\t\\t\\t\\t\\t\\t\\t\\t\\t\\t\\t\\t<p class=\"position\">Dean Emeritus</p>\\n\\t\\t\\t\\t\\t\\t\\t\\t\\t\\t\\t\\t\\t</div>\\n\\t\\t\\t\\t\\t\\t\\t\\t\\t\\t\\t\\t\\t\\t\\t\\t\\t</div>\\n\\t\\t\\t\\t</article>\\n\\t\\t\\t\\t\\t\\t</div>\\n\\t\\t\\t\\t\\t\\t\\t\\t\\t\\t<div class=\"grid-square grid-people\">\\n\\t\\t\\t\\t\\t\\t\\t\\t\\t\\t\\t<article class=\"people\">\\n\\t\\t\\t\\t\\t<div class=\"grid-item\">\\n\\t\\t\\t\\t\\t\\t<a href=\"https://www.khoury.northeastern.edu/people/raymond-yun-fu/\">\\n\\t\\t\\t\\t\\t\\t\\t\\t<div class=\"grid-image\"><img src=\"https://www.khoury.northeastern.edu/wp-content/uploads/2016/02/Raymond-Fu-index-image.jpg\" alt=\"\" /></div>\\n\\t\\t\\t\\t\\t\\t\\t\\t\\t\\t\\t\\t\\t\\t\\t<p class=\"roles\"><span class=\"role-23\">Tenured and Tenure Track Faculty</span></p>\\n\\t\\t\\t\\t\\t\\t\\t\\t\\t\\t\\t\\t\\t\\t<h3 class=\"person-name\">\\n\\t\\t\\t\\t\\t\\t\\t\\t\\tYun (Raymond) Fu\\t\\t\\t\\t\\t\\t\\t</h3>\\n\\t\\t\\t\\t\\t\\t</a>\\n\\t\\t\\t\\t\\t\\t\\t\\t\\t\\t\\t\\t<div class=\"position-list\">\\n\\t\\t\\t\\t\\t\\t\\t\\t\\t\\t\\t\\t\\t\\t\\t<p class=\"position\">Professor</p>\\n\\t\\t\\t\\t\\t\\t\\t\\t\\t\\t\\t\\t\\t\\t\\t<p class=\"position\">Interdisciplinary with College of Engineering</p>\\n\\t\\t\\t\\t\\t\\t\\t\\t\\t\\t\\t\\t\\t</div>\\n\\t\\t\\t\\t\\t\\t\\t\\t\\t\\t\\t\\t\\t\\t\\t\\t\\t</div>\\n\\t\\t\\t\\t</article>\\n\\t\\t\\t\\t\\t\\t</div>\\n\\t\\t\\t\\t\\t\\t\\t\\t\\t\\t<div class=\"grid-square grid-people\">\\n\\t\\t\\t\\t\\t\\t\\t\\t\\t\\t\\t<article class=\"people\">\\n\\t\\t\\t\\t\\t<div class=\"grid-item\">\\n\\t\\t\\t\\t\\t\\t<a href=\"https://www.khoury.northeastern.edu/people/wolfgang-gatterbauer/\">\\n\\t\\t\\t\\t\\t\\t\\t\\t<div class=\"grid-image\"><img src=\"https://www.khoury.northeastern.edu/wp-content/uploads/2017/08/linderpix-NEU-56875-index.jpg\" alt=\"\" /></div>\\n\\t\\t\\t\\t\\t\\t\\t\\t\\t\\t\\t\\t\\t\\t\\t<p class=\"roles\"><span class=\"role-23\">Tenured and Tenure Track Faculty</span></p>\\n\\t\\t\\t\\t\\t\\t\\t\\t\\t\\t\\t\\t\\t\\t<h3 class=\"person-name\">\\n\\t\\t\\t\\t\\t\\t\\t\\t\\tWolfgang Gatterbauer\\t\\t\\t\\t\\t\\t\\t</h3>\\n\\t\\t\\t\\t\\t\\t</a>\\n\\t\\t\\t\\t\\t\\t\\t\\t\\t\\t\\t\\t<div class=\"position-list\">\\n\\t\\t\\t\\t\\t\\t\\t\\t\\t\\t\\t\\t\\t\\t\\t<p class=\"position\">Associate Professor</p>\\n\\t\\t\\t\\t\\t\\t\\t\\t\\t\\t\\t\\t\\t</div>\\n\\t\\t\\t\\t\\t\\t\\t\\t\\t\\t\\t\\t\\t\\t\\t\\t\\t</div>\\n\\t\\t\\t\\t</article>\\n\\t\\t\\t\\t\\t\\t</div>\\n\\t\\t\\t\\t\\t\\t\\t\\t\\t\\t<div class=\"grid-square grid-people\">\\n\\t\\t\\t\\t\\t\\t\\t\\t\\t\\t\\t<article class=\"people\">\\n\\t\\t\\t\\t\\t<div class=\"grid-item\">\\n\\t\\t\\t\\t\\t\\t<a href=\"https://www.khoury.northeastern.edu/people/matthew-goodwin/\">\\n\\t\\t\\t\\t\\t\\t\\t\\t<div class=\"grid-image\"><img src=\"https://www.khoury.northeastern.edu/wp-content/uploads/2016/02/Matthew-Goodwin-index-image.jpg\" alt=\"\" /></div>\\n\\t\\t\\t\\t\\t\\t\\t\\t\\t\\t\\t\\t\\t\\t\\t<p class=\"roles\"><span class=\"role-23\">Tenured and Tenure Track Faculty</span></p>\\n\\t\\t\\t\\t\\t\\t\\t\\t\\t\\t\\t\\t\\t\\t<h3 class=\"person-name\">\\n\\t\\t\\t\\t\\t\\t\\t\\t\\tMatthew Goodwin\\t\\t\\t\\t\\t\\t\\t</h3>\\n\\t\\t\\t\\t\\t\\t</a>\\n\\t\\t\\t\\t\\t\\t\\t\\t\\t\\t\\t\\t<div class=\"position-list\">\\n\\t\\t\\t\\t\\t\\t\\t\\t\\t\\t\\t\\t\\t\\t\\t<p class=\"position\">Associate Professor</p>\\n\\t\\t\\t\\t\\t\\t\\t\\t\\t\\t\\t\\t\\t\\t\\t<p class=\"position\">Interdisciplinary with Bouv\\xc3\\xa9 College of Health Sciences</p>\\n\\t\\t\\t\\t\\t\\t\\t\\t\\t\\t\\t\\t\\t</div>\\n\\t\\t\\t\\t\\t\\t\\t\\t\\t\\t\\t\\t\\t\\t\\t\\t\\t</div>\\n\\t\\t\\t\\t</article>\\n\\t\\t\\t\\t\\t\\t</div>\\n\\t\\t\\t\\t\\t\\t\\t\\t\\t\\t<div class=\"grid-square grid-people\">\\n\\t\\t\\t\\t\\t\\t\\t\\t\\t\\t\\t<article class=\"people\">\\n\\t\\t\\t\\t\\t<div class=\"grid-item\">\\n\\t\\t\\t\\t\\t\\t<a href=\"https://www.khoury.northeastern.edu/people/paul-hand/\">\\n\\t\\t\\t\\t\\t\\t\\t\\t<div class=\"grid-image\"><img src=\"https://www.khoury.northeastern.edu/wp-content/uploads/2018/08/linderpix-NEU-8496-crop.jpg\" alt=\"\" /></div>\\n\\t\\t\\t\\t\\t\\t\\t\\t\\t\\t\\t\\t\\t\\t\\t<p class=\"roles\"><span class=\"role-23\">Tenured and Tenure Track Faculty</span></p>\\n\\t\\t\\t\\t\\t\\t\\t\\t\\t\\t\\t\\t\\t\\t<h3 class=\"person-name\">\\n\\t\\t\\t\\t\\t\\t\\t\\t\\tPaul Hand\\t\\t\\t\\t\\t\\t\\t</h3>\\n\\t\\t\\t\\t\\t\\t</a>\\n\\t\\t\\t\\t\\t\\t\\t\\t\\t\\t\\t\\t<div class=\"position-list\">\\n\\t\\t\\t\\t\\t\\t\\t\\t\\t\\t\\t\\t\\t\\t\\t<p class=\"position\">Assistant Professor </p>\\n\\t\\t\\t\\t\\t\\t\\t\\t\\t\\t\\t\\t\\t\\t\\t<p class=\"position\">Interdisciplinary with College of Science</p>\\n\\t\\t\\t\\t\\t\\t\\t\\t\\t\\t\\t\\t\\t</div>\\n\\t\\t\\t\\t\\t\\t\\t\\t\\t\\t\\t\\t\\t\\t\\t\\t\\t</div>\\n\\t\\t\\t\\t</article>\\n\\t\\t\\t\\t\\t\\t</div>\\n\\t\\t\\t\\t\\t\\t\\t\\t\\t\\t<div class=\"grid-square grid-people\">\\n\\t\\t\\t\\t\\t\\t\\t\\t\\t\\t\\t<article class=\"people\">\\n\\t\\t\\t\\t\\t<div class=\"grid-item\">\\n\\t\\t\\t\\t\\t\\t<a href=\"https://www.khoury.northeastern.edu/people/woodrow-hartzog/\">\\n\\t\\t\\t\\t\\t\\t\\t\\t<div class=\"grid-image\"><img src=\"https://www.khoury.northeastern.edu/wp-content/uploads/2017/08/linderpix-NEU-56973-crop.jpg\" alt=\"\" /></div>\\n\\t\\t\\t\\t\\t\\t\\t\\t\\t\\t\\t\\t\\t\\t\\t<p class=\"roles\"><span class=\"role-23\">Tenured and Tenure Track Faculty</span></p>\\n\\t\\t\\t\\t\\t\\t\\t\\t\\t\\t\\t\\t\\t\\t<h3 class=\"person-name\">\\n\\t\\t\\t\\t\\t\\t\\t\\t\\tWoodrow Hartzog\\t\\t\\t\\t\\t\\t\\t</h3>\\n\\t\\t\\t\\t\\t\\t</a>\\n\\t\\t\\t\\t\\t\\t\\t\\t\\t\\t\\t\\t<div class=\"position-list\">\\n\\t\\t\\t\\t\\t\\t\\t\\t\\t\\t\\t\\t\\t\\t\\t<p class=\"position\">Professor</p>\\n\\t\\t\\t\\t\\t\\t\\t\\t\\t\\t\\t\\t\\t\\t\\t<p class=\"position\">Interdisciplinary with the School of Law</p>\\n\\t\\t\\t\\t\\t\\t\\t\\t\\t\\t\\t\\t\\t</div>\\n\\t\\t\\t\\t\\t\\t\\t\\t\\t\\t\\t\\t\\t\\t\\t\\t\\t</div>\\n\\t\\t\\t\\t</article>\\n\\t\\t\\t\\t\\t\\t</div>\\n\\t\\t\\t\\t\\t\\t\\t\\t\\t\\t<div class=\"grid-square grid-people\">\\n\\t\\t\\t\\t\\t\\t\\t\\t\\t\\t\\t<article class=\"people\">\\n\\t\\t\\t\\t\\t<div class=\"grid-item\">\\n\\t\\t\\t\\t\\t\\t<a href=\"https://www.khoury.northeastern.edu/people/stephen-intille/\">\\n\\t\\t\\t\\t\\t\\t\\t\\t<div class=\"grid-image\"><img src=\"https://www.khoury.northeastern.edu/wp-content/uploads/2016/02/Stephen-Intille-index-image.jpg\" alt=\"\" /></div>\\n\\t\\t\\t\\t\\t\\t\\t\\t\\t\\t\\t\\t\\t\\t\\t<p class=\"roles\"><span class=\"role-23\">Tenured and Tenure Track Faculty</span></p>\\n\\t\\t\\t\\t\\t\\t\\t\\t\\t\\t\\t\\t\\t\\t<h3 class=\"person-name\">\\n\\t\\t\\t\\t\\t\\t\\t\\t\\tStephen Intille\\t\\t\\t\\t\\t\\t\\t</h3>\\n\\t\\t\\t\\t\\t\\t</a>\\n\\t\\t\\t\\t\\t\\t\\t\\t\\t\\t\\t\\t<div class=\"position-list\">\\n\\t\\t\\t\\t\\t\\t\\t\\t\\t\\t\\t\\t\\t\\t\\t<p class=\"position\">Associate Professor</p>\\n\\t\\t\\t\\t\\t\\t\\t\\t\\t\\t\\t\\t\\t\\t\\t<p class=\"position\">Interdisciplinary with Bouv\\xc3\\xa9 College of Health Sciences</p>\\n\\t\\t\\t\\t\\t\\t\\t\\t\\t\\t\\t\\t\\t</div>\\n\\t\\t\\t\\t\\t\\t\\t\\t\\t\\t\\t\\t\\t\\t\\t\\t\\t</div>\\n\\t\\t\\t\\t</article>\\n\\t\\t\\t\\t\\t\\t</div>\\n\\t\\t\\t\\t\\t\\t\\t\\t\\t\\t<div class=\"grid-square grid-people\">\\n\\t\\t\\t\\t\\t\\t\\t\\t\\t\\t\\t<article class=\"people\">\\n\\t\\t\\t\\t\\t<div class=\"grid-item\">\\n\\t\\t\\t\\t\\t\\t<a href=\"https://www.khoury.northeastern.edu/people/engin-kirda/\">\\n\\t\\t\\t\\t\\t\\t\\t\\t<div class=\"grid-image\"><img src=\"https://www.khoury.northeastern.edu/wp-content/uploads/2016/03/Engin-Kirda-Index-Image.jpg\" alt=\"\" /></div>\\n\\t\\t\\t\\t\\t\\t\\t\\t\\t\\t\\t\\t\\t\\t\\t<p class=\"roles\"><span class=\"role-23\">Tenured and Tenure Track Faculty</span></p>\\n\\t\\t\\t\\t\\t\\t\\t\\t\\t\\t\\t\\t\\t\\t<h3 class=\"person-name\">\\n\\t\\t\\t\\t\\t\\t\\t\\t\\tEngin Kirda\\t\\t\\t\\t\\t\\t\\t</h3>\\n\\t\\t\\t\\t\\t\\t</a>\\n\\t\\t\\t\\t\\t\\t\\t\\t\\t\\t\\t\\t<div class=\"position-list\">\\n\\t\\t\\t\\t\\t\\t\\t\\t\\t\\t\\t\\t\\t\\t\\t<p class=\"position\">Professor</p>\\n\\t\\t\\t\\t\\t\\t\\t\\t\\t\\t\\t\\t\\t\\t\\t<p class=\"position\">Executive Director - Cybersecurity and Privacy Institute</p>\\n\\t\\t\\t\\t\\t\\t\\t\\t\\t\\t\\t\\t\\t\\t\\t<p class=\"position\">Interdisciplinary with College of Engineering</p>\\n\\t\\t\\t\\t\\t\\t\\t\\t\\t\\t\\t\\t\\t</div>\\n\\t\\t\\t\\t\\t\\t\\t\\t\\t\\t\\t\\t\\t\\t\\t\\t\\t</div>\\n\\t\\t\\t\\t</article>\\n\\t\\t\\t\\t\\t\\t</div>\\n\\t\\t\\t\\t\\t\\t\\t\\t\\t\\t<div class=\"grid-square grid-people\">\\n\\t\\t\\t\\t\\t\\t\\t\\t\\t\\t\\t<article class=\"people\">\\n\\t\\t\\t\\t\\t<div class=\"grid-item\">\\n\\t\\t\\t\\t\\t\\t<a href=\"https://www.khoury.northeastern.edu/people/david-lazer/\">\\n\\t\\t\\t\\t\\t\\t\\t\\t<div class=\"grid-image\"><img src=\"https://www.khoury.northeastern.edu/wp-content/uploads/2016/03/David-Lazer-index-image.jpg\" alt=\"\" /></div>\\n\\t\\t\\t\\t\\t\\t\\t\\t\\t\\t\\t\\t\\t\\t\\t<p class=\"roles\"><span class=\"role-23\">Tenured and Tenure Track Faculty</span></p>\\n\\t\\t\\t\\t\\t\\t\\t\\t\\t\\t\\t\\t\\t\\t<h3 class=\"person-name\">\\n\\t\\t\\t\\t\\t\\t\\t\\t\\tDavid Lazer\\t\\t\\t\\t\\t\\t\\t</h3>\\n\\t\\t\\t\\t\\t\\t</a>\\n\\t\\t\\t\\t\\t\\t\\t\\t\\t\\t\\t\\t<div class=\"position-list\">\\n\\t\\t\\t\\t\\t\\t\\t\\t\\t\\t\\t\\t\\t\\t\\t<p class=\"position\">Distinguished Professor</p>\\n\\t\\t\\t\\t\\t\\t\\t\\t\\t\\t\\t\\t\\t\\t\\t<p class=\"position\">Interdisciplinary with College of Social Sciences and Humanities</p>\\n\\t\\t\\t\\t\\t\\t\\t\\t\\t\\t\\t\\t\\t</div>\\n\\t\\t\\t\\t\\t\\t\\t\\t\\t\\t\\t\\t\\t\\t\\t\\t\\t</div>\\n\\t\\t\\t\\t</article>\\n\\t\\t\\t\\t\\t\\t</div>\\n\\t\\t\\t\\t\\t\\t\\t\\t\\t\\t<div class=\"grid-square grid-people\">\\n\\t\\t\\t\\t\\t\\t\\t\\t\\t\\t\\t<article class=\"people\">\\n\\t\\t\\t\\t\\t<div class=\"grid-item\">\\n\\t\\t\\t\\t\\t\\t<a href=\"https://www.khoury.northeastern.edu/people/karl-lieberherr/\">\\n\\t\\t\\t\\t\\t\\t\\t\\t<div class=\"grid-image\"><img src=\"https://www.khoury.northeastern.edu/wp-content/uploads/2016/02/Kari-Lieberherr-headshot-image.jpg\" alt=\"\" /></div>\\n\\t\\t\\t\\t\\t\\t\\t\\t\\t\\t\\t\\t\\t\\t\\t<p class=\"roles\"><span class=\"role-23\">Tenured and Tenure Track Faculty</span></p>\\n\\t\\t\\t\\t\\t\\t\\t\\t\\t\\t\\t\\t\\t\\t<h3 class=\"person-name\">\\n\\t\\t\\t\\t\\t\\t\\t\\t\\tKarl Lieberherr\\t\\t\\t\\t\\t\\t\\t</h3>\\n\\t\\t\\t\\t\\t\\t</a>\\n\\t\\t\\t\\t\\t\\t\\t\\t\\t\\t\\t\\t<div class=\"position-list\">\\n\\t\\t\\t\\t\\t\\t\\t\\t\\t\\t\\t\\t\\t\\t\\t<p class=\"position\">Professor</p>\\n\\t\\t\\t\\t\\t\\t\\t\\t\\t\\t\\t\\t\\t</div>\\n\\t\\t\\t\\t\\t\\t\\t\\t\\t\\t\\t\\t\\t\\t\\t\\t\\t</div>\\n\\t\\t\\t\\t</article>\\n\\t\\t\\t\\t\\t\\t</div>\\n\\t\\t\\t\\t\\t\\t\\t\\t\\t\\t<div class=\"grid-square grid-people\">\\n\\t\\t\\t\\t\\t\\t\\t\\t\\t\\t\\t<article class=\"people\">\\n\\t\\t\\t\\t\\t<div class=\"grid-item\">\\n\\t\\t\\t\\t\\t\\t<a href=\"https://www.khoury.northeastern.edu/people/long-lu/\">\\n\\t\\t\\t\\t\\t\\t\\t\\t<div class=\"grid-image\"><img src=\"https://www.khoury.northeastern.edu/wp-content/uploads/2017/08/linderpix-NEU-57096-crop.jpg\" alt=\"\" /></div>\\n\\t\\t\\t\\t\\t\\t\\t\\t\\t\\t\\t\\t\\t\\t\\t<p class=\"roles\"><span class=\"role-23\">Tenured and Tenure Track Faculty</span></p>\\n\\t\\t\\t\\t\\t\\t\\t\\t\\t\\t\\t\\t\\t\\t<h3 class=\"person-name\">\\n\\t\\t\\t\\t\\t\\t\\t\\t\\tLong Lu\\t\\t\\t\\t\\t\\t\\t</h3>\\n\\t\\t\\t\\t\\t\\t</a>\\n\\t\\t\\t\\t\\t\\t\\t\\t\\t\\t\\t\\t<div class=\"position-list\">\\n\\t\\t\\t\\t\\t\\t\\t\\t\\t\\t\\t\\t\\t\\t\\t<p class=\"position\">Assistant Professor</p>\\n\\t\\t\\t\\t\\t\\t\\t\\t\\t\\t\\t\\t\\t</div>\\n\\t\\t\\t\\t\\t\\t\\t\\t\\t\\t\\t\\t\\t\\t\\t\\t\\t</div>\\n\\t\\t\\t\\t</article>\\n\\t\\t\\t\\t\\t\\t</div>\\n\\t\\t\\t\\t\\t\\t\\t\\t\\t\\t<div class=\"grid-square grid-people\">\\n\\t\\t\\t\\t\\t\\t\\t\\t\\t\\t\\t<article class=\"people\">\\n\\t\\t\\t\\t\\t<div class=\"grid-item\">\\n\\t\\t\\t\\t\\t\\t<a href=\"https://www.khoury.northeastern.edu/people/panagiotos-manolios/\">\\n\\t\\t\\t\\t\\t\\t\\t\\t<div class=\"grid-image\"><img src=\"https://www.khoury.northeastern.edu/wp-content/uploads/2016/02/Pete-Manolios-index-image-e1456759585514.jpg\" alt=\"\" /></div>\\n\\t\\t\\t\\t\\t\\t\\t\\t\\t\\t\\t\\t\\t\\t\\t<p class=\"roles\"><span class=\"role-23\">Tenured and Tenure Track Faculty</span></p>\\n\\t\\t\\t\\t\\t\\t\\t\\t\\t\\t\\t\\t\\t\\t<h3 class=\"person-name\">\\n\\t\\t\\t\\t\\t\\t\\t\\t\\tPanagiotos (Pete) Manolios\\t\\t\\t\\t\\t\\t\\t</h3>\\n\\t\\t\\t\\t\\t\\t</a>\\n\\t\\t\\t\\t\\t\\t\\t\\t\\t\\t\\t\\t<div class=\"position-list\">\\n\\t\\t\\t\\t\\t\\t\\t\\t\\t\\t\\t\\t\\t\\t\\t<p class=\"position\">Professor</p>\\n\\t\\t\\t\\t\\t\\t\\t\\t\\t\\t\\t\\t\\t</div>\\n\\t\\t\\t\\t\\t\\t\\t\\t\\t\\t\\t\\t\\t\\t\\t\\t\\t</div>\\n\\t\\t\\t\\t</article>\\n\\t\\t\\t\\t\\t\\t</div>\\n\\t\\t\\t\\t\\t\\t\\t\\t\\t\\t<div class=\"grid-square grid-people\">\\n\\t\\t\\t\\t\\t\\t\\t\\t\\t\\t\\t<article class=\"people\">\\n\\t\\t\\t\\t\\t<div class=\"grid-item\">\\n\\t\\t\\t\\t\\t\\t<a href=\"https://www.khoury.northeastern.edu/people/stacy-c-marsella/\">\\n\\t\\t\\t\\t\\t\\t\\t\\t<div class=\"grid-image\"><img src=\"https://www.khoury.northeastern.edu/wp-content/uploads/2016/03/Stacy-Marsella-Index-Image.jpg\" alt=\"\" /></div>\\n\\t\\t\\t\\t\\t\\t\\t\\t\\t\\t\\t\\t\\t\\t\\t<p class=\"roles\"><span class=\"role-23\">Tenured and Tenure Track Faculty</span></p>\\n\\t\\t\\t\\t\\t\\t\\t\\t\\t\\t\\t\\t\\t\\t<h3 class=\"person-name\">\\n\\t\\t\\t\\t\\t\\t\\t\\t\\tStacy C. Marsella\\t\\t\\t\\t\\t\\t\\t</h3>\\n\\t\\t\\t\\t\\t\\t</a>\\n\\t\\t\\t\\t\\t\\t\\t\\t\\t\\t\\t\\t<div class=\"position-list\">\\n\\t\\t\\t\\t\\t\\t\\t\\t\\t\\t\\t\\t\\t\\t\\t<p class=\"position\">Professor</p>\\n\\t\\t\\t\\t\\t\\t\\t\\t\\t\\t\\t\\t\\t\\t\\t<p class=\"position\">Interdisciplinary with College of Science</p>\\n\\t\\t\\t\\t\\t\\t\\t\\t\\t\\t\\t\\t\\t</div>\\n\\t\\t\\t\\t\\t\\t\\t\\t\\t\\t\\t\\t\\t\\t\\t\\t\\t</div>\\n\\t\\t\\t\\t</article>\\n\\t\\t\\t\\t\\t\\t</div>\\n\\t\\t\\t\\t\\t\\t\\t\\t\\t\\t<div class=\"grid-square grid-people\">\\n\\t\\t\\t\\t\\t\\t\\t\\t\\t\\t\\t<article class=\"people\">\\n\\t\\t\\t\\t\\t<div class=\"grid-item\">\\n\\t\\t\\t\\t\\t\\t<a href=\"https://www.khoury.northeastern.edu/people/renee-miller/\">\\n\\t\\t\\t\\t\\t\\t\\t\\t<div class=\"grid-image\"><img src=\"https://www.khoury.northeastern.edu/wp-content/uploads/2018/01/no-photo4.jpg\" alt=\"\" /></div>\\n\\t\\t\\t\\t\\t\\t\\t\\t\\t\\t\\t\\t\\t\\t\\t<p class=\"roles\"><span class=\"role-23\">Tenured and Tenure Track Faculty</span></p>\\n\\t\\t\\t\\t\\t\\t\\t\\t\\t\\t\\t\\t\\t\\t<h3 class=\"person-name\">\\n\\t\\t\\t\\t\\t\\t\\t\\t\\tRen\\xc3\\xa9e Miller\\t\\t\\t\\t\\t\\t\\t</h3>\\n\\t\\t\\t\\t\\t\\t</a>\\n\\t\\t\\t\\t\\t\\t\\t\\t\\t\\t\\t\\t<div class=\"position-list\">\\n\\t\\t\\t\\t\\t\\t\\t\\t\\t\\t\\t\\t\\t\\t\\t<p class=\"position\">University Distinguished Professor</p>\\n\\t\\t\\t\\t\\t\\t\\t\\t\\t\\t\\t\\t\\t</div>\\n\\t\\t\\t\\t\\t\\t\\t\\t\\t\\t\\t\\t\\t\\t\\t\\t\\t</div>\\n\\t\\t\\t\\t</article>\\n\\t\\t\\t\\t\\t\\t</div>\\n\\t\\t\\t\\t\\t\\t\\t\\t\\t\\t<div class=\"grid-square grid-people\">\\n\\t\\t\\t\\t\\t\\t\\t\\t\\t\\t\\t<article class=\"people\">\\n\\t\\t\\t\\t\\t<div class=\"grid-item\">\\n\\t\\t\\t\\t\\t\\t<a href=\"https://www.khoury.northeastern.edu/people/alan-mislove/\">\\n\\t\\t\\t\\t\\t\\t\\t\\t<div class=\"grid-image\"><img src=\"https://www.khoury.northeastern.edu/wp-content/uploads/2016/02/Alan-Mislove_cropped-headshot.jpg\" alt=\"\" /></div>\\n\\t\\t\\t\\t\\t\\t\\t\\t\\t\\t\\t\\t\\t\\t\\t<p class=\"roles\"><span class=\"role-29\">Administrative Staff</span> <span class=\"role-23\">Tenured and Tenure Track Faculty</span></p>\\n\\t\\t\\t\\t\\t\\t\\t\\t\\t\\t\\t\\t\\t\\t<h3 class=\"person-name\">\\n\\t\\t\\t\\t\\t\\t\\t\\t\\tAlan Mislove\\t\\t\\t\\t\\t\\t\\t</h3>\\n\\t\\t\\t\\t\\t\\t</a>\\n\\t\\t\\t\\t\\t\\t\\t\\t\\t\\t\\t\\t<div class=\"position-list\">\\n\\t\\t\\t\\t\\t\\t\\t\\t\\t\\t\\t\\t\\t\\t\\t<p class=\"position\">Professor</p>\\n\\t\\t\\t\\t\\t\\t\\t\\t\\t\\t\\t\\t\\t\\t\\t<p class=\"position\">Associate Dean & Director - Undergraduate Programs</p>\\n\\t\\t\\t\\t\\t\\t\\t\\t\\t\\t\\t\\t\\t</div>\\n\\t\\t\\t\\t\\t\\t\\t\\t\\t\\t\\t\\t\\t\\t\\t\\t\\t</div>\\n\\t\\t\\t\\t</article>\\n\\t\\t\\t\\t\\t\\t</div>\\n\\t\\t\\t\\t\\t\\t\\t\\t\\t\\t<div class=\"grid-square grid-people\">\\n\\t\\t\\t\\t\\t\\t\\t\\t\\t\\t\\t<article class=\"people\">\\n\\t\\t\\t\\t\\t<div class=\"grid-item\">\\n\\t\\t\\t\\t\\t\\t<a href=\"https://www.khoury.northeastern.edu/people/huy-le-nguyen/\">\\n\\t\\t\\t\\t\\t\\t\\t\\t<div class=\"grid-image\"><img src=\"https://www.khoury.northeastern.edu/wp-content/uploads/2016/08/Nguyen_Huy-index-image.jpg\" alt=\"\" /></div>\\n\\t\\t\\t\\t\\t\\t\\t\\t\\t\\t\\t\\t\\t\\t\\t<p class=\"roles\"><span class=\"role-23\">Tenured and Tenure Track Faculty</span></p>\\n\\t\\t\\t\\t\\t\\t\\t\\t\\t\\t\\t\\t\\t\\t<h3 class=\"person-name\">\\n\\t\\t\\t\\t\\t\\t\\t\\t\\tHuy L\\xc3\\xaa Nguyen\\t\\t\\t\\t\\t\\t\\t</h3>\\n\\t\\t\\t\\t\\t\\t</a>\\n\\t\\t\\t\\t\\t\\t\\t\\t\\t\\t\\t\\t<div class=\"position-list\">\\n\\t\\t\\t\\t\\t\\t\\t\\t\\t\\t\\t\\t\\t\\t\\t<p class=\"position\">Assistant Professor</p>\\n\\t\\t\\t\\t\\t\\t\\t\\t\\t\\t\\t\\t\\t</div>\\n\\t\\t\\t\\t\\t\\t\\t\\t\\t\\t\\t\\t\\t\\t\\t\\t\\t</div>\\n\\t\\t\\t\\t</article>\\n\\t\\t\\t\\t\\t\\t</div>\\n\\t\\t\\t\\t\\t\\t\\t\\t\\t\\t<div class=\"grid-square grid-people\">\\n\\t\\t\\t\\t\\t\\t\\t\\t\\t\\t\\t<article class=\"people\">\\n\\t\\t\\t\\t\\t<div class=\"grid-item\">\\n\\t\\t\\t\\t\\t\\t<a href=\"https://www.khoury.northeastern.edu/people/cristina-nita-rotaru/\">\\n\\t\\t\\t\\t\\t\\t\\t\\t<div class=\"grid-image\"><img src=\"https://www.khoury.northeastern.edu/wp-content/uploads/2016/02/Cristina-Nita-Rotaru-index-image-e1456779197640.jpg\" alt=\"\" /></div>\\n\\t\\t\\t\\t\\t\\t\\t\\t\\t\\t\\t\\t\\t\\t\\t<p class=\"roles\"><span class=\"role-29\">Administrative Staff</span> <span class=\"role-23\">Tenured and Tenure Track Faculty</span></p>\\n\\t\\t\\t\\t\\t\\t\\t\\t\\t\\t\\t\\t\\t\\t<h3 class=\"person-name\">\\n\\t\\t\\t\\t\\t\\t\\t\\t\\tCristina Nita-Rotaru\\t\\t\\t\\t\\t\\t\\t</h3>\\n\\t\\t\\t\\t\\t\\t</a>\\n\\t\\t\\t\\t\\t\\t\\t\\t\\t\\t\\t\\t<div class=\"position-list\">\\n\\t\\t\\t\\t\\t\\t\\t\\t\\t\\t\\t\\t\\t\\t\\t<p class=\"position\">Professor </p>\\n\\t\\t\\t\\t\\t\\t\\t\\t\\t\\t\\t\\t\\t\\t\\t<p class=\"position\">Associate Dean - Faculty</p>\\n\\t\\t\\t\\t\\t\\t\\t\\t\\t\\t\\t\\t\\t</div>\\n\\t\\t\\t\\t\\t\\t\\t\\t\\t\\t\\t\\t\\t\\t\\t\\t\\t</div>\\n\\t\\t\\t\\t</article>\\n\\t\\t\\t\\t\\t\\t</div>\\n\\t\\t\\t\\t\\t\\t\\t\\t\\t\\t<div class=\"grid-square grid-people\">\\n\\t\\t\\t\\t\\t\\t\\t\\t\\t\\t\\t<article class=\"people\">\\n\\t\\t\\t\\t\\t<div class=\"grid-item\">\\n\\t\\t\\t\\t\\t\\t<a href=\"https://www.khoury.northeastern.edu/people/guevara-noubir/\">\\n\\t\\t\\t\\t\\t\\t\\t\\t<div class=\"grid-image\"><img src=\"https://www.khoury.northeastern.edu/wp-content/uploads/2016/02/Guevara-Noubir-index-image-e1456779093303.jpg\" alt=\"\" /></div>\\n\\t\\t\\t\\t\\t\\t\\t\\t\\t\\t\\t\\t\\t\\t\\t<p class=\"roles\"><span class=\"role-29\">Administrative Staff</span> <span class=\"role-23\">Tenured and Tenure Track Faculty</span></p>\\n\\t\\t\\t\\t\\t\\t\\t\\t\\t\\t\\t\\t\\t\\t<h3 class=\"person-name\">\\n\\t\\t\\t\\t\\t\\t\\t\\t\\tGuevara Noubir\\t\\t\\t\\t\\t\\t\\t</h3>\\n\\t\\t\\t\\t\\t\\t</a>\\n\\t\\t\\t\\t\\t\\t\\t\\t\\t\\t\\t\\t<div class=\"position-list\">\\n\\t\\t\\t\\t\\t\\t\\t\\t\\t\\t\\t\\t\\t\\t\\t<p class=\"position\">Professor</p>\\n\\t\\t\\t\\t\\t\\t\\t\\t\\t\\t\\t\\t\\t\\t\\t<p class=\"position\">Director - Cybersecurity &amp; Information Assurance Graduate Program</p>\\n\\t\\t\\t\\t\\t\\t\\t\\t\\t\\t\\t\\t\\t</div>\\n\\t\\t\\t\\t\\t\\t\\t\\t\\t\\t\\t\\t\\t\\t\\t\\t\\t</div>\\n\\t\\t\\t\\t</article>\\n\\t\\t\\t\\t\\t\\t</div>\\n\\t\\t\\t\\t\\t\\t\\t\\t\\t\\t<div class=\"grid-square grid-people\">\\n\\t\\t\\t\\t\\t\\t\\t\\t\\t\\t\\t<article class=\"people\">\\n\\t\\t\\t\\t\\t<div class=\"grid-item\">\\n\\t\\t\\t\\t\\t\\t<a href=\"https://www.khoury.northeastern.edu/people/alina-oprea/\">\\n\\t\\t\\t\\t\\t\\t\\t\\t<div class=\"grid-image\"><img src=\"https://www.khoury.northeastern.edu/wp-content/uploads/2016/08/Oprea_Alina-index-image.jpg\" alt=\"\" /></div>\\n\\t\\t\\t\\t\\t\\t\\t\\t\\t\\t\\t\\t\\t\\t\\t<p class=\"roles\"><span class=\"role-23\">Tenured and Tenure Track Faculty</span></p>\\n\\t\\t\\t\\t\\t\\t\\t\\t\\t\\t\\t\\t\\t\\t<h3 class=\"person-name\">\\n\\t\\t\\t\\t\\t\\t\\t\\t\\tAlina Oprea\\t\\t\\t\\t\\t\\t\\t</h3>\\n\\t\\t\\t\\t\\t\\t</a>\\n\\t\\t\\t\\t\\t\\t\\t\\t\\t\\t\\t\\t<div class=\"position-list\">\\n\\t\\t\\t\\t\\t\\t\\t\\t\\t\\t\\t\\t\\t\\t\\t<p class=\"position\">Associate Professor</p>\\n\\t\\t\\t\\t\\t\\t\\t\\t\\t\\t\\t\\t\\t</div>\\n\\t\\t\\t\\t\\t\\t\\t\\t\\t\\t\\t\\t\\t\\t\\t\\t\\t</div>\\n\\t\\t\\t\\t</article>\\n\\t\\t\\t\\t\\t\\t</div>\\n\\t\\t\\t\\t\\t\\t\\t\\t\\t\\t<div class=\"grid-square grid-people\">\\n\\t\\t\\t\\t\\t\\t\\t\\t\\t\\t\\t<article class=\"people\">\\n\\t\\t\\t\\t\\t<div class=\"grid-item\">\\n\\t\\t\\t\\t\\t\\t<a href=\"https://www.khoury.northeastern.edu/people/andrea-grimes-parker/\">\\n\\t\\t\\t\\t\\t\\t\\t\\t<div class=\"grid-image\"><img src=\"https://www.khoury.northeastern.edu/wp-content/uploads/2016/02/Andrea-Parker-index-image-e1456779254698.jpg\" alt=\"\" /></div>\\n\\t\\t\\t\\t\\t\\t\\t\\t\\t\\t\\t\\t\\t\\t\\t<p class=\"roles\"><span class=\"role-23\">Tenured and Tenure Track Faculty</span></p>\\n\\t\\t\\t\\t\\t\\t\\t\\t\\t\\t\\t\\t\\t\\t<h3 class=\"person-name\">\\n\\t\\t\\t\\t\\t\\t\\t\\t\\tAndrea Grimes Parker\\t\\t\\t\\t\\t\\t\\t</h3>\\n\\t\\t\\t\\t\\t\\t</a>\\n\\t\\t\\t\\t\\t\\t\\t\\t\\t\\t\\t\\t<div class=\"position-list\">\\n\\t\\t\\t\\t\\t\\t\\t\\t\\t\\t\\t\\t\\t\\t\\t<p class=\"position\">Assistant Professor</p>\\n\\t\\t\\t\\t\\t\\t\\t\\t\\t\\t\\t\\t\\t\\t\\t<p class=\"position\">Interdisciplinary with Bouv\\xc3\\xa9 College of Health Sciences</p>\\n\\t\\t\\t\\t\\t\\t\\t\\t\\t\\t\\t\\t\\t</div>\\n\\t\\t\\t\\t\\t\\t\\t\\t\\t\\t\\t\\t\\t\\t\\t\\t\\t</div>\\n\\t\\t\\t\\t</article>\\n\\t\\t\\t\\t\\t\\t</div>\\n\\t\\t\\t\\t\\t\\t\\t\\t\\t\\t<div class=\"grid-square grid-people\">\\n\\t\\t\\t\\t\\t\\t\\t\\t\\t\\t\\t<article class=\"people\">\\n\\t\\t\\t\\t\\t<div class=\"grid-item\">\\n\\t\\t\\t\\t\\t\\t<a href=\"https://www.khoury.northeastern.edu/people/rupal-patel/\">\\n\\t\\t\\t\\t\\t\\t\\t\\t<div class=\"grid-image\"><img src=\"https://www.khoury.northeastern.edu/wp-content/uploads/2016/03/Rupal-Patel-index-image.jpg\" alt=\"\" /></div>\\n\\t\\t\\t\\t\\t\\t\\t\\t\\t\\t\\t\\t\\t\\t\\t<p class=\"roles\"><span class=\"role-23\">Tenured and Tenure Track Faculty</span></p>\\n\\t\\t\\t\\t\\t\\t\\t\\t\\t\\t\\t\\t\\t\\t<h3 class=\"person-name\">\\n\\t\\t\\t\\t\\t\\t\\t\\t\\tRupal Patel\\t\\t\\t\\t\\t\\t\\t</h3>\\n\\t\\t\\t\\t\\t\\t</a>\\n\\t\\t\\t\\t\\t\\t\\t\\t\\t\\t\\t\\t<div class=\"position-list\">\\n\\t\\t\\t\\t\\t\\t\\t\\t\\t\\t\\t\\t\\t\\t\\t<p class=\"position\">Professor</p>\\n\\t\\t\\t\\t\\t\\t\\t\\t\\t\\t\\t\\t\\t\\t\\t<p class=\"position\">Interdisciplinary with Bouv\\xc3\\xa9 College of Health Sciences</p>\\n\\t\\t\\t\\t\\t\\t\\t\\t\\t\\t\\t\\t\\t</div>\\n\\t\\t\\t\\t\\t\\t\\t\\t\\t\\t\\t\\t\\t\\t\\t\\t\\t</div>\\n\\t\\t\\t\\t</article>\\n\\t\\t\\t\\t\\t\\t</div>\\n\\t\\t\\t\\t\\t\\t\\t\\t\\t\\t<div class=\"grid-square grid-people\">\\n\\t\\t\\t\\t\\t\\t\\t\\t\\t\\t\\t<article class=\"people\">\\n\\t\\t\\t\\t\\t<div class=\"grid-item\">\\n\\t\\t\\t\\t\\t\\t<a href=\"https://www.khoury.northeastern.edu/people/robert-platt/\">\\n\\t\\t\\t\\t\\t\\t\\t\\t<div class=\"grid-image\"><img src=\"https://www.khoury.northeastern.edu/wp-content/uploads/2016/02/Rob-Platt-index-image-e1456759522529.jpg\" alt=\"\" /></div>\\n\\t\\t\\t\\t\\t\\t\\t\\t\\t\\t\\t\\t\\t\\t\\t<p class=\"roles\"><span class=\"role-23\">Tenured and Tenure Track Faculty</span></p>\\n\\t\\t\\t\\t\\t\\t\\t\\t\\t\\t\\t\\t\\t\\t<h3 class=\"person-name\">\\n\\t\\t\\t\\t\\t\\t\\t\\t\\tRobert Platt\\t\\t\\t\\t\\t\\t\\t</h3>\\n\\t\\t\\t\\t\\t\\t</a>\\n\\t\\t\\t\\t\\t\\t\\t\\t\\t\\t\\t\\t<div class=\"position-list\">\\n\\t\\t\\t\\t\\t\\t\\t\\t\\t\\t\\t\\t\\t\\t\\t<p class=\"position\">Associate Professor</p>\\n\\t\\t\\t\\t\\t\\t\\t\\t\\t\\t\\t\\t\\t\\t\\t<p class=\"position\">Interdisciplinary with College of Engineering</p>\\n\\t\\t\\t\\t\\t\\t\\t\\t\\t\\t\\t\\t\\t</div>\\n\\t\\t\\t\\t\\t\\t\\t\\t\\t\\t\\t\\t\\t\\t\\t\\t\\t</div>\\n\\t\\t\\t\\t</article>\\n\\t\\t\\t\\t\\t\\t</div>\\n\\t\\t\\t\\t\\t\\t\\t\\t\\t\\t<div class=\"grid-square grid-people\">\\n\\t\\t\\t\\t\\t\\t\\t\\t\\t\\t\\t<article class=\"people\">\\n\\t\\t\\t\\t\\t<div class=\"grid-item\">\\n\\t\\t\\t\\t\\t\\t<a href=\"https://www.khoury.northeastern.edu/people/predrag-radivojac/\">\\n\\t\\t\\t\\t\\t\\t\\t\\t<div class=\"grid-image\"><img src=\"https://www.khoury.northeastern.edu/wp-content/uploads/2018/08/linderpix-NEU-9299-crop.jpg\" alt=\"\" /></div>\\n\\t\\t\\t\\t\\t\\t\\t\\t\\t\\t\\t\\t\\t\\t\\t<p class=\"roles\"><span class=\"role-29\">Administrative Staff</span> <span class=\"role-23\">Tenured and Tenure Track Faculty</span></p>\\n\\t\\t\\t\\t\\t\\t\\t\\t\\t\\t\\t\\t\\t\\t<h3 class=\"person-name\">\\n\\t\\t\\t\\t\\t\\t\\t\\t\\tPredrag Radivojac\\t\\t\\t\\t\\t\\t\\t</h3>\\n\\t\\t\\t\\t\\t\\t</a>\\n\\t\\t\\t\\t\\t\\t\\t\\t\\t\\t\\t\\t<div class=\"position-list\">\\n\\t\\t\\t\\t\\t\\t\\t\\t\\t\\t\\t\\t\\t\\t\\t<p class=\"position\">Professor</p>\\n\\t\\t\\t\\t\\t\\t\\t\\t\\t\\t\\t\\t\\t\\t\\t<p class=\"position\">Associate Dean of Research</p>\\n\\t\\t\\t\\t\\t\\t\\t\\t\\t\\t\\t\\t\\t</div>\\n\\t\\t\\t\\t\\t\\t\\t\\t\\t\\t\\t\\t\\t\\t\\t\\t\\t</div>\\n\\t\\t\\t\\t</article>\\n\\t\\t\\t\\t\\t\\t</div>\\n\\t\\t\\t\\t\\t\\t\\t\\t\\t\\t<div class=\"grid-square grid-people\">\\n\\t\\t\\t\\t\\t\\t\\t\\t\\t\\t\\t<article class=\"people\">\\n\\t\\t\\t\\t\\t<div class=\"grid-item\">\\n\\t\\t\\t\\t\\t\\t<a href=\"https://www.khoury.northeastern.edu/people/rajmohan-rajaraman/\">\\n\\t\\t\\t\\t\\t\\t\\t\\t<div class=\"grid-image\"><img src=\"https://www.khoury.northeastern.edu/wp-content/uploads/2016/03/Rajmohan-Rajaraman-Index-Image.jpg\" alt=\"\" /></div>\\n\\t\\t\\t\\t\\t\\t\\t\\t\\t\\t\\t\\t\\t\\t\\t<p class=\"roles\"><span class=\"role-23\">Tenured and Tenure Track Faculty</span></p>\\n\\t\\t\\t\\t\\t\\t\\t\\t\\t\\t\\t\\t\\t\\t<h3 class=\"person-name\">\\n\\t\\t\\t\\t\\t\\t\\t\\t\\tRajmohan Rajaraman\\t\\t\\t\\t\\t\\t\\t</h3>\\n\\t\\t\\t\\t\\t\\t</a>\\n\\t\\t\\t\\t\\t\\t\\t\\t\\t\\t\\t\\t<div class=\"position-list\">\\n\\t\\t\\t\\t\\t\\t\\t\\t\\t\\t\\t\\t\\t\\t\\t<p class=\"position\">Professor</p>\\n\\t\\t\\t\\t\\t\\t\\t\\t\\t\\t\\t\\t\\t</div>\\n\\t\\t\\t\\t\\t\\t\\t\\t\\t\\t\\t\\t\\t\\t\\t\\t\\t</div>\\n\\t\\t\\t\\t</article>\\n\\t\\t\\t\\t\\t\\t</div>\\n\\t\\t\\t\\t\\t\\t\\t\\t\\t\\t<div class=\"grid-square grid-people\">\\n\\t\\t\\t\\t\\t\\t\\t\\t\\t\\t\\t<article class=\"people\">\\n\\t\\t\\t\\t\\t<div class=\"grid-item\">\\n\\t\\t\\t\\t\\t\\t<a href=\"https://www.khoury.northeastern.edu/people/aanjhan-ranganathan/\">\\n\\t\\t\\t\\t\\t\\t\\t\\t<div class=\"grid-image\"><img src=\"https://www.khoury.northeastern.edu/wp-content/uploads/2017/08/IMG_4378-2-index.jpg\" alt=\"\" /></div>\\n\\t\\t\\t\\t\\t\\t\\t\\t\\t\\t\\t\\t\\t\\t\\t<p class=\"roles\"><span class=\"role-23\">Tenured and Tenure Track Faculty</span></p>\\n\\t\\t\\t\\t\\t\\t\\t\\t\\t\\t\\t\\t\\t\\t<h3 class=\"person-name\">\\n\\t\\t\\t\\t\\t\\t\\t\\t\\tAanjhan Ranganathan\\t\\t\\t\\t\\t\\t\\t</h3>\\n\\t\\t\\t\\t\\t\\t</a>\\n\\t\\t\\t\\t\\t\\t\\t\\t\\t\\t\\t\\t<div class=\"position-list\">\\n\\t\\t\\t\\t\\t\\t\\t\\t\\t\\t\\t\\t\\t\\t\\t<p class=\"position\">Assistant Professor</p>\\n\\t\\t\\t\\t\\t\\t\\t\\t\\t\\t\\t\\t\\t</div>\\n\\t\\t\\t\\t\\t\\t\\t\\t\\t\\t\\t\\t\\t\\t\\t\\t\\t</div>\\n\\t\\t\\t\\t</article>\\n\\t\\t\\t\\t\\t\\t</div>\\n\\t\\t\\t\\t\\t\\t\\t\\t\\t\\t<div class=\"grid-square grid-people\">\\n\\t\\t\\t\\t\\t\\t\\t\\t\\t\\t\\t<article class=\"people\">\\n\\t\\t\\t\\t\\t<div class=\"grid-item\">\\n\\t\\t\\t\\t\\t\\t<a href=\"https://www.khoury.northeastern.edu/people/richard-rasala/\">\\n\\t\\t\\t\\t\\t\\t\\t\\t<div class=\"grid-image\"><img src=\"https://www.khoury.northeastern.edu/wp-content/uploads/2016/02/Richard-Rasala-index-image-e1456759549135.jpg\" alt=\"\" /></div>\\n\\t\\t\\t\\t\\t\\t\\t\\t\\t\\t\\t\\t\\t\\t\\t<p class=\"roles\"><span class=\"role-23\">Tenured and Tenure Track Faculty</span></p>\\n\\t\\t\\t\\t\\t\\t\\t\\t\\t\\t\\t\\t\\t\\t<h3 class=\"person-name\">\\n\\t\\t\\t\\t\\t\\t\\t\\t\\tRichard Rasala\\t\\t\\t\\t\\t\\t\\t</h3>\\n\\t\\t\\t\\t\\t\\t</a>\\n\\t\\t\\t\\t\\t\\t\\t\\t\\t\\t\\t\\t<div class=\"position-list\">\\n\\t\\t\\t\\t\\t\\t\\t\\t\\t\\t\\t\\t\\t\\t\\t<p class=\"position\">Professor Emeritus</p>\\n\\t\\t\\t\\t\\t\\t\\t\\t\\t\\t\\t\\t\\t</div>\\n\\t\\t\\t\\t\\t\\t\\t\\t\\t\\t\\t\\t\\t\\t\\t\\t\\t</div>\\n\\t\\t\\t\\t</article>\\n\\t\\t\\t\\t\\t\\t</div>\\n\\t\\t\\t\\t\\t\\t\\t\\t\\t\\t<div class=\"grid-square grid-people\">\\n\\t\\t\\t\\t\\t\\t\\t\\t\\t\\t\\t<article class=\"people\">\\n\\t\\t\\t\\t\\t<div class=\"grid-item\">\\n\\t\\t\\t\\t\\t\\t<a href=\"https://www.khoury.northeastern.edu/people/mirek-riedewald/\">\\n\\t\\t\\t\\t\\t\\t\\t\\t<div class=\"grid-image\"><img src=\"https://www.khoury.northeastern.edu/wp-content/uploads/2016/02/linderpix-NEU-55350-crop.jpg\" alt=\"\" /></div>\\n\\t\\t\\t\\t\\t\\t\\t\\t\\t\\t\\t\\t\\t\\t\\t<p class=\"roles\"><span class=\"role-23\">Tenured and Tenure Track Faculty</span></p>\\n\\t\\t\\t\\t\\t\\t\\t\\t\\t\\t\\t\\t\\t\\t<h3 class=\"person-name\">\\n\\t\\t\\t\\t\\t\\t\\t\\t\\tMirek Riedewald\\t\\t\\t\\t\\t\\t\\t</h3>\\n\\t\\t\\t\\t\\t\\t</a>\\n\\t\\t\\t\\t\\t\\t\\t\\t\\t\\t\\t\\t<div class=\"position-list\">\\n\\t\\t\\t\\t\\t\\t\\t\\t\\t\\t\\t\\t\\t\\t\\t<p class=\"position\">Associate Professor</p>\\n\\t\\t\\t\\t\\t\\t\\t\\t\\t\\t\\t\\t\\t</div>\\n\\t\\t\\t\\t\\t\\t\\t\\t\\t\\t\\t\\t\\t\\t\\t\\t\\t</div>\\n\\t\\t\\t\\t</article>\\n\\t\\t\\t\\t\\t\\t</div>\\n\\t\\t\\t\\t\\t\\t\\t\\t\\t\\t<div class=\"grid-square grid-people\">\\n\\t\\t\\t\\t\\t\\t\\t\\t\\t\\t\\t<article class=\"people\">\\n\\t\\t\\t\\t\\t<div class=\"grid-item\">\\n\\t\\t\\t\\t\\t\\t<a href=\"https://www.khoury.northeastern.edu/people/christoph-riedl/\">\\n\\t\\t\\t\\t\\t\\t\\t\\t<div class=\"grid-image\"><img src=\"https://www.khoury.northeastern.edu/wp-content/uploads/2016/02/Christoph-Riedl-index-image.jpg\" alt=\"\" /></div>\\n\\t\\t\\t\\t\\t\\t\\t\\t\\t\\t\\t\\t\\t\\t\\t<p class=\"roles\"><span class=\"role-23\">Tenured and Tenure Track Faculty</span></p>\\n\\t\\t\\t\\t\\t\\t\\t\\t\\t\\t\\t\\t\\t\\t<h3 class=\"person-name\">\\n\\t\\t\\t\\t\\t\\t\\t\\t\\tChristoph Riedl\\t\\t\\t\\t\\t\\t\\t</h3>\\n\\t\\t\\t\\t\\t\\t</a>\\n\\t\\t\\t\\t\\t\\t\\t\\t\\t\\t\\t\\t<div class=\"position-list\">\\n\\t\\t\\t\\t\\t\\t\\t\\t\\t\\t\\t\\t\\t\\t\\t<p class=\"position\">Associate Professor</p>\\n\\t\\t\\t\\t\\t\\t\\t\\t\\t\\t\\t\\t\\t\\t\\t<p class=\"position\">Interdisciplinary with D\\'Amore-McKim School of Business</p>\\n\\t\\t\\t\\t\\t\\t\\t\\t\\t\\t\\t\\t\\t</div>\\n\\t\\t\\t\\t\\t\\t\\t\\t\\t\\t\\t\\t\\t\\t\\t\\t\\t</div>\\n\\t\\t\\t\\t</article>\\n\\t\\t\\t\\t\\t\\t</div>\\n\\t\\t\\t\\t\\t\\t\\t\\t\\t\\t<div class=\"grid-square grid-people\">\\n\\t\\t\\t\\t\\t\\t\\t\\t\\t\\t\\t<article class=\"people\">\\n\\t\\t\\t\\t\\t<div class=\"grid-item\">\\n\\t\\t\\t\\t\\t\\t<a href=\"https://www.khoury.northeastern.edu/people/william-robertson/\">\\n\\t\\t\\t\\t\\t\\t\\t\\t<div class=\"grid-image\"><img src=\"https://www.khoury.northeastern.edu/wp-content/uploads/2016/02/William-Robertson-index-image.jpg\" alt=\"\" /></div>\\n\\t\\t\\t\\t\\t\\t\\t\\t\\t\\t\\t\\t\\t\\t\\t<p class=\"roles\"><span class=\"role-23\">Tenured and Tenure Track Faculty</span></p>\\n\\t\\t\\t\\t\\t\\t\\t\\t\\t\\t\\t\\t\\t\\t<h3 class=\"person-name\">\\n\\t\\t\\t\\t\\t\\t\\t\\t\\tWilliam Robertson\\t\\t\\t\\t\\t\\t\\t</h3>\\n\\t\\t\\t\\t\\t\\t</a>\\n\\t\\t\\t\\t\\t\\t\\t\\t\\t\\t\\t\\t<div class=\"position-list\">\\n\\t\\t\\t\\t\\t\\t\\t\\t\\t\\t\\t\\t\\t\\t\\t<p class=\"position\">Associate Professor</p>\\n\\t\\t\\t\\t\\t\\t\\t\\t\\t\\t\\t\\t\\t\\t\\t<p class=\"position\">Interdisciplinary with College of Engineering</p>\\n\\t\\t\\t\\t\\t\\t\\t\\t\\t\\t\\t\\t\\t</div>\\n\\t\\t\\t\\t\\t\\t\\t\\t\\t\\t\\t\\t\\t\\t\\t\\t\\t</div>\\n\\t\\t\\t\\t</article>\\n\\t\\t\\t\\t\\t\\t</div>\\n\\t\\t\\t\\t\\t\\t\\t\\t\\t\\t<div class=\"grid-square grid-people\">\\n\\t\\t\\t\\t\\t\\t\\t\\t\\t\\t\\t<article class=\"people\">\\n\\t\\t\\t\\t\\t<div class=\"grid-item\">\\n\\t\\t\\t\\t\\t\\t<a href=\"https://www.khoury.northeastern.edu/people/magy-seif-el-nasr/\">\\n\\t\\t\\t\\t\\t\\t\\t\\t<div class=\"grid-image\"><img src=\"https://www.khoury.northeastern.edu/wp-content/uploads/2016/02/Magy-Seif-ElNasr-index-image.jpg\" alt=\"\" /></div>\\n\\t\\t\\t\\t\\t\\t\\t\\t\\t\\t\\t\\t\\t\\t\\t<p class=\"roles\"><span class=\"role-23\">Tenured and Tenure Track Faculty</span></p>\\n\\t\\t\\t\\t\\t\\t\\t\\t\\t\\t\\t\\t\\t\\t<h3 class=\"person-name\">\\n\\t\\t\\t\\t\\t\\t\\t\\t\\tMagy Seif El-Nasr\\t\\t\\t\\t\\t\\t\\t</h3>\\n\\t\\t\\t\\t\\t\\t</a>\\n\\t\\t\\t\\t\\t\\t\\t\\t\\t\\t\\t\\t<div class=\"position-list\">\\n\\t\\t\\t\\t\\t\\t\\t\\t\\t\\t\\t\\t\\t\\t\\t<p class=\"position\">Associate Professor</p>\\n\\t\\t\\t\\t\\t\\t\\t\\t\\t\\t\\t\\t\\t\\t\\t<p class=\"position\">Interdisciplinary with College of Arts, Media and Design</p>\\n\\t\\t\\t\\t\\t\\t\\t\\t\\t\\t\\t\\t\\t</div>\\n\\t\\t\\t\\t\\t\\t\\t\\t\\t\\t\\t\\t\\t\\t\\t\\t\\t</div>\\n\\t\\t\\t\\t</article>\\n\\t\\t\\t\\t\\t\\t</div>\\n\\t\\t\\t\\t\\t\\t\\t\\t\\t\\t<div class=\"grid-square grid-people\">\\n\\t\\t\\t\\t\\t\\t\\t\\t\\t\\t\\t<article class=\"people\">\\n\\t\\t\\t\\t\\t<div class=\"grid-item\">\\n\\t\\t\\t\\t\\t\\t<a href=\"https://www.khoury.northeastern.edu/people/abhi-shelat/\">\\n\\t\\t\\t\\t\\t\\t\\t\\t<div class=\"grid-image\"><img src=\"https://www.khoury.northeastern.edu/wp-content/uploads/2016/08/Shelat_Abhi-index-image.jpg\" alt=\"\" /></div>\\n\\t\\t\\t\\t\\t\\t\\t\\t\\t\\t\\t\\t\\t\\t\\t<p class=\"roles\"><span class=\"role-23\">Tenured and Tenure Track Faculty</span></p>\\n\\t\\t\\t\\t\\t\\t\\t\\t\\t\\t\\t\\t\\t\\t<h3 class=\"person-name\">\\n\\t\\t\\t\\t\\t\\t\\t\\t\\tAbhi Shelat\\t\\t\\t\\t\\t\\t\\t</h3>\\n\\t\\t\\t\\t\\t\\t</a>\\n\\t\\t\\t\\t\\t\\t\\t\\t\\t\\t\\t\\t<div class=\"position-list\">\\n\\t\\t\\t\\t\\t\\t\\t\\t\\t\\t\\t\\t\\t\\t\\t<p class=\"position\">Associate Professor</p>\\n\\t\\t\\t\\t\\t\\t\\t\\t\\t\\t\\t\\t\\t</div>\\n\\t\\t\\t\\t\\t\\t\\t\\t\\t\\t\\t\\t\\t\\t\\t\\t\\t</div>\\n\\t\\t\\t\\t</article>\\n\\t\\t\\t\\t\\t\\t</div>\\n\\t\\t\\t\\t\\t\\t\\t\\t\\t\\t<div class=\"grid-square grid-people\">\\n\\t\\t\\t\\t\\t\\t\\t\\t\\t\\t\\t<article class=\"people\">\\n\\t\\t\\t\\t\\t<div class=\"grid-item\">\\n\\t\\t\\t\\t\\t\\t<a href=\"https://www.khoury.northeastern.edu/people/olin-shivers/\">\\n\\t\\t\\t\\t\\t\\t\\t\\t<div class=\"grid-image\"><img src=\"https://www.khoury.northeastern.edu/wp-content/uploads/2016/02/Olin-Shivers-index-image-e1456778933241.jpg\" alt=\"\" /></div>\\n\\t\\t\\t\\t\\t\\t\\t\\t\\t\\t\\t\\t\\t\\t\\t<p class=\"roles\"><span class=\"role-23\">Tenured and Tenure Track Faculty</span></p>\\n\\t\\t\\t\\t\\t\\t\\t\\t\\t\\t\\t\\t\\t\\t<h3 class=\"person-name\">\\n\\t\\t\\t\\t\\t\\t\\t\\t\\tOlin Shivers\\t\\t\\t\\t\\t\\t\\t</h3>\\n\\t\\t\\t\\t\\t\\t</a>\\n\\t\\t\\t\\t\\t\\t\\t\\t\\t\\t\\t\\t<div class=\"position-list\">\\n\\t\\t\\t\\t\\t\\t\\t\\t\\t\\t\\t\\t\\t\\t\\t<p class=\"position\">Professor</p>\\n\\t\\t\\t\\t\\t\\t\\t\\t\\t\\t\\t\\t\\t</div>\\n\\t\\t\\t\\t\\t\\t\\t\\t\\t\\t\\t\\t\\t\\t\\t\\t\\t</div>\\n\\t\\t\\t\\t</article>\\n\\t\\t\\t\\t\\t\\t</div>\\n\\t\\t\\t\\t\\t\\t\\t\\t\\t\\t<div class=\"grid-square grid-people\">\\n\\t\\t\\t\\t\\t\\t\\t\\t\\t\\t\\t<article class=\"people\">\\n\\t\\t\\t\\t\\t<div class=\"grid-item\">\\n\\t\\t\\t\\t\\t\\t<a href=\"https://www.khoury.northeastern.edu/people/david-smith/\">\\n\\t\\t\\t\\t\\t\\t\\t\\t<div class=\"grid-image\"><img src=\"https://www.khoury.northeastern.edu/wp-content/uploads/2016/02/David-Smith-index-image-e1456779166749.jpg\" alt=\"\" /></div>\\n\\t\\t\\t\\t\\t\\t\\t\\t\\t\\t\\t\\t\\t\\t\\t<p class=\"roles\"><span class=\"role-23\">Tenured and Tenure Track Faculty</span></p>\\n\\t\\t\\t\\t\\t\\t\\t\\t\\t\\t\\t\\t\\t\\t<h3 class=\"person-name\">\\n\\t\\t\\t\\t\\t\\t\\t\\t\\tDavid Smith\\t\\t\\t\\t\\t\\t\\t</h3>\\n\\t\\t\\t\\t\\t\\t</a>\\n\\t\\t\\t\\t\\t\\t\\t\\t\\t\\t\\t\\t<div class=\"position-list\">\\n\\t\\t\\t\\t\\t\\t\\t\\t\\t\\t\\t\\t\\t\\t\\t<p class=\"position\">Associate Professor </p>\\n\\t\\t\\t\\t\\t\\t\\t\\t\\t\\t\\t\\t\\t</div>\\n\\t\\t\\t\\t\\t\\t\\t\\t\\t\\t\\t\\t\\t\\t\\t\\t\\t</div>\\n\\t\\t\\t\\t</article>\\n\\t\\t\\t\\t\\t\\t</div>\\n\\t\\t\\t\\t\\t\\t\\t\\t\\t\\t<div class=\"grid-square grid-people\">\\n\\t\\t\\t\\t\\t\\t\\t\\t\\t\\t\\t<article class=\"people\">\\n\\t\\t\\t\\t\\t<div class=\"grid-item\">\\n\\t\\t\\t\\t\\t\\t<a href=\"https://www.khoury.northeastern.edu/people/ravi-sundaram/\">\\n\\t\\t\\t\\t\\t\\t\\t\\t<div class=\"grid-image\"><img src=\"https://www.khoury.northeastern.edu/wp-content/uploads/2016/03/Ravi-Sundaram-Index-Image.jpg\" alt=\"\" /></div>\\n\\t\\t\\t\\t\\t\\t\\t\\t\\t\\t\\t\\t\\t\\t\\t<p class=\"roles\"><span class=\"role-23\">Tenured and Tenure Track Faculty</span></p>\\n\\t\\t\\t\\t\\t\\t\\t\\t\\t\\t\\t\\t\\t\\t<h3 class=\"person-name\">\\n\\t\\t\\t\\t\\t\\t\\t\\t\\tRavi Sundaram\\t\\t\\t\\t\\t\\t\\t</h3>\\n\\t\\t\\t\\t\\t\\t</a>\\n\\t\\t\\t\\t\\t\\t\\t\\t\\t\\t\\t\\t<div class=\"position-list\">\\n\\t\\t\\t\\t\\t\\t\\t\\t\\t\\t\\t\\t\\t\\t\\t<p class=\"position\">Professor</p>\\n\\t\\t\\t\\t\\t\\t\\t\\t\\t\\t\\t\\t\\t</div>\\n\\t\\t\\t\\t\\t\\t\\t\\t\\t\\t\\t\\t\\t\\t\\t\\t\\t</div>\\n\\t\\t\\t\\t</article>\\n\\t\\t\\t\\t\\t\\t</div>\\n\\t\\t\\t\\t\\t\\t\\t\\t\\t\\t<div class=\"grid-square grid-people\">\\n\\t\\t\\t\\t\\t\\t\\t\\t\\t\\t\\t<article class=\"people\">\\n\\t\\t\\t\\t\\t<div class=\"grid-item\">\\n\\t\\t\\t\\t\\t\\t<a href=\"https://www.khoury.northeastern.edu/people/frank-tip/\">\\n\\t\\t\\t\\t\\t\\t\\t\\t<div class=\"grid-image\"><img src=\"https://www.khoury.northeastern.edu/wp-content/uploads/2016/08/Tip_Frank_linderpix-NEU-55674-crop.jpg\" alt=\"\" /></div>\\n\\t\\t\\t\\t\\t\\t\\t\\t\\t\\t\\t\\t\\t\\t\\t<p class=\"roles\"><span class=\"role-29\">Administrative Staff</span> <span class=\"role-23\">Tenured and Tenure Track Faculty</span></p>\\n\\t\\t\\t\\t\\t\\t\\t\\t\\t\\t\\t\\t\\t\\t<h3 class=\"person-name\">\\n\\t\\t\\t\\t\\t\\t\\t\\t\\tFrank Tip\\t\\t\\t\\t\\t\\t\\t</h3>\\n\\t\\t\\t\\t\\t\\t</a>\\n\\t\\t\\t\\t\\t\\t\\t\\t\\t\\t\\t\\t<div class=\"position-list\">\\n\\t\\t\\t\\t\\t\\t\\t\\t\\t\\t\\t\\t\\t\\t\\t<p class=\"position\">Professor</p>\\n\\t\\t\\t\\t\\t\\t\\t\\t\\t\\t\\t\\t\\t\\t\\t<p class=\"position\">Associate Dean for Graduate Programs</p>\\n\\t\\t\\t\\t\\t\\t\\t\\t\\t\\t\\t\\t\\t</div>\\n\\t\\t\\t\\t\\t\\t\\t\\t\\t\\t\\t\\t\\t\\t\\t\\t\\t</div>\\n\\t\\t\\t\\t</article>\\n\\t\\t\\t\\t\\t\\t</div>\\n\\t\\t\\t\\t\\t\\t\\t\\t\\t\\t<div class=\"grid-square grid-people\">\\n\\t\\t\\t\\t\\t\\t\\t\\t\\t\\t\\t<article class=\"people\">\\n\\t\\t\\t\\t\\t<div class=\"grid-item\">\\n\\t\\t\\t\\t\\t\\t<a href=\"https://www.khoury.northeastern.edu/people/stavros-tripakis/\">\\n\\t\\t\\t\\t\\t\\t\\t\\t<div class=\"grid-image\"><img src=\"https://www.khoury.northeastern.edu/wp-content/uploads/2017/08/linderpix-NEU-9206-crop.jpg\" alt=\"\" /></div>\\n\\t\\t\\t\\t\\t\\t\\t\\t\\t\\t\\t\\t\\t\\t\\t<p class=\"roles\"><span class=\"role-23\">Tenured and Tenure Track Faculty</span></p>\\n\\t\\t\\t\\t\\t\\t\\t\\t\\t\\t\\t\\t\\t\\t<h3 class=\"person-name\">\\n\\t\\t\\t\\t\\t\\t\\t\\t\\tStavros Tripakis\\t\\t\\t\\t\\t\\t\\t</h3>\\n\\t\\t\\t\\t\\t\\t</a>\\n\\t\\t\\t\\t\\t\\t\\t\\t\\t\\t\\t\\t<div class=\"position-list\">\\n\\t\\t\\t\\t\\t\\t\\t\\t\\t\\t\\t\\t\\t\\t\\t<p class=\"position\">Associate Professor</p>\\n\\t\\t\\t\\t\\t\\t\\t\\t\\t\\t\\t\\t\\t</div>\\n\\t\\t\\t\\t\\t\\t\\t\\t\\t\\t\\t\\t\\t\\t\\t\\t\\t</div>\\n\\t\\t\\t\\t</article>\\n\\t\\t\\t\\t\\t\\t</div>\\n\\t\\t\\t\\t\\t\\t\\t\\t\\t\\t<div class=\"grid-square grid-people\">\\n\\t\\t\\t\\t\\t\\t\\t\\t\\t\\t\\t<article class=\"people\">\\n\\t\\t\\t\\t\\t<div class=\"grid-item\">\\n\\t\\t\\t\\t\\t\\t<a href=\"https://www.khoury.northeastern.edu/people/jonathan-ullman/\">\\n\\t\\t\\t\\t\\t\\t\\t\\t<div class=\"grid-image\"><img src=\"https://www.khoury.northeastern.edu/wp-content/uploads/2016/02/Jonathan-Ullman-index-image-e1456779392351.jpg\" alt=\"\" /></div>\\n\\t\\t\\t\\t\\t\\t\\t\\t\\t\\t\\t\\t\\t\\t\\t<p class=\"roles\"><span class=\"role-23\">Tenured and Tenure Track Faculty</span></p>\\n\\t\\t\\t\\t\\t\\t\\t\\t\\t\\t\\t\\t\\t\\t<h3 class=\"person-name\">\\n\\t\\t\\t\\t\\t\\t\\t\\t\\tJonathan Ullman\\t\\t\\t\\t\\t\\t\\t</h3>\\n\\t\\t\\t\\t\\t\\t</a>\\n\\t\\t\\t\\t\\t\\t\\t\\t\\t\\t\\t\\t<div class=\"position-list\">\\n\\t\\t\\t\\t\\t\\t\\t\\t\\t\\t\\t\\t\\t\\t\\t<p class=\"position\">Assistant Professor</p>\\n\\t\\t\\t\\t\\t\\t\\t\\t\\t\\t\\t\\t\\t</div>\\n\\t\\t\\t\\t\\t\\t\\t\\t\\t\\t\\t\\t\\t\\t\\t\\t\\t</div>\\n\\t\\t\\t\\t</article>\\n\\t\\t\\t\\t\\t\\t</div>\\n\\t\\t\\t\\t\\t\\t\\t\\t\\t\\t<div class=\"grid-square grid-people\">\\n\\t\\t\\t\\t\\t\\t\\t\\t\\t\\t\\t<article class=\"people\">\\n\\t\\t\\t\\t\\t<div class=\"grid-item\">\\n\\t\\t\\t\\t\\t\\t<a href=\"https://www.khoury.northeastern.edu/people/jan-willem-van-de-meent/\">\\n\\t\\t\\t\\t\\t\\t\\t\\t<div class=\"grid-image\"><img src=\"https://www.khoury.northeastern.edu/wp-content/uploads/2016/09/van-de-Meent_Jan-Willem-index-image.jpg\" alt=\"\" /></div>\\n\\t\\t\\t\\t\\t\\t\\t\\t\\t\\t\\t\\t\\t\\t\\t<p class=\"roles\"><span class=\"role-23\">Tenured and Tenure Track Faculty</span></p>\\n\\t\\t\\t\\t\\t\\t\\t\\t\\t\\t\\t\\t\\t\\t<h3 class=\"person-name\">\\n\\t\\t\\t\\t\\t\\t\\t\\t\\tJan-Willem van de Meent\\t\\t\\t\\t\\t\\t\\t</h3>\\n\\t\\t\\t\\t\\t\\t</a>\\n\\t\\t\\t\\t\\t\\t\\t\\t\\t\\t\\t\\t<div class=\"position-list\">\\n\\t\\t\\t\\t\\t\\t\\t\\t\\t\\t\\t\\t\\t\\t\\t<p class=\"position\">Assistant Professor</p>\\n\\t\\t\\t\\t\\t\\t\\t\\t\\t\\t\\t\\t\\t</div>\\n\\t\\t\\t\\t\\t\\t\\t\\t\\t\\t\\t\\t\\t\\t\\t\\t\\t</div>\\n\\t\\t\\t\\t</article>\\n\\t\\t\\t\\t\\t\\t</div>\\n\\t\\t\\t\\t\\t\\t\\t\\t\\t\\t<div class=\"grid-square grid-people\">\\n\\t\\t\\t\\t\\t\\t\\t\\t\\t\\t\\t<article class=\"people\">\\n\\t\\t\\t\\t\\t<div class=\"grid-item\">\\n\\t\\t\\t\\t\\t\\t<a href=\"https://www.khoury.northeastern.edu/people/alessandrovespignani/\">\\n\\t\\t\\t\\t\\t\\t\\t\\t<div class=\"grid-image\"><img src=\"https://www.khoury.northeastern.edu/wp-content/uploads/2016/04/linderpix111915-avespignani-9987-crop.jpg\" alt=\"\" /></div>\\n\\t\\t\\t\\t\\t\\t\\t\\t\\t\\t\\t\\t\\t\\t\\t<p class=\"roles\"><span class=\"role-23\">Tenured and Tenure Track Faculty</span></p>\\n\\t\\t\\t\\t\\t\\t\\t\\t\\t\\t\\t\\t\\t\\t<h3 class=\"person-name\">\\n\\t\\t\\t\\t\\t\\t\\t\\t\\tAlessandro Vespignani\\t\\t\\t\\t\\t\\t\\t</h3>\\n\\t\\t\\t\\t\\t\\t</a>\\n\\t\\t\\t\\t\\t\\t\\t\\t\\t\\t\\t\\t<div class=\"position-list\">\\n\\t\\t\\t\\t\\t\\t\\t\\t\\t\\t\\t\\t\\t\\t\\t<p class=\"position\">Sternberg Family Distinguished Professor</p>\\n\\t\\t\\t\\t\\t\\t\\t\\t\\t\\t\\t\\t\\t\\t\\t<p class=\"position\">Director - Network Science Institute</p>\\n\\t\\t\\t\\t\\t\\t\\t\\t\\t\\t\\t\\t\\t\\t\\t<p class=\"position\">Interdisciplinary with College of Science and Bouv\\xc3\\xa9 College of Health Sciences</p>\\n\\t\\t\\t\\t\\t\\t\\t\\t\\t\\t\\t\\t\\t</div>\\n\\t\\t\\t\\t\\t\\t\\t\\t\\t\\t\\t\\t\\t\\t\\t\\t\\t</div>\\n\\t\\t\\t\\t</article>\\n\\t\\t\\t\\t\\t\\t</div>\\n\\t\\t\\t\\t\\t\\t\\t\\t\\t\\t<div class=\"grid-square grid-people\">\\n\\t\\t\\t\\t\\t\\t\\t\\t\\t\\t\\t<article class=\"people\">\\n\\t\\t\\t\\t\\t<div class=\"grid-item\">\\n\\t\\t\\t\\t\\t\\t<a href=\"https://www.khoury.northeastern.edu/people/emanuele-viola/\">\\n\\t\\t\\t\\t\\t\\t\\t\\t<div class=\"grid-image\"><img src=\"https://www.khoury.northeastern.edu/wp-content/uploads/2016/03/Emanuele-Viola-Index-Image.jpg\" alt=\"\" /></div>\\n\\t\\t\\t\\t\\t\\t\\t\\t\\t\\t\\t\\t\\t\\t\\t<p class=\"roles\"><span class=\"role-23\">Tenured and Tenure Track Faculty</span></p>\\n\\t\\t\\t\\t\\t\\t\\t\\t\\t\\t\\t\\t\\t\\t<h3 class=\"person-name\">\\n\\t\\t\\t\\t\\t\\t\\t\\t\\tEmanuele Viola\\t\\t\\t\\t\\t\\t\\t</h3>\\n\\t\\t\\t\\t\\t\\t</a>\\n\\t\\t\\t\\t\\t\\t\\t\\t\\t\\t\\t\\t<div class=\"position-list\">\\n\\t\\t\\t\\t\\t\\t\\t\\t\\t\\t\\t\\t\\t\\t\\t<p class=\"position\">Associate Professor</p>\\n\\t\\t\\t\\t\\t\\t\\t\\t\\t\\t\\t\\t\\t</div>\\n\\t\\t\\t\\t\\t\\t\\t\\t\\t\\t\\t\\t\\t\\t\\t\\t\\t</div>\\n\\t\\t\\t\\t</article>\\n\\t\\t\\t\\t\\t\\t</div>\\n\\t\\t\\t\\t\\t\\t\\t\\t\\t\\t<div class=\"grid-square grid-people\">\\n\\t\\t\\t\\t\\t\\t\\t\\t\\t\\t\\t<article class=\"people\">\\n\\t\\t\\t\\t\\t<div class=\"grid-item\">\\n\\t\\t\\t\\t\\t\\t<a href=\"https://www.khoury.northeastern.edu/people/jan-vitek/\">\\n\\t\\t\\t\\t\\t\\t\\t\\t<div class=\"grid-image\"><img src=\"https://www.khoury.northeastern.edu/wp-content/uploads/2016/02/Jan-Vitek-index-image.jpg\" alt=\"\" /></div>\\n\\t\\t\\t\\t\\t\\t\\t\\t\\t\\t\\t\\t\\t\\t\\t<p class=\"roles\"><span class=\"role-23\">Tenured and Tenure Track Faculty</span></p>\\n\\t\\t\\t\\t\\t\\t\\t\\t\\t\\t\\t\\t\\t\\t<h3 class=\"person-name\">\\n\\t\\t\\t\\t\\t\\t\\t\\t\\tJan Vitek\\t\\t\\t\\t\\t\\t\\t</h3>\\n\\t\\t\\t\\t\\t\\t</a>\\n\\t\\t\\t\\t\\t\\t\\t\\t\\t\\t\\t\\t<div class=\"position-list\">\\n\\t\\t\\t\\t\\t\\t\\t\\t\\t\\t\\t\\t\\t\\t\\t<p class=\"position\">Professor</p>\\n\\t\\t\\t\\t\\t\\t\\t\\t\\t\\t\\t\\t\\t</div>\\n\\t\\t\\t\\t\\t\\t\\t\\t\\t\\t\\t\\t\\t\\t\\t\\t\\t</div>\\n\\t\\t\\t\\t</article>\\n\\t\\t\\t\\t\\t\\t</div>\\n\\t\\t\\t\\t\\t\\t\\t\\t\\t\\t<div class=\"grid-square grid-people\">\\n\\t\\t\\t\\t\\t\\t\\t\\t\\t\\t\\t<article class=\"people\">\\n\\t\\t\\t\\t\\t<div class=\"grid-item\">\\n\\t\\t\\t\\t\\t\\t<a href=\"https://www.khoury.northeastern.edu/people/olga-vitek/\">\\n\\t\\t\\t\\t\\t\\t\\t\\t<div class=\"grid-image\"><img src=\"https://www.khoury.northeastern.edu/wp-content/uploads/2016/02/Olga-Vitek-index-image-e1456778947471.jpg\" alt=\"\" /></div>\\n\\t\\t\\t\\t\\t\\t\\t\\t\\t\\t\\t\\t\\t\\t\\t<p class=\"roles\"><span class=\"role-23\">Tenured and Tenure Track Faculty</span></p>\\n\\t\\t\\t\\t\\t\\t\\t\\t\\t\\t\\t\\t\\t\\t<h3 class=\"person-name\">\\n\\t\\t\\t\\t\\t\\t\\t\\t\\tOlga Vitek\\t\\t\\t\\t\\t\\t\\t</h3>\\n\\t\\t\\t\\t\\t\\t</a>\\n\\t\\t\\t\\t\\t\\t\\t\\t\\t\\t\\t\\t<div class=\"position-list\">\\n\\t\\t\\t\\t\\t\\t\\t\\t\\t\\t\\t\\t\\t\\t\\t<p class=\"position\">Professor</p>\\n\\t\\t\\t\\t\\t\\t\\t\\t\\t\\t\\t\\t\\t\\t\\t<p class=\"position\">Director - MS in Data Science Program</p>\\n\\t\\t\\t\\t\\t\\t\\t\\t\\t\\t\\t\\t\\t</div>\\n\\t\\t\\t\\t\\t\\t\\t\\t\\t\\t\\t\\t\\t\\t\\t\\t\\t</div>\\n\\t\\t\\t\\t</article>\\n\\t\\t\\t\\t\\t\\t</div>\\n\\t\\t\\t\\t\\t\\t\\t\\t\\t\\t<div class=\"grid-square grid-people\">\\n\\t\\t\\t\\t\\t\\t\\t\\t\\t\\t\\t<article class=\"people\">\\n\\t\\t\\t\\t\\t<div class=\"grid-item\">\\n\\t\\t\\t\\t\\t\\t<a href=\"https://www.khoury.northeastern.edu/people/thomas-wahl/\">\\n\\t\\t\\t\\t\\t\\t\\t\\t<div class=\"grid-image\"><img src=\"https://www.khoury.northeastern.edu/wp-content/uploads/2016/02/Thomas-Wahl-index-image.jpg\" alt=\"\" /></div>\\n\\t\\t\\t\\t\\t\\t\\t\\t\\t\\t\\t\\t\\t\\t\\t<p class=\"roles\"><span class=\"role-23\">Tenured and Tenure Track Faculty</span></p>\\n\\t\\t\\t\\t\\t\\t\\t\\t\\t\\t\\t\\t\\t\\t<h3 class=\"person-name\">\\n\\t\\t\\t\\t\\t\\t\\t\\t\\tThomas Wahl\\t\\t\\t\\t\\t\\t\\t</h3>\\n\\t\\t\\t\\t\\t\\t</a>\\n\\t\\t\\t\\t\\t\\t\\t\\t\\t\\t\\t\\t<div class=\"position-list\">\\n\\t\\t\\t\\t\\t\\t\\t\\t\\t\\t\\t\\t\\t\\t\\t<p class=\"position\">Associate Professor</p>\\n\\t\\t\\t\\t\\t\\t\\t\\t\\t\\t\\t\\t\\t</div>\\n\\t\\t\\t\\t\\t\\t\\t\\t\\t\\t\\t\\t\\t\\t\\t\\t\\t</div>\\n\\t\\t\\t\\t</article>\\n\\t\\t\\t\\t\\t\\t</div>\\n\\t\\t\\t\\t\\t\\t\\t\\t\\t\\t<div class=\"grid-square grid-people\">\\n\\t\\t\\t\\t\\t\\t\\t\\t\\t\\t\\t<article class=\"people\">\\n\\t\\t\\t\\t\\t<div class=\"grid-item\">\\n\\t\\t\\t\\t\\t\\t<a href=\"https://www.khoury.northeastern.edu/people/byron-wallace/\">\\n\\t\\t\\t\\t\\t\\t\\t\\t<div class=\"grid-image\"><img src=\"https://www.khoury.northeastern.edu/wp-content/uploads/2016/08/Wallace_Byron-index-image.jpg\" alt=\"\" /></div>\\n\\t\\t\\t\\t\\t\\t\\t\\t\\t\\t\\t\\t\\t\\t\\t<p class=\"roles\"><span class=\"role-23\">Tenured and Tenure Track Faculty</span></p>\\n\\t\\t\\t\\t\\t\\t\\t\\t\\t\\t\\t\\t\\t\\t<h3 class=\"person-name\">\\n\\t\\t\\t\\t\\t\\t\\t\\t\\tByron Wallace\\t\\t\\t\\t\\t\\t\\t</h3>\\n\\t\\t\\t\\t\\t\\t</a>\\n\\t\\t\\t\\t\\t\\t\\t\\t\\t\\t\\t\\t<div class=\"position-list\">\\n\\t\\t\\t\\t\\t\\t\\t\\t\\t\\t\\t\\t\\t\\t\\t<p class=\"position\">Assistant Professor</p>\\n\\t\\t\\t\\t\\t\\t\\t\\t\\t\\t\\t\\t\\t\\t\\t<p class=\"position\">Director - BS in Data Science Program</p>\\n\\t\\t\\t\\t\\t\\t\\t\\t\\t\\t\\t\\t\\t</div>\\n\\t\\t\\t\\t\\t\\t\\t\\t\\t\\t\\t\\t\\t\\t\\t\\t\\t</div>\\n\\t\\t\\t\\t</article>\\n\\t\\t\\t\\t\\t\\t</div>\\n\\t\\t\\t\\t\\t\\t\\t\\t\\t\\t<div class=\"grid-square grid-people\">\\n\\t\\t\\t\\t\\t\\t\\t\\t\\t\\t\\t<article class=\"people\">\\n\\t\\t\\t\\t\\t<div class=\"grid-item\">\\n\\t\\t\\t\\t\\t\\t<a href=\"https://www.khoury.northeastern.edu/people/mitchell-wand/\">\\n\\t\\t\\t\\t\\t\\t\\t\\t<div class=\"grid-image\"><img src=\"https://www.khoury.northeastern.edu/wp-content/uploads/2016/02/Mitch-Wand-index-image.jpg\" alt=\"\" /></div>\\n\\t\\t\\t\\t\\t\\t\\t\\t\\t\\t\\t\\t\\t\\t\\t<p class=\"roles\"><span class=\"role-23\">Tenured and Tenure Track Faculty</span></p>\\n\\t\\t\\t\\t\\t\\t\\t\\t\\t\\t\\t\\t\\t\\t<h3 class=\"person-name\">\\n\\t\\t\\t\\t\\t\\t\\t\\t\\tMitchell Wand\\t\\t\\t\\t\\t\\t\\t</h3>\\n\\t\\t\\t\\t\\t\\t</a>\\n\\t\\t\\t\\t\\t\\t\\t\\t\\t\\t\\t\\t<div class=\"position-list\">\\n\\t\\t\\t\\t\\t\\t\\t\\t\\t\\t\\t\\t\\t\\t\\t<p class=\"position\">Part-Time Lecturer</p>\\n\\t\\t\\t\\t\\t\\t\\t\\t\\t\\t\\t\\t\\t\\t\\t<p class=\"position\">Professor Emeritus</p>\\n\\t\\t\\t\\t\\t\\t\\t\\t\\t\\t\\t\\t\\t</div>\\n\\t\\t\\t\\t\\t\\t\\t\\t\\t\\t\\t\\t\\t\\t\\t\\t\\t</div>\\n\\t\\t\\t\\t</article>\\n\\t\\t\\t\\t\\t\\t</div>\\n\\t\\t\\t\\t\\t\\t\\t\\t\\t\\t<div class=\"grid-square grid-people\">\\n\\t\\t\\t\\t\\t\\t\\t\\t\\t\\t\\t<article class=\"people\">\\n\\t\\t\\t\\t\\t<div class=\"grid-item\">\\n\\t\\t\\t\\t\\t\\t<a href=\"https://www.khoury.northeastern.edu/people/lu-wang/\">\\n\\t\\t\\t\\t\\t\\t\\t\\t<div class=\"grid-image\"><img src=\"https://www.khoury.northeastern.edu/wp-content/uploads/2016/02/Lu-Wang-index-image.jpg\" alt=\"\" /></div>\\n\\t\\t\\t\\t\\t\\t\\t\\t\\t\\t\\t\\t\\t\\t\\t<p class=\"roles\"><span class=\"role-23\">Tenured and Tenure Track Faculty</span></p>\\n\\t\\t\\t\\t\\t\\t\\t\\t\\t\\t\\t\\t\\t\\t<h3 class=\"person-name\">\\n\\t\\t\\t\\t\\t\\t\\t\\t\\tLu Wang\\t\\t\\t\\t\\t\\t\\t</h3>\\n\\t\\t\\t\\t\\t\\t</a>\\n\\t\\t\\t\\t\\t\\t\\t\\t\\t\\t\\t\\t<div class=\"position-list\">\\n\\t\\t\\t\\t\\t\\t\\t\\t\\t\\t\\t\\t\\t\\t\\t<p class=\"position\">Assistant Professor</p>\\n\\t\\t\\t\\t\\t\\t\\t\\t\\t\\t\\t\\t\\t</div>\\n\\t\\t\\t\\t\\t\\t\\t\\t\\t\\t\\t\\t\\t\\t\\t\\t\\t</div>\\n\\t\\t\\t\\t</article>\\n\\t\\t\\t\\t\\t\\t</div>\\n\\t\\t\\t\\t\\t\\t\\t\\t\\t\\t<div class=\"grid-square grid-people\">\\n\\t\\t\\t\\t\\t\\t\\t\\t\\t\\t\\t<article class=\"people\">\\n\\t\\t\\t\\t\\t<div class=\"grid-item\">\\n\\t\\t\\t\\t\\t\\t<a href=\"https://www.khoury.northeastern.edu/people/daniel-wichs/\">\\n\\t\\t\\t\\t\\t\\t\\t\\t<div class=\"grid-image\"><img src=\"https://www.khoury.northeastern.edu/wp-content/uploads/2016/02/Daniel-Wichs-index-image.jpg\" alt=\"\" /></div>\\n\\t\\t\\t\\t\\t\\t\\t\\t\\t\\t\\t\\t\\t\\t\\t<p class=\"roles\"><span class=\"role-23\">Tenured and Tenure Track Faculty</span></p>\\n\\t\\t\\t\\t\\t\\t\\t\\t\\t\\t\\t\\t\\t\\t<h3 class=\"person-name\">\\n\\t\\t\\t\\t\\t\\t\\t\\t\\tDaniel Wichs\\t\\t\\t\\t\\t\\t\\t</h3>\\n\\t\\t\\t\\t\\t\\t</a>\\n\\t\\t\\t\\t\\t\\t\\t\\t\\t\\t\\t\\t<div class=\"position-list\">\\n\\t\\t\\t\\t\\t\\t\\t\\t\\t\\t\\t\\t\\t\\t\\t<p class=\"position\">Associate Professor</p>\\n\\t\\t\\t\\t\\t\\t\\t\\t\\t\\t\\t\\t\\t</div>\\n\\t\\t\\t\\t\\t\\t\\t\\t\\t\\t\\t\\t\\t\\t\\t\\t\\t</div>\\n\\t\\t\\t\\t</article>\\n\\t\\t\\t\\t\\t\\t</div>\\n\\t\\t\\t\\t\\t\\t\\t\\t\\t\\t<div class=\"grid-square grid-people\">\\n\\t\\t\\t\\t\\t\\t\\t\\t\\t\\t\\t<article class=\"people\">\\n\\t\\t\\t\\t\\t<div class=\"grid-item\">\\n\\t\\t\\t\\t\\t\\t<a href=\"https://www.khoury.northeastern.edu/people/christo-wilson/\">\\n\\t\\t\\t\\t\\t\\t\\t\\t<div class=\"grid-image\"><img src=\"https://www.khoury.northeastern.edu/wp-content/uploads/2016/02/Christo-Wilson-index-image.jpg\" alt=\"\" /></div>\\n\\t\\t\\t\\t\\t\\t\\t\\t\\t\\t\\t\\t\\t\\t\\t<p class=\"roles\"><span class=\"role-29\">Administrative Staff</span> <span class=\"role-23\">Tenured and Tenure Track Faculty</span></p>\\n\\t\\t\\t\\t\\t\\t\\t\\t\\t\\t\\t\\t\\t\\t<h3 class=\"person-name\">\\n\\t\\t\\t\\t\\t\\t\\t\\t\\tChristo Wilson\\t\\t\\t\\t\\t\\t\\t</h3>\\n\\t\\t\\t\\t\\t\\t</a>\\n\\t\\t\\t\\t\\t\\t\\t\\t\\t\\t\\t\\t<div class=\"position-list\">\\n\\t\\t\\t\\t\\t\\t\\t\\t\\t\\t\\t\\t\\t\\t\\t<p class=\"position\">Associate Professor</p>\\n\\t\\t\\t\\t\\t\\t\\t\\t\\t\\t\\t\\t\\t\\t\\t<p class=\"position\">Director of the BS in Cybersecurity Program</p>\\n\\t\\t\\t\\t\\t\\t\\t\\t\\t\\t\\t\\t\\t</div>\\n\\t\\t\\t\\t\\t\\t\\t\\t\\t\\t\\t\\t\\t\\t\\t\\t\\t</div>\\n\\t\\t\\t\\t</article>\\n\\t\\t\\t\\t\\t\\t</div>\\n\\t\\t\\t\\t\\t\\t\\t\\t\\t\\t<div class=\"grid-square grid-people\">\\n\\t\\t\\t\\t\\t\\t\\t\\t\\t\\t\\t<article class=\"people\">\\n\\t\\t\\t\\t\\t<div class=\"grid-item\">\\n\\t\\t\\t\\t\\t\\t<a href=\"https://www.khoury.northeastern.edu/people/lawson-wong/\">\\n\\t\\t\\t\\t\\t\\t\\t\\t<div class=\"grid-image\"><img src=\"https://www.khoury.northeastern.edu/wp-content/uploads/2018/08/linderpix-NEU-9067-crop-index-new.jpg\" alt=\"\" /></div>\\n\\t\\t\\t\\t\\t\\t\\t\\t\\t\\t\\t\\t\\t\\t\\t<p class=\"roles\"><span class=\"role-23\">Tenured and Tenure Track Faculty</span></p>\\n\\t\\t\\t\\t\\t\\t\\t\\t\\t\\t\\t\\t\\t\\t<h3 class=\"person-name\">\\n\\t\\t\\t\\t\\t\\t\\t\\t\\tLawson Wong\\t\\t\\t\\t\\t\\t\\t</h3>\\n\\t\\t\\t\\t\\t\\t</a>\\n\\t\\t\\t\\t\\t\\t\\t\\t\\t\\t\\t\\t<div class=\"position-list\">\\n\\t\\t\\t\\t\\t\\t\\t\\t\\t\\t\\t\\t\\t\\t\\t<p class=\"position\">Assistant Professor</p>\\n\\t\\t\\t\\t\\t\\t\\t\\t\\t\\t\\t\\t\\t</div>\\n\\t\\t\\t\\t\\t\\t\\t\\t\\t\\t\\t\\t\\t\\t\\t\\t\\t</div>\\n\\t\\t\\t\\t</article>\\n\\t\\t\\t\\t\\t\\t</div>\\n\\t\\t\\t\\t\\t\\t\\t\\t\\t\\t<div class=\"grid-square grid-people\">\\n\\t\\t\\t\\t\\t\\t\\t\\t\\t\\t\\t<article class=\"people\">\\n\\t\\t\\t\\t\\t<div class=\"grid-item\">\\n\\t\\t\\t\\t\\t\\t<a href=\"https://www.khoury.northeastern.edu/people/rose-yu/\">\\n\\t\\t\\t\\t\\t\\t\\t\\t<div class=\"grid-image\"><img src=\"https://www.khoury.northeastern.edu/wp-content/uploads/2017/08/linderpix-NEU-4233-crop.jpg\" alt=\"\" /></div>\\n\\t\\t\\t\\t\\t\\t\\t\\t\\t\\t\\t\\t\\t\\t\\t<p class=\"roles\"><span class=\"role-23\">Tenured and Tenure Track Faculty</span></p>\\n\\t\\t\\t\\t\\t\\t\\t\\t\\t\\t\\t\\t\\t\\t<h3 class=\"person-name\">\\n\\t\\t\\t\\t\\t\\t\\t\\t\\tRose Yu\\t\\t\\t\\t\\t\\t\\t</h3>\\n\\t\\t\\t\\t\\t\\t</a>\\n\\t\\t\\t\\t\\t\\t\\t\\t\\t\\t\\t\\t<div class=\"position-list\">\\n\\t\\t\\t\\t\\t\\t\\t\\t\\t\\t\\t\\t\\t\\t\\t<p class=\"position\">Assistant Professor</p>\\n\\t\\t\\t\\t\\t\\t\\t\\t\\t\\t\\t\\t\\t</div>\\n\\t\\t\\t\\t\\t\\t\\t\\t\\t\\t\\t\\t\\t\\t\\t\\t\\t</div>\\n\\t\\t\\t\\t</article>\\n\\t\\t\\t\\t\\t\\t</div>\\n\\t\\t\\t\\t\\t\\t\\t\\t\\t\\t</div>\\n\\t\\t\\t\\t\\t</div>\\n\\t\\t\\t\\t</div>\\n\\t\\t\\t</section>\\n\\t\\t</div><!-- / .row -->\\n\\t</main>\\n<footer role=\"contentinfo\" id=\"site-footer\">\\n\\t<div class=\"container\">\\n\\t\\t<div id=\"menu-prefooter\" class=\"row\">\\n\\t\\t\\t<div class=\"footer-logo\">\\n\\t\\t\\t\\t<!-- CCIS wordmark only -->\\n\\t\\t\\t\\t<svg version=\"1.1\" xmlns=\"http://www.w3.org/2000/svg\" xmlns:xlink=\"http://www.w3.org/1999/xlink\" x=\"0px\" y=\"0px\"\\n\\t\\t\\t\\t\\t viewBox=\"0 0 323 20.5\" style=\"enable-background:new 0 0 323 20.5;\" xml:space=\"preserve\">\\n\\t\\t\\t\\t<style type=\"text/css\">\\n\\t\\t\\t\\t\\t.st0{fill:#625445;}\\n\\t\\t\\t\\t</style>\\n\\t\\t\\t\\t<g>\\n\\t\\t\\t\\t\\t<path class=\"st0\" d=\"M0,0.3h2.6v7h0l4.9-7h2.8L5.7,7.1l5.1,9.3H7.9L4,9.2l-1.4,2v5.2H0V0.3z\"/>\\n\\t\\t\\t\\t\\t<path class=\"st0\" d=\"M11.5,0.3h2.4v5.3l0.1,0c0.6-1,1.8-1.7,3-1.7c1.8,0,3,0.8,3,3.3v9.1h-2.4V8.1c0-1.6-0.5-2.2-1.7-2.2\\n\\t\\t\\t\\t\\t\\tc-1,0-1.9,0.8-1.9,2.4v8.1h-2.4L11.5,0.3z\"/>\\n\\t\\t\\t\\t\\t<path class=\"st0\" d=\"M26.4,4c3.5,0,4.5,2.6,4.5,6.4s-1.1,6.4-4.5,6.4s-4.5-2.6-4.5-6.4S22.9,4,26.4,4z M26.4,14.9\\n\\t\\t\\t\\t\\t\\tc1.8,0,2.1-1.5,2.1-4.6c0-2.7-0.3-4.6-2.1-4.6c-1.8,0-2.1,1.9-2.1,4.6C24.3,13.4,24.6,14.9,26.4,14.9z\"/>\\n\\t\\t\\t\\t\\t<path class=\"st0\" d=\"M39,15L39,15c-0.7,1.1-1.9,1.8-3.2,1.7c-1.8,0-3-0.8-3-4V4.3h2.4V13c0,1.3,0.6,1.8,1.6,1.8c1,0,2-0.7,2-2V4.3\\n\\t\\t\\t\\t\\t\\th2.4v12.1h-2.3L39,15z\"/>\\n\\t\\t\\t\\t\\t<path class=\"st0\" d=\"M43.6,4.3H46v1.9h0C46.6,4.8,47.5,4,48.9,4c0.2,0,0.4,0,0.6,0.1v2.5c-0.3-0.1-0.7-0.1-1-0.1\\n\\t\\t\\t\\t\\t\\tc-1.1,0-2.4,0.5-2.4,2.7v7.3h-2.4L43.6,4.3z\"/>\\n\\t\\t\\t\\t\\t<path class=\"st0\" d=\"M52.7,4.3l2.1,9.1h0l1.9-9.1h2.5L56,16.8c-0.9,3.3-1.7,3.7-4.2,3.7c-0.3,0-0.6,0-1-0.1v-1.9\\n\\t\\t\\t\\t\\t\\tc0.3,0.1,0.5,0.1,0.8,0.1c0.8,0,1.4-0.2,1.6-0.9l0.3-1L50.1,4.3L52.7,4.3z\"/>\\n\\t\\t\\t\\t\\t<path class=\"st0\" d=\"M76.1,10.6V11c0,2.9-1.2,5.7-4.9,5.7c-4,0-5.3-2.6-5.3-8.3S67.1,0,71.2,0C75.8,0,76,3.4,76,5v0.3h-2.6V5.1\\n\\t\\t\\t\\t\\t\\tc0-1.5-0.4-3.2-2.3-3.1c-1.9,0-2.7,1.2-2.7,6.3s0.9,6.5,2.7,6.5c2.1,0,2.4-2.4,2.4-3.9v-0.3L76.1,10.6z\"/>\\n\\t\\t\\t\\t\\t<path class=\"st0\" d=\"M81.8,4c3.5,0,4.5,2.6,4.5,6.4s-1.1,6.4-4.5,6.4s-4.5-2.6-4.5-6.4S78.3,4,81.8,4z M81.8,14.9\\n\\t\\t\\t\\t\\t\\tc1.8,0,2.1-1.5,2.1-4.6c0-2.7-0.3-4.6-2.1-4.6s-2.1,1.9-2.1,4.6C79.7,13.4,80,14.9,81.8,14.9z\"/>\\n\\t\\t\\t\\t\\t<path class=\"st0\" d=\"M88.3,0.3h2.4v16.1h-2.4V0.3z\"/>\\n\\t\\t\\t\\t\\t<path class=\"st0\" d=\"M93.3,0.3h2.4v16.1h-2.4V0.3z\"/>\\n\\t\\t\\t\\t\\t<path class=\"st0\" d=\"M100.3,10.6v0.7c0,1.6,0.2,3.7,2,3.7c1.7,0,1.9-2,1.9-2.7h2.3c0,2.7-1.6,4.4-4.3,4.4c-2,0-4.4-0.6-4.4-6.2\\n\\t\\t\\t\\t\\t\\tc0-3.2,0.7-6.5,4.5-6.5c3.4,0,4.3,2,4.3,5.4v1.3L100.3,10.6z M104.2,9V8.3c0-1.5-0.5-2.7-1.9-2.7c-1.6,0-2,1.5-2,3.1V9L104.2,9z\"/>\\n\\t\\t\\t\\t\\t<path class=\"st0\" d=\"M111,17.4c0,0.7,0.7,1.4,1.8,1.4c1.3,0,2-0.9,2-2.3v-2h0c-0.5,1.1-1.6,1.7-2.7,1.7c-2.8,0-3.6-2.8-3.6-6.1\\n\\t\\t\\t\\t\\t\\tc0-2.7,0.4-6.2,3.8-6.2c1.4,0,2.4,0.9,2.7,1.8h0V4.3h2.3v11.5c0,2.9-1.3,4.7-4.5,4.7c-3.6,0-4-2.1-4-3.1L111,17.4z M112.7,14.4\\n\\t\\t\\t\\t\\t\\tc1.9,0,2.1-2.4,2.1-4.3c0-2-0.2-4.2-1.9-4.2c-1.8,0-2,1.8-2,4C110.8,12,110.9,14.4,112.7,14.4z\"/>\\n\\t\\t\\t\\t\\t<path class=\"st0\" d=\"M121.5,10.6v0.7c0,1.6,0.2,3.7,2,3.7c1.7,0,1.9-2,1.9-2.7h2.3c0,2.7-1.6,4.4-4.3,4.4c-2,0-4.4-0.6-4.4-6.2\\n\\t\\t\\t\\t\\t\\tc0-3.2,0.7-6.5,4.5-6.5c3.4,0,4.3,2,4.3,5.4v1.3L121.5,10.6z M125.4,9V8.3c0-1.5-0.5-2.7-1.9-2.7c-1.6,0-2,1.5-2,3.1V9L125.4,9z\"/>\\n\\t\\t\\t\\t\\t<path class=\"st0\" d=\"M139.3,4c3.5,0,4.5,2.6,4.5,6.4s-1.1,6.4-4.5,6.4s-4.5-2.6-4.5-6.4S135.8,4,139.3,4z M139.3,14.9\\n\\t\\t\\t\\t\\t\\tc1.8,0,2.1-1.5,2.1-4.6c0-2.7-0.3-4.6-2.1-4.6s-2.1,1.9-2.1,4.6C137.2,13.4,137.5,14.9,139.3,14.9z\"/>\\n\\t\\t\\t\\t\\t<path class=\"st0\" d=\"M146.4,6.1h-1.7V4.3h1.7V3.2c0-2.3,1.1-3,3.1-3c0.4,0,0.9,0,1.3,0.1v1.9h-0.7c-0.9,0-1.3,0.3-1.3,1.1v1.1h2\\n\\t\\t\\t\\t\\t\\tv1.8h-2v10.3h-2.4L146.4,6.1z\"/>\\n\\t\\t\\t\\t\\t<path class=\"st0\" d=\"M167.3,10.6V11c0,2.9-1.2,5.7-4.9,5.7c-4,0-5.3-2.6-5.3-8.3s1.3-8.3,5.3-8.3c4.6,0,4.8,3.4,4.8,5v0.3h-2.6V5.1\\n\\t\\t\\t\\t\\t\\tc0-1.5-0.5-3.2-2.3-3.1c-1.9,0-2.7,1.2-2.7,6.3s0.9,6.5,2.7,6.5c2.1,0,2.4-2.4,2.4-3.9v-0.3L167.3,10.6z\"/>\\n\\t\\t\\t\\t\\t<path class=\"st0\" d=\"M173,4c3.5,0,4.5,2.6,4.5,6.4s-1.1,6.4-4.5,6.4c-3.4,0-4.5-2.6-4.5-6.4S169.5,4,173,4z M173,14.9\\n\\t\\t\\t\\t\\t\\tc1.8,0,2.1-1.5,2.1-4.6c0-2.7-0.3-4.6-2.1-4.6s-2.1,1.9-2.1,4.6C171,13.4,171.3,14.9,173,14.9z\"/>\\n\\t\\t\\t\\t\\t<path class=\"st0\" d=\"M179.5,4.3h2.3v1.4h0.1c0.6-1.1,1.7-1.7,2.9-1.7c1.7,0,2.5,0.8,2.8,1.8c0.7-1.2,1.6-1.8,3.1-1.8\\n\\t\\t\\t\\t\\t\\tc1.7,0,2.9,0.9,2.9,3.2v9.2h-2.4V8.1c0-1.6-0.5-2.2-1.5-2.2c-1,0-1.9,0.8-1.9,2.4v8.1h-2.4V8.1c0-1.6-0.5-2.2-1.5-2.2\\n\\t\\t\\t\\t\\t\\tc-1,0-1.9,0.8-1.9,2.4v8.1h-2.4L179.5,4.3z\"/>\\n\\t\\t\\t\\t\\t<path class=\"st0\" d=\"M196.1,4.3h2.3v1.5h0c0.5-1.1,1.4-1.8,2.7-1.8c2.8,0,3.9,2.4,3.9,6.5c0,5.1-2.1,6.2-3.7,6.2\\n\\t\\t\\t\\t\\t\\tc-1.3,0-2.3-0.7-2.7-1.7h0v5.4h-2.4L196.1,4.3z M200.4,14.8c1.4,0,2-1,2-4.4c0-2.7-0.4-4.5-2-4.5c-1.7,0-2,1.7-2,4.3\\n\\t\\t\\t\\t\\t\\tC198.4,13.1,198.7,14.8,200.4,14.8L200.4,14.8z\"/>\\n\\t\\t\\t\\t\\t<path class=\"st0\" d=\"M213.1,15L213.1,15c-0.7,1.1-1.9,1.8-3.2,1.7c-1.8,0-3-0.8-3-4V4.3h2.4V13c0,1.3,0.6,1.8,1.6,1.8\\n\\t\\t\\t\\t\\t\\tc1,0,2-0.7,2-2V4.3h2.4v12.1h-2.3L213.1,15z\"/>\\n\\t\\t\\t\\t\\t<path class=\"st0\" d=\"M216.6,4.3h1.7V0.8h2.4v3.4h2v1.8h-2v7.2c0,0.9,0.3,1.3,1.1,1.3c0.3,0,0.6,0,0.9-0.1v1.8\\n\\t\\t\\t\\t\\t\\tc-0.6,0.1-1.3,0.2-2,0.2c-1.6,0-2.5-0.4-2.5-2.9V6.1h-1.7L216.6,4.3z\"/>\\n\\t\\t\\t\\t\\t<path class=\"st0\" d=\"M226.1,10.6v0.7c0,1.6,0.2,3.7,2,3.7c1.7,0,1.9-2,1.9-2.7h2.3c0,2.7-1.6,4.4-4.3,4.4c-2,0-4.4-0.6-4.4-6.2\\n\\t\\t\\t\\t\\t\\tc0-3.2,0.7-6.5,4.5-6.5c3.4,0,4.3,2,4.3,5.4v1.3L226.1,10.6z M230,9V8.3c0-1.5-0.5-2.7-1.9-2.7c-1.6,0-2,1.5-2,3.1V9L230,9z\"/>\\n\\t\\t\\t\\t\\t<path class=\"st0\" d=\"M234.4,4.3h2.4v1.9h0c0.5-1.3,1.4-2.2,2.8-2.2c0.2,0,0.4,0,0.6,0.1v2.5c-0.3-0.1-0.7-0.1-1-0.1\\n\\t\\t\\t\\t\\t\\tc-1.1,0-2.4,0.5-2.4,2.7v7.3h-2.4L234.4,4.3z\"/>\\n\\t\\t\\t\\t\\t<path class=\"st0\" d=\"M249,11.4v0.4c0,2,0.9,2.9,2.6,2.9c1.6,0,2.4-1.1,2.4-2.3c0-1.7-0.9-2.4-2.3-2.9L250,9\\n\\t\\t\\t\\t\\t\\tc-2.3-0.9-3.4-2.1-3.4-4.4c0-2.9,2-4.5,5-4.5c4.1,0,4.5,2.6,4.5,4.2v0.4h-2.6V4.3c0-1.5-0.7-2.3-2.3-2.3c-1.1,0-2.2,0.6-2.2,2.3\\n\\t\\t\\t\\t\\t\\tc0,1.4,0.7,2.1,2.4,2.7l1.7,0.6c2.3,0.8,3.3,2,3.3,4.3c0,3.4-2.1,4.8-5.3,4.8c-4,0-4.9-2.7-4.9-4.9v-0.4H249z\"/>\\n\\t\\t\\t\\t\\t<path class=\"st0\" d=\"M266.7,12c-0.2,2.9-1.2,4.7-4.1,4.7c-3.5,0-4.5-2.6-4.5-6.4s1-6.4,4.5-6.4c3.6,0,4.2,2.8,4.2,4.3h-2.4\\n\\t\\t\\t\\t\\t\\tc0-1.1-0.3-2.6-1.7-2.5c-1.8,0-2.1,1.9-2.1,4.6s0.3,4.6,2.1,4.6c1.3,0,1.8-1.1,1.8-2.9L266.7,12z\"/>\\n\\t\\t\\t\\t\\t<path class=\"st0\" d=\"M268.7,0.1h2.4v2.4h-2.4V0.1z M268.7,4.3h2.4v12.1h-2.4V4.3z\"/>\\n\\t\\t\\t\\t\\t<path class=\"st0\" d=\"M275.6,10.6v0.7c0,1.6,0.2,3.7,2,3.7c1.7,0,1.9-2,1.9-2.7h2.3c0,2.7-1.6,4.4-4.3,4.4c-2,0-4.4-0.6-4.4-6.2\\n\\t\\t\\t\\t\\t\\tc0-3.2,0.7-6.5,4.5-6.5c3.4,0,4.3,2,4.3,5.4v1.3L275.6,10.6z M279.5,9V8.3c0-1.5-0.5-2.7-1.9-2.7c-1.6,0-2,1.5-2,3.1V9L279.5,9z\"/>\\n\\t\\t\\t\\t\\t<path class=\"st0\" d=\"M284,4.3h2.3v1.4h0.1c0.6-1.1,1.8-1.8,3.1-1.7c1.8,0,3,0.8,3,3.3v9.1H290V8.1c0-1.6-0.5-2.2-1.7-2.2\\n\\t\\t\\t\\t\\t\\tc-1,0-1.9,0.8-1.9,2.4v8.1H284L284,4.3z\"/>\\n\\t\\t\\t\\t\\t<path class=\"st0\" d=\"M303,12c-0.2,2.9-1.1,4.7-4.1,4.7c-3.5,0-4.5-2.6-4.5-6.4s1-6.4,4.5-6.4c3.6,0,4.2,2.8,4.2,4.3h-2.4\\n\\t\\t\\t\\t\\t\\tc0-1.1-0.3-2.6-1.7-2.5c-1.8,0-2.1,1.9-2.1,4.6s0.3,4.6,2.1,4.6c1.3,0,1.8-1.1,1.8-2.9L303,12z\"/>\\n\\t\\t\\t\\t\\t<path class=\"st0\" d=\"M306.9,10.6v0.7c0,1.6,0.2,3.7,2,3.7c1.7,0,1.9-2,1.9-2.7h2.3c0,2.7-1.6,4.4-4.3,4.4c-2,0-4.4-0.6-4.4-6.2\\n\\t\\t\\t\\t\\t\\tc0-3.2,0.7-6.5,4.5-6.5c3.4,0,4.3,2,4.3,5.4v1.3L306.9,10.6z M310.8,9V8.3c0-1.5-0.5-2.7-1.9-2.7c-1.6,0-2,1.5-2,3.1V9L310.8,9z\"/>\\n\\t\\t\\t\\t\\t<path class=\"st0\" d=\"M320.4,7.8V7.5c0-1-0.3-1.9-1.6-1.9c-1,0-1.7,0.4-1.7,1.6c0,0.9,0.4,1.3,1.7,1.8l1.6,0.5\\n\\t\\t\\t\\t\\t\\tc1.8,0.6,2.6,1.6,2.6,3.5c0,2.6-1.9,3.7-4.3,3.7c-3.1,0-4-1.4-4-3.8v-0.4h2.2v0.4c0,1.4,0.5,2.2,1.9,2.2c1.3,0,2-0.7,2-1.8\\n\\t\\t\\t\\t\\t\\tc0-0.9-0.5-1.5-1.3-1.8l-2-0.7c-1.8-0.6-2.6-1.6-2.6-3.5c0-2.3,1.6-3.3,4.1-3.3c3.1,0,3.8,1.8,3.8,3.3v0.5L320.4,7.8z\"/>\\n\\t\\t\\t\\t</g>\\n\\t\\t\\t\\t</svg>\\n        <span>Northeastern University</span>\\n\\t\\t\\t</div>\\n\\t\\t\\t<nav class=\"footer-nav\">\\n\\t\\t\\t\\t<ul id=\"menu-action\" class=\"menu menu-horizontal menu-action\"><li id=\"menu-item-412\" class=\"menu-item menu-item-type-post_type menu-item-object-page menu-item-has-children menu-item-412\"><a href=\"https://www.khoury.northeastern.edu/apply/\">Apply</a></li>\\n<li id=\"menu-item-411\" class=\"menu-item menu-item-type-post_type menu-item-object-page menu-item-411\"><a href=\"https://www.khoury.northeastern.edu/inquire/\">Inquire</a></li>\\n<li id=\"menu-item-410\" class=\"menu-item menu-item-type-post_type menu-item-object-page menu-item-410\"><a href=\"https://www.khoury.northeastern.edu/alumni-and-friends/give/\">Give</a></li>\\n</ul><ul id=\"menu-contact\" class=\"menu menu-horizontal\"><li class=\"menu-item menu-item-type-custom menu-item-object-custom menu-item-has-children menu-item-3010\"><a rel=\"nofollow\" href=\"#\">Contact &#8211; Parent</a>\\n<ul class=\"sub-menu\">\\n\\t<li class=\"menu-item menu-item-type-post_type menu-item-object-page menu-item-4598\"><a href=\"https://www.khoury.northeastern.edu/directions-and-parking/\">Directions &#038; Parking</a></li>\\n\\t<li class=\"menu-item menu-item-type-post_type menu-item-object-page menu-item-2530\"><a href=\"https://www.khoury.northeastern.edu/facilities/\">Facilities</a></li>\\n\\t<li class=\"menu-item menu-item-type-post_type menu-item-object-page menu-item-has-children menu-item-5831\"><a href=\"https://www.khoury.northeastern.edu/systems/\">Systems</a></li>\\n\\t<li class=\"menu-item menu-item-type-post_type menu-item-object-page menu-item-has-children menu-item-4627\"><a href=\"https://www.khoury.northeastern.edu/about/\">About</a></li>\\n\\t<li class=\"menu-item menu-item-type-custom menu-item-object-custom menu-item-6161\"><a href=\"https://www.ccis.northeastern.edu/events/\">Events</a></li>\\n\\t<li class=\"menu-item menu-item-type-post_type menu-item-object-page current_page_parent menu-item-4629\"><a href=\"https://www.khoury.northeastern.edu/news/\">News</a></li>\\n</ul>\\n</li>\\n</ul><ul id=\"menu-social\" class=\"menu menu-horizontal\"><li id=\"menu-item-379\" class=\"menu-item menu-item-type-custom menu-item-object-custom menu-item-379\"><a href=\"https://www.youtube.com/channel/UChz4r4VXwPxTqx083Am0IeQ\">Youtube</a></li>\\n<li id=\"menu-item-380\" class=\"menu-item menu-item-type-custom menu-item-object-custom menu-item-380\"><a href=\"http://www.twitter.com/khourycollege\">Twitter</a></li>\\n<li id=\"menu-item-381\" class=\"menu-item menu-item-type-custom menu-item-object-custom menu-item-381\"><a href=\"https://www.linkedin.com/groups/1943637\">LinkedIn</a></li>\\n<li id=\"menu-item-383\" class=\"menu-item menu-item-type-custom menu-item-object-custom menu-item-383\"><a href=\"http://www.instagram.com/khourycollege\">Instagram</a></li>\\n<li id=\"menu-item-382\" class=\"menu-item menu-item-type-custom menu-item-object-custom menu-item-382\"><a href=\"http://www.facebook.com/khourycollege\">Facebook</a></li>\\n</ul>\\t\\t\\t</nav>\\n\\t\\t</div><!-- / #menu-prefooter -->\\n\\t</div><!-- / .container -->\\n\\t<div id=\"menu-footer-area\">\\n\\t\\t<div class=\"container\">\\n\\t\\t\\t<div class=\"row\">\\n\\t\\t\\t\\t<div class=\"footer-logo\">\\n\\t\\t\\t\\t\\t<a href=\"http://www.northeastern.edu\" target=\"_blank\">\\n\\t\\t\\t\\t\\t<!-- northeastern wordmark only -->\\n\\t\\t\\t\\t\\t<svg version=\"1.1\" id=\"nu_logo\" xmlns=\"http://www.w3.org/2000/svg\" xmlns:xlink=\"http://www.w3.org/1999/xlink\" x=\"0px\" y=\"0px\"  viewBox=\"0 0 500 50\" style=\"enable-background:new 0 0 500 50;\" xml:space=\"preserve\">\\n\\t\\t\\t\\t\\t\\t<style type=\"text/css\"> .st2{fill:#FFFFFF;}</style>\\n\\t\\t\\t\\t\\t\\t<g class=\"st2\">\\n\\t\\t\\t\\t\\t\\t\\t<path d=\"M321.472,1.443v1.151c-5.079,0.367-5.079,3.037-5.079,7.328v9.788c0,4.554,0,6.805-1.36,9.318 c-1.833,3.348-5.968,5.967-12.196,5.967c-7.171,0-10.364-3.089-11.726-5.078c-1.727-2.565-1.727-4.973-1.727-10.835v-8.899 c0-7.014-0.052-7.59-4.658-7.59h-0.786V1.443h14.97v1.151c-5.181,0-5.338,0-5.338,7.486v9.159c0,4.973,0,7.747,1.308,9.945 c1.204,2.042,4.082,4.084,9.055,4.084c3.35,0,7.486-1.204,9.737-4.711c1.464-2.25,1.464-4.658,1.464-9.055V9.452 c0-4.188,0-6.491-5.285-6.858V1.443H321.472z\"/>\\n\\t\\t\\t\\t\\t\\t\\t<path d=\"M327.174,12.592c0.417,1.204,0.626,3.245,0.68,4.344c2.668-2.931,5.025-4.344,8.06-4.344 c4.816,0,6.543,3.349,6.543,6.856v7.747c0,5.705,0,6.018,3.454,6.018v1.152h-10.731v-1.152c3.613,0,3.613-0.313,3.613-6.018v-6.752 c0-4.763-1.675-6.282-4.24-6.282c-2.985,0-4.921,2.513-6.7,4.502v8.532c0,5.653,0,6.018,3.454,6.018v1.152h-10.573v-1.152 c3.454,0,3.454-0.313,3.454-6.018v-6.23c0-5.705,0-6.019-3.454-6.019v-1.152c2.146-0.314,4.868-0.838,5.757-1.204H327.174z\"/>\\n\\t\\t\\t\\t\\t\\t\\t<path d=\"M355.591,29.236c0,3.352,0.315,3.978,2.879,3.978h0.786v1.152h-11.149v-1.152h0.889 c2.67,0,3.193-0.418,3.193-3.978v-8.374c0-5.705-0.313-5.757-4.082-5.757v-1.152c1.57-0.052,4.764-0.732,6.962-1.36h0.523V29.236z\" />\\n\\t\\t\\t\\t\\t\\t\\t<circle cx=\"353.371\" cy=\"5.968\" r=\"2.261\"/>\\n\\t\\t\\t\\t\\t\\t\\t<path d=\"M371.136,35.204l-7.432-16.75c-1.362-3.036-1.884-3.769-3.821-3.874v-1.152h9.422v1.152 c-1.362,0-2.67,0-2.67,1.256c0,0.209,0.052,0.576,0.575,1.78l6.072,13.661l5.079-11.358c0.732-1.675,1.203-2.827,1.203-3.507 c0-1.57-1.623-1.781-2.565-1.833v-1.152h7.065v1.152c-2.198,0.157-3.035,2.094-4.658,5.653l-6.804,14.97H371.136z\"/>\\n\\t\\t\\t\\t\\t\\t\\t<path d=\"M388.669,21.438c-0.054,0.472-0.105,1.204-0.105,1.57c0,6.647,2.094,10.836,7.171,10.836 c2.931,0,5.287-1.309,6.752-4.189h1.204c-1.308,3.455-4.397,5.549-8.637,5.549c-5.863,0-10.731-4.397-10.731-11.149 c0-6.491,4.24-11.463,10.521-11.463c5.915,0,8.9,3.873,9.055,8.845H388.669z M388.775,20.392h11.201 c-0.054-2.461-0.734-6.648-5.235-6.648C390.606,13.743,389.036,17.512,388.775,20.392z\"/>\\n\\t\\t\\t\\t\\t\\t\\t<path d=\"M414.107,27.196c0,5.339,0,6.018,3.087,6.018h0.734v1.152H406.83v-1.152c3.612,0,3.612-0.208,3.612-6.018 v-5.915c0-5.811,0-6.019-3.612-6.019V14.11c2.355-0.314,5.077-1.152,5.915-1.414l0.367-0.104c0.261,0.837,0.734,2.513,0.734,5.495 c1.621-3.873,5.39-5.495,8.059-5.495c2.724,0,4.032,1.936,4.032,3.193c0,0.941-0.682,1.884-1.781,1.884 c-1.151,0-1.727-0.785-2.04-1.674c-0.211-0.576-0.628-1.57-1.833-1.57c-2.094,0-6.176,2.513-6.176,7.851V27.196z\"/>\\n\\t\\t\\t\\t\\t\\t\\t<path d=\"M427.871,28.138h0.993c0.524,2.513,2.355,5.914,7.173,5.914c4.344,0,4.868-2.668,4.868-3.715 c0-2.565-2.722-3.769-6.02-4.973c-4.816-1.779-6.962-3.297-6.962-6.962c0-2.668,1.99-5.809,6.7-5.809 c2.459,0,4.24,0.994,5.444,2.198c0.417-0.471,0.941-1.727,0.993-1.833h0.943v6.491h-0.943c-0.471-2.407-2.565-5.705-6.28-5.705 c-3.404,0-4.555,1.675-4.555,3.194c0,2.46,1.988,3.349,5.811,4.71c4.186,1.467,7.379,3.194,7.379,7.381 c0,3.56-2.565,6.176-7.327,6.176c-3.089,0-4.921-1.204-6.124-2.356c-0.524,0.577-0.995,1.675-1.1,2.147h-0.993V28.138z\"/>\\n\\t\\t\\t\\t\\t\\t\\t<path d=\"M454.25,29.236c0,3.352,0.313,3.978,2.878,3.978h0.786v1.152h-11.149v-1.152h0.889 c2.67,0,3.194-0.418,3.194-3.978v-8.374c0-5.705-0.315-5.757-4.084-5.757v-1.152c1.57-0.052,4.764-0.732,6.962-1.36h0.524V29.236z\" />\\n\\t\\t\\t\\t\\t\\t\\t<circle cx=\"452.055\" cy=\"5.968\" r=\"2.261\"/>\\n\\t\\t\\t\\t\\t\\t\\t<path d=\"M466.601,14.581v12.667c0,2.879,0,6.178,3.141,6.178c1.779,0,2.722-1.415,3.193-2.095l0.786,0.472 c-1.623,3.402-4.973,3.402-5.34,3.402c-1.464,0-2.616-0.315-3.454-0.994c-1.362-1.048-1.988-2.984-1.988-6.072V14.581H459.9v-1.152 c2.303-0.105,5.077-1.622,5.863-6.543h0.837v6.543h6.333v1.152H466.601z\"/>\\n\\t\\t\\t\\t\\t\\t\\t<path d=\"M493.765,17.983c0.365-0.838,0.732-1.622,0.732-2.041c0-1.099-1.884-1.361-2.826-1.361v-1.152H499v1.152 c-2.618,0.157-3.142,1.466-4.449,4.606l-9.319,22.508c-1.362,3.245-2.616,5.548-4.658,5.548c-0.838,0-1.621-0.524-1.621-1.518 c0-1.727,1.727-2.513,2.668-2.931c1.781-0.786,2.357-1.099,3.089-2.931l1.988-4.973l-7.851-16.854 c-1.204-2.565-1.621-3.403-4.082-3.455v-1.152h9.63v1.152c-1.308,0.105-2.565,0.157-2.565,1.047c0,0.419,0.628,1.728,0.995,2.565 l5.757,12.248L493.765,17.983z\"/>\\n\\t\\t\\t\\t\\t\\t\\t<path d=\"M7.857,4.245v23.449c0,3.455,0.732,5.392,6.071,5.549v1.151H1v-1.151c5.705-0.261,5.601-2.616,5.601-5.549 V9.741c0-6.648-0.366-7.119-5.129-7.119V1.472h9.421l19.629,26.066V7.595c0-2.775-0.366-4.921-5.915-4.973V1.472h12.562v1.151 c-5.077,0.471-5.391,2.251-5.391,5.338v27.218h-0.732L7.857,4.245z\"/>\\n\\t\\t\\t\\t\\t\\t\\t<path d=\"M47.843,12.62c6.176,0,11.202,4.658,11.202,11.306c0,7.432-5.6,11.305-11.202,11.305 c-5.391,0-11.148-3.611-11.148-11.358C36.695,17.383,41.615,12.62,47.843,12.62z M47.843,33.976c4.816,0,6.962-3.297,6.962-9.892 c0-5.654-1.518-10.208-6.962-10.208c-5.286,0-6.909,4.45-6.909,10.155C40.934,30.73,43.081,33.976,47.843,33.976z\"/>\\n\\t\\t\\t\\t\\t\\t\\t<path d=\"M68.36,27.223c0,5.338,0,6.019,3.088,6.019h0.732v1.151H61.084v-1.151c3.612,0,3.612-0.209,3.612-6.019v-5.915 c0-5.81,0-6.019-3.612-6.019v-1.152c2.356-0.314,5.078-1.152,5.915-1.413l0.366-0.105c0.262,0.837,0.733,2.512,0.733,5.495 c1.623-3.873,5.391-5.495,8.061-5.495c2.721,0,4.03,1.936,4.03,3.193c0,0.942-0.68,1.884-1.779,1.884 c-1.152,0-1.727-0.785-2.042-1.674c-0.209-0.575-0.628-1.57-1.832-1.57c-2.094,0-6.176,2.513-6.176,7.851V27.223z\"/>\\n\\t\\t\\t\\t\\t\\t\\t<path d=\"M88.668,14.609v12.667c0,2.879,0,6.176,3.14,6.176c1.779,0,2.722-1.414,3.192-2.094l0.786,0.471 c-1.622,3.402-4.973,3.402-5.338,3.402c-1.466,0-2.618-0.315-3.455-0.994c-1.361-1.046-1.989-2.984-1.989-6.072V14.609h-3.036 v-1.152c2.303-0.104,5.077-1.621,5.862-6.543h0.838v6.543H95v1.152H88.668z\"/>\\n\\t\\t\\t\\t\\t\\t\\t<path d=\"M119.548,27.223c0,5.758,0,6.019,3.558,6.019v1.151h-10.834v-1.151c3.611,0,3.611-0.261,3.611-6.019v-6.752 c0-4.869-1.465-6.281-4.554-6.281c-2.408,0-4.71,2.46-6.385,4.606v8.426c0,5.6,0,6.019,3.298,6.019v1.151H97.617v-1.151 c3.664,0,3.664-0.209,3.664-6.019V8.118c0-3.664,0-4.868-3.454-4.868V2.1c2.145,0,5.025-0.472,6.699-1.1h0.366v15.964 c2.617-2.774,4.92-4.344,7.642-4.344c4.658,0,7.014,2.46,7.014,7.223V27.223z\"/>\\n\\t\\t\\t\\t\\t\\t\\t<path d=\"M128.287,21.465c-0.053,0.472-0.105,1.205-0.105,1.57c0,6.648,2.094,10.835,7.171,10.835 c2.931,0,5.287-1.309,6.753-4.188h1.203c-1.308,3.454-4.396,5.548-8.635,5.548c-5.863,0-10.731-4.397-10.731-11.148 c0-6.491,4.24-11.463,10.521-11.463c5.914,0,8.899,3.873,9.055,8.845H128.287z M128.392,20.418h11.2 c-0.052-2.46-0.732-6.647-5.234-6.647C130.224,13.772,128.654,17.54,128.392,20.418z\"/>\\n\\t\\t\\t\\t\\t\\t\\t<path d=\"M167.367,30.573c-0.42,2.457-1.491,2.606-2.118,2.606c-1.623,0-1.651-1.15-1.651-4.752v-8.479 c0-3.089-0.399-7.328-7.623-7.328c-5.234,0-8.427,2.669-8.427,4.763c0,0.942,0.576,1.518,1.413,1.518 c1.361,0,1.885-0.995,2.199-2.146c0.365-1.414,1.151-2.983,4.501-2.983c3.925,0,4.396,2.513,4.396,5.6v1.308l-3.978,1.362 c-7.38,2.513-9.63,5.443-9.63,8.427c0,2.983,2.354,4.447,5.391,4.447c2.51,0,5.128-1.045,8.217-3.663 c0.262,1.256,0.942,3.663,4.011,3.663c2.879,0,4.136-1.987,4.24-4.343H167.367z M160.057,30.089 c-2.107,1.822-4.954,3.271-6.89,3.271c-2.221,0-3.302-1.609-3.302-3.54c0-2.895,2.733-5.523,7.174-6.971l3.018-0.963V30.089z\"/>\\n\\t\\t\\t\\t\\t\\t\\t<path d=\"M170.439,28.165h0.994c0.523,2.513,2.355,5.914,7.171,5.914c4.345,0,4.867-2.668,4.867-3.715 c0-2.565-2.721-3.768-6.019-4.972c-4.815-1.779-6.962-3.297-6.962-6.962c0-2.668,1.99-5.809,6.7-5.809 c2.46,0,4.24,0.994,5.443,2.199c0.42-0.472,0.943-1.728,0.995-1.833h0.941v6.49h-0.941c-0.471-2.407-2.566-5.705-6.281-5.705 c-3.402,0-4.553,1.675-4.553,3.193c0,2.46,1.989,3.349,5.81,4.71c4.187,1.466,7.38,3.194,7.38,7.381c0,3.559-2.566,6.175-7.33,6.175 c-3.088,0-4.919-1.204-6.123-2.356c-0.523,0.577-0.993,1.675-1.098,2.147h-0.994V28.165z\"/>\\n\\t\\t\\t\\t\\t\\t\\t<path d=\"M195.561,14.609v12.667c0,2.879,0,6.176,3.141,6.176c1.779,0,2.72-1.414,3.193-2.094l0.786,0.471 c-1.623,3.402-4.973,3.402-5.34,3.402c-1.466,0-2.616-0.315-3.454-0.994c-1.362-1.046-1.99-2.984-1.99-6.072V14.609h-3.035v-1.152 c2.303-0.104,5.077-1.621,5.863-6.543h0.837v6.543h6.334v1.152H195.561z\"/>\\n\\t\\t\\t\\t\\t\\t\\t<path d=\"M208.226,21.465c-0.052,0.472-0.105,1.205-0.105,1.57c0,6.648,2.094,10.835,7.173,10.835 c2.93,0,5.285-1.309,6.751-4.188h1.204c-1.308,3.454-4.397,5.548-8.637,5.548c-5.861,0-10.731-4.397-10.731-11.148 c0-6.491,4.24-11.463,10.521-11.463c5.915,0,8.898,3.873,9.055,8.845H208.226z M208.332,20.418h11.201 c-0.054-2.46-0.734-6.647-5.235-6.647C210.163,13.772,208.593,17.54,208.332,20.418z\"/>\\n\\t\\t\\t\\t\\t\\t\\t<path d=\"M233.034,27.223c0,5.338,0,6.019,3.089,6.019h0.734v1.151h-11.097v-1.151c3.613,0,3.613-0.209,3.613-6.019 v-5.915c0-5.81,0-6.019-3.613-6.019v-1.152c2.355-0.314,5.077-1.152,5.915-1.413l0.367-0.105c0.261,0.837,0.732,2.512,0.732,5.495 c1.623-3.873,5.39-5.495,8.06-5.495c2.722,0,4.03,1.936,4.03,3.193c0,0.942-0.678,1.884-1.779,1.884 c-1.151,0-1.727-0.785-2.04-1.674c-0.211-0.575-0.63-1.57-1.834-1.57c-2.092,0-6.176,2.513-6.176,7.851V27.223z\"/>\\n\\t\\t\\t\\t\\t\\t\\t<path d=\"M253.133,12.62c0.417,1.204,0.628,3.245,0.68,4.344c2.668-2.931,5.024-4.344,8.06-4.344 c4.814,0,6.543,3.349,6.543,6.856v7.747c0,5.706,0,6.019,3.454,6.019v1.151H261.14v-1.151c3.611,0,3.611-0.313,3.611-6.019v-6.752 c0-4.763-1.675-6.281-4.238-6.281c-2.985,0-4.921,2.513-6.7,4.501v8.532c0,5.652,0,6.019,3.454,6.019v1.151h-10.573v-1.151 c3.454,0,3.454-0.313,3.454-6.019v-6.229c0-5.705,0-6.019-3.454-6.019v-1.152c2.147-0.314,4.868-0.838,5.757-1.204H253.133z\"/>\\n\\t\\t\\t\\t\\t\\t</g>\\n\\t\\t\\t\\t\\t</svg>\\n\\n\\t\\t\\t\\t\\t<span>Khoury College of Computer and Information Sciences</span>\\n\\t\\t\\t\\t\\t</a>\\n\\t\\t\\t\\t</div><!-- / .footer-logo -->\\n\\t\\t\\t\\t<div class=\"footer-nav\">\\n\\t\\t\\t\\t\\t<nav id=\"menu-footer\" class=\"menu-links-menu-container\"><ul id=\"menu-links-menu\" class=\"menu menu-horizontal\"><li id=\"menu-item-377\" class=\"menu-item menu-item-type-custom menu-item-object-custom menu-item-377\"><a href=\"http://my.northeastern.edu/\">myNortheastern</a></li>\\n<li id=\"menu-item-2809\" class=\"menu-item menu-item-type-custom menu-item-object-custom menu-item-2809\"><a href=\"https://prod-web.neu.edu/wasapp/employeelookup/public/main.action#_ga=1.152250297.1229401008.1453998512\">Find Faculty &#038; Staff</a></li>\\n<li id=\"menu-item-2810\" class=\"menu-item menu-item-type-custom menu-item-object-custom menu-item-2810\"><a href=\"http://www.northeastern.edu/neuhome/adminlinks/findaz.html\">Find A-Z</a></li>\\n<li id=\"menu-item-2811\" class=\"menu-item menu-item-type-custom menu-item-object-custom menu-item-2811\"><a href=\"http://www.northeastern.edu/emergency/index.html\">Emergency Information</a></li>\\n<li id=\"menu-item-11292\" class=\"menu-item menu-item-type-custom menu-item-object-custom menu-item-11292\"><a href=\"https://www.northeastern.edu/privacy-information/\">Privacy</a></li>\\n<li id=\"menu-item-378\" class=\"menu-item menu-item-type-custom menu-item-object-custom menu-item-378\"><a href=\"http://www.northeastern.edu/search/index.html\">Search</a></li>\\n</ul></nav>\\t\\t\\t\\t\\t<div class=\"copy\">\\n\\t\\t\\t\\t\\t\\t\\t\\t\\t\\t\\t<address><p>\\n\\t\\t\\t\\t\\t\\t\\t360 Huntington Ave. Boston, Massachusetts 02115\\t\\t\\t\\t\\t\\t\\t<a class=\"tel\" href=\"tel:6173732000\">617.373.2000</a>\\n\\t\\t\\t\\t\\t\\t\\t<a class=\"tel\" href=\"tel:6173733768\">TTY: 617.373.3768</a>\\n\\t\\t\\t\\t\\t\\t</p></address>\\n\\t\\t\\t\\t\\t\\t<p>\\xc2\\xa9 2019 Northeastern University\\t\\t\\t\\t\\t\\t\\t\\t\\t\\t</div><!-- / .copy -->\\n\\t\\t\\t\\t</div><!-- / .footer-nav -->\\n\\t\\t\\t</div><!-- / .row -->\\n\\t\\t</div><!-- / .container -->\\n\\t</div><!-- / #menu-footer -->\\n</footer>\\n<!-- as purely supplemental info, flyout is at the end. -->\\n<aside id=\"flyout\">\\n\\n\\t<h2 class=\"flyout-label\">Look<br />\\r\\nInside:<br />\\r\\nPeople</h2>\\n\\t<div class=\"flyout-content\">\\n\\n\\t\\t<h3 class=\"flyout-title\">People</h3>\\n\\t\\t<div class=\"main-content\">\\n\\t\\t\\t<h2>Scaling to meet growing demands</h2>\\n<p>The rise of computer science begets the need for more\\xe2\\x80\\x94and more diverse\\xe2\\x80\\x94expertise. Khoury College answers the call with highly talented faculty and dedicated advisors, coordinators, and staff.</p>\\n\\t\\t</div>\\n\\n\\t\\t\\t<div class=\"row\">\\n\\t\\t\\t<div class=\"stripe-stat\">\\n\\t\\t\\t\\t<div class=\"stat-item\"><h4>65%</h4><p>increase in tenure-track faculty over the past five years</p>\\n</div><div class=\"stat-item\"><h4>27%</h4><p>of current tenure-track faculty are interdisciplinary with other colleges</p>\\n</div>\\t\\t\\t</div>\\n\\t\\t</div>\\n\\t\\t\\t<div class=\"row\">\\n\\t\\t\\t<div class=\"stripe-image\">\\n\\t\\t\\t\\t<img src=\"https://www.khoury.northeastern.edu/wp-content/uploads/2018/11/CCIS_interdisciplinary_faculty_2018.png\" alt=\"\" />\\t\\t\\t</div>\\n\\t\\t</div>\\n\\t\\t\\t<div class=\"row\">\\n\\t\\t\\t<div class=\"stripe-text\">\\n\\t\\t\\t\\t<p>\\xe2\\x80\\x9cI joined CCIS to be at a place on the rise. There is an enormous opportunity for collaboration with highly motivated, smart faculty looking to do interesting, relevant work\\xe2\\x80\\x94and not caring about individual credit or traditional boundaries. We all want to be part of making something great.\\xe2\\x80\\x9d<br />\\n<em>-David Choffnes, Assistant Professor</em></p>\\n\\t\\t\\t</div>\\n\\t\\t</div>\\n\\t\\n\\t</div>\\n</aside>\\n\\t<script type=\"text/javascript\">\\n\\t_linkedin_data_partner_id = \"8239\";\\n\\t</script><script type=\"text/javascript\">\\n\\t(function(){var s = document.getElementsByTagName(\"script\")[0];\\n\\tvar b = document.createElement(\"script\");\\n\\tb.type = \"text/javascript\";b.async = true;\\n\\tb.src = \"https://snap.licdn.com/li.lms-analytics/insight.min.js\";\\n\\ts.parentNode.insertBefore(b, s);})();\\n\\t</script>\\n\\t<noscript>\\n\\t\\t<img height=\"1\" width=\"1\" style=\"display:none;\" alt=\"\" src=\"https://dc.ads.linkedin.com/collect/?pid=8239&fmt=gif\" />\\n\\t</noscript>\\n\\t\\t\\t<script>\\n\\t\\t( function ( body ) {\\n\\t\\t\\t\\'use strict\\';\\n\\t\\t\\tbody.className = body.className.replace( /\\\\btribe-no-js\\\\b/, \\'tribe-js\\' );\\n\\t\\t} )( document.body );\\n\\t\\t</script>\\n\\t\\t<script> /* <![CDATA[ */var tribe_l10n_datatables = {\"aria\":{\"sort_ascending\":\": activate to sort column ascending\",\"sort_descending\":\": activate to sort column descending\"},\"length_menu\":\"Show _MENU_ entries\",\"empty_table\":\"No data available in table\",\"info\":\"Showing _START_ to _END_ of _TOTAL_ entries\",\"info_empty\":\"Showing 0 to 0 of 0 entries\",\"info_filtered\":\"(filtered from _MAX_ total entries)\",\"zero_records\":\"No matching records found\",\"search\":\"Search:\",\"all_selected_text\":\"All items on this page were selected. \",\"select_all_link\":\"Select all pages\",\"clear_selection\":\"Clear Selection.\",\"pagination\":{\"all\":\"All\",\"next\":\"Next\",\"previous\":\"Previous\"},\"select\":{\"rows\":{\"0\":\"\",\"_\":\": Selected %d rows\",\"1\":\": Selected 1 row\"}},\"datepicker\":{\"dayNames\":[\"Sunday\",\"Monday\",\"Tuesday\",\"Wednesday\",\"Thursday\",\"Friday\",\"Saturday\"],\"dayNamesShort\":[\"Sun\",\"Mon\",\"Tue\",\"Wed\",\"Thu\",\"Fri\",\"Sat\"],\"dayNamesMin\":[\"S\",\"M\",\"T\",\"W\",\"T\",\"F\",\"S\"],\"monthNames\":[\"January\",\"February\",\"March\",\"April\",\"May\",\"June\",\"July\",\"August\",\"September\",\"October\",\"November\",\"December\"],\"monthNamesShort\":[\"January\",\"February\",\"March\",\"April\",\"May\",\"June\",\"July\",\"August\",\"September\",\"October\",\"November\",\"December\"],\"monthNamesMin\":[\"Jan\",\"Feb\",\"Mar\",\"Apr\",\"May\",\"Jun\",\"Jul\",\"Aug\",\"Sep\",\"Oct\",\"Nov\",\"Dec\"],\"nextText\":\"Next\",\"prevText\":\"Prev\",\"currentText\":\"Today\",\"closeText\":\"Done\",\"today\":\"Today\",\"clear\":\"Clear\"}};/* ]]> */ </script><script type=\\'text/javascript\\' src=\\'https://www.khoury.northeastern.edu/wp-content/plugins/the-events-calendar/common/src/resources/js/tribe-common.min.js?ver=4.9.16\\'></script>\\n<script type=\\'text/javascript\\' src=\\'https://www.khoury.northeastern.edu/wp-content/plugins/the-events-calendar/common/src/resources/js/tooltip.min.js?ver=4.9.16\\'></script>\\n<script type=\\'text/javascript\\' src=\\'https://www.khoury.northeastern.edu/wp-content/themes/ccis_theme/prod/prod.js?ver=5.2.4\\'></script>\\n<script type=\\'text/javascript\\' src=\\'https://www.khoury.northeastern.edu/wp-includes/js/wp-embed.min.js?ver=5.2.4\\'></script>\\n</body>\\n</html>\\n'\n"
     ]
    }
   ],
   "source": [
    "import urllib.request as urllib\n",
    "html = urllib.urlopen(\"https://www.khoury.northeastern.edu/role/tenured-and-tenure-track-faculty/\")\n",
    "print(html.read())"
   ]
  },
  {
   "cell_type": "markdown",
   "metadata": {
    "slideshow": {
     "slide_type": "skip"
    }
   },
   "source": [
    "<a id=\"2\"></a>"
   ]
  },
  {
   "cell_type": "markdown",
   "metadata": {
    "slideshow": {
     "slide_type": "slide"
    }
   },
   "source": [
    "## 2. Web Scraping using BeautifulSoup\n",
    "* A common web scraping library\n",
    "* Helps format and organize the messy web by fixing bad HTML and presenting us with easily-traversible Python objects\n",
    "* Need to install the library before you can use it in Python\n",
    "    * pip install beautifulsoup4 (run this in Anaconda prompt)\n",
    "    * Full documentation available at https://www.crummy.com/software/BeautifulSoup/bs4/doc/"
   ]
  },
  {
   "cell_type": "code",
   "execution_count": 4,
   "metadata": {
    "slideshow": {
     "slide_type": "-"
    }
   },
   "outputs": [],
   "source": [
    "#imports the BeautifulSoup object in bs4 library\n",
    "from bs4 import BeautifulSoup"
   ]
  },
  {
   "cell_type": "code",
   "execution_count": 5,
   "metadata": {
    "slideshow": {
     "slide_type": "subslide"
    }
   },
   "outputs": [],
   "source": [
    "import urllib.request as urllib\n",
    "from bs4 import BeautifulSoup\n",
    "\n",
    "html = urllib.urlopen(\"https://www.khoury.northeastern.edu/role/tenured-and-tenure-track-faculty/\")\n",
    "soup = BeautifulSoup(html.read())"
   ]
  },
  {
   "cell_type": "markdown",
   "metadata": {
    "slideshow": {
     "slide_type": "-"
    }
   },
   "source": [
    "### soup = BeautifulSoup(htm.read())\n",
    "* Transforms the HTML content into a BeautifulSoup object, called soup\n",
    "* The BeautifulSoup object retains the general structure of a web page:\n",
    "    * `<html></html>`\n",
    "    * `<head></head>`\n",
    "    * `<body></body>`"
   ]
  },
  {
   "cell_type": "code",
   "execution_count": 6,
   "metadata": {
    "slideshow": {
     "slide_type": "subslide"
    }
   },
   "outputs": [
    {
     "data": {
      "text/plain": [
       "<html class=\"no-js\" lang=\"en\"><!--<![endif]-->\n",
       "<head>\n",
       "<meta content=\"IE=edge\" http-equiv=\"X-UA-Compatible\"/>\n",
       "<meta content=\"width=device-width, initial-scale=1\" name=\"viewport\"/>\n",
       "<script src=\"https://www.khoury.northeastern.edu/wp-content/themes/ccis_theme/lib/modernizr.min.js\"></script>\n",
       "<link href=\"https://www.khoury.northeastern.edu/wp-content/themes/ccis_theme/img/favicon.ico\" rel=\"shortcut icon\" type=\"image/x-icon\"/>\n",
       "<meta content=\"NU Khoury\" name=\"apple-mobile-web-app-title\"/>\n",
       "<link href=\"https://www.khoury.northeastern.edu/wp-content/themes/ccis_theme/img/touchicon.png\" rel=\"apple-touch-icon\"/>\n",
       "<link href=\"https://www.khoury.northeastern.edu/wp-content/themes/ccis_theme/img/touchicon.png\" rel=\"apple-touch-icon-precomposed\"/>\n",
       "<link href=\"https://www.khoury.northeastern.edu/wp-content/themes/ccis_theme/img/touchicon-180.png\" rel=\"apple-touch-icon\" sizes=\"180x180\"/>\n",
       "<link href=\"https://fast.fonts.com/cssapi/cac43e8c-6965-44df-b8ca-9784607a3b53.css\" rel=\"stylesheet\" type=\"text/css\"/>\n",
       "<link href=\"https://www.khoury.northeastern.edu/wp-content/themes/ccis_theme/prod/prod.min.css\" media=\"all\" rel=\"stylesheet\" type=\"text/css\"/>\n",
       "<link href=\"https://www.khoury.northeastern.edu/wp-content/themes/ccis_theme/lib/ccis.css\" media=\"all\" rel=\"stylesheet\" type=\"text/css\"/>\n",
       "<!-- NU Google Tag Manager -->\n",
       "<script>(function(w,d,s,l,i){w[l]=w[l]||[];w[l].push({'gtm.start':\n",
       "new Date().getTime(),event:'gtm.js'});var f=d.getElementsByTagName(s)[0],\n",
       "j=d.createElement(s),dl=l!='dataLayer'?'&l='+l:'';j.async=true;j.src=\n",
       "'https://www.googletagmanager.com/gtm.js?id='+i+dl;f.parentNode.insertBefore(j,f);\n",
       "})(window,document,'script','dataLayer','GTM-WGQLLJ');</script>\n",
       "<!-- End Google Tag Manager -->\n",
       "<!-- Khoury Google Tag Manager -->\n",
       "<script>(function(w,d,s,l,i){w[l]=w[l]||[];w[l].push({'gtm.start':\n",
       "new Date().getTime(),event:'gtm.js'});var f=d.getElementsByTagName(s)[0],\n",
       "j=d.createElement(s),dl=l!='dataLayer'?'&l='+l:'';j.async=true;j.src=\n",
       "'https://www.googletagmanager.com/gtm.js?id='+i+dl;f.parentNode.insertBefore(j,f);\n",
       "})(window,document,'script','dataLayer','GTM-KN6KMJB');</script>\n",
       "<!-- End Google Tag Manager -->\n",
       "<!-- Google CSE code -->\n",
       "<script>\n",
       "(function() {\n",
       "var cx = '004538069614616277034:sltf9o73gg0';\n",
       "var gcse = document.createElement('script');\n",
       "gcse.type = 'text/javascript';\n",
       "gcse.async = true;\n",
       "gcse.src = 'https://cse.google.com/cse.js?cx=' + cx;\n",
       "var s = document.getElementsByTagName('script')[0];\n",
       "s.parentNode.insertBefore(gcse, s);\n",
       "})();\n",
       "</script>\n",
       "<script src=\"https://www.khoury.northeastern.edu/wp-content/themes/ccis_theme/lib/google-cse.js\" type=\"text/javascript\"></script>\n",
       "<!-- begin wp_head -->\n",
       "<title>Tenured and Tenure Track Faculty | Khoury College of Computer Sciences</title>\n",
       "<!-- All in One SEO Pack 3.2.10 by Michael Torbert of Semper Fi Web Design[2787,2870] -->\n",
       "<link href=\"https://www.khoury.northeastern.edu/role/tenured-and-tenure-track-faculty/page/2/\" rel=\"next\"/>\n",
       "<script class=\"aioseop-schema\" type=\"application/ld+json\">{}</script>\n",
       "<link href=\"https://www.khoury.northeastern.edu/role/tenured-and-tenure-track-faculty/\" rel=\"canonical\"/>\n",
       "<!-- All in One SEO Pack -->\n",
       "<link href=\"//s.w.org\" rel=\"dns-prefetch\"/>\n",
       "<link href=\"https://www.khoury.northeastern.edu/wp-content/plugins/the-events-calendar/common/src/resources/css/reset.min.css?ver=4.9.16\" id=\"tribe-reset-style-css\" media=\"all\" rel=\"stylesheet\" type=\"text/css\"/>\n",
       "<link href=\"https://www.khoury.northeastern.edu/wp-content/plugins/the-events-calendar/common/src/resources/css/common.min.css?ver=4.9.16\" id=\"tribe-common-style-css\" media=\"all\" rel=\"stylesheet\" type=\"text/css\"/>\n",
       "<link href=\"https://www.khoury.northeastern.edu/wp-content/plugins/the-events-calendar/common/src/resources/css/tooltip.min.css?ver=4.9.16\" id=\"tribe-tooltip-css-css\" media=\"all\" rel=\"stylesheet\" type=\"text/css\"/>\n",
       "<link href=\"https://www.khoury.northeastern.edu/wp-includes/css/dist/block-library/style.min.css?ver=5.2.4\" id=\"wp-block-library-css\" media=\"all\" rel=\"stylesheet\" type=\"text/css\"/>\n",
       "<script src=\"https://www.khoury.northeastern.edu/wp-includes/js/jquery/jquery.js?ver=1.12.4-wp\" type=\"text/javascript\"></script>\n",
       "<script src=\"https://www.khoury.northeastern.edu/wp-includes/js/jquery/jquery-migrate.min.js?ver=1.4.1\" type=\"text/javascript\"></script>\n",
       "<link href=\"https://www.khoury.northeastern.edu/wp-json/\" rel=\"https://api.w.org/\"/>\n",
       "<link href=\"https://www.khoury.northeastern.edu/xmlrpc.php?rsd\" rel=\"EditURI\" title=\"RSD\" type=\"application/rsd+xml\"/>\n",
       "<link href=\"https://www.khoury.northeastern.edu/wp-includes/wlwmanifest.xml\" rel=\"wlwmanifest\" type=\"application/wlwmanifest+xml\"/>\n",
       "<meta content=\"WordPress 5.2.4\" name=\"generator\"/>\n",
       "<meta content=\"v1\" name=\"tec-api-version\"/><meta content=\"https://www.khoury.northeastern.edu\" name=\"tec-api-origin\"/><link href=\"https://www.khoury.northeastern.edu/wp-json/tribe/events/v1/\" rel=\"https://theeventscalendar.com/\"/><!-- end wp_head -->\n",
       "</head>\n",
       "<body class=\"archive tax-role term-tenured-and-tenure-track-faculty term-23 tribe-no-js\">\n",
       "<!-- NU Google Tag Manager (noscript) -->\n",
       "<noscript><iframe height=\"0\" src=\"https://www.googletagmanager.com/ns.html?id=GTM-WGQLLJ\" style=\"display:none;visibility:hidden\" width=\"0\"></iframe></noscript>\n",
       "<!-- End Google Tag Manager (noscript) -->\n",
       "<!-- Khoury Google Tag Manager (noscript) -->\n",
       "<noscript><iframe height=\"0\" src=\"https://www.googletagmanager.com/ns.html?id=GTM-KN6KMJB\" style=\"display:none;visibility:hidden\" width=\"0\"></iframe></noscript>\n",
       "<!-- End Google Tag Manager (noscript) --> <a class=\"sr-only\" href=\"#main-content\" id=\"top\">Skip to main content</a>\n",
       "<header id=\"site-header\" role=\"banner\">\n",
       "<div id=\"contact-region\">\n",
       "<div class=\"container\">\n",
       "<div class=\"contact-contents expanded\">\n",
       "<div class=\"contact-col\">\n",
       "<h4>Main</h4>\n",
       "<a href=\"mailto:khoury@northeastern.edu\">khoury@northeastern.edu</a>\n",
       "<a href=\"tel:6173732462\">617.373.2462</a>\n",
       "<a href=\"http://www.northeastern.edu/nupd/campus-safety/\">Campus Safety</a>\n",
       "<a href=\"https://www.northeastern.edu/campusmap/map/index.html\">Campus Map</a> </div>\n",
       "<div class=\"contact-col\">\n",
       "<h4>Undergraduate</h4>\n",
       "<a href=\"tel:6173736519\">617.373.6519</a>\n",
       "<a href=\"mailto:admissions@northeastern.edu\">admissions@northeastern.edu</a>\n",
       "<a href=\"mailto:khoury-advising@northeastern.edu\">khoury-advising@northeastern.edu</a> </div>\n",
       "<div class=\"contact-col\">\n",
       "<h4>Graduate</h4>\n",
       "<a href=\"tel:6173738613\">617.373.5545</a>\n",
       "<a href=\"mailto:khoury-gradschool@northeastern.edu\">khoury-gradschool@northeastern.edu</a> </div>\n",
       "<nav class=\"contact-col\" id=\"menu-contact-header\">\n",
       "<ul class=\"menu menu-contact menu-vertical\" id=\"menu-contact-menu\"><li class=\"menu-item menu-item-type-custom menu-item-object-custom menu-item-has-children menu-item-3010\" id=\"menu-item-3010\"><a href=\"#\" rel=\"nofollow\">Contact – Parent</a>\n",
       "<ul class=\"sub-menu\">\n",
       "<li class=\"menu-item menu-item-type-post_type menu-item-object-page menu-item-4598\" id=\"menu-item-4598\"><a href=\"https://www.khoury.northeastern.edu/directions-and-parking/\">Directions &amp; Parking</a></li>\n",
       "<li class=\"menu-item menu-item-type-post_type menu-item-object-page menu-item-2530\" id=\"menu-item-2530\"><a href=\"https://www.khoury.northeastern.edu/facilities/\">Facilities</a></li>\n",
       "<li class=\"menu-item menu-item-type-post_type menu-item-object-page menu-item-has-children menu-item-5831\" id=\"menu-item-5831\"><a href=\"https://www.khoury.northeastern.edu/systems/\">Systems</a></li>\n",
       "<li class=\"menu-item menu-item-type-post_type menu-item-object-page menu-item-has-children menu-item-4627\" id=\"menu-item-4627\"><a href=\"https://www.khoury.northeastern.edu/about/\">About</a></li>\n",
       "<li class=\"menu-item menu-item-type-custom menu-item-object-custom menu-item-6161\" id=\"menu-item-6161\"><a href=\"https://www.ccis.northeastern.edu/events/\">Events</a></li>\n",
       "<li class=\"menu-item menu-item-type-post_type menu-item-object-page current_page_parent menu-item-4629\" id=\"menu-item-4629\"><a href=\"https://www.khoury.northeastern.edu/news/\">News</a></li>\n",
       "</ul>\n",
       "</li>\n",
       "</ul> </nav>\n",
       "</div>\n",
       "</div>\n",
       "</div>\n",
       "<div class=\"container\">\n",
       "<div id=\"utilities-region\">\n",
       "<div id=\"utilities\">\n",
       "<nav id=\"menu-utility\">\n",
       "<ul class=\"menu menu-utility menu-horizontal\" id=\"menu-utility-menu\"><li class=\"menu-item menu-item-type-custom menu-item-object-custom menu-item-has-children menu-item-2766\" id=\"menu-item-2766\"><a href=\"#\" rel=\"nofollow\">Utility – Parent</a>\n",
       "<ul class=\"sub-menu\">\n",
       "<li class=\"menu-item menu-item-type-post_type menu-item-object-page menu-item-2294\" id=\"menu-item-2294\"><a href=\"https://www.khoury.northeastern.edu/open-positions/\">We’re hiring</a></li>\n",
       "<li class=\"menu-item menu-item-type-custom menu-item-object-custom menu-item-13723\" id=\"menu-item-13723\"><a href=\"https://www.khoury.northeastern.edu/current-students/\">Current Students</a></li>\n",
       "<li class=\"menu-item menu-item-type-post_type menu-item-object-page menu-item-403\" id=\"menu-item-403\"><a href=\"https://www.khoury.northeastern.edu/industry/\">Industry</a></li>\n",
       "<li class=\"menu-item menu-item-type-post_type menu-item-object-page menu-item-7849\" id=\"menu-item-7849\"><a href=\"https://www.khoury.northeastern.edu/diversity/\">Diversity</a></li>\n",
       "<li class=\"toggle menu-item menu-item-type-post_type menu-item-object-page menu-item-402\" id=\"menu-item-402\"><a href=\"https://www.khoury.northeastern.edu/contact/\">Contact</a></li>\n",
       "</ul>\n",
       "</li>\n",
       "</ul> </nav>\n",
       "<form id=\"searchform-q\" onsubmit=\"return submitQuery()\" role=\"search\">\n",
       "<label class=\"screen-reader-text\" for=\"q\"></label>\n",
       "<input id=\"q\" name=\"q\" placeholder=\"Search\" type=\"text\" value=\"\"/>\n",
       "<button id=\"searchsubmit\" type=\"submit\" value=\"Search\"></button>\n",
       "</form>\n",
       "<noscript>\n",
       "<form action=\"https://www.khoury.northeastern.edu/\" id=\"searchform\" method=\"get\" role=\"search\">\n",
       "<label class=\"screen-reader-text\" for=\"s\"></label>\n",
       "<input id=\"s\" name=\"s\" placeholder=\"Search\" type=\"text\" value=\"\"/>\n",
       "<button id=\"searchsubmit\" type=\"submit\" value=\"Search\"></button>\n",
       "</form>\n",
       "</noscript>\n",
       "</div>\n",
       "</div><!-- /#utilities-region -->\n",
       "<div id=\"branding-region\">\n",
       "<h1 id=\"site-logo\">\n",
       "<a href=\"https://www.khoury.northeastern.edu\">\n",
       "<span>Khoury College of Computer Sciences</span>\n",
       "<!-- main Khoury logo -->\n",
       "<img alt=\"college lockup\" src=\"/wp-content/uploads/2019/02/nu-khoury-lockup.png\"/>\n",
       "</a>\n",
       "</h1>\n",
       "</div><!-- /#branding-region -->\n",
       "<nav id=\"menu-primary\" role=\"navigation\">\n",
       "<!-- main nav here -->\n",
       "<ul class=\"menu menu-primary menu-horizontal\">\n",
       "<li class=\"bucket\">\n",
       "<a class=\"toggle\" href=\"#menu-academics\">Academics</a><div class=\"expanded\"><div class=\"menu-description\"><p><strong>Computer science for everyone</strong><br/>\n",
       "Now more than ever, computer science is everywhere. Our innovative, interdisciplinary programs deliver the knowledge and perspective you need to succeed in a highly demanding job market.</p>\n",
       "</div><ul class=\"submenu menu-vertical\" id=\"menu-academics\"><li class=\"menu-item menu-item-type-post_type menu-item-object-page menu-item-has-children menu-item-2222\" id=\"menu-item-2222\"><a href=\"https://www.khoury.northeastern.edu/academics/\" rel=\"nofollow\">Academics – FLYOUT</a>\n",
       "<ul class=\"sub-menu\">\n",
       "<li class=\"menu-item menu-item-type-post_type menu-item-object-page menu-item-has-children menu-item-980\" id=\"menu-item-980\"><a href=\"https://www.khoury.northeastern.edu/academics/undergraduate/\">Undergraduate</a></li>\n",
       "<li class=\"menu-item menu-item-type-post_type menu-item-object-page menu-item-has-children menu-item-978\" id=\"menu-item-978\"><a href=\"https://www.khoury.northeastern.edu/academics/masters/\">Masters</a></li>\n",
       "<li class=\"menu-item menu-item-type-post_type menu-item-object-page menu-item-has-children menu-item-979\" id=\"menu-item-979\"><a href=\"https://www.khoury.northeastern.edu/academics/phd/\">PhD</a></li>\n",
       "<li class=\"menu-item menu-item-type-post_type menu-item-object-page menu-item-has-children menu-item-973\" id=\"menu-item-973\"><a href=\"https://www.khoury.northeastern.edu/academics/certificate/\">Certificate</a></li>\n",
       "<li class=\"menu-item menu-item-type-post_type menu-item-object-page menu-item-3266\" id=\"menu-item-3266\"><a href=\"https://www.khoury.northeastern.edu/academics/courses/\">Courses</a></li>\n",
       "</ul>\n",
       "</li>\n",
       "</ul></div> </li>\n",
       "<li class=\"bucket\">\n",
       "<a class=\"toggle\" href=\"#menu-research\">Research</a><div class=\"expanded\"><div class=\"menu-description\"><p><strong>Solving today’s challenges</strong><br/>\n",
       "Bringing together students and faculty across disciplines, the Khoury research community finds impactful solutions to everyday problems.</p>\n",
       "</div><ul class=\"submenu menu-vertical\" id=\"menu-research\"><li class=\"menu-item menu-item-type-post_type menu-item-object-page menu-item-has-children menu-item-2307\" id=\"menu-item-2307\"><a href=\"https://www.khoury.northeastern.edu/research/\" rel=\"nofollow\">Research</a>\n",
       "<ul class=\"sub-menu\">\n",
       "<li class=\"menu-item menu-item-type-post_type menu-item-object-page menu-item-has-children menu-item-400\" id=\"menu-item-400\"><a href=\"https://www.khoury.northeastern.edu/research/research-areas/\">Research Areas</a></li>\n",
       "<li class=\"menu-item menu-item-type-post_type menu-item-object-page menu-item-has-children menu-item-1192\" id=\"menu-item-1192\"><a href=\"https://www.khoury.northeastern.edu/research/research-projects/\">Research Projects</a></li>\n",
       "<li class=\"menu-item menu-item-type-post_type menu-item-object-page menu-item-998\" id=\"menu-item-998\"><a href=\"https://www.khoury.northeastern.edu/research/labs-groups/\">Labs and Groups</a></li>\n",
       "<li class=\"menu-item menu-item-type-post_type menu-item-object-page menu-item-1021\" id=\"menu-item-1021\"><a href=\"https://www.khoury.northeastern.edu/research/institutes/\">Institutes and Centers</a></li>\n",
       "<li class=\"menu-item menu-item-type-post_type menu-item-object-page menu-item-1022\" id=\"menu-item-1022\"><a href=\"https://www.khoury.northeastern.edu/research/speaker-series/\">Speaker Series</a></li>\n",
       "</ul>\n",
       "</li>\n",
       "</ul></div> </li>\n",
       "<li class=\"bucket\">\n",
       "<a class=\"toggle\" href=\"#menu-coop\">Experiential Learning &amp; Co-op</a><div class=\"expanded\"><div class=\"menu-description\"><p><strong>A real-world education</strong><br/>\n",
       "Khoury experiential learning and co-op programs deliver a hands-on education to enhance your studies—and advance your career.</p>\n",
       "</div><ul class=\"submenu menu-vertical\" id=\"menu-experiential-learning-co-op\"><li class=\"menu-item menu-item-type-post_type menu-item-object-page menu-item-has-children menu-item-399\" id=\"menu-item-399\"><a href=\"https://www.khoury.northeastern.edu/experiential-learning/\" rel=\"nofollow\">Experiential Learning &amp; Co-op – FLYOUT</a>\n",
       "<ul class=\"sub-menu\">\n",
       "<li class=\"menu-item menu-item-type-post_type menu-item-object-page menu-item-has-children menu-item-2256\" id=\"menu-item-2256\"><a href=\"https://www.khoury.northeastern.edu/experiential-learning/undergraduate/\">Undergraduate</a></li>\n",
       "<li class=\"menu-item menu-item-type-post_type menu-item-object-page menu-item-has-children menu-item-2262\" id=\"menu-item-2262\"><a href=\"https://www.khoury.northeastern.edu/experiential-learning/masters/\">Masters</a></li>\n",
       "<li class=\"menu-item menu-item-type-post_type menu-item-object-page menu-item-2264\" id=\"menu-item-2264\"><a href=\"https://www.khoury.northeastern.edu/experiential-learning/phd/\">PhD</a></li>\n",
       "<li class=\"menu-item menu-item-type-post_type menu-item-object-page menu-item-has-children menu-item-2265\" id=\"menu-item-2265\"><a href=\"https://www.khoury.northeastern.edu/experiential-learning/employers/\">Employers</a></li>\n",
       "</ul>\n",
       "</li>\n",
       "</ul></div> </li>\n",
       "<li class=\"bucket current-bucket\">\n",
       "<a class=\"toggle\" href=\"#menu-people\">People</a><div class=\"expanded\"><div class=\"menu-description\"><p><strong>Experienced, engaged, inspiring</strong><br/>\n",
       "Our renowned faculty shape minds, spark innovation, and inspire ideas. Our dedicated advisors and coordinators build connections and confidence. Our committed staff provide support every step of the way.</p>\n",
       "</div><ul class=\"submenu menu-vertical\" id=\"menu-people\"><li class=\"menu-item menu-item-type-post_type menu-item-object-page current-menu-ancestor current-menu-parent current_page_parent current_page_ancestor menu-item-has-children menu-item-2282\" id=\"menu-item-2282\"><a href=\"https://www.khoury.northeastern.edu/people/\" rel=\"nofollow\">People</a>\n",
       "<ul class=\"sub-menu\">\n",
       "<li class=\"menu-item menu-item-type-taxonomy menu-item-object-role current-menu-item menu-item-727\" id=\"menu-item-727\"><a aria-current=\"page\" href=\"https://www.khoury.northeastern.edu/role/tenured-and-tenure-track-faculty/\">Tenured and Tenure Track Faculty</a></li>\n",
       "<li class=\"menu-item menu-item-type-taxonomy menu-item-object-role menu-item-8882\" id=\"menu-item-8882\"><a href=\"https://www.khoury.northeastern.edu/role/professors-practice/\">Professors of the Practice</a></li>\n",
       "<li class=\"menu-item menu-item-type-taxonomy menu-item-object-role menu-item-733\" id=\"menu-item-733\"><a href=\"https://www.khoury.northeastern.edu/role/teaching-faculty/\">Teaching Faculty</a></li>\n",
       "<li class=\"menu-item menu-item-type-taxonomy menu-item-object-role menu-item-728\" id=\"menu-item-728\"><a href=\"https://www.khoury.northeastern.edu/role/research-faculty/\">Research Faculty and Staff</a></li>\n",
       "<li class=\"menu-item menu-item-type-taxonomy menu-item-object-role menu-item-5778\" id=\"menu-item-5778\"><a href=\"https://www.khoury.northeastern.edu/role/courtesy-appointments/\">Courtesy Appointments</a></li>\n",
       "<li class=\"menu-item menu-item-type-taxonomy menu-item-object-role menu-item-725\" id=\"menu-item-725\"><a href=\"https://www.khoury.northeastern.edu/role/co-op-and-advising/\">Co-op and Advising</a></li>\n",
       "<li class=\"menu-item menu-item-type-taxonomy menu-item-object-role menu-item-726\" id=\"menu-item-726\"><a href=\"https://www.khoury.northeastern.edu/role/administrative-staff/\">Administrative Staff</a></li>\n",
       "<li class=\"menu-item menu-item-type-taxonomy menu-item-object-role menu-item-729\" id=\"menu-item-729\"><a href=\"https://www.khoury.northeastern.edu/role/systems-staff/\">Systems Staff</a></li>\n",
       "<li class=\"menu-item menu-item-type-taxonomy menu-item-object-role menu-item-730\" id=\"menu-item-730\"><a href=\"https://www.khoury.northeastern.edu/role/post-docs/\">Post Docs</a></li>\n",
       "<li class=\"menu-item menu-item-type-taxonomy menu-item-object-role menu-item-731\" id=\"menu-item-731\"><a href=\"https://www.khoury.northeastern.edu/role/phd-students/\">PhD Students</a></li>\n",
       "<li class=\"menu-item menu-item-type-post_type menu-item-object-page menu-item-413\" id=\"menu-item-413\"><a href=\"https://www.khoury.northeastern.edu/people-view-all/\">View All</a></li>\n",
       "</ul>\n",
       "</li>\n",
       "</ul></div> </li>\n",
       "<li class=\"bucket\">\n",
       "<a class=\"toggle\" href=\"#menu-alumni\">Alumni &amp; Friends</a><div class=\"expanded\"><div class=\"menu-description\"><p><strong>This is your community</strong><br/>\n",
       "It’s time to get involved and give back. Engage and explore. Connect and keep in touch. Your Khoury community welcomes you!  </p>\n",
       "</div><ul class=\"submenu menu-vertical\" id=\"menu-alumni-friends\"><li class=\"menu-item menu-item-type-post_type menu-item-object-page menu-item-has-children menu-item-2281\" id=\"menu-item-2281\"><a href=\"https://www.khoury.northeastern.edu/alumni-and-friends/\" rel=\"nofollow\">Alumni &amp; Friends – FLYOUT</a>\n",
       "<ul class=\"sub-menu\">\n",
       "<li class=\"menu-item menu-item-type-post_type menu-item-object-page menu-item-2283\" id=\"menu-item-2283\"><a href=\"https://www.khoury.northeastern.edu/alumni-and-friends/welcome-back/\">Welcome Back</a></li>\n",
       "<li class=\"menu-item menu-item-type-post_type menu-item-object-page menu-item-1140\" id=\"menu-item-1140\"><a href=\"https://www.khoury.northeastern.edu/alumni-and-friends/alumni-news-events/\">Alumni News &amp; Events</a></li>\n",
       "<li class=\"menu-item menu-item-type-post_type menu-item-object-page menu-item-7062\" id=\"menu-item-7062\"><a href=\"https://www.khoury.northeastern.edu/alumni-and-friends/class-notes/\">Alumni Class Notes</a></li>\n",
       "<li class=\"menu-item menu-item-type-post_type menu-item-object-page menu-item-1145\" id=\"menu-item-1145\"><a href=\"https://www.khoury.northeastern.edu/alumni-and-friends/parents/\">Parents</a></li>\n",
       "<li class=\"menu-item menu-item-type-post_type menu-item-object-page menu-item-1141\" id=\"menu-item-1141\"><a href=\"https://www.khoury.northeastern.edu/alumni-and-friends/connect/\">Connect</a></li>\n",
       "<li class=\"menu-item menu-item-type-custom menu-item-object-custom menu-item-2284\" id=\"menu-item-2284\"><a href=\"http://www.northeastern.edu/careers/\">Career Services</a></li>\n",
       "<li class=\"menu-item menu-item-type-post_type menu-item-object-page menu-item-has-children menu-item-1142\" id=\"menu-item-1142\"><a href=\"https://www.khoury.northeastern.edu/alumni-and-friends/give/\">Give</a></li>\n",
       "</ul>\n",
       "</li>\n",
       "</ul></div> </li>\n",
       "</ul>\n",
       "</nav>\n",
       "</div> <!-- /.container -->\n",
       "</header>\n",
       "<main class=\"container\" id=\"main-content\">\n",
       "<div class=\"row\">\n",
       "<section class=\"with-subnav\" id=\"primary-content\">\n",
       "<div class=\"page-header\">\n",
       "<h1 class=\"page-title\">Tenured and Tenure Track Faculty</h1>\n",
       "</div>\n",
       "<div class=\"row\">\n",
       "<nav class=\"sidebar-subnav\" id=\"people-subnav\">\n",
       "<div class=\"menu-people-container\"><ul class=\"menu menu-vertical\" id=\"menu-people-1\"><li class=\"menu-item menu-item-type-post_type menu-item-object-page current-menu-ancestor current-menu-parent current_page_parent current_page_ancestor menu-item-has-children menu-item-2282\"><a href=\"https://www.khoury.northeastern.edu/people/\" rel=\"nofollow\">People</a>\n",
       "<ul class=\"sub-menu\">\n",
       "<li class=\"menu-item menu-item-type-taxonomy menu-item-object-role current-menu-item menu-item-727\"><a aria-current=\"page\" href=\"https://www.khoury.northeastern.edu/role/tenured-and-tenure-track-faculty/\">Tenured and Tenure Track Faculty</a></li>\n",
       "<li class=\"menu-item menu-item-type-taxonomy menu-item-object-role menu-item-8882\"><a href=\"https://www.khoury.northeastern.edu/role/professors-practice/\">Professors of the Practice</a></li>\n",
       "<li class=\"menu-item menu-item-type-taxonomy menu-item-object-role menu-item-733\"><a href=\"https://www.khoury.northeastern.edu/role/teaching-faculty/\">Teaching Faculty</a></li>\n",
       "<li class=\"menu-item menu-item-type-taxonomy menu-item-object-role menu-item-728\"><a href=\"https://www.khoury.northeastern.edu/role/research-faculty/\">Research Faculty and Staff</a></li>\n",
       "<li class=\"menu-item menu-item-type-taxonomy menu-item-object-role menu-item-5778\"><a href=\"https://www.khoury.northeastern.edu/role/courtesy-appointments/\">Courtesy Appointments</a></li>\n",
       "<li class=\"menu-item menu-item-type-taxonomy menu-item-object-role menu-item-725\"><a href=\"https://www.khoury.northeastern.edu/role/co-op-and-advising/\">Co-op and Advising</a></li>\n",
       "<li class=\"menu-item menu-item-type-taxonomy menu-item-object-role menu-item-726\"><a href=\"https://www.khoury.northeastern.edu/role/administrative-staff/\">Administrative Staff</a></li>\n",
       "<li class=\"menu-item menu-item-type-taxonomy menu-item-object-role menu-item-729\"><a href=\"https://www.khoury.northeastern.edu/role/systems-staff/\">Systems Staff</a></li>\n",
       "<li class=\"menu-item menu-item-type-taxonomy menu-item-object-role menu-item-730\"><a href=\"https://www.khoury.northeastern.edu/role/post-docs/\">Post Docs</a></li>\n",
       "<li class=\"menu-item menu-item-type-taxonomy menu-item-object-role menu-item-731\"><a href=\"https://www.khoury.northeastern.edu/role/phd-students/\">PhD Students</a></li>\n",
       "<li class=\"menu-item menu-item-type-post_type menu-item-object-page menu-item-413\"><a href=\"https://www.khoury.northeastern.edu/people-view-all/\">View All</a></li>\n",
       "</ul>\n",
       "</li>\n",
       "</ul></div><aside class=\"widget widget_text\" id=\"text-4\"><h2 class=\"section-title widget-title\">We’re Hiring</h2><div class=\"widget-body\"> <div class=\"textwidget\"><p><a href=\"https://www.ccis.northeastern.edu/open-positions\">View open positions</a></p>\n",
       "</div>\n",
       "</div></aside> </nav>\n",
       "<div class=\"taxonomy-grid\">\n",
       "<div class=\"row\">\n",
       "<div class=\"grid-square grid-people\">\n",
       "<article class=\"people\">\n",
       "<div class=\"grid-item\">\n",
       "<a href=\"https://www.khoury.northeastern.edu/people/amal-ahmed/\">\n",
       "<div class=\"grid-image\"><img alt=\"\" src=\"https://www.khoury.northeastern.edu/wp-content/uploads/2016/03/Amal-Ahmed-Index-Image.jpg\"/></div>\n",
       "<p class=\"roles\"><span class=\"role-23\">Tenured and Tenure Track Faculty</span></p>\n",
       "<h3 class=\"person-name\">\n",
       "\t\t\t\t\t\t\t\t\tAmal Ahmed\t\t\t\t\t\t\t</h3>\n",
       "</a>\n",
       "<div class=\"position-list\">\n",
       "<p class=\"position\">Associate Professor</p>\n",
       "<p class=\"position\">Sy and Laurie Sternberg Interdisciplinary Associate Professor</p>\n",
       "</div>\n",
       "</div>\n",
       "</article>\n",
       "</div>\n",
       "<div class=\"grid-square grid-people\">\n",
       "<article class=\"people\">\n",
       "<div class=\"grid-item\">\n",
       "<a href=\"https://www.khoury.northeastern.edu/people/chris-amato/\">\n",
       "<div class=\"grid-image\"><img alt=\"\" src=\"https://www.khoury.northeastern.edu/wp-content/uploads/2016/08/Amato_Chris-index-image.jpg\"/></div>\n",
       "<p class=\"roles\"><span class=\"role-23\">Tenured and Tenure Track Faculty</span></p>\n",
       "<h3 class=\"person-name\">\n",
       "\t\t\t\t\t\t\t\t\tChristopher Amato\t\t\t\t\t\t\t</h3>\n",
       "</a>\n",
       "<div class=\"position-list\">\n",
       "<p class=\"position\">Assistant Professor</p>\n",
       "</div>\n",
       "</div>\n",
       "</article>\n",
       "</div>\n",
       "<div class=\"grid-square grid-people\">\n",
       "<article class=\"people\">\n",
       "<div class=\"grid-item\">\n",
       "<a href=\"https://www.khoury.northeastern.edu/people/jay-javed-aslam/\">\n",
       "<div class=\"grid-image\"><img alt=\"\" src=\"https://www.khoury.northeastern.edu/wp-content/uploads/2016/02/Javed-Aslam-index-image-e1456779428335.jpg\"/></div>\n",
       "<p class=\"roles\"><span class=\"role-29\">Administrative Staff</span> <span class=\"role-23\">Tenured and Tenure Track Faculty</span></p>\n",
       "<h3 class=\"person-name\">\n",
       "\t\t\t\t\t\t\t\t\tJaved Aslam\t\t\t\t\t\t\t</h3>\n",
       "</a>\n",
       "<div class=\"position-list\">\n",
       "<p class=\"position\">Professor</p>\n",
       "<p class=\"position\">Senior Associate Dean - Academic Affairs</p>\n",
       "</div>\n",
       "</div>\n",
       "</article>\n",
       "</div>\n",
       "<div class=\"grid-square grid-people\">\n",
       "<article class=\"people\">\n",
       "<div class=\"grid-item\">\n",
       "<a href=\"https://www.khoury.northeastern.edu/people/kenneth-baclawski/\">\n",
       "<div class=\"grid-image\"><img alt=\"\" src=\"https://www.khoury.northeastern.edu/wp-content/uploads/2016/02/Kenneth-Baclawski-index-image-e1456779323580.jpg\"/></div>\n",
       "<p class=\"roles\"><span class=\"role-23\">Tenured and Tenure Track Faculty</span></p>\n",
       "<h3 class=\"person-name\">\n",
       "\t\t\t\t\t\t\t\t\tKenneth Baclawski\t\t\t\t\t\t\t</h3>\n",
       "</a>\n",
       "<div class=\"position-list\">\n",
       "<p class=\"position\">Associate Professor Emeritus</p>\n",
       "</div>\n",
       "</div>\n",
       "</article>\n",
       "</div>\n",
       "<div class=\"grid-square grid-people\">\n",
       "<article class=\"people\">\n",
       "<div class=\"grid-item\">\n",
       "<a href=\"https://www.khoury.northeastern.edu/people/albert-laszlo-barabasi/\">\n",
       "<div class=\"grid-image\"><img alt=\"\" src=\"https://www.khoury.northeastern.edu/wp-content/uploads/2015/12/barabasi-index.jpg\"/></div>\n",
       "<p class=\"roles\"><span class=\"role-23\">Tenured and Tenure Track Faculty</span></p>\n",
       "<h3 class=\"person-name\">\n",
       "\t\t\t\t\t\t\t\t\tAlbert-László Barabási\t\t\t\t\t\t\t</h3>\n",
       "</a>\n",
       "<div class=\"position-list\">\n",
       "<p class=\"position\">Robert Gray Dodge Professor of Network Science</p>\n",
       "<p class=\"position\">Distinguished University Professor</p>\n",
       "<p class=\"position\">Interdisciplinary with College of Science</p>\n",
       "</div>\n",
       "</div>\n",
       "</article>\n",
       "</div>\n",
       "<div class=\"grid-square grid-people\">\n",
       "<article class=\"people\">\n",
       "<div class=\"grid-item\">\n",
       "<a href=\"https://www.khoury.northeastern.edu/people/timothy-bickmore/\">\n",
       "<div class=\"grid-image\"><img alt=\"\" src=\"https://www.khoury.northeastern.edu/wp-content/uploads/2016/02/Timothy-Bickmore-index-image.jpg\"/></div>\n",
       "<p class=\"roles\"><span class=\"role-23\">Tenured and Tenure Track Faculty</span></p>\n",
       "<h3 class=\"person-name\">\n",
       "\t\t\t\t\t\t\t\t\tTimothy W. Bickmore\t\t\t\t\t\t\t</h3>\n",
       "</a>\n",
       "<div class=\"position-list\">\n",
       "<p class=\"position\">Professor</p>\n",
       "</div>\n",
       "</div>\n",
       "</article>\n",
       "</div>\n",
       "<div class=\"grid-square grid-people\">\n",
       "<article class=\"people\">\n",
       "<div class=\"grid-item\">\n",
       "<a href=\"https://www.khoury.northeastern.edu/people/michelle-borkin/\">\n",
       "<div class=\"grid-image\"><img alt=\"\" src=\"https://www.khoury.northeastern.edu/wp-content/uploads/2016/02/Michelle-Borkin-index-image.jpg\"/></div>\n",
       "<p class=\"roles\"><span class=\"role-23\">Tenured and Tenure Track Faculty</span></p>\n",
       "<h3 class=\"person-name\">\n",
       "\t\t\t\t\t\t\t\t\tMichelle Borkin\t\t\t\t\t\t\t</h3>\n",
       "</a>\n",
       "<div class=\"position-list\">\n",
       "<p class=\"position\">Assistant Professor</p>\n",
       "</div>\n",
       "</div>\n",
       "</article>\n",
       "</div>\n",
       "<div class=\"grid-square grid-people\">\n",
       "<article class=\"people\">\n",
       "<div class=\"grid-item\">\n",
       "<a href=\"https://www.khoury.northeastern.edu/people/carla-brodley/\">\n",
       "<div class=\"grid-image\"><img alt=\"\" src=\"https://www.khoury.northeastern.edu/wp-content/uploads/2016/02/Carla-Brodley-index-image-e1456779225742.jpg\"/></div>\n",
       "<p class=\"roles\"><span class=\"role-29\">Administrative Staff</span> <span class=\"role-23\">Tenured and Tenure Track Faculty</span></p>\n",
       "<h3 class=\"person-name\">\n",
       "\t\t\t\t\t\t\t\t\tCarla E. Brodley\t\t\t\t\t\t\t</h3>\n",
       "</a>\n",
       "<div class=\"position-list\">\n",
       "<p class=\"position\">Dean - Khoury College of Computer Sciences</p>\n",
       "<p class=\"position\">Professor</p>\n",
       "<p class=\"position\">Executive Director of the Center for Inclusive Computing</p>\n",
       "</div>\n",
       "</div>\n",
       "</article>\n",
       "</div>\n",
       "<div class=\"grid-square grid-people\">\n",
       "<article class=\"people\">\n",
       "<div class=\"grid-item\">\n",
       "<a href=\"https://www.khoury.northeastern.edu/people/agnes-chan/\">\n",
       "<div class=\"grid-image\"><img alt=\"\" src=\"https://www.khoury.northeastern.edu/wp-content/uploads/2016/02/Agnes-Chan-index-image-e1456779295334.jpg\"/></div>\n",
       "<p class=\"roles\"><span class=\"role-23\">Tenured and Tenure Track Faculty</span></p>\n",
       "<h3 class=\"person-name\">\n",
       "\t\t\t\t\t\t\t\t\tAgnes H. Chan\t\t\t\t\t\t\t</h3>\n",
       "</a>\n",
       "<div class=\"position-list\">\n",
       "<p class=\"position\">Professor Emeritus</p>\n",
       "</div>\n",
       "</div>\n",
       "</article>\n",
       "</div>\n",
       "<div class=\"grid-square grid-people\">\n",
       "<article class=\"people\">\n",
       "<div class=\"grid-item\">\n",
       "<a href=\"https://www.khoury.northeastern.edu/people/david-choffnes/\">\n",
       "<div class=\"grid-image\"><img alt=\"\" src=\"https://www.khoury.northeastern.edu/wp-content/uploads/2016/03/David-Choffnes-Index-Image.jpg\"/></div>\n",
       "<p class=\"roles\"><span class=\"role-23\">Tenured and Tenure Track Faculty</span></p>\n",
       "<h3 class=\"person-name\">\n",
       "\t\t\t\t\t\t\t\t\tDavid Choffnes\t\t\t\t\t\t\t</h3>\n",
       "</a>\n",
       "<div class=\"position-list\">\n",
       "<p class=\"position\">Associate Professor</p>\n",
       "</div>\n",
       "</div>\n",
       "</article>\n",
       "</div>\n",
       "<div class=\"grid-square grid-people\">\n",
       "<article class=\"people\">\n",
       "<div class=\"grid-item\">\n",
       "<a href=\"https://www.khoury.northeastern.edu/people/william-d-clinger/\">\n",
       "<div class=\"grid-image\"><img alt=\"\" src=\"https://www.khoury.northeastern.edu/wp-content/uploads/2016/02/William-Clinger-index-image.jpg\"/></div>\n",
       "<p class=\"roles\"><span class=\"role-23\">Tenured and Tenure Track Faculty</span></p>\n",
       "<h3 class=\"person-name\">\n",
       "\t\t\t\t\t\t\t\t\tWilliam D. Clinger\t\t\t\t\t\t\t</h3>\n",
       "</a>\n",
       "<div class=\"position-list\">\n",
       "<p class=\"position\">Professor Emeritus</p>\n",
       "</div>\n",
       "</div>\n",
       "</article>\n",
       "</div>\n",
       "<div class=\"grid-square grid-people\">\n",
       "<article class=\"people\">\n",
       "<div class=\"grid-item\">\n",
       "<a href=\"https://www.khoury.northeastern.edu/people/seth-cooper/\">\n",
       "<div class=\"grid-image\"><img alt=\"\" src=\"https://www.khoury.northeastern.edu/wp-content/uploads/2016/02/Seth-Cooper-index-image.jpg\"/></div>\n",
       "<p class=\"roles\"><span class=\"role-23\">Tenured and Tenure Track Faculty</span></p>\n",
       "<h3 class=\"person-name\">\n",
       "\t\t\t\t\t\t\t\t\tSeth Cooper\t\t\t\t\t\t\t</h3>\n",
       "</a>\n",
       "<div class=\"position-list\">\n",
       "<p class=\"position\">Assistant Professor</p>\n",
       "</div>\n",
       "</div>\n",
       "</article>\n",
       "</div>\n",
       "<div class=\"grid-square grid-people\">\n",
       "<article class=\"people\">\n",
       "<div class=\"grid-item\">\n",
       "<a href=\"https://www.khoury.northeastern.edu/people/gene-cooperman/\">\n",
       "<div class=\"grid-image\"><img alt=\"\" src=\"https://www.khoury.northeastern.edu/wp-content/uploads/2016/02/Gene-Cooperman-index-image-e1456779126336.jpg\"/></div>\n",
       "<p class=\"roles\"><span class=\"role-23\">Tenured and Tenure Track Faculty</span></p>\n",
       "<h3 class=\"person-name\">\n",
       "\t\t\t\t\t\t\t\t\tGene Cooperman\t\t\t\t\t\t\t</h3>\n",
       "</a>\n",
       "<div class=\"position-list\">\n",
       "<p class=\"position\">Professor</p>\n",
       "</div>\n",
       "</div>\n",
       "</article>\n",
       "</div>\n",
       "<div class=\"grid-square grid-people\">\n",
       "<article class=\"people\">\n",
       "<div class=\"grid-item\">\n",
       "<a href=\"https://www.khoury.northeastern.edu/people/peter-desnoyers/\">\n",
       "<div class=\"grid-image\"><img alt=\"\" src=\"https://www.khoury.northeastern.edu/wp-content/uploads/2016/02/Peter-Desnoyers-index-image-e1456759566934.jpg\"/></div>\n",
       "<p class=\"roles\"><span class=\"role-23\">Tenured and Tenure Track Faculty</span></p>\n",
       "<h3 class=\"person-name\">\n",
       "\t\t\t\t\t\t\t\t\tPeter Desnoyers\t\t\t\t\t\t\t</h3>\n",
       "</a>\n",
       "<div class=\"position-list\">\n",
       "<p class=\"position\">Associate Professor</p>\n",
       "</div>\n",
       "</div>\n",
       "</article>\n",
       "</div>\n",
       "<div class=\"grid-square grid-people\">\n",
       "<article class=\"people\">\n",
       "<div class=\"grid-item\">\n",
       "<a href=\"https://www.khoury.northeastern.edu/people/cody-dunne/\">\n",
       "<div class=\"grid-image\"><img alt=\"\" src=\"https://www.khoury.northeastern.edu/wp-content/uploads/2016/09/Dunne_Cody-index-image.jpg\"/></div>\n",
       "<p class=\"roles\"><span class=\"role-23\">Tenured and Tenure Track Faculty</span></p>\n",
       "<h3 class=\"person-name\">\n",
       "\t\t\t\t\t\t\t\t\tCody Dunne\t\t\t\t\t\t\t</h3>\n",
       "</a>\n",
       "<div class=\"position-list\">\n",
       "<p class=\"position\">Assistant Professor</p>\n",
       "</div>\n",
       "</div>\n",
       "</article>\n",
       "</div>\n",
       "<div class=\"grid-square grid-people\">\n",
       "<article class=\"people\">\n",
       "<div class=\"grid-item\">\n",
       "<a href=\"https://www.khoury.northeastern.edu/people/ehsan-elhamifar/\">\n",
       "<div class=\"grid-image\"><img alt=\"\" src=\"https://www.khoury.northeastern.edu/wp-content/uploads/2016/02/linderpix-NEU-5502-web-bio-photo.jpg\"/></div>\n",
       "<p class=\"roles\"><span class=\"role-23\">Tenured and Tenure Track Faculty</span></p>\n",
       "<h3 class=\"person-name\">\n",
       "\t\t\t\t\t\t\t\t\tEhsan Elhamifar\t\t\t\t\t\t\t</h3>\n",
       "</a>\n",
       "<div class=\"position-list\">\n",
       "<p class=\"position\">Assistant Professor</p>\n",
       "<p class=\"position\">Interdisciplinary with College of Engineering</p>\n",
       "</div>\n",
       "</div>\n",
       "</article>\n",
       "</div>\n",
       "<div class=\"grid-square grid-people\">\n",
       "<article class=\"people\">\n",
       "<div class=\"grid-item\">\n",
       "<a href=\"https://www.khoury.northeastern.edu/people/tina-eliassi-rad/\">\n",
       "<div class=\"grid-image\"><img alt=\"\" src=\"https://www.khoury.northeastern.edu/wp-content/uploads/2016/02/Eliassi-Rad_Tina-index-image-1.jpg\"/></div>\n",
       "<p class=\"roles\"><span class=\"role-23\">Tenured and Tenure Track Faculty</span></p>\n",
       "<h3 class=\"person-name\">\n",
       "\t\t\t\t\t\t\t\t\tTina Eliassi-Rad\t\t\t\t\t\t\t</h3>\n",
       "</a>\n",
       "<div class=\"position-list\">\n",
       "<p class=\"position\">Associate Professor</p>\n",
       "</div>\n",
       "</div>\n",
       "</article>\n",
       "</div>\n",
       "<div class=\"grid-square grid-people\">\n",
       "<article class=\"people\">\n",
       "<div class=\"grid-item\">\n",
       "<a href=\"https://www.khoury.northeastern.edu/people/don-fallis/\">\n",
       "<div class=\"grid-image\"><img alt=\"\" src=\"https://www.khoury.northeastern.edu/wp-content/uploads/2019/02/donf25-839x1024-e1556114115240.jpg\"/></div>\n",
       "<p class=\"roles\"><span class=\"role-23\">Tenured and Tenure Track Faculty</span></p>\n",
       "<h3 class=\"person-name\">\n",
       "\t\t\t\t\t\t\t\t\tDon Fallis\t\t\t\t\t\t\t</h3>\n",
       "</a>\n",
       "<div class=\"position-list\">\n",
       "<p class=\"position\">Professor of Philosophy and Computer Sciences</p>\n",
       "<p class=\"position\">Interdisciplinary with College of Social Sciences and Humanities</p>\n",
       "</div>\n",
       "</div>\n",
       "</article>\n",
       "</div>\n",
       "<div class=\"grid-square grid-people\">\n",
       "<article class=\"people\">\n",
       "<div class=\"grid-item\">\n",
       "<a href=\"https://www.khoury.northeastern.edu/people/matthias-felleisen/\">\n",
       "<div class=\"grid-image\"><img alt=\"\" src=\"https://www.khoury.northeastern.edu/wp-content/uploads/2016/02/Matthias-Felleisen-index-image-e1456779017397.jpg\"/></div>\n",
       "<p class=\"roles\"><span class=\"role-23\">Tenured and Tenure Track Faculty</span></p>\n",
       "<h3 class=\"person-name\">\n",
       "\t\t\t\t\t\t\t\t\tMatthias Felleisen\t\t\t\t\t\t\t</h3>\n",
       "</a>\n",
       "<div class=\"position-list\">\n",
       "<p class=\"position\">Trustee Professor</p>\n",
       "</div>\n",
       "</div>\n",
       "</article>\n",
       "</div>\n",
       "<div class=\"grid-square grid-people\">\n",
       "<article class=\"people\">\n",
       "<div class=\"grid-item\">\n",
       "<a href=\"https://www.khoury.northeastern.edu/people/larry-finkelstein/\">\n",
       "<div class=\"grid-image\"><img alt=\"\" src=\"https://www.khoury.northeastern.edu/wp-content/uploads/2016/02/Larry-Finkelstein-index-image-e1456759281894.jpg\"/></div>\n",
       "<p class=\"roles\"><span class=\"role-23\">Tenured and Tenure Track Faculty</span></p>\n",
       "<h3 class=\"person-name\">\n",
       "\t\t\t\t\t\t\t\t\tLarry Finkelstein\t\t\t\t\t\t\t</h3>\n",
       "</a>\n",
       "<div class=\"position-list\">\n",
       "<p class=\"position\">Professor Emeritus</p>\n",
       "<p class=\"position\">Dean Emeritus</p>\n",
       "</div>\n",
       "</div>\n",
       "</article>\n",
       "</div>\n",
       "<div class=\"grid-square grid-people\">\n",
       "<article class=\"people\">\n",
       "<div class=\"grid-item\">\n",
       "<a href=\"https://www.khoury.northeastern.edu/people/raymond-yun-fu/\">\n",
       "<div class=\"grid-image\"><img alt=\"\" src=\"https://www.khoury.northeastern.edu/wp-content/uploads/2016/02/Raymond-Fu-index-image.jpg\"/></div>\n",
       "<p class=\"roles\"><span class=\"role-23\">Tenured and Tenure Track Faculty</span></p>\n",
       "<h3 class=\"person-name\">\n",
       "\t\t\t\t\t\t\t\t\tYun (Raymond) Fu\t\t\t\t\t\t\t</h3>\n",
       "</a>\n",
       "<div class=\"position-list\">\n",
       "<p class=\"position\">Professor</p>\n",
       "<p class=\"position\">Interdisciplinary with College of Engineering</p>\n",
       "</div>\n",
       "</div>\n",
       "</article>\n",
       "</div>\n",
       "<div class=\"grid-square grid-people\">\n",
       "<article class=\"people\">\n",
       "<div class=\"grid-item\">\n",
       "<a href=\"https://www.khoury.northeastern.edu/people/wolfgang-gatterbauer/\">\n",
       "<div class=\"grid-image\"><img alt=\"\" src=\"https://www.khoury.northeastern.edu/wp-content/uploads/2017/08/linderpix-NEU-56875-index.jpg\"/></div>\n",
       "<p class=\"roles\"><span class=\"role-23\">Tenured and Tenure Track Faculty</span></p>\n",
       "<h3 class=\"person-name\">\n",
       "\t\t\t\t\t\t\t\t\tWolfgang Gatterbauer\t\t\t\t\t\t\t</h3>\n",
       "</a>\n",
       "<div class=\"position-list\">\n",
       "<p class=\"position\">Associate Professor</p>\n",
       "</div>\n",
       "</div>\n",
       "</article>\n",
       "</div>\n",
       "<div class=\"grid-square grid-people\">\n",
       "<article class=\"people\">\n",
       "<div class=\"grid-item\">\n",
       "<a href=\"https://www.khoury.northeastern.edu/people/matthew-goodwin/\">\n",
       "<div class=\"grid-image\"><img alt=\"\" src=\"https://www.khoury.northeastern.edu/wp-content/uploads/2016/02/Matthew-Goodwin-index-image.jpg\"/></div>\n",
       "<p class=\"roles\"><span class=\"role-23\">Tenured and Tenure Track Faculty</span></p>\n",
       "<h3 class=\"person-name\">\n",
       "\t\t\t\t\t\t\t\t\tMatthew Goodwin\t\t\t\t\t\t\t</h3>\n",
       "</a>\n",
       "<div class=\"position-list\">\n",
       "<p class=\"position\">Associate Professor</p>\n",
       "<p class=\"position\">Interdisciplinary with Bouvé College of Health Sciences</p>\n",
       "</div>\n",
       "</div>\n",
       "</article>\n",
       "</div>\n",
       "<div class=\"grid-square grid-people\">\n",
       "<article class=\"people\">\n",
       "<div class=\"grid-item\">\n",
       "<a href=\"https://www.khoury.northeastern.edu/people/paul-hand/\">\n",
       "<div class=\"grid-image\"><img alt=\"\" src=\"https://www.khoury.northeastern.edu/wp-content/uploads/2018/08/linderpix-NEU-8496-crop.jpg\"/></div>\n",
       "<p class=\"roles\"><span class=\"role-23\">Tenured and Tenure Track Faculty</span></p>\n",
       "<h3 class=\"person-name\">\n",
       "\t\t\t\t\t\t\t\t\tPaul Hand\t\t\t\t\t\t\t</h3>\n",
       "</a>\n",
       "<div class=\"position-list\">\n",
       "<p class=\"position\">Assistant Professor </p>\n",
       "<p class=\"position\">Interdisciplinary with College of Science</p>\n",
       "</div>\n",
       "</div>\n",
       "</article>\n",
       "</div>\n",
       "<div class=\"grid-square grid-people\">\n",
       "<article class=\"people\">\n",
       "<div class=\"grid-item\">\n",
       "<a href=\"https://www.khoury.northeastern.edu/people/woodrow-hartzog/\">\n",
       "<div class=\"grid-image\"><img alt=\"\" src=\"https://www.khoury.northeastern.edu/wp-content/uploads/2017/08/linderpix-NEU-56973-crop.jpg\"/></div>\n",
       "<p class=\"roles\"><span class=\"role-23\">Tenured and Tenure Track Faculty</span></p>\n",
       "<h3 class=\"person-name\">\n",
       "\t\t\t\t\t\t\t\t\tWoodrow Hartzog\t\t\t\t\t\t\t</h3>\n",
       "</a>\n",
       "<div class=\"position-list\">\n",
       "<p class=\"position\">Professor</p>\n",
       "<p class=\"position\">Interdisciplinary with the School of Law</p>\n",
       "</div>\n",
       "</div>\n",
       "</article>\n",
       "</div>\n",
       "<div class=\"grid-square grid-people\">\n",
       "<article class=\"people\">\n",
       "<div class=\"grid-item\">\n",
       "<a href=\"https://www.khoury.northeastern.edu/people/stephen-intille/\">\n",
       "<div class=\"grid-image\"><img alt=\"\" src=\"https://www.khoury.northeastern.edu/wp-content/uploads/2016/02/Stephen-Intille-index-image.jpg\"/></div>\n",
       "<p class=\"roles\"><span class=\"role-23\">Tenured and Tenure Track Faculty</span></p>\n",
       "<h3 class=\"person-name\">\n",
       "\t\t\t\t\t\t\t\t\tStephen Intille\t\t\t\t\t\t\t</h3>\n",
       "</a>\n",
       "<div class=\"position-list\">\n",
       "<p class=\"position\">Associate Professor</p>\n",
       "<p class=\"position\">Interdisciplinary with Bouvé College of Health Sciences</p>\n",
       "</div>\n",
       "</div>\n",
       "</article>\n",
       "</div>\n",
       "<div class=\"grid-square grid-people\">\n",
       "<article class=\"people\">\n",
       "<div class=\"grid-item\">\n",
       "<a href=\"https://www.khoury.northeastern.edu/people/engin-kirda/\">\n",
       "<div class=\"grid-image\"><img alt=\"\" src=\"https://www.khoury.northeastern.edu/wp-content/uploads/2016/03/Engin-Kirda-Index-Image.jpg\"/></div>\n",
       "<p class=\"roles\"><span class=\"role-23\">Tenured and Tenure Track Faculty</span></p>\n",
       "<h3 class=\"person-name\">\n",
       "\t\t\t\t\t\t\t\t\tEngin Kirda\t\t\t\t\t\t\t</h3>\n",
       "</a>\n",
       "<div class=\"position-list\">\n",
       "<p class=\"position\">Professor</p>\n",
       "<p class=\"position\">Executive Director - Cybersecurity and Privacy Institute</p>\n",
       "<p class=\"position\">Interdisciplinary with College of Engineering</p>\n",
       "</div>\n",
       "</div>\n",
       "</article>\n",
       "</div>\n",
       "<div class=\"grid-square grid-people\">\n",
       "<article class=\"people\">\n",
       "<div class=\"grid-item\">\n",
       "<a href=\"https://www.khoury.northeastern.edu/people/david-lazer/\">\n",
       "<div class=\"grid-image\"><img alt=\"\" src=\"https://www.khoury.northeastern.edu/wp-content/uploads/2016/03/David-Lazer-index-image.jpg\"/></div>\n",
       "<p class=\"roles\"><span class=\"role-23\">Tenured and Tenure Track Faculty</span></p>\n",
       "<h3 class=\"person-name\">\n",
       "\t\t\t\t\t\t\t\t\tDavid Lazer\t\t\t\t\t\t\t</h3>\n",
       "</a>\n",
       "<div class=\"position-list\">\n",
       "<p class=\"position\">Distinguished Professor</p>\n",
       "<p class=\"position\">Interdisciplinary with College of Social Sciences and Humanities</p>\n",
       "</div>\n",
       "</div>\n",
       "</article>\n",
       "</div>\n",
       "<div class=\"grid-square grid-people\">\n",
       "<article class=\"people\">\n",
       "<div class=\"grid-item\">\n",
       "<a href=\"https://www.khoury.northeastern.edu/people/karl-lieberherr/\">\n",
       "<div class=\"grid-image\"><img alt=\"\" src=\"https://www.khoury.northeastern.edu/wp-content/uploads/2016/02/Kari-Lieberherr-headshot-image.jpg\"/></div>\n",
       "<p class=\"roles\"><span class=\"role-23\">Tenured and Tenure Track Faculty</span></p>\n",
       "<h3 class=\"person-name\">\n",
       "\t\t\t\t\t\t\t\t\tKarl Lieberherr\t\t\t\t\t\t\t</h3>\n",
       "</a>\n",
       "<div class=\"position-list\">\n",
       "<p class=\"position\">Professor</p>\n",
       "</div>\n",
       "</div>\n",
       "</article>\n",
       "</div>\n",
       "<div class=\"grid-square grid-people\">\n",
       "<article class=\"people\">\n",
       "<div class=\"grid-item\">\n",
       "<a href=\"https://www.khoury.northeastern.edu/people/long-lu/\">\n",
       "<div class=\"grid-image\"><img alt=\"\" src=\"https://www.khoury.northeastern.edu/wp-content/uploads/2017/08/linderpix-NEU-57096-crop.jpg\"/></div>\n",
       "<p class=\"roles\"><span class=\"role-23\">Tenured and Tenure Track Faculty</span></p>\n",
       "<h3 class=\"person-name\">\n",
       "\t\t\t\t\t\t\t\t\tLong Lu\t\t\t\t\t\t\t</h3>\n",
       "</a>\n",
       "<div class=\"position-list\">\n",
       "<p class=\"position\">Assistant Professor</p>\n",
       "</div>\n",
       "</div>\n",
       "</article>\n",
       "</div>\n",
       "<div class=\"grid-square grid-people\">\n",
       "<article class=\"people\">\n",
       "<div class=\"grid-item\">\n",
       "<a href=\"https://www.khoury.northeastern.edu/people/panagiotos-manolios/\">\n",
       "<div class=\"grid-image\"><img alt=\"\" src=\"https://www.khoury.northeastern.edu/wp-content/uploads/2016/02/Pete-Manolios-index-image-e1456759585514.jpg\"/></div>\n",
       "<p class=\"roles\"><span class=\"role-23\">Tenured and Tenure Track Faculty</span></p>\n",
       "<h3 class=\"person-name\">\n",
       "\t\t\t\t\t\t\t\t\tPanagiotos (Pete) Manolios\t\t\t\t\t\t\t</h3>\n",
       "</a>\n",
       "<div class=\"position-list\">\n",
       "<p class=\"position\">Professor</p>\n",
       "</div>\n",
       "</div>\n",
       "</article>\n",
       "</div>\n",
       "<div class=\"grid-square grid-people\">\n",
       "<article class=\"people\">\n",
       "<div class=\"grid-item\">\n",
       "<a href=\"https://www.khoury.northeastern.edu/people/stacy-c-marsella/\">\n",
       "<div class=\"grid-image\"><img alt=\"\" src=\"https://www.khoury.northeastern.edu/wp-content/uploads/2016/03/Stacy-Marsella-Index-Image.jpg\"/></div>\n",
       "<p class=\"roles\"><span class=\"role-23\">Tenured and Tenure Track Faculty</span></p>\n",
       "<h3 class=\"person-name\">\n",
       "\t\t\t\t\t\t\t\t\tStacy C. Marsella\t\t\t\t\t\t\t</h3>\n",
       "</a>\n",
       "<div class=\"position-list\">\n",
       "<p class=\"position\">Professor</p>\n",
       "<p class=\"position\">Interdisciplinary with College of Science</p>\n",
       "</div>\n",
       "</div>\n",
       "</article>\n",
       "</div>\n",
       "<div class=\"grid-square grid-people\">\n",
       "<article class=\"people\">\n",
       "<div class=\"grid-item\">\n",
       "<a href=\"https://www.khoury.northeastern.edu/people/renee-miller/\">\n",
       "<div class=\"grid-image\"><img alt=\"\" src=\"https://www.khoury.northeastern.edu/wp-content/uploads/2018/01/no-photo4.jpg\"/></div>\n",
       "<p class=\"roles\"><span class=\"role-23\">Tenured and Tenure Track Faculty</span></p>\n",
       "<h3 class=\"person-name\">\n",
       "\t\t\t\t\t\t\t\t\tRenée Miller\t\t\t\t\t\t\t</h3>\n",
       "</a>\n",
       "<div class=\"position-list\">\n",
       "<p class=\"position\">University Distinguished Professor</p>\n",
       "</div>\n",
       "</div>\n",
       "</article>\n",
       "</div>\n",
       "<div class=\"grid-square grid-people\">\n",
       "<article class=\"people\">\n",
       "<div class=\"grid-item\">\n",
       "<a href=\"https://www.khoury.northeastern.edu/people/alan-mislove/\">\n",
       "<div class=\"grid-image\"><img alt=\"\" src=\"https://www.khoury.northeastern.edu/wp-content/uploads/2016/02/Alan-Mislove_cropped-headshot.jpg\"/></div>\n",
       "<p class=\"roles\"><span class=\"role-29\">Administrative Staff</span> <span class=\"role-23\">Tenured and Tenure Track Faculty</span></p>\n",
       "<h3 class=\"person-name\">\n",
       "\t\t\t\t\t\t\t\t\tAlan Mislove\t\t\t\t\t\t\t</h3>\n",
       "</a>\n",
       "<div class=\"position-list\">\n",
       "<p class=\"position\">Professor</p>\n",
       "<p class=\"position\">Associate Dean &amp; Director - Undergraduate Programs</p>\n",
       "</div>\n",
       "</div>\n",
       "</article>\n",
       "</div>\n",
       "<div class=\"grid-square grid-people\">\n",
       "<article class=\"people\">\n",
       "<div class=\"grid-item\">\n",
       "<a href=\"https://www.khoury.northeastern.edu/people/huy-le-nguyen/\">\n",
       "<div class=\"grid-image\"><img alt=\"\" src=\"https://www.khoury.northeastern.edu/wp-content/uploads/2016/08/Nguyen_Huy-index-image.jpg\"/></div>\n",
       "<p class=\"roles\"><span class=\"role-23\">Tenured and Tenure Track Faculty</span></p>\n",
       "<h3 class=\"person-name\">\n",
       "\t\t\t\t\t\t\t\t\tHuy Lê Nguyen\t\t\t\t\t\t\t</h3>\n",
       "</a>\n",
       "<div class=\"position-list\">\n",
       "<p class=\"position\">Assistant Professor</p>\n",
       "</div>\n",
       "</div>\n",
       "</article>\n",
       "</div>\n",
       "<div class=\"grid-square grid-people\">\n",
       "<article class=\"people\">\n",
       "<div class=\"grid-item\">\n",
       "<a href=\"https://www.khoury.northeastern.edu/people/cristina-nita-rotaru/\">\n",
       "<div class=\"grid-image\"><img alt=\"\" src=\"https://www.khoury.northeastern.edu/wp-content/uploads/2016/02/Cristina-Nita-Rotaru-index-image-e1456779197640.jpg\"/></div>\n",
       "<p class=\"roles\"><span class=\"role-29\">Administrative Staff</span> <span class=\"role-23\">Tenured and Tenure Track Faculty</span></p>\n",
       "<h3 class=\"person-name\">\n",
       "\t\t\t\t\t\t\t\t\tCristina Nita-Rotaru\t\t\t\t\t\t\t</h3>\n",
       "</a>\n",
       "<div class=\"position-list\">\n",
       "<p class=\"position\">Professor </p>\n",
       "<p class=\"position\">Associate Dean - Faculty</p>\n",
       "</div>\n",
       "</div>\n",
       "</article>\n",
       "</div>\n",
       "<div class=\"grid-square grid-people\">\n",
       "<article class=\"people\">\n",
       "<div class=\"grid-item\">\n",
       "<a href=\"https://www.khoury.northeastern.edu/people/guevara-noubir/\">\n",
       "<div class=\"grid-image\"><img alt=\"\" src=\"https://www.khoury.northeastern.edu/wp-content/uploads/2016/02/Guevara-Noubir-index-image-e1456779093303.jpg\"/></div>\n",
       "<p class=\"roles\"><span class=\"role-29\">Administrative Staff</span> <span class=\"role-23\">Tenured and Tenure Track Faculty</span></p>\n",
       "<h3 class=\"person-name\">\n",
       "\t\t\t\t\t\t\t\t\tGuevara Noubir\t\t\t\t\t\t\t</h3>\n",
       "</a>\n",
       "<div class=\"position-list\">\n",
       "<p class=\"position\">Professor</p>\n",
       "<p class=\"position\">Director - Cybersecurity &amp; Information Assurance Graduate Program</p>\n",
       "</div>\n",
       "</div>\n",
       "</article>\n",
       "</div>\n",
       "<div class=\"grid-square grid-people\">\n",
       "<article class=\"people\">\n",
       "<div class=\"grid-item\">\n",
       "<a href=\"https://www.khoury.northeastern.edu/people/alina-oprea/\">\n",
       "<div class=\"grid-image\"><img alt=\"\" src=\"https://www.khoury.northeastern.edu/wp-content/uploads/2016/08/Oprea_Alina-index-image.jpg\"/></div>\n",
       "<p class=\"roles\"><span class=\"role-23\">Tenured and Tenure Track Faculty</span></p>\n",
       "<h3 class=\"person-name\">\n",
       "\t\t\t\t\t\t\t\t\tAlina Oprea\t\t\t\t\t\t\t</h3>\n",
       "</a>\n",
       "<div class=\"position-list\">\n",
       "<p class=\"position\">Associate Professor</p>\n",
       "</div>\n",
       "</div>\n",
       "</article>\n",
       "</div>\n",
       "<div class=\"grid-square grid-people\">\n",
       "<article class=\"people\">\n",
       "<div class=\"grid-item\">\n",
       "<a href=\"https://www.khoury.northeastern.edu/people/andrea-grimes-parker/\">\n",
       "<div class=\"grid-image\"><img alt=\"\" src=\"https://www.khoury.northeastern.edu/wp-content/uploads/2016/02/Andrea-Parker-index-image-e1456779254698.jpg\"/></div>\n",
       "<p class=\"roles\"><span class=\"role-23\">Tenured and Tenure Track Faculty</span></p>\n",
       "<h3 class=\"person-name\">\n",
       "\t\t\t\t\t\t\t\t\tAndrea Grimes Parker\t\t\t\t\t\t\t</h3>\n",
       "</a>\n",
       "<div class=\"position-list\">\n",
       "<p class=\"position\">Assistant Professor</p>\n",
       "<p class=\"position\">Interdisciplinary with Bouvé College of Health Sciences</p>\n",
       "</div>\n",
       "</div>\n",
       "</article>\n",
       "</div>\n",
       "<div class=\"grid-square grid-people\">\n",
       "<article class=\"people\">\n",
       "<div class=\"grid-item\">\n",
       "<a href=\"https://www.khoury.northeastern.edu/people/rupal-patel/\">\n",
       "<div class=\"grid-image\"><img alt=\"\" src=\"https://www.khoury.northeastern.edu/wp-content/uploads/2016/03/Rupal-Patel-index-image.jpg\"/></div>\n",
       "<p class=\"roles\"><span class=\"role-23\">Tenured and Tenure Track Faculty</span></p>\n",
       "<h3 class=\"person-name\">\n",
       "\t\t\t\t\t\t\t\t\tRupal Patel\t\t\t\t\t\t\t</h3>\n",
       "</a>\n",
       "<div class=\"position-list\">\n",
       "<p class=\"position\">Professor</p>\n",
       "<p class=\"position\">Interdisciplinary with Bouvé College of Health Sciences</p>\n",
       "</div>\n",
       "</div>\n",
       "</article>\n",
       "</div>\n",
       "<div class=\"grid-square grid-people\">\n",
       "<article class=\"people\">\n",
       "<div class=\"grid-item\">\n",
       "<a href=\"https://www.khoury.northeastern.edu/people/robert-platt/\">\n",
       "<div class=\"grid-image\"><img alt=\"\" src=\"https://www.khoury.northeastern.edu/wp-content/uploads/2016/02/Rob-Platt-index-image-e1456759522529.jpg\"/></div>\n",
       "<p class=\"roles\"><span class=\"role-23\">Tenured and Tenure Track Faculty</span></p>\n",
       "<h3 class=\"person-name\">\n",
       "\t\t\t\t\t\t\t\t\tRobert Platt\t\t\t\t\t\t\t</h3>\n",
       "</a>\n",
       "<div class=\"position-list\">\n",
       "<p class=\"position\">Associate Professor</p>\n",
       "<p class=\"position\">Interdisciplinary with College of Engineering</p>\n",
       "</div>\n",
       "</div>\n",
       "</article>\n",
       "</div>\n",
       "<div class=\"grid-square grid-people\">\n",
       "<article class=\"people\">\n",
       "<div class=\"grid-item\">\n",
       "<a href=\"https://www.khoury.northeastern.edu/people/predrag-radivojac/\">\n",
       "<div class=\"grid-image\"><img alt=\"\" src=\"https://www.khoury.northeastern.edu/wp-content/uploads/2018/08/linderpix-NEU-9299-crop.jpg\"/></div>\n",
       "<p class=\"roles\"><span class=\"role-29\">Administrative Staff</span> <span class=\"role-23\">Tenured and Tenure Track Faculty</span></p>\n",
       "<h3 class=\"person-name\">\n",
       "\t\t\t\t\t\t\t\t\tPredrag Radivojac\t\t\t\t\t\t\t</h3>\n",
       "</a>\n",
       "<div class=\"position-list\">\n",
       "<p class=\"position\">Professor</p>\n",
       "<p class=\"position\">Associate Dean of Research</p>\n",
       "</div>\n",
       "</div>\n",
       "</article>\n",
       "</div>\n",
       "<div class=\"grid-square grid-people\">\n",
       "<article class=\"people\">\n",
       "<div class=\"grid-item\">\n",
       "<a href=\"https://www.khoury.northeastern.edu/people/rajmohan-rajaraman/\">\n",
       "<div class=\"grid-image\"><img alt=\"\" src=\"https://www.khoury.northeastern.edu/wp-content/uploads/2016/03/Rajmohan-Rajaraman-Index-Image.jpg\"/></div>\n",
       "<p class=\"roles\"><span class=\"role-23\">Tenured and Tenure Track Faculty</span></p>\n",
       "<h3 class=\"person-name\">\n",
       "\t\t\t\t\t\t\t\t\tRajmohan Rajaraman\t\t\t\t\t\t\t</h3>\n",
       "</a>\n",
       "<div class=\"position-list\">\n",
       "<p class=\"position\">Professor</p>\n",
       "</div>\n",
       "</div>\n",
       "</article>\n",
       "</div>\n",
       "<div class=\"grid-square grid-people\">\n",
       "<article class=\"people\">\n",
       "<div class=\"grid-item\">\n",
       "<a href=\"https://www.khoury.northeastern.edu/people/aanjhan-ranganathan/\">\n",
       "<div class=\"grid-image\"><img alt=\"\" src=\"https://www.khoury.northeastern.edu/wp-content/uploads/2017/08/IMG_4378-2-index.jpg\"/></div>\n",
       "<p class=\"roles\"><span class=\"role-23\">Tenured and Tenure Track Faculty</span></p>\n",
       "<h3 class=\"person-name\">\n",
       "\t\t\t\t\t\t\t\t\tAanjhan Ranganathan\t\t\t\t\t\t\t</h3>\n",
       "</a>\n",
       "<div class=\"position-list\">\n",
       "<p class=\"position\">Assistant Professor</p>\n",
       "</div>\n",
       "</div>\n",
       "</article>\n",
       "</div>\n",
       "<div class=\"grid-square grid-people\">\n",
       "<article class=\"people\">\n",
       "<div class=\"grid-item\">\n",
       "<a href=\"https://www.khoury.northeastern.edu/people/richard-rasala/\">\n",
       "<div class=\"grid-image\"><img alt=\"\" src=\"https://www.khoury.northeastern.edu/wp-content/uploads/2016/02/Richard-Rasala-index-image-e1456759549135.jpg\"/></div>\n",
       "<p class=\"roles\"><span class=\"role-23\">Tenured and Tenure Track Faculty</span></p>\n",
       "<h3 class=\"person-name\">\n",
       "\t\t\t\t\t\t\t\t\tRichard Rasala\t\t\t\t\t\t\t</h3>\n",
       "</a>\n",
       "<div class=\"position-list\">\n",
       "<p class=\"position\">Professor Emeritus</p>\n",
       "</div>\n",
       "</div>\n",
       "</article>\n",
       "</div>\n",
       "<div class=\"grid-square grid-people\">\n",
       "<article class=\"people\">\n",
       "<div class=\"grid-item\">\n",
       "<a href=\"https://www.khoury.northeastern.edu/people/mirek-riedewald/\">\n",
       "<div class=\"grid-image\"><img alt=\"\" src=\"https://www.khoury.northeastern.edu/wp-content/uploads/2016/02/linderpix-NEU-55350-crop.jpg\"/></div>\n",
       "<p class=\"roles\"><span class=\"role-23\">Tenured and Tenure Track Faculty</span></p>\n",
       "<h3 class=\"person-name\">\n",
       "\t\t\t\t\t\t\t\t\tMirek Riedewald\t\t\t\t\t\t\t</h3>\n",
       "</a>\n",
       "<div class=\"position-list\">\n",
       "<p class=\"position\">Associate Professor</p>\n",
       "</div>\n",
       "</div>\n",
       "</article>\n",
       "</div>\n",
       "<div class=\"grid-square grid-people\">\n",
       "<article class=\"people\">\n",
       "<div class=\"grid-item\">\n",
       "<a href=\"https://www.khoury.northeastern.edu/people/christoph-riedl/\">\n",
       "<div class=\"grid-image\"><img alt=\"\" src=\"https://www.khoury.northeastern.edu/wp-content/uploads/2016/02/Christoph-Riedl-index-image.jpg\"/></div>\n",
       "<p class=\"roles\"><span class=\"role-23\">Tenured and Tenure Track Faculty</span></p>\n",
       "<h3 class=\"person-name\">\n",
       "\t\t\t\t\t\t\t\t\tChristoph Riedl\t\t\t\t\t\t\t</h3>\n",
       "</a>\n",
       "<div class=\"position-list\">\n",
       "<p class=\"position\">Associate Professor</p>\n",
       "<p class=\"position\">Interdisciplinary with D'Amore-McKim School of Business</p>\n",
       "</div>\n",
       "</div>\n",
       "</article>\n",
       "</div>\n",
       "<div class=\"grid-square grid-people\">\n",
       "<article class=\"people\">\n",
       "<div class=\"grid-item\">\n",
       "<a href=\"https://www.khoury.northeastern.edu/people/william-robertson/\">\n",
       "<div class=\"grid-image\"><img alt=\"\" src=\"https://www.khoury.northeastern.edu/wp-content/uploads/2016/02/William-Robertson-index-image.jpg\"/></div>\n",
       "<p class=\"roles\"><span class=\"role-23\">Tenured and Tenure Track Faculty</span></p>\n",
       "<h3 class=\"person-name\">\n",
       "\t\t\t\t\t\t\t\t\tWilliam Robertson\t\t\t\t\t\t\t</h3>\n",
       "</a>\n",
       "<div class=\"position-list\">\n",
       "<p class=\"position\">Associate Professor</p>\n",
       "<p class=\"position\">Interdisciplinary with College of Engineering</p>\n",
       "</div>\n",
       "</div>\n",
       "</article>\n",
       "</div>\n",
       "<div class=\"grid-square grid-people\">\n",
       "<article class=\"people\">\n",
       "<div class=\"grid-item\">\n",
       "<a href=\"https://www.khoury.northeastern.edu/people/magy-seif-el-nasr/\">\n",
       "<div class=\"grid-image\"><img alt=\"\" src=\"https://www.khoury.northeastern.edu/wp-content/uploads/2016/02/Magy-Seif-ElNasr-index-image.jpg\"/></div>\n",
       "<p class=\"roles\"><span class=\"role-23\">Tenured and Tenure Track Faculty</span></p>\n",
       "<h3 class=\"person-name\">\n",
       "\t\t\t\t\t\t\t\t\tMagy Seif El-Nasr\t\t\t\t\t\t\t</h3>\n",
       "</a>\n",
       "<div class=\"position-list\">\n",
       "<p class=\"position\">Associate Professor</p>\n",
       "<p class=\"position\">Interdisciplinary with College of Arts, Media and Design</p>\n",
       "</div>\n",
       "</div>\n",
       "</article>\n",
       "</div>\n",
       "<div class=\"grid-square grid-people\">\n",
       "<article class=\"people\">\n",
       "<div class=\"grid-item\">\n",
       "<a href=\"https://www.khoury.northeastern.edu/people/abhi-shelat/\">\n",
       "<div class=\"grid-image\"><img alt=\"\" src=\"https://www.khoury.northeastern.edu/wp-content/uploads/2016/08/Shelat_Abhi-index-image.jpg\"/></div>\n",
       "<p class=\"roles\"><span class=\"role-23\">Tenured and Tenure Track Faculty</span></p>\n",
       "<h3 class=\"person-name\">\n",
       "\t\t\t\t\t\t\t\t\tAbhi Shelat\t\t\t\t\t\t\t</h3>\n",
       "</a>\n",
       "<div class=\"position-list\">\n",
       "<p class=\"position\">Associate Professor</p>\n",
       "</div>\n",
       "</div>\n",
       "</article>\n",
       "</div>\n",
       "<div class=\"grid-square grid-people\">\n",
       "<article class=\"people\">\n",
       "<div class=\"grid-item\">\n",
       "<a href=\"https://www.khoury.northeastern.edu/people/olin-shivers/\">\n",
       "<div class=\"grid-image\"><img alt=\"\" src=\"https://www.khoury.northeastern.edu/wp-content/uploads/2016/02/Olin-Shivers-index-image-e1456778933241.jpg\"/></div>\n",
       "<p class=\"roles\"><span class=\"role-23\">Tenured and Tenure Track Faculty</span></p>\n",
       "<h3 class=\"person-name\">\n",
       "\t\t\t\t\t\t\t\t\tOlin Shivers\t\t\t\t\t\t\t</h3>\n",
       "</a>\n",
       "<div class=\"position-list\">\n",
       "<p class=\"position\">Professor</p>\n",
       "</div>\n",
       "</div>\n",
       "</article>\n",
       "</div>\n",
       "<div class=\"grid-square grid-people\">\n",
       "<article class=\"people\">\n",
       "<div class=\"grid-item\">\n",
       "<a href=\"https://www.khoury.northeastern.edu/people/david-smith/\">\n",
       "<div class=\"grid-image\"><img alt=\"\" src=\"https://www.khoury.northeastern.edu/wp-content/uploads/2016/02/David-Smith-index-image-e1456779166749.jpg\"/></div>\n",
       "<p class=\"roles\"><span class=\"role-23\">Tenured and Tenure Track Faculty</span></p>\n",
       "<h3 class=\"person-name\">\n",
       "\t\t\t\t\t\t\t\t\tDavid Smith\t\t\t\t\t\t\t</h3>\n",
       "</a>\n",
       "<div class=\"position-list\">\n",
       "<p class=\"position\">Associate Professor </p>\n",
       "</div>\n",
       "</div>\n",
       "</article>\n",
       "</div>\n",
       "<div class=\"grid-square grid-people\">\n",
       "<article class=\"people\">\n",
       "<div class=\"grid-item\">\n",
       "<a href=\"https://www.khoury.northeastern.edu/people/ravi-sundaram/\">\n",
       "<div class=\"grid-image\"><img alt=\"\" src=\"https://www.khoury.northeastern.edu/wp-content/uploads/2016/03/Ravi-Sundaram-Index-Image.jpg\"/></div>\n",
       "<p class=\"roles\"><span class=\"role-23\">Tenured and Tenure Track Faculty</span></p>\n",
       "<h3 class=\"person-name\">\n",
       "\t\t\t\t\t\t\t\t\tRavi Sundaram\t\t\t\t\t\t\t</h3>\n",
       "</a>\n",
       "<div class=\"position-list\">\n",
       "<p class=\"position\">Professor</p>\n",
       "</div>\n",
       "</div>\n",
       "</article>\n",
       "</div>\n",
       "<div class=\"grid-square grid-people\">\n",
       "<article class=\"people\">\n",
       "<div class=\"grid-item\">\n",
       "<a href=\"https://www.khoury.northeastern.edu/people/frank-tip/\">\n",
       "<div class=\"grid-image\"><img alt=\"\" src=\"https://www.khoury.northeastern.edu/wp-content/uploads/2016/08/Tip_Frank_linderpix-NEU-55674-crop.jpg\"/></div>\n",
       "<p class=\"roles\"><span class=\"role-29\">Administrative Staff</span> <span class=\"role-23\">Tenured and Tenure Track Faculty</span></p>\n",
       "<h3 class=\"person-name\">\n",
       "\t\t\t\t\t\t\t\t\tFrank Tip\t\t\t\t\t\t\t</h3>\n",
       "</a>\n",
       "<div class=\"position-list\">\n",
       "<p class=\"position\">Professor</p>\n",
       "<p class=\"position\">Associate Dean for Graduate Programs</p>\n",
       "</div>\n",
       "</div>\n",
       "</article>\n",
       "</div>\n",
       "<div class=\"grid-square grid-people\">\n",
       "<article class=\"people\">\n",
       "<div class=\"grid-item\">\n",
       "<a href=\"https://www.khoury.northeastern.edu/people/stavros-tripakis/\">\n",
       "<div class=\"grid-image\"><img alt=\"\" src=\"https://www.khoury.northeastern.edu/wp-content/uploads/2017/08/linderpix-NEU-9206-crop.jpg\"/></div>\n",
       "<p class=\"roles\"><span class=\"role-23\">Tenured and Tenure Track Faculty</span></p>\n",
       "<h3 class=\"person-name\">\n",
       "\t\t\t\t\t\t\t\t\tStavros Tripakis\t\t\t\t\t\t\t</h3>\n",
       "</a>\n",
       "<div class=\"position-list\">\n",
       "<p class=\"position\">Associate Professor</p>\n",
       "</div>\n",
       "</div>\n",
       "</article>\n",
       "</div>\n",
       "<div class=\"grid-square grid-people\">\n",
       "<article class=\"people\">\n",
       "<div class=\"grid-item\">\n",
       "<a href=\"https://www.khoury.northeastern.edu/people/jonathan-ullman/\">\n",
       "<div class=\"grid-image\"><img alt=\"\" src=\"https://www.khoury.northeastern.edu/wp-content/uploads/2016/02/Jonathan-Ullman-index-image-e1456779392351.jpg\"/></div>\n",
       "<p class=\"roles\"><span class=\"role-23\">Tenured and Tenure Track Faculty</span></p>\n",
       "<h3 class=\"person-name\">\n",
       "\t\t\t\t\t\t\t\t\tJonathan Ullman\t\t\t\t\t\t\t</h3>\n",
       "</a>\n",
       "<div class=\"position-list\">\n",
       "<p class=\"position\">Assistant Professor</p>\n",
       "</div>\n",
       "</div>\n",
       "</article>\n",
       "</div>\n",
       "<div class=\"grid-square grid-people\">\n",
       "<article class=\"people\">\n",
       "<div class=\"grid-item\">\n",
       "<a href=\"https://www.khoury.northeastern.edu/people/jan-willem-van-de-meent/\">\n",
       "<div class=\"grid-image\"><img alt=\"\" src=\"https://www.khoury.northeastern.edu/wp-content/uploads/2016/09/van-de-Meent_Jan-Willem-index-image.jpg\"/></div>\n",
       "<p class=\"roles\"><span class=\"role-23\">Tenured and Tenure Track Faculty</span></p>\n",
       "<h3 class=\"person-name\">\n",
       "\t\t\t\t\t\t\t\t\tJan-Willem van de Meent\t\t\t\t\t\t\t</h3>\n",
       "</a>\n",
       "<div class=\"position-list\">\n",
       "<p class=\"position\">Assistant Professor</p>\n",
       "</div>\n",
       "</div>\n",
       "</article>\n",
       "</div>\n",
       "<div class=\"grid-square grid-people\">\n",
       "<article class=\"people\">\n",
       "<div class=\"grid-item\">\n",
       "<a href=\"https://www.khoury.northeastern.edu/people/alessandrovespignani/\">\n",
       "<div class=\"grid-image\"><img alt=\"\" src=\"https://www.khoury.northeastern.edu/wp-content/uploads/2016/04/linderpix111915-avespignani-9987-crop.jpg\"/></div>\n",
       "<p class=\"roles\"><span class=\"role-23\">Tenured and Tenure Track Faculty</span></p>\n",
       "<h3 class=\"person-name\">\n",
       "\t\t\t\t\t\t\t\t\tAlessandro Vespignani\t\t\t\t\t\t\t</h3>\n",
       "</a>\n",
       "<div class=\"position-list\">\n",
       "<p class=\"position\">Sternberg Family Distinguished Professor</p>\n",
       "<p class=\"position\">Director - Network Science Institute</p>\n",
       "<p class=\"position\">Interdisciplinary with College of Science and Bouvé College of Health Sciences</p>\n",
       "</div>\n",
       "</div>\n",
       "</article>\n",
       "</div>\n",
       "<div class=\"grid-square grid-people\">\n",
       "<article class=\"people\">\n",
       "<div class=\"grid-item\">\n",
       "<a href=\"https://www.khoury.northeastern.edu/people/emanuele-viola/\">\n",
       "<div class=\"grid-image\"><img alt=\"\" src=\"https://www.khoury.northeastern.edu/wp-content/uploads/2016/03/Emanuele-Viola-Index-Image.jpg\"/></div>\n",
       "<p class=\"roles\"><span class=\"role-23\">Tenured and Tenure Track Faculty</span></p>\n",
       "<h3 class=\"person-name\">\n",
       "\t\t\t\t\t\t\t\t\tEmanuele Viola\t\t\t\t\t\t\t</h3>\n",
       "</a>\n",
       "<div class=\"position-list\">\n",
       "<p class=\"position\">Associate Professor</p>\n",
       "</div>\n",
       "</div>\n",
       "</article>\n",
       "</div>\n",
       "<div class=\"grid-square grid-people\">\n",
       "<article class=\"people\">\n",
       "<div class=\"grid-item\">\n",
       "<a href=\"https://www.khoury.northeastern.edu/people/jan-vitek/\">\n",
       "<div class=\"grid-image\"><img alt=\"\" src=\"https://www.khoury.northeastern.edu/wp-content/uploads/2016/02/Jan-Vitek-index-image.jpg\"/></div>\n",
       "<p class=\"roles\"><span class=\"role-23\">Tenured and Tenure Track Faculty</span></p>\n",
       "<h3 class=\"person-name\">\n",
       "\t\t\t\t\t\t\t\t\tJan Vitek\t\t\t\t\t\t\t</h3>\n",
       "</a>\n",
       "<div class=\"position-list\">\n",
       "<p class=\"position\">Professor</p>\n",
       "</div>\n",
       "</div>\n",
       "</article>\n",
       "</div>\n",
       "<div class=\"grid-square grid-people\">\n",
       "<article class=\"people\">\n",
       "<div class=\"grid-item\">\n",
       "<a href=\"https://www.khoury.northeastern.edu/people/olga-vitek/\">\n",
       "<div class=\"grid-image\"><img alt=\"\" src=\"https://www.khoury.northeastern.edu/wp-content/uploads/2016/02/Olga-Vitek-index-image-e1456778947471.jpg\"/></div>\n",
       "<p class=\"roles\"><span class=\"role-23\">Tenured and Tenure Track Faculty</span></p>\n",
       "<h3 class=\"person-name\">\n",
       "\t\t\t\t\t\t\t\t\tOlga Vitek\t\t\t\t\t\t\t</h3>\n",
       "</a>\n",
       "<div class=\"position-list\">\n",
       "<p class=\"position\">Professor</p>\n",
       "<p class=\"position\">Director - MS in Data Science Program</p>\n",
       "</div>\n",
       "</div>\n",
       "</article>\n",
       "</div>\n",
       "<div class=\"grid-square grid-people\">\n",
       "<article class=\"people\">\n",
       "<div class=\"grid-item\">\n",
       "<a href=\"https://www.khoury.northeastern.edu/people/thomas-wahl/\">\n",
       "<div class=\"grid-image\"><img alt=\"\" src=\"https://www.khoury.northeastern.edu/wp-content/uploads/2016/02/Thomas-Wahl-index-image.jpg\"/></div>\n",
       "<p class=\"roles\"><span class=\"role-23\">Tenured and Tenure Track Faculty</span></p>\n",
       "<h3 class=\"person-name\">\n",
       "\t\t\t\t\t\t\t\t\tThomas Wahl\t\t\t\t\t\t\t</h3>\n",
       "</a>\n",
       "<div class=\"position-list\">\n",
       "<p class=\"position\">Associate Professor</p>\n",
       "</div>\n",
       "</div>\n",
       "</article>\n",
       "</div>\n",
       "<div class=\"grid-square grid-people\">\n",
       "<article class=\"people\">\n",
       "<div class=\"grid-item\">\n",
       "<a href=\"https://www.khoury.northeastern.edu/people/byron-wallace/\">\n",
       "<div class=\"grid-image\"><img alt=\"\" src=\"https://www.khoury.northeastern.edu/wp-content/uploads/2016/08/Wallace_Byron-index-image.jpg\"/></div>\n",
       "<p class=\"roles\"><span class=\"role-23\">Tenured and Tenure Track Faculty</span></p>\n",
       "<h3 class=\"person-name\">\n",
       "\t\t\t\t\t\t\t\t\tByron Wallace\t\t\t\t\t\t\t</h3>\n",
       "</a>\n",
       "<div class=\"position-list\">\n",
       "<p class=\"position\">Assistant Professor</p>\n",
       "<p class=\"position\">Director - BS in Data Science Program</p>\n",
       "</div>\n",
       "</div>\n",
       "</article>\n",
       "</div>\n",
       "<div class=\"grid-square grid-people\">\n",
       "<article class=\"people\">\n",
       "<div class=\"grid-item\">\n",
       "<a href=\"https://www.khoury.northeastern.edu/people/mitchell-wand/\">\n",
       "<div class=\"grid-image\"><img alt=\"\" src=\"https://www.khoury.northeastern.edu/wp-content/uploads/2016/02/Mitch-Wand-index-image.jpg\"/></div>\n",
       "<p class=\"roles\"><span class=\"role-23\">Tenured and Tenure Track Faculty</span></p>\n",
       "<h3 class=\"person-name\">\n",
       "\t\t\t\t\t\t\t\t\tMitchell Wand\t\t\t\t\t\t\t</h3>\n",
       "</a>\n",
       "<div class=\"position-list\">\n",
       "<p class=\"position\">Part-Time Lecturer</p>\n",
       "<p class=\"position\">Professor Emeritus</p>\n",
       "</div>\n",
       "</div>\n",
       "</article>\n",
       "</div>\n",
       "<div class=\"grid-square grid-people\">\n",
       "<article class=\"people\">\n",
       "<div class=\"grid-item\">\n",
       "<a href=\"https://www.khoury.northeastern.edu/people/lu-wang/\">\n",
       "<div class=\"grid-image\"><img alt=\"\" src=\"https://www.khoury.northeastern.edu/wp-content/uploads/2016/02/Lu-Wang-index-image.jpg\"/></div>\n",
       "<p class=\"roles\"><span class=\"role-23\">Tenured and Tenure Track Faculty</span></p>\n",
       "<h3 class=\"person-name\">\n",
       "\t\t\t\t\t\t\t\t\tLu Wang\t\t\t\t\t\t\t</h3>\n",
       "</a>\n",
       "<div class=\"position-list\">\n",
       "<p class=\"position\">Assistant Professor</p>\n",
       "</div>\n",
       "</div>\n",
       "</article>\n",
       "</div>\n",
       "<div class=\"grid-square grid-people\">\n",
       "<article class=\"people\">\n",
       "<div class=\"grid-item\">\n",
       "<a href=\"https://www.khoury.northeastern.edu/people/daniel-wichs/\">\n",
       "<div class=\"grid-image\"><img alt=\"\" src=\"https://www.khoury.northeastern.edu/wp-content/uploads/2016/02/Daniel-Wichs-index-image.jpg\"/></div>\n",
       "<p class=\"roles\"><span class=\"role-23\">Tenured and Tenure Track Faculty</span></p>\n",
       "<h3 class=\"person-name\">\n",
       "\t\t\t\t\t\t\t\t\tDaniel Wichs\t\t\t\t\t\t\t</h3>\n",
       "</a>\n",
       "<div class=\"position-list\">\n",
       "<p class=\"position\">Associate Professor</p>\n",
       "</div>\n",
       "</div>\n",
       "</article>\n",
       "</div>\n",
       "<div class=\"grid-square grid-people\">\n",
       "<article class=\"people\">\n",
       "<div class=\"grid-item\">\n",
       "<a href=\"https://www.khoury.northeastern.edu/people/christo-wilson/\">\n",
       "<div class=\"grid-image\"><img alt=\"\" src=\"https://www.khoury.northeastern.edu/wp-content/uploads/2016/02/Christo-Wilson-index-image.jpg\"/></div>\n",
       "<p class=\"roles\"><span class=\"role-29\">Administrative Staff</span> <span class=\"role-23\">Tenured and Tenure Track Faculty</span></p>\n",
       "<h3 class=\"person-name\">\n",
       "\t\t\t\t\t\t\t\t\tChristo Wilson\t\t\t\t\t\t\t</h3>\n",
       "</a>\n",
       "<div class=\"position-list\">\n",
       "<p class=\"position\">Associate Professor</p>\n",
       "<p class=\"position\">Director of the BS in Cybersecurity Program</p>\n",
       "</div>\n",
       "</div>\n",
       "</article>\n",
       "</div>\n",
       "<div class=\"grid-square grid-people\">\n",
       "<article class=\"people\">\n",
       "<div class=\"grid-item\">\n",
       "<a href=\"https://www.khoury.northeastern.edu/people/lawson-wong/\">\n",
       "<div class=\"grid-image\"><img alt=\"\" src=\"https://www.khoury.northeastern.edu/wp-content/uploads/2018/08/linderpix-NEU-9067-crop-index-new.jpg\"/></div>\n",
       "<p class=\"roles\"><span class=\"role-23\">Tenured and Tenure Track Faculty</span></p>\n",
       "<h3 class=\"person-name\">\n",
       "\t\t\t\t\t\t\t\t\tLawson Wong\t\t\t\t\t\t\t</h3>\n",
       "</a>\n",
       "<div class=\"position-list\">\n",
       "<p class=\"position\">Assistant Professor</p>\n",
       "</div>\n",
       "</div>\n",
       "</article>\n",
       "</div>\n",
       "<div class=\"grid-square grid-people\">\n",
       "<article class=\"people\">\n",
       "<div class=\"grid-item\">\n",
       "<a href=\"https://www.khoury.northeastern.edu/people/rose-yu/\">\n",
       "<div class=\"grid-image\"><img alt=\"\" src=\"https://www.khoury.northeastern.edu/wp-content/uploads/2017/08/linderpix-NEU-4233-crop.jpg\"/></div>\n",
       "<p class=\"roles\"><span class=\"role-23\">Tenured and Tenure Track Faculty</span></p>\n",
       "<h3 class=\"person-name\">\n",
       "\t\t\t\t\t\t\t\t\tRose Yu\t\t\t\t\t\t\t</h3>\n",
       "</a>\n",
       "<div class=\"position-list\">\n",
       "<p class=\"position\">Assistant Professor</p>\n",
       "</div>\n",
       "</div>\n",
       "</article>\n",
       "</div>\n",
       "</div>\n",
       "</div>\n",
       "</div>\n",
       "</section>\n",
       "</div><!-- / .row -->\n",
       "</main>\n",
       "<footer id=\"site-footer\" role=\"contentinfo\">\n",
       "<div class=\"container\">\n",
       "<div class=\"row\" id=\"menu-prefooter\">\n",
       "<div class=\"footer-logo\">\n",
       "<!-- CCIS wordmark only -->\n",
       "<svg style=\"enable-background:new 0 0 323 20.5;\" version=\"1.1\" viewbox=\"0 0 323 20.5\" x=\"0px\" xml:space=\"preserve\" xmlns=\"http://www.w3.org/2000/svg\" xmlns:xlink=\"http://www.w3.org/1999/xlink\" y=\"0px\">\n",
       "<style type=\"text/css\">\n",
       "\t\t\t\t\t.st0{fill:#625445;}\n",
       "\t\t\t\t</style>\n",
       "<g>\n",
       "<path class=\"st0\" d=\"M0,0.3h2.6v7h0l4.9-7h2.8L5.7,7.1l5.1,9.3H7.9L4,9.2l-1.4,2v5.2H0V0.3z\"></path>\n",
       "<path class=\"st0\" d=\"M11.5,0.3h2.4v5.3l0.1,0c0.6-1,1.8-1.7,3-1.7c1.8,0,3,0.8,3,3.3v9.1h-2.4V8.1c0-1.6-0.5-2.2-1.7-2.2\n",
       "\t\t\t\t\t\tc-1,0-1.9,0.8-1.9,2.4v8.1h-2.4L11.5,0.3z\"></path>\n",
       "<path class=\"st0\" d=\"M26.4,4c3.5,0,4.5,2.6,4.5,6.4s-1.1,6.4-4.5,6.4s-4.5-2.6-4.5-6.4S22.9,4,26.4,4z M26.4,14.9\n",
       "\t\t\t\t\t\tc1.8,0,2.1-1.5,2.1-4.6c0-2.7-0.3-4.6-2.1-4.6c-1.8,0-2.1,1.9-2.1,4.6C24.3,13.4,24.6,14.9,26.4,14.9z\"></path>\n",
       "<path class=\"st0\" d=\"M39,15L39,15c-0.7,1.1-1.9,1.8-3.2,1.7c-1.8,0-3-0.8-3-4V4.3h2.4V13c0,1.3,0.6,1.8,1.6,1.8c1,0,2-0.7,2-2V4.3\n",
       "\t\t\t\t\t\th2.4v12.1h-2.3L39,15z\"></path>\n",
       "<path class=\"st0\" d=\"M43.6,4.3H46v1.9h0C46.6,4.8,47.5,4,48.9,4c0.2,0,0.4,0,0.6,0.1v2.5c-0.3-0.1-0.7-0.1-1-0.1\n",
       "\t\t\t\t\t\tc-1.1,0-2.4,0.5-2.4,2.7v7.3h-2.4L43.6,4.3z\"></path>\n",
       "<path class=\"st0\" d=\"M52.7,4.3l2.1,9.1h0l1.9-9.1h2.5L56,16.8c-0.9,3.3-1.7,3.7-4.2,3.7c-0.3,0-0.6,0-1-0.1v-1.9\n",
       "\t\t\t\t\t\tc0.3,0.1,0.5,0.1,0.8,0.1c0.8,0,1.4-0.2,1.6-0.9l0.3-1L50.1,4.3L52.7,4.3z\"></path>\n",
       "<path class=\"st0\" d=\"M76.1,10.6V11c0,2.9-1.2,5.7-4.9,5.7c-4,0-5.3-2.6-5.3-8.3S67.1,0,71.2,0C75.8,0,76,3.4,76,5v0.3h-2.6V5.1\n",
       "\t\t\t\t\t\tc0-1.5-0.4-3.2-2.3-3.1c-1.9,0-2.7,1.2-2.7,6.3s0.9,6.5,2.7,6.5c2.1,0,2.4-2.4,2.4-3.9v-0.3L76.1,10.6z\"></path>\n",
       "<path class=\"st0\" d=\"M81.8,4c3.5,0,4.5,2.6,4.5,6.4s-1.1,6.4-4.5,6.4s-4.5-2.6-4.5-6.4S78.3,4,81.8,4z M81.8,14.9\n",
       "\t\t\t\t\t\tc1.8,0,2.1-1.5,2.1-4.6c0-2.7-0.3-4.6-2.1-4.6s-2.1,1.9-2.1,4.6C79.7,13.4,80,14.9,81.8,14.9z\"></path>\n",
       "<path class=\"st0\" d=\"M88.3,0.3h2.4v16.1h-2.4V0.3z\"></path>\n",
       "<path class=\"st0\" d=\"M93.3,0.3h2.4v16.1h-2.4V0.3z\"></path>\n",
       "<path class=\"st0\" d=\"M100.3,10.6v0.7c0,1.6,0.2,3.7,2,3.7c1.7,0,1.9-2,1.9-2.7h2.3c0,2.7-1.6,4.4-4.3,4.4c-2,0-4.4-0.6-4.4-6.2\n",
       "\t\t\t\t\t\tc0-3.2,0.7-6.5,4.5-6.5c3.4,0,4.3,2,4.3,5.4v1.3L100.3,10.6z M104.2,9V8.3c0-1.5-0.5-2.7-1.9-2.7c-1.6,0-2,1.5-2,3.1V9L104.2,9z\"></path>\n",
       "<path class=\"st0\" d=\"M111,17.4c0,0.7,0.7,1.4,1.8,1.4c1.3,0,2-0.9,2-2.3v-2h0c-0.5,1.1-1.6,1.7-2.7,1.7c-2.8,0-3.6-2.8-3.6-6.1\n",
       "\t\t\t\t\t\tc0-2.7,0.4-6.2,3.8-6.2c1.4,0,2.4,0.9,2.7,1.8h0V4.3h2.3v11.5c0,2.9-1.3,4.7-4.5,4.7c-3.6,0-4-2.1-4-3.1L111,17.4z M112.7,14.4\n",
       "\t\t\t\t\t\tc1.9,0,2.1-2.4,2.1-4.3c0-2-0.2-4.2-1.9-4.2c-1.8,0-2,1.8-2,4C110.8,12,110.9,14.4,112.7,14.4z\"></path>\n",
       "<path class=\"st0\" d=\"M121.5,10.6v0.7c0,1.6,0.2,3.7,2,3.7c1.7,0,1.9-2,1.9-2.7h2.3c0,2.7-1.6,4.4-4.3,4.4c-2,0-4.4-0.6-4.4-6.2\n",
       "\t\t\t\t\t\tc0-3.2,0.7-6.5,4.5-6.5c3.4,0,4.3,2,4.3,5.4v1.3L121.5,10.6z M125.4,9V8.3c0-1.5-0.5-2.7-1.9-2.7c-1.6,0-2,1.5-2,3.1V9L125.4,9z\"></path>\n",
       "<path class=\"st0\" d=\"M139.3,4c3.5,0,4.5,2.6,4.5,6.4s-1.1,6.4-4.5,6.4s-4.5-2.6-4.5-6.4S135.8,4,139.3,4z M139.3,14.9\n",
       "\t\t\t\t\t\tc1.8,0,2.1-1.5,2.1-4.6c0-2.7-0.3-4.6-2.1-4.6s-2.1,1.9-2.1,4.6C137.2,13.4,137.5,14.9,139.3,14.9z\"></path>\n",
       "<path class=\"st0\" d=\"M146.4,6.1h-1.7V4.3h1.7V3.2c0-2.3,1.1-3,3.1-3c0.4,0,0.9,0,1.3,0.1v1.9h-0.7c-0.9,0-1.3,0.3-1.3,1.1v1.1h2\n",
       "\t\t\t\t\t\tv1.8h-2v10.3h-2.4L146.4,6.1z\"></path>\n",
       "<path class=\"st0\" d=\"M167.3,10.6V11c0,2.9-1.2,5.7-4.9,5.7c-4,0-5.3-2.6-5.3-8.3s1.3-8.3,5.3-8.3c4.6,0,4.8,3.4,4.8,5v0.3h-2.6V5.1\n",
       "\t\t\t\t\t\tc0-1.5-0.5-3.2-2.3-3.1c-1.9,0-2.7,1.2-2.7,6.3s0.9,6.5,2.7,6.5c2.1,0,2.4-2.4,2.4-3.9v-0.3L167.3,10.6z\"></path>\n",
       "<path class=\"st0\" d=\"M173,4c3.5,0,4.5,2.6,4.5,6.4s-1.1,6.4-4.5,6.4c-3.4,0-4.5-2.6-4.5-6.4S169.5,4,173,4z M173,14.9\n",
       "\t\t\t\t\t\tc1.8,0,2.1-1.5,2.1-4.6c0-2.7-0.3-4.6-2.1-4.6s-2.1,1.9-2.1,4.6C171,13.4,171.3,14.9,173,14.9z\"></path>\n",
       "<path class=\"st0\" d=\"M179.5,4.3h2.3v1.4h0.1c0.6-1.1,1.7-1.7,2.9-1.7c1.7,0,2.5,0.8,2.8,1.8c0.7-1.2,1.6-1.8,3.1-1.8\n",
       "\t\t\t\t\t\tc1.7,0,2.9,0.9,2.9,3.2v9.2h-2.4V8.1c0-1.6-0.5-2.2-1.5-2.2c-1,0-1.9,0.8-1.9,2.4v8.1h-2.4V8.1c0-1.6-0.5-2.2-1.5-2.2\n",
       "\t\t\t\t\t\tc-1,0-1.9,0.8-1.9,2.4v8.1h-2.4L179.5,4.3z\"></path>\n",
       "<path class=\"st0\" d=\"M196.1,4.3h2.3v1.5h0c0.5-1.1,1.4-1.8,2.7-1.8c2.8,0,3.9,2.4,3.9,6.5c0,5.1-2.1,6.2-3.7,6.2\n",
       "\t\t\t\t\t\tc-1.3,0-2.3-0.7-2.7-1.7h0v5.4h-2.4L196.1,4.3z M200.4,14.8c1.4,0,2-1,2-4.4c0-2.7-0.4-4.5-2-4.5c-1.7,0-2,1.7-2,4.3\n",
       "\t\t\t\t\t\tC198.4,13.1,198.7,14.8,200.4,14.8L200.4,14.8z\"></path>\n",
       "<path class=\"st0\" d=\"M213.1,15L213.1,15c-0.7,1.1-1.9,1.8-3.2,1.7c-1.8,0-3-0.8-3-4V4.3h2.4V13c0,1.3,0.6,1.8,1.6,1.8\n",
       "\t\t\t\t\t\tc1,0,2-0.7,2-2V4.3h2.4v12.1h-2.3L213.1,15z\"></path>\n",
       "<path class=\"st0\" d=\"M216.6,4.3h1.7V0.8h2.4v3.4h2v1.8h-2v7.2c0,0.9,0.3,1.3,1.1,1.3c0.3,0,0.6,0,0.9-0.1v1.8\n",
       "\t\t\t\t\t\tc-0.6,0.1-1.3,0.2-2,0.2c-1.6,0-2.5-0.4-2.5-2.9V6.1h-1.7L216.6,4.3z\"></path>\n",
       "<path class=\"st0\" d=\"M226.1,10.6v0.7c0,1.6,0.2,3.7,2,3.7c1.7,0,1.9-2,1.9-2.7h2.3c0,2.7-1.6,4.4-4.3,4.4c-2,0-4.4-0.6-4.4-6.2\n",
       "\t\t\t\t\t\tc0-3.2,0.7-6.5,4.5-6.5c3.4,0,4.3,2,4.3,5.4v1.3L226.1,10.6z M230,9V8.3c0-1.5-0.5-2.7-1.9-2.7c-1.6,0-2,1.5-2,3.1V9L230,9z\"></path>\n",
       "<path class=\"st0\" d=\"M234.4,4.3h2.4v1.9h0c0.5-1.3,1.4-2.2,2.8-2.2c0.2,0,0.4,0,0.6,0.1v2.5c-0.3-0.1-0.7-0.1-1-0.1\n",
       "\t\t\t\t\t\tc-1.1,0-2.4,0.5-2.4,2.7v7.3h-2.4L234.4,4.3z\"></path>\n",
       "<path class=\"st0\" d=\"M249,11.4v0.4c0,2,0.9,2.9,2.6,2.9c1.6,0,2.4-1.1,2.4-2.3c0-1.7-0.9-2.4-2.3-2.9L250,9\n",
       "\t\t\t\t\t\tc-2.3-0.9-3.4-2.1-3.4-4.4c0-2.9,2-4.5,5-4.5c4.1,0,4.5,2.6,4.5,4.2v0.4h-2.6V4.3c0-1.5-0.7-2.3-2.3-2.3c-1.1,0-2.2,0.6-2.2,2.3\n",
       "\t\t\t\t\t\tc0,1.4,0.7,2.1,2.4,2.7l1.7,0.6c2.3,0.8,3.3,2,3.3,4.3c0,3.4-2.1,4.8-5.3,4.8c-4,0-4.9-2.7-4.9-4.9v-0.4H249z\"></path>\n",
       "<path class=\"st0\" d=\"M266.7,12c-0.2,2.9-1.2,4.7-4.1,4.7c-3.5,0-4.5-2.6-4.5-6.4s1-6.4,4.5-6.4c3.6,0,4.2,2.8,4.2,4.3h-2.4\n",
       "\t\t\t\t\t\tc0-1.1-0.3-2.6-1.7-2.5c-1.8,0-2.1,1.9-2.1,4.6s0.3,4.6,2.1,4.6c1.3,0,1.8-1.1,1.8-2.9L266.7,12z\"></path>\n",
       "<path class=\"st0\" d=\"M268.7,0.1h2.4v2.4h-2.4V0.1z M268.7,4.3h2.4v12.1h-2.4V4.3z\"></path>\n",
       "<path class=\"st0\" d=\"M275.6,10.6v0.7c0,1.6,0.2,3.7,2,3.7c1.7,0,1.9-2,1.9-2.7h2.3c0,2.7-1.6,4.4-4.3,4.4c-2,0-4.4-0.6-4.4-6.2\n",
       "\t\t\t\t\t\tc0-3.2,0.7-6.5,4.5-6.5c3.4,0,4.3,2,4.3,5.4v1.3L275.6,10.6z M279.5,9V8.3c0-1.5-0.5-2.7-1.9-2.7c-1.6,0-2,1.5-2,3.1V9L279.5,9z\"></path>\n",
       "<path class=\"st0\" d=\"M284,4.3h2.3v1.4h0.1c0.6-1.1,1.8-1.8,3.1-1.7c1.8,0,3,0.8,3,3.3v9.1H290V8.1c0-1.6-0.5-2.2-1.7-2.2\n",
       "\t\t\t\t\t\tc-1,0-1.9,0.8-1.9,2.4v8.1H284L284,4.3z\"></path>\n",
       "<path class=\"st0\" d=\"M303,12c-0.2,2.9-1.1,4.7-4.1,4.7c-3.5,0-4.5-2.6-4.5-6.4s1-6.4,4.5-6.4c3.6,0,4.2,2.8,4.2,4.3h-2.4\n",
       "\t\t\t\t\t\tc0-1.1-0.3-2.6-1.7-2.5c-1.8,0-2.1,1.9-2.1,4.6s0.3,4.6,2.1,4.6c1.3,0,1.8-1.1,1.8-2.9L303,12z\"></path>\n",
       "<path class=\"st0\" d=\"M306.9,10.6v0.7c0,1.6,0.2,3.7,2,3.7c1.7,0,1.9-2,1.9-2.7h2.3c0,2.7-1.6,4.4-4.3,4.4c-2,0-4.4-0.6-4.4-6.2\n",
       "\t\t\t\t\t\tc0-3.2,0.7-6.5,4.5-6.5c3.4,0,4.3,2,4.3,5.4v1.3L306.9,10.6z M310.8,9V8.3c0-1.5-0.5-2.7-1.9-2.7c-1.6,0-2,1.5-2,3.1V9L310.8,9z\"></path>\n",
       "<path class=\"st0\" d=\"M320.4,7.8V7.5c0-1-0.3-1.9-1.6-1.9c-1,0-1.7,0.4-1.7,1.6c0,0.9,0.4,1.3,1.7,1.8l1.6,0.5\n",
       "\t\t\t\t\t\tc1.8,0.6,2.6,1.6,2.6,3.5c0,2.6-1.9,3.7-4.3,3.7c-3.1,0-4-1.4-4-3.8v-0.4h2.2v0.4c0,1.4,0.5,2.2,1.9,2.2c1.3,0,2-0.7,2-1.8\n",
       "\t\t\t\t\t\tc0-0.9-0.5-1.5-1.3-1.8l-2-0.7c-1.8-0.6-2.6-1.6-2.6-3.5c0-2.3,1.6-3.3,4.1-3.3c3.1,0,3.8,1.8,3.8,3.3v0.5L320.4,7.8z\"></path>\n",
       "</g>\n",
       "</svg>\n",
       "<span>Northeastern University</span>\n",
       "</div>\n",
       "<nav class=\"footer-nav\">\n",
       "<ul class=\"menu menu-horizontal menu-action\" id=\"menu-action\"><li class=\"menu-item menu-item-type-post_type menu-item-object-page menu-item-has-children menu-item-412\" id=\"menu-item-412\"><a href=\"https://www.khoury.northeastern.edu/apply/\">Apply</a></li>\n",
       "<li class=\"menu-item menu-item-type-post_type menu-item-object-page menu-item-411\" id=\"menu-item-411\"><a href=\"https://www.khoury.northeastern.edu/inquire/\">Inquire</a></li>\n",
       "<li class=\"menu-item menu-item-type-post_type menu-item-object-page menu-item-410\" id=\"menu-item-410\"><a href=\"https://www.khoury.northeastern.edu/alumni-and-friends/give/\">Give</a></li>\n",
       "</ul><ul class=\"menu menu-horizontal\" id=\"menu-contact\"><li class=\"menu-item menu-item-type-custom menu-item-object-custom menu-item-has-children menu-item-3010\"><a href=\"#\" rel=\"nofollow\">Contact – Parent</a>\n",
       "<ul class=\"sub-menu\">\n",
       "<li class=\"menu-item menu-item-type-post_type menu-item-object-page menu-item-4598\"><a href=\"https://www.khoury.northeastern.edu/directions-and-parking/\">Directions &amp; Parking</a></li>\n",
       "<li class=\"menu-item menu-item-type-post_type menu-item-object-page menu-item-2530\"><a href=\"https://www.khoury.northeastern.edu/facilities/\">Facilities</a></li>\n",
       "<li class=\"menu-item menu-item-type-post_type menu-item-object-page menu-item-has-children menu-item-5831\"><a href=\"https://www.khoury.northeastern.edu/systems/\">Systems</a></li>\n",
       "<li class=\"menu-item menu-item-type-post_type menu-item-object-page menu-item-has-children menu-item-4627\"><a href=\"https://www.khoury.northeastern.edu/about/\">About</a></li>\n",
       "<li class=\"menu-item menu-item-type-custom menu-item-object-custom menu-item-6161\"><a href=\"https://www.ccis.northeastern.edu/events/\">Events</a></li>\n",
       "<li class=\"menu-item menu-item-type-post_type menu-item-object-page current_page_parent menu-item-4629\"><a href=\"https://www.khoury.northeastern.edu/news/\">News</a></li>\n",
       "</ul>\n",
       "</li>\n",
       "</ul><ul class=\"menu menu-horizontal\" id=\"menu-social\"><li class=\"menu-item menu-item-type-custom menu-item-object-custom menu-item-379\" id=\"menu-item-379\"><a href=\"https://www.youtube.com/channel/UChz4r4VXwPxTqx083Am0IeQ\">Youtube</a></li>\n",
       "<li class=\"menu-item menu-item-type-custom menu-item-object-custom menu-item-380\" id=\"menu-item-380\"><a href=\"http://www.twitter.com/khourycollege\">Twitter</a></li>\n",
       "<li class=\"menu-item menu-item-type-custom menu-item-object-custom menu-item-381\" id=\"menu-item-381\"><a href=\"https://www.linkedin.com/groups/1943637\">LinkedIn</a></li>\n",
       "<li class=\"menu-item menu-item-type-custom menu-item-object-custom menu-item-383\" id=\"menu-item-383\"><a href=\"http://www.instagram.com/khourycollege\">Instagram</a></li>\n",
       "<li class=\"menu-item menu-item-type-custom menu-item-object-custom menu-item-382\" id=\"menu-item-382\"><a href=\"http://www.facebook.com/khourycollege\">Facebook</a></li>\n",
       "</ul> </nav>\n",
       "</div><!-- / #menu-prefooter -->\n",
       "</div><!-- / .container -->\n",
       "<div id=\"menu-footer-area\">\n",
       "<div class=\"container\">\n",
       "<div class=\"row\">\n",
       "<div class=\"footer-logo\">\n",
       "<a href=\"http://www.northeastern.edu\" target=\"_blank\">\n",
       "<!-- northeastern wordmark only -->\n",
       "<svg id=\"nu_logo\" style=\"enable-background:new 0 0 500 50;\" version=\"1.1\" viewbox=\"0 0 500 50\" x=\"0px\" xml:space=\"preserve\" xmlns=\"http://www.w3.org/2000/svg\" xmlns:xlink=\"http://www.w3.org/1999/xlink\" y=\"0px\">\n",
       "<style type=\"text/css\"> .st2{fill:#FFFFFF;}</style>\n",
       "<g class=\"st2\">\n",
       "<path d=\"M321.472,1.443v1.151c-5.079,0.367-5.079,3.037-5.079,7.328v9.788c0,4.554,0,6.805-1.36,9.318 c-1.833,3.348-5.968,5.967-12.196,5.967c-7.171,0-10.364-3.089-11.726-5.078c-1.727-2.565-1.727-4.973-1.727-10.835v-8.899 c0-7.014-0.052-7.59-4.658-7.59h-0.786V1.443h14.97v1.151c-5.181,0-5.338,0-5.338,7.486v9.159c0,4.973,0,7.747,1.308,9.945 c1.204,2.042,4.082,4.084,9.055,4.084c3.35,0,7.486-1.204,9.737-4.711c1.464-2.25,1.464-4.658,1.464-9.055V9.452 c0-4.188,0-6.491-5.285-6.858V1.443H321.472z\"></path>\n",
       "<path d=\"M327.174,12.592c0.417,1.204,0.626,3.245,0.68,4.344c2.668-2.931,5.025-4.344,8.06-4.344 c4.816,0,6.543,3.349,6.543,6.856v7.747c0,5.705,0,6.018,3.454,6.018v1.152h-10.731v-1.152c3.613,0,3.613-0.313,3.613-6.018v-6.752 c0-4.763-1.675-6.282-4.24-6.282c-2.985,0-4.921,2.513-6.7,4.502v8.532c0,5.653,0,6.018,3.454,6.018v1.152h-10.573v-1.152 c3.454,0,3.454-0.313,3.454-6.018v-6.23c0-5.705,0-6.019-3.454-6.019v-1.152c2.146-0.314,4.868-0.838,5.757-1.204H327.174z\"></path>\n",
       "<path d=\"M355.591,29.236c0,3.352,0.315,3.978,2.879,3.978h0.786v1.152h-11.149v-1.152h0.889 c2.67,0,3.193-0.418,3.193-3.978v-8.374c0-5.705-0.313-5.757-4.082-5.757v-1.152c1.57-0.052,4.764-0.732,6.962-1.36h0.523V29.236z\"></path>\n",
       "<circle cx=\"353.371\" cy=\"5.968\" r=\"2.261\"></circle>\n",
       "<path d=\"M371.136,35.204l-7.432-16.75c-1.362-3.036-1.884-3.769-3.821-3.874v-1.152h9.422v1.152 c-1.362,0-2.67,0-2.67,1.256c0,0.209,0.052,0.576,0.575,1.78l6.072,13.661l5.079-11.358c0.732-1.675,1.203-2.827,1.203-3.507 c0-1.57-1.623-1.781-2.565-1.833v-1.152h7.065v1.152c-2.198,0.157-3.035,2.094-4.658,5.653l-6.804,14.97H371.136z\"></path>\n",
       "<path d=\"M388.669,21.438c-0.054,0.472-0.105,1.204-0.105,1.57c0,6.647,2.094,10.836,7.171,10.836 c2.931,0,5.287-1.309,6.752-4.189h1.204c-1.308,3.455-4.397,5.549-8.637,5.549c-5.863,0-10.731-4.397-10.731-11.149 c0-6.491,4.24-11.463,10.521-11.463c5.915,0,8.9,3.873,9.055,8.845H388.669z M388.775,20.392h11.201 c-0.054-2.461-0.734-6.648-5.235-6.648C390.606,13.743,389.036,17.512,388.775,20.392z\"></path>\n",
       "<path d=\"M414.107,27.196c0,5.339,0,6.018,3.087,6.018h0.734v1.152H406.83v-1.152c3.612,0,3.612-0.208,3.612-6.018 v-5.915c0-5.811,0-6.019-3.612-6.019V14.11c2.355-0.314,5.077-1.152,5.915-1.414l0.367-0.104c0.261,0.837,0.734,2.513,0.734,5.495 c1.621-3.873,5.39-5.495,8.059-5.495c2.724,0,4.032,1.936,4.032,3.193c0,0.941-0.682,1.884-1.781,1.884 c-1.151,0-1.727-0.785-2.04-1.674c-0.211-0.576-0.628-1.57-1.833-1.57c-2.094,0-6.176,2.513-6.176,7.851V27.196z\"></path>\n",
       "<path d=\"M427.871,28.138h0.993c0.524,2.513,2.355,5.914,7.173,5.914c4.344,0,4.868-2.668,4.868-3.715 c0-2.565-2.722-3.769-6.02-4.973c-4.816-1.779-6.962-3.297-6.962-6.962c0-2.668,1.99-5.809,6.7-5.809 c2.459,0,4.24,0.994,5.444,2.198c0.417-0.471,0.941-1.727,0.993-1.833h0.943v6.491h-0.943c-0.471-2.407-2.565-5.705-6.28-5.705 c-3.404,0-4.555,1.675-4.555,3.194c0,2.46,1.988,3.349,5.811,4.71c4.186,1.467,7.379,3.194,7.379,7.381 c0,3.56-2.565,6.176-7.327,6.176c-3.089,0-4.921-1.204-6.124-2.356c-0.524,0.577-0.995,1.675-1.1,2.147h-0.993V28.138z\"></path>\n",
       "<path d=\"M454.25,29.236c0,3.352,0.313,3.978,2.878,3.978h0.786v1.152h-11.149v-1.152h0.889 c2.67,0,3.194-0.418,3.194-3.978v-8.374c0-5.705-0.315-5.757-4.084-5.757v-1.152c1.57-0.052,4.764-0.732,6.962-1.36h0.524V29.236z\"></path>\n",
       "<circle cx=\"452.055\" cy=\"5.968\" r=\"2.261\"></circle>\n",
       "<path d=\"M466.601,14.581v12.667c0,2.879,0,6.178,3.141,6.178c1.779,0,2.722-1.415,3.193-2.095l0.786,0.472 c-1.623,3.402-4.973,3.402-5.34,3.402c-1.464,0-2.616-0.315-3.454-0.994c-1.362-1.048-1.988-2.984-1.988-6.072V14.581H459.9v-1.152 c2.303-0.105,5.077-1.622,5.863-6.543h0.837v6.543h6.333v1.152H466.601z\"></path>\n",
       "<path d=\"M493.765,17.983c0.365-0.838,0.732-1.622,0.732-2.041c0-1.099-1.884-1.361-2.826-1.361v-1.152H499v1.152 c-2.618,0.157-3.142,1.466-4.449,4.606l-9.319,22.508c-1.362,3.245-2.616,5.548-4.658,5.548c-0.838,0-1.621-0.524-1.621-1.518 c0-1.727,1.727-2.513,2.668-2.931c1.781-0.786,2.357-1.099,3.089-2.931l1.988-4.973l-7.851-16.854 c-1.204-2.565-1.621-3.403-4.082-3.455v-1.152h9.63v1.152c-1.308,0.105-2.565,0.157-2.565,1.047c0,0.419,0.628,1.728,0.995,2.565 l5.757,12.248L493.765,17.983z\"></path>\n",
       "<path d=\"M7.857,4.245v23.449c0,3.455,0.732,5.392,6.071,5.549v1.151H1v-1.151c5.705-0.261,5.601-2.616,5.601-5.549 V9.741c0-6.648-0.366-7.119-5.129-7.119V1.472h9.421l19.629,26.066V7.595c0-2.775-0.366-4.921-5.915-4.973V1.472h12.562v1.151 c-5.077,0.471-5.391,2.251-5.391,5.338v27.218h-0.732L7.857,4.245z\"></path>\n",
       "<path d=\"M47.843,12.62c6.176,0,11.202,4.658,11.202,11.306c0,7.432-5.6,11.305-11.202,11.305 c-5.391,0-11.148-3.611-11.148-11.358C36.695,17.383,41.615,12.62,47.843,12.62z M47.843,33.976c4.816,0,6.962-3.297,6.962-9.892 c0-5.654-1.518-10.208-6.962-10.208c-5.286,0-6.909,4.45-6.909,10.155C40.934,30.73,43.081,33.976,47.843,33.976z\"></path>\n",
       "<path d=\"M68.36,27.223c0,5.338,0,6.019,3.088,6.019h0.732v1.151H61.084v-1.151c3.612,0,3.612-0.209,3.612-6.019v-5.915 c0-5.81,0-6.019-3.612-6.019v-1.152c2.356-0.314,5.078-1.152,5.915-1.413l0.366-0.105c0.262,0.837,0.733,2.512,0.733,5.495 c1.623-3.873,5.391-5.495,8.061-5.495c2.721,0,4.03,1.936,4.03,3.193c0,0.942-0.68,1.884-1.779,1.884 c-1.152,0-1.727-0.785-2.042-1.674c-0.209-0.575-0.628-1.57-1.832-1.57c-2.094,0-6.176,2.513-6.176,7.851V27.223z\"></path>\n",
       "<path d=\"M88.668,14.609v12.667c0,2.879,0,6.176,3.14,6.176c1.779,0,2.722-1.414,3.192-2.094l0.786,0.471 c-1.622,3.402-4.973,3.402-5.338,3.402c-1.466,0-2.618-0.315-3.455-0.994c-1.361-1.046-1.989-2.984-1.989-6.072V14.609h-3.036 v-1.152c2.303-0.104,5.077-1.621,5.862-6.543h0.838v6.543H95v1.152H88.668z\"></path>\n",
       "<path d=\"M119.548,27.223c0,5.758,0,6.019,3.558,6.019v1.151h-10.834v-1.151c3.611,0,3.611-0.261,3.611-6.019v-6.752 c0-4.869-1.465-6.281-4.554-6.281c-2.408,0-4.71,2.46-6.385,4.606v8.426c0,5.6,0,6.019,3.298,6.019v1.151H97.617v-1.151 c3.664,0,3.664-0.209,3.664-6.019V8.118c0-3.664,0-4.868-3.454-4.868V2.1c2.145,0,5.025-0.472,6.699-1.1h0.366v15.964 c2.617-2.774,4.92-4.344,7.642-4.344c4.658,0,7.014,2.46,7.014,7.223V27.223z\"></path>\n",
       "<path d=\"M128.287,21.465c-0.053,0.472-0.105,1.205-0.105,1.57c0,6.648,2.094,10.835,7.171,10.835 c2.931,0,5.287-1.309,6.753-4.188h1.203c-1.308,3.454-4.396,5.548-8.635,5.548c-5.863,0-10.731-4.397-10.731-11.148 c0-6.491,4.24-11.463,10.521-11.463c5.914,0,8.899,3.873,9.055,8.845H128.287z M128.392,20.418h11.2 c-0.052-2.46-0.732-6.647-5.234-6.647C130.224,13.772,128.654,17.54,128.392,20.418z\"></path>\n",
       "<path d=\"M167.367,30.573c-0.42,2.457-1.491,2.606-2.118,2.606c-1.623,0-1.651-1.15-1.651-4.752v-8.479 c0-3.089-0.399-7.328-7.623-7.328c-5.234,0-8.427,2.669-8.427,4.763c0,0.942,0.576,1.518,1.413,1.518 c1.361,0,1.885-0.995,2.199-2.146c0.365-1.414,1.151-2.983,4.501-2.983c3.925,0,4.396,2.513,4.396,5.6v1.308l-3.978,1.362 c-7.38,2.513-9.63,5.443-9.63,8.427c0,2.983,2.354,4.447,5.391,4.447c2.51,0,5.128-1.045,8.217-3.663 c0.262,1.256,0.942,3.663,4.011,3.663c2.879,0,4.136-1.987,4.24-4.343H167.367z M160.057,30.089 c-2.107,1.822-4.954,3.271-6.89,3.271c-2.221,0-3.302-1.609-3.302-3.54c0-2.895,2.733-5.523,7.174-6.971l3.018-0.963V30.089z\"></path>\n",
       "<path d=\"M170.439,28.165h0.994c0.523,2.513,2.355,5.914,7.171,5.914c4.345,0,4.867-2.668,4.867-3.715 c0-2.565-2.721-3.768-6.019-4.972c-4.815-1.779-6.962-3.297-6.962-6.962c0-2.668,1.99-5.809,6.7-5.809 c2.46,0,4.24,0.994,5.443,2.199c0.42-0.472,0.943-1.728,0.995-1.833h0.941v6.49h-0.941c-0.471-2.407-2.566-5.705-6.281-5.705 c-3.402,0-4.553,1.675-4.553,3.193c0,2.46,1.989,3.349,5.81,4.71c4.187,1.466,7.38,3.194,7.38,7.381c0,3.559-2.566,6.175-7.33,6.175 c-3.088,0-4.919-1.204-6.123-2.356c-0.523,0.577-0.993,1.675-1.098,2.147h-0.994V28.165z\"></path>\n",
       "<path d=\"M195.561,14.609v12.667c0,2.879,0,6.176,3.141,6.176c1.779,0,2.72-1.414,3.193-2.094l0.786,0.471 c-1.623,3.402-4.973,3.402-5.34,3.402c-1.466,0-2.616-0.315-3.454-0.994c-1.362-1.046-1.99-2.984-1.99-6.072V14.609h-3.035v-1.152 c2.303-0.104,5.077-1.621,5.863-6.543h0.837v6.543h6.334v1.152H195.561z\"></path>\n",
       "<path d=\"M208.226,21.465c-0.052,0.472-0.105,1.205-0.105,1.57c0,6.648,2.094,10.835,7.173,10.835 c2.93,0,5.285-1.309,6.751-4.188h1.204c-1.308,3.454-4.397,5.548-8.637,5.548c-5.861,0-10.731-4.397-10.731-11.148 c0-6.491,4.24-11.463,10.521-11.463c5.915,0,8.898,3.873,9.055,8.845H208.226z M208.332,20.418h11.201 c-0.054-2.46-0.734-6.647-5.235-6.647C210.163,13.772,208.593,17.54,208.332,20.418z\"></path>\n",
       "<path d=\"M233.034,27.223c0,5.338,0,6.019,3.089,6.019h0.734v1.151h-11.097v-1.151c3.613,0,3.613-0.209,3.613-6.019 v-5.915c0-5.81,0-6.019-3.613-6.019v-1.152c2.355-0.314,5.077-1.152,5.915-1.413l0.367-0.105c0.261,0.837,0.732,2.512,0.732,5.495 c1.623-3.873,5.39-5.495,8.06-5.495c2.722,0,4.03,1.936,4.03,3.193c0,0.942-0.678,1.884-1.779,1.884 c-1.151,0-1.727-0.785-2.04-1.674c-0.211-0.575-0.63-1.57-1.834-1.57c-2.092,0-6.176,2.513-6.176,7.851V27.223z\"></path>\n",
       "<path d=\"M253.133,12.62c0.417,1.204,0.628,3.245,0.68,4.344c2.668-2.931,5.024-4.344,8.06-4.344 c4.814,0,6.543,3.349,6.543,6.856v7.747c0,5.706,0,6.019,3.454,6.019v1.151H261.14v-1.151c3.611,0,3.611-0.313,3.611-6.019v-6.752 c0-4.763-1.675-6.281-4.238-6.281c-2.985,0-4.921,2.513-6.7,4.501v8.532c0,5.652,0,6.019,3.454,6.019v1.151h-10.573v-1.151 c3.454,0,3.454-0.313,3.454-6.019v-6.229c0-5.705,0-6.019-3.454-6.019v-1.152c2.147-0.314,4.868-0.838,5.757-1.204H253.133z\"></path>\n",
       "</g>\n",
       "</svg>\n",
       "<span>Khoury College of Computer and Information Sciences</span>\n",
       "</a>\n",
       "</div><!-- / .footer-logo -->\n",
       "<div class=\"footer-nav\">\n",
       "<nav class=\"menu-links-menu-container\" id=\"menu-footer\"><ul class=\"menu menu-horizontal\" id=\"menu-links-menu\"><li class=\"menu-item menu-item-type-custom menu-item-object-custom menu-item-377\" id=\"menu-item-377\"><a href=\"http://my.northeastern.edu/\">myNortheastern</a></li>\n",
       "<li class=\"menu-item menu-item-type-custom menu-item-object-custom menu-item-2809\" id=\"menu-item-2809\"><a href=\"https://prod-web.neu.edu/wasapp/employeelookup/public/main.action#_ga=1.152250297.1229401008.1453998512\">Find Faculty &amp; Staff</a></li>\n",
       "<li class=\"menu-item menu-item-type-custom menu-item-object-custom menu-item-2810\" id=\"menu-item-2810\"><a href=\"http://www.northeastern.edu/neuhome/adminlinks/findaz.html\">Find A-Z</a></li>\n",
       "<li class=\"menu-item menu-item-type-custom menu-item-object-custom menu-item-2811\" id=\"menu-item-2811\"><a href=\"http://www.northeastern.edu/emergency/index.html\">Emergency Information</a></li>\n",
       "<li class=\"menu-item menu-item-type-custom menu-item-object-custom menu-item-11292\" id=\"menu-item-11292\"><a href=\"https://www.northeastern.edu/privacy-information/\">Privacy</a></li>\n",
       "<li class=\"menu-item menu-item-type-custom menu-item-object-custom menu-item-378\" id=\"menu-item-378\"><a href=\"http://www.northeastern.edu/search/index.html\">Search</a></li>\n",
       "</ul></nav> <div class=\"copy\">\n",
       "<address><p>\n",
       "\t\t\t\t\t\t\t360 Huntington Ave. Boston, Massachusetts 02115\t\t\t\t\t\t\t<a class=\"tel\" href=\"tel:6173732000\">617.373.2000</a>\n",
       "<a class=\"tel\" href=\"tel:6173733768\">TTY: 617.373.3768</a>\n",
       "</p></address>\n",
       "<p>© 2019 Northeastern University\t\t\t\t\t\t\t\t\t\t</p></div><!-- / .copy -->\n",
       "</div><!-- / .footer-nav -->\n",
       "</div><!-- / .row -->\n",
       "</div><!-- / .container -->\n",
       "</div><!-- / #menu-footer -->\n",
       "</footer>\n",
       "<!-- as purely supplemental info, flyout is at the end. -->\n",
       "<aside id=\"flyout\">\n",
       "<h2 class=\"flyout-label\">Look<br/>\n",
       "Inside:<br/>\n",
       "People</h2>\n",
       "<div class=\"flyout-content\">\n",
       "<h3 class=\"flyout-title\">People</h3>\n",
       "<div class=\"main-content\">\n",
       "<h2>Scaling to meet growing demands</h2>\n",
       "<p>The rise of computer science begets the need for more—and more diverse—expertise. Khoury College answers the call with highly talented faculty and dedicated advisors, coordinators, and staff.</p>\n",
       "</div>\n",
       "<div class=\"row\">\n",
       "<div class=\"stripe-stat\">\n",
       "<div class=\"stat-item\"><h4>65%</h4><p>increase in tenure-track faculty over the past five years</p>\n",
       "</div><div class=\"stat-item\"><h4>27%</h4><p>of current tenure-track faculty are interdisciplinary with other colleges</p>\n",
       "</div> </div>\n",
       "</div>\n",
       "<div class=\"row\">\n",
       "<div class=\"stripe-image\">\n",
       "<img alt=\"\" src=\"https://www.khoury.northeastern.edu/wp-content/uploads/2018/11/CCIS_interdisciplinary_faculty_2018.png\"/> </div>\n",
       "</div>\n",
       "<div class=\"row\">\n",
       "<div class=\"stripe-text\">\n",
       "<p>“I joined CCIS to be at a place on the rise. There is an enormous opportunity for collaboration with highly motivated, smart faculty looking to do interesting, relevant work—and not caring about individual credit or traditional boundaries. We all want to be part of making something great.”<br/>\n",
       "<em>-David Choffnes, Assistant Professor</em></p>\n",
       "</div>\n",
       "</div>\n",
       "</div>\n",
       "</aside>\n",
       "<script type=\"text/javascript\">\n",
       "\t_linkedin_data_partner_id = \"8239\";\n",
       "\t</script><script type=\"text/javascript\">\n",
       "\t(function(){var s = document.getElementsByTagName(\"script\")[0];\n",
       "\tvar b = document.createElement(\"script\");\n",
       "\tb.type = \"text/javascript\";b.async = true;\n",
       "\tb.src = \"https://snap.licdn.com/li.lms-analytics/insight.min.js\";\n",
       "\ts.parentNode.insertBefore(b, s);})();\n",
       "\t</script>\n",
       "<noscript>\n",
       "<img alt=\"\" height=\"1\" src=\"https://dc.ads.linkedin.com/collect/?pid=8239&amp;fmt=gif\" style=\"display:none;\" width=\"1\"/>\n",
       "</noscript>\n",
       "<script>\n",
       "\t\t( function ( body ) {\n",
       "\t\t\t'use strict';\n",
       "\t\t\tbody.className = body.className.replace( /\\btribe-no-js\\b/, 'tribe-js' );\n",
       "\t\t} )( document.body );\n",
       "\t\t</script>\n",
       "<script> /* <![CDATA[ */var tribe_l10n_datatables = {\"aria\":{\"sort_ascending\":\": activate to sort column ascending\",\"sort_descending\":\": activate to sort column descending\"},\"length_menu\":\"Show _MENU_ entries\",\"empty_table\":\"No data available in table\",\"info\":\"Showing _START_ to _END_ of _TOTAL_ entries\",\"info_empty\":\"Showing 0 to 0 of 0 entries\",\"info_filtered\":\"(filtered from _MAX_ total entries)\",\"zero_records\":\"No matching records found\",\"search\":\"Search:\",\"all_selected_text\":\"All items on this page were selected. \",\"select_all_link\":\"Select all pages\",\"clear_selection\":\"Clear Selection.\",\"pagination\":{\"all\":\"All\",\"next\":\"Next\",\"previous\":\"Previous\"},\"select\":{\"rows\":{\"0\":\"\",\"_\":\": Selected %d rows\",\"1\":\": Selected 1 row\"}},\"datepicker\":{\"dayNames\":[\"Sunday\",\"Monday\",\"Tuesday\",\"Wednesday\",\"Thursday\",\"Friday\",\"Saturday\"],\"dayNamesShort\":[\"Sun\",\"Mon\",\"Tue\",\"Wed\",\"Thu\",\"Fri\",\"Sat\"],\"dayNamesMin\":[\"S\",\"M\",\"T\",\"W\",\"T\",\"F\",\"S\"],\"monthNames\":[\"January\",\"February\",\"March\",\"April\",\"May\",\"June\",\"July\",\"August\",\"September\",\"October\",\"November\",\"December\"],\"monthNamesShort\":[\"January\",\"February\",\"March\",\"April\",\"May\",\"June\",\"July\",\"August\",\"September\",\"October\",\"November\",\"December\"],\"monthNamesMin\":[\"Jan\",\"Feb\",\"Mar\",\"Apr\",\"May\",\"Jun\",\"Jul\",\"Aug\",\"Sep\",\"Oct\",\"Nov\",\"Dec\"],\"nextText\":\"Next\",\"prevText\":\"Prev\",\"currentText\":\"Today\",\"closeText\":\"Done\",\"today\":\"Today\",\"clear\":\"Clear\"}};/* ]]> */ </script><script src=\"https://www.khoury.northeastern.edu/wp-content/plugins/the-events-calendar/common/src/resources/js/tribe-common.min.js?ver=4.9.16\" type=\"text/javascript\"></script>\n",
       "<script src=\"https://www.khoury.northeastern.edu/wp-content/plugins/the-events-calendar/common/src/resources/js/tooltip.min.js?ver=4.9.16\" type=\"text/javascript\"></script>\n",
       "<script src=\"https://www.khoury.northeastern.edu/wp-content/themes/ccis_theme/prod/prod.js?ver=5.2.4\" type=\"text/javascript\"></script>\n",
       "<script src=\"https://www.khoury.northeastern.edu/wp-includes/js/wp-embed.min.js?ver=5.2.4\" type=\"text/javascript\"></script>\n",
       "</body>\n",
       "</html>"
      ]
     },
     "execution_count": 6,
     "metadata": {},
     "output_type": "execute_result"
    }
   ],
   "source": [
    "soup.html"
   ]
  },
  {
   "cell_type": "code",
   "execution_count": null,
   "metadata": {},
   "outputs": [],
   "source": [
    "soup.head"
   ]
  },
  {
   "cell_type": "code",
   "execution_count": null,
   "metadata": {},
   "outputs": [],
   "source": [
    "soup.body"
   ]
  },
  {
   "cell_type": "code",
   "execution_count": null,
   "metadata": {},
   "outputs": [],
   "source": [
    "soup.body.main"
   ]
  },
  {
   "cell_type": "code",
   "execution_count": null,
   "metadata": {
    "slideshow": {
     "slide_type": "subslide"
    }
   },
   "outputs": [],
   "source": [
    "soup.body.main.h1"
   ]
  },
  {
   "cell_type": "markdown",
   "metadata": {
    "slideshow": {
     "slide_type": "fragment"
    }
   },
   "source": [
    "* What if you wanted to retrieve the text contained in `<h1> </h1>`?"
   ]
  },
  {
   "cell_type": "markdown",
   "metadata": {
    "slideshow": {
     "slide_type": "subslide"
    }
   },
   "source": [
    "### 2.1. get_text() method\n",
    "* **`get_text()`** strips all tags from the webpage and returns a string containing the text inbetween the tags only.\n",
    "* Strips away all the tags and returns a tagless block of text\n"
   ]
  },
  {
   "cell_type": "code",
   "execution_count": null,
   "metadata": {},
   "outputs": [],
   "source": [
    "soup.body.main.h1.get_text()"
   ]
  },
  {
   "cell_type": "markdown",
   "metadata": {
    "slideshow": {
     "slide_type": "subslide"
    }
   },
   "source": [
    "### 2.1. get_text() method cont'd\n",
    "* Call .get_text() immediately before you print, store, or manipulate your final data\n",
    "* A lot easier to find what you’re looking for in a BeautifulSoup object than in a block of text\n",
    "* try to preserve the tag structure of a document as long as possible"
   ]
  },
  {
   "cell_type": "code",
   "execution_count": null,
   "metadata": {
    "slideshow": {
     "slide_type": "subslide"
    }
   },
   "outputs": [],
   "source": [
    "soup.body.main"
   ]
  },
  {
   "cell_type": "code",
   "execution_count": null,
   "metadata": {
    "slideshow": {
     "slide_type": "subslide"
    }
   },
   "outputs": [],
   "source": [
    "soup.body.main.get_text()"
   ]
  },
  {
   "cell_type": "markdown",
   "metadata": {
    "slideshow": {
     "slide_type": "subslide"
    }
   },
   "source": [
    "### 2.2. get() method\n",
    "* Retrieves an attribute of a tag\n",
    "* **tagName.get(\"attributeName\")**"
   ]
  },
  {
   "cell_type": "code",
   "execution_count": null,
   "metadata": {},
   "outputs": [],
   "source": [
    "soup.body.main.a"
   ]
  },
  {
   "cell_type": "code",
   "execution_count": null,
   "metadata": {},
   "outputs": [],
   "source": [
    "soup.body.main.a.get(\"href\")"
   ]
  },
  {
   "cell_type": "markdown",
   "metadata": {
    "slideshow": {
     "slide_type": "subslide"
    }
   },
   "source": [
    "### 2.3. attrs attribute\n",
    "* Returns a dictionary of the attributes of a tag\n",
    "* **tagName.attrs**"
   ]
  },
  {
   "cell_type": "code",
   "execution_count": null,
   "metadata": {},
   "outputs": [],
   "source": [
    "soup.body.main.a.attrs"
   ]
  },
  {
   "cell_type": "markdown",
   "metadata": {
    "slideshow": {
     "slide_type": "fragment"
    }
   },
   "source": [
    "* **attrs** can also be used to retrieve attributes of a tag:"
   ]
  },
  {
   "cell_type": "code",
   "execution_count": null,
   "metadata": {
    "slideshow": {
     "slide_type": "fragment"
    }
   },
   "outputs": [],
   "source": [
    "soup.body.main.a.attrs[\"href\"]"
   ]
  },
  {
   "cell_type": "code",
   "execution_count": null,
   "metadata": {},
   "outputs": [],
   "source": [
    "soup.body.main.a.get_text()"
   ]
  },
  {
   "cell_type": "markdown",
   "metadata": {
    "slideshow": {
     "slide_type": "subslide"
    }
   },
   "source": [
    "### 2.4. find() method\n",
    "* Allows you to search through an HTML page and find a specific tag\n",
    "* soup_name.find(\"tagName\")\n",
    "* Returns the first occurrence of the tag\n",
    "* Returns None if the tag/attribute does not exist"
   ]
  },
  {
   "cell_type": "code",
   "execution_count": null,
   "metadata": {},
   "outputs": [],
   "source": [
    "soup.find(\"title\")"
   ]
  },
  {
   "cell_type": "code",
   "execution_count": null,
   "metadata": {},
   "outputs": [],
   "source": [
    "soup.find(\"title\").get_text()"
   ]
  },
  {
   "cell_type": "markdown",
   "metadata": {
    "slideshow": {
     "slide_type": "skip"
    }
   },
   "source": [
    "<a id=\"3\"></a>"
   ]
  },
  {
   "cell_type": "markdown",
   "metadata": {
    "slideshow": {
     "slide_type": "slide"
    }
   },
   "source": [
    "## 3. Scraping Specific Tags from Webpages\n",
    "* **`find_all(tagName)`** returns **a list of all the tags** found within the page."
   ]
  },
  {
   "cell_type": "markdown",
   "metadata": {},
   "source": [
    "#### Lets' extract all the links found on the Khoury Faculty page\n",
    "* Links are placed in `<a>` tags \n",
    "* A typical link in HTML looks like this:\n",
    "    * Backend: `<a href=\"https://www.khoury.northeastern.edu/people/carla-brodley/\"> Carla E. Brodley </a>`\n",
    "    * Frontend: <a href=\"https://www.khoury.northeastern.edu/people/carla-brodley/\"> Carla E. Brodley </a>"
   ]
  },
  {
   "cell_type": "code",
   "execution_count": null,
   "metadata": {
    "slideshow": {
     "slide_type": "subslide"
    }
   },
   "outputs": [],
   "source": [
    "import urllib.request as urllib\n",
    "from bs4 import BeautifulSoup\n",
    "\n",
    "html = urllib.urlopen(\"https://www.khoury.northeastern.edu/role/tenured-and-tenure-track-faculty/\")\n",
    "soup = BeautifulSoup(html.read())\n",
    "\n",
    "a_tags = soup.find_all(\"a\")"
   ]
  },
  {
   "cell_type": "code",
   "execution_count": null,
   "metadata": {},
   "outputs": [],
   "source": [
    "a_tags"
   ]
  },
  {
   "cell_type": "code",
   "execution_count": null,
   "metadata": {},
   "outputs": [],
   "source": [
    "for link in a_tags:\n",
    "    if link.get('href').startswith(\"http\"):\n",
    "        print(link.get('href'))"
   ]
  },
  {
   "cell_type": "markdown",
   "metadata": {
    "slideshow": {
     "slide_type": "subslide"
    }
   },
   "source": [
    "* What if you justed wanted to scrape the hyperlinks, not email addresses or phone numbers?"
   ]
  },
  {
   "cell_type": "code",
   "execution_count": null,
   "metadata": {},
   "outputs": [],
   "source": []
  },
  {
   "cell_type": "code",
   "execution_count": null,
   "metadata": {
    "slideshow": {
     "slide_type": "subslide"
    }
   },
   "outputs": [],
   "source": [
    "for link in a_tags:\n",
    "    href = link.get(\"href\")\n",
    "    if href.startswith(\"https\"):\n",
    "        print(href)"
   ]
  },
  {
   "cell_type": "markdown",
   "metadata": {},
   "source": [
    "<a id=\"4\"></a>"
   ]
  },
  {
   "cell_type": "markdown",
   "metadata": {
    "slideshow": {
     "slide_type": "slide"
    }
   },
   "source": [
    "## 4. Scraping Web Pages by Tags and Attributes\n",
    "* Web pages use tags and attributes to style and format pages.\n",
    "* **`find_all()`** method allows you to search through a web page and extract useful information\n",
    "* findAll(tagName, tagAttributes)\n",
    "    * Looks through a tag’s descendants and retrieves all descendants that match your filters\n",
    "    * Returns None if the tag/attribute does not exist\n"
   ]
  },
  {
   "cell_type": "markdown",
   "metadata": {},
   "source": [
    "* Let's retrieve the faculty names from the page:"
   ]
  },
  {
   "cell_type": "markdown",
   "metadata": {
    "slideshow": {
     "slide_type": "subslide"
    }
   },
   "source": [
    "<img src=\"res/html_tree.png\" />"
   ]
  },
  {
   "cell_type": "code",
   "execution_count": null,
   "metadata": {
    "slideshow": {
     "slide_type": "subslide"
    }
   },
   "outputs": [],
   "source": [
    "import urllib.request as urllib\n",
    "from bs4 import BeautifulSoup\n",
    "\n",
    "html = urllib.urlopen(\"https://www.khoury.northeastern.edu/role/tenured-and-tenure-track-faculty/\")\n",
    "soup = BeautifulSoup(html.read())\n",
    "\n",
    "#retrieves all h3 tags with class = \"person-name\"\n",
    "faculty_list = soup.find_all(\"h3\", {\"class\":\"person-name\"})"
   ]
  },
  {
   "cell_type": "code",
   "execution_count": null,
   "metadata": {},
   "outputs": [],
   "source": [
    "faculty_list"
   ]
  },
  {
   "cell_type": "markdown",
   "metadata": {
    "slideshow": {
     "slide_type": "subslide"
    }
   },
   "source": [
    "### find_all() method calls\n",
    "* both retrieve all h3 tags with class = \"person-name\""
   ]
  },
  {
   "cell_type": "code",
   "execution_count": null,
   "metadata": {
    "slideshow": {
     "slide_type": "-"
    }
   },
   "outputs": [],
   "source": [
    "faculty_list = soup.find_all(\"h3\", {\"class\":\"person-name\"})"
   ]
  },
  {
   "cell_type": "code",
   "execution_count": null,
   "metadata": {},
   "outputs": [],
   "source": [
    "faculty_list = soup.find_all(\"h3\", class_=\"person-name\")"
   ]
  },
  {
   "cell_type": "markdown",
   "metadata": {
    "slideshow": {
     "slide_type": "subslide"
    }
   },
   "source": [
    "* Now that we have all h3 tags stored in a list, we can extract the text content contained in `<h3></h3>`\n",
    "* Use **get_text()**"
   ]
  },
  {
   "cell_type": "code",
   "execution_count": null,
   "metadata": {
    "slideshow": {
     "slide_type": "-"
    }
   },
   "outputs": [],
   "source": [
    "import urllib.request as urllib\n",
    "from bs4 import BeautifulSoup\n",
    "\n",
    "html = urllib.urlopen(\"https://www.khoury.northeastern.edu/role/tenured-and-tenure-track-faculty/\")\n",
    "soup = BeautifulSoup(html.read())\n",
    "\n",
    "#retrieves all h3 tags with class = \"person-name\"\n",
    "faculty_list = soup.find_all(\"h3\", {\"class\":\"person-name\"})\n",
    "\n",
    "#retrieves the text contained in each prof's h3 tag\n",
    "for prof in faculty_list:\n",
    "    print(prof.get_text().strip())"
   ]
  },
  {
   "cell_type": "markdown",
   "metadata": {
    "slideshow": {
     "slide_type": "skip"
    }
   },
   "source": [
    "<a id=\"5\"></a>"
   ]
  },
  {
   "cell_type": "markdown",
   "metadata": {
    "slideshow": {
     "slide_type": "slide"
    }
   },
   "source": [
    "  \n",
    "## 5. Scraping Child Tags under a Parent Tag\n",
    "* Let's create our own record of faculty names, titles, webpage links, and profile picture URLs"
   ]
  },
  {
   "cell_type": "markdown",
   "metadata": {},
   "source": [
    "<img src = \"res/parent_child_tags.png\" />"
   ]
  },
  {
   "cell_type": "markdown",
   "metadata": {
    "slideshow": {
     "slide_type": "subslide"
    }
   },
   "source": [
    "<center><img src = \"res/khoury_grid_item.png\" /></center>"
   ]
  },
  {
   "cell_type": "code",
   "execution_count": null,
   "metadata": {
    "slideshow": {
     "slide_type": "fragment"
    }
   },
   "outputs": [],
   "source": [
    "import urllib.request as urllib\n",
    "from bs4 import BeautifulSoup\n",
    "\n",
    "html = urllib.urlopen(\"https://www.khoury.northeastern.edu/role/tenured-and-tenure-track-faculty/\")\n",
    "soup = BeautifulSoup(html.read())\n",
    "\n",
    "#retrieves all <div class = \"grid-item\"> tags\n",
    "faculty_divs = soup.find_all(\"div\", class_=\"grid-item\")\n",
    "faculty_divs"
   ]
  },
  {
   "cell_type": "markdown",
   "metadata": {
    "slideshow": {
     "slide_type": "subslide"
    }
   },
   "source": [
    "### 5.1. Let's extract faculty names\n",
    "* All names are marked with `<h3 class = \"person-name\">`\n",
    "* Because there is one `<h3>` tag under `<div class = \"grid-item\">` we can use the **find()** method to scrape it\n",
    "* Need to call the **get_text()** on it to get the content\n",
    "* Also need to strip whitespace using **strip()**"
   ]
  },
  {
   "cell_type": "code",
   "execution_count": null,
   "metadata": {
    "scrolled": true,
    "slideshow": {
     "slide_type": "-"
    }
   },
   "outputs": [],
   "source": [
    "faculty_divs = soup.find_all(\"div\", class_=\"grid-item\")\n",
    "\n",
    "for prof in faculty_divs:\n",
    "    fname = prof.find(\"h3\").get_text().strip()\n",
    "    print(fname)"
   ]
  },
  {
   "cell_type": "markdown",
   "metadata": {
    "slideshow": {
     "slide_type": "subslide"
    }
   },
   "source": [
    "### 5.2. Similarly we can get the title of each faculty member\n",
    "* Retrieve the `<p class=\"position\"` tag under `<div class = \"grid-item\">`"
   ]
  },
  {
   "cell_type": "code",
   "execution_count": null,
   "metadata": {},
   "outputs": [],
   "source": [
    "faculty_divs = soup.find_all(\"div\", class_=\"grid-item\")\n",
    "\n",
    "for prof in faculty_divs:   \n",
    "    fname = prof.find(\"h3\").get_text().strip()\n",
    "    ftitle= prof.find(\"p\",\"position\").get_text().strip()\n",
    "    \n",
    "    print(fname)\n",
    "    print(ftitle)  \n"
   ]
  },
  {
   "cell_type": "markdown",
   "metadata": {
    "slideshow": {
     "slide_type": "subslide"
    }
   },
   "source": [
    "### 5.3. Can get the link to the faculty member's webpage\n",
    "* Retrieve the **`href`** attribute of the **`<a>`** tag under `<div class = \"grid-item\">`"
   ]
  },
  {
   "cell_type": "code",
   "execution_count": null,
   "metadata": {},
   "outputs": [],
   "source": [
    "faculty_divs = soup.find_all(\"div\", class_=\"grid-item\")\n",
    "\n",
    "for prof in faculty_divs:   \n",
    "    fname = prof.find(\"h3\").get_text().strip()\n",
    "    ftitle= prof.find(\"p\",\"position\").get_text().strip()\n",
    "    fpage = prof.find(\"a\").get(\"href\").strip()\n",
    "\n",
    "    print(fname)\n",
    "    print(ftitle)\n",
    "    print(fpage)"
   ]
  },
  {
   "cell_type": "markdown",
   "metadata": {
    "slideshow": {
     "slide_type": "subslide"
    }
   },
   "source": [
    "### 5.4. Can get the profile picture too\n",
    "* Retrieve the **`src`** attribute of the **`<img>`** tag under `<div class = \"grid-item\">`"
   ]
  },
  {
   "cell_type": "code",
   "execution_count": null,
   "metadata": {},
   "outputs": [],
   "source": [
    "faculty_divs = soup.find_all(\"div\", class_=\"grid-item\")\n",
    "\n",
    "for prof in faculty_divs:   \n",
    "    fname = prof.find(\"h3\").get_text().strip()\n",
    "    ftitle= prof.find(\"p\",\"position\").get_text().strip()\n",
    "    fpage = prof.find(\"a\").get(\"href\").strip()\n",
    "    fpic = prof.find(\"img\").get(\"src\").strip()\n",
    "\n",
    "    print(fname)\n",
    "    print(ftitle)\n",
    "    print(fpage)\n",
    "    print(fpic)"
   ]
  },
  {
   "cell_type": "markdown",
   "metadata": {
    "slideshow": {
     "slide_type": "skip"
    }
   },
   "source": [
    "<a id=\"6\"></a>"
   ]
  },
  {
   "cell_type": "markdown",
   "metadata": {
    "slideshow": {
     "slide_type": "slide"
    }
   },
   "source": [
    "## 6. Storing the Scraped Data\n",
    "* Most of the time, you'll want to store your scraped data in a file.\n",
    "* Consider using DataFrames for tabular data."
   ]
  },
  {
   "cell_type": "code",
   "execution_count": null,
   "metadata": {},
   "outputs": [],
   "source": [
    "import pandas as pd\n",
    "\n",
    "df = pd.DataFrame(columns = [\"Name\", \"Title\", \"Link\", \"Picture\"])\n",
    "df"
   ]
  },
  {
   "cell_type": "markdown",
   "metadata": {
    "slideshow": {
     "slide_type": "subslide"
    }
   },
   "source": [
    "### 6.1. Appending Rows to a DataFrame\n",
    "* Use append() method \n",
    "* Pass in a dictionary containing Column names and Values"
   ]
  },
  {
   "cell_type": "code",
   "execution_count": null,
   "metadata": {},
   "outputs": [],
   "source": [
    "df = df.append({\"Name\": \"Dumbledore\", \"Title\": \"Headmaster\", \"Link\":\"hogwarts.edu\", \n",
    "                \"Picture\":\"hogwarts.edu/dumby.png\"}, ignore_index=True)\n",
    "df"
   ]
  },
  {
   "cell_type": "code",
   "execution_count": null,
   "metadata": {},
   "outputs": [],
   "source": [
    "df = df.drop(0)"
   ]
  },
  {
   "cell_type": "code",
   "execution_count": null,
   "metadata": {},
   "outputs": [],
   "source": [
    "df"
   ]
  },
  {
   "cell_type": "code",
   "execution_count": null,
   "metadata": {
    "slideshow": {
     "slide_type": "subslide"
    }
   },
   "outputs": [],
   "source": [
    "faculty_divs = soup.find_all(\"div\", class_=\"grid-item\")\n",
    "\n",
    "for prof in faculty_divs:   \n",
    "    fname = prof.find(\"h3\").get_text().strip()\n",
    "    ftitle= prof.find(\"p\",\"position\").get_text().strip()\n",
    "    fpage = prof.find(\"a\").get(\"href\").strip()\n",
    "    fpic = prof.find(\"img\").get(\"src\").strip()\n",
    "    \n",
    "#appends the fields to their respective columns\n",
    "#note the curly braces \n",
    "    df = df.append({\"Name\":fname, \"Title\":ftitle, \"Link\":fpage, \"Picture\": fpic}, ignore_index=True)"
   ]
  },
  {
   "cell_type": "code",
   "execution_count": null,
   "metadata": {},
   "outputs": [],
   "source": [
    "df"
   ]
  },
  {
   "cell_type": "code",
   "execution_count": null,
   "metadata": {
    "slideshow": {
     "slide_type": "subslide"
    }
   },
   "outputs": [],
   "source": [
    "#displays first 5 rows\n",
    "df.head()"
   ]
  },
  {
   "cell_type": "code",
   "execution_count": null,
   "metadata": {},
   "outputs": [],
   "source": [
    "#displays last 5 rows\n",
    "df.tail()"
   ]
  },
  {
   "cell_type": "markdown",
   "metadata": {
    "slideshow": {
     "slide_type": "subslide"
    }
   },
   "source": [
    "### 6.2. Writing the DataFrame to CSV"
   ]
  },
  {
   "cell_type": "code",
   "execution_count": null,
   "metadata": {},
   "outputs": [],
   "source": [
    "df.to_csv(\"khoury_faculty.csv\")"
   ]
  },
  {
   "cell_type": "markdown",
   "metadata": {
    "slideshow": {
     "slide_type": "skip"
    }
   },
   "source": [
    "<a id=\"7\"></a>"
   ]
  },
  {
   "cell_type": "markdown",
   "metadata": {
    "slideshow": {
     "slide_type": "slide"
    }
   },
   "source": [
    "## 7. Web Crawling"
   ]
  },
  {
   "cell_type": "code",
   "execution_count": null,
   "metadata": {
    "slideshow": {
     "slide_type": "-"
    }
   },
   "outputs": [],
   "source": [
    "deanURL = \"https://www.khoury.northeastern.edu/people/carla-brodley/\"\n",
    "    \n",
    "dean_page = urllib.urlopen(deanURL)    \n",
    "page_soup = BeautifulSoup(dean_page.read())"
   ]
  },
  {
   "cell_type": "code",
   "execution_count": null,
   "metadata": {},
   "outputs": [],
   "source": [
    "page_soup"
   ]
  },
  {
   "cell_type": "markdown",
   "metadata": {
    "slideshow": {
     "slide_type": "subslide"
    }
   },
   "source": [
    "<img src = \"res/email.png\" />"
   ]
  },
  {
   "cell_type": "code",
   "execution_count": null,
   "metadata": {},
   "outputs": [],
   "source": []
  },
  {
   "cell_type": "code",
   "execution_count": null,
   "metadata": {
    "slideshow": {
     "slide_type": "-"
    }
   },
   "outputs": [],
   "source": [
    "deanURL = \"https://www.khoury.northeastern.edu/people/carla-brodley/\"\n",
    "\n",
    "#let's open the page\n",
    "dean_page = urllib.urlopen(deanURL)\n",
    "\n",
    "#creates a BeautifulSoup object containing the content of the page\n",
    "page_soup = BeautifulSoup(dean_page.read())\n",
    "\n",
    "#finds the p tage with class = \"contact-email\"\n",
    "email_container = page_soup.find(\"p\", class_=\"contact-email\")\n",
    "\n",
    "#finds the a tag the ithin the contact-email p tag and extracts the text(email address)\n",
    "email = email_container.find(\"a\").get_text()"
   ]
  },
  {
   "cell_type": "code",
   "execution_count": null,
   "metadata": {},
   "outputs": [],
   "source": [
    "email"
   ]
  },
  {
   "cell_type": "markdown",
   "metadata": {},
   "source": [
    "### Let's do this for everyone on the page!"
   ]
  },
  {
   "cell_type": "markdown",
   "metadata": {},
   "source": [
    "### 7.1. Web Crawling\n",
    "* Scrapers traversing multiple pages and even multiple sites\n",
    "* Web crawlers retrieve page contents for a URL, examine that page for another URL, and retrieve that page or some portions of it"
   ]
  },
  {
   "cell_type": "code",
   "execution_count": null,
   "metadata": {},
   "outputs": [],
   "source": [
    "import urllib.request as urllib\n",
    "from bs4 import BeautifulSoup\n",
    "import time\n",
    "import random\n",
    "\n",
    "#opens the faculty page\n",
    "html = urllib.urlopen(\"https://www.khoury.northeastern.edu/role/tenured-and-tenure-track-faculty/\")\n",
    "#turns the pag into a BeautifulSoup object\n",
    "soup = BeautifulSoup(html.read())\n",
    "\n",
    "#get all the content under <div class = \"grid-item\">\n",
    "faculty_divs = soup.find_all(\"div\", class_=\"grid-item\")\n",
    "\n",
    "#defines an empty list that will contain the email addressed crawled from faculty webpages\n",
    "emails = []\n",
    "\n",
    "for prof in faculty_divs[:3]:\n",
    "    \n",
    "    #gets faculty name for each prof\n",
    "    fname = prof.find(\"h3\").get_text().strip()\n",
    "    #gets the URL to their webpage\n",
    "    fpage = prof.find(\"a\").get(\"href\").strip()\n",
    "    \n",
    "    #opens the URL for each prof\n",
    "    fac_page = urllib.urlopen(fpage)    \n",
    "    #turns the URL for each prof into a BeautifulSoup object\n",
    "    page_soup = BeautifulSoup(fac_page.read())\n",
    "    \n",
    "    #closes the urllib connection so the website won't get mad at us\n",
    "    fac_page.close()\n",
    "    \n",
    "    #on the new page, finds the email container, <p class = \"contact_email\">\n",
    "    email_container = page_soup.find(\"p\", class_=\"contact-email\")\n",
    "    #gets the text for the <a> tage, the email address\n",
    "    email = email_container.find(\"a\").get_text()\n",
    "    \n",
    "    #appends the email to a list and displays it\n",
    "    emails.append(email)\n",
    "    print(email)\n",
    "    \n",
    "    #waits for a random number of seconds(2-5) before moving on to the next prof in the iterable\n",
    "    #done to avoid overwhelming the website and getting blocked as a bot\n",
    "    time.sleep(random.randint(2,6))\n",
    "\n",
    "print(\"\\n\\n\\nDone scraping the addresses\")"
   ]
  },
  {
   "cell_type": "code",
   "execution_count": null,
   "metadata": {},
   "outputs": [],
   "source": [
    "#displays the list of email addresses\n",
    "emails"
   ]
  },
  {
   "cell_type": "markdown",
   "metadata": {
    "slideshow": {
     "slide_type": "subslide"
    }
   },
   "source": [
    "#### Let's add these email addresses to our dataframe, df"
   ]
  },
  {
   "cell_type": "code",
   "execution_count": null,
   "metadata": {},
   "outputs": [],
   "source": [
    "df.head()"
   ]
  },
  {
   "cell_type": "code",
   "execution_count": null,
   "metadata": {},
   "outputs": [],
   "source": [
    "len(emails)"
   ]
  },
  {
   "cell_type": "code",
   "execution_count": null,
   "metadata": {},
   "outputs": [],
   "source": [
    "#we can add a new column\n",
    "df[\"Email\"] = emails"
   ]
  },
  {
   "cell_type": "code",
   "execution_count": null,
   "metadata": {
    "scrolled": true
   },
   "outputs": [],
   "source": [
    "df.head()"
   ]
  },
  {
   "cell_type": "markdown",
   "metadata": {},
   "source": [
    "<a id=\"8\"></a>"
   ]
  },
  {
   "cell_type": "markdown",
   "metadata": {
    "slideshow": {
     "slide_type": "fragment"
    }
   },
   "source": [
    "## 8. More on Web Scraping\n",
    "* **BeautifulSoup** Documentation: https://www.crummy.com/software/BeautifulSoup/bs4/doc/\n",
    "* **Selenium:** https://selenium-python.readthedocs.io/index.html\n",
    "    * Web automation and scraping; dynamic GET and POST requests; can interact with dynamic web pages, forms, etc.\n",
    "* **Scrapy:** https://scrapy.org/\n",
    "    * Optimized web crawling tasks"
   ]
  },
  {
   "cell_type": "code",
   "execution_count": null,
   "metadata": {
    "slideshow": {
     "slide_type": "fragment"
    }
   },
   "outputs": [],
   "source": []
  }
 ],
 "metadata": {
  "celltoolbar": "Slideshow",
  "kernelspec": {
   "display_name": "Python 3",
   "language": "python",
   "name": "python3"
  },
  "language_info": {
   "codemirror_mode": {
    "name": "ipython",
    "version": 3
   },
   "file_extension": ".py",
   "mimetype": "text/x-python",
   "name": "python",
   "nbconvert_exporter": "python",
   "pygments_lexer": "ipython3",
   "version": "3.7.3"
  }
 },
 "nbformat": 4,
 "nbformat_minor": 2
}
